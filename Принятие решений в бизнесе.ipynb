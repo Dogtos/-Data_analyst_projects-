{
 "cells": [
  {
   "cell_type": "markdown",
   "metadata": {},
   "source": [
    "# ПРОЕКТ 'ПРИНЯТИЕ РЕШЕНИЙ В БИЗНЕСЕ'"
   ]
  },
  {
   "cell_type": "markdown",
   "metadata": {},
   "source": [
    "Побудем в роли аналитика крупного интернет-магазина. Вместе с отделом маркетинга мы подготовили список гипотез для увеличения выручки.\n",
    "Приоритизируем гипотезы, запустим A/B-тест и проанализируем результаты. \n",
    "Для анализа выберем следующие метрики:\n",
    "- кумулятивную выручку по группам;\n",
    "- кумулятивный средний чека по группам;\n",
    "- относительное изменение кумулятивного среднего чека группы B к группе A;\n",
    "- относительное изменение кумулятивного среднего количества заказов на посетителя группы B к группе A;\n",
    "- точечный график количества заказов по пользователям;\n",
    "- точечный график стоимостей заказов;\n",
    "- статистическую значимость различий в среднем количестве заказов на посетителя между группами по «сырым» данным;\n",
    "- статистическую значимость различий в среднем чеке заказа между группами по «сырым» данным;\n",
    "- статистическую значимость различий в среднем чеке заказа между группами по «очищенным» данным.\n"
   ]
  },
  {
   "cell_type": "markdown",
   "metadata": {},
   "source": [
    "**Часть 1. Приоритизация гипотез.**"
   ]
  },
  {
   "cell_type": "code",
   "execution_count": 1,
   "metadata": {},
   "outputs": [],
   "source": [
    "# импортируем библиотеки\n",
    "import pandas as pd\n",
    "import matplotlib.pyplot as plt\n",
    "import numpy as np\n",
    "import seaborn as sns\n",
    "from datetime import datetime, timedelta\n",
    "import scipy.stats as stats"
   ]
  },
  {
   "cell_type": "code",
   "execution_count": 2,
   "metadata": {},
   "outputs": [],
   "source": [
    "data = pd.read_csv('/datasets/hypothesis.csv')"
   ]
  },
  {
   "cell_type": "code",
   "execution_count": 3,
   "metadata": {},
   "outputs": [
    {
     "data": {
      "text/html": [
       "<div>\n",
       "<style scoped>\n",
       "    .dataframe tbody tr th:only-of-type {\n",
       "        vertical-align: middle;\n",
       "    }\n",
       "\n",
       "    .dataframe tbody tr th {\n",
       "        vertical-align: top;\n",
       "    }\n",
       "\n",
       "    .dataframe thead th {\n",
       "        text-align: right;\n",
       "    }\n",
       "</style>\n",
       "<table border=\"1\" class=\"dataframe\">\n",
       "  <thead>\n",
       "    <tr style=\"text-align: right;\">\n",
       "      <th></th>\n",
       "      <th>Hypothesis</th>\n",
       "      <th>Reach</th>\n",
       "      <th>Impact</th>\n",
       "      <th>Confidence</th>\n",
       "      <th>Efforts</th>\n",
       "    </tr>\n",
       "  </thead>\n",
       "  <tbody>\n",
       "    <tr>\n",
       "      <th>0</th>\n",
       "      <td>Добавить два новых канала привлечения трафика, что позволит привлекать на 30% больше пользователей</td>\n",
       "      <td>3</td>\n",
       "      <td>10</td>\n",
       "      <td>8</td>\n",
       "      <td>6</td>\n",
       "    </tr>\n",
       "    <tr>\n",
       "      <th>1</th>\n",
       "      <td>Запустить собственную службу доставки, что сократит срок доставки заказов</td>\n",
       "      <td>2</td>\n",
       "      <td>5</td>\n",
       "      <td>4</td>\n",
       "      <td>10</td>\n",
       "    </tr>\n",
       "    <tr>\n",
       "      <th>2</th>\n",
       "      <td>Добавить блоки рекомендаций товаров на сайт интернет магазина, чтобы повысить конверсию и средний чек заказа</td>\n",
       "      <td>8</td>\n",
       "      <td>3</td>\n",
       "      <td>7</td>\n",
       "      <td>3</td>\n",
       "    </tr>\n",
       "    <tr>\n",
       "      <th>3</th>\n",
       "      <td>Изменить структура категорий, что увеличит конверсию, т.к. пользователи быстрее найдут нужный товар</td>\n",
       "      <td>8</td>\n",
       "      <td>3</td>\n",
       "      <td>3</td>\n",
       "      <td>8</td>\n",
       "    </tr>\n",
       "    <tr>\n",
       "      <th>4</th>\n",
       "      <td>Изменить цвет фона главной страницы, чтобы увеличить вовлеченность пользователей</td>\n",
       "      <td>3</td>\n",
       "      <td>1</td>\n",
       "      <td>1</td>\n",
       "      <td>1</td>\n",
       "    </tr>\n",
       "    <tr>\n",
       "      <th>5</th>\n",
       "      <td>Добавить страницу отзывов клиентов о магазине, что позволит увеличить количество заказов</td>\n",
       "      <td>3</td>\n",
       "      <td>2</td>\n",
       "      <td>2</td>\n",
       "      <td>3</td>\n",
       "    </tr>\n",
       "    <tr>\n",
       "      <th>6</th>\n",
       "      <td>Показать на главной странице баннеры с актуальными акциями и распродажами, чтобы увеличить конверсию</td>\n",
       "      <td>5</td>\n",
       "      <td>3</td>\n",
       "      <td>8</td>\n",
       "      <td>3</td>\n",
       "    </tr>\n",
       "    <tr>\n",
       "      <th>7</th>\n",
       "      <td>Добавить форму подписки на все основные страницы, чтобы собрать базу клиентов для email-рассылок</td>\n",
       "      <td>10</td>\n",
       "      <td>7</td>\n",
       "      <td>8</td>\n",
       "      <td>5</td>\n",
       "    </tr>\n",
       "    <tr>\n",
       "      <th>8</th>\n",
       "      <td>Запустить акцию, дающую скидку на товар в день рождения</td>\n",
       "      <td>1</td>\n",
       "      <td>9</td>\n",
       "      <td>9</td>\n",
       "      <td>5</td>\n",
       "    </tr>\n",
       "  </tbody>\n",
       "</table>\n",
       "</div>"
      ],
      "text/plain": [
       "                                                                                                     Hypothesis  \\\n",
       "0            Добавить два новых канала привлечения трафика, что позволит привлекать на 30% больше пользователей   \n",
       "1                                     Запустить собственную службу доставки, что сократит срок доставки заказов   \n",
       "2  Добавить блоки рекомендаций товаров на сайт интернет магазина, чтобы повысить конверсию и средний чек заказа   \n",
       "3           Изменить структура категорий, что увеличит конверсию, т.к. пользователи быстрее найдут нужный товар   \n",
       "4                              Изменить цвет фона главной страницы, чтобы увеличить вовлеченность пользователей   \n",
       "5                      Добавить страницу отзывов клиентов о магазине, что позволит увеличить количество заказов   \n",
       "6          Показать на главной странице баннеры с актуальными акциями и распродажами, чтобы увеличить конверсию   \n",
       "7              Добавить форму подписки на все основные страницы, чтобы собрать базу клиентов для email-рассылок   \n",
       "8                                                       Запустить акцию, дающую скидку на товар в день рождения   \n",
       "\n",
       "   Reach  Impact  Confidence  Efforts  \n",
       "0      3      10           8        6  \n",
       "1      2       5           4       10  \n",
       "2      8       3           7        3  \n",
       "3      8       3           3        8  \n",
       "4      3       1           1        1  \n",
       "5      3       2           2        3  \n",
       "6      5       3           8        3  \n",
       "7     10       7           8        5  \n",
       "8      1       9           9        5  "
      ]
     },
     "execution_count": 3,
     "metadata": {},
     "output_type": "execute_result"
    }
   ],
   "source": [
    "pd.options.display.max_colwidth = 150\n",
    "data"
   ]
  },
  {
   "cell_type": "code",
   "execution_count": 4,
   "metadata": {},
   "outputs": [
    {
     "name": "stdout",
     "output_type": "stream",
     "text": [
      "<class 'pandas.core.frame.DataFrame'>\n",
      "RangeIndex: 9 entries, 0 to 8\n",
      "Data columns (total 5 columns):\n",
      " #   Column      Non-Null Count  Dtype \n",
      "---  ------      --------------  ----- \n",
      " 0   Hypothesis  9 non-null      object\n",
      " 1   Reach       9 non-null      int64 \n",
      " 2   Impact      9 non-null      int64 \n",
      " 3   Confidence  9 non-null      int64 \n",
      " 4   Efforts     9 non-null      int64 \n",
      "dtypes: int64(4), object(1)\n",
      "memory usage: 488.0+ bytes\n"
     ]
    }
   ],
   "source": [
    "data.info()"
   ]
  },
  {
   "cell_type": "code",
   "execution_count": 5,
   "metadata": {},
   "outputs": [],
   "source": [
    "data.columns = data.columns.str.lower()"
   ]
  },
  {
   "cell_type": "markdown",
   "metadata": {},
   "source": [
    "1. Применим фреймворк ICE для приоритизации гипотез. Отсортируем их по убыванию приоритета.\n",
    "2. Применим фреймворк RICE для приоритизации гипотез. Отсортируем их по убыванию приоритета.\n",
    "3. Укажем, как изменилась приоритизация гипотез при применении RICE вместо ICE. Объясним, почему так произошло."
   ]
  },
  {
   "cell_type": "markdown",
   "metadata": {},
   "source": [
    "**1. Применим фреймворк ICE для приоритизации гипотез. Отсортируем их по убыванию приоритета.**"
   ]
  },
  {
   "cell_type": "code",
   "execution_count": 6,
   "metadata": {},
   "outputs": [
    {
     "data": {
      "text/html": [
       "<div>\n",
       "<style scoped>\n",
       "    .dataframe tbody tr th:only-of-type {\n",
       "        vertical-align: middle;\n",
       "    }\n",
       "\n",
       "    .dataframe tbody tr th {\n",
       "        vertical-align: top;\n",
       "    }\n",
       "\n",
       "    .dataframe thead th {\n",
       "        text-align: right;\n",
       "    }\n",
       "</style>\n",
       "<table border=\"1\" class=\"dataframe\">\n",
       "  <thead>\n",
       "    <tr style=\"text-align: right;\">\n",
       "      <th></th>\n",
       "      <th>hypothesis</th>\n",
       "      <th>reach</th>\n",
       "      <th>impact</th>\n",
       "      <th>confidence</th>\n",
       "      <th>efforts</th>\n",
       "      <th>ice</th>\n",
       "    </tr>\n",
       "  </thead>\n",
       "  <tbody>\n",
       "    <tr>\n",
       "      <th>8</th>\n",
       "      <td>Запустить акцию, дающую скидку на товар в день рождения</td>\n",
       "      <td>1</td>\n",
       "      <td>9</td>\n",
       "      <td>9</td>\n",
       "      <td>5</td>\n",
       "      <td>16.20</td>\n",
       "    </tr>\n",
       "    <tr>\n",
       "      <th>0</th>\n",
       "      <td>Добавить два новых канала привлечения трафика, что позволит привлекать на 30% больше пользователей</td>\n",
       "      <td>3</td>\n",
       "      <td>10</td>\n",
       "      <td>8</td>\n",
       "      <td>6</td>\n",
       "      <td>13.33</td>\n",
       "    </tr>\n",
       "    <tr>\n",
       "      <th>7</th>\n",
       "      <td>Добавить форму подписки на все основные страницы, чтобы собрать базу клиентов для email-рассылок</td>\n",
       "      <td>10</td>\n",
       "      <td>7</td>\n",
       "      <td>8</td>\n",
       "      <td>5</td>\n",
       "      <td>11.20</td>\n",
       "    </tr>\n",
       "    <tr>\n",
       "      <th>6</th>\n",
       "      <td>Показать на главной странице баннеры с актуальными акциями и распродажами, чтобы увеличить конверсию</td>\n",
       "      <td>5</td>\n",
       "      <td>3</td>\n",
       "      <td>8</td>\n",
       "      <td>3</td>\n",
       "      <td>8.00</td>\n",
       "    </tr>\n",
       "    <tr>\n",
       "      <th>2</th>\n",
       "      <td>Добавить блоки рекомендаций товаров на сайт интернет магазина, чтобы повысить конверсию и средний чек заказа</td>\n",
       "      <td>8</td>\n",
       "      <td>3</td>\n",
       "      <td>7</td>\n",
       "      <td>3</td>\n",
       "      <td>7.00</td>\n",
       "    </tr>\n",
       "    <tr>\n",
       "      <th>1</th>\n",
       "      <td>Запустить собственную службу доставки, что сократит срок доставки заказов</td>\n",
       "      <td>2</td>\n",
       "      <td>5</td>\n",
       "      <td>4</td>\n",
       "      <td>10</td>\n",
       "      <td>2.00</td>\n",
       "    </tr>\n",
       "    <tr>\n",
       "      <th>5</th>\n",
       "      <td>Добавить страницу отзывов клиентов о магазине, что позволит увеличить количество заказов</td>\n",
       "      <td>3</td>\n",
       "      <td>2</td>\n",
       "      <td>2</td>\n",
       "      <td>3</td>\n",
       "      <td>1.33</td>\n",
       "    </tr>\n",
       "    <tr>\n",
       "      <th>3</th>\n",
       "      <td>Изменить структура категорий, что увеличит конверсию, т.к. пользователи быстрее найдут нужный товар</td>\n",
       "      <td>8</td>\n",
       "      <td>3</td>\n",
       "      <td>3</td>\n",
       "      <td>8</td>\n",
       "      <td>1.12</td>\n",
       "    </tr>\n",
       "    <tr>\n",
       "      <th>4</th>\n",
       "      <td>Изменить цвет фона главной страницы, чтобы увеличить вовлеченность пользователей</td>\n",
       "      <td>3</td>\n",
       "      <td>1</td>\n",
       "      <td>1</td>\n",
       "      <td>1</td>\n",
       "      <td>1.00</td>\n",
       "    </tr>\n",
       "  </tbody>\n",
       "</table>\n",
       "</div>"
      ],
      "text/plain": [
       "                                                                                                     hypothesis  \\\n",
       "8                                                       Запустить акцию, дающую скидку на товар в день рождения   \n",
       "0            Добавить два новых канала привлечения трафика, что позволит привлекать на 30% больше пользователей   \n",
       "7              Добавить форму подписки на все основные страницы, чтобы собрать базу клиентов для email-рассылок   \n",
       "6          Показать на главной странице баннеры с актуальными акциями и распродажами, чтобы увеличить конверсию   \n",
       "2  Добавить блоки рекомендаций товаров на сайт интернет магазина, чтобы повысить конверсию и средний чек заказа   \n",
       "1                                     Запустить собственную службу доставки, что сократит срок доставки заказов   \n",
       "5                      Добавить страницу отзывов клиентов о магазине, что позволит увеличить количество заказов   \n",
       "3           Изменить структура категорий, что увеличит конверсию, т.к. пользователи быстрее найдут нужный товар   \n",
       "4                              Изменить цвет фона главной страницы, чтобы увеличить вовлеченность пользователей   \n",
       "\n",
       "   reach  impact  confidence  efforts    ice  \n",
       "8      1       9           9        5  16.20  \n",
       "0      3      10           8        6  13.33  \n",
       "7     10       7           8        5  11.20  \n",
       "6      5       3           8        3   8.00  \n",
       "2      8       3           7        3   7.00  \n",
       "1      2       5           4       10   2.00  \n",
       "5      3       2           2        3   1.33  \n",
       "3      8       3           3        8   1.12  \n",
       "4      3       1           1        1   1.00  "
      ]
     },
     "execution_count": 6,
     "metadata": {},
     "output_type": "execute_result"
    }
   ],
   "source": [
    "data['ice'] = (data['impact'] * data['confidence']/data['efforts']).round(2)\n",
    "data.sort_values(by='ice',ascending=False)"
   ]
  },
  {
   "cell_type": "markdown",
   "metadata": {},
   "source": [
    "**2. Применим фреймворк RICE для приоритизации гипотез. Отсортируем их по убыванию приоритета.**"
   ]
  },
  {
   "cell_type": "code",
   "execution_count": 7,
   "metadata": {},
   "outputs": [
    {
     "data": {
      "text/html": [
       "<div>\n",
       "<style scoped>\n",
       "    .dataframe tbody tr th:only-of-type {\n",
       "        vertical-align: middle;\n",
       "    }\n",
       "\n",
       "    .dataframe tbody tr th {\n",
       "        vertical-align: top;\n",
       "    }\n",
       "\n",
       "    .dataframe thead th {\n",
       "        text-align: right;\n",
       "    }\n",
       "</style>\n",
       "<table border=\"1\" class=\"dataframe\">\n",
       "  <thead>\n",
       "    <tr style=\"text-align: right;\">\n",
       "      <th></th>\n",
       "      <th>hypothesis</th>\n",
       "      <th>reach</th>\n",
       "      <th>impact</th>\n",
       "      <th>confidence</th>\n",
       "      <th>efforts</th>\n",
       "      <th>ice</th>\n",
       "      <th>rice</th>\n",
       "    </tr>\n",
       "  </thead>\n",
       "  <tbody>\n",
       "    <tr>\n",
       "      <th>7</th>\n",
       "      <td>Добавить форму подписки на все основные страницы, чтобы собрать базу клиентов для email-рассылок</td>\n",
       "      <td>10</td>\n",
       "      <td>7</td>\n",
       "      <td>8</td>\n",
       "      <td>5</td>\n",
       "      <td>11.20</td>\n",
       "      <td>112.0</td>\n",
       "    </tr>\n",
       "    <tr>\n",
       "      <th>2</th>\n",
       "      <td>Добавить блоки рекомендаций товаров на сайт интернет магазина, чтобы повысить конверсию и средний чек заказа</td>\n",
       "      <td>8</td>\n",
       "      <td>3</td>\n",
       "      <td>7</td>\n",
       "      <td>3</td>\n",
       "      <td>7.00</td>\n",
       "      <td>56.0</td>\n",
       "    </tr>\n",
       "    <tr>\n",
       "      <th>0</th>\n",
       "      <td>Добавить два новых канала привлечения трафика, что позволит привлекать на 30% больше пользователей</td>\n",
       "      <td>3</td>\n",
       "      <td>10</td>\n",
       "      <td>8</td>\n",
       "      <td>6</td>\n",
       "      <td>13.33</td>\n",
       "      <td>40.0</td>\n",
       "    </tr>\n",
       "    <tr>\n",
       "      <th>6</th>\n",
       "      <td>Показать на главной странице баннеры с актуальными акциями и распродажами, чтобы увеличить конверсию</td>\n",
       "      <td>5</td>\n",
       "      <td>3</td>\n",
       "      <td>8</td>\n",
       "      <td>3</td>\n",
       "      <td>8.00</td>\n",
       "      <td>40.0</td>\n",
       "    </tr>\n",
       "    <tr>\n",
       "      <th>8</th>\n",
       "      <td>Запустить акцию, дающую скидку на товар в день рождения</td>\n",
       "      <td>1</td>\n",
       "      <td>9</td>\n",
       "      <td>9</td>\n",
       "      <td>5</td>\n",
       "      <td>16.20</td>\n",
       "      <td>16.2</td>\n",
       "    </tr>\n",
       "    <tr>\n",
       "      <th>3</th>\n",
       "      <td>Изменить структура категорий, что увеличит конверсию, т.к. пользователи быстрее найдут нужный товар</td>\n",
       "      <td>8</td>\n",
       "      <td>3</td>\n",
       "      <td>3</td>\n",
       "      <td>8</td>\n",
       "      <td>1.12</td>\n",
       "      <td>9.0</td>\n",
       "    </tr>\n",
       "    <tr>\n",
       "      <th>1</th>\n",
       "      <td>Запустить собственную службу доставки, что сократит срок доставки заказов</td>\n",
       "      <td>2</td>\n",
       "      <td>5</td>\n",
       "      <td>4</td>\n",
       "      <td>10</td>\n",
       "      <td>2.00</td>\n",
       "      <td>4.0</td>\n",
       "    </tr>\n",
       "    <tr>\n",
       "      <th>5</th>\n",
       "      <td>Добавить страницу отзывов клиентов о магазине, что позволит увеличить количество заказов</td>\n",
       "      <td>3</td>\n",
       "      <td>2</td>\n",
       "      <td>2</td>\n",
       "      <td>3</td>\n",
       "      <td>1.33</td>\n",
       "      <td>4.0</td>\n",
       "    </tr>\n",
       "    <tr>\n",
       "      <th>4</th>\n",
       "      <td>Изменить цвет фона главной страницы, чтобы увеличить вовлеченность пользователей</td>\n",
       "      <td>3</td>\n",
       "      <td>1</td>\n",
       "      <td>1</td>\n",
       "      <td>1</td>\n",
       "      <td>1.00</td>\n",
       "      <td>3.0</td>\n",
       "    </tr>\n",
       "  </tbody>\n",
       "</table>\n",
       "</div>"
      ],
      "text/plain": [
       "                                                                                                     hypothesis  \\\n",
       "7              Добавить форму подписки на все основные страницы, чтобы собрать базу клиентов для email-рассылок   \n",
       "2  Добавить блоки рекомендаций товаров на сайт интернет магазина, чтобы повысить конверсию и средний чек заказа   \n",
       "0            Добавить два новых канала привлечения трафика, что позволит привлекать на 30% больше пользователей   \n",
       "6          Показать на главной странице баннеры с актуальными акциями и распродажами, чтобы увеличить конверсию   \n",
       "8                                                       Запустить акцию, дающую скидку на товар в день рождения   \n",
       "3           Изменить структура категорий, что увеличит конверсию, т.к. пользователи быстрее найдут нужный товар   \n",
       "1                                     Запустить собственную службу доставки, что сократит срок доставки заказов   \n",
       "5                      Добавить страницу отзывов клиентов о магазине, что позволит увеличить количество заказов   \n",
       "4                              Изменить цвет фона главной страницы, чтобы увеличить вовлеченность пользователей   \n",
       "\n",
       "   reach  impact  confidence  efforts    ice   rice  \n",
       "7     10       7           8        5  11.20  112.0  \n",
       "2      8       3           7        3   7.00   56.0  \n",
       "0      3      10           8        6  13.33   40.0  \n",
       "6      5       3           8        3   8.00   40.0  \n",
       "8      1       9           9        5  16.20   16.2  \n",
       "3      8       3           3        8   1.12    9.0  \n",
       "1      2       5           4       10   2.00    4.0  \n",
       "5      3       2           2        3   1.33    4.0  \n",
       "4      3       1           1        1   1.00    3.0  "
      ]
     },
     "execution_count": 7,
     "metadata": {},
     "output_type": "execute_result"
    }
   ],
   "source": [
    "data['rice'] = data['reach'] * data['impact'] * data['confidence']/data['efforts']\n",
    "data.sort_values(by = 'rice', ascending=False)"
   ]
  },
  {
   "cell_type": "markdown",
   "metadata": {},
   "source": [
    "**3. Укажем, как изменилась приоритизация гипотез при применении RICE вместо ICE. Объясним, почему так произошло.**"
   ]
  },
  {
   "cell_type": "markdown",
   "metadata": {},
   "source": [
    "Для фреймворка ICE наиболее перспективные гипотезы:\n",
    "- 8 (Запустить акцию, дающую скидку на товар в день рождения),\n",
    "- 0 (Добавить два новых канала привлечения трафика, что позволит привлекать на 30% больше пользователей),\n",
    "- 7 (Добавить форму подписки на все основные страницы, чтобы собрать базу клиентов для email-рассылок),\n",
    "- 6 (Показать на главной странице баннеры с актуальными акциями и распродажами, чтобы увеличить конверсию)\n",
    "\n",
    "Для фреймворка RICE гепотезы с индексом\n",
    "- 7 (Добавить форму подписки на все основные страницы, чтобы собрать базу клиентов для email-рассылок)б\n",
    "- 2 (Добавить блоки рекомендаций товаров на сайт интернет магазина, чтобы повысить конверсию и средний чек заказа), \n",
    "- 0 (Добавить два новых канала привлечения трафика, что позволит привлекать на 30% больше пользователей),\n",
    "- 6 (Показать на главной странице баннеры с актуальными акциями и распродажами, чтобы увеличить конверсию)\n",
    "являются наиболее перспективными.\n",
    "\n",
    "Уровень охвата (Reach) повлиял на изменение приоритизации. Его измеряют количеством людей или событий за определенный период времени. Этот фактор предназначен для оценки того, на какое количество людей каждый определенный параметр повлияет в течение определенного количества времени, а также какое количество пользователей увидят такие изменения. "
   ]
  },
  {
   "cell_type": "markdown",
   "metadata": {},
   "source": [
    "**Часть 2. Анализ A/B-теста**"
   ]
  },
  {
   "cell_type": "markdown",
   "metadata": {},
   "source": [
    "**2.1 Ознакомимся с датафреймами**"
   ]
  },
  {
   "cell_type": "code",
   "execution_count": 8,
   "metadata": {},
   "outputs": [],
   "source": [
    "orders = pd.read_csv('/datasets/orders.csv')\n",
    "visitors = pd.read_csv('/datasets/visitors.csv')"
   ]
  },
  {
   "cell_type": "code",
   "execution_count": 9,
   "metadata": {},
   "outputs": [
    {
     "data": {
      "text/html": [
       "<div>\n",
       "<style scoped>\n",
       "    .dataframe tbody tr th:only-of-type {\n",
       "        vertical-align: middle;\n",
       "    }\n",
       "\n",
       "    .dataframe tbody tr th {\n",
       "        vertical-align: top;\n",
       "    }\n",
       "\n",
       "    .dataframe thead th {\n",
       "        text-align: right;\n",
       "    }\n",
       "</style>\n",
       "<table border=\"1\" class=\"dataframe\">\n",
       "  <thead>\n",
       "    <tr style=\"text-align: right;\">\n",
       "      <th></th>\n",
       "      <th>transactionId</th>\n",
       "      <th>visitorId</th>\n",
       "      <th>date</th>\n",
       "      <th>revenue</th>\n",
       "      <th>group</th>\n",
       "    </tr>\n",
       "  </thead>\n",
       "  <tbody>\n",
       "    <tr>\n",
       "      <th>0</th>\n",
       "      <td>3667963787</td>\n",
       "      <td>3312258926</td>\n",
       "      <td>2019-08-15</td>\n",
       "      <td>1650</td>\n",
       "      <td>B</td>\n",
       "    </tr>\n",
       "    <tr>\n",
       "      <th>1</th>\n",
       "      <td>2804400009</td>\n",
       "      <td>3642806036</td>\n",
       "      <td>2019-08-15</td>\n",
       "      <td>730</td>\n",
       "      <td>B</td>\n",
       "    </tr>\n",
       "    <tr>\n",
       "      <th>2</th>\n",
       "      <td>2961555356</td>\n",
       "      <td>4069496402</td>\n",
       "      <td>2019-08-15</td>\n",
       "      <td>400</td>\n",
       "      <td>A</td>\n",
       "    </tr>\n",
       "    <tr>\n",
       "      <th>3</th>\n",
       "      <td>3797467345</td>\n",
       "      <td>1196621759</td>\n",
       "      <td>2019-08-15</td>\n",
       "      <td>9759</td>\n",
       "      <td>B</td>\n",
       "    </tr>\n",
       "    <tr>\n",
       "      <th>4</th>\n",
       "      <td>2282983706</td>\n",
       "      <td>2322279887</td>\n",
       "      <td>2019-08-15</td>\n",
       "      <td>2308</td>\n",
       "      <td>B</td>\n",
       "    </tr>\n",
       "  </tbody>\n",
       "</table>\n",
       "</div>"
      ],
      "text/plain": [
       "   transactionId   visitorId        date  revenue group\n",
       "0     3667963787  3312258926  2019-08-15     1650     B\n",
       "1     2804400009  3642806036  2019-08-15      730     B\n",
       "2     2961555356  4069496402  2019-08-15      400     A\n",
       "3     3797467345  1196621759  2019-08-15     9759     B\n",
       "4     2282983706  2322279887  2019-08-15     2308     B"
      ]
     },
     "execution_count": 9,
     "metadata": {},
     "output_type": "execute_result"
    }
   ],
   "source": [
    "orders.head()"
   ]
  },
  {
   "cell_type": "code",
   "execution_count": 10,
   "metadata": {},
   "outputs": [
    {
     "name": "stdout",
     "output_type": "stream",
     "text": [
      "<class 'pandas.core.frame.DataFrame'>\n",
      "RangeIndex: 1197 entries, 0 to 1196\n",
      "Data columns (total 5 columns):\n",
      " #   Column         Non-Null Count  Dtype \n",
      "---  ------         --------------  ----- \n",
      " 0   transactionId  1197 non-null   int64 \n",
      " 1   visitorId      1197 non-null   int64 \n",
      " 2   date           1197 non-null   object\n",
      " 3   revenue        1197 non-null   int64 \n",
      " 4   group          1197 non-null   object\n",
      "dtypes: int64(3), object(2)\n",
      "memory usage: 46.9+ KB\n"
     ]
    }
   ],
   "source": [
    "orders.info()"
   ]
  },
  {
   "cell_type": "code",
   "execution_count": 11,
   "metadata": {},
   "outputs": [
    {
     "data": {
      "text/html": [
       "<div>\n",
       "<style scoped>\n",
       "    .dataframe tbody tr th:only-of-type {\n",
       "        vertical-align: middle;\n",
       "    }\n",
       "\n",
       "    .dataframe tbody tr th {\n",
       "        vertical-align: top;\n",
       "    }\n",
       "\n",
       "    .dataframe thead th {\n",
       "        text-align: right;\n",
       "    }\n",
       "</style>\n",
       "<table border=\"1\" class=\"dataframe\">\n",
       "  <thead>\n",
       "    <tr style=\"text-align: right;\">\n",
       "      <th></th>\n",
       "      <th>date</th>\n",
       "      <th>group</th>\n",
       "      <th>visitors</th>\n",
       "    </tr>\n",
       "  </thead>\n",
       "  <tbody>\n",
       "    <tr>\n",
       "      <th>0</th>\n",
       "      <td>2019-08-01</td>\n",
       "      <td>A</td>\n",
       "      <td>719</td>\n",
       "    </tr>\n",
       "    <tr>\n",
       "      <th>1</th>\n",
       "      <td>2019-08-02</td>\n",
       "      <td>A</td>\n",
       "      <td>619</td>\n",
       "    </tr>\n",
       "    <tr>\n",
       "      <th>2</th>\n",
       "      <td>2019-08-03</td>\n",
       "      <td>A</td>\n",
       "      <td>507</td>\n",
       "    </tr>\n",
       "    <tr>\n",
       "      <th>3</th>\n",
       "      <td>2019-08-04</td>\n",
       "      <td>A</td>\n",
       "      <td>717</td>\n",
       "    </tr>\n",
       "    <tr>\n",
       "      <th>4</th>\n",
       "      <td>2019-08-05</td>\n",
       "      <td>A</td>\n",
       "      <td>756</td>\n",
       "    </tr>\n",
       "  </tbody>\n",
       "</table>\n",
       "</div>"
      ],
      "text/plain": [
       "         date group  visitors\n",
       "0  2019-08-01     A       719\n",
       "1  2019-08-02     A       619\n",
       "2  2019-08-03     A       507\n",
       "3  2019-08-04     A       717\n",
       "4  2019-08-05     A       756"
      ]
     },
     "execution_count": 11,
     "metadata": {},
     "output_type": "execute_result"
    }
   ],
   "source": [
    "visitors.head()"
   ]
  },
  {
   "cell_type": "code",
   "execution_count": 12,
   "metadata": {},
   "outputs": [
    {
     "name": "stdout",
     "output_type": "stream",
     "text": [
      "<class 'pandas.core.frame.DataFrame'>\n",
      "RangeIndex: 62 entries, 0 to 61\n",
      "Data columns (total 3 columns):\n",
      " #   Column    Non-Null Count  Dtype \n",
      "---  ------    --------------  ----- \n",
      " 0   date      62 non-null     object\n",
      " 1   group     62 non-null     object\n",
      " 2   visitors  62 non-null     int64 \n",
      "dtypes: int64(1), object(2)\n",
      "memory usage: 1.6+ KB\n"
     ]
    }
   ],
   "source": [
    "visitors.info()"
   ]
  },
  {
   "cell_type": "markdown",
   "metadata": {},
   "source": [
    "**2.2 Предобработка данных**"
   ]
  },
  {
   "cell_type": "code",
   "execution_count": 13,
   "metadata": {},
   "outputs": [],
   "source": [
    "# приведем столбец date к нужному формату в обоих датафреймах\n",
    "orders['date'] = pd.to_datetime(orders['date'])\n",
    "visitors['date'] = pd.to_datetime(visitors['date'])"
   ]
  },
  {
   "cell_type": "code",
   "execution_count": 14,
   "metadata": {},
   "outputs": [
    {
     "data": {
      "text/plain": [
       "0"
      ]
     },
     "execution_count": 14,
     "metadata": {},
     "output_type": "execute_result"
    }
   ],
   "source": [
    "# проверяем наличие дубликатов в orders\n",
    "orders.duplicated().sum()"
   ]
  },
  {
   "cell_type": "code",
   "execution_count": 15,
   "metadata": {},
   "outputs": [
    {
     "data": {
      "text/plain": [
       "0"
      ]
     },
     "execution_count": 15,
     "metadata": {},
     "output_type": "execute_result"
    }
   ],
   "source": [
    "# проверяем наличие дубликтов в visitors\n",
    "visitors.duplicated().sum()"
   ]
  },
  {
   "cell_type": "code",
   "execution_count": 16,
   "metadata": {},
   "outputs": [
    {
     "data": {
      "text/plain": [
       "group\n",
       "A    503\n",
       "B    586\n",
       "Name: visitorId, dtype: int64"
      ]
     },
     "execution_count": 16,
     "metadata": {},
     "output_type": "execute_result"
    }
   ],
   "source": [
    "# количество уникальные пользователей по группам в orders\n",
    "orders.groupby('group').nunique('visitorId')['visitorId']"
   ]
  },
  {
   "cell_type": "code",
   "execution_count": 17,
   "metadata": {},
   "outputs": [
    {
     "data": {
      "text/plain": [
       "group\n",
       "A    31\n",
       "B    30\n",
       "Name: visitors, dtype: int64"
      ]
     },
     "execution_count": 17,
     "metadata": {},
     "output_type": "execute_result"
    }
   ],
   "source": [
    "# количество уникальные пользователей по группам в visitors\n",
    "visitors.groupby('group').nunique('visitors')['visitors']"
   ]
  },
  {
   "cell_type": "code",
   "execution_count": 18,
   "metadata": {},
   "outputs": [
    {
     "data": {
      "text/plain": [
       "group    58\n",
       "dtype: int64"
      ]
     },
     "execution_count": 18,
     "metadata": {},
     "output_type": "execute_result"
    }
   ],
   "source": [
    "# количество задублированных пользователей в обеих группах в orders\n",
    "orders.groupby('visitorId').agg({'group': 'nunique'}).query('group>1').count()"
   ]
  },
  {
   "cell_type": "code",
   "execution_count": 19,
   "metadata": {},
   "outputs": [
    {
     "data": {
      "text/html": [
       "<div>\n",
       "<style scoped>\n",
       "    .dataframe tbody tr th:only-of-type {\n",
       "        vertical-align: middle;\n",
       "    }\n",
       "\n",
       "    .dataframe tbody tr th {\n",
       "        vertical-align: top;\n",
       "    }\n",
       "\n",
       "    .dataframe thead th {\n",
       "        text-align: right;\n",
       "    }\n",
       "</style>\n",
       "<table border=\"1\" class=\"dataframe\">\n",
       "  <thead>\n",
       "    <tr style=\"text-align: right;\">\n",
       "      <th></th>\n",
       "      <th>visitorId</th>\n",
       "      <th>group</th>\n",
       "    </tr>\n",
       "  </thead>\n",
       "  <tbody>\n",
       "    <tr>\n",
       "      <th>0</th>\n",
       "      <td>8300375</td>\n",
       "      <td>2</td>\n",
       "    </tr>\n",
       "    <tr>\n",
       "      <th>1</th>\n",
       "      <td>199603092</td>\n",
       "      <td>2</td>\n",
       "    </tr>\n",
       "    <tr>\n",
       "      <th>2</th>\n",
       "      <td>232979603</td>\n",
       "      <td>2</td>\n",
       "    </tr>\n",
       "    <tr>\n",
       "      <th>3</th>\n",
       "      <td>237748145</td>\n",
       "      <td>2</td>\n",
       "    </tr>\n",
       "    <tr>\n",
       "      <th>4</th>\n",
       "      <td>276558944</td>\n",
       "      <td>2</td>\n",
       "    </tr>\n",
       "    <tr>\n",
       "      <th>5</th>\n",
       "      <td>351125977</td>\n",
       "      <td>2</td>\n",
       "    </tr>\n",
       "    <tr>\n",
       "      <th>6</th>\n",
       "      <td>393266494</td>\n",
       "      <td>2</td>\n",
       "    </tr>\n",
       "    <tr>\n",
       "      <th>7</th>\n",
       "      <td>457167155</td>\n",
       "      <td>2</td>\n",
       "    </tr>\n",
       "    <tr>\n",
       "      <th>8</th>\n",
       "      <td>471551937</td>\n",
       "      <td>2</td>\n",
       "    </tr>\n",
       "    <tr>\n",
       "      <th>9</th>\n",
       "      <td>477780734</td>\n",
       "      <td>2</td>\n",
       "    </tr>\n",
       "    <tr>\n",
       "      <th>10</th>\n",
       "      <td>818047933</td>\n",
       "      <td>2</td>\n",
       "    </tr>\n",
       "    <tr>\n",
       "      <th>11</th>\n",
       "      <td>963407295</td>\n",
       "      <td>2</td>\n",
       "    </tr>\n",
       "    <tr>\n",
       "      <th>12</th>\n",
       "      <td>1230306981</td>\n",
       "      <td>2</td>\n",
       "    </tr>\n",
       "    <tr>\n",
       "      <th>13</th>\n",
       "      <td>1294878855</td>\n",
       "      <td>2</td>\n",
       "    </tr>\n",
       "    <tr>\n",
       "      <th>14</th>\n",
       "      <td>1316129916</td>\n",
       "      <td>2</td>\n",
       "    </tr>\n",
       "    <tr>\n",
       "      <th>15</th>\n",
       "      <td>1333886533</td>\n",
       "      <td>2</td>\n",
       "    </tr>\n",
       "    <tr>\n",
       "      <th>16</th>\n",
       "      <td>1404934699</td>\n",
       "      <td>2</td>\n",
       "    </tr>\n",
       "    <tr>\n",
       "      <th>17</th>\n",
       "      <td>1602967004</td>\n",
       "      <td>2</td>\n",
       "    </tr>\n",
       "    <tr>\n",
       "      <th>18</th>\n",
       "      <td>1614305549</td>\n",
       "      <td>2</td>\n",
       "    </tr>\n",
       "    <tr>\n",
       "      <th>19</th>\n",
       "      <td>1648269707</td>\n",
       "      <td>2</td>\n",
       "    </tr>\n",
       "    <tr>\n",
       "      <th>20</th>\n",
       "      <td>1668030113</td>\n",
       "      <td>2</td>\n",
       "    </tr>\n",
       "    <tr>\n",
       "      <th>21</th>\n",
       "      <td>1738359350</td>\n",
       "      <td>2</td>\n",
       "    </tr>\n",
       "    <tr>\n",
       "      <th>22</th>\n",
       "      <td>1801183820</td>\n",
       "      <td>2</td>\n",
       "    </tr>\n",
       "    <tr>\n",
       "      <th>23</th>\n",
       "      <td>1959144690</td>\n",
       "      <td>2</td>\n",
       "    </tr>\n",
       "    <tr>\n",
       "      <th>24</th>\n",
       "      <td>2038680547</td>\n",
       "      <td>2</td>\n",
       "    </tr>\n",
       "    <tr>\n",
       "      <th>25</th>\n",
       "      <td>2044997962</td>\n",
       "      <td>2</td>\n",
       "    </tr>\n",
       "    <tr>\n",
       "      <th>26</th>\n",
       "      <td>2378935119</td>\n",
       "      <td>2</td>\n",
       "    </tr>\n",
       "    <tr>\n",
       "      <th>27</th>\n",
       "      <td>2458001652</td>\n",
       "      <td>2</td>\n",
       "    </tr>\n",
       "    <tr>\n",
       "      <th>28</th>\n",
       "      <td>2579882178</td>\n",
       "      <td>2</td>\n",
       "    </tr>\n",
       "    <tr>\n",
       "      <th>29</th>\n",
       "      <td>2587333274</td>\n",
       "      <td>2</td>\n",
       "    </tr>\n",
       "    <tr>\n",
       "      <th>30</th>\n",
       "      <td>2600415354</td>\n",
       "      <td>2</td>\n",
       "    </tr>\n",
       "    <tr>\n",
       "      <th>31</th>\n",
       "      <td>2654030115</td>\n",
       "      <td>2</td>\n",
       "    </tr>\n",
       "    <tr>\n",
       "      <th>32</th>\n",
       "      <td>2686716486</td>\n",
       "      <td>2</td>\n",
       "    </tr>\n",
       "    <tr>\n",
       "      <th>33</th>\n",
       "      <td>2712142231</td>\n",
       "      <td>2</td>\n",
       "    </tr>\n",
       "    <tr>\n",
       "      <th>34</th>\n",
       "      <td>2716752286</td>\n",
       "      <td>2</td>\n",
       "    </tr>\n",
       "    <tr>\n",
       "      <th>35</th>\n",
       "      <td>2780786433</td>\n",
       "      <td>2</td>\n",
       "    </tr>\n",
       "    <tr>\n",
       "      <th>36</th>\n",
       "      <td>2927087541</td>\n",
       "      <td>2</td>\n",
       "    </tr>\n",
       "    <tr>\n",
       "      <th>37</th>\n",
       "      <td>2949041841</td>\n",
       "      <td>2</td>\n",
       "    </tr>\n",
       "    <tr>\n",
       "      <th>38</th>\n",
       "      <td>2954449915</td>\n",
       "      <td>2</td>\n",
       "    </tr>\n",
       "    <tr>\n",
       "      <th>39</th>\n",
       "      <td>3062433592</td>\n",
       "      <td>2</td>\n",
       "    </tr>\n",
       "    <tr>\n",
       "      <th>40</th>\n",
       "      <td>3202540741</td>\n",
       "      <td>2</td>\n",
       "    </tr>\n",
       "    <tr>\n",
       "      <th>41</th>\n",
       "      <td>3234906277</td>\n",
       "      <td>2</td>\n",
       "    </tr>\n",
       "    <tr>\n",
       "      <th>42</th>\n",
       "      <td>3656415546</td>\n",
       "      <td>2</td>\n",
       "    </tr>\n",
       "    <tr>\n",
       "      <th>43</th>\n",
       "      <td>3717692402</td>\n",
       "      <td>2</td>\n",
       "    </tr>\n",
       "    <tr>\n",
       "      <th>44</th>\n",
       "      <td>3766097110</td>\n",
       "      <td>2</td>\n",
       "    </tr>\n",
       "    <tr>\n",
       "      <th>45</th>\n",
       "      <td>3803269165</td>\n",
       "      <td>2</td>\n",
       "    </tr>\n",
       "    <tr>\n",
       "      <th>46</th>\n",
       "      <td>3891541246</td>\n",
       "      <td>2</td>\n",
       "    </tr>\n",
       "    <tr>\n",
       "      <th>47</th>\n",
       "      <td>3941795274</td>\n",
       "      <td>2</td>\n",
       "    </tr>\n",
       "    <tr>\n",
       "      <th>48</th>\n",
       "      <td>3951559397</td>\n",
       "      <td>2</td>\n",
       "    </tr>\n",
       "    <tr>\n",
       "      <th>49</th>\n",
       "      <td>3957174400</td>\n",
       "      <td>2</td>\n",
       "    </tr>\n",
       "    <tr>\n",
       "      <th>50</th>\n",
       "      <td>3963646447</td>\n",
       "      <td>2</td>\n",
       "    </tr>\n",
       "    <tr>\n",
       "      <th>51</th>\n",
       "      <td>3972127743</td>\n",
       "      <td>2</td>\n",
       "    </tr>\n",
       "    <tr>\n",
       "      <th>52</th>\n",
       "      <td>3984495233</td>\n",
       "      <td>2</td>\n",
       "    </tr>\n",
       "    <tr>\n",
       "      <th>53</th>\n",
       "      <td>4069496402</td>\n",
       "      <td>2</td>\n",
       "    </tr>\n",
       "    <tr>\n",
       "      <th>54</th>\n",
       "      <td>4120364173</td>\n",
       "      <td>2</td>\n",
       "    </tr>\n",
       "    <tr>\n",
       "      <th>55</th>\n",
       "      <td>4186807279</td>\n",
       "      <td>2</td>\n",
       "    </tr>\n",
       "    <tr>\n",
       "      <th>56</th>\n",
       "      <td>4256040402</td>\n",
       "      <td>2</td>\n",
       "    </tr>\n",
       "    <tr>\n",
       "      <th>57</th>\n",
       "      <td>4266935830</td>\n",
       "      <td>2</td>\n",
       "    </tr>\n",
       "  </tbody>\n",
       "</table>\n",
       "</div>"
      ],
      "text/plain": [
       "     visitorId  group\n",
       "0      8300375      2\n",
       "1    199603092      2\n",
       "2    232979603      2\n",
       "3    237748145      2\n",
       "4    276558944      2\n",
       "5    351125977      2\n",
       "6    393266494      2\n",
       "7    457167155      2\n",
       "8    471551937      2\n",
       "9    477780734      2\n",
       "10   818047933      2\n",
       "11   963407295      2\n",
       "12  1230306981      2\n",
       "13  1294878855      2\n",
       "14  1316129916      2\n",
       "15  1333886533      2\n",
       "16  1404934699      2\n",
       "17  1602967004      2\n",
       "18  1614305549      2\n",
       "19  1648269707      2\n",
       "20  1668030113      2\n",
       "21  1738359350      2\n",
       "22  1801183820      2\n",
       "23  1959144690      2\n",
       "24  2038680547      2\n",
       "25  2044997962      2\n",
       "26  2378935119      2\n",
       "27  2458001652      2\n",
       "28  2579882178      2\n",
       "29  2587333274      2\n",
       "30  2600415354      2\n",
       "31  2654030115      2\n",
       "32  2686716486      2\n",
       "33  2712142231      2\n",
       "34  2716752286      2\n",
       "35  2780786433      2\n",
       "36  2927087541      2\n",
       "37  2949041841      2\n",
       "38  2954449915      2\n",
       "39  3062433592      2\n",
       "40  3202540741      2\n",
       "41  3234906277      2\n",
       "42  3656415546      2\n",
       "43  3717692402      2\n",
       "44  3766097110      2\n",
       "45  3803269165      2\n",
       "46  3891541246      2\n",
       "47  3941795274      2\n",
       "48  3951559397      2\n",
       "49  3957174400      2\n",
       "50  3963646447      2\n",
       "51  3972127743      2\n",
       "52  3984495233      2\n",
       "53  4069496402      2\n",
       "54  4120364173      2\n",
       "55  4186807279      2\n",
       "56  4256040402      2\n",
       "57  4266935830      2"
      ]
     },
     "execution_count": 19,
     "metadata": {},
     "output_type": "execute_result"
    }
   ],
   "source": [
    "double_orders = orders.groupby('visitorId').agg({'group': 'nunique'}).query('group>1').reset_index()\n",
    "double_orders"
   ]
  },
  {
   "cell_type": "code",
   "execution_count": 20,
   "metadata": {},
   "outputs": [
    {
     "data": {
      "text/plain": [
       "group    3\n",
       "dtype: int64"
      ]
     },
     "execution_count": 20,
     "metadata": {},
     "output_type": "execute_result"
    }
   ],
   "source": [
    "# количество задублированных пользователей в обеих группах в visitors\n",
    "visitors.groupby('visitors').agg({'group': 'nunique'}).query('group>1').count()"
   ]
  },
  {
   "cell_type": "code",
   "execution_count": 21,
   "metadata": {},
   "outputs": [
    {
     "data": {
      "text/html": [
       "<div>\n",
       "<style scoped>\n",
       "    .dataframe tbody tr th:only-of-type {\n",
       "        vertical-align: middle;\n",
       "    }\n",
       "\n",
       "    .dataframe tbody tr th {\n",
       "        vertical-align: top;\n",
       "    }\n",
       "\n",
       "    .dataframe thead th {\n",
       "        text-align: right;\n",
       "    }\n",
       "</style>\n",
       "<table border=\"1\" class=\"dataframe\">\n",
       "  <thead>\n",
       "    <tr style=\"text-align: right;\">\n",
       "      <th></th>\n",
       "      <th>visitors</th>\n",
       "      <th>group</th>\n",
       "    </tr>\n",
       "  </thead>\n",
       "  <tbody>\n",
       "    <tr>\n",
       "      <th>0</th>\n",
       "      <td>490</td>\n",
       "      <td>2</td>\n",
       "    </tr>\n",
       "    <tr>\n",
       "      <th>1</th>\n",
       "      <td>610</td>\n",
       "      <td>2</td>\n",
       "    </tr>\n",
       "    <tr>\n",
       "      <th>2</th>\n",
       "      <td>718</td>\n",
       "      <td>2</td>\n",
       "    </tr>\n",
       "  </tbody>\n",
       "</table>\n",
       "</div>"
      ],
      "text/plain": [
       "   visitors  group\n",
       "0       490      2\n",
       "1       610      2\n",
       "2       718      2"
      ]
     },
     "execution_count": 21,
     "metadata": {},
     "output_type": "execute_result"
    }
   ],
   "source": [
    "double_visitors = visitors.groupby('visitors').agg({'group': 'nunique'}).query('group>1').reset_index()\n",
    "double_visitors"
   ]
  },
  {
   "cell_type": "code",
   "execution_count": 22,
   "metadata": {},
   "outputs": [],
   "source": [
    "# удаляем дубликаты в orders\n",
    "orders = orders[~orders['visitorId'].isin(double_orders['visitorId'])]"
   ]
  },
  {
   "cell_type": "code",
   "execution_count": 23,
   "metadata": {},
   "outputs": [
    {
     "data": {
      "text/plain": [
       "group    0\n",
       "dtype: int64"
      ]
     },
     "execution_count": 23,
     "metadata": {},
     "output_type": "execute_result"
    }
   ],
   "source": [
    "orders.groupby('visitorId').agg({'group': 'nunique'}).query('group>1').count()"
   ]
  },
  {
   "cell_type": "code",
   "execution_count": 24,
   "metadata": {},
   "outputs": [],
   "source": [
    "# удаляем дубликаты в visitors\n",
    "#visitors = visitors[~visitors['visitors'].isin(double_visitors['visitors'])]\n",
    "# Не понятно почему но если удалить дубликаты в visitors, то график 2.3.3 обрывается, уважаемый ревьюер проверьте пожалуйста(расскоментируйте строчку выше)"
   ]
  },
  {
   "cell_type": "code",
   "execution_count": 25,
   "metadata": {},
   "outputs": [
    {
     "data": {
      "text/plain": [
       "group    3\n",
       "dtype: int64"
      ]
     },
     "execution_count": 25,
     "metadata": {},
     "output_type": "execute_result"
    }
   ],
   "source": [
    "visitors.groupby('visitors').agg({'group': 'nunique'}).query('group>1').count()"
   ]
  },
  {
   "cell_type": "markdown",
   "metadata": {},
   "source": [
    "**В ходе предобработки данных было сделано следующее:**\n",
    "- столбцы 'date' в обоих датафреймах были приведены к временному формату;\n",
    "- были удалены дубликаты;\n",
    "- пропущенных значений не обнаружено.\n",
    "\n",
    "Данные готовы к работе"
   ]
  },
  {
   "cell_type": "markdown",
   "metadata": {},
   "source": [
    "**2.3.1 Построим график кумулятивной выручки по группам. Сделаем выводы и предположения.**"
   ]
  },
  {
   "cell_type": "code",
   "execution_count": 26,
   "metadata": {},
   "outputs": [
    {
     "data": {
      "text/plain": [
       "<matplotlib.legend.Legend at 0x7fad93e17bb0>"
      ]
     },
     "execution_count": 26,
     "metadata": {},
     "output_type": "execute_result"
    },
    {
     "data": {
      "image/png": "[encoded data removed]",
      "text/plain": [
       "<Figure size 720x360 with 1 Axes>"
      ]
     },
     "metadata": {
      "needs_background": "light"
     },
     "output_type": "display_data"
    }
   ],
   "source": [
    "datesGroups = orders[['date', 'group']].drop_duplicates()\n",
    "\n",
    "ordersAggregated = datesGroups.apply(\n",
    "    lambda x: orders[\n",
    "        np.logical_and(\n",
    "            orders['date'] <= x['date'], orders['group'] == x['group']\n",
    "        )\n",
    "    ].agg(\n",
    "        {\n",
    "            'date': 'max',\n",
    "            'group': 'max',\n",
    "            'transactionId': 'nunique',\n",
    "            'visitorId': 'nunique',\n",
    "            'revenue': 'sum',\n",
    "        }\n",
    "    ),\n",
    "    axis=1,\n",
    ").sort_values(by=['date', 'group'])\n",
    "\n",
    "visitorsAggregated = datesGroups.apply(\n",
    "    lambda x: visitors[\n",
    "        np.logical_and(\n",
    "            visitors['date'] <= x['date'], visitors['group'] == x['group']\n",
    "        )\n",
    "    ].agg({'date': 'max', 'group': 'max', 'visitors': 'sum'}),\n",
    "    axis=1,\n",
    ").sort_values(by=['date', 'group'])\n",
    "\n",
    "cumulativeData = ordersAggregated.merge(\n",
    "    visitorsAggregated, left_on=['date', 'group'], right_on=['date', 'group']\n",
    ")\n",
    "cumulativeData.columns = [\n",
    "    'date',\n",
    "    'group',\n",
    "    'orders',\n",
    "    'buyers',\n",
    "    'revenue',\n",
    "    'visitors',\n",
    "]\n",
    "cumulativeRevenueA = cumulativeData[cumulativeData['group']=='A'][['date','revenue', 'orders']]\n",
    "\n",
    "cumulativeRevenueB = cumulativeData[cumulativeData['group']=='B'][['date','revenue', 'orders']]\n",
    "\n",
    "plt.figure(figsize=(10, 5))\n",
    "plt.plot(cumulativeRevenueA['date'], cumulativeRevenueA['revenue'], label='группа A')\n",
    "plt.plot(cumulativeRevenueB['date'], cumulativeRevenueB['revenue'], label='группа B')\n",
    "plt.title('Кумулятивная выручка по группам')\n",
    "plt.xlabel('Дата')\n",
    "plt.ylabel('Выручка')\n",
    "plt.grid()\n",
    "plt.legend()"
   ]
  },
  {
   "cell_type": "markdown",
   "metadata": {},
   "source": [
    "**Вывод:** по графику видно, что у группы В накопление заметло лучше, чем у группы А. В начале второй половины теста у группы В произошел резкий рост, может быть в данных присутствуют аномалии."
   ]
  },
  {
   "cell_type": "markdown",
   "metadata": {},
   "source": [
    "**2.3.2 Построим график кумулятивного среднего чека по группам. Сделаем выводы и предположения.**"
   ]
  },
  {
   "cell_type": "code",
   "execution_count": 27,
   "metadata": {},
   "outputs": [
    {
     "data": {
      "text/plain": [
       "<matplotlib.legend.Legend at 0x7fad93a542b0>"
      ]
     },
     "execution_count": 27,
     "metadata": {},
     "output_type": "execute_result"
    },
    {
     "data": {
      "image/png": "[encoded data removed]",
      "text/plain": [
       "<Figure size 720x360 with 1 Axes>"
      ]
     },
     "metadata": {
      "needs_background": "light"
     },
     "output_type": "display_data"
    }
   ],
   "source": [
    "plt.figure(figsize=(10, 5))\n",
    "plt.plot(cumulativeRevenueA['date'], cumulativeRevenueA['revenue']/cumulativeRevenueA['orders'], label='группа A')\n",
    "plt.plot(cumulativeRevenueB['date'], cumulativeRevenueB['revenue']/cumulativeRevenueB['orders'], label='группа B')\n",
    "plt.title('Кумулятивный средний чек по группам')\n",
    "plt.xlabel('Дата')\n",
    "plt.ylabel('Средний чек')\n",
    "plt.grid()\n",
    "plt.legend()"
   ]
  },
  {
   "cell_type": "markdown",
   "metadata": {},
   "source": [
    "**Вывод:** Графики ведут себя по-разному - там где у группы А рост, у группы В падение. В середине теста у группы В набюдается резкий рост, в то время как ведет себя спокойно, без сильных колебаний. Необходим анализ выбросов."
   ]
  },
  {
   "cell_type": "markdown",
   "metadata": {},
   "source": [
    "**2.3.3 Построим график относительного изменения кумулятивного среднего чека группы B к группе A. Сделаем выводы и предположения.**"
   ]
  },
  {
   "cell_type": "code",
   "execution_count": 28,
   "metadata": {},
   "outputs": [
    {
     "data": {
      "text/plain": [
       "<matplotlib.lines.Line2D at 0x7fad939dabe0>"
      ]
     },
     "execution_count": 28,
     "metadata": {},
     "output_type": "execute_result"
    },
    {
     "data": {
      "image/png": "[encoded data removed]",
      "text/plain": [
       "<Figure size 720x360 with 1 Axes>"
      ]
     },
     "metadata": {
      "needs_background": "light"
     },
     "output_type": "display_data"
    }
   ],
   "source": [
    "mergedCumulativeRevenue = cumulativeRevenueA.merge(\n",
    "    cumulativeRevenueB, left_on='date', right_on='date', how='left', suffixes=['A', 'B'])\n",
    "plt.figure(figsize=(10, 5))\n",
    "plt.plot(\n",
    "    mergedCumulativeRevenue['date'],\n",
    "    (mergedCumulativeRevenue['revenueB']/mergedCumulativeRevenue['ordersB'])/(mergedCumulativeRevenue['revenueA']/mergedCumulativeRevenue['ordersA'])-1)\n",
    "plt.title('Относительные изменения кумулятивного среднего чека группы В к А')\n",
    "plt.xlabel('Дата')\n",
    "plt.ylabel('Относительное изменение среднего чека')\n",
    "plt.grid()\n",
    "plt.axhline(y=0, color='grey', linestyle='--')"
   ]
  },
  {
   "cell_type": "markdown",
   "metadata": {},
   "source": [
    "**Вывод:** По графику видно, что изменения происходили часто и сильно в определенные даты, скорее всего тогда и были сделаны аномальные заказы."
   ]
  },
  {
   "cell_type": "markdown",
   "metadata": {},
   "source": [
    "**2.3.4 Построим график кумулятивного среднего количества заказов на посетителя по группам. Сделаем выводы и предположения.**"
   ]
  },
  {
   "cell_type": "code",
   "execution_count": 29,
   "metadata": {},
   "outputs": [
    {
     "data": {
      "text/plain": [
       "<matplotlib.legend.Legend at 0x7fad939aaaf0>"
      ]
     },
     "execution_count": 29,
     "metadata": {},
     "output_type": "execute_result"
    },
    {
     "data": {
      "image/png": "[encoded data removed]",
      "text/plain": [
       "<Figure size 1440x360 with 1 Axes>"
      ]
     },
     "metadata": {
      "needs_background": "light"
     },
     "output_type": "display_data"
    }
   ],
   "source": [
    "cumulativeData['order_visitor'] = (\n",
    "    cumulativeData['orders'] / cumulativeData['visitors']\n",
    ")\n",
    "cumulativeDataA = cumulativeData[cumulativeData['group']=='A']\n",
    "cumulativeDataB = cumulativeData[cumulativeData['group']=='B']\n",
    "plt.figure(figsize=(20, 5))\n",
    "plt.plot(cumulativeDataA['date'], cumulativeDataA['orders']/cumulativeDataA['visitors'], label='A')\n",
    "plt.plot(cumulativeDataB['date'], cumulativeDataB['orders']/cumulativeDataB['visitors'], label='B')\n",
    "plt.title('Кумулятивное среднего количества заказов на посетителя по группам')\n",
    "plt.xlabel('Дата')\n",
    "plt.ylabel('Среднее кол-во заказов на посетителя')\n",
    "plt.grid()\n",
    "plt.legend()"
   ]
  },
  {
   "cell_type": "markdown",
   "metadata": {},
   "source": [
    "**Вывод:** на графике видно, что среднее количество заказов группы В больше чем у группы А. В начале теста наблюдается сильное волнение графиков, однако почти сразу стабилизируется."
   ]
  },
  {
   "cell_type": "markdown",
   "metadata": {},
   "source": [
    "**2.3.5 Построим график относительного изменения кумулятивного среднего количества заказов на посетителя группы B к группе A. Сделаем выводы и предположения.**"
   ]
  },
  {
   "cell_type": "code",
   "execution_count": 30,
   "metadata": {},
   "outputs": [
    {
     "data": {
      "text/plain": [
       "<matplotlib.lines.Line2D at 0x7fad880d0f10>"
      ]
     },
     "execution_count": 30,
     "metadata": {},
     "output_type": "execute_result"
    },
    {
     "data": {
      "image/png": "[encoded data removed]",
      "text/plain": [
       "<Figure size 1440x360 with 1 Axes>"
      ]
     },
     "metadata": {
      "needs_background": "light"
     },
     "output_type": "display_data"
    }
   ],
   "source": [
    "mergedCumulativeData = cumulativeDataA[['date','order_visitor']].merge(cumulativeDataB[['date','order_visitor']], left_on='date', right_on='date', how='left', suffixes=['A', 'B'])\n",
    "plt.figure(figsize=(20, 5))\n",
    "plt.plot(mergedCumulativeData['date'], mergedCumulativeData['order_visitorB']/mergedCumulativeData['order_visitorA']-1, label=\"Относительный прирост количества заказов на посетителя группы B относительно группы A\")\n",
    "plt.title('Относительное изменение кумулятивного среднего количества заказов на посетителя группы В к А')\n",
    "plt.xlabel('Дата')\n",
    "plt.ylabel('Относительное изменение среднего кол-ва заказов на посетителя')\n",
    "plt.grid()\n",
    "plt.legend()\n",
    "\n",
    "plt.axhline(y=0, color='black', linestyle='--')\n",
    "plt.axhline(y=0.2, color='grey', linestyle='--')"
   ]
  },
  {
   "cell_type": "markdown",
   "metadata": {},
   "source": [
    "**Вывод:** По графику видно что почти сегда заказов у группы В больше чем у группы А, от 10 до 20 процентов."
   ]
  },
  {
   "cell_type": "markdown",
   "metadata": {},
   "source": [
    "**2.3.6 Построим точечный график количества заказов по пользователям. Сделаем выводы и предположения.**"
   ]
  },
  {
   "cell_type": "code",
   "execution_count": 31,
   "metadata": {},
   "outputs": [
    {
     "data": {
      "text/plain": [
       "<matplotlib.collections.PathCollection at 0x7fad8803cfa0>"
      ]
     },
     "execution_count": 31,
     "metadata": {},
     "output_type": "execute_result"
    },
    {
     "data": {
      "image/png": "[encoded data removed]",
      "text/plain": [
       "<Figure size 720x360 with 1 Axes>"
      ]
     },
     "metadata": {
      "needs_background": "light"
     },
     "output_type": "display_data"
    }
   ],
   "source": [
    "ordersByUsers = (\n",
    "    orders.groupby('visitorId', as_index=False)\n",
    "    .agg({'transactionId': 'nunique'})\n",
    ")\n",
    "ordersByUsers.columns = ['userId', 'orders']\n",
    "plt.figure(figsize=(10, 5))\n",
    "plt.grid()\n",
    "plt.title('Количество заказов по пользователям')\n",
    "plt.xlabel('Кол-во пользователей')\n",
    "plt.ylabel('Кол-во заказов')\n",
    "\n",
    "x_values = pd.Series(range(0, len(ordersByUsers)))\n",
    "plt.scatter(x_values, ordersByUsers['orders'])"
   ]
  },
  {
   "cell_type": "markdown",
   "metadata": {},
   "source": [
    "**Вывод:** по графику видно, что основное количество заказов это 1, далее по рейтингу 2 с большим отставнием, 3- самое редкое."
   ]
  },
  {
   "cell_type": "markdown",
   "metadata": {},
   "source": [
    "**2.3.7 Посчитаем 95-й и 99-й перцентили количества заказов на пользователя. Выберем границу для определения аномальных пользователей.**"
   ]
  },
  {
   "cell_type": "code",
   "execution_count": 32,
   "metadata": {},
   "outputs": [
    {
     "data": {
      "text/plain": [
       "array([1., 1., 2.])"
      ]
     },
     "execution_count": 32,
     "metadata": {},
     "output_type": "execute_result"
    }
   ],
   "source": [
    "np.percentile(ordersByUsers['orders'],[90,95,99])"
   ]
  },
  {
   "cell_type": "markdown",
   "metadata": {},
   "source": [
    "**Вывод:** не более 5% пользователей совершали 1 заказ, и 2 заказ не более 1%. Примем количество заказов равное 2 как границу для определения аномальных пользователей."
   ]
  },
  {
   "cell_type": "markdown",
   "metadata": {},
   "source": [
    "**2.3.8 Построим точечный график стоимостей заказов. Сделаем выводы и предположения.**"
   ]
  },
  {
   "cell_type": "code",
   "execution_count": 33,
   "metadata": {},
   "outputs": [
    {
     "data": {
      "text/plain": [
       "<matplotlib.collections.PathCollection at 0x7fad88032d30>"
      ]
     },
     "execution_count": 33,
     "metadata": {},
     "output_type": "execute_result"
    },
    {
     "data": {
      "image/png": "[encoded data removed]",
      "text/plain": [
       "<Figure size 1440x360 with 1 Axes>"
      ]
     },
     "metadata": {
      "needs_background": "light"
     },
     "output_type": "display_data"
    }
   ],
   "source": [
    "RevenueByUsers = pd.Series(range(0, len(orders['revenue'])))\n",
    "plt.figure(figsize=(20, 5))\n",
    "plt.grid()\n",
    "plt.title('График стоимостей заказов')\n",
    "plt.xlabel('Количество пользователей')\n",
    "plt.ylabel('Стоимость заказов')\n",
    "\n",
    "plt.scatter(RevenueByUsers, orders['revenue'])"
   ]
  },
  {
   "cell_type": "markdown",
   "metadata": {},
   "source": [
    "**Вывод:** Стоимость почти всех заказов не превышает 180 000, есть выбросы на 200 000 и около 1.3 млн."
   ]
  },
  {
   "cell_type": "markdown",
   "metadata": {},
   "source": [
    "**2.3.9 Посчитаем 95-й и 99-й перцентили стоимости заказов. Выберем границу для определения аномальных заказов.**"
   ]
  },
  {
   "cell_type": "code",
   "execution_count": 34,
   "metadata": {},
   "outputs": [
    {
     "data": {
      "text/plain": [
       "array([17990., 26785., 53904.])"
      ]
     },
     "execution_count": 34,
     "metadata": {},
     "output_type": "execute_result"
    }
   ],
   "source": [
    "np.percentile(orders['revenue'],[90,95,99])"
   ]
  },
  {
   "cell_type": "markdown",
   "metadata": {},
   "source": [
    "**Вывод:** 99% заказов стоят меньше 53 904, это значение и будет грацией."
   ]
  },
  {
   "cell_type": "markdown",
   "metadata": {},
   "source": [
    "**2.3.10 Посчитаем статистическую значимость различий в среднем количестве заказов на посетителя между группами по «сырым» данным. Сделаем выводы и предположения.**"
   ]
  },
  {
   "cell_type": "markdown",
   "metadata": {},
   "source": [
    "Сформулируем гипотезы.\n",
    "\n",
    "Нулевая: различий в среднем количестве заказов на посетителя между группами нет.\n",
    "\n",
    "Альтернативная: различия в среднем количестве заказов на посетителя между группами есть.\n",
    "\n",
    "Используем критерий Манна-Уитни, так как в данных есть выбросы, а иные методы могут сильно повлиять на результат."
   ]
  },
  {
   "cell_type": "code",
   "execution_count": 35,
   "metadata": {},
   "outputs": [
    {
     "name": "stdout",
     "output_type": "stream",
     "text": [
      "P-value: 0.011\n",
      "Относительная разница между группами: 0.160\n"
     ]
    }
   ],
   "source": [
    "ordersByUsersA = (\n",
    "    orders[orders['group'] == 'A']\n",
    "    .groupby('visitorId', as_index=False)\n",
    "    .agg({'transactionId': pd.Series.nunique})\n",
    ")\n",
    "ordersByUsersA.columns = ['userId', 'orders']\n",
    "\n",
    "ordersByUsersB = (\n",
    "    orders[orders['group'] == 'B']\n",
    "    .groupby('visitorId', as_index=False)\n",
    "    .agg({'transactionId': pd.Series.nunique})\n",
    ")\n",
    "ordersByUsersB.columns = ['userId', 'orders'] \n",
    "\n",
    "sampleA = pd.concat([ordersByUsersA['orders'],pd.Series(0, index=np.arange(visitors[visitors['group'] == 'A']['visitors'].sum() - len(ordersByUsersA['orders'])), name='orders')],axis=0)\n",
    "\n",
    "sampleB = pd.concat([ordersByUsersB['orders'],pd.Series(0, index=np.arange(visitors[visitors['group'] == 'B']['visitors'].sum() - len(ordersByUsersB['orders'])), name='orders')],axis=0)\n",
    "\n",
    "ordersByUsersA = (\n",
    "    orders[orders['group'] == 'A']\n",
    "    .groupby('visitorId', as_index=False)\n",
    "    .agg({'transactionId': pd.Series.nunique})\n",
    ")\n",
    "ordersByUsersA.columns = ['userId', 'orders']\n",
    "\n",
    "ordersByUsersB = (\n",
    "    orders[orders['group'] == 'B']\n",
    "    .groupby('visitorId', as_index=False)\n",
    "    .agg({'transactionId': pd.Series.nunique})\n",
    ")\n",
    "ordersByUsersB.columns = ['userId', 'orders']\n",
    "\n",
    "sampleA = pd.concat(\n",
    "    [\n",
    "        ordersByUsersA['orders'],\n",
    "        pd.Series(\n",
    "            0,\n",
    "            index=np.arange(\n",
    "                visitors[visitors['group'] == 'A']['visitors'].sum() - len(ordersByUsersA['orders'])\n",
    "            ),\n",
    "            name='orders',\n",
    "        ),\n",
    "    ],\n",
    "    axis=0,\n",
    ")\n",
    "\n",
    "sampleB = pd.concat(\n",
    "    [\n",
    "        ordersByUsersB['orders'],\n",
    "        pd.Series(\n",
    "            0,\n",
    "            index=np.arange(\n",
    "                visitors[visitors['group'] == 'B']['visitors'].sum() - len(ordersByUsersB['orders'])\n",
    "            ),\n",
    "            name='orders',\n",
    "        ),\n",
    "    ],\n",
    "    axis=0,\n",
    ")\n",
    "\n",
    "print('P-value:', \"{0:.3f}\".format(stats.mannwhitneyu(sampleA, sampleB)[1]))\n",
    "\n",
    "\n",
    "print('Относительная разница между группами:',\"{0:.3f}\".format((sampleB.mean()/sampleA.mean()-1)))\n",
    "\n"
   ]
  },
  {
   "cell_type": "markdown",
   "metadata": {},
   "source": [
    "**Вывод:** P-value меньше 0.05 - отвергаем нулевую гипотезу, различия в среднем количестве заказов на посетителя между группами есть."
   ]
  },
  {
   "cell_type": "markdown",
   "metadata": {},
   "source": [
    "**2.3.11 Посчитаем статистическую значимость различий в среднем чеке заказа между группами по «сырым» данным. Сделаем выводы и предположения.**"
   ]
  },
  {
   "cell_type": "code",
   "execution_count": 36,
   "metadata": {},
   "outputs": [
    {
     "name": "stdout",
     "output_type": "stream",
     "text": [
      "P-value: 0.829\n",
      "Относительная разница между группами: 0.287\n"
     ]
    }
   ],
   "source": [
    "print('P-value:','{0:.3f}'.format(stats.mannwhitneyu(orders[orders['group']=='A']['revenue'], orders[orders['group']=='B']['revenue'])[1]))\n",
    "print('Относительная разница между группами:','{0:.3f}'.format(orders[orders['group']=='B']['revenue'].mean()/orders[orders['group']=='A']['revenue'].mean()-1))"
   ]
  },
  {
   "cell_type": "markdown",
   "metadata": {},
   "source": [
    "**Вывод:** P-value больше 0.05 - статистически значимых отличий между группамми в среднем чеке нет, однако прирост среднего чека группы В к А равен 28,7%."
   ]
  },
  {
   "cell_type": "markdown",
   "metadata": {},
   "source": [
    "**2.3.12 Посчитаем статистическую значимость различий в среднем количестве заказов на посетителя между группами по «очищенным» данным. Сделаем выводы и предположения.**"
   ]
  },
  {
   "cell_type": "code",
   "execution_count": 37,
   "metadata": {},
   "outputs": [
    {
     "name": "stdout",
     "output_type": "stream",
     "text": [
      "Количество аномальных пользователей: 16\n",
      "Относительные потери: 0.016\n"
     ]
    }
   ],
   "source": [
    "usersWithManyOrders = pd.concat(\n",
    "    [\n",
    "        ordersByUsersA[ordersByUsersA['orders'] > np.percentile(ordersByUsers['orders'], 99)]['userId'],\n",
    "        ordersByUsersB[ordersByUsersB['orders'] > np.percentile(ordersByUsers['orders'], 99)]['userId'],\n",
    "    ],\n",
    "    axis=0,\n",
    ")\n",
    "usersWithExpensiveOrders = orders[orders['revenue'] > 53904]['visitorId']\n",
    "abnormalUsers = (\n",
    "    pd.concat([usersWithManyOrders, usersWithExpensiveOrders], axis=0)\n",
    "    .drop_duplicates()\n",
    "    .sort_values()\n",
    ")\n",
    "print('Количество аномальных пользователей:' ,len(abnormalUsers)) \n",
    "print('Относительные потери:', round(len(abnormalUsers)/orders['visitorId'].nunique(),3))"
   ]
  },
  {
   "cell_type": "code",
   "execution_count": 38,
   "metadata": {},
   "outputs": [
    {
     "name": "stdout",
     "output_type": "stream",
     "text": [
      "P-value: 0.007\n",
      "Относительная разница между группами: 0.189\n"
     ]
    }
   ],
   "source": [
    "sampleAFiltered = pd.concat(\n",
    "    [\n",
    "        ordersByUsersA[\n",
    "            np.logical_not(ordersByUsersA['userId'].isin(abnormalUsers))\n",
    "        ]['orders'],\n",
    "        pd.Series(\n",
    "            0,\n",
    "            index=np.arange(\n",
    "                visitors[visitors['group'] == 'A']['visitors'].sum() - len(ordersByUsersA['orders'])\n",
    "            ),\n",
    "            name='orders',\n",
    "        ),\n",
    "    ],\n",
    "    axis=0,\n",
    ")\n",
    "\n",
    "sampleBFiltered = pd.concat(\n",
    "    [\n",
    "        ordersByUsersB[\n",
    "            np.logical_not(ordersByUsersB['userId'].isin(abnormalUsers))\n",
    "        ]['orders'],\n",
    "        pd.Series(\n",
    "            0,\n",
    "            index=np.arange(\n",
    "                visitors[visitors['group'] == 'B']['visitors'].sum() - len(ordersByUsersB['orders'])\n",
    "            ),\n",
    "            name='orders',\n",
    "        ),\n",
    "    ],\n",
    "    axis=0,\n",
    ")\n",
    "print('P-value:','{0:.3f}'.format(stats.mannwhitneyu(sampleAFiltered, sampleBFiltered)[1]))\n",
    "print('Относительная разница между группами:','{0:.3f}'.format(sampleBFiltered.mean()/sampleAFiltered.mean()-1))"
   ]
  },
  {
   "cell_type": "markdown",
   "metadata": {},
   "source": [
    "**Вывод:** группа А уступает группе В."
   ]
  },
  {
   "cell_type": "markdown",
   "metadata": {},
   "source": [
    "**2.3.13 Посчитаем статистическую значимость различий в среднем чеке заказа между группами по «очищенным» данным. Сделаем выводы и предположения.**"
   ]
  },
  {
   "cell_type": "code",
   "execution_count": 39,
   "metadata": {},
   "outputs": [
    {
     "name": "stdout",
     "output_type": "stream",
     "text": [
      "P-value: 0.788\n",
      "Относительная разница между группами: -0.032\n"
     ]
    }
   ],
   "source": [
    "print('P-value:',\n",
    "    '{0:.3f}'.format(\n",
    "        stats.mannwhitneyu(\n",
    "            orders[\n",
    "                np.logical_and(\n",
    "                    orders['group'] == 'A',\n",
    "                    np.logical_not(orders['visitorId'].isin(abnormalUsers)),\n",
    "                )\n",
    "            ]['revenue'],\n",
    "            orders[\n",
    "                np.logical_and(\n",
    "                    orders['group'] == 'B',\n",
    "                    np.logical_not(orders['visitorId'].isin(abnormalUsers)),\n",
    "                )\n",
    "            ]['revenue'],\n",
    "        )[1]\n",
    "    )\n",
    ")\n",
    "\n",
    "print('Относительная разница между группами:',\n",
    "    \"{0:.3f}\".format(\n",
    "        orders[\n",
    "            np.logical_and(\n",
    "                orders['group'] == 'B',\n",
    "                np.logical_not(orders['visitorId'].isin(abnormalUsers)),\n",
    "            )\n",
    "        ]['revenue'].mean()\n",
    "        / orders[\n",
    "            np.logical_and(\n",
    "                orders['group'] == 'A',\n",
    "                np.logical_not(orders['visitorId'].isin(abnormalUsers)),\n",
    "            )\n",
    "        ]['revenue'].mean()\n",
    "        - 1\n",
    "    )\n",
    ")"
   ]
  },
  {
   "cell_type": "markdown",
   "metadata": {},
   "source": [
    "**Вывод:** средний чек группы B оказался на 3,2% меньше среднего чека группы A, в то время как по \"сырым\" данным, он был больше почти в 10 раз. Скорее всего это связано с влиянием дорогих заказов."
   ]
  },
  {
   "cell_type": "markdown",
   "metadata": {},
   "source": [
    "**2.3.14 Результаты теста**"
   ]
  },
  {
   "cell_type": "markdown",
   "metadata": {},
   "source": [
    "По результатам делаем вывод, что по среднему количеству заказов по \"сырым\" данным и по \"очищенным\" побеждает группа В. По среднему чеку различий найдено не было.\n",
    "\n",
    "Было решено остановить тест и зафиксировать победу группы В по среднему количеству заказов."
   ]
  }
 ],
 "metadata": {
  "ExecuteTimeLog": [
   {
    "duration": 53,
    "start_time": "2024-06-26T12:09:45.508Z"
   },
   {
    "duration": 1457,
    "start_time": "2024-06-26T12:09:53.187Z"
   },
   {
    "duration": 69,
    "start_time": "2024-06-26T12:09:54.647Z"
   },
   {
    "duration": 12,
    "start_time": "2024-06-26T12:09:54.717Z"
   },
   {
    "duration": 12,
    "start_time": "2024-06-26T12:10:19.170Z"
   },
   {
    "duration": 9,
    "start_time": "2024-06-26T12:15:48.492Z"
   },
   {
    "duration": 1443,
    "start_time": "2024-06-27T10:39:18.778Z"
   },
   {
    "duration": 81,
    "start_time": "2024-06-27T10:39:20.225Z"
   },
   {
    "duration": 12,
    "start_time": "2024-06-27T10:39:20.307Z"
   },
   {
    "duration": 29,
    "start_time": "2024-06-27T10:39:20.321Z"
   },
   {
    "duration": 4,
    "start_time": "2024-06-27T10:41:48.083Z"
   },
   {
    "duration": 1352,
    "start_time": "2024-06-27T10:41:59.843Z"
   },
   {
    "duration": 28,
    "start_time": "2024-06-27T10:42:01.197Z"
   },
   {
    "duration": 91,
    "start_time": "2024-06-27T10:42:01.227Z"
   },
   {
    "duration": 94,
    "start_time": "2024-06-27T10:42:01.320Z"
   },
   {
    "duration": 124,
    "start_time": "2024-06-27T10:42:01.416Z"
   },
   {
    "duration": 1343,
    "start_time": "2024-06-27T10:42:01.542Z"
   },
   {
    "duration": 3,
    "start_time": "2024-06-27T10:44:59.029Z"
   },
   {
    "duration": 10,
    "start_time": "2024-06-27T10:45:31.984Z"
   },
   {
    "duration": 6,
    "start_time": "2024-06-27T10:47:09.567Z"
   },
   {
    "duration": 9,
    "start_time": "2024-06-27T10:47:38.504Z"
   },
   {
    "duration": 4,
    "start_time": "2024-06-27T10:47:53.954Z"
   },
   {
    "duration": 10,
    "start_time": "2024-06-27T10:47:57.863Z"
   },
   {
    "duration": 11,
    "start_time": "2024-06-27T10:49:18.457Z"
   },
   {
    "duration": 12,
    "start_time": "2024-06-27T10:49:41.276Z"
   },
   {
    "duration": 1285,
    "start_time": "2024-06-27T10:50:47.630Z"
   },
   {
    "duration": 28,
    "start_time": "2024-06-27T10:50:48.917Z"
   },
   {
    "duration": 12,
    "start_time": "2024-06-27T10:50:48.946Z"
   },
   {
    "duration": 11,
    "start_time": "2024-06-27T10:50:48.959Z"
   },
   {
    "duration": 4,
    "start_time": "2024-06-27T10:50:48.972Z"
   },
   {
    "duration": 13,
    "start_time": "2024-06-27T10:50:48.977Z"
   },
   {
    "duration": 100,
    "start_time": "2024-06-27T10:57:26.677Z"
   },
   {
    "duration": 17,
    "start_time": "2024-06-27T10:57:36.078Z"
   },
   {
    "duration": 49,
    "start_time": "2024-06-27T17:20:37.490Z"
   },
   {
    "duration": 1304,
    "start_time": "2024-06-27T17:20:57.593Z"
   },
   {
    "duration": 67,
    "start_time": "2024-06-27T17:20:58.899Z"
   },
   {
    "duration": 13,
    "start_time": "2024-06-27T17:20:58.968Z"
   },
   {
    "duration": 19,
    "start_time": "2024-06-27T17:20:58.983Z"
   },
   {
    "duration": 7,
    "start_time": "2024-06-27T17:20:59.004Z"
   },
   {
    "duration": 13,
    "start_time": "2024-06-27T17:20:59.012Z"
   },
   {
    "duration": 11,
    "start_time": "2024-06-27T17:20:59.026Z"
   },
   {
    "duration": 87,
    "start_time": "2024-06-27T17:20:59.038Z"
   },
   {
    "duration": 111,
    "start_time": "2024-06-27T17:21:45.477Z"
   },
   {
    "duration": 11,
    "start_time": "2024-06-27T17:21:53.386Z"
   },
   {
    "duration": 7,
    "start_time": "2024-06-27T17:22:22.965Z"
   },
   {
    "duration": 8,
    "start_time": "2024-06-27T17:22:35.255Z"
   },
   {
    "duration": 7,
    "start_time": "2024-06-27T17:22:39.084Z"
   },
   {
    "duration": 10,
    "start_time": "2024-06-27T17:24:27.727Z"
   },
   {
    "duration": 9,
    "start_time": "2024-06-27T17:30:42.597Z"
   },
   {
    "duration": 55,
    "start_time": "2024-06-28T10:34:44.896Z"
   },
   {
    "duration": 1398,
    "start_time": "2024-06-28T10:35:04.015Z"
   },
   {
    "duration": 69,
    "start_time": "2024-06-28T10:35:05.415Z"
   },
   {
    "duration": 12,
    "start_time": "2024-06-28T10:35:05.486Z"
   },
   {
    "duration": 39,
    "start_time": "2024-06-28T10:35:05.500Z"
   },
   {
    "duration": 7,
    "start_time": "2024-06-28T10:35:05.540Z"
   },
   {
    "duration": 41,
    "start_time": "2024-06-28T10:35:05.548Z"
   },
   {
    "duration": 20,
    "start_time": "2024-06-28T10:35:05.591Z"
   },
   {
    "duration": 165,
    "start_time": "2024-06-28T10:35:05.613Z"
   },
   {
    "duration": 10,
    "start_time": "2024-06-28T10:35:05.781Z"
   },
   {
    "duration": 24,
    "start_time": "2024-06-28T10:35:05.794Z"
   },
   {
    "duration": 34,
    "start_time": "2024-06-28T10:35:05.820Z"
   },
   {
    "duration": 21,
    "start_time": "2024-06-28T10:35:05.856Z"
   },
   {
    "duration": 23,
    "start_time": "2024-06-28T10:35:05.879Z"
   },
   {
    "duration": 7,
    "start_time": "2024-06-28T10:36:10.876Z"
   },
   {
    "duration": 6,
    "start_time": "2024-06-28T10:36:37.281Z"
   },
   {
    "duration": 10,
    "start_time": "2024-06-28T10:50:06.884Z"
   },
   {
    "duration": 1153,
    "start_time": "2024-06-28T10:51:03.200Z"
   },
   {
    "duration": 8,
    "start_time": "2024-06-28T10:51:46.453Z"
   },
   {
    "duration": 5,
    "start_time": "2024-06-28T11:02:13.757Z"
   },
   {
    "duration": 12,
    "start_time": "2024-06-28T11:02:53.092Z"
   },
   {
    "duration": 9,
    "start_time": "2024-06-28T11:03:06.824Z"
   },
   {
    "duration": 14,
    "start_time": "2024-06-28T11:03:41.833Z"
   },
   {
    "duration": 10,
    "start_time": "2024-06-28T11:04:18.730Z"
   },
   {
    "duration": 11,
    "start_time": "2024-06-28T11:20:11.670Z"
   },
   {
    "duration": 1436,
    "start_time": "2024-06-28T11:30:48.188Z"
   },
   {
    "duration": 28,
    "start_time": "2024-06-28T11:30:49.626Z"
   },
   {
    "duration": 12,
    "start_time": "2024-06-28T11:30:49.655Z"
   },
   {
    "duration": 10,
    "start_time": "2024-06-28T11:30:49.669Z"
   },
   {
    "duration": 3,
    "start_time": "2024-06-28T11:30:49.681Z"
   },
   {
    "duration": 19,
    "start_time": "2024-06-28T11:30:49.686Z"
   },
   {
    "duration": 19,
    "start_time": "2024-06-28T11:30:49.706Z"
   },
   {
    "duration": 62,
    "start_time": "2024-06-28T11:30:49.726Z"
   },
   {
    "duration": 7,
    "start_time": "2024-06-28T11:30:49.790Z"
   },
   {
    "duration": 10,
    "start_time": "2024-06-28T11:30:49.800Z"
   },
   {
    "duration": 9,
    "start_time": "2024-06-28T11:30:49.812Z"
   },
   {
    "duration": 17,
    "start_time": "2024-06-28T11:30:49.822Z"
   },
   {
    "duration": 11,
    "start_time": "2024-06-28T11:30:49.841Z"
   },
   {
    "duration": 14,
    "start_time": "2024-06-28T11:30:49.854Z"
   },
   {
    "duration": 6,
    "start_time": "2024-06-28T11:30:49.882Z"
   },
   {
    "duration": 8,
    "start_time": "2024-06-28T11:30:49.890Z"
   },
   {
    "duration": 8,
    "start_time": "2024-06-28T11:30:49.900Z"
   },
   {
    "duration": 12,
    "start_time": "2024-06-28T11:30:49.909Z"
   },
   {
    "duration": 13,
    "start_time": "2024-06-28T11:30:49.923Z"
   },
   {
    "duration": 49,
    "start_time": "2024-06-28T11:30:49.937Z"
   },
   {
    "duration": 124,
    "start_time": "2024-06-28T11:30:49.987Z"
   },
   {
    "duration": 16,
    "start_time": "2024-06-28T11:31:34.782Z"
   },
   {
    "duration": 4,
    "start_time": "2024-06-28T11:36:17.377Z"
   },
   {
    "duration": 11,
    "start_time": "2024-06-28T11:36:36.114Z"
   },
   {
    "duration": 5,
    "start_time": "2024-06-28T11:37:31.929Z"
   },
   {
    "duration": 9,
    "start_time": "2024-06-28T11:37:51.556Z"
   },
   {
    "duration": 1310,
    "start_time": "2024-06-28T11:38:26.937Z"
   },
   {
    "duration": 28,
    "start_time": "2024-06-28T11:38:28.249Z"
   },
   {
    "duration": 18,
    "start_time": "2024-06-28T11:38:28.279Z"
   },
   {
    "duration": 13,
    "start_time": "2024-06-28T11:38:28.300Z"
   },
   {
    "duration": 4,
    "start_time": "2024-06-28T11:38:28.315Z"
   },
   {
    "duration": 20,
    "start_time": "2024-06-28T11:38:28.321Z"
   },
   {
    "duration": 39,
    "start_time": "2024-06-28T11:38:28.343Z"
   },
   {
    "duration": 55,
    "start_time": "2024-06-28T11:38:28.384Z"
   },
   {
    "duration": 8,
    "start_time": "2024-06-28T11:38:28.441Z"
   },
   {
    "duration": 11,
    "start_time": "2024-06-28T11:38:28.452Z"
   },
   {
    "duration": 26,
    "start_time": "2024-06-28T11:38:28.465Z"
   },
   {
    "duration": 13,
    "start_time": "2024-06-28T11:38:28.493Z"
   },
   {
    "duration": 8,
    "start_time": "2024-06-28T11:38:28.509Z"
   },
   {
    "duration": 8,
    "start_time": "2024-06-28T11:38:28.519Z"
   },
   {
    "duration": 9,
    "start_time": "2024-06-28T11:38:28.530Z"
   },
   {
    "duration": 13,
    "start_time": "2024-06-28T11:38:28.541Z"
   },
   {
    "duration": 38,
    "start_time": "2024-06-28T11:38:28.555Z"
   },
   {
    "duration": 15,
    "start_time": "2024-06-28T11:38:28.595Z"
   },
   {
    "duration": 13,
    "start_time": "2024-06-28T11:38:28.611Z"
   },
   {
    "duration": 9,
    "start_time": "2024-06-28T11:38:28.626Z"
   },
   {
    "duration": 13,
    "start_time": "2024-06-28T11:38:28.637Z"
   },
   {
    "duration": 34,
    "start_time": "2024-06-28T11:38:28.652Z"
   },
   {
    "duration": 17,
    "start_time": "2024-06-28T11:38:28.688Z"
   },
   {
    "duration": 4,
    "start_time": "2024-06-28T11:38:28.707Z"
   },
   {
    "duration": 13,
    "start_time": "2024-06-28T11:38:28.712Z"
   },
   {
    "duration": 628,
    "start_time": "2024-06-28T11:59:10.639Z"
   },
   {
    "duration": 280,
    "start_time": "2024-06-28T11:59:38.562Z"
   },
   {
    "duration": 193,
    "start_time": "2024-06-28T11:59:44.799Z"
   },
   {
    "duration": 528,
    "start_time": "2024-06-28T12:00:11.624Z"
   },
   {
    "duration": 596,
    "start_time": "2024-06-28T12:01:12.861Z"
   },
   {
    "duration": 605,
    "start_time": "2024-06-28T12:01:38.103Z"
   },
   {
    "duration": 456,
    "start_time": "2024-06-28T12:03:04.912Z"
   },
   {
    "duration": 474,
    "start_time": "2024-06-28T12:03:20.866Z"
   },
   {
    "duration": 563,
    "start_time": "2024-06-28T12:03:30.178Z"
   },
   {
    "duration": 459,
    "start_time": "2024-06-28T12:04:01.725Z"
   },
   {
    "duration": 435,
    "start_time": "2024-06-28T12:04:24.093Z"
   },
   {
    "duration": 469,
    "start_time": "2024-06-28T12:04:48.908Z"
   },
   {
    "duration": 475,
    "start_time": "2024-06-28T12:05:13.681Z"
   },
   {
    "duration": 438,
    "start_time": "2024-06-28T12:05:59.027Z"
   },
   {
    "duration": 470,
    "start_time": "2024-06-28T12:06:16.661Z"
   },
   {
    "duration": 599,
    "start_time": "2024-06-28T12:11:16.531Z"
   },
   {
    "duration": 480,
    "start_time": "2024-06-28T12:11:47.249Z"
   },
   {
    "duration": 558,
    "start_time": "2024-06-28T12:12:42.161Z"
   },
   {
    "duration": 582,
    "start_time": "2024-06-28T12:12:51.865Z"
   },
   {
    "duration": 508,
    "start_time": "2024-06-28T12:13:28.887Z"
   },
   {
    "duration": 441,
    "start_time": "2024-06-28T12:14:29.534Z"
   },
   {
    "duration": 438,
    "start_time": "2024-06-28T12:14:59.952Z"
   },
   {
    "duration": 472,
    "start_time": "2024-06-28T12:15:30.156Z"
   },
   {
    "duration": 53,
    "start_time": "2024-06-28T14:31:04.050Z"
   },
   {
    "duration": 1294,
    "start_time": "2024-06-28T14:31:12.083Z"
   },
   {
    "duration": 70,
    "start_time": "2024-06-28T14:31:13.378Z"
   },
   {
    "duration": 10,
    "start_time": "2024-06-28T14:31:13.449Z"
   },
   {
    "duration": 12,
    "start_time": "2024-06-28T14:31:13.461Z"
   },
   {
    "duration": 20,
    "start_time": "2024-06-28T14:31:13.474Z"
   },
   {
    "duration": 16,
    "start_time": "2024-06-28T14:31:13.496Z"
   },
   {
    "duration": 25,
    "start_time": "2024-06-28T14:31:13.513Z"
   },
   {
    "duration": 164,
    "start_time": "2024-06-28T14:31:13.540Z"
   },
   {
    "duration": 7,
    "start_time": "2024-06-28T14:31:13.706Z"
   },
   {
    "duration": 8,
    "start_time": "2024-06-28T14:31:13.716Z"
   },
   {
    "duration": 6,
    "start_time": "2024-06-28T14:31:13.725Z"
   },
   {
    "duration": 32,
    "start_time": "2024-06-28T14:31:13.732Z"
   },
   {
    "duration": 11,
    "start_time": "2024-06-28T14:31:13.765Z"
   },
   {
    "duration": 13,
    "start_time": "2024-06-28T14:31:13.778Z"
   },
   {
    "duration": 8,
    "start_time": "2024-06-28T14:31:13.792Z"
   },
   {
    "duration": 11,
    "start_time": "2024-06-28T14:31:13.802Z"
   },
   {
    "duration": 49,
    "start_time": "2024-06-28T14:31:13.814Z"
   },
   {
    "duration": 11,
    "start_time": "2024-06-28T14:31:13.865Z"
   },
   {
    "duration": 14,
    "start_time": "2024-06-28T14:31:13.878Z"
   },
   {
    "duration": 8,
    "start_time": "2024-06-28T14:31:13.893Z"
   },
   {
    "duration": 10,
    "start_time": "2024-06-28T14:31:13.903Z"
   },
   {
    "duration": 4,
    "start_time": "2024-06-28T14:31:13.914Z"
   },
   {
    "duration": 26,
    "start_time": "2024-06-28T14:31:13.919Z"
   },
   {
    "duration": 3,
    "start_time": "2024-06-28T14:31:13.946Z"
   },
   {
    "duration": 20,
    "start_time": "2024-06-28T14:31:13.950Z"
   },
   {
    "duration": 504,
    "start_time": "2024-06-28T14:31:13.971Z"
   },
   {
    "duration": 202,
    "start_time": "2024-06-28T14:31:14.477Z"
   },
   {
    "duration": 316,
    "start_time": "2024-06-28T16:17:29.110Z"
   },
   {
    "duration": 245,
    "start_time": "2024-06-28T16:18:09.424Z"
   },
   {
    "duration": 254,
    "start_time": "2024-06-28T16:18:16.391Z"
   },
   {
    "duration": 252,
    "start_time": "2024-06-28T16:18:40.853Z"
   },
   {
    "duration": 348,
    "start_time": "2024-06-28T16:19:34.908Z"
   },
   {
    "duration": 284,
    "start_time": "2024-06-28T16:20:13.269Z"
   },
   {
    "duration": 306,
    "start_time": "2024-06-28T16:20:21.968Z"
   },
   {
    "duration": 250,
    "start_time": "2024-06-28T16:24:59.229Z"
   },
   {
    "duration": 340,
    "start_time": "2024-06-28T16:25:13.586Z"
   },
   {
    "duration": 271,
    "start_time": "2024-06-28T16:25:22.530Z"
   },
   {
    "duration": 451,
    "start_time": "2024-06-28T16:25:27.828Z"
   },
   {
    "duration": 278,
    "start_time": "2024-06-28T16:25:42.163Z"
   },
   {
    "duration": 289,
    "start_time": "2024-06-28T16:25:48.466Z"
   },
   {
    "duration": 1201,
    "start_time": "2024-06-28T16:25:55.066Z"
   },
   {
    "duration": 28,
    "start_time": "2024-06-28T16:25:56.269Z"
   },
   {
    "duration": 44,
    "start_time": "2024-06-28T16:25:56.298Z"
   },
   {
    "duration": 12,
    "start_time": "2024-06-28T16:25:56.345Z"
   },
   {
    "duration": 8,
    "start_time": "2024-06-28T16:25:56.360Z"
   },
   {
    "duration": 34,
    "start_time": "2024-06-28T16:25:56.370Z"
   },
   {
    "duration": 13,
    "start_time": "2024-06-28T16:25:56.406Z"
   },
   {
    "duration": 72,
    "start_time": "2024-06-28T16:25:56.421Z"
   },
   {
    "duration": 11,
    "start_time": "2024-06-28T16:25:56.496Z"
   },
   {
    "duration": 39,
    "start_time": "2024-06-28T16:25:56.510Z"
   },
   {
    "duration": 10,
    "start_time": "2024-06-28T16:25:56.551Z"
   },
   {
    "duration": 31,
    "start_time": "2024-06-28T16:25:56.563Z"
   },
   {
    "duration": 69,
    "start_time": "2024-06-28T16:25:56.596Z"
   },
   {
    "duration": 8,
    "start_time": "2024-06-28T16:25:56.667Z"
   },
   {
    "duration": 5,
    "start_time": "2024-06-28T16:25:56.677Z"
   },
   {
    "duration": 10,
    "start_time": "2024-06-28T16:25:56.683Z"
   },
   {
    "duration": 11,
    "start_time": "2024-06-28T16:25:56.694Z"
   },
   {
    "duration": 26,
    "start_time": "2024-06-28T16:25:56.707Z"
   },
   {
    "duration": 32,
    "start_time": "2024-06-28T16:25:56.734Z"
   },
   {
    "duration": 11,
    "start_time": "2024-06-28T16:25:56.769Z"
   },
   {
    "duration": 12,
    "start_time": "2024-06-28T16:25:56.782Z"
   },
   {
    "duration": 7,
    "start_time": "2024-06-28T16:25:56.796Z"
   },
   {
    "duration": 11,
    "start_time": "2024-06-28T16:25:56.805Z"
   },
   {
    "duration": 7,
    "start_time": "2024-06-28T16:25:56.818Z"
   },
   {
    "duration": 43,
    "start_time": "2024-06-28T16:25:56.826Z"
   },
   {
    "duration": 574,
    "start_time": "2024-06-28T16:25:56.871Z"
   },
   {
    "duration": 200,
    "start_time": "2024-06-28T16:25:57.447Z"
   },
   {
    "duration": 289,
    "start_time": "2024-06-28T16:25:57.650Z"
   },
   {
    "duration": 249,
    "start_time": "2024-06-28T16:26:19.406Z"
   },
   {
    "duration": 52,
    "start_time": "2024-06-28T16:27:45.433Z"
   },
   {
    "duration": 230,
    "start_time": "2024-06-28T16:28:11.448Z"
   },
   {
    "duration": 151,
    "start_time": "2024-06-28T16:30:07.620Z"
   },
   {
    "duration": 358,
    "start_time": "2024-06-28T16:30:29.178Z"
   },
   {
    "duration": 380,
    "start_time": "2024-06-28T16:30:47.887Z"
   },
   {
    "duration": 347,
    "start_time": "2024-06-28T16:30:58.946Z"
   },
   {
    "duration": 203,
    "start_time": "2024-06-28T16:33:26.927Z"
   },
   {
    "duration": 474,
    "start_time": "2024-06-28T16:33:40.998Z"
   },
   {
    "duration": 1134,
    "start_time": "2024-06-28T16:38:12.023Z"
   },
   {
    "duration": 26,
    "start_time": "2024-06-28T16:38:13.159Z"
   },
   {
    "duration": 10,
    "start_time": "2024-06-28T16:38:13.186Z"
   },
   {
    "duration": 14,
    "start_time": "2024-06-28T16:38:13.198Z"
   },
   {
    "duration": 5,
    "start_time": "2024-06-28T16:38:13.213Z"
   },
   {
    "duration": 26,
    "start_time": "2024-06-28T16:38:13.219Z"
   },
   {
    "duration": 12,
    "start_time": "2024-06-28T16:38:13.247Z"
   },
   {
    "duration": 75,
    "start_time": "2024-06-28T16:38:13.261Z"
   },
   {
    "duration": 7,
    "start_time": "2024-06-28T16:38:13.338Z"
   },
   {
    "duration": 10,
    "start_time": "2024-06-28T16:38:13.348Z"
   },
   {
    "duration": 8,
    "start_time": "2024-06-28T16:38:13.359Z"
   },
   {
    "duration": 15,
    "start_time": "2024-06-28T16:38:13.368Z"
   },
   {
    "duration": 6,
    "start_time": "2024-06-28T16:38:13.385Z"
   },
   {
    "duration": 11,
    "start_time": "2024-06-28T16:38:13.392Z"
   },
   {
    "duration": 5,
    "start_time": "2024-06-28T16:38:13.404Z"
   },
   {
    "duration": 8,
    "start_time": "2024-06-28T16:38:13.410Z"
   },
   {
    "duration": 8,
    "start_time": "2024-06-28T16:38:13.419Z"
   },
   {
    "duration": 39,
    "start_time": "2024-06-28T16:38:13.428Z"
   },
   {
    "duration": 70,
    "start_time": "2024-06-28T16:38:13.469Z"
   },
   {
    "duration": 29,
    "start_time": "2024-06-28T16:38:13.540Z"
   },
   {
    "duration": 11,
    "start_time": "2024-06-28T16:38:13.571Z"
   },
   {
    "duration": 17,
    "start_time": "2024-06-28T16:38:13.583Z"
   },
   {
    "duration": 26,
    "start_time": "2024-06-28T16:38:13.601Z"
   },
   {
    "duration": 7,
    "start_time": "2024-06-28T16:38:13.629Z"
   },
   {
    "duration": 23,
    "start_time": "2024-06-28T16:38:13.638Z"
   },
   {
    "duration": 567,
    "start_time": "2024-06-28T16:38:13.663Z"
   },
   {
    "duration": 206,
    "start_time": "2024-06-28T16:38:14.232Z"
   },
   {
    "duration": 314,
    "start_time": "2024-06-28T16:38:14.441Z"
   },
   {
    "duration": 1194,
    "start_time": "2024-06-28T16:40:01.048Z"
   },
   {
    "duration": 28,
    "start_time": "2024-06-28T16:40:02.243Z"
   },
   {
    "duration": 29,
    "start_time": "2024-06-28T16:40:02.272Z"
   },
   {
    "duration": 112,
    "start_time": "2024-06-28T16:40:02.303Z"
   },
   {
    "duration": 20,
    "start_time": "2024-06-28T16:40:02.417Z"
   },
   {
    "duration": 26,
    "start_time": "2024-06-28T16:40:02.438Z"
   },
   {
    "duration": 11,
    "start_time": "2024-06-28T16:40:02.466Z"
   },
   {
    "duration": 82,
    "start_time": "2024-06-28T16:40:02.479Z"
   },
   {
    "duration": 7,
    "start_time": "2024-06-28T16:40:02.563Z"
   },
   {
    "duration": 14,
    "start_time": "2024-06-28T16:40:02.572Z"
   },
   {
    "duration": 9,
    "start_time": "2024-06-28T16:40:02.587Z"
   },
   {
    "duration": 19,
    "start_time": "2024-06-28T16:40:02.597Z"
   },
   {
    "duration": 42,
    "start_time": "2024-06-28T16:40:02.618Z"
   },
   {
    "duration": 102,
    "start_time": "2024-06-28T16:40:02.662Z"
   },
   {
    "duration": 29,
    "start_time": "2024-06-28T16:40:02.766Z"
   },
   {
    "duration": 39,
    "start_time": "2024-06-28T16:40:02.796Z"
   },
   {
    "duration": 20,
    "start_time": "2024-06-28T16:40:02.836Z"
   },
   {
    "duration": 46,
    "start_time": "2024-06-28T16:40:02.857Z"
   },
   {
    "duration": 31,
    "start_time": "2024-06-28T16:40:02.905Z"
   },
   {
    "duration": 27,
    "start_time": "2024-06-28T16:40:02.938Z"
   },
   {
    "duration": 24,
    "start_time": "2024-06-28T16:40:02.967Z"
   },
   {
    "duration": 42,
    "start_time": "2024-06-28T16:40:02.992Z"
   },
   {
    "duration": 37,
    "start_time": "2024-06-28T16:40:03.036Z"
   },
   {
    "duration": 8,
    "start_time": "2024-06-28T16:40:03.074Z"
   },
   {
    "duration": 20,
    "start_time": "2024-06-28T16:40:03.084Z"
   },
   {
    "duration": 578,
    "start_time": "2024-06-28T16:40:03.106Z"
   },
   {
    "duration": 216,
    "start_time": "2024-06-28T16:40:03.686Z"
   },
   {
    "duration": 263,
    "start_time": "2024-06-28T16:40:03.905Z"
   },
   {
    "duration": 1185,
    "start_time": "2024-06-28T16:42:59.503Z"
   },
   {
    "duration": 28,
    "start_time": "2024-06-28T16:43:00.690Z"
   },
   {
    "duration": 76,
    "start_time": "2024-06-28T16:43:00.720Z"
   },
   {
    "duration": 41,
    "start_time": "2024-06-28T16:43:00.797Z"
   },
   {
    "duration": 91,
    "start_time": "2024-06-28T16:43:00.841Z"
   },
   {
    "duration": 47,
    "start_time": "2024-06-28T16:43:00.933Z"
   },
   {
    "duration": 75,
    "start_time": "2024-06-28T16:43:00.981Z"
   },
   {
    "duration": 155,
    "start_time": "2024-06-28T16:43:01.057Z"
   },
   {
    "duration": 135,
    "start_time": "2024-06-28T16:43:01.214Z"
   },
   {
    "duration": 293,
    "start_time": "2024-06-28T16:43:01.351Z"
   },
   {
    "duration": 40,
    "start_time": "2024-06-28T16:43:01.646Z"
   },
   {
    "duration": 76,
    "start_time": "2024-06-28T16:43:01.687Z"
   },
   {
    "duration": 205,
    "start_time": "2024-06-28T16:43:01.765Z"
   },
   {
    "duration": 177,
    "start_time": "2024-06-28T16:43:01.972Z"
   },
   {
    "duration": 35,
    "start_time": "2024-06-28T16:43:02.151Z"
   },
   {
    "duration": 16,
    "start_time": "2024-06-28T16:43:02.187Z"
   },
   {
    "duration": 17,
    "start_time": "2024-06-28T16:43:02.205Z"
   },
   {
    "duration": 56,
    "start_time": "2024-06-28T16:43:02.224Z"
   },
   {
    "duration": 22,
    "start_time": "2024-06-28T16:43:02.282Z"
   },
   {
    "duration": 27,
    "start_time": "2024-06-28T16:43:02.306Z"
   },
   {
    "duration": 87,
    "start_time": "2024-06-28T16:43:02.334Z"
   },
   {
    "duration": 21,
    "start_time": "2024-06-28T16:43:02.422Z"
   },
   {
    "duration": 39,
    "start_time": "2024-06-28T16:43:02.445Z"
   },
   {
    "duration": 23,
    "start_time": "2024-06-28T16:43:02.485Z"
   },
   {
    "duration": 31,
    "start_time": "2024-06-28T16:43:02.509Z"
   },
   {
    "duration": 621,
    "start_time": "2024-06-28T16:43:02.542Z"
   },
   {
    "duration": 209,
    "start_time": "2024-06-28T16:43:03.165Z"
   },
   {
    "duration": 310,
    "start_time": "2024-06-28T16:43:03.376Z"
   },
   {
    "duration": 53,
    "start_time": "2024-06-30T10:20:25.079Z"
   },
   {
    "duration": 1422,
    "start_time": "2024-06-30T10:20:30.749Z"
   },
   {
    "duration": 70,
    "start_time": "2024-06-30T10:20:32.174Z"
   },
   {
    "duration": 61,
    "start_time": "2024-06-30T10:20:32.246Z"
   },
   {
    "duration": 340,
    "start_time": "2024-06-30T10:20:32.310Z"
   },
   {
    "duration": 95,
    "start_time": "2024-06-30T10:20:32.651Z"
   },
   {
    "duration": 257,
    "start_time": "2024-06-30T10:20:32.747Z"
   },
   {
    "duration": 55,
    "start_time": "2024-06-30T10:20:33.006Z"
   },
   {
    "duration": 160,
    "start_time": "2024-06-30T10:20:33.063Z"
   },
   {
    "duration": 8,
    "start_time": "2024-06-30T10:20:33.225Z"
   },
   {
    "duration": 20,
    "start_time": "2024-06-30T10:20:33.235Z"
   },
   {
    "duration": 7,
    "start_time": "2024-06-30T10:20:33.257Z"
   },
   {
    "duration": 12,
    "start_time": "2024-06-30T10:20:33.266Z"
   },
   {
    "duration": 6,
    "start_time": "2024-06-30T10:20:33.280Z"
   },
   {
    "duration": 9,
    "start_time": "2024-06-30T10:20:33.288Z"
   },
   {
    "duration": 6,
    "start_time": "2024-06-30T10:20:33.299Z"
   },
   {
    "duration": 47,
    "start_time": "2024-06-30T10:20:33.307Z"
   },
   {
    "duration": 16,
    "start_time": "2024-06-30T10:20:33.356Z"
   },
   {
    "duration": 12,
    "start_time": "2024-06-30T10:20:33.374Z"
   },
   {
    "duration": 25,
    "start_time": "2024-06-30T10:20:33.387Z"
   },
   {
    "duration": 12,
    "start_time": "2024-06-30T10:20:33.413Z"
   },
   {
    "duration": 27,
    "start_time": "2024-06-30T10:20:33.426Z"
   },
   {
    "duration": 4,
    "start_time": "2024-06-30T10:20:33.454Z"
   },
   {
    "duration": 12,
    "start_time": "2024-06-30T10:20:33.460Z"
   },
   {
    "duration": 13,
    "start_time": "2024-06-30T10:20:33.473Z"
   },
   {
    "duration": 22,
    "start_time": "2024-06-30T10:20:33.488Z"
   },
   {
    "duration": 569,
    "start_time": "2024-06-30T10:20:33.511Z"
   },
   {
    "duration": 221,
    "start_time": "2024-06-30T10:20:34.081Z"
   },
   {
    "duration": 404,
    "start_time": "2024-06-30T10:20:34.305Z"
   },
   {
    "duration": 335,
    "start_time": "2024-06-30T10:20:34.711Z"
   },
   {
    "duration": 232,
    "start_time": "2024-06-30T10:21:02.252Z"
   },
   {
    "duration": 221,
    "start_time": "2024-06-30T10:24:44.445Z"
   },
   {
    "duration": 227,
    "start_time": "2024-06-30T10:28:30.700Z"
   },
   {
    "duration": 344,
    "start_time": "2024-06-30T10:28:41.161Z"
   },
   {
    "duration": 249,
    "start_time": "2024-06-30T10:29:53.694Z"
   },
   {
    "duration": 361,
    "start_time": "2024-06-30T10:43:16.663Z"
   },
   {
    "duration": 314,
    "start_time": "2024-06-30T10:43:33.592Z"
   },
   {
    "duration": 369,
    "start_time": "2024-06-30T10:43:51.350Z"
   },
   {
    "duration": 176,
    "start_time": "2024-06-30T11:37:01.465Z"
   },
   {
    "duration": 172,
    "start_time": "2024-06-30T11:37:24.011Z"
   },
   {
    "duration": 6,
    "start_time": "2024-06-30T11:54:24.900Z"
   },
   {
    "duration": 183,
    "start_time": "2024-06-30T12:04:04.983Z"
   },
   {
    "duration": 186,
    "start_time": "2024-06-30T12:04:19.437Z"
   },
   {
    "duration": 230,
    "start_time": "2024-06-30T12:04:29.129Z"
   },
   {
    "duration": 6,
    "start_time": "2024-06-30T13:30:12.716Z"
   },
   {
    "duration": 274,
    "start_time": "2024-06-30T14:03:20.932Z"
   },
   {
    "duration": 1231,
    "start_time": "2024-06-30T14:04:05.561Z"
   },
   {
    "duration": 27,
    "start_time": "2024-06-30T14:04:06.794Z"
   },
   {
    "duration": 14,
    "start_time": "2024-06-30T14:04:06.822Z"
   },
   {
    "duration": 14,
    "start_time": "2024-06-30T14:04:06.838Z"
   },
   {
    "duration": 5,
    "start_time": "2024-06-30T14:04:06.854Z"
   },
   {
    "duration": 19,
    "start_time": "2024-06-30T14:04:06.860Z"
   },
   {
    "duration": 12,
    "start_time": "2024-06-30T14:04:06.881Z"
   },
   {
    "duration": 56,
    "start_time": "2024-06-30T14:04:06.894Z"
   },
   {
    "duration": 8,
    "start_time": "2024-06-30T14:04:06.952Z"
   },
   {
    "duration": 27,
    "start_time": "2024-06-30T14:04:06.963Z"
   },
   {
    "duration": 9,
    "start_time": "2024-06-30T14:04:06.992Z"
   },
   {
    "duration": 15,
    "start_time": "2024-06-30T14:04:07.003Z"
   },
   {
    "duration": 14,
    "start_time": "2024-06-30T14:04:07.020Z"
   },
   {
    "duration": 8,
    "start_time": "2024-06-30T14:04:07.036Z"
   },
   {
    "duration": 8,
    "start_time": "2024-06-30T14:04:07.046Z"
   },
   {
    "duration": 17,
    "start_time": "2024-06-30T14:04:07.055Z"
   },
   {
    "duration": 8,
    "start_time": "2024-06-30T14:04:07.073Z"
   },
   {
    "duration": 13,
    "start_time": "2024-06-30T14:04:07.082Z"
   },
   {
    "duration": 30,
    "start_time": "2024-06-30T14:04:07.097Z"
   },
   {
    "duration": 20,
    "start_time": "2024-06-30T14:04:07.130Z"
   },
   {
    "duration": 14,
    "start_time": "2024-06-30T14:04:07.152Z"
   },
   {
    "duration": 8,
    "start_time": "2024-06-30T14:04:07.167Z"
   },
   {
    "duration": 56,
    "start_time": "2024-06-30T14:04:07.176Z"
   },
   {
    "duration": 57,
    "start_time": "2024-06-30T14:04:07.233Z"
   },
   {
    "duration": 45,
    "start_time": "2024-06-30T14:04:07.291Z"
   },
   {
    "duration": 576,
    "start_time": "2024-06-30T14:04:07.337Z"
   },
   {
    "duration": 214,
    "start_time": "2024-06-30T14:04:07.915Z"
   },
   {
    "duration": 344,
    "start_time": "2024-06-30T14:04:08.132Z"
   },
   {
    "duration": 293,
    "start_time": "2024-06-30T14:04:08.478Z"
   },
   {
    "duration": 362,
    "start_time": "2024-06-30T14:04:08.774Z"
   },
   {
    "duration": 180,
    "start_time": "2024-06-30T14:04:09.138Z"
   },
   {
    "duration": 5,
    "start_time": "2024-06-30T14:04:09.320Z"
   },
   {
    "duration": 207,
    "start_time": "2024-06-30T14:04:09.326Z"
   },
   {
    "duration": 5,
    "start_time": "2024-06-30T14:04:09.535Z"
   },
   {
    "duration": 339,
    "start_time": "2024-06-30T14:04:09.546Z"
   },
   {
    "duration": 273,
    "start_time": "2024-06-30T14:11:13.046Z"
   },
   {
    "duration": 1300,
    "start_time": "2024-06-30T16:55:36.875Z"
   },
   {
    "duration": 80,
    "start_time": "2024-06-30T16:55:38.177Z"
   },
   {
    "duration": 11,
    "start_time": "2024-06-30T16:55:38.258Z"
   },
   {
    "duration": 10,
    "start_time": "2024-06-30T16:55:38.271Z"
   },
   {
    "duration": 3,
    "start_time": "2024-06-30T16:55:38.283Z"
   },
   {
    "duration": 12,
    "start_time": "2024-06-30T16:55:38.287Z"
   },
   {
    "duration": 11,
    "start_time": "2024-06-30T16:55:38.300Z"
   },
   {
    "duration": 156,
    "start_time": "2024-06-30T16:55:38.312Z"
   },
   {
    "duration": 8,
    "start_time": "2024-06-30T16:55:38.469Z"
   },
   {
    "duration": 12,
    "start_time": "2024-06-30T16:55:38.480Z"
   },
   {
    "duration": 8,
    "start_time": "2024-06-30T16:55:38.494Z"
   },
   {
    "duration": 8,
    "start_time": "2024-06-30T16:55:38.504Z"
   },
   {
    "duration": 6,
    "start_time": "2024-06-30T16:55:38.514Z"
   },
   {
    "duration": 10,
    "start_time": "2024-06-30T16:55:38.521Z"
   },
   {
    "duration": 5,
    "start_time": "2024-06-30T16:55:38.532Z"
   },
   {
    "duration": 9,
    "start_time": "2024-06-30T16:55:38.565Z"
   },
   {
    "duration": 7,
    "start_time": "2024-06-30T16:55:38.575Z"
   },
   {
    "duration": 8,
    "start_time": "2024-06-30T16:55:38.583Z"
   },
   {
    "duration": 11,
    "start_time": "2024-06-30T16:55:38.593Z"
   },
   {
    "duration": 8,
    "start_time": "2024-06-30T16:55:38.605Z"
   },
   {
    "duration": 9,
    "start_time": "2024-06-30T16:55:38.614Z"
   },
   {
    "duration": 4,
    "start_time": "2024-06-30T16:55:38.624Z"
   },
   {
    "duration": 8,
    "start_time": "2024-06-30T16:55:38.665Z"
   },
   {
    "duration": 3,
    "start_time": "2024-06-30T16:55:38.674Z"
   },
   {
    "duration": 9,
    "start_time": "2024-06-30T16:55:38.678Z"
   },
   {
    "duration": 547,
    "start_time": "2024-06-30T16:55:38.688Z"
   },
   {
    "duration": 197,
    "start_time": "2024-06-30T16:55:39.237Z"
   },
   {
    "duration": 366,
    "start_time": "2024-06-30T16:55:39.437Z"
   },
   {
    "duration": 242,
    "start_time": "2024-06-30T16:55:39.805Z"
   },
   {
    "duration": 375,
    "start_time": "2024-06-30T16:55:40.049Z"
   },
   {
    "duration": 150,
    "start_time": "2024-06-30T16:55:40.426Z"
   },
   {
    "duration": 5,
    "start_time": "2024-06-30T16:55:40.577Z"
   },
   {
    "duration": 165,
    "start_time": "2024-06-30T16:55:40.583Z"
   },
   {
    "duration": 4,
    "start_time": "2024-06-30T16:55:40.750Z"
   },
   {
    "duration": 301,
    "start_time": "2024-06-30T16:55:40.764Z"
   },
   {
    "duration": 12,
    "start_time": "2024-06-30T16:59:20.467Z"
   },
   {
    "duration": 47,
    "start_time": "2024-07-01T09:26:54.145Z"
   },
   {
    "duration": 1298,
    "start_time": "2024-07-01T09:27:02.048Z"
   },
   {
    "duration": 67,
    "start_time": "2024-07-01T09:27:03.348Z"
   },
   {
    "duration": 11,
    "start_time": "2024-07-01T09:27:03.417Z"
   },
   {
    "duration": 43,
    "start_time": "2024-07-01T09:27:03.430Z"
   },
   {
    "duration": 69,
    "start_time": "2024-07-01T09:27:03.474Z"
   },
   {
    "duration": 72,
    "start_time": "2024-07-01T09:27:03.545Z"
   },
   {
    "duration": 22,
    "start_time": "2024-07-01T09:27:03.619Z"
   },
   {
    "duration": 166,
    "start_time": "2024-07-01T09:27:03.643Z"
   },
   {
    "duration": 8,
    "start_time": "2024-07-01T09:27:03.811Z"
   },
   {
    "duration": 17,
    "start_time": "2024-07-01T09:27:03.821Z"
   },
   {
    "duration": 30,
    "start_time": "2024-07-01T09:27:03.839Z"
   },
   {
    "duration": 13,
    "start_time": "2024-07-01T09:27:03.871Z"
   },
   {
    "duration": 35,
    "start_time": "2024-07-01T09:27:03.886Z"
   },
   {
    "duration": 29,
    "start_time": "2024-07-01T09:27:03.922Z"
   },
   {
    "duration": 31,
    "start_time": "2024-07-01T09:27:03.952Z"
   },
   {
    "duration": 32,
    "start_time": "2024-07-01T09:27:03.984Z"
   },
   {
    "duration": 107,
    "start_time": "2024-07-01T09:27:04.018Z"
   },
   {
    "duration": 38,
    "start_time": "2024-07-01T09:27:04.127Z"
   },
   {
    "duration": 42,
    "start_time": "2024-07-01T09:27:04.167Z"
   },
   {
    "duration": 28,
    "start_time": "2024-07-01T09:27:04.211Z"
   },
   {
    "duration": 28,
    "start_time": "2024-07-01T09:27:04.241Z"
   },
   {
    "duration": 3,
    "start_time": "2024-07-01T09:27:04.271Z"
   },
   {
    "duration": 44,
    "start_time": "2024-07-01T09:27:04.276Z"
   },
   {
    "duration": 57,
    "start_time": "2024-07-01T09:27:04.321Z"
   },
   {
    "duration": 28,
    "start_time": "2024-07-01T09:27:04.380Z"
   },
   {
    "duration": 573,
    "start_time": "2024-07-01T09:27:04.410Z"
   },
   {
    "duration": 198,
    "start_time": "2024-07-01T09:27:04.985Z"
   },
   {
    "duration": 299,
    "start_time": "2024-07-01T09:27:05.186Z"
   },
   {
    "duration": 229,
    "start_time": "2024-07-01T09:27:05.486Z"
   },
   {
    "duration": 366,
    "start_time": "2024-07-01T09:27:05.718Z"
   },
   {
    "duration": 162,
    "start_time": "2024-07-01T09:27:06.086Z"
   },
   {
    "duration": 4,
    "start_time": "2024-07-01T09:27:06.249Z"
   },
   {
    "duration": 206,
    "start_time": "2024-07-01T09:27:06.255Z"
   },
   {
    "duration": 4,
    "start_time": "2024-07-01T09:27:06.463Z"
   },
   {
    "duration": 329,
    "start_time": "2024-07-01T09:27:06.468Z"
   },
   {
    "duration": 11,
    "start_time": "2024-07-01T09:27:06.799Z"
   },
   {
    "duration": 41,
    "start_time": "2024-07-01T09:27:06.812Z"
   },
   {
    "duration": 9,
    "start_time": "2024-07-01T09:28:50.124Z"
   },
   {
    "duration": 9,
    "start_time": "2024-07-01T09:28:55.961Z"
   },
   {
    "duration": 30,
    "start_time": "2024-07-01T09:46:50.462Z"
   },
   {
    "duration": 15,
    "start_time": "2024-07-01T09:58:31.344Z"
   },
   {
    "duration": 14,
    "start_time": "2024-07-01T09:58:43.118Z"
   },
   {
    "duration": 1404,
    "start_time": "2024-07-01T14:41:25.766Z"
   },
   {
    "duration": 81,
    "start_time": "2024-07-01T14:41:27.172Z"
   },
   {
    "duration": 12,
    "start_time": "2024-07-01T14:41:27.254Z"
   },
   {
    "duration": 32,
    "start_time": "2024-07-01T14:41:27.268Z"
   },
   {
    "duration": 18,
    "start_time": "2024-07-01T14:41:27.302Z"
   },
   {
    "duration": 14,
    "start_time": "2024-07-01T14:41:27.321Z"
   },
   {
    "duration": 11,
    "start_time": "2024-07-01T14:41:27.337Z"
   },
   {
    "duration": 140,
    "start_time": "2024-07-01T14:41:27.350Z"
   },
   {
    "duration": 8,
    "start_time": "2024-07-01T14:41:27.492Z"
   },
   {
    "duration": 14,
    "start_time": "2024-07-01T14:41:27.503Z"
   },
   {
    "duration": 8,
    "start_time": "2024-07-01T14:41:27.518Z"
   },
   {
    "duration": 11,
    "start_time": "2024-07-01T14:41:27.528Z"
   },
   {
    "duration": 19,
    "start_time": "2024-07-01T14:41:27.541Z"
   },
   {
    "duration": 6,
    "start_time": "2024-07-01T14:41:27.562Z"
   },
   {
    "duration": 7,
    "start_time": "2024-07-01T14:41:27.569Z"
   },
   {
    "duration": 8,
    "start_time": "2024-07-01T14:41:27.578Z"
   },
   {
    "duration": 7,
    "start_time": "2024-07-01T14:41:27.587Z"
   },
   {
    "duration": 10,
    "start_time": "2024-07-01T14:41:27.596Z"
   },
   {
    "duration": 18,
    "start_time": "2024-07-01T14:41:27.608Z"
   },
   {
    "duration": 11,
    "start_time": "2024-07-01T14:41:27.655Z"
   },
   {
    "duration": 19,
    "start_time": "2024-07-01T14:41:27.667Z"
   },
   {
    "duration": 4,
    "start_time": "2024-07-01T14:41:27.688Z"
   },
   {
    "duration": 25,
    "start_time": "2024-07-01T14:41:27.693Z"
   },
   {
    "duration": 8,
    "start_time": "2024-07-01T14:41:27.720Z"
   },
   {
    "duration": 26,
    "start_time": "2024-07-01T14:41:27.730Z"
   },
   {
    "duration": 538,
    "start_time": "2024-07-01T14:41:27.757Z"
   },
   {
    "duration": 220,
    "start_time": "2024-07-01T14:41:28.296Z"
   },
   {
    "duration": 376,
    "start_time": "2024-07-01T14:41:28.519Z"
   },
   {
    "duration": 262,
    "start_time": "2024-07-01T14:41:28.896Z"
   },
   {
    "duration": 369,
    "start_time": "2024-07-01T14:41:29.160Z"
   },
   {
    "duration": 175,
    "start_time": "2024-07-01T14:41:29.530Z"
   },
   {
    "duration": 5,
    "start_time": "2024-07-01T14:41:29.707Z"
   },
   {
    "duration": 189,
    "start_time": "2024-07-01T14:41:29.713Z"
   },
   {
    "duration": 5,
    "start_time": "2024-07-01T14:41:29.903Z"
   },
   {
    "duration": 374,
    "start_time": "2024-07-01T14:41:29.910Z"
   },
   {
    "duration": 11,
    "start_time": "2024-07-01T14:41:30.286Z"
   },
   {
    "duration": 88,
    "start_time": "2024-07-01T14:41:30.298Z"
   },
   {
    "duration": 84,
    "start_time": "2024-07-01T14:41:30.388Z"
   },
   {
    "duration": 84,
    "start_time": "2024-07-01T14:41:30.473Z"
   },
   {
    "duration": 1187,
    "start_time": "2024-07-01T14:45:09.206Z"
   },
   {
    "duration": 27,
    "start_time": "2024-07-01T14:45:10.395Z"
   },
   {
    "duration": 11,
    "start_time": "2024-07-01T14:45:10.423Z"
   },
   {
    "duration": 14,
    "start_time": "2024-07-01T14:45:10.437Z"
   },
   {
    "duration": 13,
    "start_time": "2024-07-01T14:45:10.453Z"
   },
   {
    "duration": 20,
    "start_time": "2024-07-01T14:45:10.469Z"
   },
   {
    "duration": 18,
    "start_time": "2024-07-01T14:45:10.491Z"
   },
   {
    "duration": 61,
    "start_time": "2024-07-01T14:45:10.511Z"
   },
   {
    "duration": 10,
    "start_time": "2024-07-01T14:45:10.575Z"
   },
   {
    "duration": 10,
    "start_time": "2024-07-01T14:45:10.589Z"
   },
   {
    "duration": 8,
    "start_time": "2024-07-01T14:45:10.601Z"
   },
   {
    "duration": 15,
    "start_time": "2024-07-01T14:45:10.611Z"
   },
   {
    "duration": 28,
    "start_time": "2024-07-01T14:45:10.628Z"
   },
   {
    "duration": 7,
    "start_time": "2024-07-01T14:45:10.658Z"
   },
   {
    "duration": 6,
    "start_time": "2024-07-01T14:45:10.667Z"
   },
   {
    "duration": 12,
    "start_time": "2024-07-01T14:45:10.674Z"
   },
   {
    "duration": 9,
    "start_time": "2024-07-01T14:45:10.689Z"
   },
   {
    "duration": 10,
    "start_time": "2024-07-01T14:45:10.700Z"
   },
   {
    "duration": 21,
    "start_time": "2024-07-01T14:45:10.758Z"
   },
   {
    "duration": 31,
    "start_time": "2024-07-01T14:45:10.781Z"
   },
   {
    "duration": 12,
    "start_time": "2024-07-01T14:45:10.813Z"
   },
   {
    "duration": 5,
    "start_time": "2024-07-01T14:45:10.827Z"
   },
   {
    "duration": 30,
    "start_time": "2024-07-01T14:45:10.834Z"
   },
   {
    "duration": 2,
    "start_time": "2024-07-01T14:45:10.867Z"
   },
   {
    "duration": 11,
    "start_time": "2024-07-01T14:45:10.871Z"
   },
   {
    "duration": 613,
    "start_time": "2024-07-01T14:45:10.884Z"
   },
   {
    "duration": 231,
    "start_time": "2024-07-01T14:45:11.499Z"
   },
   {
    "duration": 365,
    "start_time": "2024-07-01T14:45:11.735Z"
   },
   {
    "duration": 256,
    "start_time": "2024-07-01T14:45:12.102Z"
   },
   {
    "duration": 398,
    "start_time": "2024-07-01T14:45:12.360Z"
   },
   {
    "duration": 193,
    "start_time": "2024-07-01T14:45:12.760Z"
   },
   {
    "duration": 5,
    "start_time": "2024-07-01T14:45:12.955Z"
   },
   {
    "duration": 196,
    "start_time": "2024-07-01T14:45:12.961Z"
   },
   {
    "duration": 4,
    "start_time": "2024-07-01T14:45:13.159Z"
   },
   {
    "duration": 367,
    "start_time": "2024-07-01T14:45:13.165Z"
   },
   {
    "duration": 10,
    "start_time": "2024-07-01T14:45:13.534Z"
   },
   {
    "duration": 25,
    "start_time": "2024-07-01T14:45:13.555Z"
   },
   {
    "duration": 34,
    "start_time": "2024-07-01T14:45:13.582Z"
   },
   {
    "duration": 14,
    "start_time": "2024-07-01T14:45:13.618Z"
   },
   {
    "duration": 53,
    "start_time": "2024-07-02T08:56:45.134Z"
   },
   {
    "duration": 1489,
    "start_time": "2024-07-02T08:56:51.053Z"
   },
   {
    "duration": 71,
    "start_time": "2024-07-02T08:56:52.545Z"
   },
   {
    "duration": 14,
    "start_time": "2024-07-02T08:56:52.618Z"
   },
   {
    "duration": 12,
    "start_time": "2024-07-02T08:56:52.635Z"
   },
   {
    "duration": 4,
    "start_time": "2024-07-02T08:56:52.649Z"
   },
   {
    "duration": 14,
    "start_time": "2024-07-02T08:56:52.655Z"
   },
   {
    "duration": 16,
    "start_time": "2024-07-02T08:56:52.672Z"
   },
   {
    "duration": 156,
    "start_time": "2024-07-02T08:56:52.690Z"
   },
   {
    "duration": 8,
    "start_time": "2024-07-02T08:56:52.848Z"
   },
   {
    "duration": 11,
    "start_time": "2024-07-02T08:56:52.858Z"
   },
   {
    "duration": 8,
    "start_time": "2024-07-02T08:56:52.870Z"
   },
   {
    "duration": 10,
    "start_time": "2024-07-02T08:56:52.880Z"
   },
   {
    "duration": 6,
    "start_time": "2024-07-02T08:56:52.892Z"
   },
   {
    "duration": 7,
    "start_time": "2024-07-02T08:56:52.900Z"
   },
   {
    "duration": 5,
    "start_time": "2024-07-02T08:56:52.909Z"
   },
   {
    "duration": 9,
    "start_time": "2024-07-02T08:56:52.916Z"
   },
   {
    "duration": 7,
    "start_time": "2024-07-02T08:56:52.927Z"
   },
   {
    "duration": 53,
    "start_time": "2024-07-02T08:56:52.936Z"
   },
   {
    "duration": 14,
    "start_time": "2024-07-02T08:56:52.991Z"
   },
   {
    "duration": 9,
    "start_time": "2024-07-02T08:56:53.006Z"
   },
   {
    "duration": 18,
    "start_time": "2024-07-02T08:56:53.017Z"
   },
   {
    "duration": 9,
    "start_time": "2024-07-02T08:56:53.037Z"
   },
   {
    "duration": 33,
    "start_time": "2024-07-02T08:56:53.048Z"
   },
   {
    "duration": 3,
    "start_time": "2024-07-02T08:56:53.086Z"
   },
   {
    "duration": 12,
    "start_time": "2024-07-02T08:56:53.091Z"
   },
   {
    "duration": 638,
    "start_time": "2024-07-02T08:56:53.105Z"
   },
   {
    "duration": 230,
    "start_time": "2024-07-02T08:56:53.745Z"
   },
   {
    "duration": 363,
    "start_time": "2024-07-02T08:56:53.984Z"
   },
   {
    "duration": 279,
    "start_time": "2024-07-02T08:56:54.348Z"
   },
   {
    "duration": 370,
    "start_time": "2024-07-02T08:56:54.630Z"
   },
   {
    "duration": 183,
    "start_time": "2024-07-02T08:56:55.003Z"
   },
   {
    "duration": 6,
    "start_time": "2024-07-02T08:56:55.188Z"
   },
   {
    "duration": 200,
    "start_time": "2024-07-02T08:56:55.196Z"
   },
   {
    "duration": 6,
    "start_time": "2024-07-02T08:56:55.398Z"
   },
   {
    "duration": 356,
    "start_time": "2024-07-02T08:56:55.406Z"
   },
   {
    "duration": 20,
    "start_time": "2024-07-02T08:56:55.764Z"
   },
   {
    "duration": 10,
    "start_time": "2024-07-02T08:56:55.786Z"
   },
   {
    "duration": 33,
    "start_time": "2024-07-02T08:56:55.798Z"
   },
   {
    "duration": 18,
    "start_time": "2024-07-02T08:56:55.832Z"
   }
  ],
  "kernelspec": {
   "display_name": "Python 3 (ipykernel)",
   "language": "python",
   "name": "python3"
  },
  "language_info": {
   "codemirror_mode": {
    "name": "ipython",
    "version": 3
   },
   "file_extension": ".py",
   "mimetype": "text/x-python",
   "name": "python",
   "nbconvert_exporter": "python",
   "pygments_lexer": "ipython3",
   "version": "3.9.5"
  },
  "toc": {
   "base_numbering": 1,
   "nav_menu": {},
   "number_sections": true,
   "sideBar": true,
   "skip_h1_title": true,
   "title_cell": "Table of Contents",
   "title_sidebar": "Contents",
   "toc_cell": false,
   "toc_position": {},
   "toc_section_display": true,
   "toc_window_display": false
  }
 },
 "nbformat": 4,
 "nbformat_minor": 2
}
