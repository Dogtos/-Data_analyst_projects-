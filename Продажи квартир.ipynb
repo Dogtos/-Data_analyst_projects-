{
 "cells": [
  {
   "cell_type": "markdown",
   "metadata": {
    "id": "-VFbjcb3Awb7"
   },
   "source": [
    "# Исследование объявлений о продаже квартир\n",
    "\n",
    "В вашем распоряжении данные сервиса Яндекс Недвижимость — архив объявлений о продаже квартир в Санкт-Петербурге и соседних населённых пунктах за несколько лет. Вам нужно научиться определять рыночную стоимость объектов недвижимости. Для этого проведите исследовательский анализ данных и установите параметры, влияющие на цену объектов. Это позволит построить автоматизированную систему: она отследит аномалии и мошенническую деятельность.\n",
    "\n",
    "По каждой квартире на продажу доступны два вида данных. Первые вписаны пользователем, вторые — получены автоматически на основе картографических данных. Например, расстояние до центра, аэропорта и других объектов — эти данные автоматически получены из геосервисов. Количество парков и водоёмов также заполняется без участия пользователя."
   ]
  },
  {
   "cell_type": "markdown",
   "metadata": {
    "id": "aeFLH07FAwb9"
   },
   "source": [
    "### Откройте файл с данными и изучите общую информацию"
   ]
  },
  {
   "cell_type": "code",
   "execution_count": 1,
   "metadata": {
    "id": "7MZxY65pAwb9"
   },
   "outputs": [],
   "source": [
    "import pandas as pd\n",
    "import matplotlib.pyplot as plt\n",
    "import numpy as np "
   ]
  },
  {
   "cell_type": "code",
   "execution_count": 2,
   "metadata": {
    "id": "7MZxY65pAwb9"
   },
   "outputs": [
    {
     "data": {
      "text/html": [
       "<div>\n",
       "<style scoped>\n",
       "    .dataframe tbody tr th:only-of-type {\n",
       "        vertical-align: middle;\n",
       "    }\n",
       "\n",
       "    .dataframe tbody tr th {\n",
       "        vertical-align: top;\n",
       "    }\n",
       "\n",
       "    .dataframe thead th {\n",
       "        text-align: right;\n",
       "    }\n",
       "</style>\n",
       "<table border=\"1\" class=\"dataframe\">\n",
       "  <thead>\n",
       "    <tr style=\"text-align: right;\">\n",
       "      <th></th>\n",
       "      <th>total_images</th>\n",
       "      <th>last_price</th>\n",
       "      <th>total_area</th>\n",
       "      <th>first_day_exposition</th>\n",
       "      <th>rooms</th>\n",
       "      <th>ceiling_height</th>\n",
       "      <th>floors_total</th>\n",
       "      <th>living_area</th>\n",
       "      <th>floor</th>\n",
       "      <th>is_apartment</th>\n",
       "      <th>...</th>\n",
       "      <th>kitchen_area</th>\n",
       "      <th>balcony</th>\n",
       "      <th>locality_name</th>\n",
       "      <th>airports_nearest</th>\n",
       "      <th>cityCenters_nearest</th>\n",
       "      <th>parks_around3000</th>\n",
       "      <th>parks_nearest</th>\n",
       "      <th>ponds_around3000</th>\n",
       "      <th>ponds_nearest</th>\n",
       "      <th>days_exposition</th>\n",
       "    </tr>\n",
       "  </thead>\n",
       "  <tbody>\n",
       "    <tr>\n",
       "      <th>0</th>\n",
       "      <td>20</td>\n",
       "      <td>13000000.0</td>\n",
       "      <td>108.0</td>\n",
       "      <td>2019-03-07T00:00:00</td>\n",
       "      <td>3</td>\n",
       "      <td>2.70</td>\n",
       "      <td>16.0</td>\n",
       "      <td>51.0</td>\n",
       "      <td>8</td>\n",
       "      <td>NaN</td>\n",
       "      <td>...</td>\n",
       "      <td>25.0</td>\n",
       "      <td>NaN</td>\n",
       "      <td>Санкт-Петербург</td>\n",
       "      <td>18863.0</td>\n",
       "      <td>16028.0</td>\n",
       "      <td>1.0</td>\n",
       "      <td>482.0</td>\n",
       "      <td>2.0</td>\n",
       "      <td>755.0</td>\n",
       "      <td>NaN</td>\n",
       "    </tr>\n",
       "    <tr>\n",
       "      <th>1</th>\n",
       "      <td>7</td>\n",
       "      <td>3350000.0</td>\n",
       "      <td>40.4</td>\n",
       "      <td>2018-12-04T00:00:00</td>\n",
       "      <td>1</td>\n",
       "      <td>NaN</td>\n",
       "      <td>11.0</td>\n",
       "      <td>18.6</td>\n",
       "      <td>1</td>\n",
       "      <td>NaN</td>\n",
       "      <td>...</td>\n",
       "      <td>11.0</td>\n",
       "      <td>2.0</td>\n",
       "      <td>посёлок Шушары</td>\n",
       "      <td>12817.0</td>\n",
       "      <td>18603.0</td>\n",
       "      <td>0.0</td>\n",
       "      <td>NaN</td>\n",
       "      <td>0.0</td>\n",
       "      <td>NaN</td>\n",
       "      <td>81.0</td>\n",
       "    </tr>\n",
       "    <tr>\n",
       "      <th>2</th>\n",
       "      <td>10</td>\n",
       "      <td>5196000.0</td>\n",
       "      <td>56.0</td>\n",
       "      <td>2015-08-20T00:00:00</td>\n",
       "      <td>2</td>\n",
       "      <td>NaN</td>\n",
       "      <td>5.0</td>\n",
       "      <td>34.3</td>\n",
       "      <td>4</td>\n",
       "      <td>NaN</td>\n",
       "      <td>...</td>\n",
       "      <td>8.3</td>\n",
       "      <td>0.0</td>\n",
       "      <td>Санкт-Петербург</td>\n",
       "      <td>21741.0</td>\n",
       "      <td>13933.0</td>\n",
       "      <td>1.0</td>\n",
       "      <td>90.0</td>\n",
       "      <td>2.0</td>\n",
       "      <td>574.0</td>\n",
       "      <td>558.0</td>\n",
       "    </tr>\n",
       "    <tr>\n",
       "      <th>3</th>\n",
       "      <td>0</td>\n",
       "      <td>64900000.0</td>\n",
       "      <td>159.0</td>\n",
       "      <td>2015-07-24T00:00:00</td>\n",
       "      <td>3</td>\n",
       "      <td>NaN</td>\n",
       "      <td>14.0</td>\n",
       "      <td>NaN</td>\n",
       "      <td>9</td>\n",
       "      <td>NaN</td>\n",
       "      <td>...</td>\n",
       "      <td>NaN</td>\n",
       "      <td>0.0</td>\n",
       "      <td>Санкт-Петербург</td>\n",
       "      <td>28098.0</td>\n",
       "      <td>6800.0</td>\n",
       "      <td>2.0</td>\n",
       "      <td>84.0</td>\n",
       "      <td>3.0</td>\n",
       "      <td>234.0</td>\n",
       "      <td>424.0</td>\n",
       "    </tr>\n",
       "    <tr>\n",
       "      <th>4</th>\n",
       "      <td>2</td>\n",
       "      <td>10000000.0</td>\n",
       "      <td>100.0</td>\n",
       "      <td>2018-06-19T00:00:00</td>\n",
       "      <td>2</td>\n",
       "      <td>3.03</td>\n",
       "      <td>14.0</td>\n",
       "      <td>32.0</td>\n",
       "      <td>13</td>\n",
       "      <td>NaN</td>\n",
       "      <td>...</td>\n",
       "      <td>41.0</td>\n",
       "      <td>NaN</td>\n",
       "      <td>Санкт-Петербург</td>\n",
       "      <td>31856.0</td>\n",
       "      <td>8098.0</td>\n",
       "      <td>2.0</td>\n",
       "      <td>112.0</td>\n",
       "      <td>1.0</td>\n",
       "      <td>48.0</td>\n",
       "      <td>121.0</td>\n",
       "    </tr>\n",
       "  </tbody>\n",
       "</table>\n",
       "<p>5 rows × 22 columns</p>\n",
       "</div>"
      ],
      "text/plain": [
       "   total_images  last_price  total_area first_day_exposition  rooms  \\\n",
       "0            20  13000000.0       108.0  2019-03-07T00:00:00      3   \n",
       "1             7   3350000.0        40.4  2018-12-04T00:00:00      1   \n",
       "2            10   5196000.0        56.0  2015-08-20T00:00:00      2   \n",
       "3             0  64900000.0       159.0  2015-07-24T00:00:00      3   \n",
       "4             2  10000000.0       100.0  2018-06-19T00:00:00      2   \n",
       "\n",
       "   ceiling_height  floors_total  living_area  floor is_apartment  ...  \\\n",
       "0            2.70          16.0         51.0      8          NaN  ...   \n",
       "1             NaN          11.0         18.6      1          NaN  ...   \n",
       "2             NaN           5.0         34.3      4          NaN  ...   \n",
       "3             NaN          14.0          NaN      9          NaN  ...   \n",
       "4            3.03          14.0         32.0     13          NaN  ...   \n",
       "\n",
       "   kitchen_area  balcony    locality_name  airports_nearest  \\\n",
       "0          25.0      NaN  Санкт-Петербург           18863.0   \n",
       "1          11.0      2.0   посёлок Шушары           12817.0   \n",
       "2           8.3      0.0  Санкт-Петербург           21741.0   \n",
       "3           NaN      0.0  Санкт-Петербург           28098.0   \n",
       "4          41.0      NaN  Санкт-Петербург           31856.0   \n",
       "\n",
       "  cityCenters_nearest  parks_around3000  parks_nearest  ponds_around3000  \\\n",
       "0             16028.0               1.0          482.0               2.0   \n",
       "1             18603.0               0.0            NaN               0.0   \n",
       "2             13933.0               1.0           90.0               2.0   \n",
       "3              6800.0               2.0           84.0               3.0   \n",
       "4              8098.0               2.0          112.0               1.0   \n",
       "\n",
       "   ponds_nearest  days_exposition  \n",
       "0          755.0              NaN  \n",
       "1            NaN             81.0  \n",
       "2          574.0            558.0  \n",
       "3          234.0            424.0  \n",
       "4           48.0            121.0  \n",
       "\n",
       "[5 rows x 22 columns]"
      ]
     },
     "execution_count": 2,
     "metadata": {},
     "output_type": "execute_result"
    }
   ],
   "source": [
    "df = pd.read_csv('/datasets/real_estate_data.csv', sep='\\t')\n",
    "df.head()"
   ]
  },
  {
   "cell_type": "code",
   "execution_count": 3,
   "metadata": {},
   "outputs": [
    {
     "name": "stdout",
     "output_type": "stream",
     "text": [
      "<class 'pandas.core.frame.DataFrame'>\n",
      "RangeIndex: 23699 entries, 0 to 23698\n",
      "Data columns (total 22 columns):\n",
      " #   Column                Non-Null Count  Dtype  \n",
      "---  ------                --------------  -----  \n",
      " 0   total_images          23699 non-null  int64  \n",
      " 1   last_price            23699 non-null  float64\n",
      " 2   total_area            23699 non-null  float64\n",
      " 3   first_day_exposition  23699 non-null  object \n",
      " 4   rooms                 23699 non-null  int64  \n",
      " 5   ceiling_height        14504 non-null  float64\n",
      " 6   floors_total          23613 non-null  float64\n",
      " 7   living_area           21796 non-null  float64\n",
      " 8   floor                 23699 non-null  int64  \n",
      " 9   is_apartment          2775 non-null   object \n",
      " 10  studio                23699 non-null  bool   \n",
      " 11  open_plan             23699 non-null  bool   \n",
      " 12  kitchen_area          21421 non-null  float64\n",
      " 13  balcony               12180 non-null  float64\n",
      " 14  locality_name         23650 non-null  object \n",
      " 15  airports_nearest      18157 non-null  float64\n",
      " 16  cityCenters_nearest   18180 non-null  float64\n",
      " 17  parks_around3000      18181 non-null  float64\n",
      " 18  parks_nearest         8079 non-null   float64\n",
      " 19  ponds_around3000      18181 non-null  float64\n",
      " 20  ponds_nearest         9110 non-null   float64\n",
      " 21  days_exposition       20518 non-null  float64\n",
      "dtypes: bool(2), float64(14), int64(3), object(3)\n",
      "memory usage: 3.7+ MB\n"
     ]
    }
   ],
   "source": [
    "df.info() # выведем общую информацию о таблице, чтобы найти проблемные столбцы"
   ]
  },
  {
   "cell_type": "code",
   "execution_count": 4,
   "metadata": {},
   "outputs": [
    {
     "data": {
      "image/png": "[encoded data removed]",
      "text/plain": [
       "<Figure size 1080x1440 with 20 Axes>"
      ]
     },
     "metadata": {
      "needs_background": "light"
     },
     "output_type": "display_data"
    }
   ],
   "source": [
    "df.hist(figsize=(15, 20)) # строим гистрограмму для всех числовых столбцов таблицы\n",
    "plt.show()"
   ]
  },
  {
   "cell_type": "markdown",
   "metadata": {},
   "source": []
  },
  {
   "cell_type": "markdown",
   "metadata": {},
   "source": []
  },
  {
   "cell_type": "markdown",
   "metadata": {},
   "source": [
    "Вывод:\n",
    "- были изучены входные данные о продаже квартир, в таблице много пропусков и не верный тип данных для некоторых столбцов, проведем предобработку данных"
   ]
  },
  {
   "cell_type": "markdown",
   "metadata": {
    "id": "-O5NtivEAwb9"
   },
   "source": [
    "### Выполните предобработку данных"
   ]
  },
  {
   "cell_type": "code",
   "execution_count": 5,
   "metadata": {},
   "outputs": [
    {
     "data": {
      "text/plain": [
       "0"
      ]
     },
     "execution_count": 5,
     "metadata": {},
     "output_type": "execute_result"
    }
   ],
   "source": [
    "df.duplicated().sum() # поиск явных дубликатов"
   ]
  },
  {
   "cell_type": "code",
   "execution_count": 6,
   "metadata": {},
   "outputs": [
    {
     "data": {
      "text/plain": [
       "total_images                0\n",
       "last_price                  0\n",
       "total_area                  0\n",
       "first_day_exposition        0\n",
       "rooms                       0\n",
       "ceiling_height           9195\n",
       "floors_total               86\n",
       "living_area              1903\n",
       "floor                       0\n",
       "is_apartment            20924\n",
       "studio                      0\n",
       "open_plan                   0\n",
       "kitchen_area             2278\n",
       "balcony                 11519\n",
       "locality_name              49\n",
       "airports_nearest         5542\n",
       "cityCenters_nearest      5519\n",
       "parks_around3000         5518\n",
       "parks_nearest           15620\n",
       "ponds_around3000         5518\n",
       "ponds_nearest           14589\n",
       "days_exposition          3181\n",
       "dtype: int64"
      ]
     },
     "execution_count": 6,
     "metadata": {},
     "output_type": "execute_result"
    }
   ],
   "source": [
    "df.isna().sum() # поиск пропущенных значений"
   ]
  },
  {
   "cell_type": "code",
   "execution_count": 7,
   "metadata": {},
   "outputs": [
    {
     "data": {
      "text/html": [
       "<style  type=\"text/css\" >\n",
       "#T_b5670_row0_col0,#T_b5670_row1_col0,#T_b5670_row2_col0,#T_b5670_row3_col0,#T_b5670_row4_col0,#T_b5670_row6_col0,#T_b5670_row8_col0,#T_b5670_row10_col0,#T_b5670_row11_col0,#T_b5670_row14_col0{\n",
       "            background-color:  #3b4cc0;\n",
       "            color:  #f1f1f1;\n",
       "        }#T_b5670_row5_col0{\n",
       "            background-color:  #cdd9ec;\n",
       "            color:  #000000;\n",
       "        }#T_b5670_row7_col0{\n",
       "            background-color:  #5673e0;\n",
       "            color:  #000000;\n",
       "        }#T_b5670_row9_col0{\n",
       "            background-color:  #b40426;\n",
       "            color:  #f1f1f1;\n",
       "        }#T_b5670_row12_col0{\n",
       "            background-color:  #5e7de7;\n",
       "            color:  #000000;\n",
       "        }#T_b5670_row13_col0{\n",
       "            background-color:  #ead4c8;\n",
       "            color:  #000000;\n",
       "        }#T_b5670_row15_col0,#T_b5670_row16_col0,#T_b5670_row17_col0,#T_b5670_row19_col0{\n",
       "            background-color:  #90b2fe;\n",
       "            color:  #000000;\n",
       "        }#T_b5670_row18_col0{\n",
       "            background-color:  #f4987a;\n",
       "            color:  #000000;\n",
       "        }#T_b5670_row20_col0{\n",
       "            background-color:  #f7aa8c;\n",
       "            color:  #000000;\n",
       "        }#T_b5670_row21_col0{\n",
       "            background-color:  #688aef;\n",
       "            color:  #000000;\n",
       "        }</style><table id=\"T_b5670_\" ><thead>    <tr>        <th class=\"blank level0\" ></th>        <th class=\"col_heading level0 col0\" >0</th>    </tr></thead><tbody>\n",
       "                <tr>\n",
       "                        <th id=\"T_b5670_level0_row0\" class=\"row_heading level0 row0\" >total_images</th>\n",
       "                        <td id=\"T_b5670_row0_col0\" class=\"data row0 col0\" >0.000000</td>\n",
       "            </tr>\n",
       "            <tr>\n",
       "                        <th id=\"T_b5670_level0_row1\" class=\"row_heading level0 row1\" >last_price</th>\n",
       "                        <td id=\"T_b5670_row1_col0\" class=\"data row1 col0\" >0.000000</td>\n",
       "            </tr>\n",
       "            <tr>\n",
       "                        <th id=\"T_b5670_level0_row2\" class=\"row_heading level0 row2\" >total_area</th>\n",
       "                        <td id=\"T_b5670_row2_col0\" class=\"data row2 col0\" >0.000000</td>\n",
       "            </tr>\n",
       "            <tr>\n",
       "                        <th id=\"T_b5670_level0_row3\" class=\"row_heading level0 row3\" >first_day_exposition</th>\n",
       "                        <td id=\"T_b5670_row3_col0\" class=\"data row3 col0\" >0.000000</td>\n",
       "            </tr>\n",
       "            <tr>\n",
       "                        <th id=\"T_b5670_level0_row4\" class=\"row_heading level0 row4\" >rooms</th>\n",
       "                        <td id=\"T_b5670_row4_col0\" class=\"data row4 col0\" >0.000000</td>\n",
       "            </tr>\n",
       "            <tr>\n",
       "                        <th id=\"T_b5670_level0_row5\" class=\"row_heading level0 row5\" >ceiling_height</th>\n",
       "                        <td id=\"T_b5670_row5_col0\" class=\"data row5 col0\" >39.000000</td>\n",
       "            </tr>\n",
       "            <tr>\n",
       "                        <th id=\"T_b5670_level0_row6\" class=\"row_heading level0 row6\" >floors_total</th>\n",
       "                        <td id=\"T_b5670_row6_col0\" class=\"data row6 col0\" >0.000000</td>\n",
       "            </tr>\n",
       "            <tr>\n",
       "                        <th id=\"T_b5670_level0_row7\" class=\"row_heading level0 row7\" >living_area</th>\n",
       "                        <td id=\"T_b5670_row7_col0\" class=\"data row7 col0\" >8.000000</td>\n",
       "            </tr>\n",
       "            <tr>\n",
       "                        <th id=\"T_b5670_level0_row8\" class=\"row_heading level0 row8\" >floor</th>\n",
       "                        <td id=\"T_b5670_row8_col0\" class=\"data row8 col0\" >0.000000</td>\n",
       "            </tr>\n",
       "            <tr>\n",
       "                        <th id=\"T_b5670_level0_row9\" class=\"row_heading level0 row9\" >is_apartment</th>\n",
       "                        <td id=\"T_b5670_row9_col0\" class=\"data row9 col0\" >88.000000</td>\n",
       "            </tr>\n",
       "            <tr>\n",
       "                        <th id=\"T_b5670_level0_row10\" class=\"row_heading level0 row10\" >studio</th>\n",
       "                        <td id=\"T_b5670_row10_col0\" class=\"data row10 col0\" >0.000000</td>\n",
       "            </tr>\n",
       "            <tr>\n",
       "                        <th id=\"T_b5670_level0_row11\" class=\"row_heading level0 row11\" >open_plan</th>\n",
       "                        <td id=\"T_b5670_row11_col0\" class=\"data row11 col0\" >0.000000</td>\n",
       "            </tr>\n",
       "            <tr>\n",
       "                        <th id=\"T_b5670_level0_row12\" class=\"row_heading level0 row12\" >kitchen_area</th>\n",
       "                        <td id=\"T_b5670_row12_col0\" class=\"data row12 col0\" >10.000000</td>\n",
       "            </tr>\n",
       "            <tr>\n",
       "                        <th id=\"T_b5670_level0_row13\" class=\"row_heading level0 row13\" >balcony</th>\n",
       "                        <td id=\"T_b5670_row13_col0\" class=\"data row13 col0\" >49.000000</td>\n",
       "            </tr>\n",
       "            <tr>\n",
       "                        <th id=\"T_b5670_level0_row14\" class=\"row_heading level0 row14\" >locality_name</th>\n",
       "                        <td id=\"T_b5670_row14_col0\" class=\"data row14 col0\" >0.000000</td>\n",
       "            </tr>\n",
       "            <tr>\n",
       "                        <th id=\"T_b5670_level0_row15\" class=\"row_heading level0 row15\" >airports_nearest</th>\n",
       "                        <td id=\"T_b5670_row15_col0\" class=\"data row15 col0\" >23.000000</td>\n",
       "            </tr>\n",
       "            <tr>\n",
       "                        <th id=\"T_b5670_level0_row16\" class=\"row_heading level0 row16\" >cityCenters_nearest</th>\n",
       "                        <td id=\"T_b5670_row16_col0\" class=\"data row16 col0\" >23.000000</td>\n",
       "            </tr>\n",
       "            <tr>\n",
       "                        <th id=\"T_b5670_level0_row17\" class=\"row_heading level0 row17\" >parks_around3000</th>\n",
       "                        <td id=\"T_b5670_row17_col0\" class=\"data row17 col0\" >23.000000</td>\n",
       "            </tr>\n",
       "            <tr>\n",
       "                        <th id=\"T_b5670_level0_row18\" class=\"row_heading level0 row18\" >parks_nearest</th>\n",
       "                        <td id=\"T_b5670_row18_col0\" class=\"data row18 col0\" >66.000000</td>\n",
       "            </tr>\n",
       "            <tr>\n",
       "                        <th id=\"T_b5670_level0_row19\" class=\"row_heading level0 row19\" >ponds_around3000</th>\n",
       "                        <td id=\"T_b5670_row19_col0\" class=\"data row19 col0\" >23.000000</td>\n",
       "            </tr>\n",
       "            <tr>\n",
       "                        <th id=\"T_b5670_level0_row20\" class=\"row_heading level0 row20\" >ponds_nearest</th>\n",
       "                        <td id=\"T_b5670_row20_col0\" class=\"data row20 col0\" >62.000000</td>\n",
       "            </tr>\n",
       "            <tr>\n",
       "                        <th id=\"T_b5670_level0_row21\" class=\"row_heading level0 row21\" >days_exposition</th>\n",
       "                        <td id=\"T_b5670_row21_col0\" class=\"data row21 col0\" >13.000000</td>\n",
       "            </tr>\n",
       "    </tbody></table>"
      ],
      "text/plain": [
       "<pandas.io.formats.style.Styler at 0x7fe93b065460>"
      ]
     },
     "execution_count": 7,
     "metadata": {},
     "output_type": "execute_result"
    }
   ],
   "source": [
    "pd.DataFrame(round(df.isna().mean()*100,)).style.background_gradient('coolwarm')"
   ]
  },
  {
   "cell_type": "code",
   "execution_count": 8,
   "metadata": {
    "scrolled": true
   },
   "outputs": [
    {
     "data": {
      "text/html": [
       "<div>\n",
       "<style scoped>\n",
       "    .dataframe tbody tr th:only-of-type {\n",
       "        vertical-align: middle;\n",
       "    }\n",
       "\n",
       "    .dataframe tbody tr th {\n",
       "        vertical-align: top;\n",
       "    }\n",
       "\n",
       "    .dataframe thead th {\n",
       "        text-align: right;\n",
       "    }\n",
       "</style>\n",
       "<table border=\"1\" class=\"dataframe\">\n",
       "  <thead>\n",
       "    <tr style=\"text-align: right;\">\n",
       "      <th></th>\n",
       "      <th>total_images</th>\n",
       "      <th>last_price</th>\n",
       "      <th>total_area</th>\n",
       "      <th>first_day_exposition</th>\n",
       "      <th>rooms</th>\n",
       "      <th>ceiling_height</th>\n",
       "      <th>floors_total</th>\n",
       "      <th>living_area</th>\n",
       "      <th>floor</th>\n",
       "      <th>is_apartment</th>\n",
       "      <th>...</th>\n",
       "      <th>kitchen_area</th>\n",
       "      <th>balcony</th>\n",
       "      <th>locality_name</th>\n",
       "      <th>airports_nearest</th>\n",
       "      <th>city_centers_nearest</th>\n",
       "      <th>parks_around3000</th>\n",
       "      <th>parks_nearest</th>\n",
       "      <th>ponds_around3000</th>\n",
       "      <th>ponds_nearest</th>\n",
       "      <th>days_exposition</th>\n",
       "    </tr>\n",
       "  </thead>\n",
       "  <tbody>\n",
       "    <tr>\n",
       "      <th>0</th>\n",
       "      <td>20</td>\n",
       "      <td>13000000.0</td>\n",
       "      <td>108.00</td>\n",
       "      <td>2019-03-07T00:00:00</td>\n",
       "      <td>3</td>\n",
       "      <td>2.70</td>\n",
       "      <td>16.0</td>\n",
       "      <td>51.0</td>\n",
       "      <td>8</td>\n",
       "      <td>NaN</td>\n",
       "      <td>...</td>\n",
       "      <td>25.00</td>\n",
       "      <td>NaN</td>\n",
       "      <td>Санкт-Петербург</td>\n",
       "      <td>18863.0</td>\n",
       "      <td>16028.0</td>\n",
       "      <td>1.0</td>\n",
       "      <td>482.0</td>\n",
       "      <td>2.0</td>\n",
       "      <td>755.0</td>\n",
       "      <td>NaN</td>\n",
       "    </tr>\n",
       "    <tr>\n",
       "      <th>1</th>\n",
       "      <td>7</td>\n",
       "      <td>3350000.0</td>\n",
       "      <td>40.40</td>\n",
       "      <td>2018-12-04T00:00:00</td>\n",
       "      <td>1</td>\n",
       "      <td>NaN</td>\n",
       "      <td>11.0</td>\n",
       "      <td>18.6</td>\n",
       "      <td>1</td>\n",
       "      <td>NaN</td>\n",
       "      <td>...</td>\n",
       "      <td>11.00</td>\n",
       "      <td>2.0</td>\n",
       "      <td>посёлок Шушары</td>\n",
       "      <td>12817.0</td>\n",
       "      <td>18603.0</td>\n",
       "      <td>0.0</td>\n",
       "      <td>NaN</td>\n",
       "      <td>0.0</td>\n",
       "      <td>NaN</td>\n",
       "      <td>81.0</td>\n",
       "    </tr>\n",
       "    <tr>\n",
       "      <th>2</th>\n",
       "      <td>10</td>\n",
       "      <td>5196000.0</td>\n",
       "      <td>56.00</td>\n",
       "      <td>2015-08-20T00:00:00</td>\n",
       "      <td>2</td>\n",
       "      <td>NaN</td>\n",
       "      <td>5.0</td>\n",
       "      <td>34.3</td>\n",
       "      <td>4</td>\n",
       "      <td>NaN</td>\n",
       "      <td>...</td>\n",
       "      <td>8.30</td>\n",
       "      <td>0.0</td>\n",
       "      <td>Санкт-Петербург</td>\n",
       "      <td>21741.0</td>\n",
       "      <td>13933.0</td>\n",
       "      <td>1.0</td>\n",
       "      <td>90.0</td>\n",
       "      <td>2.0</td>\n",
       "      <td>574.0</td>\n",
       "      <td>558.0</td>\n",
       "    </tr>\n",
       "    <tr>\n",
       "      <th>3</th>\n",
       "      <td>0</td>\n",
       "      <td>64900000.0</td>\n",
       "      <td>159.00</td>\n",
       "      <td>2015-07-24T00:00:00</td>\n",
       "      <td>3</td>\n",
       "      <td>NaN</td>\n",
       "      <td>14.0</td>\n",
       "      <td>NaN</td>\n",
       "      <td>9</td>\n",
       "      <td>NaN</td>\n",
       "      <td>...</td>\n",
       "      <td>NaN</td>\n",
       "      <td>0.0</td>\n",
       "      <td>Санкт-Петербург</td>\n",
       "      <td>28098.0</td>\n",
       "      <td>6800.0</td>\n",
       "      <td>2.0</td>\n",
       "      <td>84.0</td>\n",
       "      <td>3.0</td>\n",
       "      <td>234.0</td>\n",
       "      <td>424.0</td>\n",
       "    </tr>\n",
       "    <tr>\n",
       "      <th>4</th>\n",
       "      <td>2</td>\n",
       "      <td>10000000.0</td>\n",
       "      <td>100.00</td>\n",
       "      <td>2018-06-19T00:00:00</td>\n",
       "      <td>2</td>\n",
       "      <td>3.03</td>\n",
       "      <td>14.0</td>\n",
       "      <td>32.0</td>\n",
       "      <td>13</td>\n",
       "      <td>NaN</td>\n",
       "      <td>...</td>\n",
       "      <td>41.00</td>\n",
       "      <td>NaN</td>\n",
       "      <td>Санкт-Петербург</td>\n",
       "      <td>31856.0</td>\n",
       "      <td>8098.0</td>\n",
       "      <td>2.0</td>\n",
       "      <td>112.0</td>\n",
       "      <td>1.0</td>\n",
       "      <td>48.0</td>\n",
       "      <td>121.0</td>\n",
       "    </tr>\n",
       "    <tr>\n",
       "      <th>...</th>\n",
       "      <td>...</td>\n",
       "      <td>...</td>\n",
       "      <td>...</td>\n",
       "      <td>...</td>\n",
       "      <td>...</td>\n",
       "      <td>...</td>\n",
       "      <td>...</td>\n",
       "      <td>...</td>\n",
       "      <td>...</td>\n",
       "      <td>...</td>\n",
       "      <td>...</td>\n",
       "      <td>...</td>\n",
       "      <td>...</td>\n",
       "      <td>...</td>\n",
       "      <td>...</td>\n",
       "      <td>...</td>\n",
       "      <td>...</td>\n",
       "      <td>...</td>\n",
       "      <td>...</td>\n",
       "      <td>...</td>\n",
       "      <td>...</td>\n",
       "    </tr>\n",
       "    <tr>\n",
       "      <th>23694</th>\n",
       "      <td>9</td>\n",
       "      <td>9700000.0</td>\n",
       "      <td>133.81</td>\n",
       "      <td>2017-03-21T00:00:00</td>\n",
       "      <td>3</td>\n",
       "      <td>3.70</td>\n",
       "      <td>5.0</td>\n",
       "      <td>73.3</td>\n",
       "      <td>3</td>\n",
       "      <td>NaN</td>\n",
       "      <td>...</td>\n",
       "      <td>13.83</td>\n",
       "      <td>NaN</td>\n",
       "      <td>Санкт-Петербург</td>\n",
       "      <td>24665.0</td>\n",
       "      <td>4232.0</td>\n",
       "      <td>1.0</td>\n",
       "      <td>796.0</td>\n",
       "      <td>3.0</td>\n",
       "      <td>381.0</td>\n",
       "      <td>NaN</td>\n",
       "    </tr>\n",
       "    <tr>\n",
       "      <th>23695</th>\n",
       "      <td>14</td>\n",
       "      <td>3100000.0</td>\n",
       "      <td>59.00</td>\n",
       "      <td>2018-01-15T00:00:00</td>\n",
       "      <td>3</td>\n",
       "      <td>NaN</td>\n",
       "      <td>5.0</td>\n",
       "      <td>38.0</td>\n",
       "      <td>4</td>\n",
       "      <td>NaN</td>\n",
       "      <td>...</td>\n",
       "      <td>8.50</td>\n",
       "      <td>NaN</td>\n",
       "      <td>Тосно</td>\n",
       "      <td>NaN</td>\n",
       "      <td>NaN</td>\n",
       "      <td>NaN</td>\n",
       "      <td>NaN</td>\n",
       "      <td>NaN</td>\n",
       "      <td>NaN</td>\n",
       "      <td>45.0</td>\n",
       "    </tr>\n",
       "    <tr>\n",
       "      <th>23696</th>\n",
       "      <td>18</td>\n",
       "      <td>2500000.0</td>\n",
       "      <td>56.70</td>\n",
       "      <td>2018-02-11T00:00:00</td>\n",
       "      <td>2</td>\n",
       "      <td>NaN</td>\n",
       "      <td>3.0</td>\n",
       "      <td>29.7</td>\n",
       "      <td>1</td>\n",
       "      <td>NaN</td>\n",
       "      <td>...</td>\n",
       "      <td>NaN</td>\n",
       "      <td>NaN</td>\n",
       "      <td>село Рождествено</td>\n",
       "      <td>NaN</td>\n",
       "      <td>NaN</td>\n",
       "      <td>NaN</td>\n",
       "      <td>NaN</td>\n",
       "      <td>NaN</td>\n",
       "      <td>NaN</td>\n",
       "      <td>NaN</td>\n",
       "    </tr>\n",
       "    <tr>\n",
       "      <th>23697</th>\n",
       "      <td>13</td>\n",
       "      <td>11475000.0</td>\n",
       "      <td>76.75</td>\n",
       "      <td>2017-03-28T00:00:00</td>\n",
       "      <td>2</td>\n",
       "      <td>3.00</td>\n",
       "      <td>17.0</td>\n",
       "      <td>NaN</td>\n",
       "      <td>12</td>\n",
       "      <td>NaN</td>\n",
       "      <td>...</td>\n",
       "      <td>23.30</td>\n",
       "      <td>2.0</td>\n",
       "      <td>Санкт-Петербург</td>\n",
       "      <td>39140.0</td>\n",
       "      <td>10364.0</td>\n",
       "      <td>2.0</td>\n",
       "      <td>173.0</td>\n",
       "      <td>3.0</td>\n",
       "      <td>196.0</td>\n",
       "      <td>602.0</td>\n",
       "    </tr>\n",
       "    <tr>\n",
       "      <th>23698</th>\n",
       "      <td>4</td>\n",
       "      <td>1350000.0</td>\n",
       "      <td>32.30</td>\n",
       "      <td>2017-07-21T00:00:00</td>\n",
       "      <td>1</td>\n",
       "      <td>2.50</td>\n",
       "      <td>5.0</td>\n",
       "      <td>12.3</td>\n",
       "      <td>1</td>\n",
       "      <td>NaN</td>\n",
       "      <td>...</td>\n",
       "      <td>9.00</td>\n",
       "      <td>NaN</td>\n",
       "      <td>поселок Новый Учхоз</td>\n",
       "      <td>NaN</td>\n",
       "      <td>NaN</td>\n",
       "      <td>NaN</td>\n",
       "      <td>NaN</td>\n",
       "      <td>NaN</td>\n",
       "      <td>NaN</td>\n",
       "      <td>NaN</td>\n",
       "    </tr>\n",
       "  </tbody>\n",
       "</table>\n",
       "<p>23699 rows × 22 columns</p>\n",
       "</div>"
      ],
      "text/plain": [
       "       total_images  last_price  total_area first_day_exposition  rooms  \\\n",
       "0                20  13000000.0      108.00  2019-03-07T00:00:00      3   \n",
       "1                 7   3350000.0       40.40  2018-12-04T00:00:00      1   \n",
       "2                10   5196000.0       56.00  2015-08-20T00:00:00      2   \n",
       "3                 0  64900000.0      159.00  2015-07-24T00:00:00      3   \n",
       "4                 2  10000000.0      100.00  2018-06-19T00:00:00      2   \n",
       "...             ...         ...         ...                  ...    ...   \n",
       "23694             9   9700000.0      133.81  2017-03-21T00:00:00      3   \n",
       "23695            14   3100000.0       59.00  2018-01-15T00:00:00      3   \n",
       "23696            18   2500000.0       56.70  2018-02-11T00:00:00      2   \n",
       "23697            13  11475000.0       76.75  2017-03-28T00:00:00      2   \n",
       "23698             4   1350000.0       32.30  2017-07-21T00:00:00      1   \n",
       "\n",
       "       ceiling_height  floors_total  living_area  floor is_apartment  ...  \\\n",
       "0                2.70          16.0         51.0      8          NaN  ...   \n",
       "1                 NaN          11.0         18.6      1          NaN  ...   \n",
       "2                 NaN           5.0         34.3      4          NaN  ...   \n",
       "3                 NaN          14.0          NaN      9          NaN  ...   \n",
       "4                3.03          14.0         32.0     13          NaN  ...   \n",
       "...               ...           ...          ...    ...          ...  ...   \n",
       "23694            3.70           5.0         73.3      3          NaN  ...   \n",
       "23695             NaN           5.0         38.0      4          NaN  ...   \n",
       "23696             NaN           3.0         29.7      1          NaN  ...   \n",
       "23697            3.00          17.0          NaN     12          NaN  ...   \n",
       "23698            2.50           5.0         12.3      1          NaN  ...   \n",
       "\n",
       "       kitchen_area  balcony        locality_name  airports_nearest  \\\n",
       "0             25.00      NaN      Санкт-Петербург           18863.0   \n",
       "1             11.00      2.0       посёлок Шушары           12817.0   \n",
       "2              8.30      0.0      Санкт-Петербург           21741.0   \n",
       "3               NaN      0.0      Санкт-Петербург           28098.0   \n",
       "4             41.00      NaN      Санкт-Петербург           31856.0   \n",
       "...             ...      ...                  ...               ...   \n",
       "23694         13.83      NaN      Санкт-Петербург           24665.0   \n",
       "23695          8.50      NaN                Тосно               NaN   \n",
       "23696           NaN      NaN     село Рождествено               NaN   \n",
       "23697         23.30      2.0      Санкт-Петербург           39140.0   \n",
       "23698          9.00      NaN  поселок Новый Учхоз               NaN   \n",
       "\n",
       "      city_centers_nearest  parks_around3000  parks_nearest  ponds_around3000  \\\n",
       "0                  16028.0               1.0          482.0               2.0   \n",
       "1                  18603.0               0.0            NaN               0.0   \n",
       "2                  13933.0               1.0           90.0               2.0   \n",
       "3                   6800.0               2.0           84.0               3.0   \n",
       "4                   8098.0               2.0          112.0               1.0   \n",
       "...                    ...               ...            ...               ...   \n",
       "23694               4232.0               1.0          796.0               3.0   \n",
       "23695                  NaN               NaN            NaN               NaN   \n",
       "23696                  NaN               NaN            NaN               NaN   \n",
       "23697              10364.0               2.0          173.0               3.0   \n",
       "23698                  NaN               NaN            NaN               NaN   \n",
       "\n",
       "       ponds_nearest  days_exposition  \n",
       "0              755.0              NaN  \n",
       "1                NaN             81.0  \n",
       "2              574.0            558.0  \n",
       "3              234.0            424.0  \n",
       "4               48.0            121.0  \n",
       "...              ...              ...  \n",
       "23694          381.0              NaN  \n",
       "23695            NaN             45.0  \n",
       "23696            NaN              NaN  \n",
       "23697          196.0            602.0  \n",
       "23698            NaN              NaN  \n",
       "\n",
       "[23699 rows x 22 columns]"
      ]
     },
     "execution_count": 8,
     "metadata": {},
     "output_type": "execute_result"
    }
   ],
   "source": [
    "# приведем столбец cityCenters_nearest к змеиному регистру\n",
    "df.rename(columns = {'cityCenters_nearest' : 'city_centers_nearest'})"
   ]
  },
  {
   "cell_type": "markdown",
   "metadata": {},
   "source": [
    "Проанализируем таблицу и поймем в каких стобцах заменить пропуски на 0, а в каких на медианное значение, а в каких на что-то другое."
   ]
  },
  {
   "cell_type": "code",
   "execution_count": 9,
   "metadata": {},
   "outputs": [],
   "source": [
    "df = df.dropna(subset=['living_area'])\n",
    "df = df.dropna(subset=['days_exposition'])\n",
    "# floors_total - всего этажей в доме, заменим на медианное\n",
    "df['floors_total'] = df['floors_total'].fillna(df['floors_total'].median())\n",
    "# is_apartment - апартаменты (булев тип), для начала нужно понять сколько их указали в таблице, чтобы определить ставить False или оставить все как есть.\n",
    "df['is_apartment'].mean()\n",
    "# апартаментов почти 2%, думаю пропуски можно заменить на False\n",
    "df['is_apartment'] = df['is_apartment'].fillna(False)\n",
    "# kitchen_area -  площадь кухни в квадратных метрах, заменим на медианное\n",
    "#df['kitchen_area'] = df['kitchen_area'].fillna(df['kitchen_area'].median())\n",
    "# balcony - наличие балкона, скорее всего можно заменить на 0, не во всех квартирах он есть\n",
    "df['balcony'] = df['balcony'].fillna(0)\n",
    "# locality_name - название населенного пункта, тут универсальная замена - unknown\n",
    "df['locality_name'] = df['locality_name'].fillna('unknown')\n",
    "# airports_nearest - расстояние до ближайшего аэропорта в метрах, непонятно, аэропорта может и не быть в данном населенном пункте. Оставим без изменений.\n",
    "# cityCenters_nearest  -расстояние до центра города в метрах, 1. - приведем к змеиному регистру. 2- наверно объект находится очень далеко от центра.\n",
    "df = df.rename(columns = {'cityCenters_nearest':'city_centers_nearest'})\n",
    "# parks_around3000 - число парков в радиусе 3 км, скорее всего в данном радиусе нет парков, заменим на 0\n",
    "df['parks_around3000'] = df['parks_around3000'].fillna(0)\n",
    "# parks_nearest - расстояние до ближайшего парка, оставим как есть, хотя можно предположить что до парка очень далеко.\n",
    "# ponds_around3000 - число водоёмов в радиусе 3 км, меняем на 0\n",
    "df['ponds_around3000'] = df['ponds_around3000'].fillna(0)\n",
    "# ponds_nearest -  расстояние до ближайшего водоёма в метрах, оставим как есть.\n",
    "# days_exposition - сколько дней было размещено объявление (от публикации до снятия), непонятно... оставим как есть.\n"
   ]
  },
  {
   "cell_type": "code",
   "execution_count": 10,
   "metadata": {},
   "outputs": [
    {
     "data": {
      "text/plain": [
       "total_images                0\n",
       "last_price                  0\n",
       "total_area                  0\n",
       "first_day_exposition        0\n",
       "rooms                       0\n",
       "ceiling_height           7457\n",
       "floors_total                0\n",
       "living_area                 0\n",
       "floor                       0\n",
       "is_apartment                0\n",
       "studio                      0\n",
       "open_plan                   0\n",
       "kitchen_area              722\n",
       "balcony                     0\n",
       "locality_name               0\n",
       "airports_nearest         4117\n",
       "city_centers_nearest     4097\n",
       "parks_around3000            0\n",
       "parks_nearest           12382\n",
       "ponds_around3000            0\n",
       "ponds_nearest           11535\n",
       "days_exposition             0\n",
       "dtype: int64"
      ]
     },
     "execution_count": 10,
     "metadata": {},
     "output_type": "execute_result"
    }
   ],
   "source": [
    "# проверим что получилось\n",
    "df.isna().sum()"
   ]
  },
  {
   "cell_type": "markdown",
   "metadata": {},
   "source": [
    "Самыми очевидными причинами появления пропусков в данных могут быть:\n",
    "-человеческий фактор\n",
    "-заполнение данных разными людьми\n",
    "-некорректные сохрание и работа с файлом.\n",
    "-сбои, вирусы в программе."
   ]
  },
  {
   "cell_type": "markdown",
   "metadata": {},
   "source": [
    "Теперь пробежимся по типам данных в столбцах"
   ]
  },
  {
   "cell_type": "code",
   "execution_count": 11,
   "metadata": {},
   "outputs": [
    {
     "data": {
      "text/html": [
       "<div>\n",
       "<style scoped>\n",
       "    .dataframe tbody tr th:only-of-type {\n",
       "        vertical-align: middle;\n",
       "    }\n",
       "\n",
       "    .dataframe tbody tr th {\n",
       "        vertical-align: top;\n",
       "    }\n",
       "\n",
       "    .dataframe thead th {\n",
       "        text-align: right;\n",
       "    }\n",
       "</style>\n",
       "<table border=\"1\" class=\"dataframe\">\n",
       "  <thead>\n",
       "    <tr style=\"text-align: right;\">\n",
       "      <th></th>\n",
       "      <th>total_images</th>\n",
       "      <th>last_price</th>\n",
       "      <th>total_area</th>\n",
       "      <th>first_day_exposition</th>\n",
       "      <th>rooms</th>\n",
       "      <th>ceiling_height</th>\n",
       "      <th>floors_total</th>\n",
       "      <th>living_area</th>\n",
       "      <th>floor</th>\n",
       "      <th>is_apartment</th>\n",
       "      <th>...</th>\n",
       "      <th>kitchen_area</th>\n",
       "      <th>balcony</th>\n",
       "      <th>locality_name</th>\n",
       "      <th>airports_nearest</th>\n",
       "      <th>city_centers_nearest</th>\n",
       "      <th>parks_around3000</th>\n",
       "      <th>parks_nearest</th>\n",
       "      <th>ponds_around3000</th>\n",
       "      <th>ponds_nearest</th>\n",
       "      <th>days_exposition</th>\n",
       "    </tr>\n",
       "  </thead>\n",
       "  <tbody>\n",
       "    <tr>\n",
       "      <th>1</th>\n",
       "      <td>7</td>\n",
       "      <td>3350000.0</td>\n",
       "      <td>40.4</td>\n",
       "      <td>2018-12-04T00:00:00</td>\n",
       "      <td>1</td>\n",
       "      <td>NaN</td>\n",
       "      <td>11.0</td>\n",
       "      <td>18.6</td>\n",
       "      <td>1</td>\n",
       "      <td>False</td>\n",
       "      <td>...</td>\n",
       "      <td>11.0</td>\n",
       "      <td>2.0</td>\n",
       "      <td>посёлок Шушары</td>\n",
       "      <td>12817.0</td>\n",
       "      <td>18603.0</td>\n",
       "      <td>0.0</td>\n",
       "      <td>NaN</td>\n",
       "      <td>0.0</td>\n",
       "      <td>NaN</td>\n",
       "      <td>81.0</td>\n",
       "    </tr>\n",
       "  </tbody>\n",
       "</table>\n",
       "<p>1 rows × 22 columns</p>\n",
       "</div>"
      ],
      "text/plain": [
       "   total_images  last_price  total_area first_day_exposition  rooms  \\\n",
       "1             7   3350000.0        40.4  2018-12-04T00:00:00      1   \n",
       "\n",
       "   ceiling_height  floors_total  living_area  floor  is_apartment  ...  \\\n",
       "1             NaN          11.0         18.6      1         False  ...   \n",
       "\n",
       "   kitchen_area  balcony   locality_name  airports_nearest  \\\n",
       "1          11.0      2.0  посёлок Шушары           12817.0   \n",
       "\n",
       "  city_centers_nearest  parks_around3000  parks_nearest  ponds_around3000  \\\n",
       "1              18603.0               0.0            NaN               0.0   \n",
       "\n",
       "   ponds_nearest  days_exposition  \n",
       "1            NaN             81.0  \n",
       "\n",
       "[1 rows x 22 columns]"
      ]
     },
     "execution_count": 11,
     "metadata": {},
     "output_type": "execute_result"
    }
   ],
   "source": [
    "df.head(1)"
   ]
  },
  {
   "cell_type": "code",
   "execution_count": 12,
   "metadata": {},
   "outputs": [],
   "source": [
    "df['last_price'].astype('int') # в столбце везде целочисленные значение, меняе на целые\n",
    "df['is_apartment'] = df['is_apartment'].astype(bool) # тут стоит вопрос: это апартаменты?, поэтому булев тип подойдет\n",
    "df['parks_around3000'] = df['parks_around3000'].astype(int) # по логике, не может быть половина или полтора парка\n",
    "df['ponds_around3000'] = df['ponds_around3000'].astype(int) # так же как и с парками\n",
    "df['days_exposition'] = df['days_exposition'].apply(np.floor)\n",
    "df['days_exposition'] = df['days_exposition'].astype('Int64')\n",
    "df['floors_total'] = df['floors_total'].astype(int) # думаю объяснять не нужно...\n",
    "df['balcony'] = df['balcony'].astype(int) # балконов всегде целое количество\n"
   ]
  },
  {
   "cell_type": "code",
   "execution_count": 13,
   "metadata": {},
   "outputs": [],
   "source": [
    "df['first_day_exposition'] = pd.to_datetime(df['first_day_exposition'], format='%Y-%m-%dT%H:%M:%S')"
   ]
  },
  {
   "cell_type": "markdown",
   "metadata": {},
   "source": [
    "Избавимся от неявных дубликатов: возьмем столбец locality_name - название населенного пункта"
   ]
  },
  {
   "cell_type": "code",
   "execution_count": 14,
   "metadata": {},
   "outputs": [
    {
     "data": {
      "text/plain": [
       "array(['посёлок Шушары', 'Санкт-Петербург', 'городской посёлок Янино-1',\n",
       "       'посёлок Парголово', 'посёлок Мурино', 'Ломоносов', 'Сертолово',\n",
       "       'Петергоф', 'Пушкин', 'деревня Кудрово', 'Колпино', 'Гатчина',\n",
       "       'поселок Мурино', 'деревня Фёдоровское', 'Выборг', 'Кронштадт',\n",
       "       'Кировск', 'деревня Новое Девяткино', 'посёлок Металлострой',\n",
       "       'посёлок городского типа Сиверский', 'поселок Молодцово',\n",
       "       'поселок городского типа Кузьмоловский', 'Павловск',\n",
       "       'деревня Пикколово', 'Всеволожск', 'Кингисепп', 'Сестрорецк',\n",
       "       'деревня Куттузи', 'деревня Заклинье', 'поселок Торковичи',\n",
       "       'Красное Село', 'посёлок Понтонный', 'Приозерск', 'село Путилово',\n",
       "       'Ивангород', 'Сланцы', 'Шлиссельбург', 'Сясьстрой', 'Никольское',\n",
       "       'Зеленогорск', 'Сосновый Бор', 'поселок Новый Свет',\n",
       "       'деревня Оржицы', 'деревня Кальтино', 'поселок Романовка',\n",
       "       'посёлок Бугры', 'поселок Бугры', 'поселок городского типа Рощино',\n",
       "       'Луга', 'Волосово', 'Отрадное', 'село Павлово', 'поселок Оредеж',\n",
       "       'посёлок городского типа Красный Бор', 'Кудрово', 'Коммунар',\n",
       "       'деревня Нурма', 'поселок городского типа Синявино', 'Тосно',\n",
       "       'посёлок Стрельна', 'посёлок Александровская', 'деревня Лопухинка',\n",
       "       'поселок Терволово', 'поселок городского типа Советский',\n",
       "       'посёлок Аннино', 'Кириши', 'посёлок городского типа Токсово',\n",
       "       'поселок Сельцо', 'посёлок городского типа Вырица',\n",
       "       'деревня Келози', 'деревня Вартемяги',\n",
       "       'посёлок городского типа Кузьмоловский', 'посёлок Тельмана',\n",
       "       'городской поселок Большая Ижора', 'Тихвин', 'unknown',\n",
       "       'деревня Агалатово', 'посёлок Новогорелово', 'деревня Старая',\n",
       "       'Волхов', 'поселок городского типа Вырица',\n",
       "       'городской посёлок Новоселье', 'деревня Большие Колпаны',\n",
       "       'деревня Горбунки', 'деревня Заневка', 'Приморск',\n",
       "       'деревня Мистолово', 'поселок Зимитицы', 'поселок Барышево',\n",
       "       'деревня Разметелево', 'поселок городского типа имени Свердлова',\n",
       "       'деревня Пеники', 'поселок Рябово', 'деревня Пудомяги',\n",
       "       'поселок станции Корнево', 'деревня Низино', 'деревня Бегуницы',\n",
       "       'городской посёлок Мга', 'деревня Колтуши', 'Бокситогорск',\n",
       "       'посёлок городского типа Рощино', 'деревня Малое Карлино',\n",
       "       'посёлок Песочный', 'деревня Аро', 'поселок Ильичёво',\n",
       "       'посёлок городского типа Тайцы', 'деревня Малое Верево',\n",
       "       'Подпорожье', 'поселок станции Вещево', 'деревня Калитино',\n",
       "       'посёлок городского типа Ульяновка',\n",
       "       'поселок городского типа Дубровка', 'поселок Войсковицы',\n",
       "       'посёлок городского типа имени Свердлова', 'Новая Ладога',\n",
       "       'посёлок Ропша', 'поселок Первомайское',\n",
       "       'поселок городского типа Приладожский', 'посёлок Щеглово',\n",
       "       'посёлок Гаврилово', 'Лодейное Поле',\n",
       "       'посёлок городского типа Лебяжье', 'деревня Кузьмолово',\n",
       "       'деревня Малые Колпаны', 'поселок Тельмана', 'деревня Лаголово',\n",
       "       'городской посёлок Назия', 'городской посёлок Павлово',\n",
       "       'посёлок Ильичёво', 'поселок Углово', 'поселок Старая Малукса',\n",
       "       'садовое товарищество Рахья', 'поселок Аннино', 'поселок Победа',\n",
       "       'деревня Старые Бегуницы',\n",
       "       'посёлок городского типа имени Морозова',\n",
       "       'поселок городского типа Рахья', 'посёлок Сапёрный',\n",
       "       'поселок Семрино', 'поселок Гаврилово', 'поселок Глажево',\n",
       "       'поселок Кобринское', 'поселок Запорожское', 'поселок Елизаветино',\n",
       "       'деревня Юкки', 'поселок станции Приветнинское',\n",
       "       'деревня Мануйлово', 'поселок Поляны', 'посёлок Мичуринское',\n",
       "       'деревня Лесколово', 'деревня Белогорка', 'посёлок Новый Свет',\n",
       "       'поселок Цвылёво', 'поселок Мельниково', 'посёлок Плодовое',\n",
       "       'деревня Гостилицы', 'посёлок Пудость', 'Светогорск', 'Любань',\n",
       "       'поселок Селезнёво', 'поселок городского типа Рябово',\n",
       "       'Каменногорск', 'деревня Парицы', 'поселок Жилпосёлок',\n",
       "       'посёлок городского типа Мга', 'городской поселок Янино-1',\n",
       "       'посёлок Терволово', 'поселок Стеклянный',\n",
       "       'посёлок городского типа Кузнечное', 'село Русско-Высоцкое',\n",
       "       'поселок городского типа Лебяжье',\n",
       "       'поселок городского типа Форносово', 'поселок Житково',\n",
       "       'поселок городского типа Красный Бор', 'городской посёлок Виллози',\n",
       "       'деревня Шпаньково', 'деревня Кипень', 'посёлок Молодёжное',\n",
       "       'деревня Мины', 'посёлок Сосново', 'посёлок Возрождение',\n",
       "       'деревня Старосиверская', 'посёлок Кикерино',\n",
       "       'поселок Возрождение', 'деревня Старое Хинколово',\n",
       "       'посёлок Пригородный', 'посёлок Торфяное', 'Пикалёво',\n",
       "       'городской посёлок Будогощь', 'поселок Суходолье',\n",
       "       'поселок Красная Долина', 'деревня Хапо-Ое',\n",
       "       'поселок городского типа Дружная Горка', 'деревня Извара',\n",
       "       'деревня Гарболово', 'поселок Лисий Нос', 'посёлок Стеклянный',\n",
       "       'село Рождествено', 'посёлок Войскорово', 'деревня Сяськелево',\n",
       "       'деревня Камышовка',\n",
       "       'садоводческое некоммерческое товарищество Лесная Поляна',\n",
       "       'поселок Жилгородок', 'посёлок городского типа Павлово',\n",
       "       'деревня Ялгино', 'деревня Батово', 'поселок Новый Учхоз',\n",
       "       'поселок Гончарово', 'посёлок Сапёрное',\n",
       "       'посёлок Платформа 69-й километр', 'поселок Каложицы',\n",
       "       'деревня Фалилеево', 'деревня Пельгора',\n",
       "       'поселок городского типа Лесогорский', 'посёлок Белоостров',\n",
       "       'посёлок Алексеевка', 'поселок Глебычево', 'поселок Петровское',\n",
       "       'деревня Щеглово', 'посёлок Усть-Луга', 'поселок Мичуринское',\n",
       "       'поселок городского типа Никольский', 'поселок Кингисеппский',\n",
       "       'посёлок при железнодорожной станции Вещево', 'поселок Ушаки',\n",
       "       'деревня Старополье', 'деревня Лампово', 'деревня Торосово',\n",
       "       'городской посёлок Фёдоровское', 'поселок городского типа Токсово',\n",
       "       'поселок городского типа Ефимовский', 'посёлок Мельниково',\n",
       "       'поселок городского типа Назия', 'деревня Старая Пустошь',\n",
       "       'поселок Коммунары', 'поселок Починок',\n",
       "       'посёлок городского типа Вознесенье', 'посёлок Репино',\n",
       "       'посёлок городского типа Рябово', 'поселок Гладкое',\n",
       "       'поселок Тёсово-4', 'посёлок Жилгородок', 'деревня Бор',\n",
       "       'посёлок Лисий Нос', 'поселок Серебрянский', 'деревня Разбегаево',\n",
       "       'поселок Кобралово', 'поселок городского типа Кондратьево',\n",
       "       'посёлок Кобралово', 'село Копорье', 'коттеджный поселок Счастье',\n",
       "       'поселок Любань', 'деревня Реброво', 'деревня Яльгелево',\n",
       "       'деревня Большая Вруда', 'деревня Зимитицы', 'поселок Семиозерье',\n",
       "       'поселок Совхозный', 'поселок Усть-Луга', 'посёлок Суйда',\n",
       "       'посёлок Поляны', 'деревня Нижние Осельки', 'поселок Перово',\n",
       "       'поселок Заводской', 'Высоцк', 'поселок Гарболово', 'село Шум',\n",
       "       'деревня Большая Пустомержа', 'коттеджный поселок Кивеннапа Север',\n",
       "       'поселок Коробицыно', 'поселок Ромашки',\n",
       "       'посёлок городского типа Форносово', 'деревня Каськово',\n",
       "       'деревня Куровицы', 'поселок Сумино',\n",
       "       'поселок городского типа Большая Ижора', 'деревня Ям-Тесово',\n",
       "       'деревня Терпилицы', 'деревня Глинка', 'деревня Ваганово',\n",
       "       'поселок Пушное', 'садовое товарищество Садко',\n",
       "       'посёлок Петровское', 'деревня Выскатка', 'посёлок станции Свирь',\n",
       "       'деревня Кисельня', 'посёлок Старая Малукса',\n",
       "       'деревня Трубников Бор', 'поселок Калитино',\n",
       "       'посёлок станции Громово', 'посёлок Высокоключевой',\n",
       "       'садовое товарищество Приладожский',\n",
       "       'посёлок Пансионат Зелёный Бор', 'деревня Ненимяки',\n",
       "       'поселок Пансионат Зелёный Бор', 'поселок Громово',\n",
       "       'посёлок городского типа Важины', 'деревня Рапполово',\n",
       "       'деревня Пустынка', 'посёлок Усть-Ижора', 'деревня Лупполово',\n",
       "       'деревня Большое Рейзино', 'деревня Малая Романовка',\n",
       "       'деревня Суоранда', 'поселок Дружноселье', 'село Паша',\n",
       "       'поселок Володарское', 'деревня Нижняя',\n",
       "       'коттеджный посёлок Лесное', 'деревня Тихковицы',\n",
       "       'деревня Борисова Грива', 'деревня Рабитицы'], dtype=object)"
      ]
     },
     "execution_count": 14,
     "metadata": {},
     "output_type": "execute_result"
    }
   ],
   "source": [
    "df['locality_name'].unique()"
   ]
  },
  {
   "cell_type": "code",
   "execution_count": 15,
   "metadata": {},
   "outputs": [],
   "source": [
    "df['locality_name'] = (\n",
    "    df['locality_name']\n",
    "    .str.replace('ё','е')\n",
    "    .replace(['поселок ','городской поселок ', 'пансионат ', 'садоводческое некоммерческое товарищество ',\n",
    "             'садовое товарищество ', 'станции ', 'село ', 'платформа ', 'городского типа ',\n",
    "             'деревня ', 'при железнодорожной станции '], '', regex=True)\n",
    ")"
   ]
  },
  {
   "cell_type": "code",
   "execution_count": 16,
   "metadata": {},
   "outputs": [
    {
     "data": {
      "text/html": [
       "<div>\n",
       "<style scoped>\n",
       "    .dataframe tbody tr th:only-of-type {\n",
       "        vertical-align: middle;\n",
       "    }\n",
       "\n",
       "    .dataframe tbody tr th {\n",
       "        vertical-align: top;\n",
       "    }\n",
       "\n",
       "    .dataframe thead th {\n",
       "        text-align: right;\n",
       "    }\n",
       "</style>\n",
       "<table border=\"1\" class=\"dataframe\">\n",
       "  <thead>\n",
       "    <tr style=\"text-align: right;\">\n",
       "      <th></th>\n",
       "      <th>total_images</th>\n",
       "      <th>last_price</th>\n",
       "      <th>total_area</th>\n",
       "      <th>first_day_exposition</th>\n",
       "      <th>rooms</th>\n",
       "      <th>ceiling_height</th>\n",
       "      <th>floors_total</th>\n",
       "      <th>living_area</th>\n",
       "      <th>floor</th>\n",
       "      <th>is_apartment</th>\n",
       "      <th>...</th>\n",
       "      <th>kitchen_area</th>\n",
       "      <th>balcony</th>\n",
       "      <th>locality_name</th>\n",
       "      <th>airports_nearest</th>\n",
       "      <th>city_centers_nearest</th>\n",
       "      <th>parks_around3000</th>\n",
       "      <th>parks_nearest</th>\n",
       "      <th>ponds_around3000</th>\n",
       "      <th>ponds_nearest</th>\n",
       "      <th>days_exposition</th>\n",
       "    </tr>\n",
       "  </thead>\n",
       "  <tbody>\n",
       "    <tr>\n",
       "      <th>1</th>\n",
       "      <td>7</td>\n",
       "      <td>3350000.0</td>\n",
       "      <td>40.4</td>\n",
       "      <td>2018-12-04</td>\n",
       "      <td>1</td>\n",
       "      <td>NaN</td>\n",
       "      <td>11</td>\n",
       "      <td>18.6</td>\n",
       "      <td>1</td>\n",
       "      <td>False</td>\n",
       "      <td>...</td>\n",
       "      <td>11.0</td>\n",
       "      <td>2</td>\n",
       "      <td>Шушары</td>\n",
       "      <td>12817.0</td>\n",
       "      <td>18603.0</td>\n",
       "      <td>0</td>\n",
       "      <td>NaN</td>\n",
       "      <td>0</td>\n",
       "      <td>NaN</td>\n",
       "      <td>81</td>\n",
       "    </tr>\n",
       "    <tr>\n",
       "      <th>2</th>\n",
       "      <td>10</td>\n",
       "      <td>5196000.0</td>\n",
       "      <td>56.0</td>\n",
       "      <td>2015-08-20</td>\n",
       "      <td>2</td>\n",
       "      <td>NaN</td>\n",
       "      <td>5</td>\n",
       "      <td>34.3</td>\n",
       "      <td>4</td>\n",
       "      <td>False</td>\n",
       "      <td>...</td>\n",
       "      <td>8.3</td>\n",
       "      <td>0</td>\n",
       "      <td>Санкт-Петербург</td>\n",
       "      <td>21741.0</td>\n",
       "      <td>13933.0</td>\n",
       "      <td>1</td>\n",
       "      <td>90.0</td>\n",
       "      <td>2</td>\n",
       "      <td>574.0</td>\n",
       "      <td>558</td>\n",
       "    </tr>\n",
       "    <tr>\n",
       "      <th>4</th>\n",
       "      <td>2</td>\n",
       "      <td>10000000.0</td>\n",
       "      <td>100.0</td>\n",
       "      <td>2018-06-19</td>\n",
       "      <td>2</td>\n",
       "      <td>3.03</td>\n",
       "      <td>14</td>\n",
       "      <td>32.0</td>\n",
       "      <td>13</td>\n",
       "      <td>False</td>\n",
       "      <td>...</td>\n",
       "      <td>41.0</td>\n",
       "      <td>0</td>\n",
       "      <td>Санкт-Петербург</td>\n",
       "      <td>31856.0</td>\n",
       "      <td>8098.0</td>\n",
       "      <td>2</td>\n",
       "      <td>112.0</td>\n",
       "      <td>1</td>\n",
       "      <td>48.0</td>\n",
       "      <td>121</td>\n",
       "    </tr>\n",
       "    <tr>\n",
       "      <th>5</th>\n",
       "      <td>10</td>\n",
       "      <td>2890000.0</td>\n",
       "      <td>30.4</td>\n",
       "      <td>2018-09-10</td>\n",
       "      <td>1</td>\n",
       "      <td>NaN</td>\n",
       "      <td>12</td>\n",
       "      <td>14.4</td>\n",
       "      <td>5</td>\n",
       "      <td>False</td>\n",
       "      <td>...</td>\n",
       "      <td>9.1</td>\n",
       "      <td>0</td>\n",
       "      <td>городской Янино-1</td>\n",
       "      <td>NaN</td>\n",
       "      <td>NaN</td>\n",
       "      <td>0</td>\n",
       "      <td>NaN</td>\n",
       "      <td>0</td>\n",
       "      <td>NaN</td>\n",
       "      <td>55</td>\n",
       "    </tr>\n",
       "    <tr>\n",
       "      <th>6</th>\n",
       "      <td>6</td>\n",
       "      <td>3700000.0</td>\n",
       "      <td>37.3</td>\n",
       "      <td>2017-11-02</td>\n",
       "      <td>1</td>\n",
       "      <td>NaN</td>\n",
       "      <td>26</td>\n",
       "      <td>10.6</td>\n",
       "      <td>6</td>\n",
       "      <td>False</td>\n",
       "      <td>...</td>\n",
       "      <td>14.4</td>\n",
       "      <td>1</td>\n",
       "      <td>Парголово</td>\n",
       "      <td>52996.0</td>\n",
       "      <td>19143.0</td>\n",
       "      <td>0</td>\n",
       "      <td>NaN</td>\n",
       "      <td>0</td>\n",
       "      <td>NaN</td>\n",
       "      <td>155</td>\n",
       "    </tr>\n",
       "  </tbody>\n",
       "</table>\n",
       "<p>5 rows × 22 columns</p>\n",
       "</div>"
      ],
      "text/plain": [
       "   total_images  last_price  total_area first_day_exposition  rooms  \\\n",
       "1             7   3350000.0        40.4           2018-12-04      1   \n",
       "2            10   5196000.0        56.0           2015-08-20      2   \n",
       "4             2  10000000.0       100.0           2018-06-19      2   \n",
       "5            10   2890000.0        30.4           2018-09-10      1   \n",
       "6             6   3700000.0        37.3           2017-11-02      1   \n",
       "\n",
       "   ceiling_height  floors_total  living_area  floor  is_apartment  ...  \\\n",
       "1             NaN            11         18.6      1         False  ...   \n",
       "2             NaN             5         34.3      4         False  ...   \n",
       "4            3.03            14         32.0     13         False  ...   \n",
       "5             NaN            12         14.4      5         False  ...   \n",
       "6             NaN            26         10.6      6         False  ...   \n",
       "\n",
       "   kitchen_area  balcony      locality_name  airports_nearest  \\\n",
       "1          11.0        2             Шушары           12817.0   \n",
       "2           8.3        0    Санкт-Петербург           21741.0   \n",
       "4          41.0        0    Санкт-Петербург           31856.0   \n",
       "5           9.1        0  городской Янино-1               NaN   \n",
       "6          14.4        1          Парголово           52996.0   \n",
       "\n",
       "  city_centers_nearest  parks_around3000  parks_nearest  ponds_around3000  \\\n",
       "1              18603.0                 0            NaN                 0   \n",
       "2              13933.0                 1           90.0                 2   \n",
       "4               8098.0                 2          112.0                 1   \n",
       "5                  NaN                 0            NaN                 0   \n",
       "6              19143.0                 0            NaN                 0   \n",
       "\n",
       "   ponds_nearest  days_exposition  \n",
       "1            NaN               81  \n",
       "2          574.0              558  \n",
       "4           48.0              121  \n",
       "5            NaN               55  \n",
       "6            NaN              155  \n",
       "\n",
       "[5 rows x 22 columns]"
      ]
     },
     "execution_count": 16,
     "metadata": {},
     "output_type": "execute_result"
    }
   ],
   "source": [
    "df.head()"
   ]
  },
  {
   "cell_type": "markdown",
   "metadata": {},
   "source": [
    "Вывод:\n",
    "- Была проделана предобработка данных, улучшили качество записей, убрали пропуски где возможно, в некоторых столбцах, в каких позволено, пропущенные значения были заменены на медианные, изменены типы данных на требуемый для анализа."
   ]
  },
  {
   "cell_type": "markdown",
   "metadata": {
    "id": "QCcvyY6YAwb-"
   },
   "source": [
    "### Добавьте в таблицу новые столбцы"
   ]
  },
  {
   "cell_type": "markdown",
   "metadata": {},
   "source": []
  },
  {
   "cell_type": "markdown",
   "metadata": {
    "id": "Z8eJek3IAwb-"
   },
   "source": [
    "Добавим столбцы:"
   ]
  },
  {
   "cell_type": "code",
   "execution_count": 17,
   "metadata": {},
   "outputs": [],
   "source": [
    "df['price_one_square_meter'] =  (df['last_price'] / df['total_area']).round(2) #- цена одного квадратного метра - price_one_square_meter"
   ]
  },
  {
   "cell_type": "code",
   "execution_count": 18,
   "metadata": {},
   "outputs": [],
   "source": [
    "df['day_publication'] = df['first_day_exposition'].dt.weekday # день недели публикации объявления (0 — понедельник, 1 — вторник и так далее)"
   ]
  },
  {
   "cell_type": "code",
   "execution_count": 19,
   "metadata": {},
   "outputs": [],
   "source": [
    "df['month_publication'] = df['first_day_exposition'].dt.month  # месяц публикации объявления"
   ]
  },
  {
   "cell_type": "code",
   "execution_count": 20,
   "metadata": {},
   "outputs": [],
   "source": [
    "df['year_publication'] = df['first_day_exposition'].dt.year # год публикации объявления"
   ]
  },
  {
   "cell_type": "code",
   "execution_count": 21,
   "metadata": {},
   "outputs": [],
   "source": [
    "# тип этажа квартиры (значения — «первый», «последний», «другой»);\n",
    "def floor(row):                      \n",
    "    if row['floor'] == 1:\n",
    "        return 'первый'\n",
    "    if row['floor'] == row['floors_total']:\n",
    "        return 'последний'\n",
    "    else:\n",
    "        return 'другой'\n",
    "\n",
    "df['type_floor'] = df.apply(floor, axis=1)"
   ]
  },
  {
   "cell_type": "code",
   "execution_count": 22,
   "metadata": {},
   "outputs": [
    {
     "data": {
      "text/plain": [
       "array(['первый', 'другой', 'последний'], dtype=object)"
      ]
     },
     "execution_count": 22,
     "metadata": {},
     "output_type": "execute_result"
    }
   ],
   "source": [
    "df['type_floor'].unique()"
   ]
  },
  {
   "cell_type": "code",
   "execution_count": 23,
   "metadata": {},
   "outputs": [
    {
     "data": {
      "text/plain": [
       "array([19., 14.,  8., nan, 15., 52., 33., 31., 11., 13., 10.,  2., 12.,\n",
       "       32.,  4., 16., 17., 30.,  7.,  5., 51., 50., 24.,  9., 28.,  3.,\n",
       "        6., 27., 49., 35., 36., 34.,  1., 29., 26., 18., 53., 21., 22.,\n",
       "       55., 20., 23., 25.,  0., 47., 40., 37., 41., 48., 62., 60., 42.,\n",
       "       65., 39., 54., 66., 43., 59., 61., 63.])"
      ]
     },
     "execution_count": 23,
     "metadata": {},
     "output_type": "execute_result"
    }
   ],
   "source": [
    "# расстояние до центра города в километрах\n",
    "df['city_center_distance'] = (df['city_centers_nearest'] / 1000).round(0)\n",
    "df['city_center_distance'].unique()"
   ]
  },
  {
   "cell_type": "markdown",
   "metadata": {
    "id": "pPyxrKWTAwb-"
   },
   "source": [
    "### Проведите исследовательский анализ данных"
   ]
  },
  {
   "cell_type": "markdown",
   "metadata": {
    "id": "V2f0D3kLAwb-"
   },
   "source": [
    "Проведем исследовательский анализ данных и изучим таблицу по следующим параметрам:"
   ]
  },
  {
   "cell_type": "code",
   "execution_count": 24,
   "metadata": {},
   "outputs": [
    {
     "data": {
      "text/plain": [
       "count    18813.000000\n",
       "mean        58.692194\n",
       "std         33.628342\n",
       "min         12.000000\n",
       "25%         39.400000\n",
       "50%         50.700000\n",
       "75%         67.700000\n",
       "max        900.000000\n",
       "Name: total_area, dtype: float64"
      ]
     },
     "execution_count": 24,
     "metadata": {},
     "output_type": "execute_result"
    }
   ],
   "source": [
    "# общая площадь\n",
    "df['total_area'].describe()"
   ]
  },
  {
   "cell_type": "code",
   "execution_count": 25,
   "metadata": {},
   "outputs": [
    {
     "data": {
      "text/plain": [
       "<AxesSubplot:title={'center':'График зависимости общей площади квартир от их количества'}, ylabel='Frequency'>"
      ]
     },
     "execution_count": 25,
     "metadata": {},
     "output_type": "execute_result"
    },
    {
     "data": {
      "image/png": "[encoded data removed]",
      "text/plain": [
       "<Figure size 432x288 with 1 Axes>"
      ]
     },
     "metadata": {
      "needs_background": "light"
     },
     "output_type": "display_data"
    }
   ],
   "source": [
    "df['total_area'].plot(kind='hist', bins=100, range=(12, 140), title='График зависимости общей площади квартир от их количества')"
   ]
  },
  {
   "cell_type": "markdown",
   "metadata": {},
   "source": [
    "Вывод;\n",
    "- больше всего квартир в диапазоне от 35 до 70 квадратых метров\n",
    "- самая популярная категория - это 45 м2.\n",
    "- прослеживается тенденция: чем больше больше площадь, тем меньше предложений на рынке."
   ]
  },
  {
   "cell_type": "code",
   "execution_count": 26,
   "metadata": {},
   "outputs": [
    {
     "data": {
      "text/plain": [
       "count    18813.000000\n",
       "mean        33.538133\n",
       "std         21.317216\n",
       "min          2.000000\n",
       "25%         18.300000\n",
       "50%         30.000000\n",
       "75%         41.600000\n",
       "max        409.700000\n",
       "Name: living_area, dtype: float64"
      ]
     },
     "execution_count": 26,
     "metadata": {},
     "output_type": "execute_result"
    }
   ],
   "source": [
    "# жилая площадь\n",
    "df['living_area'].describe()"
   ]
  },
  {
   "cell_type": "code",
   "execution_count": 27,
   "metadata": {},
   "outputs": [
    {
     "data": {
      "image/png": "[encoded data removed]",
      "text/plain": [
       "<Figure size 432x288 with 1 Axes>"
      ]
     },
     "metadata": {
      "needs_background": "light"
     },
     "output_type": "display_data"
    }
   ],
   "source": [
    "df['living_area'].plot(\n",
    "    kind='hist',\n",
    "    bins=100,\n",
    "    range=(2, 200),\n",
    "    title='График зависимости жилой площади квартир от их количества')\n",
    "plt.ylabel('количество')\n",
    "plt.xlabel('жилая площадь')\n",
    "plt.show()"
   ]
  },
  {
   "cell_type": "markdown",
   "metadata": {},
   "source": [
    "Вывод:\n",
    "- наблюдается 2 пика: набольшее количество квартир с жилой площадью 20 и 30 м2.\n",
    "- после 50 м2 происходит резский спад."
   ]
  },
  {
   "cell_type": "code",
   "execution_count": 28,
   "metadata": {},
   "outputs": [
    {
     "data": {
      "text/plain": [
       "count    18091.000000\n",
       "mean        10.390000\n",
       "std          5.638078\n",
       "min          2.000000\n",
       "25%          7.000000\n",
       "50%          9.000000\n",
       "75%         11.800000\n",
       "max        112.000000\n",
       "Name: kitchen_area, dtype: float64"
      ]
     },
     "execution_count": 28,
     "metadata": {},
     "output_type": "execute_result"
    }
   ],
   "source": [
    "# площади кухни\n",
    "df['kitchen_area'].describe()"
   ]
  },
  {
   "cell_type": "code",
   "execution_count": 29,
   "metadata": {},
   "outputs": [
    {
     "data": {
      "image/png": "[encoded data removed]",
      "text/plain": [
       "<Figure size 432x288 with 1 Axes>"
      ]
     },
     "metadata": {
      "needs_background": "light"
     },
     "output_type": "display_data"
    }
   ],
   "source": [
    "df['kitchen_area'].plot(\n",
    "    kind='hist',\n",
    "    bins=100,\n",
    "    range=(1, 15),\n",
    "    title='График зависимости площади кухни квартир от их количества')\n",
    "plt.ylabel('количество')\n",
    "plt.xlabel('площадь кухни')\n",
    "plt.show()"
   ]
  },
  {
   "cell_type": "markdown",
   "metadata": {},
   "source": [
    "Вывод:\n",
    "- Происходят постояные скачки предложений квартир с площадью кухни 5,7,8,9,10 м2.\n",
    "- Максимальный показатель 9 м2.\n",
    "- чем больше кухня тем меньше количество объявлений."
   ]
  },
  {
   "cell_type": "code",
   "execution_count": 30,
   "metadata": {},
   "outputs": [
    {
     "data": {
      "text/plain": [
       "count    1.881300e+04\n",
       "mean     6.243085e+06\n",
       "std      1.088887e+07\n",
       "min      1.219000e+04\n",
       "25%      3.400000e+06\n",
       "50%      4.500000e+06\n",
       "75%      6.500000e+06\n",
       "max      7.630000e+08\n",
       "Name: last_price, dtype: float64"
      ]
     },
     "execution_count": 30,
     "metadata": {},
     "output_type": "execute_result"
    }
   ],
   "source": [
    "# цена объекта\n",
    "df['last_price'].describe()"
   ]
  },
  {
   "cell_type": "code",
   "execution_count": 31,
   "metadata": {},
   "outputs": [
    {
     "data": {
      "image/png": "[encoded data removed]",
      "text/plain": [
       "<Figure size 432x288 with 1 Axes>"
      ]
     },
     "metadata": {
      "needs_background": "light"
     },
     "output_type": "display_data"
    }
   ],
   "source": [
    "df['last_price'].plot(\n",
    "    kind='hist', \n",
    "    bins=100, \n",
    "    range=(1.219000e+04, 6.800000e+06),\n",
    "    title='График зависимости количетва предложений от цены')\n",
    "plt.ylabel('количество')\n",
    "plt.xlabel('цена')\n",
    "plt.show()"
   ]
  },
  {
   "cell_type": "markdown",
   "metadata": {},
   "source": [
    "Вывод:\n",
    "- видим постоянные скачки, следовательно можно сказать что цена не всегда влияет на преложение.\n",
    "- чаще всего цена квартиры 3.8 млн."
   ]
  },
  {
   "cell_type": "code",
   "execution_count": 32,
   "metadata": {},
   "outputs": [
    {
     "data": {
      "text/plain": [
       "count    18813.000000\n",
       "mean         2.024026\n",
       "std          1.057087\n",
       "min          0.000000\n",
       "25%          1.000000\n",
       "50%          2.000000\n",
       "75%          3.000000\n",
       "max         19.000000\n",
       "Name: rooms, dtype: float64"
      ]
     },
     "execution_count": 32,
     "metadata": {},
     "output_type": "execute_result"
    }
   ],
   "source": [
    "# количество комнат\n",
    "df['rooms'].describe()"
   ]
  },
  {
   "cell_type": "code",
   "execution_count": 33,
   "metadata": {},
   "outputs": [
    {
     "data": {
      "image/png": "[encoded data removed]",
      "text/plain": [
       "<Figure size 432x288 with 1 Axes>"
      ]
     },
     "metadata": {
      "needs_background": "light"
     },
     "output_type": "display_data"
    }
   ],
   "source": [
    "df['rooms'].plot(\n",
    "    kind='hist',\n",
    "    bins=100,\n",
    "    range=(0, 10),\n",
    "    title='График зависимости количества комнат квартир от их предложения')\n",
    "plt.ylabel('количество квартир')\n",
    "plt.xlabel('количество комнат')\n",
    "plt.show()"
   ]
  },
  {
   "cell_type": "markdown",
   "metadata": {},
   "source": [
    "Вывод:\n",
    "- квартир с 1 и 2 комнат больше всего и их предложений почти одинаково\n",
    "- чем больше комнат, тем меньше объявлений"
   ]
  },
  {
   "cell_type": "code",
   "execution_count": 34,
   "metadata": {},
   "outputs": [
    {
     "data": {
      "text/plain": [
       "count    11356.000000\n",
       "mean         2.763575\n",
       "std          1.299512\n",
       "min          1.000000\n",
       "25%          2.520000\n",
       "50%          2.650000\n",
       "75%          2.800000\n",
       "max        100.000000\n",
       "Name: ceiling_height, dtype: float64"
      ]
     },
     "execution_count": 34,
     "metadata": {},
     "output_type": "execute_result"
    }
   ],
   "source": [
    "# высота потолков\n",
    "df['ceiling_height'].describe()"
   ]
  },
  {
   "cell_type": "code",
   "execution_count": 35,
   "metadata": {},
   "outputs": [
    {
     "data": {
      "text/plain": [
       "array([   nan,   3.03,   2.5 ,   2.67,   2.56,   3.05,   2.75,   2.7 ,\n",
       "         2.6 ,   2.9 ,   2.8 ,   2.55,   3.  ,   3.2 ,   2.65,   3.25,\n",
       "         3.45,   2.77,   2.85,   2.64,   2.57,   4.15,   3.5 ,   3.3 ,\n",
       "         2.47,   2.73,   2.84,   3.1 ,   3.4 ,   2.72,   2.54,   2.51,\n",
       "         2.78,   2.76,  25.  ,   2.58,   3.7 ,   2.52,   5.2 ,   2.87,\n",
       "         2.66,   2.59,   2.  ,   2.92,   3.11,   3.13,   3.8 ,   3.15,\n",
       "         3.6 ,   3.55,   3.16,   3.12,   2.53,   2.96,   2.46,   2.74,\n",
       "         2.45,   4.  ,   2.95,   4.06,   2.79,   3.82,   3.53,   2.83,\n",
       "         4.7 ,   3.38,   3.65,   3.9 ,   2.71,   3.35,   2.3 ,   3.01,\n",
       "         2.48,   2.62,   3.57,   2.82,   3.98,   2.63,   3.83,   3.95,\n",
       "         2.4 ,   2.88,   3.87,   3.66,   3.85,   3.86,   4.19,   3.24,\n",
       "         4.8 ,   4.2 ,   3.75,   4.5 ,   3.68,   8.  ,   2.94,   3.26,\n",
       "         3.34,   2.81,   3.07,   3.44,   2.97,   4.37,   2.68,   3.22,\n",
       "         3.27,   3.52,  27.  ,   2.93,   3.46,  24.  ,   3.47,   3.63,\n",
       "         3.33,   3.32,  26.  ,   1.2 ,   3.18,   8.3 ,   2.98,   4.1 ,\n",
       "         2.86,   3.08,   3.17,   4.4 ,   3.67,   3.04,   4.45,   3.84,\n",
       "         3.09,   3.28,   3.02,   3.36,   3.21,   3.43,   3.23,   3.54,\n",
       "         2.61,   3.06,   3.39,   4.65,   3.56,   2.2 ,   3.51,   3.93,\n",
       "         3.42,   3.49,  14.  ,   3.14,   3.78,   3.31,   3.88,   1.75,\n",
       "         4.25,   3.29,   2.25,   3.37,   3.76,   6.  ,  22.6 ,   2.89,\n",
       "         5.8 ,  27.5 ,   2.69,   2.49,   4.9 ,   3.48,  10.3 ,   1.  ,\n",
       "       100.  ,   3.59,   2.91])"
      ]
     },
     "execution_count": 35,
     "metadata": {},
     "output_type": "execute_result"
    }
   ],
   "source": [
    "df['ceiling_height'].unique() # обрабатываем аномальные значения"
   ]
  },
  {
   "cell_type": "code",
   "execution_count": 36,
   "metadata": {},
   "outputs": [
    {
     "data": {
      "image/png": "[encoded data removed]",
      "text/plain": [
       "<Figure size 432x288 with 1 Axes>"
      ]
     },
     "metadata": {
      "needs_background": "light"
     },
     "output_type": "display_data"
    }
   ],
   "source": [
    "df['ceiling_height'].plot(\n",
    "    x = df.query('2 < ceiling_height < 4'), \n",
    "    kind='hist', \n",
    "    bins=60, \n",
    "    range=(1.8, 4), \n",
    "    title = 'График зависимости количества квартир от высоты потолков')\n",
    "plt.ylabel('количество')\n",
    "plt.xlabel('высота потолков')\n",
    "plt.show()"
   ]
  },
  {
   "cell_type": "markdown",
   "metadata": {},
   "source": [
    "Вывод:\n",
    "- Больше всего квартир с высотой потолков 2.6 м."
   ]
  },
  {
   "cell_type": "code",
   "execution_count": 37,
   "metadata": {},
   "outputs": [
    {
     "data": {
      "text/html": [
       "<div>\n",
       "<style scoped>\n",
       "    .dataframe tbody tr th:only-of-type {\n",
       "        vertical-align: middle;\n",
       "    }\n",
       "\n",
       "    .dataframe tbody tr th {\n",
       "        vertical-align: top;\n",
       "    }\n",
       "\n",
       "    .dataframe thead th {\n",
       "        text-align: right;\n",
       "    }\n",
       "</style>\n",
       "<table border=\"1\" class=\"dataframe\">\n",
       "  <thead>\n",
       "    <tr style=\"text-align: right;\">\n",
       "      <th></th>\n",
       "      <th>total_images</th>\n",
       "      <th>last_price</th>\n",
       "      <th>total_area</th>\n",
       "      <th>first_day_exposition</th>\n",
       "      <th>rooms</th>\n",
       "      <th>ceiling_height</th>\n",
       "      <th>floors_total</th>\n",
       "      <th>living_area</th>\n",
       "      <th>floor</th>\n",
       "      <th>is_apartment</th>\n",
       "      <th>...</th>\n",
       "      <th>parks_nearest</th>\n",
       "      <th>ponds_around3000</th>\n",
       "      <th>ponds_nearest</th>\n",
       "      <th>days_exposition</th>\n",
       "      <th>price_one_square_meter</th>\n",
       "      <th>day_publication</th>\n",
       "      <th>month_publication</th>\n",
       "      <th>year_publication</th>\n",
       "      <th>type_floor</th>\n",
       "      <th>city_center_distance</th>\n",
       "    </tr>\n",
       "  </thead>\n",
       "  <tbody>\n",
       "    <tr>\n",
       "      <th>1</th>\n",
       "      <td>7</td>\n",
       "      <td>3350000.0</td>\n",
       "      <td>40.4</td>\n",
       "      <td>2018-12-04</td>\n",
       "      <td>1</td>\n",
       "      <td>NaN</td>\n",
       "      <td>11</td>\n",
       "      <td>18.6</td>\n",
       "      <td>1</td>\n",
       "      <td>False</td>\n",
       "      <td>...</td>\n",
       "      <td>NaN</td>\n",
       "      <td>0</td>\n",
       "      <td>NaN</td>\n",
       "      <td>81</td>\n",
       "      <td>82920.79</td>\n",
       "      <td>1</td>\n",
       "      <td>12</td>\n",
       "      <td>2018</td>\n",
       "      <td>первый</td>\n",
       "      <td>19.0</td>\n",
       "    </tr>\n",
       "  </tbody>\n",
       "</table>\n",
       "<p>1 rows × 28 columns</p>\n",
       "</div>"
      ],
      "text/plain": [
       "   total_images  last_price  total_area first_day_exposition  rooms  \\\n",
       "1             7   3350000.0        40.4           2018-12-04      1   \n",
       "\n",
       "   ceiling_height  floors_total  living_area  floor  is_apartment  ...  \\\n",
       "1             NaN            11         18.6      1         False  ...   \n",
       "\n",
       "   parks_nearest  ponds_around3000  ponds_nearest  days_exposition  \\\n",
       "1            NaN                 0            NaN               81   \n",
       "\n",
       "  price_one_square_meter  day_publication  month_publication  \\\n",
       "1               82920.79                1                 12   \n",
       "\n",
       "   year_publication  type_floor  city_center_distance  \n",
       "1              2018      первый                  19.0  \n",
       "\n",
       "[1 rows x 28 columns]"
      ]
     },
     "execution_count": 37,
     "metadata": {},
     "output_type": "execute_result"
    }
   ],
   "source": [
    "df.head(1)"
   ]
  },
  {
   "cell_type": "code",
   "execution_count": 38,
   "metadata": {},
   "outputs": [
    {
     "data": {
      "text/plain": [
       "<AxesSubplot:title={'center':'График  зависимости цены квартиры от этажа'}, ylabel='last_price'>"
      ]
     },
     "execution_count": 38,
     "metadata": {},
     "output_type": "execute_result"
    },
    {
     "data": {
      "image/png": "[encoded data removed]",
      "text/plain": [
       "<Figure size 720x504 with 1 Axes>"
      ]
     },
     "metadata": {},
     "output_type": "display_data"
    }
   ],
   "source": [
    "# тип этажа квартиры\n",
    "df.pivot_table(\n",
    "    index='type_floor',\n",
    "    values='last_price',\n",
    "    aggfunc='count').plot(\n",
    "    kind='pie',\n",
    "    y='last_price',\n",
    "    figsize=(10,7),\n",
    "    title='График  зависимости цены квартиры от этажа') "
   ]
  },
  {
   "cell_type": "markdown",
   "metadata": {},
   "source": [
    "Вывод:\n",
    "- квартиры между первым и последним этажем стоят дороже, чем квартиры на первом и на последнем этажах.                        "
   ]
  },
  {
   "cell_type": "code",
   "execution_count": 39,
   "metadata": {},
   "outputs": [
    {
     "data": {
      "text/plain": [
       "count    18813.000000\n",
       "mean        10.828629\n",
       "std          6.614035\n",
       "min          1.000000\n",
       "25%          5.000000\n",
       "50%          9.000000\n",
       "75%         16.000000\n",
       "max         60.000000\n",
       "Name: floors_total, dtype: float64"
      ]
     },
     "execution_count": 39,
     "metadata": {},
     "output_type": "execute_result"
    }
   ],
   "source": [
    "# общее количество этажей в доме\n",
    "df['floors_total'].describe()"
   ]
  },
  {
   "cell_type": "code",
   "execution_count": 40,
   "metadata": {},
   "outputs": [
    {
     "data": {
      "image/png": "[encoded data removed]",
      "text/plain": [
       "<Figure size 432x288 with 1 Axes>"
      ]
     },
     "metadata": {
      "needs_background": "light"
     },
     "output_type": "display_data"
    }
   ],
   "source": [
    "df['floors_total'].plot(\n",
    "    kind='hist',\n",
    "    bins=100,\n",
    "    range=(1, 20),\n",
    "    title=' График зависимости количества квартир от количества этажей в доме'\n",
    ")\n",
    "plt.ylabel('количество')\n",
    "plt.xlabel('количество этажей')\n",
    "plt.show()"
   ]
  },
  {
   "cell_type": "markdown",
   "metadata": {},
   "source": [
    "Вывод:\n",
    "- Больше всего квартир в домах с 5 этажами."
   ]
  },
  {
   "cell_type": "code",
   "execution_count": 41,
   "metadata": {},
   "outputs": [
    {
     "data": {
      "text/plain": [
       "count    14716.000000\n",
       "mean     14335.075156\n",
       "std       8615.529704\n",
       "min        208.000000\n",
       "25%       9509.500000\n",
       "50%      13170.500000\n",
       "75%      16364.500000\n",
       "max      65968.000000\n",
       "Name: city_centers_nearest, dtype: float64"
      ]
     },
     "execution_count": 41,
     "metadata": {},
     "output_type": "execute_result"
    }
   ],
   "source": [
    "# расстояние до центра города в метрах\n",
    "df['city_centers_nearest'].describe()"
   ]
  },
  {
   "cell_type": "code",
   "execution_count": 42,
   "metadata": {},
   "outputs": [
    {
     "data": {
      "image/png": "[encoded data removed]",
      "text/plain": [
       "<Figure size 432x288 with 1 Axes>"
      ]
     },
     "metadata": {
      "needs_background": "light"
     },
     "output_type": "display_data"
    }
   ],
   "source": [
    "# расстояние до центра города в метрах\n",
    "df['city_centers_nearest'].plot(\n",
    "    kind='hist',\n",
    "    bins=100,\n",
    "    range=(181, 30000), \n",
    "    title=' График зависимости расстояния до центра города от предложения'\n",
    ")\n",
    "plt.ylabel('количество')\n",
    "plt.xlabel('расстояние до центра города')\n",
    "plt.show()"
   ]
  },
  {
   "cell_type": "markdown",
   "metadata": {},
   "source": [
    "Вывод:\n",
    "- наблюдается несколько пиков в 4500, 12000 и 15000 метров. Именно на этих расстояниях до центра больше всего предложений"
   ]
  },
  {
   "cell_type": "code",
   "execution_count": 43,
   "metadata": {},
   "outputs": [
    {
     "data": {
      "text/plain": [
       "count    6431.000000\n",
       "mean      487.968745\n",
       "std       339.455669\n",
       "min         1.000000\n",
       "25%       286.000000\n",
       "50%       451.000000\n",
       "75%       612.000000\n",
       "max      3190.000000\n",
       "Name: parks_nearest, dtype: float64"
      ]
     },
     "execution_count": 43,
     "metadata": {},
     "output_type": "execute_result"
    }
   ],
   "source": [
    "# расстояние до ближайшего парка\n",
    "df['parks_nearest'].describe()"
   ]
  },
  {
   "cell_type": "code",
   "execution_count": 44,
   "metadata": {},
   "outputs": [
    {
     "data": {
      "image/png": "[encoded data removed]",
      "text/plain": [
       "<Figure size 432x288 with 1 Axes>"
      ]
     },
     "metadata": {
      "needs_background": "light"
     },
     "output_type": "display_data"
    }
   ],
   "source": [
    "df['parks_nearest'].plot(\n",
    "    kind='hist',\n",
    "    bins=100,\n",
    "    range=(70, 700), \n",
    "    title=' График зависимости расстояния до ближайшего парка от предложения'\n",
    ")  \n",
    "plt.ylabel('количество')\n",
    "plt.xlabel('расстояние до ближайшего парка')\n",
    "plt.show()"
   ]
  },
  {
   "cell_type": "markdown",
   "metadata": {},
   "source": [
    "Вывод:\n",
    "- Явной зависимости нет, практически одинаковое количество квартир с расстоянием до ближайшего парка как 150, так и 700 метров."
   ]
  },
  {
   "cell_type": "markdown",
   "metadata": {},
   "source": [
    "Итоговый вывод:\n",
    "На рынке самое разнообразное количество квартир с различными характеристиками.\n",
    "На основании вышепроведенных исследований можно сделать вывод:\n",
    "- Самое популярное предложение - это квартира с общей площадью 45 м2, жилой-20 м2, площадью кухни 9 м2, стоимостью 3.8 млн, квартира является однушкой или двухкомнатной, высотой потолков 2.6 м. Квартира также находится не на первом и не на последнем этажах, но в пятиэтажке.\n",
    "Вероятнее всего находится на окраине города, так как расстояние до центра 13.5 км."
   ]
  },
  {
   "cell_type": "code",
   "execution_count": 45,
   "metadata": {},
   "outputs": [
    {
     "data": {
      "text/plain": [
       "count    18813.000000\n",
       "mean       184.898262\n",
       "std        221.223815\n",
       "min          1.000000\n",
       "25%         44.000000\n",
       "50%        101.000000\n",
       "75%        239.000000\n",
       "max       1580.000000\n",
       "Name: days_exposition, dtype: float64"
      ]
     },
     "execution_count": 45,
     "metadata": {},
     "output_type": "execute_result"
    }
   ],
   "source": [
    "# Изучим, как быстро продавались квартиры\n",
    "df['days_exposition'].describe()"
   ]
  },
  {
   "cell_type": "code",
   "execution_count": 46,
   "metadata": {},
   "outputs": [
    {
     "data": {
      "image/png": "[encoded data removed]",
      "text/plain": [
       "<Figure size 432x288 with 1 Axes>"
      ]
     },
     "metadata": {
      "needs_background": "light"
     },
     "output_type": "display_data"
    }
   ],
   "source": [
    "# Изучим, как быстро продавались квартиры\n",
    "df['days_exposition'].plot(\n",
    "    kind='hist',\n",
    "    bins=100,\n",
    "    range= (10, 500),\n",
    "    title='График продолжительности продажи квартир')\n",
    "plt.ylabel('количество')\n",
    "plt.xlabel('дни')\n",
    "plt.show()"
   ]
  },
  {
   "cell_type": "code",
   "execution_count": 47,
   "metadata": {},
   "outputs": [
    {
     "data": {
      "text/plain": [
       "101.0"
      ]
     },
     "execution_count": 47,
     "metadata": {},
     "output_type": "execute_result"
    }
   ],
   "source": [
    "df['days_exposition'].median()"
   ]
  },
  {
   "cell_type": "markdown",
   "metadata": {},
   "source": [
    "Вывод:\n",
    "- В среднем квартира продается 180 дней, хотя более точный ответ даст медиана 95 дней. В этом случае квартира продается 3 месяца.\n",
    "Быстрыми продажами можно считать те которые уложились в 45 дней(видно из метода describe)\n",
    "Долгими, которые преодолели отметку 232 дня.\n"
   ]
  },
  {
   "cell_type": "markdown",
   "metadata": {},
   "source": [
    " Определим факторы, которые больше всего влияют на общую (полную) стоимость объекта.\n",
    " Изучим, зависит ли цена от:\n",
    "- общей площади;\n",
    "- жилой площади;\n",
    "- площади кухни;\n",
    "- количества комнат;\n",
    "- этажа, на котором расположена квартира (первый, последний, другой);\n",
    "- даты размещения (день недели, месяц, год)."
   ]
  },
  {
   "cell_type": "code",
   "execution_count": 48,
   "metadata": {},
   "outputs": [
    {
     "data": {
      "text/html": [
       "<div>\n",
       "<style scoped>\n",
       "    .dataframe tbody tr th:only-of-type {\n",
       "        vertical-align: middle;\n",
       "    }\n",
       "\n",
       "    .dataframe tbody tr th {\n",
       "        vertical-align: top;\n",
       "    }\n",
       "\n",
       "    .dataframe thead th {\n",
       "        text-align: right;\n",
       "    }\n",
       "</style>\n",
       "<table border=\"1\" class=\"dataframe\">\n",
       "  <thead>\n",
       "    <tr style=\"text-align: right;\">\n",
       "      <th></th>\n",
       "      <th>kitchen_area</th>\n",
       "      <th>last_price</th>\n",
       "      <th>living_area</th>\n",
       "      <th>rooms</th>\n",
       "      <th>total_area</th>\n",
       "    </tr>\n",
       "  </thead>\n",
       "  <tbody>\n",
       "    <tr>\n",
       "      <th>kitchen_area</th>\n",
       "      <td>1.000000</td>\n",
       "      <td>0.428263</td>\n",
       "      <td>0.163425</td>\n",
       "      <td>0.156073</td>\n",
       "      <td>0.490878</td>\n",
       "    </tr>\n",
       "    <tr>\n",
       "      <th>last_price</th>\n",
       "      <td>0.428263</td>\n",
       "      <td>1.000000</td>\n",
       "      <td>0.617661</td>\n",
       "      <td>0.429679</td>\n",
       "      <td>0.728986</td>\n",
       "    </tr>\n",
       "    <tr>\n",
       "      <th>living_area</th>\n",
       "      <td>0.163425</td>\n",
       "      <td>0.617661</td>\n",
       "      <td>1.000000</td>\n",
       "      <td>0.900903</td>\n",
       "      <td>0.925430</td>\n",
       "    </tr>\n",
       "    <tr>\n",
       "      <th>rooms</th>\n",
       "      <td>0.156073</td>\n",
       "      <td>0.429679</td>\n",
       "      <td>0.900903</td>\n",
       "      <td>1.000000</td>\n",
       "      <td>0.815185</td>\n",
       "    </tr>\n",
       "    <tr>\n",
       "      <th>total_area</th>\n",
       "      <td>0.490878</td>\n",
       "      <td>0.728986</td>\n",
       "      <td>0.925430</td>\n",
       "      <td>0.815185</td>\n",
       "      <td>1.000000</td>\n",
       "    </tr>\n",
       "  </tbody>\n",
       "</table>\n",
       "</div>"
      ],
      "text/plain": [
       "              kitchen_area  last_price  living_area     rooms  total_area\n",
       "kitchen_area      1.000000    0.428263     0.163425  0.156073    0.490878\n",
       "last_price        0.428263    1.000000     0.617661  0.429679    0.728986\n",
       "living_area       0.163425    0.617661     1.000000  0.900903    0.925430\n",
       "rooms             0.156073    0.429679     0.900903  1.000000    0.815185\n",
       "total_area        0.490878    0.728986     0.925430  0.815185    1.000000"
      ]
     },
     "execution_count": 48,
     "metadata": {},
     "output_type": "execute_result"
    }
   ],
   "source": [
    "df.pivot_table(index='floor', values=['last_price','total_area','living_area','kitchen_area','rooms']).corr()"
   ]
  },
  {
   "cell_type": "markdown",
   "metadata": {},
   "source": [
    "Вывод:\n",
    "- есть прямая зависимость между ценой и жилой площадью\n",
    "- также есть прямая зависмость между ценой и общей площадью\n",
    "- есть зависимость между ценой и количеством комнат\n",
    "- слабая зависимость между площадью кухни и ценой"
   ]
  },
  {
   "cell_type": "code",
   "execution_count": 49,
   "metadata": {},
   "outputs": [
    {
     "data": {
      "text/plain": [
       "<AxesSubplot:xlabel='total_area', ylabel='last_price'>"
      ]
     },
     "execution_count": 49,
     "metadata": {},
     "output_type": "execute_result"
    },
    {
     "data": {
      "image/png": "[encoded data removed]",
      "text/plain": [
       "<Figure size 432x288 with 1 Axes>"
      ]
     },
     "metadata": {
      "needs_background": "light"
     },
     "output_type": "display_data"
    }
   ],
   "source": [
    "\n",
    "df.plot(x='total_area', y='last_price', kind='scatter', alpha=0.7)"
   ]
  },
  {
   "cell_type": "markdown",
   "metadata": {},
   "source": [
    "Есть прямая линейная зависимость, наблюдаются аномальные значения хотя их совсем немного."
   ]
  },
  {
   "cell_type": "code",
   "execution_count": 50,
   "metadata": {},
   "outputs": [
    {
     "data": {
      "text/plain": [
       "<AxesSubplot:xlabel='living_area', ylabel='last_price'>"
      ]
     },
     "execution_count": 50,
     "metadata": {},
     "output_type": "execute_result"
    },
    {
     "data": {
      "image/png": "[encoded data removed]",
      "text/plain": [
       "<Figure size 432x288 with 1 Axes>"
      ]
     },
     "metadata": {
      "needs_background": "light"
     },
     "output_type": "display_data"
    }
   ],
   "source": [
    "df.plot(x='living_area', y='last_price', kind='scatter', alpha=0.7)"
   ]
  },
  {
   "cell_type": "markdown",
   "metadata": {},
   "source": [
    "Жилая площадь напрямую влияет на цену квартиры."
   ]
  },
  {
   "cell_type": "code",
   "execution_count": 51,
   "metadata": {},
   "outputs": [
    {
     "data": {
      "text/plain": [
       "<AxesSubplot:xlabel='kitchen_area', ylabel='last_price'>"
      ]
     },
     "execution_count": 51,
     "metadata": {},
     "output_type": "execute_result"
    },
    {
     "data": {
      "image/png": "[encoded data removed]",
      "text/plain": [
       "<Figure size 432x288 with 1 Axes>"
      ]
     },
     "metadata": {
      "needs_background": "light"
     },
     "output_type": "display_data"
    }
   ],
   "source": [
    "df.plot(x='kitchen_area', y='last_price', kind='scatter', alpha=0.7)"
   ]
  },
  {
   "cell_type": "code",
   "execution_count": 52,
   "metadata": {},
   "outputs": [
    {
     "data": {
      "text/plain": [
       "<AxesSubplot:title={'center':'График зависимости цены от количества комнат'}, xlabel='rooms'>"
      ]
     },
     "execution_count": 52,
     "metadata": {},
     "output_type": "execute_result"
    },
    {
     "data": {
      "image/png": "[encoded data removed]",
      "text/plain": [
       "<Figure size 360x360 with 1 Axes>"
      ]
     },
     "metadata": {
      "needs_background": "light"
     },
     "output_type": "display_data"
    }
   ],
   "source": [
    "df.pivot_table(index='rooms', values='last_price').plot(style='o-', grid=True, figsize=(5, 5), title='График зависимости цены от количества комнат')"
   ]
  },
  {
   "cell_type": "markdown",
   "metadata": {},
   "source": [
    "Вывод:\n",
    "- Квартиры до 12 комнат имеют прямую зависимость со своей ценой, однако в диапазоне 12-15 комнат уже прослеживается обратная зависимость. Скорее всего тут уже надо учеть общую площадь квартиры."
   ]
  },
  {
   "cell_type": "code",
   "execution_count": 53,
   "metadata": {},
   "outputs": [
    {
     "data": {
      "text/plain": [
       "<AxesSubplot:title={'center':'График зависимости цены от типа этажа'}, xlabel='type_floor'>"
      ]
     },
     "execution_count": 53,
     "metadata": {},
     "output_type": "execute_result"
    },
    {
     "data": {
      "image/png": "[encoded data removed]",
      "text/plain": [
       "<Figure size 360x360 with 1 Axes>"
      ]
     },
     "metadata": {
      "needs_background": "light"
     },
     "output_type": "display_data"
    }
   ],
   "source": [
    "df.pivot_table(index='type_floor', values='last_price', aggfunc='median').plot(\n",
    "    grid=True, figsize=(5, 5), title='График зависимости цены от типа этажа')"
   ]
  },
  {
   "cell_type": "code",
   "execution_count": 54,
   "metadata": {},
   "outputs": [
    {
     "data": {
      "text/plain": [
       "<AxesSubplot:xlabel='day_publication'>"
      ]
     },
     "execution_count": 54,
     "metadata": {},
     "output_type": "execute_result"
    },
    {
     "data": {
      "image/png": "[encoded data removed]",
      "text/plain": [
       "<Figure size 360x360 with 1 Axes>"
      ]
     },
     "metadata": {
      "needs_background": "light"
     },
     "output_type": "display_data"
    }
   ],
   "source": [
    "df.pivot_table(index='day_publication', values='last_price').plot(grid=True, style='o-', figsize=(5, 5))    "
   ]
  },
  {
   "cell_type": "code",
   "execution_count": 55,
   "metadata": {},
   "outputs": [
    {
     "data": {
      "text/plain": [
       "<AxesSubplot:xlabel='month_publication'>"
      ]
     },
     "execution_count": 55,
     "metadata": {},
     "output_type": "execute_result"
    },
    {
     "data": {
      "image/png": "[encoded data removed]",
      "text/plain": [
       "<Figure size 360x360 with 1 Axes>"
      ]
     },
     "metadata": {
      "needs_background": "light"
     },
     "output_type": "display_data"
    }
   ],
   "source": [
    "df.pivot_table(index='month_publication', values='last_price', aggfunc='median').plot(grid=True, style='o-', figsize=(5, 5))    "
   ]
  },
  {
   "cell_type": "code",
   "execution_count": 56,
   "metadata": {},
   "outputs": [
    {
     "data": {
      "text/plain": [
       "<AxesSubplot:xlabel='year_publication'>"
      ]
     },
     "execution_count": 56,
     "metadata": {},
     "output_type": "execute_result"
    },
    {
     "data": {
      "image/png": "[encoded data removed]",
      "text/plain": [
       "<Figure size 360x360 with 1 Axes>"
      ]
     },
     "metadata": {
      "needs_background": "light"
     },
     "output_type": "display_data"
    }
   ],
   "source": [
    "df.pivot_table(index='year_publication', values='last_price', aggfunc='median').plot(grid=True, style='o-', figsize=(5, 5))\n",
    "    "
   ]
  },
  {
   "cell_type": "markdown",
   "metadata": {},
   "source": [
    "Вывод:\n",
    "- Чем больше общая площадь, тем выше стоимость. Корреляция этих параметров крайне высокая.\n",
    "- Число комнат влияет на цену , однако зависимость ниже, чем у площади, так как бывают квартиры с большими по площади комнатами и квартиры в центре состоят из малого числа комнат, но стоят достаточно высоко.\n",
    "- В среднем квартиры на 1-м этаже значительно дешевле. Чуть дороже последний этаж.\n",
    "- Наибольшая стоимость у квартир, расположенных не на 1-м и не на последнем этаже."
   ]
  },
  {
   "cell_type": "markdown",
   "metadata": {},
   "source": []
  },
  {
   "cell_type": "markdown",
   "metadata": {},
   "source": [
    "Посчитаем среднюю цену одного квадратного метра в 10 населённых пунктах с наибольшим числом объявлений."
   ]
  },
  {
   "cell_type": "code",
   "execution_count": 57,
   "metadata": {},
   "outputs": [
    {
     "data": {
      "text/html": [
       "<div>\n",
       "<style scoped>\n",
       "    .dataframe tbody tr th:only-of-type {\n",
       "        vertical-align: middle;\n",
       "    }\n",
       "\n",
       "    .dataframe tbody tr th {\n",
       "        vertical-align: top;\n",
       "    }\n",
       "\n",
       "    .dataframe thead th {\n",
       "        text-align: right;\n",
       "    }\n",
       "</style>\n",
       "<table border=\"1\" class=\"dataframe\">\n",
       "  <thead>\n",
       "    <tr style=\"text-align: right;\">\n",
       "      <th></th>\n",
       "      <th>number_of_ads</th>\n",
       "      <th>price_per_meter</th>\n",
       "    </tr>\n",
       "    <tr>\n",
       "      <th>locality_name</th>\n",
       "      <th></th>\n",
       "      <th></th>\n",
       "    </tr>\n",
       "  </thead>\n",
       "  <tbody>\n",
       "    <tr>\n",
       "      <th>Санкт-Петербург</th>\n",
       "      <td>12629</td>\n",
       "      <td>111876.62</td>\n",
       "    </tr>\n",
       "    <tr>\n",
       "      <th>Пушкин</th>\n",
       "      <td>286</td>\n",
       "      <td>102530.04</td>\n",
       "    </tr>\n",
       "    <tr>\n",
       "      <th>Кудрово</th>\n",
       "      <td>394</td>\n",
       "      <td>94755.41</td>\n",
       "    </tr>\n",
       "    <tr>\n",
       "      <th>Парголово</th>\n",
       "      <td>277</td>\n",
       "      <td>89816.02</td>\n",
       "    </tr>\n",
       "    <tr>\n",
       "      <th>Мурино</th>\n",
       "      <td>487</td>\n",
       "      <td>86384.30</td>\n",
       "    </tr>\n",
       "    <tr>\n",
       "      <th>Петергоф</th>\n",
       "      <td>173</td>\n",
       "      <td>83110.83</td>\n",
       "    </tr>\n",
       "    <tr>\n",
       "      <th>Шушары</th>\n",
       "      <td>376</td>\n",
       "      <td>78410.95</td>\n",
       "    </tr>\n",
       "    <tr>\n",
       "      <th>Колпино</th>\n",
       "      <td>298</td>\n",
       "      <td>74758.01</td>\n",
       "    </tr>\n",
       "    <tr>\n",
       "      <th>Всеволожск</th>\n",
       "      <td>314</td>\n",
       "      <td>68842.29</td>\n",
       "    </tr>\n",
       "    <tr>\n",
       "      <th>Гатчина</th>\n",
       "      <td>253</td>\n",
       "      <td>67742.75</td>\n",
       "    </tr>\n",
       "  </tbody>\n",
       "</table>\n",
       "</div>"
      ],
      "text/plain": [
       "                 number_of_ads  price_per_meter\n",
       "locality_name                                  \n",
       "Санкт-Петербург          12629        111876.62\n",
       "Пушкин                     286        102530.04\n",
       "Кудрово                    394         94755.41\n",
       "Парголово                  277         89816.02\n",
       "Мурино                     487         86384.30\n",
       "Петергоф                   173         83110.83\n",
       "Шушары                     376         78410.95\n",
       "Колпино                    298         74758.01\n",
       "Всеволожск                 314         68842.29\n",
       "Гатчина                    253         67742.75"
      ]
     },
     "execution_count": 57,
     "metadata": {},
     "output_type": "execute_result"
    }
   ],
   "source": [
    "df['price_per_meter'] = df['last_price']/df['total_area']\n",
    "loc_name_10 = df.pivot_table(index='locality_name', values='price_per_meter', aggfunc='count')\n",
    "loc_name_10.columns=['number_of_ads']\n",
    "loc_name_10['price_per_meter'] = df.pivot_table(index='locality_name', values='price_per_meter').round(2)\n",
    "loc_name_10.sort_values(by='number_of_ads', ascending=False).head(10).sort_values(by='price_per_meter', ascending=False)"
   ]
  },
  {
   "cell_type": "markdown",
   "metadata": {},
   "source": [
    "Вывод:\n",
    "- Из таблицы видно, что самая высокая цена за м2 в Санкт-Петербурге, хотя в его области, точнее в городе Выборг, цена уже в 2 с лишним раза меньше."
   ]
  },
  {
   "cell_type": "code",
   "execution_count": 58,
   "metadata": {},
   "outputs": [
    {
     "data": {
      "text/html": [
       "<div>\n",
       "<style scoped>\n",
       "    .dataframe tbody tr th:only-of-type {\n",
       "        vertical-align: middle;\n",
       "    }\n",
       "\n",
       "    .dataframe tbody tr th {\n",
       "        vertical-align: top;\n",
       "    }\n",
       "\n",
       "    .dataframe thead th {\n",
       "        text-align: right;\n",
       "    }\n",
       "</style>\n",
       "<table border=\"1\" class=\"dataframe\">\n",
       "  <thead>\n",
       "    <tr style=\"text-align: right;\">\n",
       "      <th></th>\n",
       "      <th>balcony</th>\n",
       "      <th>last_price</th>\n",
       "    </tr>\n",
       "    <tr>\n",
       "      <th>locality_name</th>\n",
       "      <th></th>\n",
       "      <th></th>\n",
       "    </tr>\n",
       "  </thead>\n",
       "  <tbody>\n",
       "    <tr>\n",
       "      <th>Санкт-Петербург</th>\n",
       "      <td>12629</td>\n",
       "      <td>5300000.0</td>\n",
       "    </tr>\n",
       "    <tr>\n",
       "      <th>Мурино</th>\n",
       "      <td>487</td>\n",
       "      <td>3400000.0</td>\n",
       "    </tr>\n",
       "    <tr>\n",
       "      <th>Кудрово</th>\n",
       "      <td>394</td>\n",
       "      <td>3785000.0</td>\n",
       "    </tr>\n",
       "    <tr>\n",
       "      <th>Шушары</th>\n",
       "      <td>376</td>\n",
       "      <td>3900000.0</td>\n",
       "    </tr>\n",
       "    <tr>\n",
       "      <th>Всеволожск</th>\n",
       "      <td>314</td>\n",
       "      <td>3350000.0</td>\n",
       "    </tr>\n",
       "    <tr>\n",
       "      <th>Колпино</th>\n",
       "      <td>298</td>\n",
       "      <td>3560000.0</td>\n",
       "    </tr>\n",
       "    <tr>\n",
       "      <th>Пушкин</th>\n",
       "      <td>286</td>\n",
       "      <td>5100000.0</td>\n",
       "    </tr>\n",
       "    <tr>\n",
       "      <th>Парголово</th>\n",
       "      <td>277</td>\n",
       "      <td>4000000.0</td>\n",
       "    </tr>\n",
       "    <tr>\n",
       "      <th>Гатчина</th>\n",
       "      <td>253</td>\n",
       "      <td>3030000.0</td>\n",
       "    </tr>\n",
       "    <tr>\n",
       "      <th>Петергоф</th>\n",
       "      <td>173</td>\n",
       "      <td>3600000.0</td>\n",
       "    </tr>\n",
       "  </tbody>\n",
       "</table>\n",
       "</div>"
      ],
      "text/plain": [
       "                 balcony  last_price\n",
       "locality_name                       \n",
       "Санкт-Петербург    12629   5300000.0\n",
       "Мурино               487   3400000.0\n",
       "Кудрово              394   3785000.0\n",
       "Шушары               376   3900000.0\n",
       "Всеволожск           314   3350000.0\n",
       "Колпино              298   3560000.0\n",
       "Пушкин               286   5100000.0\n",
       "Парголово            277   4000000.0\n",
       "Гатчина              253   3030000.0\n",
       "Петергоф             173   3600000.0"
      ]
     },
     "execution_count": 58,
     "metadata": {},
     "output_type": "execute_result"
    }
   ],
   "source": [
    "df.groupby('locality_name').agg({'balcony':'count', 'last_price':'median'}) \\\n",
    "    .sort_values(by = 'balcony', ascending = False) \\\n",
    "    .head(10)"
   ]
  },
  {
   "cell_type": "markdown",
   "metadata": {},
   "source": [
    "<div class=\"alert alert-info\"> <b>Комментарии студента:</b> Отправляю в список гениальных решений)\n",
    "</div>"
   ]
  },
  {
   "cell_type": "markdown",
   "metadata": {},
   "source": [
    "Узнаем среднюю стоимость квартир в Санкт-Петербурге на разном удалении от центра."
   ]
  },
  {
   "cell_type": "code",
   "execution_count": 59,
   "metadata": {
    "scrolled": true
   },
   "outputs": [
    {
     "data": {
      "text/plain": [
       "<AxesSubplot:title={'center':'График зависимоти цены от рассояния до центра Санкт-Петербурга'}, xlabel='city_center_distance'>"
      ]
     },
     "execution_count": 59,
     "metadata": {},
     "output_type": "execute_result"
    },
    {
     "data": {
      "image/png": "[encoded data removed]",
      "text/plain": [
       "<Figure size 720x360 with 1 Axes>"
      ]
     },
     "metadata": {
      "needs_background": "light"
     },
     "output_type": "display_data"
    }
   ],
   "source": [
    "df.query('locality_name == \"Санкт-Петербург\"').pivot_table(\n",
    "index='city_center_distance', values='last_price').plot(figsize=(10,5), style='o-', grid=True, title='График зависимоти цены от рассояния до центра Санкт-Петербурга')"
   ]
  },
  {
   "cell_type": "markdown",
   "metadata": {},
   "source": [
    "Как это не странно,можно заметить, что чем дальше от центра тем дешевле стоимость за м2."
   ]
  },
  {
   "cell_type": "markdown",
   "metadata": {
    "id": "h7VpzkIDAwb-"
   },
   "source": [
    "### Напишите общий вывод"
   ]
  },
  {
   "cell_type": "markdown",
   "metadata": {},
   "source": [
    "В ходе проведенной работы, были сделаны исседования по данным о продаже квартир.\n",
    "По параметрам:\n",
    "- общая площадь;\n",
    "- жилая площадь;\n",
    "- площадь кухни;\n",
    "- цена объекта;\n",
    "- количество комнат;\n",
    "- высота потолков;\n",
    "- тип этажа квартиры («первый», «последний», «другой»);\n",
    "- общее количество этажей в доме;\n",
    "- расстояние до центра города в метрах;\n",
    "- расстояние до ближайшего парка;\n",
    "\n",
    "Был сделан вывод: cреднестатистическое предложение аренды - это квартира с общей площадью 45 м2, жилой-20 м2, площадью кухни 9 м2, стоимостью 3.8 млн, квартира является однушкой или двухкомнатной, высотой потолков 2.6 м. Квартира также находится не на первом и не на последнем этажах, но в пятиэтажке. Вероятнее всего находится на окраине города, так как расстояние до центра 13.5 км\n",
    "Также было изучено время за которое продавались квартиры:\n",
    "- В среднем квартира продается 180 дней, хотя более точный ответ даст медиана 95 дней. В этом случае квартира продается 3 месяца.\n",
    "- Быстрыми продажами можно считать те которые уложились в 45 дней, долгими, которые преодолели отметку 232 дня.\n",
    "Исседование выявило факторы, которые больше всего влияют на стоимость объекта:\n",
    "- Чем больше общая площадь, тем выше стоимость.\n",
    "- Число комнат, но не всегда, нужно учитывать площадь этих комнат, но на цену в квартирах до 12 комнат их количество влияет напрямую.\n",
    "- первый и последний этаж пользуется меньшим спросом у покупателей следовательно влияет на цену.\n",
    "Посчитана средняя цена одного квадратного метра в 10 населённых пунктах с наибольшим числом объявлений:\n",
    "- в Санкт-Петербурге самая высокая стоимость за м2\n",
    "- в Ленинградской области стоимость снижается линейно в зависимости от удаленности от города на Неве.\n"
   ]
  }
 ],
 "metadata": {
  "ExecuteTimeLog": [
   {
    "duration": 669,
    "start_time": "2024-03-12T16:24:20.948Z"
   },
   {
    "duration": 462,
    "start_time": "2024-03-12T16:25:37.161Z"
   },
   {
    "duration": 100,
    "start_time": "2024-03-12T16:25:50.861Z"
   },
   {
    "duration": 112,
    "start_time": "2024-03-12T16:26:09.019Z"
   },
   {
    "duration": 99,
    "start_time": "2024-03-12T16:28:31.300Z"
   },
   {
    "duration": 12,
    "start_time": "2024-03-12T16:29:15.947Z"
   },
   {
    "duration": 10,
    "start_time": "2024-03-12T16:32:02.140Z"
   },
   {
    "duration": 1906,
    "start_time": "2024-03-12T16:34:50.626Z"
   },
   {
    "duration": 23,
    "start_time": "2024-03-12T16:47:21.481Z"
   },
   {
    "duration": 8,
    "start_time": "2024-03-12T16:51:52.199Z"
   },
   {
    "duration": 20,
    "start_time": "2024-03-12T17:20:38.620Z"
   },
   {
    "duration": 69,
    "start_time": "2024-03-12T17:22:56.145Z"
   },
   {
    "duration": 515,
    "start_time": "2024-03-12T17:23:10.526Z"
   },
   {
    "duration": 11,
    "start_time": "2024-03-12T17:23:11.042Z"
   },
   {
    "duration": 1708,
    "start_time": "2024-03-12T17:23:11.057Z"
   },
   {
    "duration": 21,
    "start_time": "2024-03-12T17:23:12.767Z"
   },
   {
    "duration": 7,
    "start_time": "2024-03-12T17:23:12.789Z"
   },
   {
    "duration": 74,
    "start_time": "2024-03-12T17:23:12.797Z"
   },
   {
    "duration": 8,
    "start_time": "2024-03-12T17:23:57.859Z"
   },
   {
    "duration": 75,
    "start_time": "2024-03-12T17:24:35.183Z"
   },
   {
    "duration": 70,
    "start_time": "2024-03-12T17:25:12.376Z"
   },
   {
    "duration": 39,
    "start_time": "2024-03-12T17:25:20.817Z"
   },
   {
    "duration": 8,
    "start_time": "2024-03-12T17:25:33.485Z"
   },
   {
    "duration": 1142,
    "start_time": "2024-03-12T17:39:59.771Z"
   },
   {
    "duration": 556,
    "start_time": "2024-03-12T17:40:48.735Z"
   },
   {
    "duration": 541,
    "start_time": "2024-03-12T17:42:25.160Z"
   },
   {
    "duration": 1155,
    "start_time": "2024-03-12T17:42:55.751Z"
   },
   {
    "duration": 10,
    "start_time": "2024-03-12T17:56:52.412Z"
   },
   {
    "duration": 9,
    "start_time": "2024-03-12T18:11:05.051Z"
   },
   {
    "duration": 55,
    "start_time": "2024-03-13T19:39:42.382Z"
   },
   {
    "duration": 797,
    "start_time": "2024-03-13T19:39:50.638Z"
   },
   {
    "duration": 17,
    "start_time": "2024-03-13T19:39:51.437Z"
   },
   {
    "duration": 2408,
    "start_time": "2024-03-13T19:39:51.456Z"
   },
   {
    "duration": 27,
    "start_time": "2024-03-13T19:39:53.865Z"
   },
   {
    "duration": 9,
    "start_time": "2024-03-13T19:39:53.894Z"
   },
   {
    "duration": 61,
    "start_time": "2024-03-13T19:39:53.905Z"
   },
   {
    "duration": 21,
    "start_time": "2024-03-13T19:39:53.967Z"
   },
   {
    "duration": 8,
    "start_time": "2024-03-13T19:39:53.989Z"
   },
   {
    "duration": 20,
    "start_time": "2024-03-13T19:42:59.041Z"
   },
   {
    "duration": 13,
    "start_time": "2024-03-13T19:43:02.585Z"
   },
   {
    "duration": 14,
    "start_time": "2024-03-13T19:50:19.100Z"
   },
   {
    "duration": 47,
    "start_time": "2024-03-15T17:23:34.112Z"
   },
   {
    "duration": 6,
    "start_time": "2024-03-15T17:28:22.504Z"
   },
   {
    "duration": 796,
    "start_time": "2024-03-15T17:28:38.398Z"
   },
   {
    "duration": 15,
    "start_time": "2024-03-15T17:28:39.196Z"
   },
   {
    "duration": 2606,
    "start_time": "2024-03-15T17:28:39.213Z"
   },
   {
    "duration": 26,
    "start_time": "2024-03-15T17:28:41.822Z"
   },
   {
    "duration": 25,
    "start_time": "2024-03-15T17:28:41.850Z"
   },
   {
    "duration": 47,
    "start_time": "2024-03-15T17:28:41.877Z"
   },
   {
    "duration": 28,
    "start_time": "2024-03-15T17:28:41.925Z"
   },
   {
    "duration": 38,
    "start_time": "2024-03-15T17:28:41.955Z"
   },
   {
    "duration": 79,
    "start_time": "2024-03-15T17:28:41.994Z"
   },
   {
    "duration": 0,
    "start_time": "2024-03-15T17:28:42.076Z"
   },
   {
    "duration": 0,
    "start_time": "2024-03-15T17:28:42.077Z"
   },
   {
    "duration": 0,
    "start_time": "2024-03-15T17:28:42.078Z"
   },
   {
    "duration": 7,
    "start_time": "2024-03-15T17:29:13.410Z"
   },
   {
    "duration": 241,
    "start_time": "2024-03-15T17:31:37.479Z"
   },
   {
    "duration": 16,
    "start_time": "2024-03-15T17:34:06.176Z"
   },
   {
    "duration": 21,
    "start_time": "2024-03-15T17:34:25.458Z"
   },
   {
    "duration": 60,
    "start_time": "2024-03-15T17:44:07.484Z"
   },
   {
    "duration": 44,
    "start_time": "2024-03-15T17:44:17.949Z"
   },
   {
    "duration": 88,
    "start_time": "2024-03-15T17:48:57.886Z"
   },
   {
    "duration": 580,
    "start_time": "2024-03-15T17:49:49.554Z"
   },
   {
    "duration": 16,
    "start_time": "2024-03-15T17:49:50.136Z"
   },
   {
    "duration": 2602,
    "start_time": "2024-03-15T17:49:50.153Z"
   },
   {
    "duration": 36,
    "start_time": "2024-03-15T17:49:52.757Z"
   },
   {
    "duration": 13,
    "start_time": "2024-03-15T17:49:52.795Z"
   },
   {
    "duration": 75,
    "start_time": "2024-03-15T17:49:52.810Z"
   },
   {
    "duration": 31,
    "start_time": "2024-03-15T17:49:52.894Z"
   },
   {
    "duration": 11,
    "start_time": "2024-03-15T17:49:52.926Z"
   },
   {
    "duration": 74,
    "start_time": "2024-03-15T17:49:52.939Z"
   },
   {
    "duration": 0,
    "start_time": "2024-03-15T17:49:53.015Z"
   },
   {
    "duration": 0,
    "start_time": "2024-03-15T17:49:53.018Z"
   },
   {
    "duration": 0,
    "start_time": "2024-03-15T17:49:53.019Z"
   },
   {
    "duration": 0,
    "start_time": "2024-03-15T17:49:53.020Z"
   },
   {
    "duration": 0,
    "start_time": "2024-03-15T17:49:53.021Z"
   },
   {
    "duration": 1,
    "start_time": "2024-03-15T17:49:53.021Z"
   },
   {
    "duration": 120,
    "start_time": "2024-03-15T17:49:56.095Z"
   },
   {
    "duration": 19,
    "start_time": "2024-03-15T17:50:35.810Z"
   },
   {
    "duration": 69,
    "start_time": "2024-03-15T18:07:11.586Z"
   },
   {
    "duration": 12,
    "start_time": "2024-03-15T18:07:25.483Z"
   },
   {
    "duration": 12,
    "start_time": "2024-03-15T18:08:01.012Z"
   },
   {
    "duration": 301,
    "start_time": "2024-03-15T18:08:54.491Z"
   },
   {
    "duration": 302,
    "start_time": "2024-03-15T18:10:20.697Z"
   },
   {
    "duration": 293,
    "start_time": "2024-03-15T18:15:04.901Z"
   },
   {
    "duration": 20,
    "start_time": "2024-03-15T18:17:17.420Z"
   },
   {
    "duration": 1137,
    "start_time": "2024-03-15T18:34:03.864Z"
   },
   {
    "duration": 1061,
    "start_time": "2024-03-15T18:34:12.702Z"
   },
   {
    "duration": 1094,
    "start_time": "2024-03-15T18:34:15.390Z"
   },
   {
    "duration": 621,
    "start_time": "2024-03-15T18:34:26.360Z"
   },
   {
    "duration": 21,
    "start_time": "2024-03-15T18:34:26.982Z"
   },
   {
    "duration": 2226,
    "start_time": "2024-03-15T18:34:27.005Z"
   },
   {
    "duration": 25,
    "start_time": "2024-03-15T18:34:29.233Z"
   },
   {
    "duration": 19,
    "start_time": "2024-03-15T18:34:29.260Z"
   },
   {
    "duration": 48,
    "start_time": "2024-03-15T18:34:29.281Z"
   },
   {
    "duration": 20,
    "start_time": "2024-03-15T18:34:29.331Z"
   },
   {
    "duration": 28,
    "start_time": "2024-03-15T18:34:29.353Z"
   },
   {
    "duration": 71,
    "start_time": "2024-03-15T18:34:29.383Z"
   },
   {
    "duration": 0,
    "start_time": "2024-03-15T18:34:29.456Z"
   },
   {
    "duration": 0,
    "start_time": "2024-03-15T18:34:29.457Z"
   },
   {
    "duration": 0,
    "start_time": "2024-03-15T18:34:29.458Z"
   },
   {
    "duration": 0,
    "start_time": "2024-03-15T18:34:29.460Z"
   },
   {
    "duration": 0,
    "start_time": "2024-03-15T18:34:29.461Z"
   },
   {
    "duration": 0,
    "start_time": "2024-03-15T18:34:29.462Z"
   },
   {
    "duration": 0,
    "start_time": "2024-03-15T18:34:29.463Z"
   },
   {
    "duration": 0,
    "start_time": "2024-03-15T18:34:29.464Z"
   },
   {
    "duration": 0,
    "start_time": "2024-03-15T18:34:29.470Z"
   },
   {
    "duration": 0,
    "start_time": "2024-03-15T18:34:29.470Z"
   },
   {
    "duration": 0,
    "start_time": "2024-03-15T18:34:29.471Z"
   },
   {
    "duration": 1145,
    "start_time": "2024-03-15T18:34:34.378Z"
   },
   {
    "duration": 1142,
    "start_time": "2024-03-15T18:35:07.653Z"
   },
   {
    "duration": 22,
    "start_time": "2024-03-15T18:35:32.605Z"
   },
   {
    "duration": 21,
    "start_time": "2024-03-15T18:35:37.539Z"
   },
   {
    "duration": 530,
    "start_time": "2024-03-15T18:35:44.233Z"
   },
   {
    "duration": 29,
    "start_time": "2024-03-15T18:35:44.764Z"
   },
   {
    "duration": 2379,
    "start_time": "2024-03-15T18:35:44.795Z"
   },
   {
    "duration": 28,
    "start_time": "2024-03-15T18:35:47.180Z"
   },
   {
    "duration": 9,
    "start_time": "2024-03-15T18:35:47.210Z"
   },
   {
    "duration": 63,
    "start_time": "2024-03-15T18:35:47.220Z"
   },
   {
    "duration": 19,
    "start_time": "2024-03-15T18:35:47.285Z"
   },
   {
    "duration": 9,
    "start_time": "2024-03-15T18:35:47.305Z"
   },
   {
    "duration": 76,
    "start_time": "2024-03-15T18:35:47.315Z"
   },
   {
    "duration": 0,
    "start_time": "2024-03-15T18:35:47.393Z"
   },
   {
    "duration": 0,
    "start_time": "2024-03-15T18:35:47.395Z"
   },
   {
    "duration": 0,
    "start_time": "2024-03-15T18:35:47.396Z"
   },
   {
    "duration": 0,
    "start_time": "2024-03-15T18:35:47.398Z"
   },
   {
    "duration": 0,
    "start_time": "2024-03-15T18:35:47.399Z"
   },
   {
    "duration": 0,
    "start_time": "2024-03-15T18:35:47.400Z"
   },
   {
    "duration": 1,
    "start_time": "2024-03-15T18:35:47.401Z"
   },
   {
    "duration": 0,
    "start_time": "2024-03-15T18:35:47.403Z"
   },
   {
    "duration": 0,
    "start_time": "2024-03-15T18:35:47.404Z"
   },
   {
    "duration": 0,
    "start_time": "2024-03-15T18:35:47.405Z"
   },
   {
    "duration": 0,
    "start_time": "2024-03-15T18:35:47.407Z"
   },
   {
    "duration": 35,
    "start_time": "2024-03-15T18:35:48.644Z"
   },
   {
    "duration": 9,
    "start_time": "2024-03-15T18:36:34.780Z"
   },
   {
    "duration": 12,
    "start_time": "2024-03-15T18:54:20.667Z"
   },
   {
    "duration": 79,
    "start_time": "2024-03-16T09:25:20.475Z"
   },
   {
    "duration": 42,
    "start_time": "2024-03-16T09:28:09.869Z"
   },
   {
    "duration": 6,
    "start_time": "2024-03-16T09:28:27.416Z"
   },
   {
    "duration": 698,
    "start_time": "2024-03-16T09:28:33.726Z"
   },
   {
    "duration": 16,
    "start_time": "2024-03-16T09:28:34.426Z"
   },
   {
    "duration": 2351,
    "start_time": "2024-03-16T09:28:34.444Z"
   },
   {
    "duration": 24,
    "start_time": "2024-03-16T09:28:36.797Z"
   },
   {
    "duration": 10,
    "start_time": "2024-03-16T09:28:36.823Z"
   },
   {
    "duration": 53,
    "start_time": "2024-03-16T09:28:36.835Z"
   },
   {
    "duration": 20,
    "start_time": "2024-03-16T09:28:36.890Z"
   },
   {
    "duration": 19,
    "start_time": "2024-03-16T09:28:36.912Z"
   },
   {
    "duration": 87,
    "start_time": "2024-03-16T09:28:36.933Z"
   },
   {
    "duration": 0,
    "start_time": "2024-03-16T09:28:37.022Z"
   },
   {
    "duration": 0,
    "start_time": "2024-03-16T09:28:37.024Z"
   },
   {
    "duration": 0,
    "start_time": "2024-03-16T09:28:37.026Z"
   },
   {
    "duration": 0,
    "start_time": "2024-03-16T09:28:37.027Z"
   },
   {
    "duration": 0,
    "start_time": "2024-03-16T09:28:37.029Z"
   },
   {
    "duration": 0,
    "start_time": "2024-03-16T09:28:37.030Z"
   },
   {
    "duration": 0,
    "start_time": "2024-03-16T09:28:37.032Z"
   },
   {
    "duration": 0,
    "start_time": "2024-03-16T09:28:37.034Z"
   },
   {
    "duration": 0,
    "start_time": "2024-03-16T09:28:37.035Z"
   },
   {
    "duration": 0,
    "start_time": "2024-03-16T09:28:37.036Z"
   },
   {
    "duration": 0,
    "start_time": "2024-03-16T09:28:37.038Z"
   },
   {
    "duration": 0,
    "start_time": "2024-03-16T09:28:37.039Z"
   },
   {
    "duration": 0,
    "start_time": "2024-03-16T09:28:37.065Z"
   },
   {
    "duration": 8,
    "start_time": "2024-03-16T09:28:38.331Z"
   },
   {
    "duration": 8,
    "start_time": "2024-03-16T09:29:16.995Z"
   },
   {
    "duration": 8,
    "start_time": "2024-03-16T09:29:23.554Z"
   },
   {
    "duration": 8,
    "start_time": "2024-03-16T09:29:26.210Z"
   },
   {
    "duration": 7,
    "start_time": "2024-03-16T09:30:11.196Z"
   },
   {
    "duration": 21,
    "start_time": "2024-03-16T09:30:21.728Z"
   },
   {
    "duration": 7,
    "start_time": "2024-03-16T09:32:55.488Z"
   },
   {
    "duration": 7,
    "start_time": "2024-03-16T09:33:09.245Z"
   },
   {
    "duration": 224,
    "start_time": "2024-03-16T09:34:43.553Z"
   },
   {
    "duration": 241,
    "start_time": "2024-03-16T09:39:26.460Z"
   },
   {
    "duration": 318,
    "start_time": "2024-03-16T09:41:10.084Z"
   },
   {
    "duration": 242,
    "start_time": "2024-03-16T09:41:21.817Z"
   },
   {
    "duration": 149,
    "start_time": "2024-03-16T09:41:27.271Z"
   },
   {
    "duration": 339,
    "start_time": "2024-03-16T09:41:53.338Z"
   },
   {
    "duration": 333,
    "start_time": "2024-03-16T09:42:11.281Z"
   },
   {
    "duration": 423,
    "start_time": "2024-03-16T09:42:32.330Z"
   },
   {
    "duration": 225,
    "start_time": "2024-03-16T09:42:43.506Z"
   },
   {
    "duration": 223,
    "start_time": "2024-03-16T09:45:39.842Z"
   },
   {
    "duration": 265,
    "start_time": "2024-03-16T09:46:25.849Z"
   },
   {
    "duration": 8,
    "start_time": "2024-03-16T09:49:01.489Z"
   },
   {
    "duration": 14,
    "start_time": "2024-03-16T09:49:22.072Z"
   },
   {
    "duration": 53,
    "start_time": "2024-03-16T09:49:47.290Z"
   },
   {
    "duration": 228,
    "start_time": "2024-03-16T10:04:29.225Z"
   },
   {
    "duration": 464,
    "start_time": "2024-03-16T10:04:50.266Z"
   },
   {
    "duration": 1348,
    "start_time": "2024-03-16T10:04:57.475Z"
   },
   {
    "duration": 2792,
    "start_time": "2024-03-16T10:05:09.481Z"
   },
   {
    "duration": 159,
    "start_time": "2024-03-16T10:05:19.863Z"
   },
   {
    "duration": 106,
    "start_time": "2024-03-16T10:05:28.528Z"
   },
   {
    "duration": 158,
    "start_time": "2024-03-16T10:05:37.626Z"
   },
   {
    "duration": 152,
    "start_time": "2024-03-16T10:06:08.766Z"
   },
   {
    "duration": 179,
    "start_time": "2024-03-16T10:09:16.325Z"
   },
   {
    "duration": 8,
    "start_time": "2024-03-16T10:34:14.429Z"
   },
   {
    "duration": 162,
    "start_time": "2024-03-16T10:34:32.176Z"
   },
   {
    "duration": 9,
    "start_time": "2024-03-16T11:04:20.488Z"
   },
   {
    "duration": 185,
    "start_time": "2024-03-16T11:48:48.190Z"
   },
   {
    "duration": 202,
    "start_time": "2024-03-16T11:48:59.836Z"
   },
   {
    "duration": 17,
    "start_time": "2024-03-16T11:57:30.399Z"
   },
   {
    "duration": 14,
    "start_time": "2024-03-16T11:57:52.623Z"
   },
   {
    "duration": 15,
    "start_time": "2024-03-16T11:59:36.069Z"
   },
   {
    "duration": 207,
    "start_time": "2024-03-16T12:15:19.273Z"
   },
   {
    "duration": 228,
    "start_time": "2024-03-16T12:15:48.362Z"
   },
   {
    "duration": 190,
    "start_time": "2024-03-16T12:15:57.442Z"
   },
   {
    "duration": 446,
    "start_time": "2024-03-16T12:24:07.747Z"
   },
   {
    "duration": 220,
    "start_time": "2024-03-16T12:24:31.556Z"
   },
   {
    "duration": 745,
    "start_time": "2024-03-16T12:24:39.695Z"
   },
   {
    "duration": 23,
    "start_time": "2024-03-16T12:24:40.442Z"
   },
   {
    "duration": 1868,
    "start_time": "2024-03-16T12:24:40.467Z"
   },
   {
    "duration": 23,
    "start_time": "2024-03-16T12:24:42.337Z"
   },
   {
    "duration": 9,
    "start_time": "2024-03-16T12:24:42.362Z"
   },
   {
    "duration": 49,
    "start_time": "2024-03-16T12:24:42.372Z"
   },
   {
    "duration": 19,
    "start_time": "2024-03-16T12:24:42.423Z"
   },
   {
    "duration": 28,
    "start_time": "2024-03-16T12:24:42.443Z"
   },
   {
    "duration": 77,
    "start_time": "2024-03-16T12:24:42.473Z"
   },
   {
    "duration": 0,
    "start_time": "2024-03-16T12:24:42.565Z"
   },
   {
    "duration": 0,
    "start_time": "2024-03-16T12:24:42.566Z"
   },
   {
    "duration": 0,
    "start_time": "2024-03-16T12:24:42.567Z"
   },
   {
    "duration": 0,
    "start_time": "2024-03-16T12:24:42.568Z"
   },
   {
    "duration": 0,
    "start_time": "2024-03-16T12:24:42.569Z"
   },
   {
    "duration": 1,
    "start_time": "2024-03-16T12:24:42.570Z"
   },
   {
    "duration": 0,
    "start_time": "2024-03-16T12:24:42.572Z"
   },
   {
    "duration": 0,
    "start_time": "2024-03-16T12:24:42.572Z"
   },
   {
    "duration": 0,
    "start_time": "2024-03-16T12:24:42.574Z"
   },
   {
    "duration": 0,
    "start_time": "2024-03-16T12:24:42.574Z"
   },
   {
    "duration": 0,
    "start_time": "2024-03-16T12:24:42.575Z"
   },
   {
    "duration": 0,
    "start_time": "2024-03-16T12:24:42.576Z"
   },
   {
    "duration": 195,
    "start_time": "2024-03-16T12:24:47.971Z"
   },
   {
    "duration": 64,
    "start_time": "2024-03-16T12:25:23.475Z"
   },
   {
    "duration": 201,
    "start_time": "2024-03-16T12:26:59.018Z"
   },
   {
    "duration": 211,
    "start_time": "2024-03-16T12:27:14.391Z"
   },
   {
    "duration": 281,
    "start_time": "2024-03-16T12:28:06.410Z"
   },
   {
    "duration": 233,
    "start_time": "2024-03-16T12:29:31.425Z"
   },
   {
    "duration": 224,
    "start_time": "2024-03-16T12:30:43.703Z"
   },
   {
    "duration": 218,
    "start_time": "2024-03-16T12:35:20.620Z"
   },
   {
    "duration": 14,
    "start_time": "2024-03-16T12:37:24.994Z"
   },
   {
    "duration": 201,
    "start_time": "2024-03-16T12:38:05.054Z"
   },
   {
    "duration": 299,
    "start_time": "2024-03-16T12:38:46.170Z"
   },
   {
    "duration": 217,
    "start_time": "2024-03-16T12:38:55.985Z"
   },
   {
    "duration": 201,
    "start_time": "2024-03-16T12:40:07.336Z"
   },
   {
    "duration": 251,
    "start_time": "2024-03-16T12:40:15.855Z"
   },
   {
    "duration": 227,
    "start_time": "2024-03-16T12:42:14.455Z"
   },
   {
    "duration": 263,
    "start_time": "2024-03-16T12:42:33.551Z"
   },
   {
    "duration": 136,
    "start_time": "2024-03-16T12:42:58.635Z"
   },
   {
    "duration": 259,
    "start_time": "2024-03-16T12:43:50.781Z"
   },
   {
    "duration": 9,
    "start_time": "2024-03-16T12:44:00.909Z"
   },
   {
    "duration": 180,
    "start_time": "2024-03-16T12:44:57.423Z"
   },
   {
    "duration": 253,
    "start_time": "2024-03-16T12:45:06.970Z"
   },
   {
    "duration": 265,
    "start_time": "2024-03-16T12:45:18.225Z"
   },
   {
    "duration": 81,
    "start_time": "2024-03-16T12:55:51.980Z"
   },
   {
    "duration": 9,
    "start_time": "2024-03-16T12:55:58.821Z"
   },
   {
    "duration": 15,
    "start_time": "2024-03-16T13:00:16.182Z"
   },
   {
    "duration": 15,
    "start_time": "2024-03-16T13:01:59.824Z"
   },
   {
    "duration": 11,
    "start_time": "2024-03-16T13:03:55.607Z"
   },
   {
    "duration": 761,
    "start_time": "2024-03-16T13:05:03.651Z"
   },
   {
    "duration": 15,
    "start_time": "2024-03-16T13:05:04.414Z"
   },
   {
    "duration": 1929,
    "start_time": "2024-03-16T13:05:04.430Z"
   },
   {
    "duration": 24,
    "start_time": "2024-03-16T13:05:06.360Z"
   },
   {
    "duration": 8,
    "start_time": "2024-03-16T13:05:06.386Z"
   },
   {
    "duration": 55,
    "start_time": "2024-03-16T13:05:06.395Z"
   },
   {
    "duration": 23,
    "start_time": "2024-03-16T13:05:06.466Z"
   },
   {
    "duration": 10,
    "start_time": "2024-03-16T13:05:06.490Z"
   },
   {
    "duration": 104,
    "start_time": "2024-03-16T13:05:06.501Z"
   },
   {
    "duration": 0,
    "start_time": "2024-03-16T13:05:06.607Z"
   },
   {
    "duration": 0,
    "start_time": "2024-03-16T13:05:06.608Z"
   },
   {
    "duration": 0,
    "start_time": "2024-03-16T13:05:06.609Z"
   },
   {
    "duration": 0,
    "start_time": "2024-03-16T13:05:06.610Z"
   },
   {
    "duration": 0,
    "start_time": "2024-03-16T13:05:06.611Z"
   },
   {
    "duration": 0,
    "start_time": "2024-03-16T13:05:06.612Z"
   },
   {
    "duration": 0,
    "start_time": "2024-03-16T13:05:06.614Z"
   },
   {
    "duration": 0,
    "start_time": "2024-03-16T13:05:06.615Z"
   },
   {
    "duration": 0,
    "start_time": "2024-03-16T13:05:06.616Z"
   },
   {
    "duration": 0,
    "start_time": "2024-03-16T13:05:06.617Z"
   },
   {
    "duration": 0,
    "start_time": "2024-03-16T13:05:06.617Z"
   },
   {
    "duration": 0,
    "start_time": "2024-03-16T13:05:06.618Z"
   },
   {
    "duration": 0,
    "start_time": "2024-03-16T13:05:06.619Z"
   },
   {
    "duration": 8,
    "start_time": "2024-03-16T13:05:08.293Z"
   },
   {
    "duration": 241,
    "start_time": "2024-03-16T13:08:12.970Z"
   },
   {
    "duration": 242,
    "start_time": "2024-03-16T13:08:41.875Z"
   },
   {
    "duration": 256,
    "start_time": "2024-03-16T13:08:54.586Z"
   },
   {
    "duration": 317,
    "start_time": "2024-03-16T13:09:27.076Z"
   },
   {
    "duration": 248,
    "start_time": "2024-03-16T13:09:42.433Z"
   },
   {
    "duration": 241,
    "start_time": "2024-03-16T13:09:49.752Z"
   },
   {
    "duration": 375,
    "start_time": "2024-03-16T13:14:41.090Z"
   },
   {
    "duration": 245,
    "start_time": "2024-03-16T13:14:56.492Z"
   },
   {
    "duration": 360,
    "start_time": "2024-03-16T13:19:08.110Z"
   },
   {
    "duration": 12,
    "start_time": "2024-03-16T14:19:59.096Z"
   },
   {
    "duration": 222,
    "start_time": "2024-03-16T14:28:44.187Z"
   },
   {
    "duration": 237,
    "start_time": "2024-03-16T14:29:13.491Z"
   },
   {
    "duration": 263,
    "start_time": "2024-03-16T14:29:25.268Z"
   },
   {
    "duration": 266,
    "start_time": "2024-03-16T14:29:34.812Z"
   },
   {
    "duration": 377,
    "start_time": "2024-03-16T14:29:58.947Z"
   },
   {
    "duration": 265,
    "start_time": "2024-03-16T14:30:11.019Z"
   },
   {
    "duration": 9,
    "start_time": "2024-03-16T14:36:55.655Z"
   },
   {
    "duration": 298,
    "start_time": "2024-03-16T14:40:04.617Z"
   },
   {
    "duration": 244,
    "start_time": "2024-03-16T14:40:23.967Z"
   },
   {
    "duration": 9,
    "start_time": "2024-03-16T14:57:34.259Z"
   },
   {
    "duration": 258,
    "start_time": "2024-03-16T15:03:25.171Z"
   },
   {
    "duration": 11,
    "start_time": "2024-03-16T15:42:18.951Z"
   },
   {
    "duration": 269,
    "start_time": "2024-03-16T15:43:31.898Z"
   },
   {
    "duration": 265,
    "start_time": "2024-03-16T15:43:58.485Z"
   },
   {
    "duration": 397,
    "start_time": "2024-03-16T15:44:20.137Z"
   },
   {
    "duration": 209,
    "start_time": "2024-03-16T15:44:54.132Z"
   },
   {
    "duration": 185,
    "start_time": "2024-03-16T15:45:29.880Z"
   },
   {
    "duration": 191,
    "start_time": "2024-03-16T15:46:11.399Z"
   },
   {
    "duration": 184,
    "start_time": "2024-03-16T15:46:37.271Z"
   },
   {
    "duration": 5,
    "start_time": "2024-03-16T15:48:29.902Z"
   },
   {
    "duration": 7,
    "start_time": "2024-03-16T15:48:45.853Z"
   },
   {
    "duration": 6,
    "start_time": "2024-03-16T15:56:39.735Z"
   },
   {
    "duration": 5,
    "start_time": "2024-03-16T15:58:08.511Z"
   },
   {
    "duration": 9,
    "start_time": "2024-03-16T15:59:32.349Z"
   },
   {
    "duration": 9,
    "start_time": "2024-03-16T16:00:07.335Z"
   },
   {
    "duration": 1909,
    "start_time": "2024-03-16T16:00:27.413Z"
   },
   {
    "duration": 53,
    "start_time": "2024-03-16T16:05:40.993Z"
   },
   {
    "duration": 177,
    "start_time": "2024-03-16T16:05:50.257Z"
   },
   {
    "duration": 167,
    "start_time": "2024-03-16T16:06:08.019Z"
   },
   {
    "duration": 141,
    "start_time": "2024-03-16T16:10:41.932Z"
   },
   {
    "duration": 178,
    "start_time": "2024-03-16T16:10:50.512Z"
   },
   {
    "duration": 190,
    "start_time": "2024-03-16T16:13:45.451Z"
   },
   {
    "duration": 1062,
    "start_time": "2024-03-16T16:28:51.420Z"
   },
   {
    "duration": 1060,
    "start_time": "2024-03-16T16:29:04.655Z"
   },
   {
    "duration": 24,
    "start_time": "2024-03-16T16:29:53.574Z"
   },
   {
    "duration": 260,
    "start_time": "2024-03-16T16:30:54.205Z"
   },
   {
    "duration": 21,
    "start_time": "2024-03-16T16:30:56.885Z"
   },
   {
    "duration": 21,
    "start_time": "2024-03-16T16:31:28.857Z"
   },
   {
    "duration": 10,
    "start_time": "2024-03-16T16:31:36.581Z"
   },
   {
    "duration": 9,
    "start_time": "2024-03-16T16:31:47.813Z"
   },
   {
    "duration": 791,
    "start_time": "2024-03-16T16:31:57.843Z"
   },
   {
    "duration": 35,
    "start_time": "2024-03-16T16:31:58.637Z"
   },
   {
    "duration": 1957,
    "start_time": "2024-03-16T16:31:58.674Z"
   },
   {
    "duration": 27,
    "start_time": "2024-03-16T16:32:00.632Z"
   },
   {
    "duration": 42,
    "start_time": "2024-03-16T16:32:00.665Z"
   },
   {
    "duration": 115,
    "start_time": "2024-03-16T16:32:00.708Z"
   },
   {
    "duration": 97,
    "start_time": "2024-03-16T16:32:00.825Z"
   },
   {
    "duration": 95,
    "start_time": "2024-03-16T16:32:00.923Z"
   },
   {
    "duration": 132,
    "start_time": "2024-03-16T16:32:01.020Z"
   },
   {
    "duration": 0,
    "start_time": "2024-03-16T16:32:01.154Z"
   },
   {
    "duration": 0,
    "start_time": "2024-03-16T16:32:01.156Z"
   },
   {
    "duration": 0,
    "start_time": "2024-03-16T16:32:01.157Z"
   },
   {
    "duration": 0,
    "start_time": "2024-03-16T16:32:01.158Z"
   },
   {
    "duration": 0,
    "start_time": "2024-03-16T16:32:01.159Z"
   },
   {
    "duration": 0,
    "start_time": "2024-03-16T16:32:01.160Z"
   },
   {
    "duration": 0,
    "start_time": "2024-03-16T16:32:01.165Z"
   },
   {
    "duration": 0,
    "start_time": "2024-03-16T16:32:01.166Z"
   },
   {
    "duration": 0,
    "start_time": "2024-03-16T16:32:01.168Z"
   },
   {
    "duration": 0,
    "start_time": "2024-03-16T16:32:01.169Z"
   },
   {
    "duration": 0,
    "start_time": "2024-03-16T16:32:01.171Z"
   },
   {
    "duration": 0,
    "start_time": "2024-03-16T16:32:01.172Z"
   },
   {
    "duration": 0,
    "start_time": "2024-03-16T16:32:01.173Z"
   },
   {
    "duration": 0,
    "start_time": "2024-03-16T16:32:01.175Z"
   },
   {
    "duration": 0,
    "start_time": "2024-03-16T16:32:01.176Z"
   },
   {
    "duration": 0,
    "start_time": "2024-03-16T16:32:01.177Z"
   },
   {
    "duration": 0,
    "start_time": "2024-03-16T16:32:01.179Z"
   },
   {
    "duration": 0,
    "start_time": "2024-03-16T16:32:01.180Z"
   },
   {
    "duration": 0,
    "start_time": "2024-03-16T16:32:01.182Z"
   },
   {
    "duration": 0,
    "start_time": "2024-03-16T16:32:01.183Z"
   },
   {
    "duration": 1,
    "start_time": "2024-03-16T16:32:01.184Z"
   },
   {
    "duration": 0,
    "start_time": "2024-03-16T16:32:01.186Z"
   },
   {
    "duration": 0,
    "start_time": "2024-03-16T16:32:01.187Z"
   },
   {
    "duration": 0,
    "start_time": "2024-03-16T16:32:01.189Z"
   },
   {
    "duration": 0,
    "start_time": "2024-03-16T16:32:01.190Z"
   },
   {
    "duration": 11,
    "start_time": "2024-03-16T16:32:03.492Z"
   },
   {
    "duration": 1178,
    "start_time": "2024-03-16T16:32:18.732Z"
   },
   {
    "duration": 1153,
    "start_time": "2024-03-16T16:32:29.135Z"
   },
   {
    "duration": 1076,
    "start_time": "2024-03-16T16:32:42.828Z"
   },
   {
    "duration": 761,
    "start_time": "2024-03-16T16:32:56.437Z"
   },
   {
    "duration": 14,
    "start_time": "2024-03-16T16:32:57.202Z"
   },
   {
    "duration": 1905,
    "start_time": "2024-03-16T16:32:57.218Z"
   },
   {
    "duration": 27,
    "start_time": "2024-03-16T16:32:59.126Z"
   },
   {
    "duration": 11,
    "start_time": "2024-03-16T16:32:59.155Z"
   },
   {
    "duration": 43,
    "start_time": "2024-03-16T16:32:59.168Z"
   },
   {
    "duration": 20,
    "start_time": "2024-03-16T16:32:59.213Z"
   },
   {
    "duration": 34,
    "start_time": "2024-03-16T16:32:59.235Z"
   },
   {
    "duration": 97,
    "start_time": "2024-03-16T16:32:59.273Z"
   },
   {
    "duration": 0,
    "start_time": "2024-03-16T16:32:59.372Z"
   },
   {
    "duration": 0,
    "start_time": "2024-03-16T16:32:59.373Z"
   },
   {
    "duration": 0,
    "start_time": "2024-03-16T16:32:59.374Z"
   },
   {
    "duration": 0,
    "start_time": "2024-03-16T16:32:59.375Z"
   },
   {
    "duration": 0,
    "start_time": "2024-03-16T16:32:59.376Z"
   },
   {
    "duration": 0,
    "start_time": "2024-03-16T16:32:59.378Z"
   },
   {
    "duration": 0,
    "start_time": "2024-03-16T16:32:59.379Z"
   },
   {
    "duration": 0,
    "start_time": "2024-03-16T16:32:59.380Z"
   },
   {
    "duration": 0,
    "start_time": "2024-03-16T16:32:59.381Z"
   },
   {
    "duration": 0,
    "start_time": "2024-03-16T16:32:59.381Z"
   },
   {
    "duration": 0,
    "start_time": "2024-03-16T16:32:59.382Z"
   },
   {
    "duration": 0,
    "start_time": "2024-03-16T16:32:59.383Z"
   },
   {
    "duration": 0,
    "start_time": "2024-03-16T16:32:59.383Z"
   },
   {
    "duration": 0,
    "start_time": "2024-03-16T16:32:59.385Z"
   },
   {
    "duration": 0,
    "start_time": "2024-03-16T16:32:59.385Z"
   },
   {
    "duration": 0,
    "start_time": "2024-03-16T16:32:59.386Z"
   },
   {
    "duration": 0,
    "start_time": "2024-03-16T16:32:59.387Z"
   },
   {
    "duration": 0,
    "start_time": "2024-03-16T16:32:59.388Z"
   },
   {
    "duration": 0,
    "start_time": "2024-03-16T16:32:59.389Z"
   },
   {
    "duration": 0,
    "start_time": "2024-03-16T16:32:59.390Z"
   },
   {
    "duration": 0,
    "start_time": "2024-03-16T16:32:59.390Z"
   },
   {
    "duration": 0,
    "start_time": "2024-03-16T16:32:59.391Z"
   },
   {
    "duration": 0,
    "start_time": "2024-03-16T16:32:59.392Z"
   },
   {
    "duration": 0,
    "start_time": "2024-03-16T16:32:59.393Z"
   },
   {
    "duration": 0,
    "start_time": "2024-03-16T16:32:59.394Z"
   },
   {
    "duration": 1084,
    "start_time": "2024-03-16T16:33:02.796Z"
   },
   {
    "duration": 20,
    "start_time": "2024-03-16T16:33:13.949Z"
   },
   {
    "duration": 24,
    "start_time": "2024-03-16T16:34:11.741Z"
   },
   {
    "duration": 1088,
    "start_time": "2024-03-16T16:40:47.674Z"
   },
   {
    "duration": 3,
    "start_time": "2024-03-16T16:44:36.717Z"
   },
   {
    "duration": 7,
    "start_time": "2024-03-16T16:46:35.743Z"
   },
   {
    "duration": 15,
    "start_time": "2024-03-16T16:46:49.370Z"
   },
   {
    "duration": 11,
    "start_time": "2024-03-16T16:47:04.883Z"
   },
   {
    "duration": 24,
    "start_time": "2024-03-16T16:47:51.873Z"
   },
   {
    "duration": 268,
    "start_time": "2024-03-16T16:48:01.931Z"
   },
   {
    "duration": 276,
    "start_time": "2024-03-16T16:48:04.324Z"
   },
   {
    "duration": 25,
    "start_time": "2024-03-16T16:48:04.602Z"
   },
   {
    "duration": 21,
    "start_time": "2024-03-16T16:48:30.789Z"
   },
   {
    "duration": 24,
    "start_time": "2024-03-16T16:48:46.635Z"
   },
   {
    "duration": 249,
    "start_time": "2024-03-16T16:49:43.232Z"
   },
   {
    "duration": 23,
    "start_time": "2024-03-16T16:49:45.612Z"
   },
   {
    "duration": 22,
    "start_time": "2024-03-16T16:51:06.996Z"
   },
   {
    "duration": 21,
    "start_time": "2024-03-16T16:51:21.015Z"
   },
   {
    "duration": 13,
    "start_time": "2024-03-16T16:51:35.431Z"
   },
   {
    "duration": 287,
    "start_time": "2024-03-16T16:57:13.349Z"
   },
   {
    "duration": 125,
    "start_time": "2024-03-16T16:58:45.542Z"
   },
   {
    "duration": 14,
    "start_time": "2024-03-16T16:59:26.034Z"
   },
   {
    "duration": 118,
    "start_time": "2024-03-16T16:59:35.089Z"
   },
   {
    "duration": 125,
    "start_time": "2024-03-16T16:59:58.446Z"
   },
   {
    "duration": 133,
    "start_time": "2024-03-16T17:00:48.120Z"
   },
   {
    "duration": 67,
    "start_time": "2024-03-16T17:02:24.008Z"
   },
   {
    "duration": 20,
    "start_time": "2024-03-16T17:02:44.520Z"
   },
   {
    "duration": 221,
    "start_time": "2024-03-16T17:03:34.247Z"
   },
   {
    "duration": 144,
    "start_time": "2024-03-16T17:03:58.862Z"
   },
   {
    "duration": 9,
    "start_time": "2024-03-16T17:09:43.702Z"
   },
   {
    "duration": 1110,
    "start_time": "2024-03-16T17:09:56.642Z"
   },
   {
    "duration": 12,
    "start_time": "2024-03-16T17:10:24.131Z"
   },
   {
    "duration": 257,
    "start_time": "2024-03-16T17:13:21.721Z"
   },
   {
    "duration": 50,
    "start_time": "2024-03-17T09:12:39.793Z"
   },
   {
    "duration": 1173,
    "start_time": "2024-03-17T09:12:49.246Z"
   },
   {
    "duration": 17,
    "start_time": "2024-03-17T09:12:50.421Z"
   },
   {
    "duration": 2004,
    "start_time": "2024-03-17T09:12:50.440Z"
   },
   {
    "duration": 25,
    "start_time": "2024-03-17T09:12:52.445Z"
   },
   {
    "duration": 9,
    "start_time": "2024-03-17T09:12:52.472Z"
   },
   {
    "duration": 41,
    "start_time": "2024-03-17T09:12:52.483Z"
   },
   {
    "duration": 38,
    "start_time": "2024-03-17T09:12:52.526Z"
   },
   {
    "duration": 8,
    "start_time": "2024-03-17T09:12:52.566Z"
   },
   {
    "duration": 92,
    "start_time": "2024-03-17T09:12:52.575Z"
   },
   {
    "duration": 0,
    "start_time": "2024-03-17T09:12:52.670Z"
   },
   {
    "duration": 0,
    "start_time": "2024-03-17T09:12:52.671Z"
   },
   {
    "duration": 0,
    "start_time": "2024-03-17T09:12:52.672Z"
   },
   {
    "duration": 0,
    "start_time": "2024-03-17T09:12:52.673Z"
   },
   {
    "duration": 0,
    "start_time": "2024-03-17T09:12:52.675Z"
   },
   {
    "duration": 0,
    "start_time": "2024-03-17T09:12:52.676Z"
   },
   {
    "duration": 0,
    "start_time": "2024-03-17T09:12:52.677Z"
   },
   {
    "duration": 0,
    "start_time": "2024-03-17T09:12:52.678Z"
   },
   {
    "duration": 0,
    "start_time": "2024-03-17T09:12:52.679Z"
   },
   {
    "duration": 0,
    "start_time": "2024-03-17T09:12:52.680Z"
   },
   {
    "duration": 0,
    "start_time": "2024-03-17T09:12:52.681Z"
   },
   {
    "duration": 0,
    "start_time": "2024-03-17T09:12:52.682Z"
   },
   {
    "duration": 0,
    "start_time": "2024-03-17T09:12:52.683Z"
   },
   {
    "duration": 0,
    "start_time": "2024-03-17T09:12:52.684Z"
   },
   {
    "duration": 0,
    "start_time": "2024-03-17T09:12:52.685Z"
   },
   {
    "duration": 0,
    "start_time": "2024-03-17T09:12:52.686Z"
   },
   {
    "duration": 0,
    "start_time": "2024-03-17T09:12:52.687Z"
   },
   {
    "duration": 0,
    "start_time": "2024-03-17T09:12:52.688Z"
   },
   {
    "duration": 0,
    "start_time": "2024-03-17T09:12:52.689Z"
   },
   {
    "duration": 0,
    "start_time": "2024-03-17T09:12:52.690Z"
   },
   {
    "duration": 0,
    "start_time": "2024-03-17T09:12:52.691Z"
   },
   {
    "duration": 0,
    "start_time": "2024-03-17T09:12:52.692Z"
   },
   {
    "duration": 0,
    "start_time": "2024-03-17T09:12:52.693Z"
   },
   {
    "duration": 0,
    "start_time": "2024-03-17T09:12:52.694Z"
   },
   {
    "duration": 0,
    "start_time": "2024-03-17T09:12:52.695Z"
   },
   {
    "duration": 0,
    "start_time": "2024-03-17T09:12:52.696Z"
   },
   {
    "duration": 0,
    "start_time": "2024-03-17T09:12:52.697Z"
   },
   {
    "duration": 199,
    "start_time": "2024-03-17T09:13:04.528Z"
   },
   {
    "duration": 244,
    "start_time": "2024-03-17T09:13:50.168Z"
   },
   {
    "duration": 69,
    "start_time": "2024-03-17T09:17:08.524Z"
   },
   {
    "duration": 10,
    "start_time": "2024-03-17T09:17:16.886Z"
   },
   {
    "duration": 230,
    "start_time": "2024-03-17T09:18:39.516Z"
   },
   {
    "duration": 336,
    "start_time": "2024-03-17T09:18:51.924Z"
   },
   {
    "duration": 65,
    "start_time": "2024-03-17T09:21:42.460Z"
   },
   {
    "duration": 23,
    "start_time": "2024-03-17T09:22:14.660Z"
   },
   {
    "duration": 13,
    "start_time": "2024-03-17T09:22:27.529Z"
   },
   {
    "duration": 244,
    "start_time": "2024-03-17T09:26:01.210Z"
   },
   {
    "duration": 252,
    "start_time": "2024-03-17T09:26:31.508Z"
   },
   {
    "duration": 256,
    "start_time": "2024-03-17T09:27:48.708Z"
   },
   {
    "duration": 14,
    "start_time": "2024-03-17T09:27:53.508Z"
   },
   {
    "duration": 9,
    "start_time": "2024-03-17T09:31:57.464Z"
   },
   {
    "duration": 258,
    "start_time": "2024-03-17T09:35:13.770Z"
   },
   {
    "duration": 24,
    "start_time": "2024-03-17T10:13:02.761Z"
   },
   {
    "duration": 385,
    "start_time": "2024-03-17T10:14:01.830Z"
   },
   {
    "duration": 232,
    "start_time": "2024-03-17T11:30:47.796Z"
   },
   {
    "duration": 377,
    "start_time": "2024-03-17T11:30:58.501Z"
   },
   {
    "duration": 602,
    "start_time": "2024-03-17T11:31:03.234Z"
   },
   {
    "duration": 5,
    "start_time": "2024-03-17T11:31:56.022Z"
   },
   {
    "duration": 4,
    "start_time": "2024-03-17T11:32:51.143Z"
   },
   {
    "duration": 9,
    "start_time": "2024-03-17T11:36:30.956Z"
   },
   {
    "duration": 95,
    "start_time": "2024-03-17T11:37:56.068Z"
   },
   {
    "duration": 452,
    "start_time": "2024-03-17T11:38:05.401Z"
   },
   {
    "duration": 232,
    "start_time": "2024-03-17T11:38:11.434Z"
   },
   {
    "duration": 5,
    "start_time": "2024-03-17T11:46:51.213Z"
   },
   {
    "duration": 5,
    "start_time": "2024-03-17T11:46:56.439Z"
   },
   {
    "duration": 5,
    "start_time": "2024-03-17T11:46:58.381Z"
   },
   {
    "duration": 5,
    "start_time": "2024-03-17T11:47:13.228Z"
   },
   {
    "duration": 22,
    "start_time": "2024-03-17T12:29:29.990Z"
   },
   {
    "duration": 1054,
    "start_time": "2024-03-17T12:34:22.567Z"
   },
   {
    "duration": 9,
    "start_time": "2024-03-17T12:36:37.089Z"
   },
   {
    "duration": 12,
    "start_time": "2024-03-17T12:38:35.741Z"
   },
   {
    "duration": 9,
    "start_time": "2024-03-17T12:39:04.696Z"
   },
   {
    "duration": 22,
    "start_time": "2024-03-17T12:40:53.461Z"
   },
   {
    "duration": 16,
    "start_time": "2024-03-17T12:43:54.739Z"
   },
   {
    "duration": 8,
    "start_time": "2024-03-17T12:44:26.630Z"
   },
   {
    "duration": 12,
    "start_time": "2024-03-17T12:44:31.183Z"
   },
   {
    "duration": 6,
    "start_time": "2024-03-17T12:45:02.361Z"
   },
   {
    "duration": 155,
    "start_time": "2024-03-17T12:45:20.798Z"
   },
   {
    "duration": 24,
    "start_time": "2024-03-17T12:45:35.390Z"
   },
   {
    "duration": 15,
    "start_time": "2024-03-17T12:46:28.646Z"
   },
   {
    "duration": 323,
    "start_time": "2024-03-17T12:46:53.799Z"
   },
   {
    "duration": 23,
    "start_time": "2024-03-17T12:46:58.973Z"
   },
   {
    "duration": 27,
    "start_time": "2024-03-17T12:47:19.488Z"
   },
   {
    "duration": 6,
    "start_time": "2024-03-17T12:48:42.575Z"
   },
   {
    "duration": 5,
    "start_time": "2024-03-17T12:48:46.788Z"
   },
   {
    "duration": 9,
    "start_time": "2024-03-17T12:49:02.593Z"
   },
   {
    "duration": 10,
    "start_time": "2024-03-17T12:53:36.504Z"
   },
   {
    "duration": 9,
    "start_time": "2024-03-17T12:54:18.472Z"
   },
   {
    "duration": 763,
    "start_time": "2024-03-17T12:54:24.295Z"
   },
   {
    "duration": 15,
    "start_time": "2024-03-17T12:54:25.060Z"
   },
   {
    "duration": 1967,
    "start_time": "2024-03-17T12:54:25.077Z"
   },
   {
    "duration": 31,
    "start_time": "2024-03-17T12:54:27.046Z"
   },
   {
    "duration": 12,
    "start_time": "2024-03-17T12:54:27.079Z"
   },
   {
    "duration": 64,
    "start_time": "2024-03-17T12:54:27.093Z"
   },
   {
    "duration": 18,
    "start_time": "2024-03-17T12:54:27.159Z"
   },
   {
    "duration": 15,
    "start_time": "2024-03-17T12:54:27.178Z"
   },
   {
    "duration": 20,
    "start_time": "2024-03-17T12:54:27.195Z"
   },
   {
    "duration": 98,
    "start_time": "2024-03-17T12:54:27.218Z"
   },
   {
    "duration": 0,
    "start_time": "2024-03-17T12:54:27.318Z"
   },
   {
    "duration": 0,
    "start_time": "2024-03-17T12:54:27.319Z"
   },
   {
    "duration": 0,
    "start_time": "2024-03-17T12:54:27.320Z"
   },
   {
    "duration": 0,
    "start_time": "2024-03-17T12:54:27.321Z"
   },
   {
    "duration": 1,
    "start_time": "2024-03-17T12:54:27.322Z"
   },
   {
    "duration": 0,
    "start_time": "2024-03-17T12:54:27.324Z"
   },
   {
    "duration": 0,
    "start_time": "2024-03-17T12:54:27.325Z"
   },
   {
    "duration": 0,
    "start_time": "2024-03-17T12:54:27.326Z"
   },
   {
    "duration": 0,
    "start_time": "2024-03-17T12:54:27.327Z"
   },
   {
    "duration": 0,
    "start_time": "2024-03-17T12:54:27.328Z"
   },
   {
    "duration": 0,
    "start_time": "2024-03-17T12:54:27.329Z"
   },
   {
    "duration": 0,
    "start_time": "2024-03-17T12:54:27.330Z"
   },
   {
    "duration": 0,
    "start_time": "2024-03-17T12:54:27.358Z"
   },
   {
    "duration": 0,
    "start_time": "2024-03-17T12:54:27.359Z"
   },
   {
    "duration": 0,
    "start_time": "2024-03-17T12:54:27.361Z"
   },
   {
    "duration": 0,
    "start_time": "2024-03-17T12:54:27.362Z"
   },
   {
    "duration": 0,
    "start_time": "2024-03-17T12:54:27.363Z"
   },
   {
    "duration": 0,
    "start_time": "2024-03-17T12:54:27.365Z"
   },
   {
    "duration": 0,
    "start_time": "2024-03-17T12:54:27.366Z"
   },
   {
    "duration": 0,
    "start_time": "2024-03-17T12:54:27.367Z"
   },
   {
    "duration": 0,
    "start_time": "2024-03-17T12:54:27.367Z"
   },
   {
    "duration": 0,
    "start_time": "2024-03-17T12:54:27.368Z"
   },
   {
    "duration": 0,
    "start_time": "2024-03-17T12:54:27.369Z"
   },
   {
    "duration": 0,
    "start_time": "2024-03-17T12:54:27.370Z"
   },
   {
    "duration": 0,
    "start_time": "2024-03-17T12:54:27.372Z"
   },
   {
    "duration": 0,
    "start_time": "2024-03-17T12:54:27.373Z"
   },
   {
    "duration": 0,
    "start_time": "2024-03-17T12:54:27.374Z"
   },
   {
    "duration": 0,
    "start_time": "2024-03-17T12:54:27.375Z"
   },
   {
    "duration": 0,
    "start_time": "2024-03-17T12:54:27.376Z"
   },
   {
    "duration": 0,
    "start_time": "2024-03-17T12:54:27.377Z"
   },
   {
    "duration": 1,
    "start_time": "2024-03-17T12:54:27.377Z"
   },
   {
    "duration": 0,
    "start_time": "2024-03-17T12:54:27.379Z"
   },
   {
    "duration": 0,
    "start_time": "2024-03-17T12:54:27.380Z"
   },
   {
    "duration": 0,
    "start_time": "2024-03-17T12:54:27.381Z"
   },
   {
    "duration": 0,
    "start_time": "2024-03-17T12:54:27.382Z"
   },
   {
    "duration": 0,
    "start_time": "2024-03-17T12:54:27.383Z"
   },
   {
    "duration": 0,
    "start_time": "2024-03-17T12:54:27.384Z"
   },
   {
    "duration": 10,
    "start_time": "2024-03-17T12:54:36.247Z"
   },
   {
    "duration": 9,
    "start_time": "2024-03-17T12:58:45.902Z"
   },
   {
    "duration": 10,
    "start_time": "2024-03-17T12:58:53.751Z"
   },
   {
    "duration": 4,
    "start_time": "2024-03-17T13:00:25.168Z"
   },
   {
    "duration": 18,
    "start_time": "2024-03-17T13:00:38.557Z"
   },
   {
    "duration": 18,
    "start_time": "2024-03-17T13:00:46.128Z"
   },
   {
    "duration": 20,
    "start_time": "2024-03-17T13:09:04.718Z"
   },
   {
    "duration": 11,
    "start_time": "2024-03-17T13:14:01.573Z"
   },
   {
    "duration": 26,
    "start_time": "2024-03-17T13:14:13.967Z"
   },
   {
    "duration": 16,
    "start_time": "2024-03-17T13:14:49.529Z"
   },
   {
    "duration": 19,
    "start_time": "2024-03-17T13:15:21.981Z"
   },
   {
    "duration": 27,
    "start_time": "2024-03-17T13:20:41.154Z"
   },
   {
    "duration": 827,
    "start_time": "2024-03-17T13:21:24.845Z"
   },
   {
    "duration": 15,
    "start_time": "2024-03-17T13:21:25.674Z"
   },
   {
    "duration": 2122,
    "start_time": "2024-03-17T13:21:25.690Z"
   },
   {
    "duration": 25,
    "start_time": "2024-03-17T13:21:27.814Z"
   },
   {
    "duration": 10,
    "start_time": "2024-03-17T13:21:27.840Z"
   },
   {
    "duration": 50,
    "start_time": "2024-03-17T13:21:27.851Z"
   },
   {
    "duration": 19,
    "start_time": "2024-03-17T13:21:27.903Z"
   },
   {
    "duration": 8,
    "start_time": "2024-03-17T13:21:27.924Z"
   },
   {
    "duration": 40,
    "start_time": "2024-03-17T13:21:27.933Z"
   },
   {
    "duration": 90,
    "start_time": "2024-03-17T13:21:27.976Z"
   },
   {
    "duration": 0,
    "start_time": "2024-03-17T13:21:28.069Z"
   },
   {
    "duration": 0,
    "start_time": "2024-03-17T13:21:28.070Z"
   },
   {
    "duration": 0,
    "start_time": "2024-03-17T13:21:28.071Z"
   },
   {
    "duration": 0,
    "start_time": "2024-03-17T13:21:28.072Z"
   },
   {
    "duration": 0,
    "start_time": "2024-03-17T13:21:28.074Z"
   },
   {
    "duration": 0,
    "start_time": "2024-03-17T13:21:28.075Z"
   },
   {
    "duration": 0,
    "start_time": "2024-03-17T13:21:28.076Z"
   },
   {
    "duration": 0,
    "start_time": "2024-03-17T13:21:28.077Z"
   },
   {
    "duration": 0,
    "start_time": "2024-03-17T13:21:28.078Z"
   },
   {
    "duration": 0,
    "start_time": "2024-03-17T13:21:28.079Z"
   },
   {
    "duration": 0,
    "start_time": "2024-03-17T13:21:28.080Z"
   },
   {
    "duration": 0,
    "start_time": "2024-03-17T13:21:28.081Z"
   },
   {
    "duration": 0,
    "start_time": "2024-03-17T13:21:28.082Z"
   },
   {
    "duration": 0,
    "start_time": "2024-03-17T13:21:28.083Z"
   },
   {
    "duration": 0,
    "start_time": "2024-03-17T13:21:28.084Z"
   },
   {
    "duration": 0,
    "start_time": "2024-03-17T13:21:28.085Z"
   },
   {
    "duration": 0,
    "start_time": "2024-03-17T13:21:28.086Z"
   },
   {
    "duration": 0,
    "start_time": "2024-03-17T13:21:28.087Z"
   },
   {
    "duration": 0,
    "start_time": "2024-03-17T13:21:28.088Z"
   },
   {
    "duration": 0,
    "start_time": "2024-03-17T13:21:28.089Z"
   },
   {
    "duration": 0,
    "start_time": "2024-03-17T13:21:28.090Z"
   },
   {
    "duration": 0,
    "start_time": "2024-03-17T13:21:28.091Z"
   },
   {
    "duration": 0,
    "start_time": "2024-03-17T13:21:28.092Z"
   },
   {
    "duration": 0,
    "start_time": "2024-03-17T13:21:28.093Z"
   },
   {
    "duration": 0,
    "start_time": "2024-03-17T13:21:28.094Z"
   },
   {
    "duration": 0,
    "start_time": "2024-03-17T13:21:28.095Z"
   },
   {
    "duration": 0,
    "start_time": "2024-03-17T13:21:28.096Z"
   },
   {
    "duration": 0,
    "start_time": "2024-03-17T13:21:28.096Z"
   },
   {
    "duration": 0,
    "start_time": "2024-03-17T13:21:28.097Z"
   },
   {
    "duration": 0,
    "start_time": "2024-03-17T13:21:28.098Z"
   },
   {
    "duration": 0,
    "start_time": "2024-03-17T13:21:28.099Z"
   },
   {
    "duration": 0,
    "start_time": "2024-03-17T13:21:28.101Z"
   },
   {
    "duration": 0,
    "start_time": "2024-03-17T13:21:28.102Z"
   },
   {
    "duration": 0,
    "start_time": "2024-03-17T13:21:28.161Z"
   },
   {
    "duration": 0,
    "start_time": "2024-03-17T13:21:28.162Z"
   },
   {
    "duration": 0,
    "start_time": "2024-03-17T13:21:28.163Z"
   },
   {
    "duration": 0,
    "start_time": "2024-03-17T13:21:28.164Z"
   },
   {
    "duration": 67,
    "start_time": "2024-03-17T13:23:09.861Z"
   },
   {
    "duration": 71,
    "start_time": "2024-03-17T13:23:20.921Z"
   },
   {
    "duration": 68,
    "start_time": "2024-03-17T13:23:38.218Z"
   },
   {
    "duration": 67,
    "start_time": "2024-03-17T13:23:47.594Z"
   },
   {
    "duration": 69,
    "start_time": "2024-03-17T13:24:22.647Z"
   },
   {
    "duration": 149,
    "start_time": "2024-03-17T13:24:40.282Z"
   },
   {
    "duration": 174,
    "start_time": "2024-03-17T13:25:26.611Z"
   },
   {
    "duration": 200,
    "start_time": "2024-03-17T13:25:46.024Z"
   },
   {
    "duration": 191,
    "start_time": "2024-03-17T13:25:53.014Z"
   },
   {
    "duration": 18,
    "start_time": "2024-03-17T13:26:15.480Z"
   },
   {
    "duration": 839,
    "start_time": "2024-03-17T13:26:36.543Z"
   },
   {
    "duration": 14,
    "start_time": "2024-03-17T13:26:37.383Z"
   },
   {
    "duration": 2041,
    "start_time": "2024-03-17T13:26:37.399Z"
   },
   {
    "duration": 36,
    "start_time": "2024-03-17T13:26:39.443Z"
   },
   {
    "duration": 16,
    "start_time": "2024-03-17T13:26:39.481Z"
   },
   {
    "duration": 60,
    "start_time": "2024-03-17T13:26:39.500Z"
   },
   {
    "duration": 21,
    "start_time": "2024-03-17T13:26:39.563Z"
   },
   {
    "duration": 8,
    "start_time": "2024-03-17T13:26:39.586Z"
   },
   {
    "duration": 20,
    "start_time": "2024-03-17T13:26:39.595Z"
   },
   {
    "duration": 108,
    "start_time": "2024-03-17T13:26:39.617Z"
   },
   {
    "duration": 0,
    "start_time": "2024-03-17T13:26:39.728Z"
   },
   {
    "duration": 0,
    "start_time": "2024-03-17T13:26:39.729Z"
   },
   {
    "duration": 0,
    "start_time": "2024-03-17T13:26:39.730Z"
   },
   {
    "duration": 0,
    "start_time": "2024-03-17T13:26:39.732Z"
   },
   {
    "duration": 0,
    "start_time": "2024-03-17T13:26:39.733Z"
   },
   {
    "duration": 0,
    "start_time": "2024-03-17T13:26:39.734Z"
   },
   {
    "duration": 0,
    "start_time": "2024-03-17T13:26:39.735Z"
   },
   {
    "duration": 0,
    "start_time": "2024-03-17T13:26:39.737Z"
   },
   {
    "duration": 0,
    "start_time": "2024-03-17T13:26:39.738Z"
   },
   {
    "duration": 0,
    "start_time": "2024-03-17T13:26:39.763Z"
   },
   {
    "duration": 0,
    "start_time": "2024-03-17T13:26:39.764Z"
   },
   {
    "duration": 0,
    "start_time": "2024-03-17T13:26:39.765Z"
   },
   {
    "duration": 0,
    "start_time": "2024-03-17T13:26:39.770Z"
   },
   {
    "duration": 0,
    "start_time": "2024-03-17T13:26:39.771Z"
   },
   {
    "duration": 0,
    "start_time": "2024-03-17T13:26:39.772Z"
   },
   {
    "duration": 0,
    "start_time": "2024-03-17T13:26:39.774Z"
   },
   {
    "duration": 0,
    "start_time": "2024-03-17T13:26:39.775Z"
   },
   {
    "duration": 0,
    "start_time": "2024-03-17T13:26:39.776Z"
   },
   {
    "duration": 0,
    "start_time": "2024-03-17T13:26:39.777Z"
   },
   {
    "duration": 0,
    "start_time": "2024-03-17T13:26:39.778Z"
   },
   {
    "duration": 0,
    "start_time": "2024-03-17T13:26:39.779Z"
   },
   {
    "duration": 0,
    "start_time": "2024-03-17T13:26:39.781Z"
   },
   {
    "duration": 0,
    "start_time": "2024-03-17T13:26:39.782Z"
   },
   {
    "duration": 0,
    "start_time": "2024-03-17T13:26:39.783Z"
   },
   {
    "duration": 0,
    "start_time": "2024-03-17T13:26:39.783Z"
   },
   {
    "duration": 0,
    "start_time": "2024-03-17T13:26:39.784Z"
   },
   {
    "duration": 0,
    "start_time": "2024-03-17T13:26:39.785Z"
   },
   {
    "duration": 0,
    "start_time": "2024-03-17T13:26:39.786Z"
   },
   {
    "duration": 0,
    "start_time": "2024-03-17T13:26:39.787Z"
   },
   {
    "duration": 0,
    "start_time": "2024-03-17T13:26:39.788Z"
   },
   {
    "duration": 0,
    "start_time": "2024-03-17T13:26:39.790Z"
   },
   {
    "duration": 0,
    "start_time": "2024-03-17T13:26:39.790Z"
   },
   {
    "duration": 0,
    "start_time": "2024-03-17T13:26:39.791Z"
   },
   {
    "duration": 0,
    "start_time": "2024-03-17T13:26:39.792Z"
   },
   {
    "duration": 0,
    "start_time": "2024-03-17T13:26:39.793Z"
   },
   {
    "duration": 0,
    "start_time": "2024-03-17T13:26:39.794Z"
   },
   {
    "duration": 0,
    "start_time": "2024-03-17T13:26:39.795Z"
   },
   {
    "duration": 0,
    "start_time": "2024-03-17T13:26:39.796Z"
   },
   {
    "duration": 840,
    "start_time": "2024-03-17T13:27:12.248Z"
   },
   {
    "duration": 15,
    "start_time": "2024-03-17T13:27:13.090Z"
   },
   {
    "duration": 2137,
    "start_time": "2024-03-17T13:27:13.107Z"
   },
   {
    "duration": 35,
    "start_time": "2024-03-17T13:27:15.246Z"
   },
   {
    "duration": 10,
    "start_time": "2024-03-17T13:27:15.282Z"
   },
   {
    "duration": 62,
    "start_time": "2024-03-17T13:27:15.294Z"
   },
   {
    "duration": 28,
    "start_time": "2024-03-17T13:27:15.359Z"
   },
   {
    "duration": 10,
    "start_time": "2024-03-17T13:27:15.388Z"
   },
   {
    "duration": 52,
    "start_time": "2024-03-17T13:27:15.399Z"
   },
   {
    "duration": 95,
    "start_time": "2024-03-17T13:27:15.454Z"
   },
   {
    "duration": 0,
    "start_time": "2024-03-17T13:27:15.551Z"
   },
   {
    "duration": 0,
    "start_time": "2024-03-17T13:27:15.552Z"
   },
   {
    "duration": 0,
    "start_time": "2024-03-17T13:27:15.553Z"
   },
   {
    "duration": 0,
    "start_time": "2024-03-17T13:27:15.554Z"
   },
   {
    "duration": 0,
    "start_time": "2024-03-17T13:27:15.560Z"
   },
   {
    "duration": 0,
    "start_time": "2024-03-17T13:27:15.562Z"
   },
   {
    "duration": 0,
    "start_time": "2024-03-17T13:27:15.569Z"
   },
   {
    "duration": 0,
    "start_time": "2024-03-17T13:27:15.570Z"
   },
   {
    "duration": 0,
    "start_time": "2024-03-17T13:27:15.571Z"
   },
   {
    "duration": 0,
    "start_time": "2024-03-17T13:27:15.573Z"
   },
   {
    "duration": 0,
    "start_time": "2024-03-17T13:27:15.575Z"
   },
   {
    "duration": 0,
    "start_time": "2024-03-17T13:27:15.576Z"
   },
   {
    "duration": 0,
    "start_time": "2024-03-17T13:27:15.577Z"
   },
   {
    "duration": 0,
    "start_time": "2024-03-17T13:27:15.579Z"
   },
   {
    "duration": 0,
    "start_time": "2024-03-17T13:27:15.580Z"
   },
   {
    "duration": 0,
    "start_time": "2024-03-17T13:27:15.582Z"
   },
   {
    "duration": 0,
    "start_time": "2024-03-17T13:27:15.583Z"
   },
   {
    "duration": 0,
    "start_time": "2024-03-17T13:27:15.585Z"
   },
   {
    "duration": 0,
    "start_time": "2024-03-17T13:27:15.587Z"
   },
   {
    "duration": 0,
    "start_time": "2024-03-17T13:27:15.588Z"
   },
   {
    "duration": 0,
    "start_time": "2024-03-17T13:27:15.590Z"
   },
   {
    "duration": 0,
    "start_time": "2024-03-17T13:27:15.591Z"
   },
   {
    "duration": 0,
    "start_time": "2024-03-17T13:27:15.592Z"
   },
   {
    "duration": 0,
    "start_time": "2024-03-17T13:27:15.593Z"
   },
   {
    "duration": 0,
    "start_time": "2024-03-17T13:27:15.595Z"
   },
   {
    "duration": 0,
    "start_time": "2024-03-17T13:27:15.595Z"
   },
   {
    "duration": 0,
    "start_time": "2024-03-17T13:27:15.596Z"
   },
   {
    "duration": 0,
    "start_time": "2024-03-17T13:27:15.597Z"
   },
   {
    "duration": 0,
    "start_time": "2024-03-17T13:27:15.598Z"
   },
   {
    "duration": 0,
    "start_time": "2024-03-17T13:27:15.600Z"
   },
   {
    "duration": 0,
    "start_time": "2024-03-17T13:27:15.601Z"
   },
   {
    "duration": 0,
    "start_time": "2024-03-17T13:27:15.602Z"
   },
   {
    "duration": 0,
    "start_time": "2024-03-17T13:27:15.658Z"
   },
   {
    "duration": 0,
    "start_time": "2024-03-17T13:27:15.660Z"
   },
   {
    "duration": 0,
    "start_time": "2024-03-17T13:27:15.662Z"
   },
   {
    "duration": 0,
    "start_time": "2024-03-17T13:27:15.664Z"
   },
   {
    "duration": 0,
    "start_time": "2024-03-17T13:27:15.665Z"
   },
   {
    "duration": 0,
    "start_time": "2024-03-17T13:27:15.667Z"
   },
   {
    "duration": 232,
    "start_time": "2024-03-17T13:27:17.038Z"
   },
   {
    "duration": 147,
    "start_time": "2024-03-17T13:34:38.789Z"
   },
   {
    "duration": 158,
    "start_time": "2024-03-17T13:35:51.048Z"
   },
   {
    "duration": 4,
    "start_time": "2024-03-17T13:36:30.498Z"
   },
   {
    "duration": 76,
    "start_time": "2024-03-17T13:36:38.162Z"
   },
   {
    "duration": 139,
    "start_time": "2024-03-17T13:36:50.704Z"
   },
   {
    "duration": 171,
    "start_time": "2024-03-17T13:39:32.249Z"
   },
   {
    "duration": 66,
    "start_time": "2024-03-17T13:41:19.331Z"
   },
   {
    "duration": 148,
    "start_time": "2024-03-17T13:41:50.691Z"
   },
   {
    "duration": 241,
    "start_time": "2024-03-17T13:43:31.374Z"
   },
   {
    "duration": 158,
    "start_time": "2024-03-17T13:43:45.492Z"
   },
   {
    "duration": 168,
    "start_time": "2024-03-17T13:44:50.865Z"
   },
   {
    "duration": 5,
    "start_time": "2024-03-17T13:45:54.213Z"
   },
   {
    "duration": 26,
    "start_time": "2024-03-17T13:47:00.166Z"
   },
   {
    "duration": 25,
    "start_time": "2024-03-17T13:50:27.324Z"
   },
   {
    "duration": 23,
    "start_time": "2024-03-17T13:50:36.394Z"
   },
   {
    "duration": 30,
    "start_time": "2024-03-17T13:50:49.851Z"
   },
   {
    "duration": 66,
    "start_time": "2024-03-17T14:02:17.242Z"
   },
   {
    "duration": 20,
    "start_time": "2024-03-17T14:12:51.209Z"
   },
   {
    "duration": 3,
    "start_time": "2024-03-17T14:20:48.931Z"
   },
   {
    "duration": 15,
    "start_time": "2024-03-17T14:20:50.944Z"
   },
   {
    "duration": 25,
    "start_time": "2024-03-17T14:21:03.527Z"
   },
   {
    "duration": 15,
    "start_time": "2024-03-17T14:22:21.369Z"
   },
   {
    "duration": 3,
    "start_time": "2024-03-17T14:22:25.226Z"
   },
   {
    "duration": 3,
    "start_time": "2024-03-17T14:23:01.410Z"
   },
   {
    "duration": 3,
    "start_time": "2024-03-17T14:24:43.150Z"
   },
   {
    "duration": 8,
    "start_time": "2024-03-17T14:24:44.008Z"
   },
   {
    "duration": 3,
    "start_time": "2024-03-17T14:25:58.318Z"
   },
   {
    "duration": 4,
    "start_time": "2024-03-17T14:26:28.852Z"
   },
   {
    "duration": 9,
    "start_time": "2024-03-17T14:26:29.571Z"
   },
   {
    "duration": 8,
    "start_time": "2024-03-17T14:33:22.443Z"
   },
   {
    "duration": 9,
    "start_time": "2024-03-17T14:33:30.514Z"
   },
   {
    "duration": 25,
    "start_time": "2024-03-17T14:33:41.650Z"
   },
   {
    "duration": 153,
    "start_time": "2024-03-17T14:34:00.952Z"
   },
   {
    "duration": 12,
    "start_time": "2024-03-17T14:34:37.512Z"
   },
   {
    "duration": 192,
    "start_time": "2024-03-17T14:37:04.310Z"
   },
   {
    "duration": 159,
    "start_time": "2024-03-17T14:37:19.104Z"
   },
   {
    "duration": 27,
    "start_time": "2024-03-17T14:37:35.350Z"
   },
   {
    "duration": 145,
    "start_time": "2024-03-17T14:39:19.268Z"
   },
   {
    "duration": 160,
    "start_time": "2024-03-17T14:39:28.688Z"
   },
   {
    "duration": 199,
    "start_time": "2024-03-17T14:39:43.880Z"
   },
   {
    "duration": 140,
    "start_time": "2024-03-17T14:39:53.900Z"
   },
   {
    "duration": 803,
    "start_time": "2024-03-17T14:40:05.918Z"
   },
   {
    "duration": 15,
    "start_time": "2024-03-17T14:40:06.723Z"
   },
   {
    "duration": 2044,
    "start_time": "2024-03-17T14:40:06.739Z"
   },
   {
    "duration": 28,
    "start_time": "2024-03-17T14:40:08.785Z"
   },
   {
    "duration": 10,
    "start_time": "2024-03-17T14:40:08.815Z"
   },
   {
    "duration": 57,
    "start_time": "2024-03-17T14:40:08.826Z"
   },
   {
    "duration": 20,
    "start_time": "2024-03-17T14:40:08.886Z"
   },
   {
    "duration": 9,
    "start_time": "2024-03-17T14:40:08.907Z"
   },
   {
    "duration": 47,
    "start_time": "2024-03-17T14:40:08.918Z"
   },
   {
    "duration": 81,
    "start_time": "2024-03-17T14:40:08.968Z"
   },
   {
    "duration": 0,
    "start_time": "2024-03-17T14:40:09.059Z"
   },
   {
    "duration": 0,
    "start_time": "2024-03-17T14:40:09.060Z"
   },
   {
    "duration": 0,
    "start_time": "2024-03-17T14:40:09.061Z"
   },
   {
    "duration": 0,
    "start_time": "2024-03-17T14:40:09.063Z"
   },
   {
    "duration": 0,
    "start_time": "2024-03-17T14:40:09.064Z"
   },
   {
    "duration": 0,
    "start_time": "2024-03-17T14:40:09.065Z"
   },
   {
    "duration": 0,
    "start_time": "2024-03-17T14:40:09.066Z"
   },
   {
    "duration": 0,
    "start_time": "2024-03-17T14:40:09.067Z"
   },
   {
    "duration": 0,
    "start_time": "2024-03-17T14:40:09.068Z"
   },
   {
    "duration": 0,
    "start_time": "2024-03-17T14:40:09.069Z"
   },
   {
    "duration": 1,
    "start_time": "2024-03-17T14:40:09.069Z"
   },
   {
    "duration": 0,
    "start_time": "2024-03-17T14:40:09.072Z"
   },
   {
    "duration": 0,
    "start_time": "2024-03-17T14:40:09.072Z"
   },
   {
    "duration": 0,
    "start_time": "2024-03-17T14:40:09.073Z"
   },
   {
    "duration": 0,
    "start_time": "2024-03-17T14:40:09.074Z"
   },
   {
    "duration": 0,
    "start_time": "2024-03-17T14:40:09.075Z"
   },
   {
    "duration": 0,
    "start_time": "2024-03-17T14:40:09.076Z"
   },
   {
    "duration": 0,
    "start_time": "2024-03-17T14:40:09.077Z"
   },
   {
    "duration": 1,
    "start_time": "2024-03-17T14:40:09.078Z"
   },
   {
    "duration": 0,
    "start_time": "2024-03-17T14:40:09.079Z"
   },
   {
    "duration": 0,
    "start_time": "2024-03-17T14:40:09.080Z"
   },
   {
    "duration": 0,
    "start_time": "2024-03-17T14:40:09.081Z"
   },
   {
    "duration": 0,
    "start_time": "2024-03-17T14:40:09.082Z"
   },
   {
    "duration": 0,
    "start_time": "2024-03-17T14:40:09.083Z"
   },
   {
    "duration": 0,
    "start_time": "2024-03-17T14:40:09.085Z"
   },
   {
    "duration": 0,
    "start_time": "2024-03-17T14:40:09.086Z"
   },
   {
    "duration": 0,
    "start_time": "2024-03-17T14:40:09.087Z"
   },
   {
    "duration": 0,
    "start_time": "2024-03-17T14:40:09.089Z"
   },
   {
    "duration": 0,
    "start_time": "2024-03-17T14:40:09.090Z"
   },
   {
    "duration": 0,
    "start_time": "2024-03-17T14:40:09.091Z"
   },
   {
    "duration": 0,
    "start_time": "2024-03-17T14:40:09.093Z"
   },
   {
    "duration": 0,
    "start_time": "2024-03-17T14:40:09.094Z"
   },
   {
    "duration": 0,
    "start_time": "2024-03-17T14:40:09.095Z"
   },
   {
    "duration": 0,
    "start_time": "2024-03-17T14:40:09.159Z"
   },
   {
    "duration": 0,
    "start_time": "2024-03-17T14:40:09.160Z"
   },
   {
    "duration": 0,
    "start_time": "2024-03-17T14:40:09.162Z"
   },
   {
    "duration": 0,
    "start_time": "2024-03-17T14:40:09.163Z"
   },
   {
    "duration": 0,
    "start_time": "2024-03-17T14:40:09.165Z"
   },
   {
    "duration": 0,
    "start_time": "2024-03-17T14:40:09.166Z"
   },
   {
    "duration": 0,
    "start_time": "2024-03-17T14:40:09.167Z"
   },
   {
    "duration": 0,
    "start_time": "2024-03-17T14:40:09.169Z"
   },
   {
    "duration": 0,
    "start_time": "2024-03-17T14:40:09.170Z"
   },
   {
    "duration": 0,
    "start_time": "2024-03-17T14:40:09.171Z"
   },
   {
    "duration": 19,
    "start_time": "2024-03-17T14:40:17.926Z"
   },
   {
    "duration": 16,
    "start_time": "2024-03-17T14:40:43.107Z"
   },
   {
    "duration": 25,
    "start_time": "2024-03-17T14:59:54.391Z"
   },
   {
    "duration": 14,
    "start_time": "2024-03-17T15:00:46.213Z"
   },
   {
    "duration": 73,
    "start_time": "2024-03-17T15:05:18.037Z"
   },
   {
    "duration": 70,
    "start_time": "2024-03-17T15:05:39.394Z"
   },
   {
    "duration": 57,
    "start_time": "2024-03-17T16:15:44.198Z"
   },
   {
    "duration": 11,
    "start_time": "2024-03-17T16:15:49.793Z"
   },
   {
    "duration": 18,
    "start_time": "2024-03-17T16:15:55.697Z"
   },
   {
    "duration": 24,
    "start_time": "2024-03-17T16:21:28.872Z"
   },
   {
    "duration": 16,
    "start_time": "2024-03-17T16:21:49.445Z"
   },
   {
    "duration": 24,
    "start_time": "2024-03-17T16:22:33.462Z"
   },
   {
    "duration": 15,
    "start_time": "2024-03-17T16:25:12.946Z"
   },
   {
    "duration": 781,
    "start_time": "2024-03-17T16:25:19.763Z"
   },
   {
    "duration": 23,
    "start_time": "2024-03-17T16:25:20.546Z"
   },
   {
    "duration": 2026,
    "start_time": "2024-03-17T16:25:20.570Z"
   },
   {
    "duration": 25,
    "start_time": "2024-03-17T16:25:22.598Z"
   },
   {
    "duration": 9,
    "start_time": "2024-03-17T16:25:22.624Z"
   },
   {
    "duration": 66,
    "start_time": "2024-03-17T16:25:22.635Z"
   },
   {
    "duration": 18,
    "start_time": "2024-03-17T16:25:22.704Z"
   },
   {
    "duration": 9,
    "start_time": "2024-03-17T16:25:22.724Z"
   },
   {
    "duration": 38,
    "start_time": "2024-03-17T16:25:22.734Z"
   },
   {
    "duration": 106,
    "start_time": "2024-03-17T16:25:22.775Z"
   },
   {
    "duration": 0,
    "start_time": "2024-03-17T16:25:22.883Z"
   },
   {
    "duration": 0,
    "start_time": "2024-03-17T16:25:22.884Z"
   },
   {
    "duration": 0,
    "start_time": "2024-03-17T16:25:22.885Z"
   },
   {
    "duration": 0,
    "start_time": "2024-03-17T16:25:22.886Z"
   },
   {
    "duration": 0,
    "start_time": "2024-03-17T16:25:22.887Z"
   },
   {
    "duration": 0,
    "start_time": "2024-03-17T16:25:22.888Z"
   },
   {
    "duration": 0,
    "start_time": "2024-03-17T16:25:22.889Z"
   },
   {
    "duration": 0,
    "start_time": "2024-03-17T16:25:22.890Z"
   },
   {
    "duration": 0,
    "start_time": "2024-03-17T16:25:22.891Z"
   },
   {
    "duration": 0,
    "start_time": "2024-03-17T16:25:22.892Z"
   },
   {
    "duration": 0,
    "start_time": "2024-03-17T16:25:22.894Z"
   },
   {
    "duration": 1,
    "start_time": "2024-03-17T16:25:22.894Z"
   },
   {
    "duration": 0,
    "start_time": "2024-03-17T16:25:22.895Z"
   },
   {
    "duration": 0,
    "start_time": "2024-03-17T16:25:22.896Z"
   },
   {
    "duration": 0,
    "start_time": "2024-03-17T16:25:22.897Z"
   },
   {
    "duration": 0,
    "start_time": "2024-03-17T16:25:22.898Z"
   },
   {
    "duration": 0,
    "start_time": "2024-03-17T16:25:22.899Z"
   },
   {
    "duration": 0,
    "start_time": "2024-03-17T16:25:22.900Z"
   },
   {
    "duration": 0,
    "start_time": "2024-03-17T16:25:22.901Z"
   },
   {
    "duration": 0,
    "start_time": "2024-03-17T16:25:22.902Z"
   },
   {
    "duration": 0,
    "start_time": "2024-03-17T16:25:22.903Z"
   },
   {
    "duration": 0,
    "start_time": "2024-03-17T16:25:22.904Z"
   },
   {
    "duration": 0,
    "start_time": "2024-03-17T16:25:22.904Z"
   },
   {
    "duration": 0,
    "start_time": "2024-03-17T16:25:22.905Z"
   },
   {
    "duration": 0,
    "start_time": "2024-03-17T16:25:22.906Z"
   },
   {
    "duration": 0,
    "start_time": "2024-03-17T16:25:22.907Z"
   },
   {
    "duration": 0,
    "start_time": "2024-03-17T16:25:22.908Z"
   },
   {
    "duration": 0,
    "start_time": "2024-03-17T16:25:22.909Z"
   },
   {
    "duration": 0,
    "start_time": "2024-03-17T16:25:22.910Z"
   },
   {
    "duration": 0,
    "start_time": "2024-03-17T16:25:22.911Z"
   },
   {
    "duration": 0,
    "start_time": "2024-03-17T16:25:22.912Z"
   },
   {
    "duration": 0,
    "start_time": "2024-03-17T16:25:22.913Z"
   },
   {
    "duration": 0,
    "start_time": "2024-03-17T16:25:22.958Z"
   },
   {
    "duration": 0,
    "start_time": "2024-03-17T16:25:22.959Z"
   },
   {
    "duration": 0,
    "start_time": "2024-03-17T16:25:22.960Z"
   },
   {
    "duration": 0,
    "start_time": "2024-03-17T16:25:22.961Z"
   },
   {
    "duration": 0,
    "start_time": "2024-03-17T16:25:22.962Z"
   },
   {
    "duration": 0,
    "start_time": "2024-03-17T16:25:22.963Z"
   },
   {
    "duration": 0,
    "start_time": "2024-03-17T16:25:22.964Z"
   },
   {
    "duration": 0,
    "start_time": "2024-03-17T16:25:22.965Z"
   },
   {
    "duration": 0,
    "start_time": "2024-03-17T16:25:22.966Z"
   },
   {
    "duration": 0,
    "start_time": "2024-03-17T16:25:22.967Z"
   },
   {
    "duration": 0,
    "start_time": "2024-03-17T16:25:22.968Z"
   },
   {
    "duration": 0,
    "start_time": "2024-03-17T16:25:22.969Z"
   },
   {
    "duration": 0,
    "start_time": "2024-03-17T16:25:22.970Z"
   },
   {
    "duration": 0,
    "start_time": "2024-03-17T16:25:22.971Z"
   },
   {
    "duration": 0,
    "start_time": "2024-03-17T16:25:22.972Z"
   },
   {
    "duration": 17,
    "start_time": "2024-03-17T16:25:26.763Z"
   },
   {
    "duration": 18,
    "start_time": "2024-03-17T16:25:48.838Z"
   },
   {
    "duration": 17,
    "start_time": "2024-03-17T16:25:51.992Z"
   },
   {
    "duration": 771,
    "start_time": "2024-03-17T16:25:56.493Z"
   },
   {
    "duration": 15,
    "start_time": "2024-03-17T16:25:57.265Z"
   },
   {
    "duration": 1975,
    "start_time": "2024-03-17T16:25:57.281Z"
   },
   {
    "duration": 25,
    "start_time": "2024-03-17T16:25:59.268Z"
   },
   {
    "duration": 9,
    "start_time": "2024-03-17T16:25:59.295Z"
   },
   {
    "duration": 68,
    "start_time": "2024-03-17T16:25:59.305Z"
   },
   {
    "duration": 21,
    "start_time": "2024-03-17T16:25:59.375Z"
   },
   {
    "duration": 16,
    "start_time": "2024-03-17T16:25:59.397Z"
   },
   {
    "duration": 45,
    "start_time": "2024-03-17T16:25:59.415Z"
   },
   {
    "duration": 101,
    "start_time": "2024-03-17T16:25:59.463Z"
   },
   {
    "duration": 0,
    "start_time": "2024-03-17T16:25:59.568Z"
   },
   {
    "duration": 0,
    "start_time": "2024-03-17T16:25:59.569Z"
   },
   {
    "duration": 0,
    "start_time": "2024-03-17T16:25:59.571Z"
   },
   {
    "duration": 0,
    "start_time": "2024-03-17T16:25:59.572Z"
   },
   {
    "duration": 0,
    "start_time": "2024-03-17T16:25:59.573Z"
   },
   {
    "duration": 0,
    "start_time": "2024-03-17T16:25:59.575Z"
   },
   {
    "duration": 0,
    "start_time": "2024-03-17T16:25:59.576Z"
   },
   {
    "duration": 0,
    "start_time": "2024-03-17T16:25:59.578Z"
   },
   {
    "duration": 0,
    "start_time": "2024-03-17T16:25:59.579Z"
   },
   {
    "duration": 0,
    "start_time": "2024-03-17T16:25:59.581Z"
   },
   {
    "duration": 0,
    "start_time": "2024-03-17T16:25:59.582Z"
   },
   {
    "duration": 0,
    "start_time": "2024-03-17T16:25:59.583Z"
   },
   {
    "duration": 0,
    "start_time": "2024-03-17T16:25:59.586Z"
   },
   {
    "duration": 0,
    "start_time": "2024-03-17T16:25:59.587Z"
   },
   {
    "duration": 0,
    "start_time": "2024-03-17T16:25:59.588Z"
   },
   {
    "duration": 0,
    "start_time": "2024-03-17T16:25:59.590Z"
   },
   {
    "duration": 0,
    "start_time": "2024-03-17T16:25:59.591Z"
   },
   {
    "duration": 0,
    "start_time": "2024-03-17T16:25:59.593Z"
   },
   {
    "duration": 0,
    "start_time": "2024-03-17T16:25:59.594Z"
   },
   {
    "duration": 0,
    "start_time": "2024-03-17T16:25:59.595Z"
   },
   {
    "duration": 0,
    "start_time": "2024-03-17T16:25:59.597Z"
   },
   {
    "duration": 0,
    "start_time": "2024-03-17T16:25:59.598Z"
   },
   {
    "duration": 0,
    "start_time": "2024-03-17T16:25:59.599Z"
   },
   {
    "duration": 0,
    "start_time": "2024-03-17T16:25:59.600Z"
   },
   {
    "duration": 0,
    "start_time": "2024-03-17T16:25:59.601Z"
   },
   {
    "duration": 0,
    "start_time": "2024-03-17T16:25:59.602Z"
   },
   {
    "duration": 0,
    "start_time": "2024-03-17T16:25:59.603Z"
   },
   {
    "duration": 0,
    "start_time": "2024-03-17T16:25:59.604Z"
   },
   {
    "duration": 1,
    "start_time": "2024-03-17T16:25:59.658Z"
   },
   {
    "duration": 0,
    "start_time": "2024-03-17T16:25:59.660Z"
   },
   {
    "duration": 0,
    "start_time": "2024-03-17T16:25:59.661Z"
   },
   {
    "duration": 0,
    "start_time": "2024-03-17T16:25:59.662Z"
   },
   {
    "duration": 0,
    "start_time": "2024-03-17T16:25:59.663Z"
   },
   {
    "duration": 0,
    "start_time": "2024-03-17T16:25:59.664Z"
   },
   {
    "duration": 0,
    "start_time": "2024-03-17T16:25:59.665Z"
   },
   {
    "duration": 0,
    "start_time": "2024-03-17T16:25:59.667Z"
   },
   {
    "duration": 0,
    "start_time": "2024-03-17T16:25:59.667Z"
   },
   {
    "duration": 0,
    "start_time": "2024-03-17T16:25:59.668Z"
   },
   {
    "duration": 0,
    "start_time": "2024-03-17T16:25:59.669Z"
   },
   {
    "duration": 0,
    "start_time": "2024-03-17T16:25:59.670Z"
   },
   {
    "duration": 0,
    "start_time": "2024-03-17T16:25:59.671Z"
   },
   {
    "duration": 0,
    "start_time": "2024-03-17T16:25:59.672Z"
   },
   {
    "duration": 0,
    "start_time": "2024-03-17T16:25:59.673Z"
   },
   {
    "duration": 0,
    "start_time": "2024-03-17T16:25:59.674Z"
   },
   {
    "duration": 0,
    "start_time": "2024-03-17T16:25:59.675Z"
   },
   {
    "duration": 0,
    "start_time": "2024-03-17T16:25:59.675Z"
   },
   {
    "duration": 0,
    "start_time": "2024-03-17T16:25:59.677Z"
   },
   {
    "duration": 18,
    "start_time": "2024-03-17T16:26:00.129Z"
   },
   {
    "duration": 22,
    "start_time": "2024-03-17T16:26:31.311Z"
   },
   {
    "duration": 17,
    "start_time": "2024-03-17T16:27:00.032Z"
   },
   {
    "duration": 20,
    "start_time": "2024-03-17T16:28:04.646Z"
   },
   {
    "duration": 767,
    "start_time": "2024-03-17T16:28:14.412Z"
   },
   {
    "duration": 20,
    "start_time": "2024-03-17T16:28:15.181Z"
   },
   {
    "duration": 2141,
    "start_time": "2024-03-17T16:28:15.203Z"
   },
   {
    "duration": 25,
    "start_time": "2024-03-17T16:28:17.346Z"
   },
   {
    "duration": 9,
    "start_time": "2024-03-17T16:28:17.373Z"
   },
   {
    "duration": 90,
    "start_time": "2024-03-17T16:28:17.383Z"
   },
   {
    "duration": 19,
    "start_time": "2024-03-17T16:28:17.474Z"
   },
   {
    "duration": 8,
    "start_time": "2024-03-17T16:28:17.494Z"
   },
   {
    "duration": 20,
    "start_time": "2024-03-17T16:28:17.503Z"
   },
   {
    "duration": 112,
    "start_time": "2024-03-17T16:28:17.525Z"
   },
   {
    "duration": 0,
    "start_time": "2024-03-17T16:28:17.639Z"
   },
   {
    "duration": 0,
    "start_time": "2024-03-17T16:28:17.640Z"
   },
   {
    "duration": 0,
    "start_time": "2024-03-17T16:28:17.641Z"
   },
   {
    "duration": 0,
    "start_time": "2024-03-17T16:28:17.641Z"
   },
   {
    "duration": 0,
    "start_time": "2024-03-17T16:28:17.642Z"
   },
   {
    "duration": 0,
    "start_time": "2024-03-17T16:28:17.659Z"
   },
   {
    "duration": 0,
    "start_time": "2024-03-17T16:28:17.660Z"
   },
   {
    "duration": 0,
    "start_time": "2024-03-17T16:28:17.661Z"
   },
   {
    "duration": 0,
    "start_time": "2024-03-17T16:28:17.662Z"
   },
   {
    "duration": 0,
    "start_time": "2024-03-17T16:28:17.663Z"
   },
   {
    "duration": 0,
    "start_time": "2024-03-17T16:28:17.665Z"
   },
   {
    "duration": 0,
    "start_time": "2024-03-17T16:28:17.666Z"
   },
   {
    "duration": 0,
    "start_time": "2024-03-17T16:28:17.667Z"
   },
   {
    "duration": 0,
    "start_time": "2024-03-17T16:28:17.668Z"
   },
   {
    "duration": 0,
    "start_time": "2024-03-17T16:28:17.669Z"
   },
   {
    "duration": 0,
    "start_time": "2024-03-17T16:28:17.671Z"
   },
   {
    "duration": 0,
    "start_time": "2024-03-17T16:28:17.672Z"
   },
   {
    "duration": 0,
    "start_time": "2024-03-17T16:28:17.673Z"
   },
   {
    "duration": 0,
    "start_time": "2024-03-17T16:28:17.675Z"
   },
   {
    "duration": 0,
    "start_time": "2024-03-17T16:28:17.676Z"
   },
   {
    "duration": 0,
    "start_time": "2024-03-17T16:28:17.677Z"
   },
   {
    "duration": 0,
    "start_time": "2024-03-17T16:28:17.679Z"
   },
   {
    "duration": 0,
    "start_time": "2024-03-17T16:28:17.680Z"
   },
   {
    "duration": 0,
    "start_time": "2024-03-17T16:28:17.681Z"
   },
   {
    "duration": 0,
    "start_time": "2024-03-17T16:28:17.683Z"
   },
   {
    "duration": 0,
    "start_time": "2024-03-17T16:28:17.684Z"
   },
   {
    "duration": 0,
    "start_time": "2024-03-17T16:28:17.685Z"
   },
   {
    "duration": 0,
    "start_time": "2024-03-17T16:28:17.686Z"
   },
   {
    "duration": 0,
    "start_time": "2024-03-17T16:28:17.688Z"
   },
   {
    "duration": 0,
    "start_time": "2024-03-17T16:28:17.689Z"
   },
   {
    "duration": 0,
    "start_time": "2024-03-17T16:28:17.690Z"
   },
   {
    "duration": 0,
    "start_time": "2024-03-17T16:28:17.692Z"
   },
   {
    "duration": 0,
    "start_time": "2024-03-17T16:28:17.694Z"
   },
   {
    "duration": 0,
    "start_time": "2024-03-17T16:28:17.697Z"
   },
   {
    "duration": 0,
    "start_time": "2024-03-17T16:28:17.698Z"
   },
   {
    "duration": 0,
    "start_time": "2024-03-17T16:28:17.759Z"
   },
   {
    "duration": 0,
    "start_time": "2024-03-17T16:28:17.761Z"
   },
   {
    "duration": 0,
    "start_time": "2024-03-17T16:28:17.762Z"
   },
   {
    "duration": 0,
    "start_time": "2024-03-17T16:28:17.764Z"
   },
   {
    "duration": 0,
    "start_time": "2024-03-17T16:28:17.765Z"
   },
   {
    "duration": 0,
    "start_time": "2024-03-17T16:28:17.767Z"
   },
   {
    "duration": 0,
    "start_time": "2024-03-17T16:28:17.769Z"
   },
   {
    "duration": 0,
    "start_time": "2024-03-17T16:28:17.770Z"
   },
   {
    "duration": 1,
    "start_time": "2024-03-17T16:28:17.771Z"
   },
   {
    "duration": 0,
    "start_time": "2024-03-17T16:28:17.773Z"
   },
   {
    "duration": 0,
    "start_time": "2024-03-17T16:28:17.774Z"
   },
   {
    "duration": 0,
    "start_time": "2024-03-17T16:28:17.775Z"
   },
   {
    "duration": 21,
    "start_time": "2024-03-17T16:28:18.893Z"
   },
   {
    "duration": 19,
    "start_time": "2024-03-17T16:28:31.269Z"
   },
   {
    "duration": 78,
    "start_time": "2024-03-17T16:46:32.872Z"
   },
   {
    "duration": 72,
    "start_time": "2024-03-17T16:46:47.575Z"
   },
   {
    "duration": 65,
    "start_time": "2024-03-17T16:47:04.600Z"
   },
   {
    "duration": 68,
    "start_time": "2024-03-17T16:47:16.471Z"
   },
   {
    "duration": 13,
    "start_time": "2024-03-17T16:47:30.980Z"
   },
   {
    "duration": 11,
    "start_time": "2024-03-17T16:47:33.887Z"
   },
   {
    "duration": 15,
    "start_time": "2024-03-17T16:53:39.965Z"
   },
   {
    "duration": 11,
    "start_time": "2024-03-17T16:53:55.363Z"
   },
   {
    "duration": 11,
    "start_time": "2024-03-17T16:53:57.762Z"
   },
   {
    "duration": 802,
    "start_time": "2024-03-17T16:54:06.550Z"
   },
   {
    "duration": 16,
    "start_time": "2024-03-17T16:54:07.355Z"
   },
   {
    "duration": 1992,
    "start_time": "2024-03-17T16:54:07.373Z"
   },
   {
    "duration": 25,
    "start_time": "2024-03-17T16:54:09.367Z"
   },
   {
    "duration": 9,
    "start_time": "2024-03-17T16:54:09.394Z"
   },
   {
    "duration": 58,
    "start_time": "2024-03-17T16:54:09.405Z"
   },
   {
    "duration": 18,
    "start_time": "2024-03-17T16:54:09.465Z"
   },
   {
    "duration": 8,
    "start_time": "2024-03-17T16:54:09.485Z"
   },
   {
    "duration": 34,
    "start_time": "2024-03-17T16:54:09.494Z"
   },
   {
    "duration": 108,
    "start_time": "2024-03-17T16:54:09.530Z"
   },
   {
    "duration": 0,
    "start_time": "2024-03-17T16:54:09.640Z"
   },
   {
    "duration": 0,
    "start_time": "2024-03-17T16:54:09.641Z"
   },
   {
    "duration": 0,
    "start_time": "2024-03-17T16:54:09.642Z"
   },
   {
    "duration": 0,
    "start_time": "2024-03-17T16:54:09.643Z"
   },
   {
    "duration": 0,
    "start_time": "2024-03-17T16:54:09.644Z"
   },
   {
    "duration": 0,
    "start_time": "2024-03-17T16:54:09.645Z"
   },
   {
    "duration": 12,
    "start_time": "2024-03-17T16:54:09.646Z"
   },
   {
    "duration": 0,
    "start_time": "2024-03-17T16:54:09.659Z"
   },
   {
    "duration": 0,
    "start_time": "2024-03-17T16:54:09.660Z"
   },
   {
    "duration": 0,
    "start_time": "2024-03-17T16:54:09.661Z"
   },
   {
    "duration": 0,
    "start_time": "2024-03-17T16:54:09.662Z"
   },
   {
    "duration": 0,
    "start_time": "2024-03-17T16:54:09.664Z"
   },
   {
    "duration": 0,
    "start_time": "2024-03-17T16:54:09.666Z"
   },
   {
    "duration": 0,
    "start_time": "2024-03-17T16:54:09.667Z"
   },
   {
    "duration": 0,
    "start_time": "2024-03-17T16:54:09.668Z"
   },
   {
    "duration": 1,
    "start_time": "2024-03-17T16:54:09.668Z"
   },
   {
    "duration": 0,
    "start_time": "2024-03-17T16:54:09.670Z"
   },
   {
    "duration": 0,
    "start_time": "2024-03-17T16:54:09.671Z"
   },
   {
    "duration": 0,
    "start_time": "2024-03-17T16:54:09.672Z"
   },
   {
    "duration": 0,
    "start_time": "2024-03-17T16:54:09.673Z"
   },
   {
    "duration": 0,
    "start_time": "2024-03-17T16:54:09.673Z"
   },
   {
    "duration": 0,
    "start_time": "2024-03-17T16:54:09.674Z"
   },
   {
    "duration": 0,
    "start_time": "2024-03-17T16:54:09.675Z"
   },
   {
    "duration": 0,
    "start_time": "2024-03-17T16:54:09.677Z"
   },
   {
    "duration": 0,
    "start_time": "2024-03-17T16:54:09.678Z"
   },
   {
    "duration": 0,
    "start_time": "2024-03-17T16:54:09.679Z"
   },
   {
    "duration": 0,
    "start_time": "2024-03-17T16:54:09.680Z"
   },
   {
    "duration": 0,
    "start_time": "2024-03-17T16:54:09.681Z"
   },
   {
    "duration": 0,
    "start_time": "2024-03-17T16:54:09.682Z"
   },
   {
    "duration": 0,
    "start_time": "2024-03-17T16:54:09.683Z"
   },
   {
    "duration": 0,
    "start_time": "2024-03-17T16:54:09.684Z"
   },
   {
    "duration": 0,
    "start_time": "2024-03-17T16:54:09.685Z"
   },
   {
    "duration": 0,
    "start_time": "2024-03-17T16:54:09.686Z"
   },
   {
    "duration": 0,
    "start_time": "2024-03-17T16:54:09.687Z"
   },
   {
    "duration": 0,
    "start_time": "2024-03-17T16:54:09.688Z"
   },
   {
    "duration": 0,
    "start_time": "2024-03-17T16:54:09.689Z"
   },
   {
    "duration": 0,
    "start_time": "2024-03-17T16:54:09.690Z"
   },
   {
    "duration": 0,
    "start_time": "2024-03-17T16:54:09.691Z"
   },
   {
    "duration": 0,
    "start_time": "2024-03-17T16:54:09.692Z"
   },
   {
    "duration": 0,
    "start_time": "2024-03-17T16:54:09.693Z"
   },
   {
    "duration": 0,
    "start_time": "2024-03-17T16:54:09.694Z"
   },
   {
    "duration": 0,
    "start_time": "2024-03-17T16:54:09.696Z"
   },
   {
    "duration": 0,
    "start_time": "2024-03-17T16:54:09.758Z"
   },
   {
    "duration": 0,
    "start_time": "2024-03-17T16:54:09.759Z"
   },
   {
    "duration": 0,
    "start_time": "2024-03-17T16:54:09.760Z"
   },
   {
    "duration": 0,
    "start_time": "2024-03-17T16:54:09.762Z"
   },
   {
    "duration": 14,
    "start_time": "2024-03-17T16:54:13.343Z"
   },
   {
    "duration": 18,
    "start_time": "2024-03-17T16:54:25.842Z"
   },
   {
    "duration": 16,
    "start_time": "2024-03-17T17:52:11.303Z"
   },
   {
    "duration": 17,
    "start_time": "2024-03-17T17:55:55.453Z"
   },
   {
    "duration": 21,
    "start_time": "2024-03-17T17:57:03.348Z"
   },
   {
    "duration": 22,
    "start_time": "2024-03-17T18:22:33.231Z"
   },
   {
    "duration": 14,
    "start_time": "2024-03-17T18:22:49.752Z"
   },
   {
    "duration": 17,
    "start_time": "2024-03-17T18:22:59.142Z"
   },
   {
    "duration": 16,
    "start_time": "2024-03-17T18:23:21.323Z"
   },
   {
    "duration": 755,
    "start_time": "2024-03-17T18:23:26.008Z"
   },
   {
    "duration": 16,
    "start_time": "2024-03-17T18:23:26.765Z"
   },
   {
    "duration": 2005,
    "start_time": "2024-03-17T18:23:26.783Z"
   },
   {
    "duration": 25,
    "start_time": "2024-03-17T18:23:28.790Z"
   },
   {
    "duration": 10,
    "start_time": "2024-03-17T18:23:28.817Z"
   },
   {
    "duration": 55,
    "start_time": "2024-03-17T18:23:28.829Z"
   },
   {
    "duration": 19,
    "start_time": "2024-03-17T18:23:28.885Z"
   },
   {
    "duration": 9,
    "start_time": "2024-03-17T18:23:28.905Z"
   },
   {
    "duration": 51,
    "start_time": "2024-03-17T18:23:28.915Z"
   },
   {
    "duration": 93,
    "start_time": "2024-03-17T18:23:28.968Z"
   },
   {
    "duration": 0,
    "start_time": "2024-03-17T18:23:29.065Z"
   },
   {
    "duration": 0,
    "start_time": "2024-03-17T18:23:29.066Z"
   },
   {
    "duration": 0,
    "start_time": "2024-03-17T18:23:29.067Z"
   },
   {
    "duration": 0,
    "start_time": "2024-03-17T18:23:29.068Z"
   },
   {
    "duration": 0,
    "start_time": "2024-03-17T18:23:29.069Z"
   },
   {
    "duration": 0,
    "start_time": "2024-03-17T18:23:29.070Z"
   },
   {
    "duration": 0,
    "start_time": "2024-03-17T18:23:29.071Z"
   },
   {
    "duration": 0,
    "start_time": "2024-03-17T18:23:29.072Z"
   },
   {
    "duration": 0,
    "start_time": "2024-03-17T18:23:29.073Z"
   },
   {
    "duration": 0,
    "start_time": "2024-03-17T18:23:29.074Z"
   },
   {
    "duration": 0,
    "start_time": "2024-03-17T18:23:29.075Z"
   },
   {
    "duration": 0,
    "start_time": "2024-03-17T18:23:29.076Z"
   },
   {
    "duration": 0,
    "start_time": "2024-03-17T18:23:29.077Z"
   },
   {
    "duration": 0,
    "start_time": "2024-03-17T18:23:29.078Z"
   },
   {
    "duration": 0,
    "start_time": "2024-03-17T18:23:29.079Z"
   },
   {
    "duration": 0,
    "start_time": "2024-03-17T18:23:29.080Z"
   },
   {
    "duration": 0,
    "start_time": "2024-03-17T18:23:29.081Z"
   },
   {
    "duration": 0,
    "start_time": "2024-03-17T18:23:29.082Z"
   },
   {
    "duration": 0,
    "start_time": "2024-03-17T18:23:29.083Z"
   },
   {
    "duration": 0,
    "start_time": "2024-03-17T18:23:29.084Z"
   },
   {
    "duration": 0,
    "start_time": "2024-03-17T18:23:29.085Z"
   },
   {
    "duration": 0,
    "start_time": "2024-03-17T18:23:29.086Z"
   },
   {
    "duration": 0,
    "start_time": "2024-03-17T18:23:29.087Z"
   },
   {
    "duration": 0,
    "start_time": "2024-03-17T18:23:29.088Z"
   },
   {
    "duration": 0,
    "start_time": "2024-03-17T18:23:29.089Z"
   },
   {
    "duration": 0,
    "start_time": "2024-03-17T18:23:29.090Z"
   },
   {
    "duration": 0,
    "start_time": "2024-03-17T18:23:29.091Z"
   },
   {
    "duration": 0,
    "start_time": "2024-03-17T18:23:29.092Z"
   },
   {
    "duration": 0,
    "start_time": "2024-03-17T18:23:29.093Z"
   },
   {
    "duration": 0,
    "start_time": "2024-03-17T18:23:29.094Z"
   },
   {
    "duration": 0,
    "start_time": "2024-03-17T18:23:29.095Z"
   },
   {
    "duration": 0,
    "start_time": "2024-03-17T18:23:29.096Z"
   },
   {
    "duration": 0,
    "start_time": "2024-03-17T18:23:29.097Z"
   },
   {
    "duration": 0,
    "start_time": "2024-03-17T18:23:29.098Z"
   },
   {
    "duration": 0,
    "start_time": "2024-03-17T18:23:29.099Z"
   },
   {
    "duration": 0,
    "start_time": "2024-03-17T18:23:29.159Z"
   },
   {
    "duration": 0,
    "start_time": "2024-03-17T18:23:29.160Z"
   },
   {
    "duration": 0,
    "start_time": "2024-03-17T18:23:29.161Z"
   },
   {
    "duration": 0,
    "start_time": "2024-03-17T18:23:29.162Z"
   },
   {
    "duration": 0,
    "start_time": "2024-03-17T18:23:29.163Z"
   },
   {
    "duration": 0,
    "start_time": "2024-03-17T18:23:29.164Z"
   },
   {
    "duration": 0,
    "start_time": "2024-03-17T18:23:29.164Z"
   },
   {
    "duration": 0,
    "start_time": "2024-03-17T18:23:29.165Z"
   },
   {
    "duration": 0,
    "start_time": "2024-03-17T18:23:29.167Z"
   },
   {
    "duration": 0,
    "start_time": "2024-03-17T18:23:29.168Z"
   },
   {
    "duration": 0,
    "start_time": "2024-03-17T18:23:29.169Z"
   },
   {
    "duration": 23,
    "start_time": "2024-03-17T18:23:32.886Z"
   },
   {
    "duration": 23,
    "start_time": "2024-03-17T18:26:17.268Z"
   },
   {
    "duration": 19,
    "start_time": "2024-03-17T18:26:50.192Z"
   },
   {
    "duration": 291,
    "start_time": "2024-03-17T18:27:16.331Z"
   },
   {
    "duration": 18,
    "start_time": "2024-03-17T18:27:37.804Z"
   },
   {
    "duration": 291,
    "start_time": "2024-03-17T18:27:58.172Z"
   },
   {
    "duration": 15,
    "start_time": "2024-03-17T18:28:22.404Z"
   },
   {
    "duration": 268,
    "start_time": "2024-03-17T18:35:47.630Z"
   },
   {
    "duration": 16,
    "start_time": "2024-03-17T18:37:01.500Z"
   },
   {
    "duration": 1143,
    "start_time": "2024-03-17T18:38:31.245Z"
   },
   {
    "duration": 20,
    "start_time": "2024-03-17T18:39:12.457Z"
   },
   {
    "duration": 18,
    "start_time": "2024-03-17T18:39:34.849Z"
   },
   {
    "duration": 19,
    "start_time": "2024-03-17T18:40:37.160Z"
   },
   {
    "duration": 23,
    "start_time": "2024-03-17T18:40:51.141Z"
   },
   {
    "duration": 266,
    "start_time": "2024-03-17T18:41:07.262Z"
   },
   {
    "duration": 190,
    "start_time": "2024-03-17T18:41:27.190Z"
   },
   {
    "duration": 17,
    "start_time": "2024-03-17T18:42:17.609Z"
   },
   {
    "duration": 19,
    "start_time": "2024-03-17T18:48:01.828Z"
   },
   {
    "duration": 19,
    "start_time": "2024-03-17T18:48:36.736Z"
   },
   {
    "duration": 48,
    "start_time": "2024-03-18T06:37:19.645Z"
   },
   {
    "duration": 6,
    "start_time": "2024-03-18T06:38:11.588Z"
   },
   {
    "duration": 1105,
    "start_time": "2024-03-18T06:38:17.366Z"
   },
   {
    "duration": 16,
    "start_time": "2024-03-18T06:38:18.473Z"
   },
   {
    "duration": 1970,
    "start_time": "2024-03-18T06:38:18.490Z"
   },
   {
    "duration": 25,
    "start_time": "2024-03-18T06:38:20.463Z"
   },
   {
    "duration": 10,
    "start_time": "2024-03-18T06:38:20.490Z"
   },
   {
    "duration": 43,
    "start_time": "2024-03-18T06:38:20.501Z"
   },
   {
    "duration": 35,
    "start_time": "2024-03-18T06:38:20.546Z"
   },
   {
    "duration": 8,
    "start_time": "2024-03-18T06:38:20.582Z"
   },
   {
    "duration": 19,
    "start_time": "2024-03-18T06:38:20.592Z"
   },
   {
    "duration": 103,
    "start_time": "2024-03-18T06:38:20.614Z"
   },
   {
    "duration": 0,
    "start_time": "2024-03-18T06:38:20.720Z"
   },
   {
    "duration": 0,
    "start_time": "2024-03-18T06:38:20.721Z"
   },
   {
    "duration": 0,
    "start_time": "2024-03-18T06:38:20.722Z"
   },
   {
    "duration": 0,
    "start_time": "2024-03-18T06:38:20.723Z"
   },
   {
    "duration": 0,
    "start_time": "2024-03-18T06:38:20.724Z"
   },
   {
    "duration": 1,
    "start_time": "2024-03-18T06:38:20.725Z"
   },
   {
    "duration": 0,
    "start_time": "2024-03-18T06:38:20.726Z"
   },
   {
    "duration": 0,
    "start_time": "2024-03-18T06:38:20.728Z"
   },
   {
    "duration": 0,
    "start_time": "2024-03-18T06:38:20.729Z"
   },
   {
    "duration": 0,
    "start_time": "2024-03-18T06:38:20.730Z"
   },
   {
    "duration": 0,
    "start_time": "2024-03-18T06:38:20.731Z"
   },
   {
    "duration": 0,
    "start_time": "2024-03-18T06:38:20.732Z"
   },
   {
    "duration": 0,
    "start_time": "2024-03-18T06:38:20.734Z"
   },
   {
    "duration": 1,
    "start_time": "2024-03-18T06:38:20.735Z"
   },
   {
    "duration": 0,
    "start_time": "2024-03-18T06:38:20.737Z"
   },
   {
    "duration": 0,
    "start_time": "2024-03-18T06:38:20.765Z"
   },
   {
    "duration": 0,
    "start_time": "2024-03-18T06:38:20.767Z"
   },
   {
    "duration": 0,
    "start_time": "2024-03-18T06:38:20.768Z"
   },
   {
    "duration": 0,
    "start_time": "2024-03-18T06:38:20.769Z"
   },
   {
    "duration": 0,
    "start_time": "2024-03-18T06:38:20.770Z"
   },
   {
    "duration": 0,
    "start_time": "2024-03-18T06:38:20.771Z"
   },
   {
    "duration": 0,
    "start_time": "2024-03-18T06:38:20.773Z"
   },
   {
    "duration": 0,
    "start_time": "2024-03-18T06:38:20.774Z"
   },
   {
    "duration": 0,
    "start_time": "2024-03-18T06:38:20.775Z"
   },
   {
    "duration": 0,
    "start_time": "2024-03-18T06:38:20.776Z"
   },
   {
    "duration": 0,
    "start_time": "2024-03-18T06:38:20.777Z"
   },
   {
    "duration": 0,
    "start_time": "2024-03-18T06:38:20.778Z"
   },
   {
    "duration": 0,
    "start_time": "2024-03-18T06:38:20.779Z"
   },
   {
    "duration": 0,
    "start_time": "2024-03-18T06:38:20.780Z"
   },
   {
    "duration": 0,
    "start_time": "2024-03-18T06:38:20.781Z"
   },
   {
    "duration": 0,
    "start_time": "2024-03-18T06:38:20.782Z"
   },
   {
    "duration": 0,
    "start_time": "2024-03-18T06:38:20.783Z"
   },
   {
    "duration": 0,
    "start_time": "2024-03-18T06:38:20.784Z"
   },
   {
    "duration": 0,
    "start_time": "2024-03-18T06:38:20.786Z"
   },
   {
    "duration": 0,
    "start_time": "2024-03-18T06:38:20.787Z"
   },
   {
    "duration": 0,
    "start_time": "2024-03-18T06:38:20.788Z"
   },
   {
    "duration": 0,
    "start_time": "2024-03-18T06:38:20.789Z"
   },
   {
    "duration": 0,
    "start_time": "2024-03-18T06:38:20.790Z"
   },
   {
    "duration": 0,
    "start_time": "2024-03-18T06:38:20.791Z"
   },
   {
    "duration": 0,
    "start_time": "2024-03-18T06:38:20.792Z"
   },
   {
    "duration": 0,
    "start_time": "2024-03-18T06:38:20.793Z"
   },
   {
    "duration": 0,
    "start_time": "2024-03-18T06:38:20.794Z"
   },
   {
    "duration": 0,
    "start_time": "2024-03-18T06:38:20.794Z"
   },
   {
    "duration": 0,
    "start_time": "2024-03-18T06:38:20.796Z"
   },
   {
    "duration": 0,
    "start_time": "2024-03-18T06:38:20.797Z"
   },
   {
    "duration": 0,
    "start_time": "2024-03-18T06:38:20.798Z"
   },
   {
    "duration": 20,
    "start_time": "2024-03-18T06:38:25.635Z"
   },
   {
    "duration": 64,
    "start_time": "2024-03-18T06:39:21.851Z"
   },
   {
    "duration": 15,
    "start_time": "2024-03-18T06:39:49.177Z"
   },
   {
    "duration": 50,
    "start_time": "2024-03-18T06:40:14.609Z"
   },
   {
    "duration": 15,
    "start_time": "2024-03-18T06:42:17.950Z"
   },
   {
    "duration": 29,
    "start_time": "2024-03-18T06:59:31.778Z"
   },
   {
    "duration": 27,
    "start_time": "2024-03-18T07:06:05.556Z"
   },
   {
    "duration": 24,
    "start_time": "2024-03-18T07:06:20.656Z"
   },
   {
    "duration": 11,
    "start_time": "2024-03-18T07:41:46.707Z"
   },
   {
    "duration": 7,
    "start_time": "2024-03-18T07:41:58.818Z"
   },
   {
    "duration": 14,
    "start_time": "2024-03-18T08:01:13.934Z"
   },
   {
    "duration": 215,
    "start_time": "2024-03-18T08:01:20.500Z"
   },
   {
    "duration": 320,
    "start_time": "2024-03-18T08:01:55.475Z"
   },
   {
    "duration": 150,
    "start_time": "2024-03-18T08:02:06.349Z"
   },
   {
    "duration": 6,
    "start_time": "2024-03-18T08:02:35.762Z"
   },
   {
    "duration": 6,
    "start_time": "2024-03-18T08:02:38.990Z"
   },
   {
    "duration": 5,
    "start_time": "2024-03-18T08:02:43.479Z"
   },
   {
    "duration": 5,
    "start_time": "2024-03-18T08:02:46.132Z"
   },
   {
    "duration": 21,
    "start_time": "2024-03-18T08:07:01.838Z"
   },
   {
    "duration": 3,
    "start_time": "2024-03-18T08:09:56.985Z"
   },
   {
    "duration": 10,
    "start_time": "2024-03-18T08:10:07.916Z"
   },
   {
    "duration": 82,
    "start_time": "2024-03-18T08:10:30.434Z"
   },
   {
    "duration": 24,
    "start_time": "2024-03-18T08:10:47.975Z"
   },
   {
    "duration": 307,
    "start_time": "2024-03-18T08:11:07.730Z"
   },
   {
    "duration": 609,
    "start_time": "2024-03-18T08:12:33.187Z"
   },
   {
    "duration": 122,
    "start_time": "2024-03-18T08:12:33.798Z"
   },
   {
    "duration": 15,
    "start_time": "2024-03-18T08:12:33.922Z"
   },
   {
    "duration": 1857,
    "start_time": "2024-03-18T08:12:33.939Z"
   },
   {
    "duration": 24,
    "start_time": "2024-03-18T08:12:35.798Z"
   },
   {
    "duration": 9,
    "start_time": "2024-03-18T08:12:35.824Z"
   },
   {
    "duration": 80,
    "start_time": "2024-03-18T08:12:35.834Z"
   },
   {
    "duration": 19,
    "start_time": "2024-03-18T08:12:35.917Z"
   },
   {
    "duration": 8,
    "start_time": "2024-03-18T08:12:35.938Z"
   },
   {
    "duration": 21,
    "start_time": "2024-03-18T08:12:35.964Z"
   },
   {
    "duration": 35,
    "start_time": "2024-03-18T08:12:35.987Z"
   },
   {
    "duration": 8,
    "start_time": "2024-03-18T08:12:36.024Z"
   },
   {
    "duration": 21,
    "start_time": "2024-03-18T08:12:36.033Z"
   },
   {
    "duration": 234,
    "start_time": "2024-03-18T08:12:36.056Z"
   },
   {
    "duration": 24,
    "start_time": "2024-03-18T08:12:36.292Z"
   },
   {
    "duration": 5,
    "start_time": "2024-03-18T08:12:36.317Z"
   },
   {
    "duration": 5,
    "start_time": "2024-03-18T08:12:36.324Z"
   },
   {
    "duration": 5,
    "start_time": "2024-03-18T08:12:36.331Z"
   },
   {
    "duration": 31,
    "start_time": "2024-03-18T08:12:36.337Z"
   },
   {
    "duration": 312,
    "start_time": "2024-03-18T08:12:36.369Z"
   },
   {
    "duration": 21,
    "start_time": "2024-03-18T08:12:36.683Z"
   },
   {
    "duration": 17,
    "start_time": "2024-03-18T08:12:36.706Z"
   },
   {
    "duration": 9,
    "start_time": "2024-03-18T08:12:36.724Z"
   },
   {
    "duration": 269,
    "start_time": "2024-03-18T08:12:36.735Z"
   },
   {
    "duration": 10,
    "start_time": "2024-03-18T08:12:37.006Z"
   },
   {
    "duration": 351,
    "start_time": "2024-03-18T08:12:37.017Z"
   },
   {
    "duration": 8,
    "start_time": "2024-03-18T08:12:37.370Z"
   },
   {
    "duration": 284,
    "start_time": "2024-03-18T08:12:37.381Z"
   },
   {
    "duration": 9,
    "start_time": "2024-03-18T08:12:37.666Z"
   },
   {
    "duration": 257,
    "start_time": "2024-03-18T08:12:37.676Z"
   },
   {
    "duration": 8,
    "start_time": "2024-03-18T08:12:37.935Z"
   },
   {
    "duration": 255,
    "start_time": "2024-03-18T08:12:37.945Z"
   },
   {
    "duration": 8,
    "start_time": "2024-03-18T08:12:38.201Z"
   },
   {
    "duration": 4,
    "start_time": "2024-03-18T08:12:38.211Z"
   },
   {
    "duration": 211,
    "start_time": "2024-03-18T08:12:38.217Z"
   },
   {
    "duration": 21,
    "start_time": "2024-03-18T08:12:38.429Z"
   },
   {
    "duration": 169,
    "start_time": "2024-03-18T08:12:38.451Z"
   },
   {
    "duration": 8,
    "start_time": "2024-03-18T08:12:38.622Z"
   },
   {
    "duration": 407,
    "start_time": "2024-03-18T08:12:38.631Z"
   },
   {
    "duration": 9,
    "start_time": "2024-03-18T08:12:39.039Z"
   },
   {
    "duration": 244,
    "start_time": "2024-03-18T08:12:39.050Z"
   },
   {
    "duration": 9,
    "start_time": "2024-03-18T08:12:39.296Z"
   },
   {
    "duration": 261,
    "start_time": "2024-03-18T08:12:39.306Z"
   },
   {
    "duration": 69,
    "start_time": "2024-03-18T08:12:39.568Z"
   },
   {
    "duration": 0,
    "start_time": "2024-03-18T08:12:39.639Z"
   },
   {
    "duration": 0,
    "start_time": "2024-03-18T08:12:39.640Z"
   },
   {
    "duration": 0,
    "start_time": "2024-03-18T08:12:39.641Z"
   },
   {
    "duration": 0,
    "start_time": "2024-03-18T08:12:39.642Z"
   },
   {
    "duration": 0,
    "start_time": "2024-03-18T08:12:39.643Z"
   },
   {
    "duration": 0,
    "start_time": "2024-03-18T08:12:39.644Z"
   },
   {
    "duration": 0,
    "start_time": "2024-03-18T08:12:39.645Z"
   },
   {
    "duration": 0,
    "start_time": "2024-03-18T08:12:39.646Z"
   },
   {
    "duration": 0,
    "start_time": "2024-03-18T08:12:39.647Z"
   },
   {
    "duration": 0,
    "start_time": "2024-03-18T08:12:39.648Z"
   },
   {
    "duration": 0,
    "start_time": "2024-03-18T08:12:39.649Z"
   },
   {
    "duration": 0,
    "start_time": "2024-03-18T08:12:39.650Z"
   },
   {
    "duration": 0,
    "start_time": "2024-03-18T08:12:39.651Z"
   },
   {
    "duration": 0,
    "start_time": "2024-03-18T08:12:39.652Z"
   },
   {
    "duration": 613,
    "start_time": "2024-03-18T08:13:00.780Z"
   },
   {
    "duration": 119,
    "start_time": "2024-03-18T08:13:01.395Z"
   },
   {
    "duration": 15,
    "start_time": "2024-03-18T08:13:01.515Z"
   },
   {
    "duration": 1904,
    "start_time": "2024-03-18T08:13:01.532Z"
   },
   {
    "duration": 24,
    "start_time": "2024-03-18T08:13:03.438Z"
   },
   {
    "duration": 10,
    "start_time": "2024-03-18T08:13:03.463Z"
   },
   {
    "duration": 42,
    "start_time": "2024-03-18T08:13:03.475Z"
   },
   {
    "duration": 18,
    "start_time": "2024-03-18T08:13:03.519Z"
   },
   {
    "duration": 31,
    "start_time": "2024-03-18T08:13:03.539Z"
   },
   {
    "duration": 19,
    "start_time": "2024-03-18T08:13:03.573Z"
   },
   {
    "duration": 12,
    "start_time": "2024-03-18T08:13:03.594Z"
   },
   {
    "duration": 9,
    "start_time": "2024-03-18T08:13:03.607Z"
   },
   {
    "duration": 8,
    "start_time": "2024-03-18T08:13:03.617Z"
   },
   {
    "duration": 249,
    "start_time": "2024-03-18T08:13:03.627Z"
   },
   {
    "duration": 24,
    "start_time": "2024-03-18T08:13:03.877Z"
   },
   {
    "duration": 6,
    "start_time": "2024-03-18T08:13:03.903Z"
   },
   {
    "duration": 15,
    "start_time": "2024-03-18T08:13:03.910Z"
   },
   {
    "duration": 5,
    "start_time": "2024-03-18T08:13:03.927Z"
   },
   {
    "duration": 4,
    "start_time": "2024-03-18T08:13:03.933Z"
   },
   {
    "duration": 318,
    "start_time": "2024-03-18T08:13:03.938Z"
   },
   {
    "duration": 24,
    "start_time": "2024-03-18T08:13:04.258Z"
   },
   {
    "duration": 5,
    "start_time": "2024-03-18T08:13:04.284Z"
   },
   {
    "duration": 35,
    "start_time": "2024-03-18T08:13:04.291Z"
   },
   {
    "duration": 252,
    "start_time": "2024-03-18T08:13:04.328Z"
   },
   {
    "duration": 9,
    "start_time": "2024-03-18T08:13:04.581Z"
   },
   {
    "duration": 449,
    "start_time": "2024-03-18T08:13:04.591Z"
   },
   {
    "duration": 9,
    "start_time": "2024-03-18T08:13:05.041Z"
   },
   {
    "duration": 246,
    "start_time": "2024-03-18T08:13:05.053Z"
   },
   {
    "duration": 8,
    "start_time": "2024-03-18T08:13:05.301Z"
   },
   {
    "duration": 262,
    "start_time": "2024-03-18T08:13:05.311Z"
   },
   {
    "duration": 8,
    "start_time": "2024-03-18T08:13:05.574Z"
   },
   {
    "duration": 273,
    "start_time": "2024-03-18T08:13:05.584Z"
   },
   {
    "duration": 11,
    "start_time": "2024-03-18T08:13:05.858Z"
   },
   {
    "duration": 20,
    "start_time": "2024-03-18T08:13:05.870Z"
   },
   {
    "duration": 206,
    "start_time": "2024-03-18T08:13:05.892Z"
   },
   {
    "duration": 21,
    "start_time": "2024-03-18T08:13:06.100Z"
   },
   {
    "duration": 162,
    "start_time": "2024-03-18T08:13:06.123Z"
   },
   {
    "duration": 8,
    "start_time": "2024-03-18T08:13:06.286Z"
   },
   {
    "duration": 356,
    "start_time": "2024-03-18T08:13:06.296Z"
   },
   {
    "duration": 17,
    "start_time": "2024-03-18T08:13:06.654Z"
   },
   {
    "duration": 252,
    "start_time": "2024-03-18T08:13:06.672Z"
   },
   {
    "duration": 8,
    "start_time": "2024-03-18T08:13:06.926Z"
   },
   {
    "duration": 257,
    "start_time": "2024-03-18T08:13:06.936Z"
   },
   {
    "duration": 17,
    "start_time": "2024-03-18T08:13:07.195Z"
   },
   {
    "duration": 254,
    "start_time": "2024-03-18T08:13:07.213Z"
   },
   {
    "duration": 6,
    "start_time": "2024-03-18T08:13:07.468Z"
   },
   {
    "duration": 31,
    "start_time": "2024-03-18T08:13:07.475Z"
   },
   {
    "duration": 159,
    "start_time": "2024-03-18T08:13:07.507Z"
   },
   {
    "duration": 168,
    "start_time": "2024-03-18T08:13:07.668Z"
   },
   {
    "duration": 144,
    "start_time": "2024-03-18T08:13:07.837Z"
   },
   {
    "duration": 144,
    "start_time": "2024-03-18T08:13:07.983Z"
   },
   {
    "duration": 144,
    "start_time": "2024-03-18T08:13:08.129Z"
   },
   {
    "duration": 158,
    "start_time": "2024-03-18T08:13:08.275Z"
   },
   {
    "duration": 84,
    "start_time": "2024-03-18T08:13:08.435Z"
   },
   {
    "duration": 0,
    "start_time": "2024-03-18T08:13:08.521Z"
   },
   {
    "duration": 0,
    "start_time": "2024-03-18T08:13:08.522Z"
   },
   {
    "duration": 0,
    "start_time": "2024-03-18T08:13:08.523Z"
   },
   {
    "duration": 241,
    "start_time": "2024-03-18T08:13:44.304Z"
   },
   {
    "duration": 132,
    "start_time": "2024-03-18T08:13:54.298Z"
   },
   {
    "duration": 27,
    "start_time": "2024-03-18T08:14:04.326Z"
   },
   {
    "duration": 28,
    "start_time": "2024-03-18T08:43:18.293Z"
   },
   {
    "duration": 11,
    "start_time": "2024-03-18T08:47:45.347Z"
   },
   {
    "duration": 147,
    "start_time": "2024-03-18T09:11:25.419Z"
   },
   {
    "duration": 147,
    "start_time": "2024-03-18T09:12:25.651Z"
   },
   {
    "duration": 147,
    "start_time": "2024-03-18T09:12:39.938Z"
   },
   {
    "duration": 151,
    "start_time": "2024-03-18T09:12:51.211Z"
   },
   {
    "duration": 160,
    "start_time": "2024-03-18T09:21:58.557Z"
   },
   {
    "duration": 711,
    "start_time": "2024-03-18T10:00:13.962Z"
   },
   {
    "duration": 123,
    "start_time": "2024-03-18T10:00:14.675Z"
   },
   {
    "duration": 14,
    "start_time": "2024-03-18T10:00:14.800Z"
   },
   {
    "duration": 1882,
    "start_time": "2024-03-18T10:00:14.816Z"
   },
   {
    "duration": 22,
    "start_time": "2024-03-18T10:00:16.700Z"
   },
   {
    "duration": 9,
    "start_time": "2024-03-18T10:00:16.723Z"
   },
   {
    "duration": 61,
    "start_time": "2024-03-18T10:00:16.733Z"
   },
   {
    "duration": 19,
    "start_time": "2024-03-18T10:00:16.796Z"
   },
   {
    "duration": 7,
    "start_time": "2024-03-18T10:00:16.817Z"
   },
   {
    "duration": 41,
    "start_time": "2024-03-18T10:00:16.826Z"
   },
   {
    "duration": 11,
    "start_time": "2024-03-18T10:00:16.869Z"
   },
   {
    "duration": 11,
    "start_time": "2024-03-18T10:00:16.882Z"
   },
   {
    "duration": 17,
    "start_time": "2024-03-18T10:00:16.895Z"
   },
   {
    "duration": 245,
    "start_time": "2024-03-18T10:00:16.914Z"
   },
   {
    "duration": 22,
    "start_time": "2024-03-18T10:00:17.161Z"
   },
   {
    "duration": 5,
    "start_time": "2024-03-18T10:00:17.184Z"
   },
   {
    "duration": 6,
    "start_time": "2024-03-18T10:00:17.190Z"
   },
   {
    "duration": 5,
    "start_time": "2024-03-18T10:00:17.197Z"
   },
   {
    "duration": 11,
    "start_time": "2024-03-18T10:00:17.203Z"
   },
   {
    "duration": 321,
    "start_time": "2024-03-18T10:00:17.216Z"
   },
   {
    "duration": 27,
    "start_time": "2024-03-18T10:00:17.538Z"
   },
   {
    "duration": 6,
    "start_time": "2024-03-18T10:00:17.566Z"
   },
   {
    "duration": 16,
    "start_time": "2024-03-18T10:00:17.574Z"
   },
   {
    "duration": 247,
    "start_time": "2024-03-18T10:00:17.592Z"
   },
   {
    "duration": 8,
    "start_time": "2024-03-18T10:00:17.841Z"
   },
   {
    "duration": 332,
    "start_time": "2024-03-18T10:00:17.859Z"
   },
   {
    "duration": 9,
    "start_time": "2024-03-18T10:00:18.193Z"
   },
   {
    "duration": 268,
    "start_time": "2024-03-18T10:00:18.206Z"
   },
   {
    "duration": 9,
    "start_time": "2024-03-18T10:00:18.476Z"
   },
   {
    "duration": 263,
    "start_time": "2024-03-18T10:00:18.487Z"
   },
   {
    "duration": 13,
    "start_time": "2024-03-18T10:00:18.752Z"
   },
   {
    "duration": 260,
    "start_time": "2024-03-18T10:00:18.767Z"
   },
   {
    "duration": 10,
    "start_time": "2024-03-18T10:00:19.029Z"
   },
   {
    "duration": 20,
    "start_time": "2024-03-18T10:00:19.040Z"
   },
   {
    "duration": 208,
    "start_time": "2024-03-18T10:00:19.061Z"
   },
   {
    "duration": 20,
    "start_time": "2024-03-18T10:00:19.270Z"
   },
   {
    "duration": 172,
    "start_time": "2024-03-18T10:00:19.291Z"
   },
   {
    "duration": 9,
    "start_time": "2024-03-18T10:00:19.465Z"
   },
   {
    "duration": 361,
    "start_time": "2024-03-18T10:00:19.476Z"
   },
   {
    "duration": 9,
    "start_time": "2024-03-18T10:00:19.838Z"
   },
   {
    "duration": 267,
    "start_time": "2024-03-18T10:00:19.859Z"
   },
   {
    "duration": 8,
    "start_time": "2024-03-18T10:00:20.128Z"
   },
   {
    "duration": 256,
    "start_time": "2024-03-18T10:00:20.137Z"
   },
   {
    "duration": 18,
    "start_time": "2024-03-18T10:00:20.394Z"
   },
   {
    "duration": 235,
    "start_time": "2024-03-18T10:00:20.413Z"
   },
   {
    "duration": 5,
    "start_time": "2024-03-18T10:00:20.650Z"
   },
   {
    "duration": 23,
    "start_time": "2024-03-18T10:00:20.659Z"
   },
   {
    "duration": 149,
    "start_time": "2024-03-18T10:00:20.683Z"
   },
   {
    "duration": 171,
    "start_time": "2024-03-18T10:00:20.834Z"
   },
   {
    "duration": 159,
    "start_time": "2024-03-18T10:00:21.007Z"
   },
   {
    "duration": 179,
    "start_time": "2024-03-18T10:00:21.168Z"
   },
   {
    "duration": 166,
    "start_time": "2024-03-18T10:00:21.348Z"
   },
   {
    "duration": 157,
    "start_time": "2024-03-18T10:00:21.515Z"
   },
   {
    "duration": 246,
    "start_time": "2024-03-18T10:00:21.674Z"
   },
   {
    "duration": 181,
    "start_time": "2024-03-18T10:00:21.922Z"
   },
   {
    "duration": 28,
    "start_time": "2024-03-18T10:00:22.105Z"
   },
   {
    "duration": 189,
    "start_time": "2024-03-18T10:00:22.134Z"
   },
   {
    "duration": 69,
    "start_time": "2024-03-18T10:04:40.019Z"
   },
   {
    "duration": 12,
    "start_time": "2024-03-18T10:04:42.812Z"
   },
   {
    "duration": 57,
    "start_time": "2024-03-18T10:46:43.583Z"
   },
   {
    "duration": 2596,
    "start_time": "2024-03-18T11:05:29.921Z"
   },
   {
    "duration": 19,
    "start_time": "2024-03-18T11:34:36.871Z"
   },
   {
    "duration": 5,
    "start_time": "2024-03-18T11:42:05.219Z"
   },
   {
    "duration": 247,
    "start_time": "2024-03-18T11:43:49.478Z"
   },
   {
    "duration": 251,
    "start_time": "2024-03-18T11:44:30.340Z"
   },
   {
    "duration": 247,
    "start_time": "2024-03-18T11:45:08.090Z"
   },
   {
    "duration": 419,
    "start_time": "2024-03-18T11:45:39.971Z"
   },
   {
    "duration": 235,
    "start_time": "2024-03-18T11:46:26.129Z"
   },
   {
    "duration": 217,
    "start_time": "2024-03-18T11:46:52.361Z"
   },
   {
    "duration": 241,
    "start_time": "2024-03-18T11:47:25.530Z"
   },
   {
    "duration": 236,
    "start_time": "2024-03-18T11:47:50.200Z"
   },
   {
    "duration": 244,
    "start_time": "2024-03-18T11:48:14.440Z"
   },
   {
    "duration": 318,
    "start_time": "2024-03-18T11:49:20.080Z"
   },
   {
    "duration": 424,
    "start_time": "2024-03-18T11:50:05.269Z"
   },
   {
    "duration": 292,
    "start_time": "2024-03-18T11:57:10.082Z"
   },
   {
    "duration": 172,
    "start_time": "2024-03-18T11:57:25.720Z"
   },
   {
    "duration": 69,
    "start_time": "2024-03-18T12:03:43.494Z"
   },
   {
    "duration": 76,
    "start_time": "2024-03-18T12:15:49.447Z"
   },
   {
    "duration": 656,
    "start_time": "2024-03-18T14:02:40.047Z"
   },
   {
    "duration": 121,
    "start_time": "2024-03-18T14:02:40.705Z"
   },
   {
    "duration": 17,
    "start_time": "2024-03-18T14:02:40.827Z"
   },
   {
    "duration": 1826,
    "start_time": "2024-03-18T14:02:40.845Z"
   },
   {
    "duration": 23,
    "start_time": "2024-03-18T14:02:42.673Z"
   },
   {
    "duration": 9,
    "start_time": "2024-03-18T14:02:42.697Z"
   },
   {
    "duration": 69,
    "start_time": "2024-03-18T14:02:42.708Z"
   },
   {
    "duration": 38,
    "start_time": "2024-03-18T14:02:42.779Z"
   },
   {
    "duration": 20,
    "start_time": "2024-03-18T14:02:42.818Z"
   },
   {
    "duration": 24,
    "start_time": "2024-03-18T14:02:42.839Z"
   },
   {
    "duration": 43,
    "start_time": "2024-03-18T14:02:42.864Z"
   },
   {
    "duration": 9,
    "start_time": "2024-03-18T14:02:42.909Z"
   },
   {
    "duration": 56,
    "start_time": "2024-03-18T14:02:42.919Z"
   },
   {
    "duration": 6,
    "start_time": "2024-03-18T14:02:42.978Z"
   },
   {
    "duration": 170,
    "start_time": "2024-03-18T14:02:42.986Z"
   },
   {
    "duration": 24,
    "start_time": "2024-03-18T14:02:43.158Z"
   },
   {
    "duration": 4,
    "start_time": "2024-03-18T14:02:43.184Z"
   },
   {
    "duration": 6,
    "start_time": "2024-03-18T14:02:43.189Z"
   },
   {
    "duration": 4,
    "start_time": "2024-03-18T14:02:43.196Z"
   },
   {
    "duration": 10,
    "start_time": "2024-03-18T14:02:43.201Z"
   },
   {
    "duration": 281,
    "start_time": "2024-03-18T14:02:43.213Z"
   },
   {
    "duration": 5,
    "start_time": "2024-03-18T14:02:43.496Z"
   },
   {
    "duration": 7,
    "start_time": "2024-03-18T14:02:43.502Z"
   },
   {
    "duration": 8,
    "start_time": "2024-03-18T14:02:43.510Z"
   },
   {
    "duration": 246,
    "start_time": "2024-03-18T14:02:43.520Z"
   },
   {
    "duration": 8,
    "start_time": "2024-03-18T14:02:43.768Z"
   },
   {
    "duration": 319,
    "start_time": "2024-03-18T14:02:43.778Z"
   },
   {
    "duration": 8,
    "start_time": "2024-03-18T14:02:44.099Z"
   },
   {
    "duration": 251,
    "start_time": "2024-03-18T14:02:44.109Z"
   },
   {
    "duration": 8,
    "start_time": "2024-03-18T14:02:44.362Z"
   },
   {
    "duration": 241,
    "start_time": "2024-03-18T14:02:44.371Z"
   },
   {
    "duration": 9,
    "start_time": "2024-03-18T14:02:44.614Z"
   },
   {
    "duration": 243,
    "start_time": "2024-03-18T14:02:44.625Z"
   },
   {
    "duration": 8,
    "start_time": "2024-03-18T14:02:44.870Z"
   },
   {
    "duration": 21,
    "start_time": "2024-03-18T14:02:44.880Z"
   },
   {
    "duration": 190,
    "start_time": "2024-03-18T14:02:44.903Z"
   },
   {
    "duration": 21,
    "start_time": "2024-03-18T14:02:45.095Z"
   },
   {
    "duration": 206,
    "start_time": "2024-03-18T14:02:45.117Z"
   },
   {
    "duration": 8,
    "start_time": "2024-03-18T14:02:45.324Z"
   },
   {
    "duration": 334,
    "start_time": "2024-03-18T14:02:45.333Z"
   },
   {
    "duration": 8,
    "start_time": "2024-03-18T14:02:45.671Z"
   },
   {
    "duration": 278,
    "start_time": "2024-03-18T14:02:45.680Z"
   },
   {
    "duration": 10,
    "start_time": "2024-03-18T14:02:45.960Z"
   },
   {
    "duration": 254,
    "start_time": "2024-03-18T14:02:45.971Z"
   },
   {
    "duration": 15,
    "start_time": "2024-03-18T14:02:46.227Z"
   },
   {
    "duration": 235,
    "start_time": "2024-03-18T14:02:46.244Z"
   },
   {
    "duration": 5,
    "start_time": "2024-03-18T14:02:46.480Z"
   },
   {
    "duration": 18,
    "start_time": "2024-03-18T14:02:46.486Z"
   },
   {
    "duration": 183,
    "start_time": "2024-03-18T14:02:46.506Z"
   },
   {
    "duration": 160,
    "start_time": "2024-03-18T14:02:46.691Z"
   },
   {
    "duration": 142,
    "start_time": "2024-03-18T14:02:46.852Z"
   },
   {
    "duration": 163,
    "start_time": "2024-03-18T14:02:46.996Z"
   },
   {
    "duration": 222,
    "start_time": "2024-03-18T14:02:47.160Z"
   },
   {
    "duration": 139,
    "start_time": "2024-03-18T14:02:47.384Z"
   },
   {
    "duration": 154,
    "start_time": "2024-03-18T14:02:47.524Z"
   },
   {
    "duration": 139,
    "start_time": "2024-03-18T14:02:47.680Z"
   },
   {
    "duration": 25,
    "start_time": "2024-03-18T14:02:47.821Z"
   },
   {
    "duration": 12,
    "start_time": "2024-03-18T14:02:47.859Z"
   },
   {
    "duration": 170,
    "start_time": "2024-03-18T14:02:47.872Z"
   },
   {
    "duration": 103,
    "start_time": "2024-03-18T14:02:48.043Z"
   },
   {
    "duration": 46,
    "start_time": "2024-03-18T14:48:20.574Z"
   },
   {
    "duration": 810,
    "start_time": "2024-03-18T14:48:28.156Z"
   },
   {
    "duration": 339,
    "start_time": "2024-03-18T14:48:28.968Z"
   },
   {
    "duration": 14,
    "start_time": "2024-03-18T14:48:29.309Z"
   },
   {
    "duration": 1927,
    "start_time": "2024-03-18T14:48:29.324Z"
   },
   {
    "duration": 24,
    "start_time": "2024-03-18T14:48:31.253Z"
   },
   {
    "duration": 82,
    "start_time": "2024-03-18T14:48:31.278Z"
   },
   {
    "duration": 91,
    "start_time": "2024-03-18T14:48:31.361Z"
   },
   {
    "duration": 49,
    "start_time": "2024-03-18T14:48:31.454Z"
   },
   {
    "duration": 38,
    "start_time": "2024-03-18T14:48:31.504Z"
   },
   {
    "duration": 35,
    "start_time": "2024-03-18T14:48:31.544Z"
   },
   {
    "duration": 40,
    "start_time": "2024-03-18T14:48:31.581Z"
   },
   {
    "duration": 70,
    "start_time": "2024-03-18T14:48:31.623Z"
   },
   {
    "duration": 51,
    "start_time": "2024-03-18T14:48:31.695Z"
   },
   {
    "duration": 86,
    "start_time": "2024-03-18T14:48:31.748Z"
   },
   {
    "duration": 259,
    "start_time": "2024-03-18T14:48:31.836Z"
   },
   {
    "duration": 24,
    "start_time": "2024-03-18T14:48:32.097Z"
   },
   {
    "duration": 4,
    "start_time": "2024-03-18T14:48:32.123Z"
   },
   {
    "duration": 23,
    "start_time": "2024-03-18T14:48:32.128Z"
   },
   {
    "duration": 7,
    "start_time": "2024-03-18T14:48:32.153Z"
   },
   {
    "duration": 23,
    "start_time": "2024-03-18T14:48:32.162Z"
   },
   {
    "duration": 263,
    "start_time": "2024-03-18T14:48:32.187Z"
   },
   {
    "duration": 4,
    "start_time": "2024-03-18T14:48:32.452Z"
   },
   {
    "duration": 9,
    "start_time": "2024-03-18T14:48:32.465Z"
   },
   {
    "duration": 9,
    "start_time": "2024-03-18T14:48:32.475Z"
   },
   {
    "duration": 292,
    "start_time": "2024-03-18T14:48:32.486Z"
   },
   {
    "duration": 8,
    "start_time": "2024-03-18T14:48:32.780Z"
   },
   {
    "duration": 330,
    "start_time": "2024-03-18T14:48:32.789Z"
   },
   {
    "duration": 8,
    "start_time": "2024-03-18T14:48:33.123Z"
   },
   {
    "duration": 249,
    "start_time": "2024-03-18T14:48:33.132Z"
   },
   {
    "duration": 8,
    "start_time": "2024-03-18T14:48:33.383Z"
   },
   {
    "duration": 250,
    "start_time": "2024-03-18T14:48:33.393Z"
   },
   {
    "duration": 8,
    "start_time": "2024-03-18T14:48:33.645Z"
   },
   {
    "duration": 254,
    "start_time": "2024-03-18T14:48:33.665Z"
   },
   {
    "duration": 8,
    "start_time": "2024-03-18T14:48:33.921Z"
   },
   {
    "duration": 13,
    "start_time": "2024-03-18T14:48:33.931Z"
   },
   {
    "duration": 220,
    "start_time": "2024-03-18T14:48:33.945Z"
   },
   {
    "duration": 21,
    "start_time": "2024-03-18T14:48:34.167Z"
   },
   {
    "duration": 162,
    "start_time": "2024-03-18T14:48:34.190Z"
   },
   {
    "duration": 18,
    "start_time": "2024-03-18T14:48:34.353Z"
   },
   {
    "duration": 333,
    "start_time": "2024-03-18T14:48:34.373Z"
   },
   {
    "duration": 9,
    "start_time": "2024-03-18T14:48:34.708Z"
   },
   {
    "duration": 252,
    "start_time": "2024-03-18T14:48:34.719Z"
   },
   {
    "duration": 9,
    "start_time": "2024-03-18T14:48:34.973Z"
   },
   {
    "duration": 254,
    "start_time": "2024-03-18T14:48:34.984Z"
   },
   {
    "duration": 28,
    "start_time": "2024-03-18T14:48:35.240Z"
   },
   {
    "duration": 252,
    "start_time": "2024-03-18T14:48:35.270Z"
   },
   {
    "duration": 6,
    "start_time": "2024-03-18T14:48:35.524Z"
   },
   {
    "duration": 37,
    "start_time": "2024-03-18T14:48:35.531Z"
   },
   {
    "duration": 180,
    "start_time": "2024-03-18T14:48:35.570Z"
   },
   {
    "duration": 185,
    "start_time": "2024-03-18T14:48:35.752Z"
   },
   {
    "duration": 150,
    "start_time": "2024-03-18T14:48:35.940Z"
   },
   {
    "duration": 160,
    "start_time": "2024-03-18T14:48:36.091Z"
   },
   {
    "duration": 214,
    "start_time": "2024-03-18T14:48:36.253Z"
   },
   {
    "duration": 144,
    "start_time": "2024-03-18T14:48:36.469Z"
   },
   {
    "duration": 162,
    "start_time": "2024-03-18T14:48:36.614Z"
   },
   {
    "duration": 144,
    "start_time": "2024-03-18T14:48:36.777Z"
   },
   {
    "duration": 26,
    "start_time": "2024-03-18T14:48:36.923Z"
   },
   {
    "duration": 24,
    "start_time": "2024-03-18T14:48:36.950Z"
   },
   {
    "duration": 192,
    "start_time": "2024-03-18T14:48:36.976Z"
   },
   {
    "duration": 128,
    "start_time": "2024-03-18T14:49:04.498Z"
   },
   {
    "duration": 175,
    "start_time": "2024-03-18T14:51:01.782Z"
   },
   {
    "duration": 156,
    "start_time": "2024-03-18T14:51:37.541Z"
   },
   {
    "duration": 691,
    "start_time": "2024-03-18T16:41:57.249Z"
   },
   {
    "duration": 131,
    "start_time": "2024-03-18T16:41:57.943Z"
   },
   {
    "duration": 16,
    "start_time": "2024-03-18T16:41:58.077Z"
   },
   {
    "duration": 1979,
    "start_time": "2024-03-18T16:41:58.095Z"
   },
   {
    "duration": 25,
    "start_time": "2024-03-18T16:42:00.076Z"
   },
   {
    "duration": 30,
    "start_time": "2024-03-18T16:42:00.103Z"
   },
   {
    "duration": 88,
    "start_time": "2024-03-18T16:42:00.135Z"
   },
   {
    "duration": 43,
    "start_time": "2024-03-18T16:42:00.224Z"
   },
   {
    "duration": 66,
    "start_time": "2024-03-18T16:42:00.269Z"
   },
   {
    "duration": 125,
    "start_time": "2024-03-18T16:42:00.338Z"
   },
   {
    "duration": 101,
    "start_time": "2024-03-18T16:42:00.464Z"
   },
   {
    "duration": 69,
    "start_time": "2024-03-18T16:42:00.567Z"
   },
   {
    "duration": 145,
    "start_time": "2024-03-18T16:42:00.638Z"
   },
   {
    "duration": 105,
    "start_time": "2024-03-18T16:42:00.784Z"
   },
   {
    "duration": 298,
    "start_time": "2024-03-18T16:42:00.891Z"
   },
   {
    "duration": 30,
    "start_time": "2024-03-18T16:42:01.191Z"
   },
   {
    "duration": 74,
    "start_time": "2024-03-18T16:42:01.223Z"
   },
   {
    "duration": 61,
    "start_time": "2024-03-18T16:42:01.298Z"
   },
   {
    "duration": 66,
    "start_time": "2024-03-18T16:42:01.361Z"
   },
   {
    "duration": 95,
    "start_time": "2024-03-18T16:42:01.428Z"
   },
   {
    "duration": 372,
    "start_time": "2024-03-18T16:42:01.525Z"
   },
   {
    "duration": 4,
    "start_time": "2024-03-18T16:42:01.899Z"
   },
   {
    "duration": 71,
    "start_time": "2024-03-18T16:42:01.904Z"
   },
   {
    "duration": 70,
    "start_time": "2024-03-18T16:42:01.977Z"
   },
   {
    "duration": 309,
    "start_time": "2024-03-18T16:42:02.049Z"
   },
   {
    "duration": 8,
    "start_time": "2024-03-18T16:42:02.360Z"
   },
   {
    "duration": 435,
    "start_time": "2024-03-18T16:42:02.370Z"
   },
   {
    "duration": 8,
    "start_time": "2024-03-18T16:42:02.809Z"
   },
   {
    "duration": 258,
    "start_time": "2024-03-18T16:42:02.818Z"
   },
   {
    "duration": 9,
    "start_time": "2024-03-18T16:42:03.077Z"
   },
   {
    "duration": 349,
    "start_time": "2024-03-18T16:42:03.088Z"
   },
   {
    "duration": 9,
    "start_time": "2024-03-18T16:42:03.438Z"
   },
   {
    "duration": 300,
    "start_time": "2024-03-18T16:42:03.448Z"
   },
   {
    "duration": 13,
    "start_time": "2024-03-18T16:42:03.750Z"
   },
   {
    "duration": 42,
    "start_time": "2024-03-18T16:42:03.765Z"
   },
   {
    "duration": 206,
    "start_time": "2024-03-18T16:42:03.808Z"
   },
   {
    "duration": 22,
    "start_time": "2024-03-18T16:42:04.016Z"
   },
   {
    "duration": 167,
    "start_time": "2024-03-18T16:42:04.039Z"
   },
   {
    "duration": 8,
    "start_time": "2024-03-18T16:42:04.208Z"
   },
   {
    "duration": 336,
    "start_time": "2024-03-18T16:42:04.217Z"
   },
   {
    "duration": 11,
    "start_time": "2024-03-18T16:42:04.554Z"
   },
   {
    "duration": 259,
    "start_time": "2024-03-18T16:42:04.567Z"
   },
   {
    "duration": 10,
    "start_time": "2024-03-18T16:42:04.828Z"
   },
   {
    "duration": 257,
    "start_time": "2024-03-18T16:42:04.839Z"
   },
   {
    "duration": 16,
    "start_time": "2024-03-18T16:42:05.098Z"
   },
   {
    "duration": 264,
    "start_time": "2024-03-18T16:42:05.116Z"
   },
   {
    "duration": 5,
    "start_time": "2024-03-18T16:42:05.382Z"
   },
   {
    "duration": 46,
    "start_time": "2024-03-18T16:42:05.388Z"
   },
   {
    "duration": 162,
    "start_time": "2024-03-18T16:42:05.435Z"
   },
   {
    "duration": 177,
    "start_time": "2024-03-18T16:42:05.598Z"
   },
   {
    "duration": 173,
    "start_time": "2024-03-18T16:42:05.777Z"
   },
   {
    "duration": 162,
    "start_time": "2024-03-18T16:42:05.952Z"
   },
   {
    "duration": 218,
    "start_time": "2024-03-18T16:42:06.115Z"
   },
   {
    "duration": 147,
    "start_time": "2024-03-18T16:42:06.335Z"
   },
   {
    "duration": 140,
    "start_time": "2024-03-18T16:42:06.484Z"
   },
   {
    "duration": 135,
    "start_time": "2024-03-18T16:42:06.626Z"
   },
   {
    "duration": 26,
    "start_time": "2024-03-18T16:42:06.762Z"
   },
   {
    "duration": 65,
    "start_time": "2024-03-18T16:42:06.790Z"
   },
   {
    "duration": 193,
    "start_time": "2024-03-18T16:42:06.856Z"
   }
  ],
  "colab": {
   "provenance": []
  },
  "kernelspec": {
   "display_name": "Python 3 (ipykernel)",
   "language": "python",
   "name": "python3"
  },
  "language_info": {
   "codemirror_mode": {
    "name": "ipython",
    "version": 3
   },
   "file_extension": ".py",
   "mimetype": "text/x-python",
   "name": "python",
   "nbconvert_exporter": "python",
   "pygments_lexer": "ipython3",
   "version": "3.9.5"
  },
  "toc": {
   "base_numbering": 1,
   "nav_menu": {},
   "number_sections": true,
   "sideBar": true,
   "skip_h1_title": true,
   "title_cell": "Table of Contents",
   "title_sidebar": "Contents",
   "toc_cell": false,
   "toc_position": {},
   "toc_section_display": true,
   "toc_window_display": true
  }
 },
 "nbformat": 4,
 "nbformat_minor": 1
}
