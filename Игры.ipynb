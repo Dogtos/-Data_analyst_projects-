{
 "cells": [
  {
   "cell_type": "markdown",
   "metadata": {},
   "source": [
    "# СБОРНЫЙ ПРОЕКТ\n",
    "Представим, что мы работаем в интернет-магазине «Стримчик», который продаёт по всему миру компьютерные игры. Из открытых источников доступны исторические данные о продажах игр, оценки пользователей и экспертов, жанры и платформы (например, Xbox или PlayStation). Вам нужно выявить определяющие успешность игры закономерности. Это позволит сделать ставку на потенциально популярный продукт и спланировать рекламные кампании.\n",
    "\n",
    "\n",
    "Перед нами данные до 2016 года. Представим, что сейчас декабрь 2016 г., и мы планируем кампанию на 2017-й. Нужно отработать принцип работы с данными. Неважно, прогнозируем ли мы продажи на 2017 год по данным 2016-го или же 2027-й — по данным 2026 года.\n",
    "\n",
    "\n",
    "В наборе данных попадается аббревиатура ESRB (Entertainment Software Rating Board) — это ассоциация, определяющая возрастной рейтинг компьютерных игр. ESRB оценивает игровой контент и присваивает ему подходящую возрастную категорию, например, «Для взрослых», «Для детей младшего возраста» или «Для подростков».\n",
    "\n",
    "Описание данных:\n",
    "- Name — название игры\n",
    "- Platform — платформа\n",
    "- Year_of_Release — год выпуска\n",
    "- Genre — жанр игры\n",
    "- NA_sales — продажи в Северной Америке (миллионы проданных копий)\n",
    "- EU_sales — продажи в Европе (миллионы проданных копий)\n",
    "- JP_sales — продажи в Японии (миллионы проданных копий)\n",
    "- Other_sales — продажи в других странах (миллионы проданных копий)\n",
    "- Critic_Score — оценка критиков (максимум 100)\n",
    "- User_Score — оценка пользователей (максимум 10)\n",
    "- Rating — рейтинг от организации ESRB (англ. Entertainment Software Rating Board). Эта ассоциация определяет рейтинг компьютерных игр и присваивает им подходящую возрастную категорию.\n",
    "\n",
    "\n",
    "Данные за 2016 год могут быть неполными.\n"
   ]
  },
  {
   "cell_type": "markdown",
   "metadata": {},
   "source": [
    "__Шаг 1__. Откроем файл с данными и изучим общую информацию."
   ]
  },
  {
   "cell_type": "code",
   "execution_count": 1,
   "metadata": {},
   "outputs": [
    {
     "name": "stdout",
     "output_type": "stream",
     "text": [
      "Requirement already satisfied: jinja2 in /opt/conda/lib/python3.9/site-packages (3.1.3)\n",
      "Requirement already satisfied: MarkupSafe>=2.0 in /opt/conda/lib/python3.9/site-packages (from jinja2) (2.1.1)\n",
      "Note: you may need to restart the kernel to use updated packages.\n"
     ]
    }
   ],
   "source": [
    "pip install --upgrade jinja2"
   ]
  },
  {
   "cell_type": "code",
   "execution_count": 2,
   "metadata": {},
   "outputs": [
    {
     "name": "stderr",
     "output_type": "stream",
     "text": [
      "/opt/conda/lib/python3.9/site-packages/scipy/__init__.py:155: UserWarning: A NumPy version >=1.18.5 and <1.25.0 is required for this version of SciPy (detected version 1.26.4\n",
      "  warnings.warn(f\"A NumPy version >={np_minversion} and <{np_maxversion}\"\n"
     ]
    }
   ],
   "source": [
    "import pandas as pd\n",
    "import matplotlib.pyplot as plt\n",
    "import numpy as np\n",
    "from scipy import stats as st\n",
    "import seaborn as sns"
   ]
  },
  {
   "cell_type": "code",
   "execution_count": 3,
   "metadata": {},
   "outputs": [
    {
     "data": {
      "text/html": [
       "<div>\n",
       "<style scoped>\n",
       "    .dataframe tbody tr th:only-of-type {\n",
       "        vertical-align: middle;\n",
       "    }\n",
       "\n",
       "    .dataframe tbody tr th {\n",
       "        vertical-align: top;\n",
       "    }\n",
       "\n",
       "    .dataframe thead th {\n",
       "        text-align: right;\n",
       "    }\n",
       "</style>\n",
       "<table border=\"1\" class=\"dataframe\">\n",
       "  <thead>\n",
       "    <tr style=\"text-align: right;\">\n",
       "      <th></th>\n",
       "      <th>Name</th>\n",
       "      <th>Platform</th>\n",
       "      <th>Year_of_Release</th>\n",
       "      <th>Genre</th>\n",
       "      <th>NA_sales</th>\n",
       "      <th>EU_sales</th>\n",
       "      <th>JP_sales</th>\n",
       "      <th>Other_sales</th>\n",
       "      <th>Critic_Score</th>\n",
       "      <th>User_Score</th>\n",
       "      <th>Rating</th>\n",
       "    </tr>\n",
       "  </thead>\n",
       "  <tbody>\n",
       "    <tr>\n",
       "      <th>0</th>\n",
       "      <td>Wii Sports</td>\n",
       "      <td>Wii</td>\n",
       "      <td>2006.0</td>\n",
       "      <td>Sports</td>\n",
       "      <td>41.36</td>\n",
       "      <td>28.96</td>\n",
       "      <td>3.77</td>\n",
       "      <td>8.45</td>\n",
       "      <td>76.0</td>\n",
       "      <td>8</td>\n",
       "      <td>E</td>\n",
       "    </tr>\n",
       "    <tr>\n",
       "      <th>1</th>\n",
       "      <td>Super Mario Bros.</td>\n",
       "      <td>NES</td>\n",
       "      <td>1985.0</td>\n",
       "      <td>Platform</td>\n",
       "      <td>29.08</td>\n",
       "      <td>3.58</td>\n",
       "      <td>6.81</td>\n",
       "      <td>0.77</td>\n",
       "      <td>NaN</td>\n",
       "      <td>NaN</td>\n",
       "      <td>NaN</td>\n",
       "    </tr>\n",
       "    <tr>\n",
       "      <th>2</th>\n",
       "      <td>Mario Kart Wii</td>\n",
       "      <td>Wii</td>\n",
       "      <td>2008.0</td>\n",
       "      <td>Racing</td>\n",
       "      <td>15.68</td>\n",
       "      <td>12.76</td>\n",
       "      <td>3.79</td>\n",
       "      <td>3.29</td>\n",
       "      <td>82.0</td>\n",
       "      <td>8.3</td>\n",
       "      <td>E</td>\n",
       "    </tr>\n",
       "    <tr>\n",
       "      <th>3</th>\n",
       "      <td>Wii Sports Resort</td>\n",
       "      <td>Wii</td>\n",
       "      <td>2009.0</td>\n",
       "      <td>Sports</td>\n",
       "      <td>15.61</td>\n",
       "      <td>10.93</td>\n",
       "      <td>3.28</td>\n",
       "      <td>2.95</td>\n",
       "      <td>80.0</td>\n",
       "      <td>8</td>\n",
       "      <td>E</td>\n",
       "    </tr>\n",
       "    <tr>\n",
       "      <th>4</th>\n",
       "      <td>Pokemon Red/Pokemon Blue</td>\n",
       "      <td>GB</td>\n",
       "      <td>1996.0</td>\n",
       "      <td>Role-Playing</td>\n",
       "      <td>11.27</td>\n",
       "      <td>8.89</td>\n",
       "      <td>10.22</td>\n",
       "      <td>1.00</td>\n",
       "      <td>NaN</td>\n",
       "      <td>NaN</td>\n",
       "      <td>NaN</td>\n",
       "    </tr>\n",
       "  </tbody>\n",
       "</table>\n",
       "</div>"
      ],
      "text/plain": [
       "                       Name Platform  Year_of_Release         Genre  NA_sales  \\\n",
       "0                Wii Sports      Wii           2006.0        Sports     41.36   \n",
       "1         Super Mario Bros.      NES           1985.0      Platform     29.08   \n",
       "2            Mario Kart Wii      Wii           2008.0        Racing     15.68   \n",
       "3         Wii Sports Resort      Wii           2009.0        Sports     15.61   \n",
       "4  Pokemon Red/Pokemon Blue       GB           1996.0  Role-Playing     11.27   \n",
       "\n",
       "   EU_sales  JP_sales  Other_sales  Critic_Score User_Score Rating  \n",
       "0     28.96      3.77         8.45          76.0          8      E  \n",
       "1      3.58      6.81         0.77           NaN        NaN    NaN  \n",
       "2     12.76      3.79         3.29          82.0        8.3      E  \n",
       "3     10.93      3.28         2.95          80.0          8      E  \n",
       "4      8.89     10.22         1.00           NaN        NaN    NaN  "
      ]
     },
     "execution_count": 3,
     "metadata": {},
     "output_type": "execute_result"
    }
   ],
   "source": [
    "data = pd.read_csv('/datasets/games.csv')\n",
    "data.head()"
   ]
  },
  {
   "cell_type": "code",
   "execution_count": 4,
   "metadata": {},
   "outputs": [
    {
     "name": "stdout",
     "output_type": "stream",
     "text": [
      "<class 'pandas.core.frame.DataFrame'>\n",
      "RangeIndex: 16715 entries, 0 to 16714\n",
      "Data columns (total 11 columns):\n",
      " #   Column           Non-Null Count  Dtype  \n",
      "---  ------           --------------  -----  \n",
      " 0   Name             16713 non-null  object \n",
      " 1   Platform         16715 non-null  object \n",
      " 2   Year_of_Release  16446 non-null  float64\n",
      " 3   Genre            16713 non-null  object \n",
      " 4   NA_sales         16715 non-null  float64\n",
      " 5   EU_sales         16715 non-null  float64\n",
      " 6   JP_sales         16715 non-null  float64\n",
      " 7   Other_sales      16715 non-null  float64\n",
      " 8   Critic_Score     8137 non-null   float64\n",
      " 9   User_Score       10014 non-null  object \n",
      " 10  Rating           9949 non-null   object \n",
      "dtypes: float64(6), object(5)\n",
      "memory usage: 1.4+ MB\n"
     ]
    }
   ],
   "source": [
    "data.info()"
   ]
  },
  {
   "cell_type": "markdown",
   "metadata": {},
   "source": [
    "Открыв файл и изучив общую информацию видим, что:\n",
    "- названия столбцов не приведены к нижнему регистру.\n",
    "- есть пропуски в столбцах 'Name\", \"Year_of_Release\", \"Genre\", \"Critic_Score\", \"User_Score\", \"User_Score\", \"Rating\".\n",
    "\n",
    "Требуется предобработка данных, проверка на дубликаты и тип данных."
   ]
  },
  {
   "cell_type": "markdown",
   "metadata": {},
   "source": [
    "__Шаг 2__. Предобработка данных."
   ]
  },
  {
   "cell_type": "markdown",
   "metadata": {},
   "source": [
    "Приведем название столбцов к нижнему регистру."
   ]
  },
  {
   "cell_type": "code",
   "execution_count": 5,
   "metadata": {},
   "outputs": [
    {
     "data": {
      "text/plain": [
       "Index(['name', 'platform', 'year_of_release', 'genre', 'na_sales', 'eu_sales',\n",
       "       'jp_sales', 'other_sales', 'critic_score', 'user_score', 'rating'],\n",
       "      dtype='object')"
      ]
     },
     "execution_count": 5,
     "metadata": {},
     "output_type": "execute_result"
    }
   ],
   "source": [
    "data.columns = data.columns.str.lower()\n",
    "data.columns"
   ]
  },
  {
   "cell_type": "markdown",
   "metadata": {},
   "source": [
    "__2.1.__ Обработка дубликатов и пропущенных значений."
   ]
  },
  {
   "cell_type": "markdown",
   "metadata": {},
   "source": [
    "Поиск дубликатов."
   ]
  },
  {
   "cell_type": "code",
   "execution_count": 6,
   "metadata": {},
   "outputs": [
    {
     "data": {
      "text/plain": [
       "0"
      ]
     },
     "execution_count": 6,
     "metadata": {},
     "output_type": "execute_result"
    }
   ],
   "source": [
    "data.duplicated().sum()"
   ]
  },
  {
   "cell_type": "markdown",
   "metadata": {},
   "source": [
    "Поиск неявных дубликатов."
   ]
  },
  {
   "cell_type": "code",
   "execution_count": 7,
   "metadata": {},
   "outputs": [
    {
     "data": {
      "text/html": [
       "<div>\n",
       "<style scoped>\n",
       "    .dataframe tbody tr th:only-of-type {\n",
       "        vertical-align: middle;\n",
       "    }\n",
       "\n",
       "    .dataframe tbody tr th {\n",
       "        vertical-align: top;\n",
       "    }\n",
       "\n",
       "    .dataframe thead th {\n",
       "        text-align: right;\n",
       "    }\n",
       "</style>\n",
       "<table border=\"1\" class=\"dataframe\">\n",
       "  <thead>\n",
       "    <tr style=\"text-align: right;\">\n",
       "      <th></th>\n",
       "      <th>name</th>\n",
       "      <th>platform</th>\n",
       "      <th>year_of_release</th>\n",
       "      <th>genre</th>\n",
       "      <th>na_sales</th>\n",
       "      <th>eu_sales</th>\n",
       "      <th>jp_sales</th>\n",
       "      <th>other_sales</th>\n",
       "      <th>critic_score</th>\n",
       "      <th>user_score</th>\n",
       "      <th>rating</th>\n",
       "    </tr>\n",
       "  </thead>\n",
       "  <tbody>\n",
       "    <tr>\n",
       "      <th>604</th>\n",
       "      <td>Madden NFL 13</td>\n",
       "      <td>PS3</td>\n",
       "      <td>2012.0</td>\n",
       "      <td>Sports</td>\n",
       "      <td>2.11</td>\n",
       "      <td>0.22</td>\n",
       "      <td>0.00</td>\n",
       "      <td>0.23</td>\n",
       "      <td>83.0</td>\n",
       "      <td>5.5</td>\n",
       "      <td>E</td>\n",
       "    </tr>\n",
       "    <tr>\n",
       "      <th>659</th>\n",
       "      <td>NaN</td>\n",
       "      <td>GEN</td>\n",
       "      <td>1993.0</td>\n",
       "      <td>NaN</td>\n",
       "      <td>1.78</td>\n",
       "      <td>0.53</td>\n",
       "      <td>0.00</td>\n",
       "      <td>0.08</td>\n",
       "      <td>NaN</td>\n",
       "      <td>NaN</td>\n",
       "      <td>NaN</td>\n",
       "    </tr>\n",
       "    <tr>\n",
       "      <th>14244</th>\n",
       "      <td>NaN</td>\n",
       "      <td>GEN</td>\n",
       "      <td>1993.0</td>\n",
       "      <td>NaN</td>\n",
       "      <td>0.00</td>\n",
       "      <td>0.00</td>\n",
       "      <td>0.03</td>\n",
       "      <td>0.00</td>\n",
       "      <td>NaN</td>\n",
       "      <td>NaN</td>\n",
       "      <td>NaN</td>\n",
       "    </tr>\n",
       "    <tr>\n",
       "      <th>16230</th>\n",
       "      <td>Madden NFL 13</td>\n",
       "      <td>PS3</td>\n",
       "      <td>2012.0</td>\n",
       "      <td>Sports</td>\n",
       "      <td>0.00</td>\n",
       "      <td>0.01</td>\n",
       "      <td>0.00</td>\n",
       "      <td>0.00</td>\n",
       "      <td>83.0</td>\n",
       "      <td>5.5</td>\n",
       "      <td>E</td>\n",
       "    </tr>\n",
       "  </tbody>\n",
       "</table>\n",
       "</div>"
      ],
      "text/plain": [
       "                name platform  year_of_release   genre  na_sales  eu_sales  \\\n",
       "604    Madden NFL 13      PS3           2012.0  Sports      2.11      0.22   \n",
       "659              NaN      GEN           1993.0     NaN      1.78      0.53   \n",
       "14244            NaN      GEN           1993.0     NaN      0.00      0.00   \n",
       "16230  Madden NFL 13      PS3           2012.0  Sports      0.00      0.01   \n",
       "\n",
       "       jp_sales  other_sales  critic_score user_score rating  \n",
       "604        0.00         0.23          83.0        5.5      E  \n",
       "659        0.00         0.08           NaN        NaN    NaN  \n",
       "14244      0.03         0.00           NaN        NaN    NaN  \n",
       "16230      0.00         0.00          83.0        5.5      E  "
      ]
     },
     "execution_count": 7,
     "metadata": {},
     "output_type": "execute_result"
    }
   ],
   "source": [
    "dubl = data.duplicated(subset=['name', 'platform', 'year_of_release'], keep=False)\n",
    "data[dubl]"
   ]
  },
  {
   "cell_type": "code",
   "execution_count": 8,
   "metadata": {},
   "outputs": [],
   "source": [
    "data = data.drop(16230)\n",
    "data = data.drop(14244)"
   ]
  },
  {
   "cell_type": "markdown",
   "metadata": {},
   "source": [
    "Поиск пропущенных значений."
   ]
  },
  {
   "cell_type": "code",
   "execution_count": 9,
   "metadata": {},
   "outputs": [
    {
     "data": {
      "text/plain": [
       "name                  1\n",
       "platform              0\n",
       "year_of_release     269\n",
       "genre                 1\n",
       "na_sales              0\n",
       "eu_sales              0\n",
       "jp_sales              0\n",
       "other_sales           0\n",
       "critic_score       8577\n",
       "user_score         6700\n",
       "rating             6765\n",
       "dtype: int64"
      ]
     },
     "execution_count": 9,
     "metadata": {},
     "output_type": "execute_result"
    }
   ],
   "source": [
    "data.isna().sum()"
   ]
  },
  {
   "cell_type": "code",
   "execution_count": 1,
   "metadata": {},
   "outputs": [
    {
     "ename": "NameError",
     "evalue": "name 'pd' is not defined",
     "output_type": "error",
     "traceback": [
      "\u001b[0;31m---------------------------------------------------------------------------\u001b[0m",
      "\u001b[0;31mNameError\u001b[0m                                 Traceback (most recent call last)",
      "\u001b[0;32m/tmp/ipykernel_48/1329388952.py\u001b[0m in \u001b[0;36m<module>\u001b[0;34m\u001b[0m\n\u001b[0;32m----> 1\u001b[0;31m \u001b[0mpd\u001b[0m\u001b[0;34m.\u001b[0m\u001b[0mDataFrame\u001b[0m\u001b[0;34m(\u001b[0m\u001b[0mround\u001b[0m\u001b[0;34m(\u001b[0m\u001b[0mdata\u001b[0m\u001b[0;34m.\u001b[0m\u001b[0misna\u001b[0m\u001b[0;34m(\u001b[0m\u001b[0;34m)\u001b[0m\u001b[0;34m.\u001b[0m\u001b[0mmean\u001b[0m\u001b[0;34m(\u001b[0m\u001b[0;34m)\u001b[0m\u001b[0;34m*\u001b[0m\u001b[0;36m100\u001b[0m\u001b[0;34m,\u001b[0m \u001b[0;36m2\u001b[0m\u001b[0;34m)\u001b[0m\u001b[0;34m)\u001b[0m\u001b[0;34m.\u001b[0m\u001b[0mstyle\u001b[0m\u001b[0;34m.\u001b[0m\u001b[0mbackground_gradient\u001b[0m\u001b[0;34m(\u001b[0m\u001b[0;34m'coolwarm'\u001b[0m\u001b[0;34m)\u001b[0m\u001b[0;34m\u001b[0m\u001b[0;34m\u001b[0m\u001b[0m\n\u001b[0m",
      "\u001b[0;31mNameError\u001b[0m: name 'pd' is not defined"
     ]
    }
   ],
   "source": [
    "pd.DataFrame(round(data.isna().mean()*100, 2)).style.background_gradient('coolwarm')"
   ]
  },
  {
   "cell_type": "markdown",
   "metadata": {},
   "source": [
    "- Удаляем 2 пропуска в 'name'."
   ]
  },
  {
   "cell_type": "code",
   "execution_count": 11,
   "metadata": {},
   "outputs": [],
   "source": [
    "data = data.dropna(subset=['name'])"
   ]
  },
  {
   "cell_type": "markdown",
   "metadata": {},
   "source": [
    "- В 'year_of_release' пропуски можно удалить, так как их всего 2%."
   ]
  },
  {
   "cell_type": "code",
   "execution_count": 12,
   "metadata": {},
   "outputs": [],
   "source": [
    "data = data.dropna(subset=['year_of_release'])"
   ]
  },
  {
   "cell_type": "markdown",
   "metadata": {},
   "source": [
    "- Удаляем 2 пропуска в 'genre'."
   ]
  },
  {
   "cell_type": "code",
   "execution_count": 13,
   "metadata": {},
   "outputs": [],
   "source": [
    "data = data.dropna(subset=['genre'])"
   ]
  },
  {
   "cell_type": "markdown",
   "metadata": {},
   "source": [
    "В столбце 'critic_score' 8578 пропущенных значений, это больше чем половина от общего количества в этом столбце - 51%. Удаление или замена на медиану может повлиять на итоговый результат. Заменим на -1."
   ]
  },
  {
   "cell_type": "code",
   "execution_count": 14,
   "metadata": {},
   "outputs": [],
   "source": [
    "data['critic_score'] = data['critic_score'].fillna(-1)"
   ]
  },
  {
   "cell_type": "markdown",
   "metadata": {},
   "source": [
    "В столбцах 'user_score ', 'rating' похожая ситуация, только пропусков там по 40% в каждом столбце, также заменим на -1 и 'unknown' соответственно."
   ]
  },
  {
   "cell_type": "code",
   "execution_count": 15,
   "metadata": {},
   "outputs": [],
   "source": [
    "data['user_score'] = data['user_score'].fillna(-1)"
   ]
  },
  {
   "cell_type": "code",
   "execution_count": 16,
   "metadata": {},
   "outputs": [],
   "source": [
    "data['rating'] = data['rating'].fillna(-1)"
   ]
  },
  {
   "cell_type": "code",
   "execution_count": 17,
   "metadata": {},
   "outputs": [
    {
     "data": {
      "text/plain": [
       "name               0\n",
       "platform           0\n",
       "year_of_release    0\n",
       "genre              0\n",
       "na_sales           0\n",
       "eu_sales           0\n",
       "jp_sales           0\n",
       "other_sales        0\n",
       "critic_score       0\n",
       "user_score         0\n",
       "rating             0\n",
       "dtype: int64"
      ]
     },
     "execution_count": 17,
     "metadata": {},
     "output_type": "execute_result"
    }
   ],
   "source": [
    "data.isna().sum() # проверяем еще раз на наличие пропусков."
   ]
  },
  {
   "cell_type": "code",
   "execution_count": 18,
   "metadata": {},
   "outputs": [
    {
     "data": {
      "text/plain": [
       "array(['8', -1, '8.3', '8.5', '6.6', '8.4', '8.6', '7.7', '6.3', '7.4',\n",
       "       '8.2', '9', '7.9', '8.1', '8.7', '7.1', '3.4', '5.3', '4.8', '3.2',\n",
       "       '8.9', '6.4', '7.8', '7.5', '2.6', '7.2', '9.2', '7', '7.3', '4.3',\n",
       "       '7.6', '5.7', '5', '9.1', '6.5', 'tbd', '8.8', '6.9', '9.4', '6.8',\n",
       "       '6.1', '6.7', '5.4', '4', '4.9', '4.5', '9.3', '6.2', '4.2', '6',\n",
       "       '3.7', '4.1', '5.8', '5.6', '5.5', '4.4', '4.6', '5.9', '3.9',\n",
       "       '3.1', '2.9', '5.2', '3.3', '4.7', '5.1', '3.5', '2.5', '1.9', '3',\n",
       "       '2.7', '2.2', '2', '9.5', '2.1', '3.6', '2.8', '1.8', '3.8', '0',\n",
       "       '1.6', '9.6', '2.4', '1.7', '1.1', '0.3', '1.5', '0.7', '1.2',\n",
       "       '2.3', '0.5', '1.3', '0.2', '0.6', '1.4', '0.9', '1', '9.7'],\n",
       "      dtype=object)"
      ]
     },
     "execution_count": 18,
     "metadata": {},
     "output_type": "execute_result"
    }
   ],
   "source": [
    "data['user_score'].unique()"
   ]
  },
  {
   "cell_type": "markdown",
   "metadata": {},
   "source": [
    "В столбце с оценкой пользователей есть уникальное значение 'tbd' - To Be Determined (будет определено), скорее всего это значит, что было собрано недостаточно оценок для формирования рейтинга. Можно сказать что рейтинга нет и в колонке вместо Nan написали 'tbd'. Заменим также на -1."
   ]
  },
  {
   "cell_type": "code",
   "execution_count": 19,
   "metadata": {},
   "outputs": [],
   "source": [
    "data['user_score'] = data['user_score'].replace('tbd', '-2')"
   ]
  },
  {
   "cell_type": "code",
   "execution_count": 20,
   "metadata": {},
   "outputs": [],
   "source": [
    "data['user_score'] = data['user_score'].replace(-1, '-1')"
   ]
  },
  {
   "cell_type": "code",
   "execution_count": 21,
   "metadata": {},
   "outputs": [
    {
     "data": {
      "text/plain": [
       "array(['8', '-1', '8.3', '8.5', '6.6', '8.4', '8.6', '7.7', '6.3', '7.4',\n",
       "       '8.2', '9', '7.9', '8.1', '8.7', '7.1', '3.4', '5.3', '4.8', '3.2',\n",
       "       '8.9', '6.4', '7.8', '7.5', '2.6', '7.2', '9.2', '7', '7.3', '4.3',\n",
       "       '7.6', '5.7', '5', '9.1', '6.5', '-2', '8.8', '6.9', '9.4', '6.8',\n",
       "       '6.1', '6.7', '5.4', '4', '4.9', '4.5', '9.3', '6.2', '4.2', '6',\n",
       "       '3.7', '4.1', '5.8', '5.6', '5.5', '4.4', '4.6', '5.9', '3.9',\n",
       "       '3.1', '2.9', '5.2', '3.3', '4.7', '5.1', '3.5', '2.5', '1.9', '3',\n",
       "       '2.7', '2.2', '2', '9.5', '2.1', '3.6', '2.8', '1.8', '3.8', '0',\n",
       "       '1.6', '9.6', '2.4', '1.7', '1.1', '0.3', '1.5', '0.7', '1.2',\n",
       "       '2.3', '0.5', '1.3', '0.2', '0.6', '1.4', '0.9', '1', '9.7'],\n",
       "      dtype=object)"
      ]
     },
     "execution_count": 21,
     "metadata": {},
     "output_type": "execute_result"
    }
   ],
   "source": [
    "data['user_score'].unique() # проверка результата."
   ]
  },
  {
   "cell_type": "markdown",
   "metadata": {},
   "source": [
    "__2.2.__ Обработка типов данных."
   ]
  },
  {
   "cell_type": "code",
   "execution_count": 22,
   "metadata": {},
   "outputs": [
    {
     "name": "stdout",
     "output_type": "stream",
     "text": [
      "<class 'pandas.core.frame.DataFrame'>\n",
      "Index: 16443 entries, 0 to 16714\n",
      "Data columns (total 11 columns):\n",
      " #   Column           Non-Null Count  Dtype  \n",
      "---  ------           --------------  -----  \n",
      " 0   name             16443 non-null  object \n",
      " 1   platform         16443 non-null  object \n",
      " 2   year_of_release  16443 non-null  float64\n",
      " 3   genre            16443 non-null  object \n",
      " 4   na_sales         16443 non-null  float64\n",
      " 5   eu_sales         16443 non-null  float64\n",
      " 6   jp_sales         16443 non-null  float64\n",
      " 7   other_sales      16443 non-null  float64\n",
      " 8   critic_score     16443 non-null  float64\n",
      " 9   user_score       16443 non-null  object \n",
      " 10  rating           16443 non-null  object \n",
      "dtypes: float64(6), object(5)\n",
      "memory usage: 1.5+ MB\n"
     ]
    }
   ],
   "source": [
    "data.info()"
   ]
  },
  {
   "cell_type": "code",
   "execution_count": 23,
   "metadata": {},
   "outputs": [
    {
     "data": {
      "text/html": [
       "<div>\n",
       "<style scoped>\n",
       "    .dataframe tbody tr th:only-of-type {\n",
       "        vertical-align: middle;\n",
       "    }\n",
       "\n",
       "    .dataframe tbody tr th {\n",
       "        vertical-align: top;\n",
       "    }\n",
       "\n",
       "    .dataframe thead th {\n",
       "        text-align: right;\n",
       "    }\n",
       "</style>\n",
       "<table border=\"1\" class=\"dataframe\">\n",
       "  <thead>\n",
       "    <tr style=\"text-align: right;\">\n",
       "      <th></th>\n",
       "      <th>name</th>\n",
       "      <th>platform</th>\n",
       "      <th>year_of_release</th>\n",
       "      <th>genre</th>\n",
       "      <th>na_sales</th>\n",
       "      <th>eu_sales</th>\n",
       "      <th>jp_sales</th>\n",
       "      <th>other_sales</th>\n",
       "      <th>critic_score</th>\n",
       "      <th>user_score</th>\n",
       "      <th>rating</th>\n",
       "    </tr>\n",
       "  </thead>\n",
       "  <tbody>\n",
       "    <tr>\n",
       "      <th>0</th>\n",
       "      <td>Wii Sports</td>\n",
       "      <td>Wii</td>\n",
       "      <td>2006.0</td>\n",
       "      <td>Sports</td>\n",
       "      <td>41.36</td>\n",
       "      <td>28.96</td>\n",
       "      <td>3.77</td>\n",
       "      <td>8.45</td>\n",
       "      <td>76.0</td>\n",
       "      <td>8</td>\n",
       "      <td>E</td>\n",
       "    </tr>\n",
       "    <tr>\n",
       "      <th>1</th>\n",
       "      <td>Super Mario Bros.</td>\n",
       "      <td>NES</td>\n",
       "      <td>1985.0</td>\n",
       "      <td>Platform</td>\n",
       "      <td>29.08</td>\n",
       "      <td>3.58</td>\n",
       "      <td>6.81</td>\n",
       "      <td>0.77</td>\n",
       "      <td>-1.0</td>\n",
       "      <td>-1</td>\n",
       "      <td>-1</td>\n",
       "    </tr>\n",
       "    <tr>\n",
       "      <th>2</th>\n",
       "      <td>Mario Kart Wii</td>\n",
       "      <td>Wii</td>\n",
       "      <td>2008.0</td>\n",
       "      <td>Racing</td>\n",
       "      <td>15.68</td>\n",
       "      <td>12.76</td>\n",
       "      <td>3.79</td>\n",
       "      <td>3.29</td>\n",
       "      <td>82.0</td>\n",
       "      <td>8.3</td>\n",
       "      <td>E</td>\n",
       "    </tr>\n",
       "    <tr>\n",
       "      <th>3</th>\n",
       "      <td>Wii Sports Resort</td>\n",
       "      <td>Wii</td>\n",
       "      <td>2009.0</td>\n",
       "      <td>Sports</td>\n",
       "      <td>15.61</td>\n",
       "      <td>10.93</td>\n",
       "      <td>3.28</td>\n",
       "      <td>2.95</td>\n",
       "      <td>80.0</td>\n",
       "      <td>8</td>\n",
       "      <td>E</td>\n",
       "    </tr>\n",
       "    <tr>\n",
       "      <th>4</th>\n",
       "      <td>Pokemon Red/Pokemon Blue</td>\n",
       "      <td>GB</td>\n",
       "      <td>1996.0</td>\n",
       "      <td>Role-Playing</td>\n",
       "      <td>11.27</td>\n",
       "      <td>8.89</td>\n",
       "      <td>10.22</td>\n",
       "      <td>1.00</td>\n",
       "      <td>-1.0</td>\n",
       "      <td>-1</td>\n",
       "      <td>-1</td>\n",
       "    </tr>\n",
       "  </tbody>\n",
       "</table>\n",
       "</div>"
      ],
      "text/plain": [
       "                       name platform  year_of_release         genre  na_sales  \\\n",
       "0                Wii Sports      Wii           2006.0        Sports     41.36   \n",
       "1         Super Mario Bros.      NES           1985.0      Platform     29.08   \n",
       "2            Mario Kart Wii      Wii           2008.0        Racing     15.68   \n",
       "3         Wii Sports Resort      Wii           2009.0        Sports     15.61   \n",
       "4  Pokemon Red/Pokemon Blue       GB           1996.0  Role-Playing     11.27   \n",
       "\n",
       "   eu_sales  jp_sales  other_sales  critic_score user_score rating  \n",
       "0     28.96      3.77         8.45          76.0          8      E  \n",
       "1      3.58      6.81         0.77          -1.0         -1     -1  \n",
       "2     12.76      3.79         3.29          82.0        8.3      E  \n",
       "3     10.93      3.28         2.95          80.0          8      E  \n",
       "4      8.89     10.22         1.00          -1.0         -1     -1  "
      ]
     },
     "execution_count": 23,
     "metadata": {},
     "output_type": "execute_result"
    }
   ],
   "source": [
    "data.head()"
   ]
  },
  {
   "cell_type": "code",
   "execution_count": 24,
   "metadata": {},
   "outputs": [
    {
     "data": {
      "text/plain": [
       "array([76., -1., 82., 80., 89., 58., 87., 91., 61., 97., 95., 77., 88.,\n",
       "       83., 94., 93., 85., 86., 98., 96., 90., 84., 73., 74., 78., 92.,\n",
       "       71., 72., 68., 62., 49., 67., 81., 66., 56., 79., 70., 59., 64.,\n",
       "       75., 60., 63., 69., 50., 25., 42., 44., 55., 48., 57., 29., 47.,\n",
       "       65., 54., 20., 53., 37., 38., 33., 52., 30., 32., 43., 45., 51.,\n",
       "       40., 46., 39., 34., 41., 36., 31., 27., 35., 26., 19., 28., 23.,\n",
       "       24., 21., 17., 13.])"
      ]
     },
     "execution_count": 24,
     "metadata": {},
     "output_type": "execute_result"
    }
   ],
   "source": [
    "data['critic_score'].unique()"
   ]
  },
  {
   "cell_type": "markdown",
   "metadata": {},
   "source": [
    "Видим, что в столбце с оценкой критиков, значения без десятых частей, заменим на целочисленный тип."
   ]
  },
  {
   "cell_type": "code",
   "execution_count": 25,
   "metadata": {},
   "outputs": [],
   "source": [
    "data['critic_score'] = data['critic_score'].astype('int')"
   ]
  },
  {
   "cell_type": "markdown",
   "metadata": {},
   "source": [
    "Год выпуска также заменим на integer."
   ]
  },
  {
   "cell_type": "code",
   "execution_count": 26,
   "metadata": {},
   "outputs": [],
   "source": [
    "data['year_of_release'] = data['year_of_release'].astype('int')"
   ]
  },
  {
   "cell_type": "markdown",
   "metadata": {},
   "source": [
    "Тип данных в user_score заменим на float."
   ]
  },
  {
   "cell_type": "code",
   "execution_count": 27,
   "metadata": {},
   "outputs": [],
   "source": [
    "data['user_score'] = data['user_score'].astype('float')"
   ]
  },
  {
   "cell_type": "code",
   "execution_count": 28,
   "metadata": {},
   "outputs": [
    {
     "data": {
      "text/plain": [
       "array([76, -1, 82, 80, 89, 58, 87, 91, 61, 97, 95, 77, 88, 83, 94, 93, 85,\n",
       "       86, 98, 96, 90, 84, 73, 74, 78, 92, 71, 72, 68, 62, 49, 67, 81, 66,\n",
       "       56, 79, 70, 59, 64, 75, 60, 63, 69, 50, 25, 42, 44, 55, 48, 57, 29,\n",
       "       47, 65, 54, 20, 53, 37, 38, 33, 52, 30, 32, 43, 45, 51, 40, 46, 39,\n",
       "       34, 41, 36, 31, 27, 35, 26, 19, 28, 23, 24, 21, 17, 13])"
      ]
     },
     "execution_count": 28,
     "metadata": {},
     "output_type": "execute_result"
    }
   ],
   "source": [
    "data['critic_score'].unique() # проверка."
   ]
  },
  {
   "cell_type": "code",
   "execution_count": 29,
   "metadata": {},
   "outputs": [
    {
     "name": "stdout",
     "output_type": "stream",
     "text": [
      "<class 'pandas.core.frame.DataFrame'>\n",
      "Index: 16443 entries, 0 to 16714\n",
      "Data columns (total 11 columns):\n",
      " #   Column           Non-Null Count  Dtype  \n",
      "---  ------           --------------  -----  \n",
      " 0   name             16443 non-null  object \n",
      " 1   platform         16443 non-null  object \n",
      " 2   year_of_release  16443 non-null  int64  \n",
      " 3   genre            16443 non-null  object \n",
      " 4   na_sales         16443 non-null  float64\n",
      " 5   eu_sales         16443 non-null  float64\n",
      " 6   jp_sales         16443 non-null  float64\n",
      " 7   other_sales      16443 non-null  float64\n",
      " 8   critic_score     16443 non-null  int64  \n",
      " 9   user_score       16443 non-null  float64\n",
      " 10  rating           16443 non-null  object \n",
      "dtypes: float64(5), int64(2), object(4)\n",
      "memory usage: 1.5+ MB\n"
     ]
    }
   ],
   "source": [
    "data.info()"
   ]
  },
  {
   "cell_type": "markdown",
   "metadata": {},
   "source": [
    "__2.3.__ Посчитаем суммарные продажи во всех регионах и запишем их в отдельный столбец total_sales."
   ]
  },
  {
   "cell_type": "code",
   "execution_count": 30,
   "metadata": {},
   "outputs": [],
   "source": [
    "data['total_sales'] = data[['na_sales', 'eu_sales', 'jp_sales', 'other_sales' ]].sum(axis=1)"
   ]
  },
  {
   "cell_type": "code",
   "execution_count": 31,
   "metadata": {},
   "outputs": [
    {
     "data": {
      "text/html": [
       "<div>\n",
       "<style scoped>\n",
       "    .dataframe tbody tr th:only-of-type {\n",
       "        vertical-align: middle;\n",
       "    }\n",
       "\n",
       "    .dataframe tbody tr th {\n",
       "        vertical-align: top;\n",
       "    }\n",
       "\n",
       "    .dataframe thead th {\n",
       "        text-align: right;\n",
       "    }\n",
       "</style>\n",
       "<table border=\"1\" class=\"dataframe\">\n",
       "  <thead>\n",
       "    <tr style=\"text-align: right;\">\n",
       "      <th></th>\n",
       "      <th>name</th>\n",
       "      <th>platform</th>\n",
       "      <th>year_of_release</th>\n",
       "      <th>genre</th>\n",
       "      <th>na_sales</th>\n",
       "      <th>eu_sales</th>\n",
       "      <th>jp_sales</th>\n",
       "      <th>other_sales</th>\n",
       "      <th>critic_score</th>\n",
       "      <th>user_score</th>\n",
       "      <th>rating</th>\n",
       "      <th>total_sales</th>\n",
       "    </tr>\n",
       "  </thead>\n",
       "  <tbody>\n",
       "    <tr>\n",
       "      <th>0</th>\n",
       "      <td>Wii Sports</td>\n",
       "      <td>Wii</td>\n",
       "      <td>2006</td>\n",
       "      <td>Sports</td>\n",
       "      <td>41.36</td>\n",
       "      <td>28.96</td>\n",
       "      <td>3.77</td>\n",
       "      <td>8.45</td>\n",
       "      <td>76</td>\n",
       "      <td>8.0</td>\n",
       "      <td>E</td>\n",
       "      <td>82.54</td>\n",
       "    </tr>\n",
       "    <tr>\n",
       "      <th>1</th>\n",
       "      <td>Super Mario Bros.</td>\n",
       "      <td>NES</td>\n",
       "      <td>1985</td>\n",
       "      <td>Platform</td>\n",
       "      <td>29.08</td>\n",
       "      <td>3.58</td>\n",
       "      <td>6.81</td>\n",
       "      <td>0.77</td>\n",
       "      <td>-1</td>\n",
       "      <td>-1.0</td>\n",
       "      <td>-1</td>\n",
       "      <td>40.24</td>\n",
       "    </tr>\n",
       "    <tr>\n",
       "      <th>2</th>\n",
       "      <td>Mario Kart Wii</td>\n",
       "      <td>Wii</td>\n",
       "      <td>2008</td>\n",
       "      <td>Racing</td>\n",
       "      <td>15.68</td>\n",
       "      <td>12.76</td>\n",
       "      <td>3.79</td>\n",
       "      <td>3.29</td>\n",
       "      <td>82</td>\n",
       "      <td>8.3</td>\n",
       "      <td>E</td>\n",
       "      <td>35.52</td>\n",
       "    </tr>\n",
       "    <tr>\n",
       "      <th>3</th>\n",
       "      <td>Wii Sports Resort</td>\n",
       "      <td>Wii</td>\n",
       "      <td>2009</td>\n",
       "      <td>Sports</td>\n",
       "      <td>15.61</td>\n",
       "      <td>10.93</td>\n",
       "      <td>3.28</td>\n",
       "      <td>2.95</td>\n",
       "      <td>80</td>\n",
       "      <td>8.0</td>\n",
       "      <td>E</td>\n",
       "      <td>32.77</td>\n",
       "    </tr>\n",
       "    <tr>\n",
       "      <th>4</th>\n",
       "      <td>Pokemon Red/Pokemon Blue</td>\n",
       "      <td>GB</td>\n",
       "      <td>1996</td>\n",
       "      <td>Role-Playing</td>\n",
       "      <td>11.27</td>\n",
       "      <td>8.89</td>\n",
       "      <td>10.22</td>\n",
       "      <td>1.00</td>\n",
       "      <td>-1</td>\n",
       "      <td>-1.0</td>\n",
       "      <td>-1</td>\n",
       "      <td>31.38</td>\n",
       "    </tr>\n",
       "  </tbody>\n",
       "</table>\n",
       "</div>"
      ],
      "text/plain": [
       "                       name platform  year_of_release         genre  na_sales  \\\n",
       "0                Wii Sports      Wii             2006        Sports     41.36   \n",
       "1         Super Mario Bros.      NES             1985      Platform     29.08   \n",
       "2            Mario Kart Wii      Wii             2008        Racing     15.68   \n",
       "3         Wii Sports Resort      Wii             2009        Sports     15.61   \n",
       "4  Pokemon Red/Pokemon Blue       GB             1996  Role-Playing     11.27   \n",
       "\n",
       "   eu_sales  jp_sales  other_sales  critic_score  user_score rating  \\\n",
       "0     28.96      3.77         8.45            76         8.0      E   \n",
       "1      3.58      6.81         0.77            -1        -1.0     -1   \n",
       "2     12.76      3.79         3.29            82         8.3      E   \n",
       "3     10.93      3.28         2.95            80         8.0      E   \n",
       "4      8.89     10.22         1.00            -1        -1.0     -1   \n",
       "\n",
       "   total_sales  \n",
       "0        82.54  \n",
       "1        40.24  \n",
       "2        35.52  \n",
       "3        32.77  \n",
       "4        31.38  "
      ]
     },
     "execution_count": 31,
     "metadata": {},
     "output_type": "execute_result"
    }
   ],
   "source": [
    "data.head()"
   ]
  },
  {
   "cell_type": "markdown",
   "metadata": {},
   "source": [
    "Вывод по предобработке данных:\n",
    "- названия столбцов были приведены к нижнему регистру;\n",
    "- в столбцах 'name', 'year_of_release', 'genre', 'critic_score', 'user_score', 'rating' были исправлены ошибки связанные с пропусками и заменены на значения в соотвествии с данными в столбцах.\n",
    "- был найден и удален один явный дубликат.\n",
    "- столбцы 'critic_score' и 'year_of_release' приведены к целочисленному типу, а 'user_score' к вещественному.\n",
    "- были посчитаны суммарные пртодажи по регионам и записаны в столбец 'total_sales'.\n",
    "\n",
    "Причины появления пропусков:\n",
    "- недостоверность ифнормации или её отсутствие.\n",
    "- человеческий фактор\n",
    "- в столбцах с рейтингом возможен недобор необходимого числа для создания рейтинга."
   ]
  },
  {
   "cell_type": "markdown",
   "metadata": {},
   "source": [
    "__Шаг 3.__ Исследовательский анализ данных."
   ]
  },
  {
   "cell_type": "markdown",
   "metadata": {},
   "source": [
    "__3.1.__ Посмотрим, сколько игр выпускалось в разные годы."
   ]
  },
  {
   "cell_type": "code",
   "execution_count": 32,
   "metadata": {},
   "outputs": [
    {
     "data": {
      "text/plain": [
       "count    16443.000000\n",
       "mean      2006.485921\n",
       "std          5.875546\n",
       "min       1980.000000\n",
       "25%       2003.000000\n",
       "50%       2007.000000\n",
       "75%       2010.000000\n",
       "max       2016.000000\n",
       "Name: year_of_release, dtype: float64"
      ]
     },
     "execution_count": 32,
     "metadata": {},
     "output_type": "execute_result"
    }
   ],
   "source": [
    "data['year_of_release'].describe()"
   ]
  },
  {
   "cell_type": "code",
   "execution_count": 33,
   "metadata": {},
   "outputs": [
    {
     "data": {
      "image/png": "[encoded data removed]",
      "text/plain": [
       "<Figure size 1440x360 with 1 Axes>"
      ]
     },
     "metadata": {
      "needs_background": "light"
     },
     "output_type": "display_data"
    }
   ],
   "source": [
    "(\n",
    "    data.pivot_table(index='year_of_release', values='name', aggfunc='count')\n",
    "    .plot(kind='bar' , grid=True, figsize=(20, 5))\n",
    ")\n",
    "plt.title('График зависимости количества игр по годам')\n",
    "plt.xlabel('Год')\n",
    "plt.ylabel('Количество игр')\n",
    "plt.show()"
   ]
  },
  {
   "cell_type": "markdown",
   "metadata": {},
   "source": [
    "По графику видим что с течением лет растет количество игр.\n",
    "- с 1994 года активно начинает развиваться игровая индустрия.\n",
    "- пик приходится на 2008 год. Связано это с тем что в этом году игры начинают выпускаться с 3Д графикой, а также с выпуском культовых серий игр, таких как GTA IV, Fallout 3, World of Warvraft  и т.д.\n",
    "- после 2009 года видим спад, так как технологии уже не так активно развиваются, качество игр падает."
   ]
  },
  {
   "cell_type": "markdown",
   "metadata": {},
   "source": [
    "__3.2.__ Посмотрите, как менялись продажи по платформам. Выберите платформы с наибольшими суммарными продажами и постройте распределение по годам."
   ]
  },
  {
   "cell_type": "code",
   "execution_count": 34,
   "metadata": {},
   "outputs": [
    {
     "data": {
      "image/png": "[encoded data removed]",
      "text/plain": [
       "<Figure size 720x360 with 1 Axes>"
      ]
     },
     "metadata": {
      "needs_background": "light"
     },
     "output_type": "display_data"
    }
   ],
   "source": [
    "(\n",
    "    data.pivot_table(index='platform', values='total_sales', aggfunc='sum')\n",
    "    .sort_values(by='total_sales', ascending=False)\n",
    "    .plot(kind='bar' , grid=True, figsize=(10, 5))\n",
    ")\n",
    "plt.title('График зависимости количества продаж игр в от платформы')\n",
    "plt.xlabel('Платформа')\n",
    "plt.ylabel('Продажи')\n",
    "plt.show()"
   ]
  },
  {
   "cell_type": "markdown",
   "metadata": {},
   "source": [
    "По графику видно, что у платформ PS2, XBOX 360, PS3, Wii, DS, PS больше всех продаж."
   ]
  },
  {
   "cell_type": "markdown",
   "metadata": {},
   "source": [
    "__3.3.__ Возьмем данные за соответствующий актуальный период. Для этого проанализируем жизненный цикл топ 6 консолей."
   ]
  },
  {
   "cell_type": "code",
   "execution_count": 35,
   "metadata": {},
   "outputs": [
    {
     "data": {
      "text/plain": [
       "['PS2', 'X360', 'PS3', 'Wii', 'DS', 'PS']"
      ]
     },
     "execution_count": 35,
     "metadata": {},
     "output_type": "execute_result"
    }
   ],
   "source": [
    "top_six_platforms = data.pivot_table(index='platform', values='total_sales', aggfunc='sum').sort_values(by='total_sales', ascending=False).reset_index().head(6)['platform'].tolist()\n",
    "top_six_platforms"
   ]
  },
  {
   "cell_type": "code",
   "execution_count": 36,
   "metadata": {
    "scrolled": false
   },
   "outputs": [
    {
     "data": {
      "image/png": "[encoded data removed]",
      "text/plain": [
       "<Figure size 1080x360 with 1 Axes>"
      ]
     },
     "metadata": {
      "needs_background": "light"
     },
     "output_type": "display_data"
    },
    {
     "data": {
      "image/png": "[encoded data removed]",
      "text/plain": [
       "<Figure size 1080x360 with 1 Axes>"
      ]
     },
     "metadata": {
      "needs_background": "light"
     },
     "output_type": "display_data"
    },
    {
     "data": {
      "image/png": "[encoded data removed]",
      "text/plain": [
       "<Figure size 1080x360 with 1 Axes>"
      ]
     },
     "metadata": {
      "needs_background": "light"
     },
     "output_type": "display_data"
    },
    {
     "data": {
      "image/png": "[encoded data removed]",
      "text/plain": [
       "<Figure size 1080x360 with 1 Axes>"
      ]
     },
     "metadata": {
      "needs_background": "light"
     },
     "output_type": "display_data"
    },
    {
     "data": {
      "image/png": "[encoded data removed]",
      "text/plain": [
       "<Figure size 1080x360 with 1 Axes>"
      ]
     },
     "metadata": {
      "needs_background": "light"
     },
     "output_type": "display_data"
    },
    {
     "data": {
      "image/png": "[encoded data removed]",
      "text/plain": [
       "<Figure size 1080x360 with 1 Axes>"
      ]
     },
     "metadata": {
      "needs_background": "light"
     },
     "output_type": "display_data"
    }
   ],
   "source": [
    "for name in top_six_platforms:\n",
    "    (\n",
    "        data.query('platform == @name and year_of_release > -1')\n",
    "        .pivot_table(index='year_of_release', values='total_sales', aggfunc = 'sum')\n",
    "        .sort_values(by='year_of_release', ascending = False)['total_sales']\n",
    "        .plot(figsize = (15, 5))\n",
    "    )\n",
    "    plt.title(f'Продажи по годам платформы {name}')\n",
    "    plt.xlabel('Год')\n",
    "    plt.ylabel('Суммарные продажи')\n",
    "    plt.legend() \n",
    "    plt.show()"
   ]
  },
  {
   "cell_type": "markdown",
   "metadata": {},
   "source": [
    "На графиках видно что от начала роста до конца спада продаж проходит в среднем 10 лет."
   ]
  },
  {
   "cell_type": "markdown",
   "metadata": {},
   "source": [
    "Опеределим актуальный период:"
   ]
  },
  {
   "cell_type": "code",
   "execution_count": 37,
   "metadata": {},
   "outputs": [
    {
     "data": {
      "text/html": [
       "<div>\n",
       "<style scoped>\n",
       "    .dataframe tbody tr th:only-of-type {\n",
       "        vertical-align: middle;\n",
       "    }\n",
       "\n",
       "    .dataframe tbody tr th {\n",
       "        vertical-align: top;\n",
       "    }\n",
       "\n",
       "    .dataframe thead tr th {\n",
       "        text-align: left;\n",
       "    }\n",
       "\n",
       "    .dataframe thead tr:last-of-type th {\n",
       "        text-align: right;\n",
       "    }\n",
       "</style>\n",
       "<table border=\"1\" class=\"dataframe\">\n",
       "  <thead>\n",
       "    <tr>\n",
       "      <th></th>\n",
       "      <th>min</th>\n",
       "      <th>max</th>\n",
       "    </tr>\n",
       "    <tr>\n",
       "      <th></th>\n",
       "      <th>year_of_release</th>\n",
       "      <th>year_of_release</th>\n",
       "    </tr>\n",
       "    <tr>\n",
       "      <th>platform</th>\n",
       "      <th></th>\n",
       "      <th></th>\n",
       "    </tr>\n",
       "  </thead>\n",
       "  <tbody>\n",
       "    <tr>\n",
       "      <th>2600</th>\n",
       "      <td>1980</td>\n",
       "      <td>1989</td>\n",
       "    </tr>\n",
       "    <tr>\n",
       "      <th>3DO</th>\n",
       "      <td>1994</td>\n",
       "      <td>1995</td>\n",
       "    </tr>\n",
       "    <tr>\n",
       "      <th>3DS</th>\n",
       "      <td>2011</td>\n",
       "      <td>2016</td>\n",
       "    </tr>\n",
       "    <tr>\n",
       "      <th>DC</th>\n",
       "      <td>1998</td>\n",
       "      <td>2008</td>\n",
       "    </tr>\n",
       "    <tr>\n",
       "      <th>DS</th>\n",
       "      <td>1985</td>\n",
       "      <td>2013</td>\n",
       "    </tr>\n",
       "  </tbody>\n",
       "</table>\n",
       "</div>"
      ],
      "text/plain": [
       "                     min             max\n",
       "         year_of_release year_of_release\n",
       "platform                                \n",
       "2600                1980            1989\n",
       "3DO                 1994            1995\n",
       "3DS                 2011            2016\n",
       "DC                  1998            2008\n",
       "DS                  1985            2013"
      ]
     },
     "execution_count": 37,
     "metadata": {},
     "output_type": "execute_result"
    }
   ],
   "source": [
    "time_life = data.pivot_table(index='platform', values='year_of_release', aggfunc=['min', 'max'])\n",
    "time_life.head()"
   ]
  },
  {
   "cell_type": "code",
   "execution_count": 38,
   "metadata": {},
   "outputs": [],
   "source": [
    "# чтобы не терять год, прибавим единицу.\n",
    "time_life['life'] = time_life['max'] - time_life['min'] + 1"
   ]
  },
  {
   "cell_type": "markdown",
   "metadata": {},
   "source": [
    "Актуальным периодом можно считать первую половину жизненного цикла консолей, то есть от начала продаж до пика, включая его."
   ]
  },
  {
   "cell_type": "code",
   "execution_count": 39,
   "metadata": {},
   "outputs": [
    {
     "name": "stdout",
     "output_type": "stream",
     "text": [
      "Актуальный период соствляет 4 года\n"
     ]
    }
   ],
   "source": [
    "current_period = np.ceil(time_life['life'].median()/2).astype(int)\n",
    "print('Актуальный период соствляет', current_period, 'года')"
   ]
  },
  {
   "cell_type": "markdown",
   "metadata": {},
   "source": [
    "Вывод:\n",
    "- Жизненный цикл консолей, то есть период от начала до спада продаж составляет 10 лет.\n",
    "- В ходе исследования выяснили, что актуальный период составляет 4 года."
   ]
  },
  {
   "cell_type": "markdown",
   "metadata": {},
   "source": [
    "__3.4.__ Определим какие платформы являются более или менее перспективными."
   ]
  },
  {
   "cell_type": "code",
   "execution_count": 40,
   "metadata": {},
   "outputs": [
    {
     "data": {
      "text/plain": [
       "['PS4', 'PS3', 'X360', '3DS', 'XOne', 'WiiU', 'PC', 'PSV', 'Wii', 'DS']"
      ]
     },
     "execution_count": 40,
     "metadata": {},
     "output_type": "execute_result"
    }
   ],
   "source": [
    "promising_platforms = (\n",
    "    data.query('year_of_release >= 2012')\n",
    "    .pivot_table(index='platform', values='total_sales', aggfunc='sum')\n",
    "    .sort_values(by='total_sales', ascending=False)\n",
    "    .reset_index()\n",
    "    .head(10)['platform']\n",
    "    .tolist()\n",
    "                      )\n",
    "promising_platforms"
   ]
  },
  {
   "cell_type": "code",
   "execution_count": 41,
   "metadata": {},
   "outputs": [
    {
     "data": {
      "text/html": [
       "<div>\n",
       "<style scoped>\n",
       "    .dataframe tbody tr th:only-of-type {\n",
       "        vertical-align: middle;\n",
       "    }\n",
       "\n",
       "    .dataframe tbody tr th {\n",
       "        vertical-align: top;\n",
       "    }\n",
       "\n",
       "    .dataframe thead th {\n",
       "        text-align: right;\n",
       "    }\n",
       "</style>\n",
       "<table border=\"1\" class=\"dataframe\">\n",
       "  <thead>\n",
       "    <tr style=\"text-align: right;\">\n",
       "      <th></th>\n",
       "      <th>name</th>\n",
       "      <th>platform</th>\n",
       "      <th>year_of_release</th>\n",
       "      <th>genre</th>\n",
       "      <th>na_sales</th>\n",
       "      <th>eu_sales</th>\n",
       "      <th>jp_sales</th>\n",
       "      <th>other_sales</th>\n",
       "      <th>critic_score</th>\n",
       "      <th>user_score</th>\n",
       "      <th>rating</th>\n",
       "      <th>total_sales</th>\n",
       "    </tr>\n",
       "  </thead>\n",
       "  <tbody>\n",
       "    <tr>\n",
       "      <th>16</th>\n",
       "      <td>Grand Theft Auto V</td>\n",
       "      <td>PS3</td>\n",
       "      <td>2013</td>\n",
       "      <td>Action</td>\n",
       "      <td>7.02</td>\n",
       "      <td>9.09</td>\n",
       "      <td>0.98</td>\n",
       "      <td>3.96</td>\n",
       "      <td>97</td>\n",
       "      <td>8.2</td>\n",
       "      <td>M</td>\n",
       "      <td>21.05</td>\n",
       "    </tr>\n",
       "    <tr>\n",
       "      <th>23</th>\n",
       "      <td>Grand Theft Auto V</td>\n",
       "      <td>X360</td>\n",
       "      <td>2013</td>\n",
       "      <td>Action</td>\n",
       "      <td>9.66</td>\n",
       "      <td>5.14</td>\n",
       "      <td>0.06</td>\n",
       "      <td>1.41</td>\n",
       "      <td>97</td>\n",
       "      <td>8.1</td>\n",
       "      <td>M</td>\n",
       "      <td>16.27</td>\n",
       "    </tr>\n",
       "    <tr>\n",
       "      <th>31</th>\n",
       "      <td>Call of Duty: Black Ops 3</td>\n",
       "      <td>PS4</td>\n",
       "      <td>2015</td>\n",
       "      <td>Shooter</td>\n",
       "      <td>6.03</td>\n",
       "      <td>5.86</td>\n",
       "      <td>0.36</td>\n",
       "      <td>2.38</td>\n",
       "      <td>-1</td>\n",
       "      <td>-1.0</td>\n",
       "      <td>-1</td>\n",
       "      <td>14.63</td>\n",
       "    </tr>\n",
       "    <tr>\n",
       "      <th>33</th>\n",
       "      <td>Pokemon X/Pokemon Y</td>\n",
       "      <td>3DS</td>\n",
       "      <td>2013</td>\n",
       "      <td>Role-Playing</td>\n",
       "      <td>5.28</td>\n",
       "      <td>4.19</td>\n",
       "      <td>4.35</td>\n",
       "      <td>0.78</td>\n",
       "      <td>-1</td>\n",
       "      <td>-1.0</td>\n",
       "      <td>-1</td>\n",
       "      <td>14.60</td>\n",
       "    </tr>\n",
       "    <tr>\n",
       "      <th>34</th>\n",
       "      <td>Call of Duty: Black Ops II</td>\n",
       "      <td>PS3</td>\n",
       "      <td>2012</td>\n",
       "      <td>Shooter</td>\n",
       "      <td>4.99</td>\n",
       "      <td>5.73</td>\n",
       "      <td>0.65</td>\n",
       "      <td>2.42</td>\n",
       "      <td>83</td>\n",
       "      <td>5.3</td>\n",
       "      <td>M</td>\n",
       "      <td>13.79</td>\n",
       "    </tr>\n",
       "  </tbody>\n",
       "</table>\n",
       "</div>"
      ],
      "text/plain": [
       "                          name platform  year_of_release         genre  \\\n",
       "16          Grand Theft Auto V      PS3             2013        Action   \n",
       "23          Grand Theft Auto V     X360             2013        Action   \n",
       "31   Call of Duty: Black Ops 3      PS4             2015       Shooter   \n",
       "33         Pokemon X/Pokemon Y      3DS             2013  Role-Playing   \n",
       "34  Call of Duty: Black Ops II      PS3             2012       Shooter   \n",
       "\n",
       "    na_sales  eu_sales  jp_sales  other_sales  critic_score  user_score  \\\n",
       "16      7.02      9.09      0.98         3.96            97         8.2   \n",
       "23      9.66      5.14      0.06         1.41            97         8.1   \n",
       "31      6.03      5.86      0.36         2.38            -1        -1.0   \n",
       "33      5.28      4.19      4.35         0.78            -1        -1.0   \n",
       "34      4.99      5.73      0.65         2.42            83         5.3   \n",
       "\n",
       "   rating  total_sales  \n",
       "16      M        21.05  \n",
       "23      M        16.27  \n",
       "31     -1        14.63  \n",
       "33     -1        14.60  \n",
       "34      M        13.79  "
      ]
     },
     "execution_count": 41,
     "metadata": {},
     "output_type": "execute_result"
    }
   ],
   "source": [
    "promising_data = data.query('year_of_release >= 2012')\n",
    "promising_data.head()"
   ]
  },
  {
   "cell_type": "code",
   "execution_count": 42,
   "metadata": {},
   "outputs": [
    {
     "data": {
      "image/png": "[encoded data removed]",
      "text/plain": [
       "<Figure size 720x360 with 1 Axes>"
      ]
     },
     "metadata": {
      "needs_background": "light"
     },
     "output_type": "display_data"
    }
   ],
   "source": [
    "for name in promising_platforms:\n",
    "    (\n",
    "    promising_data.query('platform == @name')\n",
    "    .pivot_table(index = 'year_of_release', values = 'total_sales', aggfunc = 'sum')\n",
    "    .sort_values('year_of_release', ascending = False)['total_sales']\n",
    "    .plot(kind='line', figsize = (10, 5), label=name)\n",
    "    )\n",
    "    plt.title('Жизненный цикл платформ за актуальный период')\n",
    "    plt.xlabel('Год')\n",
    "    plt.ylabel('Продажи')\n",
    "    plt.legend()"
   ]
  },
  {
   "cell_type": "markdown",
   "metadata": {},
   "source": [
    "Вывод:\n",
    "- по графику видно, что за последние 4 года продажи у всех платформ падают, кроме PS4 и XBOX ONE. Но и у этих двух платформ с 2015 года продажи тоже начали снижаться."
   ]
  },
  {
   "cell_type": "markdown",
   "metadata": {},
   "source": [
    "__3.5.__ Построим график «ящик с усами» по глобальным продажам игр в разбивке по платформам."
   ]
  },
  {
   "cell_type": "code",
   "execution_count": 43,
   "metadata": {},
   "outputs": [
    {
     "data": {
      "text/plain": [
       "Text(0, 0.5, 'Продажи по платформам')"
      ]
     },
     "execution_count": 43,
     "metadata": {},
     "output_type": "execute_result"
    },
    {
     "data": {
      "image/png": "[encoded data removed]",
      "text/plain": [
       "<Figure size 720x1080 with 1 Axes>"
      ]
     },
     "metadata": {
      "needs_background": "light"
     },
     "output_type": "display_data"
    }
   ],
   "source": [
    "plt.figure(figsize=(10,15))\n",
    "sns.boxplot(data=promising_data, x='platform', y='total_sales').set(ylim=(0,2))\n",
    "plt.title('Ящик с усами по продажам в зависимости от платформы')\n",
    "plt.xlabel('Платформа')\n",
    "plt.ylabel('Продажи по платформам')"
   ]
  },
  {
   "cell_type": "code",
   "execution_count": 44,
   "metadata": {},
   "outputs": [
    {
     "data": {
      "text/plain": [
       "count    2885.000000\n",
       "mean        0.501393\n",
       "std         1.249340\n",
       "min         0.010000\n",
       "25%         0.040000\n",
       "50%         0.120000\n",
       "75%         0.430000\n",
       "max        21.050000\n",
       "Name: total_sales, dtype: float64"
      ]
     },
     "execution_count": 44,
     "metadata": {},
     "output_type": "execute_result"
    }
   ],
   "source": [
    "promising_data['total_sales'].describe()"
   ]
  },
  {
   "cell_type": "markdown",
   "metadata": {},
   "source": [
    "По ящикам с усами видно:\n",
    "- у всех платформ есть выбросы по продажам.\n",
    "- межквартильный размах сильно подвержен разбросу.\n",
    "- у всех платформ большая часть значений больше медианного.\n",
    "- 10000% влияние на выбросы оказывают так называемые эксклюзивы, которые продаются гораздо лучше."
   ]
  },
  {
   "cell_type": "markdown",
   "metadata": {},
   "source": [
    "__3.6.__ Посмотрим, как влияют на продажи отзывы пользователей и критиков. Построим диаграмму рассеяния и посчитаем корреляцию между отзывами и продажами. Для анализа возьмем топ 5 платформ по продажам."
   ]
  },
  {
   "cell_type": "code",
   "execution_count": 45,
   "metadata": {},
   "outputs": [
    {
     "data": {
      "text/plain": [
       "['PS4', 'PS3', 'X360', '3DS', 'XOne']"
      ]
     },
     "execution_count": 45,
     "metadata": {},
     "output_type": "execute_result"
    }
   ],
   "source": [
    "top_five_sale_platforms = (promising_data\n",
    "    \n",
    "    .pivot_table(index='platform', values='total_sales', aggfunc='sum')\n",
    "    .sort_values(by='total_sales', ascending=False)\n",
    "    .reset_index().head(5)['platform'].tolist()\n",
    ")                      \n",
    "top_five_sale_platforms"
   ]
  },
  {
   "cell_type": "code",
   "execution_count": 46,
   "metadata": {
    "scrolled": false
   },
   "outputs": [
    {
     "name": "stdout",
     "output_type": "stream",
     "text": [
      "Корреляция между оценками пользователей и продажами по платформе PS4  = -0.031957110204556376\n"
     ]
    },
    {
     "data": {
      "image/png": "[encoded data removed]",
      "text/plain": [
       "<Figure size 720x360 with 1 Axes>"
      ]
     },
     "metadata": {
      "needs_background": "light"
     },
     "output_type": "display_data"
    },
    {
     "name": "stdout",
     "output_type": "stream",
     "text": [
      "Корреляция между оценками пользователей и продажами по платформе PS3  = -0.006205767686051523\n"
     ]
    },
    {
     "data": {
      "image/png": "[encoded data removed]",
      "text/plain": [
       "<Figure size 720x360 with 1 Axes>"
      ]
     },
     "metadata": {
      "needs_background": "light"
     },
     "output_type": "display_data"
    },
    {
     "name": "stdout",
     "output_type": "stream",
     "text": [
      "Корреляция между оценками пользователей и продажами по платформе X360  = 0.006163978646213326\n"
     ]
    },
    {
     "data": {
      "image/png": "[encoded data removed]",
      "text/plain": [
       "<Figure size 720x360 with 1 Axes>"
      ]
     },
     "metadata": {
      "needs_background": "light"
     },
     "output_type": "display_data"
    },
    {
     "name": "stdout",
     "output_type": "stream",
     "text": [
      "Корреляция между оценками пользователей и продажами по платформе 3DS  = 0.19758263411038599\n"
     ]
    },
    {
     "data": {
      "image/png": "[encoded data removed]",
      "text/plain": [
       "<Figure size 720x360 with 1 Axes>"
      ]
     },
     "metadata": {
      "needs_background": "light"
     },
     "output_type": "display_data"
    },
    {
     "name": "stdout",
     "output_type": "stream",
     "text": [
      "Корреляция между оценками пользователей и продажами по платформе XOne  = -0.06892505328279414\n"
     ]
    },
    {
     "data": {
      "image/png": "[encoded data removed]",
      "text/plain": [
       "<Figure size 720x360 with 1 Axes>"
      ]
     },
     "metadata": {
      "needs_background": "light"
     },
     "output_type": "display_data"
    }
   ],
   "source": [
    "for name in top_five_sale_platforms:\n",
    "    (\n",
    "    promising_data\n",
    "        .query('platform == @name and user_score > -1')\n",
    "        .plot(x='user_score', \n",
    "          y='total_sales', \n",
    "          kind='scatter', \n",
    "          figsize=(10, 5)) \n",
    "    )\n",
    "    plt.title(f'Диаграмма распределения между оценками пользователей и продажами по платформе {name}')\n",
    "    plt.xlabel('Оценка пользователей')\n",
    "    plt.ylabel('Продажи')\n",
    "    plt.legend([name])\n",
    "    print(f'Корреляция между оценками пользователей и продажами по платформе {name}  =', promising_data.query('platform == @name and user_score > -1')['user_score'].corr(promising_data.query('platform == @name and user_score > -1')['total_sales']))\n",
    "    plt.show()"
   ]
  },
  {
   "cell_type": "markdown",
   "metadata": {},
   "source": [
    "Видим слабую связь между оценками пользователей и приставками. В случае с консолью 3DS корреляция составляет почти 0.2."
   ]
  },
  {
   "cell_type": "markdown",
   "metadata": {},
   "source": [
    "Теперь построим диаграммы рассеивания для оценок критиков и продаж по платформе."
   ]
  },
  {
   "cell_type": "code",
   "execution_count": 47,
   "metadata": {
    "scrolled": false
   },
   "outputs": [
    {
     "name": "stdout",
     "output_type": "stream",
     "text": [
      "Корреляция между оценками критиков и продажами по платформе PS4  = 0.40656790206178095\n"
     ]
    },
    {
     "data": {
      "image/png": "[encoded data removed]",
      "text/plain": [
       "<Figure size 720x360 with 1 Axes>"
      ]
     },
     "metadata": {
      "needs_background": "light"
     },
     "output_type": "display_data"
    },
    {
     "name": "stdout",
     "output_type": "stream",
     "text": [
      "Корреляция между оценками критиков и продажами по платформе PS3  = 0.3341517575509856\n"
     ]
    },
    {
     "data": {
      "image/png": "[encoded data removed]",
      "text/plain": [
       "<Figure size 720x360 with 1 Axes>"
      ]
     },
     "metadata": {
      "needs_background": "light"
     },
     "output_type": "display_data"
    },
    {
     "name": "stdout",
     "output_type": "stream",
     "text": [
      "Корреляция между оценками критиков и продажами по платформе X360  = 0.3605734888507336\n"
     ]
    },
    {
     "data": {
      "image/png": "[encoded data removed]",
      "text/plain": [
       "<Figure size 720x360 with 1 Axes>"
      ]
     },
     "metadata": {
      "needs_background": "light"
     },
     "output_type": "display_data"
    },
    {
     "name": "stdout",
     "output_type": "stream",
     "text": [
      "Корреляция между оценками критиков и продажами по платформе 3DS  = 0.3208028695360785\n"
     ]
    },
    {
     "data": {
      "image/png": "[encoded data removed]",
      "text/plain": [
       "<Figure size 720x360 with 1 Axes>"
      ]
     },
     "metadata": {
      "needs_background": "light"
     },
     "output_type": "display_data"
    },
    {
     "name": "stdout",
     "output_type": "stream",
     "text": [
      "Корреляция между оценками критиков и продажами по платформе XOne  = 0.4169983280084017\n"
     ]
    },
    {
     "data": {
      "image/png": "[encoded data removed]",
      "text/plain": [
       "<Figure size 720x360 with 1 Axes>"
      ]
     },
     "metadata": {
      "needs_background": "light"
     },
     "output_type": "display_data"
    }
   ],
   "source": [
    "for name in top_five_sale_platforms:\n",
    "    (\n",
    "    promising_data\n",
    "        .query('platform == @name and critic_score > -1')\n",
    "        .plot(x='critic_score', \n",
    "          y='total_sales', \n",
    "          kind='scatter', \n",
    "          figsize=(10, 5)) \n",
    "    )\n",
    "    plt.title(f'Диаграмма распределения между оценками критиков и продажами по платформе {name}')\n",
    "    plt.xlabel('Оценка пользователей')\n",
    "    plt.ylabel('Продажи')\n",
    "    plt.legend([name])\n",
    "    print(f'Корреляция между оценками критиков и продажами по платформе {name}  =', promising_data.query('platform == @name and critic_score > -1')['critic_score'].corr(promising_data.query('platform == @name and critic_score > -1')['total_sales']))\n",
    "    plt.show()"
   ]
  },
  {
   "cell_type": "markdown",
   "metadata": {},
   "source": [
    "Здесь видим более сильную связь. Самая высокая корреляция у XOne - почти 0.42."
   ]
  },
  {
   "cell_type": "markdown",
   "metadata": {},
   "source": [
    "Анализ графиков распределения и коэффициенты корреляции показывают нам что:\n",
    "- зависимости между оценками пользователей и продажами почти нет, кроме платформы 3DS, там корреляция - 0.2.\n",
    "- между оценками критиков и продажами прослеживается явная связь, корреляция лежит в диапазоне от 32 до 42."
   ]
  },
  {
   "cell_type": "markdown",
   "metadata": {},
   "source": [
    "__3.7.__ Посмотрим на общее распределение игр по жанрам. Узнаем, что можно сказать о самых прибыльных жанрах."
   ]
  },
  {
   "cell_type": "code",
   "execution_count": 48,
   "metadata": {},
   "outputs": [
    {
     "data": {
      "image/png": "[encoded data removed]",
      "text/plain": [
       "<Figure size 720x360 with 1 Axes>"
      ]
     },
     "metadata": {
      "needs_background": "light"
     },
     "output_type": "display_data"
    }
   ],
   "source": [
    "(\n",
    "    promising_data.\n",
    "    query('year_of_release >= 2012').\n",
    "    pivot_table(index='genre', values='total_sales', aggfunc='sum').\n",
    "    sort_values('total_sales', ascending=False).\n",
    "    plot(kind='bar', y='total_sales', figsize=(10, 5))\n",
    ")\n",
    "plt.ylabel('Количество продаж')\n",
    "plt.xlabel('Жанр игры')\n",
    "plt.title('Прибыльность по жанрам')\n",
    "plt.show()"
   ]
  },
  {
   "cell_type": "code",
   "execution_count": 49,
   "metadata": {},
   "outputs": [
    {
     "data": {
      "text/plain": [
       "Text(0, 0.5, 'Продажи по жанрам')"
      ]
     },
     "execution_count": 49,
     "metadata": {},
     "output_type": "execute_result"
    },
    {
     "data": {
      "image/png": "[encoded data removed]",
      "text/plain": [
       "<Figure size 864x432 with 1 Axes>"
      ]
     },
     "metadata": {
      "needs_background": "light"
     },
     "output_type": "display_data"
    }
   ],
   "source": [
    "plt.figure(figsize=(12,6))\n",
    "ax = sns.boxplot(data=promising_data, x='genre', y='total_sales')\n",
    "ax.set(ylim=(0,1.8))\n",
    "plt.title(' Ящик с усами по прибыльности жанров', fontsize=15)\n",
    "plt.xlabel('Жанр', fontsize=12)\n",
    "plt.ylabel('Продажи по жанрам',fontsize=12)"
   ]
  },
  {
   "cell_type": "code",
   "execution_count": 50,
   "metadata": {},
   "outputs": [
    {
     "data": {
      "text/html": [
       "<div>\n",
       "<style scoped>\n",
       "    .dataframe tbody tr th:only-of-type {\n",
       "        vertical-align: middle;\n",
       "    }\n",
       "\n",
       "    .dataframe tbody tr th {\n",
       "        vertical-align: top;\n",
       "    }\n",
       "\n",
       "    .dataframe thead th {\n",
       "        text-align: right;\n",
       "    }\n",
       "</style>\n",
       "<table border=\"1\" class=\"dataframe\">\n",
       "  <thead>\n",
       "    <tr style=\"text-align: right;\">\n",
       "      <th></th>\n",
       "      <th>total_sales</th>\n",
       "    </tr>\n",
       "    <tr>\n",
       "      <th>genre</th>\n",
       "      <th></th>\n",
       "    </tr>\n",
       "  </thead>\n",
       "  <tbody>\n",
       "    <tr>\n",
       "      <th>Shooter</th>\n",
       "      <td>0.440</td>\n",
       "    </tr>\n",
       "    <tr>\n",
       "      <th>Sports</th>\n",
       "      <td>0.240</td>\n",
       "    </tr>\n",
       "    <tr>\n",
       "      <th>Platform</th>\n",
       "      <td>0.210</td>\n",
       "    </tr>\n",
       "    <tr>\n",
       "      <th>Role-Playing</th>\n",
       "      <td>0.140</td>\n",
       "    </tr>\n",
       "    <tr>\n",
       "      <th>Racing</th>\n",
       "      <td>0.140</td>\n",
       "    </tr>\n",
       "    <tr>\n",
       "      <th>Fighting</th>\n",
       "      <td>0.130</td>\n",
       "    </tr>\n",
       "    <tr>\n",
       "      <th>Action</th>\n",
       "      <td>0.120</td>\n",
       "    </tr>\n",
       "    <tr>\n",
       "      <th>Misc</th>\n",
       "      <td>0.120</td>\n",
       "    </tr>\n",
       "    <tr>\n",
       "      <th>Simulation</th>\n",
       "      <td>0.120</td>\n",
       "    </tr>\n",
       "    <tr>\n",
       "      <th>Strategy</th>\n",
       "      <td>0.080</td>\n",
       "    </tr>\n",
       "    <tr>\n",
       "      <th>Puzzle</th>\n",
       "      <td>0.045</td>\n",
       "    </tr>\n",
       "    <tr>\n",
       "      <th>Adventure</th>\n",
       "      <td>0.030</td>\n",
       "    </tr>\n",
       "  </tbody>\n",
       "</table>\n",
       "</div>"
      ],
      "text/plain": [
       "              total_sales\n",
       "genre                    \n",
       "Shooter             0.440\n",
       "Sports              0.240\n",
       "Platform            0.210\n",
       "Role-Playing        0.140\n",
       "Racing              0.140\n",
       "Fighting            0.130\n",
       "Action              0.120\n",
       "Misc                0.120\n",
       "Simulation          0.120\n",
       "Strategy            0.080\n",
       "Puzzle              0.045\n",
       "Adventure           0.030"
      ]
     },
     "execution_count": 50,
     "metadata": {},
     "output_type": "execute_result"
    }
   ],
   "source": [
    "(\n",
    " promising_data\n",
    " .pivot_table(index='genre', values='total_sales', aggfunc='median')\n",
    " .sort_values('total_sales', ascending=False)\n",
    ")"
   ]
  },
  {
   "cell_type": "markdown",
   "metadata": {},
   "source": [
    "По графику видно что самыми продаваемыми были игры в жанре action, следом идут шутеры, самый скромный это жанр puzzle.\n",
    "\n",
    "Однако игры в жанре action приносят прибыль в основном с эксклюзивов, которые выпускаются отнюдь не регулярно. Более стабильные игры это шутеры и спортивные. У шутеров самая большая медиана."
   ]
  },
  {
   "cell_type": "markdown",
   "metadata": {},
   "source": [
    "Итоги исследовательского анализа:\n",
    "- с течением лет растет количество игр.\n",
    "- с 1994 года активно начинает развиваться игровая индустрия.\n",
    "- пик приходится на 2008 год. Связано это с тем что в этом году игры начинают выпускаться с 3Д графикой, а также с выпуском культовых серий игр, таких как GTA IV, Fallout 3, World of Warvraft  и т.д.\n",
    "- после 2009 года видим спад, так как технологии уже не так активно развиваются, качество игр падает.\n",
    "\n",
    "- У платформ PS2, XBOX 360, PS3, Wii, DS, PS больше всех продаж.\n",
    "- Жизненный цикл консолей, то есть период от начала до спада продаж составляет 10 лет.\n",
    "- В ходе исследования выяснили, что актуальный период составляет 4 года.\n",
    "\n",
    "- за последние 4 года продажи у всех платформ падают, кроме PS4 и XBOX ONE. Но и у этих двух платформ с 2015 года продажи тоже начали снижаться.\n",
    "\n",
    "- у всех платформ есть выбросы по продажам.\n",
    "- межквартильный размах сильно подвержен разбросу.\n",
    "\n",
    "Анализ графиков распределения и коэффициенты корреляции показывают нам что:\n",
    "- зависимости между оценками пользователей и продажами почти нет, кроме платформы 3DS, там корреляция - 0.2.\n",
    "- между оценками критиков и продажами прослеживается явная связь, корреляция лежит в диапазоне от 32 до 42.\n",
    "\n",
    "Самыми продаваемыми были игры в жанре action, следом идут шутеры, самый скромный это жанр puzzle.\n",
    "Однако игры в жанре action приносят прибыль в основном с эксклюзивов, которые выпускаются отнюдь не регулярно. Более стабильные игры это шутеры и спортивные. У шутеров самая большая медиана."
   ]
  },
  {
   "cell_type": "markdown",
   "metadata": {},
   "source": [
    "__Шаг 4.__ Составим портрет пользователя каждого региона."
   ]
  },
  {
   "cell_type": "markdown",
   "metadata": {},
   "source": [
    "__4.1.__ Самые популярные платформы (топ-5)."
   ]
  },
  {
   "cell_type": "code",
   "execution_count": 51,
   "metadata": {},
   "outputs": [],
   "source": [
    "top_na = promising_data.pivot_table(index='platform', values='na_sales', aggfunc='sum').sort_values(by='na_sales', ascending=False).head()\n",
    "top_eu = promising_data.pivot_table(index='platform', values='eu_sales', aggfunc='sum').sort_values(by='eu_sales', ascending=False).head()\n",
    "top_jp = promising_data.pivot_table(index='platform', values='jp_sales', aggfunc='sum').sort_values(by='jp_sales', ascending=False).head()"
   ]
  },
  {
   "cell_type": "code",
   "execution_count": 52,
   "metadata": {},
   "outputs": [
    {
     "data": {
      "text/html": [
       "<div>\n",
       "<style scoped>\n",
       "    .dataframe tbody tr th:only-of-type {\n",
       "        vertical-align: middle;\n",
       "    }\n",
       "\n",
       "    .dataframe tbody tr th {\n",
       "        vertical-align: top;\n",
       "    }\n",
       "\n",
       "    .dataframe thead th {\n",
       "        text-align: right;\n",
       "    }\n",
       "</style>\n",
       "<table border=\"1\" class=\"dataframe\">\n",
       "  <thead>\n",
       "    <tr style=\"text-align: right;\">\n",
       "      <th></th>\n",
       "      <th>na_sales</th>\n",
       "    </tr>\n",
       "    <tr>\n",
       "      <th>platform</th>\n",
       "      <th></th>\n",
       "    </tr>\n",
       "  </thead>\n",
       "  <tbody>\n",
       "    <tr>\n",
       "      <th>X360</th>\n",
       "      <td>140.05</td>\n",
       "    </tr>\n",
       "    <tr>\n",
       "      <th>PS4</th>\n",
       "      <td>108.74</td>\n",
       "    </tr>\n",
       "    <tr>\n",
       "      <th>PS3</th>\n",
       "      <td>103.38</td>\n",
       "    </tr>\n",
       "    <tr>\n",
       "      <th>XOne</th>\n",
       "      <td>93.12</td>\n",
       "    </tr>\n",
       "    <tr>\n",
       "      <th>3DS</th>\n",
       "      <td>55.31</td>\n",
       "    </tr>\n",
       "  </tbody>\n",
       "</table>\n",
       "</div>"
      ],
      "text/plain": [
       "          na_sales\n",
       "platform          \n",
       "X360        140.05\n",
       "PS4         108.74\n",
       "PS3         103.38\n",
       "XOne         93.12\n",
       "3DS          55.31"
      ]
     },
     "execution_count": 52,
     "metadata": {},
     "output_type": "execute_result"
    }
   ],
   "source": [
    "top_na"
   ]
  },
  {
   "cell_type": "code",
   "execution_count": 53,
   "metadata": {},
   "outputs": [
    {
     "data": {
      "text/plain": [
       "<AxesSubplot:title={'center':'Доля платформы в продаже в Северной Америке'}, ylabel='na_sales'>"
      ]
     },
     "execution_count": 53,
     "metadata": {},
     "output_type": "execute_result"
    },
    {
     "data": {
      "image/png": "[encoded data removed]",
      "text/plain": [
       "<Figure size 360x360 with 1 Axes>"
      ]
     },
     "metadata": {},
     "output_type": "display_data"
    }
   ],
   "source": [
    "top_na.plot.pie(\n",
    "    y='na_sales',\n",
    "    figsize=(5, 5),\n",
    "    title='Доля платформы в продаже в Северной Америке',\n",
    "    autopct='%1.1f%%',\n",
    "    startangle=45)"
   ]
  },
  {
   "cell_type": "code",
   "execution_count": 54,
   "metadata": {},
   "outputs": [
    {
     "data": {
      "text/html": [
       "<div>\n",
       "<style scoped>\n",
       "    .dataframe tbody tr th:only-of-type {\n",
       "        vertical-align: middle;\n",
       "    }\n",
       "\n",
       "    .dataframe tbody tr th {\n",
       "        vertical-align: top;\n",
       "    }\n",
       "\n",
       "    .dataframe thead th {\n",
       "        text-align: right;\n",
       "    }\n",
       "</style>\n",
       "<table border=\"1\" class=\"dataframe\">\n",
       "  <thead>\n",
       "    <tr style=\"text-align: right;\">\n",
       "      <th></th>\n",
       "      <th>eu_sales</th>\n",
       "    </tr>\n",
       "    <tr>\n",
       "      <th>platform</th>\n",
       "      <th></th>\n",
       "    </tr>\n",
       "  </thead>\n",
       "  <tbody>\n",
       "    <tr>\n",
       "      <th>PS4</th>\n",
       "      <td>141.09</td>\n",
       "    </tr>\n",
       "    <tr>\n",
       "      <th>PS3</th>\n",
       "      <td>106.85</td>\n",
       "    </tr>\n",
       "    <tr>\n",
       "      <th>X360</th>\n",
       "      <td>74.52</td>\n",
       "    </tr>\n",
       "    <tr>\n",
       "      <th>XOne</th>\n",
       "      <td>51.59</td>\n",
       "    </tr>\n",
       "    <tr>\n",
       "      <th>3DS</th>\n",
       "      <td>42.64</td>\n",
       "    </tr>\n",
       "  </tbody>\n",
       "</table>\n",
       "</div>"
      ],
      "text/plain": [
       "          eu_sales\n",
       "platform          \n",
       "PS4         141.09\n",
       "PS3         106.85\n",
       "X360         74.52\n",
       "XOne         51.59\n",
       "3DS          42.64"
      ]
     },
     "execution_count": 54,
     "metadata": {},
     "output_type": "execute_result"
    }
   ],
   "source": [
    "top_eu"
   ]
  },
  {
   "cell_type": "code",
   "execution_count": 55,
   "metadata": {},
   "outputs": [
    {
     "data": {
      "text/plain": [
       "<AxesSubplot:title={'center':'Доля платформы в продаже в Европе'}, ylabel='eu_sales'>"
      ]
     },
     "execution_count": 55,
     "metadata": {},
     "output_type": "execute_result"
    },
    {
     "data": {
      "image/png": "[encoded data removed]",
      "text/plain": [
       "<Figure size 360x360 with 1 Axes>"
      ]
     },
     "metadata": {},
     "output_type": "display_data"
    }
   ],
   "source": [
    "top_eu.plot.pie(\n",
    "    y='eu_sales',\n",
    "    figsize=(5, 5),\n",
    "    title='Доля платформы в продаже в Европе',\n",
    "    autopct='%1.1f%%',\n",
    "    startangle=45)"
   ]
  },
  {
   "cell_type": "code",
   "execution_count": 56,
   "metadata": {},
   "outputs": [
    {
     "data": {
      "text/html": [
       "<div>\n",
       "<style scoped>\n",
       "    .dataframe tbody tr th:only-of-type {\n",
       "        vertical-align: middle;\n",
       "    }\n",
       "\n",
       "    .dataframe tbody tr th {\n",
       "        vertical-align: top;\n",
       "    }\n",
       "\n",
       "    .dataframe thead th {\n",
       "        text-align: right;\n",
       "    }\n",
       "</style>\n",
       "<table border=\"1\" class=\"dataframe\">\n",
       "  <thead>\n",
       "    <tr style=\"text-align: right;\">\n",
       "      <th></th>\n",
       "      <th>jp_sales</th>\n",
       "    </tr>\n",
       "    <tr>\n",
       "      <th>platform</th>\n",
       "      <th></th>\n",
       "    </tr>\n",
       "  </thead>\n",
       "  <tbody>\n",
       "    <tr>\n",
       "      <th>3DS</th>\n",
       "      <td>87.79</td>\n",
       "    </tr>\n",
       "    <tr>\n",
       "      <th>PS3</th>\n",
       "      <td>35.29</td>\n",
       "    </tr>\n",
       "    <tr>\n",
       "      <th>PSV</th>\n",
       "      <td>21.04</td>\n",
       "    </tr>\n",
       "    <tr>\n",
       "      <th>PS4</th>\n",
       "      <td>15.96</td>\n",
       "    </tr>\n",
       "    <tr>\n",
       "      <th>WiiU</th>\n",
       "      <td>13.01</td>\n",
       "    </tr>\n",
       "  </tbody>\n",
       "</table>\n",
       "</div>"
      ],
      "text/plain": [
       "          jp_sales\n",
       "platform          \n",
       "3DS          87.79\n",
       "PS3          35.29\n",
       "PSV          21.04\n",
       "PS4          15.96\n",
       "WiiU         13.01"
      ]
     },
     "execution_count": 56,
     "metadata": {},
     "output_type": "execute_result"
    }
   ],
   "source": [
    "top_jp"
   ]
  },
  {
   "cell_type": "code",
   "execution_count": 57,
   "metadata": {},
   "outputs": [
    {
     "data": {
      "text/plain": [
       "<AxesSubplot:title={'center':'Доля платформы в продаже в Японии'}, ylabel='jp_sales'>"
      ]
     },
     "execution_count": 57,
     "metadata": {},
     "output_type": "execute_result"
    },
    {
     "data": {
      "image/png": "[encoded data removed]",
      "text/plain": [
       "<Figure size 360x360 with 1 Axes>"
      ]
     },
     "metadata": {},
     "output_type": "display_data"
    }
   ],
   "source": [
    "top_jp.plot.pie(\n",
    "    y='jp_sales',\n",
    "    figsize=(5, 5),\n",
    "    title='Доля платформы в продаже в Японии',\n",
    "    autopct='%1.1f%%',\n",
    "    startangle=45)"
   ]
  },
  {
   "cell_type": "markdown",
   "metadata": {},
   "source": [
    "- В Северной Америке наибольшим спросом пользуется XBOX 360, наименее полулярна 3DS.\n",
    "- В Европе же наоборот, больше пользуются PS4, 3DS также неактуальна.\n",
    "- В Японии 3DS занимает больше чем половину рынка, следом PS3"
   ]
  },
  {
   "cell_type": "markdown",
   "metadata": {},
   "source": [
    "__4.2.__ Самые популярные жанры (топ-5)."
   ]
  },
  {
   "cell_type": "code",
   "execution_count": 58,
   "metadata": {},
   "outputs": [],
   "source": [
    "na_genre = promising_data.groupby('genre').agg({'na_sales': 'sum'}).sort_values(by='na_sales', ascending=False).head()\n",
    "eu_genre = promising_data.groupby('genre').agg({'eu_sales': 'sum'}).sort_values(by='eu_sales', ascending=False).head()\n",
    "jp_genre = promising_data.groupby('genre').agg({'jp_sales': 'sum'}).sort_values(by='jp_sales', ascending=False).head()"
   ]
  },
  {
   "cell_type": "code",
   "execution_count": 59,
   "metadata": {},
   "outputs": [
    {
     "data": {
      "text/plain": [
       "<function matplotlib.pyplot.show(close=None, block=None)>"
      ]
     },
     "execution_count": 59,
     "metadata": {},
     "output_type": "execute_result"
    },
    {
     "data": {
      "image/png": "[encoded data removed]",
      "text/plain": [
       "<Figure size 720x360 with 1 Axes>"
      ]
     },
     "metadata": {
      "needs_background": "light"
     },
     "output_type": "display_data"
    }
   ],
   "source": [
    "na_genre.plot(kind='bar', grid=True, figsize=(10,5))\n",
    "plt.title('Рейтинг жанров в Северной Америке')\n",
    "plt.xlabel('Жанр')\n",
    "plt.ylabel('Количество игр')\n",
    "plt.show"
   ]
  },
  {
   "cell_type": "code",
   "execution_count": 60,
   "metadata": {},
   "outputs": [
    {
     "data": {
      "text/plain": [
       "<function matplotlib.pyplot.show(close=None, block=None)>"
      ]
     },
     "execution_count": 60,
     "metadata": {},
     "output_type": "execute_result"
    },
    {
     "data": {
      "image/png": "[encoded data removed]",
      "text/plain": [
       "<Figure size 720x360 with 1 Axes>"
      ]
     },
     "metadata": {
      "needs_background": "light"
     },
     "output_type": "display_data"
    }
   ],
   "source": [
    "eu_genre.plot(kind='bar', grid=True, figsize=(10,5))\n",
    "plt.title('Рейтинг жанров в Европе')\n",
    "plt.xlabel('Жанр')\n",
    "plt.ylabel('Количество игр')\n",
    "plt.show"
   ]
  },
  {
   "cell_type": "code",
   "execution_count": 61,
   "metadata": {},
   "outputs": [
    {
     "data": {
      "text/plain": [
       "<function matplotlib.pyplot.show(close=None, block=None)>"
      ]
     },
     "execution_count": 61,
     "metadata": {},
     "output_type": "execute_result"
    },
    {
     "data": {
      "image/png": "[encoded data removed]",
      "text/plain": [
       "<Figure size 720x360 with 1 Axes>"
      ]
     },
     "metadata": {
      "needs_background": "light"
     },
     "output_type": "display_data"
    }
   ],
   "source": [
    "jp_genre.plot(kind='bar', grid=True, figsize=(10,5))\n",
    "plt.title('Рейтинг жанров в Японии')\n",
    "plt.xlabel('Жанр')\n",
    "plt.ylabel('Количество игр')\n",
    "plt.show"
   ]
  },
  {
   "cell_type": "markdown",
   "metadata": {},
   "source": [
    "- В Северной Америке в основном играют в шутеры и экшены.\n",
    "- В Европе аналогично как и в Америке.\n",
    "- В Японии же людям больше по вкусу ролевые игры."
   ]
  },
  {
   "cell_type": "markdown",
   "metadata": {},
   "source": [
    "__4.3.__ Узнаем влияет ли рейтинг ESRB на продажи в отдельном регионе."
   ]
  },
  {
   "cell_type": "code",
   "execution_count": 62,
   "metadata": {},
   "outputs": [],
   "source": [
    "na_esrb = promising_data.groupby('rating').agg({'na_sales': 'sum'}).sort_values(by='na_sales', ascending=False).head()\n",
    "eu_esrb = promising_data.groupby('rating').agg({'eu_sales': 'sum'}).sort_values(by='eu_sales', ascending=False).head()\n",
    "jp_esrb = promising_data.groupby('rating').agg({'jp_sales': 'sum'}).sort_values(by='jp_sales', ascending=False).head()"
   ]
  },
  {
   "cell_type": "code",
   "execution_count": 63,
   "metadata": {},
   "outputs": [
    {
     "data": {
      "text/plain": [
       "<function matplotlib.pyplot.show(close=None, block=None)>"
      ]
     },
     "execution_count": 63,
     "metadata": {},
     "output_type": "execute_result"
    },
    {
     "data": {
      "image/png": "[encoded data removed]",
      "text/plain": [
       "<Figure size 720x360 with 1 Axes>"
      ]
     },
     "metadata": {
      "needs_background": "light"
     },
     "output_type": "display_data"
    }
   ],
   "source": [
    "na_esrb.plot(kind='bar', grid=True, figsize=(10,5))\n",
    "plt.title('Возрастной рейтинг игр в Северной Америке')\n",
    "plt.xlabel('Рейтинг')\n",
    "plt.ylabel('Количество игр')\n",
    "plt.show"
   ]
  },
  {
   "cell_type": "code",
   "execution_count": 64,
   "metadata": {},
   "outputs": [
    {
     "data": {
      "text/plain": [
       "<function matplotlib.pyplot.show(close=None, block=None)>"
      ]
     },
     "execution_count": 64,
     "metadata": {},
     "output_type": "execute_result"
    },
    {
     "data": {
      "image/png": "[encoded data removed]",
      "text/plain": [
       "<Figure size 720x360 with 1 Axes>"
      ]
     },
     "metadata": {
      "needs_background": "light"
     },
     "output_type": "display_data"
    }
   ],
   "source": [
    "eu_esrb.plot(kind='bar', grid=True, figsize=(10,5))\n",
    "plt.title('Возрастной рейтинг игр в Европе')\n",
    "plt.xlabel('Рейтинг')\n",
    "plt.ylabel('Количество игр')\n",
    "plt.show"
   ]
  },
  {
   "cell_type": "code",
   "execution_count": 65,
   "metadata": {},
   "outputs": [
    {
     "data": {
      "text/plain": [
       "<function matplotlib.pyplot.show(close=None, block=None)>"
      ]
     },
     "execution_count": 65,
     "metadata": {},
     "output_type": "execute_result"
    },
    {
     "data": {
      "image/png": "[encoded data removed]",
      "text/plain": [
       "<Figure size 720x360 with 1 Axes>"
      ]
     },
     "metadata": {
      "needs_background": "light"
     },
     "output_type": "display_data"
    }
   ],
   "source": [
    "jp_esrb.plot(kind='bar', grid=True, figsize=(10,5))\n",
    "plt.title('Возрастной рейтинг игр в Японии')\n",
    "plt.xlabel('Рейтинг')\n",
    "plt.ylabel('Количество игр')\n",
    "plt.show"
   ]
  },
  {
   "cell_type": "markdown",
   "metadata": {},
   "source": [
    "- В Северной Америке статистика возрастного рейтинга игр одинаковая: больше всего игр в категории 'М', меньше всего 'Т'.\n",
    "- В Японии же игр с неопределенным рейтингом больше всего. Скорее всего эти игры ожидают своей категории."
   ]
  },
  {
   "cell_type": "markdown",
   "metadata": {},
   "source": [
    "Портреты пользователей в каждом регионе:\n",
    "- Североамериканец в основном играет в шутеры и action-игры с рейтингом 'Mature' на XBOX 360.\n",
    "- В Европе большинство играет также в шутеры и action-игры с рейтингом 'не младже 17 лет', но уже на PS4 или PS3.\n",
    "- Японцы больше любят играть в ролевые игры с неопределенным рейтингом на 3DS. "
   ]
  },
  {
   "cell_type": "markdown",
   "metadata": {},
   "source": [
    "__Шаг 5.__ Проверим гипотезы"
   ]
  },
  {
   "cell_type": "markdown",
   "metadata": {},
   "source": [
    "__5.1__ Средние пользовательские рейтинги платформ Xbox One и PC одинаковые."
   ]
  },
  {
   "cell_type": "markdown",
   "metadata": {},
   "source": [
    "- Ho - Средние пользовательские рейтинги платформ Xbox One и PC равны.\n",
    "- H1 - Средние пользовательские рейтинги платформ Xbox One и PC не равны."
   ]
  },
  {
   "cell_type": "code",
   "execution_count": 66,
   "metadata": {},
   "outputs": [
    {
     "name": "stdout",
     "output_type": "stream",
     "text": [
      "p-значение: 0.5535080500643661\n",
      "Не получилось отвергнуть нулевую гипотезу\n"
     ]
    }
   ],
   "source": [
    "xbox_one = promising_data.query(\"platform == 'XOne' and user_score > 0\")['user_score']\n",
    "pc = promising_data.query(\"platform == 'PC' and user_score > 0\")['user_score']\n",
    "results = st.ttest_ind(xbox_one, pc, alternative='two-sided')\n",
    "alpha = 0.05\n",
    "print('p-значение:', results.pvalue)\n",
    "if results.pvalue < alpha:\n",
    "    print('Отвергаем нулевую гипотезу')\n",
    "else:\n",
    "    print('Не получилось отвергнуть нулевую гипотезу')"
   ]
  },
  {
   "cell_type": "markdown",
   "metadata": {},
   "source": [
    "Вывод: по результатам теста не получилось отвергнуть нулевую гипотезу, есть основания полагать, что средние пользовательские рейтинги платформ Xbox One и PC равны."
   ]
  },
  {
   "cell_type": "markdown",
   "metadata": {},
   "source": [
    "__5.2__ Средние пользовательские рейтинги жанров Action (англ. «действие», экшен-игры) и Sports (англ. «спортивные соревнования») разные."
   ]
  },
  {
   "cell_type": "markdown",
   "metadata": {},
   "source": [
    "- Ho - Средние пользовательские рейтинги жанров Action и Sports равны.\n",
    "- H1 - Средние пользовательские рейтинги жанров Action и Sports не равны."
   ]
  },
  {
   "cell_type": "code",
   "execution_count": 67,
   "metadata": {},
   "outputs": [
    {
     "name": "stdout",
     "output_type": "stream",
     "text": [
      "p-значение: 4.8045233804629176e-26\n",
      "Отвергаем нулевую гипотезу\n"
     ]
    }
   ],
   "source": [
    "act = promising_data.query('genre == \"Action\" and user_score > 0')['user_score']\n",
    "sport = promising_data.query('genre == \"Sports\" and user_score > 0')['user_score']\n",
    "results = st.ttest_ind(act, sport, alternative='two-sided')\n",
    "alpha = 0.05\n",
    "print('p-значение:', results.pvalue)\n",
    "if results.pvalue < alpha:\n",
    "    print('Отвергаем нулевую гипотезу')\n",
    "else:\n",
    "    print('Не получилось отвергнуть нулевую гипотезу')"
   ]
  },
  {
   "cell_type": "markdown",
   "metadata": {},
   "source": [
    "Вывод: по результатам теста отвергаем нулевую гипотезу, есть основания полагать, что средние пользовательские рейтинги жанров Action и Sports разные."
   ]
  },
  {
   "cell_type": "markdown",
   "metadata": {},
   "source": [
    "__Шаг 6.__ Общий вывод:"
   ]
  },
  {
   "cell_type": "markdown",
   "metadata": {},
   "source": [
    "__В ходе предобработки данных было сделано следующее:__\n",
    "- названия столбцов были приведены к нижнему регистру;\n",
    "- в столбцах 'name', 'year_of_release', 'genre', 'critic_score', 'user_score', 'rating' были исправлены ошибки связанные с пропусками и заменены на значения в соотвествии с данными в столбцах.\n",
    "- был найден удален один явный дубликат.\n",
    "- столбцы 'critic_score' и 'year_of_release' приведены к целочисленному типу, а 'user_score' к вещественному.\n",
    "- были посчитаны суммарные пртодажи по регионам и записаны в столбец 'total_sales'.\n",
    "\n",
    "__Исследовательский анализ показал:__\n",
    "- с течением лет растет количество игр.\n",
    "- с 1994 года активно начинает развиваться игровая индустрия.\n",
    "- пик приходится на 2008 год. Связано это с тем что в этом году игры начинают выпускаться с 3Д графикой, а также с выпуском культовых серий игр, таких как GTA IV, Fallout 3, World of Warvraft  и т.д.\n",
    "- после 2009 года видим спад, так как технологии уже не так активно развиваются, качество игр падает.\n",
    "\n",
    "- У платформ PS2, XBOX 360, PS3, Wii, DS, PS больше всех продаж.\n",
    "- Жизненный цикл консолей, то есть период от начала до спада продаж составляет 10 лет.\n",
    "- В ходе исследования выяснили, что актуальный период составляет 4 года.\n",
    "\n",
    "- за последние 4 года продажи у всех платформ падают, кроме PS4 и XBOX ONE. Но и у этих двух платформ с 2015 года продажи тоже начали снижаться.\n",
    "\n",
    "- у всех платформ есть выбросы по продажам.\n",
    "- межквартильный размах сильно подвержен разбросу.\n",
    "\n",
    "Анализ графиков распределения и коэффициенты корреляции показывают нам что:\n",
    "- зависимости между оценками пользователей и продажами почти нет, кроме платформы 3DS, там корреляция - 0.2.\n",
    "- между оценками критиков и продажами прослеживается явная связь, корреляция лежит в диапазоне от 32 до 42.\n",
    "\n",
    "Самыми продаваемыми были игры в жанре action, следом идут шутеры, самый скромный это жанр puzzle.\n",
    "Однако игры в жанре action приносят прибыль в основном с эксклюзивов, которые выпускаются отнюдь не регулярно. Более стабильные игры это шутеры и спортивные. У шутеров самая большая медиана.\n",
    "\n",
    "__Портреты пользователей в каждом регионе:__\n",
    "- Североамериканец в основном играет в шутеры и action-игры с рейтингом 'Mature' на XBOX 360.\n",
    "- В Европе большинство играет также в шутеры и action-игры с рейтингом 'не младже 17 лет', но уже на PS4 или PS3.\n",
    "- Японцы больше любят играть в ролевые игры с неопределенным рейтингом на 3DS. \n",
    "\n",
    "__Проверка гипотез:__\n",
    "- средние пользовательские рейтинги платформ Xbox One и PC равны.\n",
    "- средние пользовательские рейтинги жанров Action и Sports разные.\n",
    "\n",
    "__Рекомендации:__ \n",
    " Для рекламной кампании на 2017 год стоит обратить внимание на платформы PS4 и XBOX ONE для Северной Америке и Европы, а также на 3DS для Японии. Продвижение следует сделать для игр в жанре Action, Sports, Shooter c рейтингом 'Mature' и 'Everyone'."
   ]
  }
 ],
 "metadata": {
  "ExecuteTimeLog": [
   {
    "duration": 57,
    "start_time": "2024-04-10T08:15:31.383Z"
   },
   {
    "duration": 391,
    "start_time": "2024-04-10T08:15:39.238Z"
   },
   {
    "duration": 83,
    "start_time": "2024-04-10T08:16:44.853Z"
   },
   {
    "duration": 119,
    "start_time": "2024-04-10T08:16:59.107Z"
   },
   {
    "duration": 14,
    "start_time": "2024-04-10T08:18:50.594Z"
   },
   {
    "duration": 62,
    "start_time": "2024-04-10T08:26:44.511Z"
   },
   {
    "duration": 464,
    "start_time": "2024-04-10T08:31:57.013Z"
   },
   {
    "duration": 83,
    "start_time": "2024-04-10T08:31:57.479Z"
   },
   {
    "duration": 19,
    "start_time": "2024-04-10T08:31:57.565Z"
   },
   {
    "duration": 15,
    "start_time": "2024-04-10T08:35:46.855Z"
   },
   {
    "duration": 10,
    "start_time": "2024-04-10T08:37:29.045Z"
   },
   {
    "duration": 62,
    "start_time": "2024-04-10T08:41:00.948Z"
   },
   {
    "duration": 364,
    "start_time": "2024-04-10T08:41:17.063Z"
   },
   {
    "duration": 68,
    "start_time": "2024-04-10T08:41:54.478Z"
   },
   {
    "duration": 78,
    "start_time": "2024-04-10T08:42:01.873Z"
   },
   {
    "duration": 430,
    "start_time": "2024-04-10T08:42:32.238Z"
   },
   {
    "duration": 72,
    "start_time": "2024-04-10T08:42:32.670Z"
   },
   {
    "duration": 13,
    "start_time": "2024-04-10T08:42:32.744Z"
   },
   {
    "duration": 20,
    "start_time": "2024-04-10T08:42:32.760Z"
   },
   {
    "duration": 12,
    "start_time": "2024-04-10T08:42:32.782Z"
   },
   {
    "duration": 248,
    "start_time": "2024-04-10T08:42:32.795Z"
   },
   {
    "duration": 4,
    "start_time": "2024-04-10T08:47:11.149Z"
   },
   {
    "duration": 5,
    "start_time": "2024-04-10T08:47:22.174Z"
   },
   {
    "duration": 528,
    "start_time": "2024-04-10T08:49:41.986Z"
   },
   {
    "duration": 0,
    "start_time": "2024-04-10T08:49:42.516Z"
   },
   {
    "duration": 0,
    "start_time": "2024-04-10T08:49:42.517Z"
   },
   {
    "duration": 0,
    "start_time": "2024-04-10T08:49:42.518Z"
   },
   {
    "duration": 0,
    "start_time": "2024-04-10T08:49:42.519Z"
   },
   {
    "duration": 0,
    "start_time": "2024-04-10T08:49:42.520Z"
   },
   {
    "duration": 0,
    "start_time": "2024-04-10T08:49:42.521Z"
   },
   {
    "duration": 934,
    "start_time": "2024-04-10T08:50:19.987Z"
   },
   {
    "duration": 73,
    "start_time": "2024-04-10T08:50:20.922Z"
   },
   {
    "duration": 16,
    "start_time": "2024-04-10T08:50:20.997Z"
   },
   {
    "duration": 32,
    "start_time": "2024-04-10T08:50:21.015Z"
   },
   {
    "duration": 30,
    "start_time": "2024-04-10T08:50:21.049Z"
   },
   {
    "duration": 20,
    "start_time": "2024-04-10T08:50:21.081Z"
   },
   {
    "duration": 247,
    "start_time": "2024-04-10T08:50:21.103Z"
   },
   {
    "duration": 4,
    "start_time": "2024-04-10T08:53:49.601Z"
   },
   {
    "duration": 10,
    "start_time": "2024-04-10T08:54:11.285Z"
   },
   {
    "duration": 4,
    "start_time": "2024-04-10T08:54:24.292Z"
   },
   {
    "duration": 15,
    "start_time": "2024-04-10T08:54:33.616Z"
   },
   {
    "duration": 4,
    "start_time": "2024-04-10T08:55:08.371Z"
   },
   {
    "duration": 4,
    "start_time": "2024-04-10T08:55:11.788Z"
   },
   {
    "duration": 869,
    "start_time": "2024-04-10T08:55:35.235Z"
   },
   {
    "duration": 11,
    "start_time": "2024-04-10T08:56:45.076Z"
   },
   {
    "duration": 888,
    "start_time": "2024-04-10T08:56:57.843Z"
   },
   {
    "duration": 70,
    "start_time": "2024-04-10T08:56:58.736Z"
   },
   {
    "duration": 14,
    "start_time": "2024-04-10T08:56:58.809Z"
   },
   {
    "duration": 4,
    "start_time": "2024-04-10T08:56:58.825Z"
   },
   {
    "duration": 17,
    "start_time": "2024-04-10T08:56:58.831Z"
   },
   {
    "duration": 9,
    "start_time": "2024-04-10T08:56:58.850Z"
   },
   {
    "duration": 265,
    "start_time": "2024-04-10T08:56:58.861Z"
   },
   {
    "duration": 7,
    "start_time": "2024-04-10T08:56:59.128Z"
   },
   {
    "duration": 11,
    "start_time": "2024-04-10T08:56:59.138Z"
   },
   {
    "duration": 15,
    "start_time": "2024-04-10T08:57:55.264Z"
   },
   {
    "duration": 9,
    "start_time": "2024-04-10T08:59:43.555Z"
   },
   {
    "duration": 7,
    "start_time": "2024-04-10T09:01:41.292Z"
   },
   {
    "duration": 906,
    "start_time": "2024-04-10T15:51:11.163Z"
   },
   {
    "duration": 127,
    "start_time": "2024-04-10T15:51:12.071Z"
   },
   {
    "duration": 18,
    "start_time": "2024-04-10T15:51:12.201Z"
   },
   {
    "duration": 7,
    "start_time": "2024-04-10T15:51:12.221Z"
   },
   {
    "duration": 26,
    "start_time": "2024-04-10T15:51:12.230Z"
   },
   {
    "duration": 10,
    "start_time": "2024-04-10T15:51:12.258Z"
   },
   {
    "duration": 459,
    "start_time": "2024-04-10T15:51:12.270Z"
   },
   {
    "duration": 9,
    "start_time": "2024-04-10T15:51:12.730Z"
   },
   {
    "duration": 11,
    "start_time": "2024-04-10T15:51:12.740Z"
   },
   {
    "duration": 6,
    "start_time": "2024-04-10T15:51:12.753Z"
   },
   {
    "duration": 5,
    "start_time": "2024-04-10T16:05:23.706Z"
   },
   {
    "duration": 6,
    "start_time": "2024-04-10T16:09:35.930Z"
   },
   {
    "duration": 4,
    "start_time": "2024-04-10T16:09:38.854Z"
   },
   {
    "duration": 10,
    "start_time": "2024-04-10T16:10:38.146Z"
   },
   {
    "duration": 26,
    "start_time": "2024-04-10T16:20:51.943Z"
   },
   {
    "duration": 15,
    "start_time": "2024-04-10T16:21:07.366Z"
   },
   {
    "duration": 11,
    "start_time": "2024-04-10T16:21:18.810Z"
   },
   {
    "duration": 23,
    "start_time": "2024-04-10T16:21:43.726Z"
   },
   {
    "duration": 5,
    "start_time": "2024-04-10T16:28:06.351Z"
   },
   {
    "duration": 6,
    "start_time": "2024-04-10T16:37:36.910Z"
   },
   {
    "duration": 948,
    "start_time": "2024-04-10T16:38:52.318Z"
   },
   {
    "duration": 76,
    "start_time": "2024-04-10T16:38:53.268Z"
   },
   {
    "duration": 14,
    "start_time": "2024-04-10T16:38:53.346Z"
   },
   {
    "duration": 5,
    "start_time": "2024-04-10T16:38:53.362Z"
   },
   {
    "duration": 17,
    "start_time": "2024-04-10T16:38:53.368Z"
   },
   {
    "duration": 10,
    "start_time": "2024-04-10T16:38:53.387Z"
   },
   {
    "duration": 301,
    "start_time": "2024-04-10T16:38:53.399Z"
   },
   {
    "duration": 8,
    "start_time": "2024-04-10T16:38:53.702Z"
   },
   {
    "duration": 23,
    "start_time": "2024-04-10T16:38:53.711Z"
   },
   {
    "duration": 25,
    "start_time": "2024-04-10T16:38:53.737Z"
   },
   {
    "duration": 3,
    "start_time": "2024-04-10T16:38:53.764Z"
   },
   {
    "duration": 6,
    "start_time": "2024-04-10T16:38:53.769Z"
   },
   {
    "duration": 6,
    "start_time": "2024-04-10T16:38:53.777Z"
   },
   {
    "duration": 11,
    "start_time": "2024-04-10T16:38:53.785Z"
   },
   {
    "duration": 6,
    "start_time": "2024-04-10T16:38:53.798Z"
   },
   {
    "duration": 27,
    "start_time": "2024-04-10T16:38:53.806Z"
   },
   {
    "duration": 11,
    "start_time": "2024-04-10T16:39:12.700Z"
   },
   {
    "duration": 6,
    "start_time": "2024-04-10T16:39:25.556Z"
   },
   {
    "duration": 4,
    "start_time": "2024-04-10T16:40:31.499Z"
   },
   {
    "duration": 5,
    "start_time": "2024-04-10T16:40:34.712Z"
   },
   {
    "duration": 14,
    "start_time": "2024-04-10T16:44:36.011Z"
   },
   {
    "duration": 14,
    "start_time": "2024-04-10T16:49:23.269Z"
   },
   {
    "duration": 965,
    "start_time": "2024-04-10T16:50:23.710Z"
   },
   {
    "duration": 76,
    "start_time": "2024-04-10T16:50:24.689Z"
   },
   {
    "duration": 18,
    "start_time": "2024-04-10T16:50:24.767Z"
   },
   {
    "duration": 10,
    "start_time": "2024-04-10T16:50:24.787Z"
   },
   {
    "duration": 44,
    "start_time": "2024-04-10T16:50:24.800Z"
   },
   {
    "duration": 14,
    "start_time": "2024-04-10T16:50:24.846Z"
   },
   {
    "duration": 284,
    "start_time": "2024-04-10T16:50:24.862Z"
   },
   {
    "duration": 11,
    "start_time": "2024-04-10T16:50:25.148Z"
   },
   {
    "duration": 9,
    "start_time": "2024-04-10T16:50:25.162Z"
   },
   {
    "duration": 19,
    "start_time": "2024-04-10T16:50:25.175Z"
   },
   {
    "duration": 4,
    "start_time": "2024-04-10T16:50:25.196Z"
   },
   {
    "duration": 7,
    "start_time": "2024-04-10T16:50:25.201Z"
   },
   {
    "duration": 24,
    "start_time": "2024-04-10T16:50:25.209Z"
   },
   {
    "duration": 27,
    "start_time": "2024-04-10T16:50:25.236Z"
   },
   {
    "duration": 8,
    "start_time": "2024-04-10T16:50:25.265Z"
   },
   {
    "duration": 6,
    "start_time": "2024-04-10T16:50:25.275Z"
   },
   {
    "duration": 19,
    "start_time": "2024-04-10T16:50:25.283Z"
   },
   {
    "duration": 11,
    "start_time": "2024-04-10T16:50:25.304Z"
   },
   {
    "duration": 29,
    "start_time": "2024-04-10T16:50:25.317Z"
   },
   {
    "duration": 18,
    "start_time": "2024-04-10T16:50:25.348Z"
   },
   {
    "duration": 5,
    "start_time": "2024-04-10T16:51:29.499Z"
   },
   {
    "duration": 5,
    "start_time": "2024-04-10T17:27:58.436Z"
   },
   {
    "duration": 5,
    "start_time": "2024-04-10T17:30:43.680Z"
   },
   {
    "duration": 6,
    "start_time": "2024-04-10T17:32:40.903Z"
   },
   {
    "duration": 7,
    "start_time": "2024-04-10T17:39:46.514Z"
   },
   {
    "duration": 14,
    "start_time": "2024-04-10T17:40:44.617Z"
   },
   {
    "duration": 10,
    "start_time": "2024-04-10T17:47:51.707Z"
   },
   {
    "duration": 14,
    "start_time": "2024-04-10T17:48:10.299Z"
   },
   {
    "duration": 6,
    "start_time": "2024-04-10T17:48:40.793Z"
   },
   {
    "duration": 14,
    "start_time": "2024-04-10T17:48:43.632Z"
   },
   {
    "duration": 7,
    "start_time": "2024-04-10T17:50:30.767Z"
   },
   {
    "duration": 14,
    "start_time": "2024-04-10T17:50:33.623Z"
   },
   {
    "duration": 5,
    "start_time": "2024-04-10T17:51:09.657Z"
   },
   {
    "duration": 17,
    "start_time": "2024-04-10T17:51:12.144Z"
   },
   {
    "duration": 903,
    "start_time": "2024-04-10T18:08:59.962Z"
   },
   {
    "duration": 74,
    "start_time": "2024-04-10T18:09:00.867Z"
   },
   {
    "duration": 237,
    "start_time": "2024-04-10T18:09:00.942Z"
   },
   {
    "duration": 471,
    "start_time": "2024-04-10T18:09:01.182Z"
   },
   {
    "duration": 163,
    "start_time": "2024-04-10T18:09:01.654Z"
   },
   {
    "duration": 63,
    "start_time": "2024-04-10T18:09:01.818Z"
   },
   {
    "duration": 292,
    "start_time": "2024-04-10T18:09:01.882Z"
   },
   {
    "duration": 8,
    "start_time": "2024-04-10T18:09:02.175Z"
   },
   {
    "duration": 161,
    "start_time": "2024-04-10T18:09:02.184Z"
   },
   {
    "duration": 25,
    "start_time": "2024-04-10T18:09:02.347Z"
   },
   {
    "duration": 28,
    "start_time": "2024-04-10T18:09:02.374Z"
   },
   {
    "duration": 36,
    "start_time": "2024-04-10T18:09:02.403Z"
   },
   {
    "duration": 30,
    "start_time": "2024-04-10T18:09:02.441Z"
   },
   {
    "duration": 52,
    "start_time": "2024-04-10T18:09:02.473Z"
   },
   {
    "duration": 24,
    "start_time": "2024-04-10T18:09:02.526Z"
   },
   {
    "duration": 24,
    "start_time": "2024-04-10T18:09:02.551Z"
   },
   {
    "duration": 22,
    "start_time": "2024-04-10T18:09:02.576Z"
   },
   {
    "duration": 59,
    "start_time": "2024-04-10T18:09:02.600Z"
   },
   {
    "duration": 65,
    "start_time": "2024-04-10T18:09:02.661Z"
   },
   {
    "duration": 33,
    "start_time": "2024-04-10T18:09:02.728Z"
   },
   {
    "duration": 9,
    "start_time": "2024-04-10T18:09:02.763Z"
   },
   {
    "duration": 8,
    "start_time": "2024-04-10T18:09:02.773Z"
   },
   {
    "duration": 24,
    "start_time": "2024-04-10T18:09:02.782Z"
   },
   {
    "duration": 11,
    "start_time": "2024-04-10T18:09:02.808Z"
   },
   {
    "duration": 15,
    "start_time": "2024-04-10T18:09:02.820Z"
   },
   {
    "duration": 33,
    "start_time": "2024-04-10T18:09:02.836Z"
   },
   {
    "duration": 11,
    "start_time": "2024-04-10T18:09:02.870Z"
   },
   {
    "duration": 30,
    "start_time": "2024-04-10T18:09:02.884Z"
   },
   {
    "duration": 369,
    "start_time": "2024-04-10T18:25:19.615Z"
   },
   {
    "duration": 374,
    "start_time": "2024-04-10T18:25:32.173Z"
   },
   {
    "duration": 355,
    "start_time": "2024-04-10T18:25:50.059Z"
   },
   {
    "duration": 355,
    "start_time": "2024-04-10T18:26:43.599Z"
   },
   {
    "duration": 463,
    "start_time": "2024-04-10T18:27:14.872Z"
   },
   {
    "duration": 174,
    "start_time": "2024-04-10T18:27:28.585Z"
   },
   {
    "duration": 382,
    "start_time": "2024-04-10T18:27:41.327Z"
   },
   {
    "duration": 458,
    "start_time": "2024-04-10T18:33:47.109Z"
   },
   {
    "duration": 3,
    "start_time": "2024-04-10T18:34:38.123Z"
   },
   {
    "duration": 1208,
    "start_time": "2024-04-10T18:34:44.899Z"
   },
   {
    "duration": 70,
    "start_time": "2024-04-10T18:34:46.109Z"
   },
   {
    "duration": 15,
    "start_time": "2024-04-10T18:34:46.181Z"
   },
   {
    "duration": 4,
    "start_time": "2024-04-10T18:34:46.198Z"
   },
   {
    "duration": 29,
    "start_time": "2024-04-10T18:34:46.204Z"
   },
   {
    "duration": 9,
    "start_time": "2024-04-10T18:34:46.235Z"
   },
   {
    "duration": 101,
    "start_time": "2024-04-10T18:34:46.246Z"
   },
   {
    "duration": 7,
    "start_time": "2024-04-10T18:34:46.349Z"
   },
   {
    "duration": 17,
    "start_time": "2024-04-10T18:34:46.357Z"
   },
   {
    "duration": 18,
    "start_time": "2024-04-10T18:34:46.376Z"
   },
   {
    "duration": 11,
    "start_time": "2024-04-10T18:34:46.396Z"
   },
   {
    "duration": 9,
    "start_time": "2024-04-10T18:34:46.409Z"
   },
   {
    "duration": 5,
    "start_time": "2024-04-10T18:34:46.420Z"
   },
   {
    "duration": 19,
    "start_time": "2024-04-10T18:34:46.427Z"
   },
   {
    "duration": 11,
    "start_time": "2024-04-10T18:34:46.448Z"
   },
   {
    "duration": 34,
    "start_time": "2024-04-10T18:34:46.461Z"
   },
   {
    "duration": 10,
    "start_time": "2024-04-10T18:34:46.497Z"
   },
   {
    "duration": 10,
    "start_time": "2024-04-10T18:34:46.509Z"
   },
   {
    "duration": 20,
    "start_time": "2024-04-10T18:34:46.521Z"
   },
   {
    "duration": 20,
    "start_time": "2024-04-10T18:34:46.543Z"
   },
   {
    "duration": 19,
    "start_time": "2024-04-10T18:34:46.565Z"
   },
   {
    "duration": 11,
    "start_time": "2024-04-10T18:34:46.586Z"
   },
   {
    "duration": 5,
    "start_time": "2024-04-10T18:34:46.598Z"
   },
   {
    "duration": 10,
    "start_time": "2024-04-10T18:34:46.604Z"
   },
   {
    "duration": 14,
    "start_time": "2024-04-10T18:34:46.616Z"
   },
   {
    "duration": 30,
    "start_time": "2024-04-10T18:34:46.632Z"
   },
   {
    "duration": 23,
    "start_time": "2024-04-10T18:34:46.663Z"
   },
   {
    "duration": 66,
    "start_time": "2024-04-10T18:34:46.690Z"
   },
   {
    "duration": 439,
    "start_time": "2024-04-10T18:34:46.757Z"
   },
   {
    "duration": 393,
    "start_time": "2024-04-10T18:35:18.632Z"
   },
   {
    "duration": 10,
    "start_time": "2024-04-10T18:37:38.987Z"
   },
   {
    "duration": 9,
    "start_time": "2024-04-13T11:45:49.179Z"
   },
   {
    "duration": 269,
    "start_time": "2024-04-13T11:45:59.953Z"
   },
   {
    "duration": 164,
    "start_time": "2024-04-13T12:07:09.575Z"
   },
   {
    "duration": 291,
    "start_time": "2024-04-13T12:07:17.311Z"
   },
   {
    "duration": 152,
    "start_time": "2024-04-13T12:07:55.667Z"
   },
   {
    "duration": 273,
    "start_time": "2024-04-13T12:08:19.424Z"
   },
   {
    "duration": 168,
    "start_time": "2024-04-13T12:08:33.956Z"
   },
   {
    "duration": 399,
    "start_time": "2024-04-13T12:09:06.958Z"
   },
   {
    "duration": 151,
    "start_time": "2024-04-13T12:09:17.238Z"
   },
   {
    "duration": 268,
    "start_time": "2024-04-13T12:09:43.062Z"
   },
   {
    "duration": 51,
    "start_time": "2024-04-15T08:05:43.745Z"
   },
   {
    "duration": 1481,
    "start_time": "2024-04-15T08:05:54.691Z"
   },
   {
    "duration": 222,
    "start_time": "2024-04-15T08:05:56.175Z"
   },
   {
    "duration": 17,
    "start_time": "2024-04-15T08:05:56.399Z"
   },
   {
    "duration": 5,
    "start_time": "2024-04-15T08:05:56.418Z"
   },
   {
    "duration": 40,
    "start_time": "2024-04-15T08:05:56.425Z"
   },
   {
    "duration": 16,
    "start_time": "2024-04-15T08:05:56.491Z"
   },
   {
    "duration": 86,
    "start_time": "2024-04-15T08:05:56.509Z"
   },
   {
    "duration": 9,
    "start_time": "2024-04-15T08:05:56.597Z"
   },
   {
    "duration": 14,
    "start_time": "2024-04-15T08:05:56.608Z"
   },
   {
    "duration": 11,
    "start_time": "2024-04-15T08:05:56.625Z"
   },
   {
    "duration": 9,
    "start_time": "2024-04-15T08:05:56.637Z"
   },
   {
    "duration": 15,
    "start_time": "2024-04-15T08:05:56.648Z"
   },
   {
    "duration": 14,
    "start_time": "2024-04-15T08:05:56.664Z"
   },
   {
    "duration": 10,
    "start_time": "2024-04-15T08:05:56.692Z"
   },
   {
    "duration": 9,
    "start_time": "2024-04-15T08:05:56.704Z"
   },
   {
    "duration": 13,
    "start_time": "2024-04-15T08:05:56.715Z"
   },
   {
    "duration": 8,
    "start_time": "2024-04-15T08:05:56.730Z"
   },
   {
    "duration": 15,
    "start_time": "2024-04-15T08:05:56.740Z"
   },
   {
    "duration": 36,
    "start_time": "2024-04-15T08:05:56.757Z"
   },
   {
    "duration": 22,
    "start_time": "2024-04-15T08:05:56.794Z"
   },
   {
    "duration": 10,
    "start_time": "2024-04-15T08:05:56.817Z"
   },
   {
    "duration": 10,
    "start_time": "2024-04-15T08:05:56.829Z"
   },
   {
    "duration": 8,
    "start_time": "2024-04-15T08:05:56.840Z"
   },
   {
    "duration": 9,
    "start_time": "2024-04-15T08:05:56.849Z"
   },
   {
    "duration": 12,
    "start_time": "2024-04-15T08:05:56.860Z"
   },
   {
    "duration": 30,
    "start_time": "2024-04-15T08:05:56.873Z"
   },
   {
    "duration": 6,
    "start_time": "2024-04-15T08:05:56.905Z"
   },
   {
    "duration": 23,
    "start_time": "2024-04-15T08:05:56.914Z"
   },
   {
    "duration": 11,
    "start_time": "2024-04-15T08:05:56.938Z"
   },
   {
    "duration": 483,
    "start_time": "2024-04-15T08:05:56.951Z"
   },
   {
    "duration": 439,
    "start_time": "2024-04-15T08:05:57.436Z"
   },
   {
    "duration": 24,
    "start_time": "2024-04-15T08:05:57.877Z"
   },
   {
    "duration": 39,
    "start_time": "2024-04-15T08:05:57.903Z"
   },
   {
    "duration": 183,
    "start_time": "2024-04-15T08:09:49.213Z"
   },
   {
    "duration": 198,
    "start_time": "2024-04-15T08:10:32.658Z"
   },
   {
    "duration": 104,
    "start_time": "2024-04-15T08:11:26.751Z"
   },
   {
    "duration": 14,
    "start_time": "2024-04-15T08:11:54.673Z"
   },
   {
    "duration": 1532,
    "start_time": "2024-04-15T08:19:23.358Z"
   },
   {
    "duration": 17,
    "start_time": "2024-04-15T08:20:00.180Z"
   },
   {
    "duration": 1541,
    "start_time": "2024-04-15T08:20:08.645Z"
   },
   {
    "duration": 1164,
    "start_time": "2024-04-15T08:20:28.836Z"
   },
   {
    "duration": 84,
    "start_time": "2024-04-15T08:20:30.002Z"
   },
   {
    "duration": 317,
    "start_time": "2024-04-15T08:20:30.088Z"
   },
   {
    "duration": 419,
    "start_time": "2024-04-15T08:20:30.407Z"
   },
   {
    "duration": 408,
    "start_time": "2024-04-15T08:20:30.828Z"
   },
   {
    "duration": 187,
    "start_time": "2024-04-15T08:20:31.238Z"
   },
   {
    "duration": 144,
    "start_time": "2024-04-15T08:20:31.427Z"
   },
   {
    "duration": 78,
    "start_time": "2024-04-15T08:20:31.573Z"
   },
   {
    "duration": 68,
    "start_time": "2024-04-15T08:20:31.652Z"
   },
   {
    "duration": 31,
    "start_time": "2024-04-15T08:20:31.723Z"
   },
   {
    "duration": 32,
    "start_time": "2024-04-15T08:20:31.756Z"
   },
   {
    "duration": 108,
    "start_time": "2024-04-15T08:20:31.790Z"
   },
   {
    "duration": 151,
    "start_time": "2024-04-15T08:20:31.900Z"
   },
   {
    "duration": 78,
    "start_time": "2024-04-15T08:20:32.055Z"
   },
   {
    "duration": 88,
    "start_time": "2024-04-15T08:20:32.135Z"
   },
   {
    "duration": 87,
    "start_time": "2024-04-15T08:20:32.225Z"
   },
   {
    "duration": 72,
    "start_time": "2024-04-15T08:20:32.315Z"
   },
   {
    "duration": 57,
    "start_time": "2024-04-15T08:20:32.388Z"
   },
   {
    "duration": 21,
    "start_time": "2024-04-15T08:20:32.447Z"
   },
   {
    "duration": 47,
    "start_time": "2024-04-15T08:20:32.469Z"
   },
   {
    "duration": 57,
    "start_time": "2024-04-15T08:20:32.518Z"
   },
   {
    "duration": 64,
    "start_time": "2024-04-15T08:20:32.577Z"
   },
   {
    "duration": 99,
    "start_time": "2024-04-15T08:20:32.644Z"
   },
   {
    "duration": 387,
    "start_time": "2024-04-15T08:20:32.746Z"
   },
   {
    "duration": 37,
    "start_time": "2024-04-15T08:20:33.135Z"
   },
   {
    "duration": 26,
    "start_time": "2024-04-15T08:20:33.174Z"
   },
   {
    "duration": 21,
    "start_time": "2024-04-15T08:20:33.202Z"
   },
   {
    "duration": 37,
    "start_time": "2024-04-15T08:20:33.227Z"
   },
   {
    "duration": 39,
    "start_time": "2024-04-15T08:20:33.266Z"
   },
   {
    "duration": 430,
    "start_time": "2024-04-15T08:20:33.307Z"
   },
   {
    "duration": 372,
    "start_time": "2024-04-15T08:20:33.738Z"
   },
   {
    "duration": 24,
    "start_time": "2024-04-15T08:20:34.113Z"
   },
   {
    "duration": 1706,
    "start_time": "2024-04-15T08:20:34.139Z"
   },
   {
    "duration": 0,
    "start_time": "2024-04-15T08:20:35.847Z"
   },
   {
    "duration": 14,
    "start_time": "2024-04-15T08:20:57.834Z"
   },
   {
    "duration": 15,
    "start_time": "2024-04-15T08:21:22.408Z"
   },
   {
    "duration": 1675,
    "start_time": "2024-04-15T08:22:08.466Z"
   },
   {
    "duration": 24,
    "start_time": "2024-04-15T08:23:34.471Z"
   },
   {
    "duration": 22,
    "start_time": "2024-04-15T08:23:38.445Z"
   },
   {
    "duration": 25,
    "start_time": "2024-04-15T08:23:48.218Z"
   },
   {
    "duration": 24,
    "start_time": "2024-04-15T08:24:46.901Z"
   },
   {
    "duration": 25,
    "start_time": "2024-04-15T08:25:02.456Z"
   },
   {
    "duration": 1679,
    "start_time": "2024-04-15T08:26:33.174Z"
   },
   {
    "duration": 11,
    "start_time": "2024-04-15T08:28:59.892Z"
   },
   {
    "duration": 22,
    "start_time": "2024-04-15T08:29:19.576Z"
   },
   {
    "duration": 12,
    "start_time": "2024-04-15T08:31:17.609Z"
   },
   {
    "duration": 1182,
    "start_time": "2024-04-15T08:31:33.982Z"
   },
   {
    "duration": 74,
    "start_time": "2024-04-15T08:31:35.166Z"
   },
   {
    "duration": 15,
    "start_time": "2024-04-15T08:31:35.241Z"
   },
   {
    "duration": 5,
    "start_time": "2024-04-15T08:31:35.258Z"
   },
   {
    "duration": 39,
    "start_time": "2024-04-15T08:31:35.265Z"
   },
   {
    "duration": 12,
    "start_time": "2024-04-15T08:31:35.306Z"
   },
   {
    "duration": 74,
    "start_time": "2024-04-15T08:31:35.319Z"
   },
   {
    "duration": 8,
    "start_time": "2024-04-15T08:31:35.394Z"
   },
   {
    "duration": 38,
    "start_time": "2024-04-15T08:31:35.403Z"
   },
   {
    "duration": 20,
    "start_time": "2024-04-15T08:31:35.443Z"
   },
   {
    "duration": 45,
    "start_time": "2024-04-15T08:31:35.465Z"
   },
   {
    "duration": 35,
    "start_time": "2024-04-15T08:31:35.511Z"
   },
   {
    "duration": 32,
    "start_time": "2024-04-15T08:31:35.548Z"
   },
   {
    "duration": 42,
    "start_time": "2024-04-15T08:31:35.584Z"
   },
   {
    "duration": 64,
    "start_time": "2024-04-15T08:31:35.628Z"
   },
   {
    "duration": 55,
    "start_time": "2024-04-15T08:31:35.694Z"
   },
   {
    "duration": 30,
    "start_time": "2024-04-15T08:31:35.750Z"
   },
   {
    "duration": 17,
    "start_time": "2024-04-15T08:31:35.782Z"
   },
   {
    "duration": 28,
    "start_time": "2024-04-15T08:31:35.801Z"
   },
   {
    "duration": 22,
    "start_time": "2024-04-15T08:31:35.831Z"
   },
   {
    "duration": 33,
    "start_time": "2024-04-15T08:31:35.854Z"
   },
   {
    "duration": 15,
    "start_time": "2024-04-15T08:31:35.889Z"
   },
   {
    "duration": 16,
    "start_time": "2024-04-15T08:31:35.906Z"
   },
   {
    "duration": 60,
    "start_time": "2024-04-15T08:31:35.924Z"
   },
   {
    "duration": 38,
    "start_time": "2024-04-15T08:31:35.986Z"
   },
   {
    "duration": 26,
    "start_time": "2024-04-15T08:31:36.026Z"
   },
   {
    "duration": 39,
    "start_time": "2024-04-15T08:31:36.053Z"
   },
   {
    "duration": 19,
    "start_time": "2024-04-15T08:31:36.094Z"
   },
   {
    "duration": 9,
    "start_time": "2024-04-15T08:31:36.116Z"
   },
   {
    "duration": 425,
    "start_time": "2024-04-15T08:31:36.127Z"
   },
   {
    "duration": 331,
    "start_time": "2024-04-15T08:31:36.553Z"
   },
   {
    "duration": 15,
    "start_time": "2024-04-15T08:31:36.885Z"
   },
   {
    "duration": 125,
    "start_time": "2024-04-15T08:31:36.901Z"
   },
   {
    "duration": 0,
    "start_time": "2024-04-15T08:31:37.028Z"
   },
   {
    "duration": 0,
    "start_time": "2024-04-15T08:31:37.029Z"
   },
   {
    "duration": 0,
    "start_time": "2024-04-15T08:31:37.030Z"
   },
   {
    "duration": 0,
    "start_time": "2024-04-15T08:31:37.032Z"
   },
   {
    "duration": 9,
    "start_time": "2024-04-15T08:31:55.387Z"
   },
   {
    "duration": 15,
    "start_time": "2024-04-15T08:32:29.077Z"
   },
   {
    "duration": 24,
    "start_time": "2024-04-15T08:32:55.383Z"
   },
   {
    "duration": 22,
    "start_time": "2024-04-15T08:33:51.917Z"
   },
   {
    "duration": 25,
    "start_time": "2024-04-15T08:34:22.383Z"
   },
   {
    "duration": 5,
    "start_time": "2024-04-15T08:35:08.846Z"
   },
   {
    "duration": 32,
    "start_time": "2024-04-15T08:35:54.357Z"
   },
   {
    "duration": 15,
    "start_time": "2024-04-15T08:37:35.609Z"
   },
   {
    "duration": 1143,
    "start_time": "2024-04-15T08:38:18.860Z"
   },
   {
    "duration": 9,
    "start_time": "2024-04-15T08:40:05.433Z"
   },
   {
    "duration": 17,
    "start_time": "2024-04-15T08:40:11.903Z"
   },
   {
    "duration": 980,
    "start_time": "2024-04-15T08:41:04.913Z"
   },
   {
    "duration": 1084,
    "start_time": "2024-04-15T08:42:57.337Z"
   },
   {
    "duration": 957,
    "start_time": "2024-04-15T08:43:12.175Z"
   },
   {
    "duration": 1160,
    "start_time": "2024-04-15T08:45:15.111Z"
   },
   {
    "duration": 1051,
    "start_time": "2024-04-15T08:46:28.799Z"
   },
   {
    "duration": 1115,
    "start_time": "2024-04-15T08:46:37.555Z"
   },
   {
    "duration": 86,
    "start_time": "2024-04-15T08:51:00.428Z"
   },
   {
    "duration": 166,
    "start_time": "2024-04-15T08:51:11.955Z"
   },
   {
    "duration": 174,
    "start_time": "2024-04-15T08:51:32.635Z"
   },
   {
    "duration": 79,
    "start_time": "2024-04-15T08:51:39.772Z"
   },
   {
    "duration": 84,
    "start_time": "2024-04-15T08:51:57.547Z"
   },
   {
    "duration": 1017,
    "start_time": "2024-04-15T08:52:10.892Z"
   },
   {
    "duration": 96,
    "start_time": "2024-04-15T08:52:23.759Z"
   },
   {
    "duration": 11,
    "start_time": "2024-04-15T08:54:55.454Z"
   },
   {
    "duration": 14,
    "start_time": "2024-04-15T08:55:09.632Z"
   },
   {
    "duration": 1070,
    "start_time": "2024-04-15T08:55:12.702Z"
   },
   {
    "duration": 1084,
    "start_time": "2024-04-15T08:56:25.858Z"
   },
   {
    "duration": 1139,
    "start_time": "2024-04-15T08:57:53.133Z"
   },
   {
    "duration": 74,
    "start_time": "2024-04-15T08:57:54.274Z"
   },
   {
    "duration": 16,
    "start_time": "2024-04-15T08:57:54.349Z"
   },
   {
    "duration": 5,
    "start_time": "2024-04-15T08:57:54.368Z"
   },
   {
    "duration": 30,
    "start_time": "2024-04-15T08:57:54.375Z"
   },
   {
    "duration": 10,
    "start_time": "2024-04-15T08:57:54.407Z"
   },
   {
    "duration": 80,
    "start_time": "2024-04-15T08:57:54.419Z"
   },
   {
    "duration": 8,
    "start_time": "2024-04-15T08:57:54.500Z"
   },
   {
    "duration": 8,
    "start_time": "2024-04-15T08:57:54.510Z"
   },
   {
    "duration": 10,
    "start_time": "2024-04-15T08:57:54.520Z"
   },
   {
    "duration": 6,
    "start_time": "2024-04-15T08:57:54.532Z"
   },
   {
    "duration": 5,
    "start_time": "2024-04-15T08:57:54.540Z"
   },
   {
    "duration": 47,
    "start_time": "2024-04-15T08:57:54.546Z"
   },
   {
    "duration": 10,
    "start_time": "2024-04-15T08:57:54.596Z"
   },
   {
    "duration": 10,
    "start_time": "2024-04-15T08:57:54.608Z"
   },
   {
    "duration": 6,
    "start_time": "2024-04-15T08:57:54.620Z"
   },
   {
    "duration": 18,
    "start_time": "2024-04-15T08:57:54.628Z"
   },
   {
    "duration": 15,
    "start_time": "2024-04-15T08:57:54.648Z"
   },
   {
    "duration": 34,
    "start_time": "2024-04-15T08:57:54.664Z"
   },
   {
    "duration": 17,
    "start_time": "2024-04-15T08:57:54.700Z"
   },
   {
    "duration": 9,
    "start_time": "2024-04-15T08:57:54.719Z"
   },
   {
    "duration": 5,
    "start_time": "2024-04-15T08:57:54.729Z"
   },
   {
    "duration": 13,
    "start_time": "2024-04-15T08:57:54.736Z"
   },
   {
    "duration": 42,
    "start_time": "2024-04-15T08:57:54.751Z"
   },
   {
    "duration": 4,
    "start_time": "2024-04-15T08:57:54.795Z"
   },
   {
    "duration": 18,
    "start_time": "2024-04-15T08:57:54.801Z"
   },
   {
    "duration": 14,
    "start_time": "2024-04-15T08:57:54.821Z"
   },
   {
    "duration": 19,
    "start_time": "2024-04-15T08:57:54.837Z"
   },
   {
    "duration": 11,
    "start_time": "2024-04-15T08:57:54.891Z"
   },
   {
    "duration": 466,
    "start_time": "2024-04-15T08:57:54.905Z"
   },
   {
    "duration": 365,
    "start_time": "2024-04-15T08:57:55.373Z"
   },
   {
    "duration": 16,
    "start_time": "2024-04-15T08:57:55.740Z"
   },
   {
    "duration": 1253,
    "start_time": "2024-04-15T08:57:55.758Z"
   },
   {
    "duration": 34,
    "start_time": "2024-04-15T09:00:33.069Z"
   },
   {
    "duration": 25,
    "start_time": "2024-04-15T09:00:56.617Z"
   },
   {
    "duration": 9,
    "start_time": "2024-04-15T09:01:33.170Z"
   },
   {
    "duration": 25,
    "start_time": "2024-04-15T09:13:26.770Z"
   },
   {
    "duration": 23,
    "start_time": "2024-04-15T09:13:35.949Z"
   },
   {
    "duration": 156,
    "start_time": "2024-04-15T09:14:10.911Z"
   },
   {
    "duration": 39,
    "start_time": "2024-04-15T09:14:38.974Z"
   },
   {
    "duration": 89,
    "start_time": "2024-04-15T09:21:14.274Z"
   },
   {
    "duration": 1289,
    "start_time": "2024-04-15T09:28:02.036Z"
   },
   {
    "duration": 98,
    "start_time": "2024-04-15T09:28:03.328Z"
   },
   {
    "duration": 22,
    "start_time": "2024-04-15T09:28:03.429Z"
   },
   {
    "duration": 30,
    "start_time": "2024-04-15T09:28:03.453Z"
   },
   {
    "duration": 83,
    "start_time": "2024-04-15T09:28:03.485Z"
   },
   {
    "duration": 46,
    "start_time": "2024-04-15T09:28:03.570Z"
   },
   {
    "duration": 102,
    "start_time": "2024-04-15T09:28:03.618Z"
   },
   {
    "duration": 10,
    "start_time": "2024-04-15T09:28:03.722Z"
   },
   {
    "duration": 30,
    "start_time": "2024-04-15T09:28:03.733Z"
   },
   {
    "duration": 21,
    "start_time": "2024-04-15T09:28:03.767Z"
   },
   {
    "duration": 19,
    "start_time": "2024-04-15T09:28:03.790Z"
   },
   {
    "duration": 20,
    "start_time": "2024-04-15T09:28:03.811Z"
   },
   {
    "duration": 23,
    "start_time": "2024-04-15T09:28:03.832Z"
   },
   {
    "duration": 37,
    "start_time": "2024-04-15T09:28:03.857Z"
   },
   {
    "duration": 30,
    "start_time": "2024-04-15T09:28:03.896Z"
   },
   {
    "duration": 42,
    "start_time": "2024-04-15T09:28:03.928Z"
   },
   {
    "duration": 38,
    "start_time": "2024-04-15T09:28:03.972Z"
   },
   {
    "duration": 44,
    "start_time": "2024-04-15T09:28:04.012Z"
   },
   {
    "duration": 58,
    "start_time": "2024-04-15T09:28:04.058Z"
   },
   {
    "duration": 40,
    "start_time": "2024-04-15T09:28:04.118Z"
   },
   {
    "duration": 25,
    "start_time": "2024-04-15T09:28:04.160Z"
   },
   {
    "duration": 32,
    "start_time": "2024-04-15T09:28:04.187Z"
   },
   {
    "duration": 44,
    "start_time": "2024-04-15T09:28:04.220Z"
   },
   {
    "duration": 37,
    "start_time": "2024-04-15T09:28:04.266Z"
   },
   {
    "duration": 37,
    "start_time": "2024-04-15T09:28:04.305Z"
   },
   {
    "duration": 40,
    "start_time": "2024-04-15T09:28:04.344Z"
   },
   {
    "duration": 20,
    "start_time": "2024-04-15T09:28:04.386Z"
   },
   {
    "duration": 45,
    "start_time": "2024-04-15T09:28:04.409Z"
   },
   {
    "duration": 49,
    "start_time": "2024-04-15T09:28:04.456Z"
   },
   {
    "duration": 490,
    "start_time": "2024-04-15T09:28:04.507Z"
   },
   {
    "duration": 368,
    "start_time": "2024-04-15T09:28:04.999Z"
   },
   {
    "duration": 28,
    "start_time": "2024-04-15T09:28:05.369Z"
   },
   {
    "duration": 1327,
    "start_time": "2024-04-15T09:28:05.399Z"
   },
   {
    "duration": 25,
    "start_time": "2024-04-15T09:28:06.728Z"
   },
   {
    "duration": 19,
    "start_time": "2024-04-15T09:28:06.755Z"
   },
   {
    "duration": 153,
    "start_time": "2024-04-15T09:28:06.791Z"
   },
   {
    "duration": 6,
    "start_time": "2024-04-15T09:28:48.679Z"
   },
   {
    "duration": 5,
    "start_time": "2024-04-15T09:29:08.313Z"
   },
   {
    "duration": 6,
    "start_time": "2024-04-15T09:29:13.515Z"
   },
   {
    "duration": 7,
    "start_time": "2024-04-15T09:29:27.380Z"
   },
   {
    "duration": 22,
    "start_time": "2024-04-15T09:29:56.637Z"
   },
   {
    "duration": 1380,
    "start_time": "2024-04-15T09:42:02.941Z"
   },
   {
    "duration": 91,
    "start_time": "2024-04-15T09:42:04.324Z"
   },
   {
    "duration": 17,
    "start_time": "2024-04-15T09:42:04.421Z"
   },
   {
    "duration": 25,
    "start_time": "2024-04-15T09:42:04.440Z"
   },
   {
    "duration": 41,
    "start_time": "2024-04-15T09:42:04.467Z"
   },
   {
    "duration": 16,
    "start_time": "2024-04-15T09:42:04.509Z"
   },
   {
    "duration": 74,
    "start_time": "2024-04-15T09:42:04.527Z"
   },
   {
    "duration": 8,
    "start_time": "2024-04-15T09:42:04.604Z"
   },
   {
    "duration": 8,
    "start_time": "2024-04-15T09:42:04.613Z"
   },
   {
    "duration": 13,
    "start_time": "2024-04-15T09:42:04.623Z"
   },
   {
    "duration": 4,
    "start_time": "2024-04-15T09:42:04.638Z"
   },
   {
    "duration": 24,
    "start_time": "2024-04-15T09:42:04.645Z"
   },
   {
    "duration": 6,
    "start_time": "2024-04-15T09:42:04.692Z"
   },
   {
    "duration": 14,
    "start_time": "2024-04-15T09:42:04.700Z"
   },
   {
    "duration": 8,
    "start_time": "2024-04-15T09:42:04.716Z"
   },
   {
    "duration": 7,
    "start_time": "2024-04-15T09:42:04.726Z"
   },
   {
    "duration": 6,
    "start_time": "2024-04-15T09:42:04.735Z"
   },
   {
    "duration": 49,
    "start_time": "2024-04-15T09:42:04.744Z"
   },
   {
    "duration": 25,
    "start_time": "2024-04-15T09:42:04.795Z"
   },
   {
    "duration": 24,
    "start_time": "2024-04-15T09:42:04.823Z"
   },
   {
    "duration": 12,
    "start_time": "2024-04-15T09:42:04.849Z"
   },
   {
    "duration": 36,
    "start_time": "2024-04-15T09:42:04.862Z"
   },
   {
    "duration": 23,
    "start_time": "2024-04-15T09:42:04.900Z"
   },
   {
    "duration": 22,
    "start_time": "2024-04-15T09:42:04.924Z"
   },
   {
    "duration": 27,
    "start_time": "2024-04-15T09:42:04.948Z"
   },
   {
    "duration": 47,
    "start_time": "2024-04-15T09:42:04.979Z"
   },
   {
    "duration": 24,
    "start_time": "2024-04-15T09:42:05.028Z"
   },
   {
    "duration": 40,
    "start_time": "2024-04-15T09:42:05.054Z"
   },
   {
    "duration": 17,
    "start_time": "2024-04-15T09:42:05.096Z"
   },
   {
    "duration": 448,
    "start_time": "2024-04-15T09:42:05.115Z"
   },
   {
    "duration": 376,
    "start_time": "2024-04-15T09:42:05.565Z"
   },
   {
    "duration": 16,
    "start_time": "2024-04-15T09:42:05.943Z"
   },
   {
    "duration": 1219,
    "start_time": "2024-04-15T09:42:05.960Z"
   },
   {
    "duration": 36,
    "start_time": "2024-04-15T09:42:07.181Z"
   },
   {
    "duration": 8,
    "start_time": "2024-04-15T09:42:07.219Z"
   },
   {
    "duration": 10,
    "start_time": "2024-04-15T09:42:07.229Z"
   },
   {
    "duration": 21,
    "start_time": "2024-04-15T10:03:45.855Z"
   },
   {
    "duration": 1954,
    "start_time": "2024-04-15T10:06:54.080Z"
   },
   {
    "duration": 24,
    "start_time": "2024-04-15T10:07:15.812Z"
   },
   {
    "duration": 24,
    "start_time": "2024-04-15T10:08:02.558Z"
   },
   {
    "duration": 18,
    "start_time": "2024-04-15T10:09:19.955Z"
   },
   {
    "duration": 24,
    "start_time": "2024-04-15T10:10:10.420Z"
   },
   {
    "duration": 23,
    "start_time": "2024-04-15T10:10:58.678Z"
   },
   {
    "duration": 13,
    "start_time": "2024-04-15T10:11:13.155Z"
   },
   {
    "duration": 1711,
    "start_time": "2024-04-15T10:12:16.303Z"
   },
   {
    "duration": 22,
    "start_time": "2024-04-15T10:12:35.345Z"
   },
   {
    "duration": 37,
    "start_time": "2024-04-15T10:13:15.988Z"
   },
   {
    "duration": 15,
    "start_time": "2024-04-15T10:13:32.138Z"
   },
   {
    "duration": 19,
    "start_time": "2024-04-15T10:13:47.496Z"
   },
   {
    "duration": 19,
    "start_time": "2024-04-15T10:15:10.010Z"
   },
   {
    "duration": 1808,
    "start_time": "2024-04-15T10:15:31.592Z"
   },
   {
    "duration": 20,
    "start_time": "2024-04-15T10:15:54.236Z"
   },
   {
    "duration": 22,
    "start_time": "2024-04-15T10:16:28.858Z"
   },
   {
    "duration": 24,
    "start_time": "2024-04-15T10:16:47.633Z"
   },
   {
    "duration": 1226,
    "start_time": "2024-04-15T10:16:56.940Z"
   },
   {
    "duration": 74,
    "start_time": "2024-04-15T10:16:58.169Z"
   },
   {
    "duration": 17,
    "start_time": "2024-04-15T10:16:58.245Z"
   },
   {
    "duration": 29,
    "start_time": "2024-04-15T10:16:58.264Z"
   },
   {
    "duration": 34,
    "start_time": "2024-04-15T10:16:58.295Z"
   },
   {
    "duration": 21,
    "start_time": "2024-04-15T10:16:58.331Z"
   },
   {
    "duration": 88,
    "start_time": "2024-04-15T10:16:58.354Z"
   },
   {
    "duration": 9,
    "start_time": "2024-04-15T10:16:58.444Z"
   },
   {
    "duration": 19,
    "start_time": "2024-04-15T10:16:58.456Z"
   },
   {
    "duration": 28,
    "start_time": "2024-04-15T10:16:58.478Z"
   },
   {
    "duration": 23,
    "start_time": "2024-04-15T10:16:58.508Z"
   },
   {
    "duration": 25,
    "start_time": "2024-04-15T10:16:58.533Z"
   },
   {
    "duration": 33,
    "start_time": "2024-04-15T10:16:58.559Z"
   },
   {
    "duration": 34,
    "start_time": "2024-04-15T10:16:58.593Z"
   },
   {
    "duration": 26,
    "start_time": "2024-04-15T10:16:58.629Z"
   },
   {
    "duration": 32,
    "start_time": "2024-04-15T10:16:58.656Z"
   },
   {
    "duration": 32,
    "start_time": "2024-04-15T10:16:58.690Z"
   },
   {
    "duration": 33,
    "start_time": "2024-04-15T10:16:58.724Z"
   },
   {
    "duration": 46,
    "start_time": "2024-04-15T10:16:58.758Z"
   },
   {
    "duration": 23,
    "start_time": "2024-04-15T10:16:58.805Z"
   },
   {
    "duration": 26,
    "start_time": "2024-04-15T10:16:58.830Z"
   },
   {
    "duration": 16,
    "start_time": "2024-04-15T10:16:58.857Z"
   },
   {
    "duration": 27,
    "start_time": "2024-04-15T10:16:58.874Z"
   },
   {
    "duration": 25,
    "start_time": "2024-04-15T10:16:58.903Z"
   },
   {
    "duration": 27,
    "start_time": "2024-04-15T10:16:58.931Z"
   },
   {
    "duration": 62,
    "start_time": "2024-04-15T10:16:58.959Z"
   },
   {
    "duration": 41,
    "start_time": "2024-04-15T10:16:59.023Z"
   },
   {
    "duration": 38,
    "start_time": "2024-04-15T10:16:59.068Z"
   },
   {
    "duration": 25,
    "start_time": "2024-04-15T10:16:59.108Z"
   },
   {
    "duration": 423,
    "start_time": "2024-04-15T10:16:59.135Z"
   },
   {
    "duration": 391,
    "start_time": "2024-04-15T10:16:59.561Z"
   },
   {
    "duration": 15,
    "start_time": "2024-04-15T10:16:59.954Z"
   },
   {
    "duration": 1264,
    "start_time": "2024-04-15T10:16:59.971Z"
   },
   {
    "duration": 29,
    "start_time": "2024-04-15T10:17:01.237Z"
   },
   {
    "duration": 185,
    "start_time": "2024-04-15T10:17:01.268Z"
   },
   {
    "duration": 69,
    "start_time": "2024-04-15T10:17:01.455Z"
   },
   {
    "duration": 231,
    "start_time": "2024-04-15T10:17:01.526Z"
   },
   {
    "duration": 0,
    "start_time": "2024-04-15T10:17:01.759Z"
   },
   {
    "duration": 0,
    "start_time": "2024-04-15T10:17:01.760Z"
   },
   {
    "duration": 0,
    "start_time": "2024-04-15T10:17:01.762Z"
   },
   {
    "duration": 0,
    "start_time": "2024-04-15T10:17:01.763Z"
   },
   {
    "duration": 0,
    "start_time": "2024-04-15T10:17:01.764Z"
   },
   {
    "duration": 17,
    "start_time": "2024-04-15T10:17:27.880Z"
   },
   {
    "duration": 12,
    "start_time": "2024-04-15T10:19:37.970Z"
   },
   {
    "duration": 23,
    "start_time": "2024-04-15T10:19:46.001Z"
   },
   {
    "duration": 24,
    "start_time": "2024-04-15T10:19:54.860Z"
   },
   {
    "duration": 12,
    "start_time": "2024-04-15T10:20:18.558Z"
   },
   {
    "duration": 26,
    "start_time": "2024-04-15T10:24:01.773Z"
   },
   {
    "duration": 13,
    "start_time": "2024-04-15T10:25:52.194Z"
   },
   {
    "duration": 15,
    "start_time": "2024-04-15T10:26:50.268Z"
   },
   {
    "duration": 16,
    "start_time": "2024-04-15T10:27:23.637Z"
   },
   {
    "duration": 9,
    "start_time": "2024-04-15T10:31:07.345Z"
   },
   {
    "duration": 6,
    "start_time": "2024-04-15T10:31:16.127Z"
   },
   {
    "duration": 17,
    "start_time": "2024-04-15T10:31:36.793Z"
   },
   {
    "duration": 436,
    "start_time": "2024-04-15T10:35:13.596Z"
   },
   {
    "duration": 1669,
    "start_time": "2024-04-15T10:35:51.810Z"
   },
   {
    "duration": 523,
    "start_time": "2024-04-15T10:36:05.687Z"
   },
   {
    "duration": 1058,
    "start_time": "2024-04-15T10:36:36.005Z"
   },
   {
    "duration": 1162,
    "start_time": "2024-04-15T10:36:52.117Z"
   },
   {
    "duration": 72,
    "start_time": "2024-04-15T10:36:53.282Z"
   },
   {
    "duration": 17,
    "start_time": "2024-04-15T10:36:53.356Z"
   },
   {
    "duration": 52,
    "start_time": "2024-04-15T10:36:53.376Z"
   },
   {
    "duration": 23,
    "start_time": "2024-04-15T10:36:53.431Z"
   },
   {
    "duration": 91,
    "start_time": "2024-04-15T10:36:53.456Z"
   },
   {
    "duration": 204,
    "start_time": "2024-04-15T10:36:53.549Z"
   },
   {
    "duration": 7,
    "start_time": "2024-04-15T10:36:53.755Z"
   },
   {
    "duration": 24,
    "start_time": "2024-04-15T10:36:53.763Z"
   },
   {
    "duration": 9,
    "start_time": "2024-04-15T10:36:53.791Z"
   },
   {
    "duration": 10,
    "start_time": "2024-04-15T10:36:53.801Z"
   },
   {
    "duration": 19,
    "start_time": "2024-04-15T10:36:53.813Z"
   },
   {
    "duration": 26,
    "start_time": "2024-04-15T10:36:53.833Z"
   },
   {
    "duration": 29,
    "start_time": "2024-04-15T10:36:53.861Z"
   },
   {
    "duration": 18,
    "start_time": "2024-04-15T10:36:53.892Z"
   },
   {
    "duration": 5,
    "start_time": "2024-04-15T10:36:53.912Z"
   },
   {
    "duration": 30,
    "start_time": "2024-04-15T10:36:53.918Z"
   },
   {
    "duration": 8,
    "start_time": "2024-04-15T10:36:53.950Z"
   },
   {
    "duration": 32,
    "start_time": "2024-04-15T10:36:53.959Z"
   },
   {
    "duration": 14,
    "start_time": "2024-04-15T10:36:53.993Z"
   },
   {
    "duration": 21,
    "start_time": "2024-04-15T10:36:54.009Z"
   },
   {
    "duration": 9,
    "start_time": "2024-04-15T10:36:54.032Z"
   },
   {
    "duration": 4,
    "start_time": "2024-04-15T10:36:54.042Z"
   },
   {
    "duration": 9,
    "start_time": "2024-04-15T10:36:54.048Z"
   },
   {
    "duration": 12,
    "start_time": "2024-04-15T10:36:54.058Z"
   },
   {
    "duration": 26,
    "start_time": "2024-04-15T10:36:54.072Z"
   },
   {
    "duration": 9,
    "start_time": "2024-04-15T10:36:54.099Z"
   },
   {
    "duration": 15,
    "start_time": "2024-04-15T10:36:54.111Z"
   },
   {
    "duration": 22,
    "start_time": "2024-04-15T10:36:54.128Z"
   },
   {
    "duration": 408,
    "start_time": "2024-04-15T10:36:54.151Z"
   },
   {
    "duration": 330,
    "start_time": "2024-04-15T10:36:54.561Z"
   },
   {
    "duration": 14,
    "start_time": "2024-04-15T10:36:54.893Z"
   },
   {
    "duration": 1163,
    "start_time": "2024-04-15T10:36:54.909Z"
   },
   {
    "duration": 29,
    "start_time": "2024-04-15T10:36:56.074Z"
   },
   {
    "duration": 8,
    "start_time": "2024-04-15T10:36:56.105Z"
   },
   {
    "duration": 24,
    "start_time": "2024-04-15T10:36:56.115Z"
   },
   {
    "duration": 28,
    "start_time": "2024-04-15T10:36:56.141Z"
   },
   {
    "duration": 30,
    "start_time": "2024-04-15T10:36:56.170Z"
   },
   {
    "duration": 440,
    "start_time": "2024-04-15T10:36:56.202Z"
   },
   {
    "duration": 427,
    "start_time": "2024-04-15T10:37:40.860Z"
   },
   {
    "duration": 457,
    "start_time": "2024-04-15T10:38:05.591Z"
   },
   {
    "duration": 323,
    "start_time": "2024-04-15T10:38:40.264Z"
   },
   {
    "duration": 443,
    "start_time": "2024-04-15T10:38:54.085Z"
   },
   {
    "duration": 14,
    "start_time": "2024-04-15T10:54:55.631Z"
   },
   {
    "duration": 97,
    "start_time": "2024-04-15T10:55:36.654Z"
   },
   {
    "duration": 26,
    "start_time": "2024-04-15T10:55:51.887Z"
   },
   {
    "duration": 126,
    "start_time": "2024-04-15T10:58:26.241Z"
   },
   {
    "duration": 172,
    "start_time": "2024-04-15T11:01:00.365Z"
   },
   {
    "duration": 17,
    "start_time": "2024-04-15T11:02:18.576Z"
   },
   {
    "duration": 1326,
    "start_time": "2024-04-15T11:03:02.752Z"
   },
   {
    "duration": 81,
    "start_time": "2024-04-15T11:03:04.081Z"
   },
   {
    "duration": 19,
    "start_time": "2024-04-15T11:03:04.165Z"
   },
   {
    "duration": 26,
    "start_time": "2024-04-15T11:03:04.191Z"
   },
   {
    "duration": 38,
    "start_time": "2024-04-15T11:03:04.218Z"
   },
   {
    "duration": 29,
    "start_time": "2024-04-15T11:03:04.258Z"
   },
   {
    "duration": 91,
    "start_time": "2024-04-15T11:03:04.289Z"
   },
   {
    "duration": 8,
    "start_time": "2024-04-15T11:03:04.382Z"
   },
   {
    "duration": 22,
    "start_time": "2024-04-15T11:03:04.392Z"
   },
   {
    "duration": 7,
    "start_time": "2024-04-15T11:03:04.415Z"
   },
   {
    "duration": 8,
    "start_time": "2024-04-15T11:03:04.424Z"
   },
   {
    "duration": 10,
    "start_time": "2024-04-15T11:03:04.434Z"
   },
   {
    "duration": 24,
    "start_time": "2024-04-15T11:03:04.448Z"
   },
   {
    "duration": 14,
    "start_time": "2024-04-15T11:03:04.474Z"
   },
   {
    "duration": 14,
    "start_time": "2024-04-15T11:03:04.491Z"
   },
   {
    "duration": 8,
    "start_time": "2024-04-15T11:03:04.508Z"
   },
   {
    "duration": 10,
    "start_time": "2024-04-15T11:03:04.518Z"
   },
   {
    "duration": 15,
    "start_time": "2024-04-15T11:03:04.530Z"
   },
   {
    "duration": 28,
    "start_time": "2024-04-15T11:03:04.547Z"
   },
   {
    "duration": 48,
    "start_time": "2024-04-15T11:03:04.576Z"
   },
   {
    "duration": 42,
    "start_time": "2024-04-15T11:03:04.626Z"
   },
   {
    "duration": 12,
    "start_time": "2024-04-15T11:03:04.670Z"
   },
   {
    "duration": 9,
    "start_time": "2024-04-15T11:03:04.683Z"
   },
   {
    "duration": 7,
    "start_time": "2024-04-15T11:03:04.694Z"
   },
   {
    "duration": 11,
    "start_time": "2024-04-15T11:03:04.702Z"
   },
   {
    "duration": 19,
    "start_time": "2024-04-15T11:03:04.715Z"
   },
   {
    "duration": 30,
    "start_time": "2024-04-15T11:03:04.736Z"
   },
   {
    "duration": 23,
    "start_time": "2024-04-15T11:03:04.768Z"
   },
   {
    "duration": 13,
    "start_time": "2024-04-15T11:03:04.793Z"
   },
   {
    "duration": 503,
    "start_time": "2024-04-15T11:03:04.808Z"
   },
   {
    "duration": 365,
    "start_time": "2024-04-15T11:03:05.315Z"
   },
   {
    "duration": 14,
    "start_time": "2024-04-15T11:03:05.681Z"
   },
   {
    "duration": 1276,
    "start_time": "2024-04-15T11:03:05.697Z"
   },
   {
    "duration": 34,
    "start_time": "2024-04-15T11:03:06.975Z"
   },
   {
    "duration": 7,
    "start_time": "2024-04-15T11:03:07.011Z"
   },
   {
    "duration": 27,
    "start_time": "2024-04-15T11:03:07.019Z"
   },
   {
    "duration": 18,
    "start_time": "2024-04-15T11:03:07.048Z"
   },
   {
    "duration": 40,
    "start_time": "2024-04-15T11:03:07.067Z"
   },
   {
    "duration": 602,
    "start_time": "2024-04-15T11:03:07.109Z"
   },
   {
    "duration": 17,
    "start_time": "2024-04-15T11:03:07.716Z"
   },
   {
    "duration": 278,
    "start_time": "2024-04-15T11:05:59.137Z"
   },
   {
    "duration": 302,
    "start_time": "2024-04-15T11:07:21.375Z"
   },
   {
    "duration": 377,
    "start_time": "2024-04-15T11:07:46.654Z"
   },
   {
    "duration": 287,
    "start_time": "2024-04-15T11:08:09.721Z"
   },
   {
    "duration": 295,
    "start_time": "2024-04-15T11:08:28.086Z"
   },
   {
    "duration": 293,
    "start_time": "2024-04-15T11:08:40.001Z"
   },
   {
    "duration": 11,
    "start_time": "2024-04-15T11:09:53.138Z"
   },
   {
    "duration": 298,
    "start_time": "2024-04-15T11:11:06.081Z"
   },
   {
    "duration": 318,
    "start_time": "2024-04-15T11:13:06.767Z"
   },
   {
    "duration": 9,
    "start_time": "2024-04-15T11:13:27.871Z"
   },
   {
    "duration": 18,
    "start_time": "2024-04-15T11:37:44.405Z"
   },
   {
    "duration": 14,
    "start_time": "2024-04-15T11:38:16.970Z"
   },
   {
    "duration": 13,
    "start_time": "2024-04-15T11:39:26.447Z"
   },
   {
    "duration": 15,
    "start_time": "2024-04-15T11:39:30.178Z"
   },
   {
    "duration": 15,
    "start_time": "2024-04-15T11:39:43.948Z"
   },
   {
    "duration": 16,
    "start_time": "2024-04-15T11:40:46.107Z"
   },
   {
    "duration": 436,
    "start_time": "2024-04-15T11:42:57.780Z"
   },
   {
    "duration": 182,
    "start_time": "2024-04-15T11:43:14.257Z"
   },
   {
    "duration": 1256,
    "start_time": "2024-04-15T11:43:41.004Z"
   },
   {
    "duration": 84,
    "start_time": "2024-04-15T11:43:42.262Z"
   },
   {
    "duration": 16,
    "start_time": "2024-04-15T11:43:42.347Z"
   },
   {
    "duration": 6,
    "start_time": "2024-04-15T11:43:42.365Z"
   },
   {
    "duration": 44,
    "start_time": "2024-04-15T11:43:42.373Z"
   },
   {
    "duration": 10,
    "start_time": "2024-04-15T11:43:42.418Z"
   },
   {
    "duration": 87,
    "start_time": "2024-04-15T11:43:42.430Z"
   },
   {
    "duration": 7,
    "start_time": "2024-04-15T11:43:42.519Z"
   },
   {
    "duration": 7,
    "start_time": "2024-04-15T11:43:42.527Z"
   },
   {
    "duration": 14,
    "start_time": "2024-04-15T11:43:42.536Z"
   },
   {
    "duration": 13,
    "start_time": "2024-04-15T11:43:42.551Z"
   },
   {
    "duration": 38,
    "start_time": "2024-04-15T11:43:42.565Z"
   },
   {
    "duration": 5,
    "start_time": "2024-04-15T11:43:42.605Z"
   },
   {
    "duration": 17,
    "start_time": "2024-04-15T11:43:42.611Z"
   },
   {
    "duration": 19,
    "start_time": "2024-04-15T11:43:42.630Z"
   },
   {
    "duration": 8,
    "start_time": "2024-04-15T11:43:42.650Z"
   },
   {
    "duration": 11,
    "start_time": "2024-04-15T11:43:42.659Z"
   },
   {
    "duration": 9,
    "start_time": "2024-04-15T11:43:42.672Z"
   },
   {
    "duration": 22,
    "start_time": "2024-04-15T11:43:42.683Z"
   },
   {
    "duration": 14,
    "start_time": "2024-04-15T11:43:42.707Z"
   },
   {
    "duration": 13,
    "start_time": "2024-04-15T11:43:42.723Z"
   },
   {
    "duration": 6,
    "start_time": "2024-04-15T11:43:42.738Z"
   },
   {
    "duration": 6,
    "start_time": "2024-04-15T11:43:42.745Z"
   },
   {
    "duration": 16,
    "start_time": "2024-04-15T11:43:42.753Z"
   },
   {
    "duration": 34,
    "start_time": "2024-04-15T11:43:42.771Z"
   },
   {
    "duration": 21,
    "start_time": "2024-04-15T11:43:42.807Z"
   },
   {
    "duration": 6,
    "start_time": "2024-04-15T11:43:42.830Z"
   },
   {
    "duration": 19,
    "start_time": "2024-04-15T11:43:42.840Z"
   },
   {
    "duration": 9,
    "start_time": "2024-04-15T11:43:42.860Z"
   },
   {
    "duration": 434,
    "start_time": "2024-04-15T11:43:42.871Z"
   },
   {
    "duration": 339,
    "start_time": "2024-04-15T11:43:43.307Z"
   },
   {
    "duration": 17,
    "start_time": "2024-04-15T11:43:43.647Z"
   },
   {
    "duration": 1212,
    "start_time": "2024-04-15T11:43:43.666Z"
   },
   {
    "duration": 30,
    "start_time": "2024-04-15T11:43:44.880Z"
   },
   {
    "duration": 13,
    "start_time": "2024-04-15T11:43:44.911Z"
   },
   {
    "duration": 14,
    "start_time": "2024-04-15T11:43:44.925Z"
   },
   {
    "duration": 28,
    "start_time": "2024-04-15T11:43:44.940Z"
   },
   {
    "duration": 37,
    "start_time": "2024-04-15T11:43:44.969Z"
   },
   {
    "duration": 517,
    "start_time": "2024-04-15T11:43:45.008Z"
   },
   {
    "duration": 336,
    "start_time": "2024-04-15T11:43:45.526Z"
   },
   {
    "duration": 8,
    "start_time": "2024-04-15T11:43:45.863Z"
   },
   {
    "duration": 40,
    "start_time": "2024-04-15T11:43:45.873Z"
   },
   {
    "duration": 308,
    "start_time": "2024-04-15T11:43:45.915Z"
   },
   {
    "duration": 210,
    "start_time": "2024-04-15T11:45:00.919Z"
   },
   {
    "duration": 187,
    "start_time": "2024-04-15T11:45:47.504Z"
   },
   {
    "duration": 301,
    "start_time": "2024-04-15T11:46:27.655Z"
   },
   {
    "duration": 23,
    "start_time": "2024-04-15T12:22:32.934Z"
   },
   {
    "duration": 10,
    "start_time": "2024-04-15T12:23:41.168Z"
   },
   {
    "duration": 16,
    "start_time": "2024-04-15T12:23:57.378Z"
   },
   {
    "duration": 217,
    "start_time": "2024-04-15T12:25:16.310Z"
   },
   {
    "duration": 1521,
    "start_time": "2024-04-15T12:27:13.520Z"
   },
   {
    "duration": 1511,
    "start_time": "2024-04-15T12:27:37.830Z"
   },
   {
    "duration": 13,
    "start_time": "2024-04-15T12:28:20.516Z"
   },
   {
    "duration": 955,
    "start_time": "2024-04-15T12:28:33.811Z"
   },
   {
    "duration": 1049,
    "start_time": "2024-04-15T12:28:49.826Z"
   },
   {
    "duration": 1141,
    "start_time": "2024-04-15T12:29:03.866Z"
   },
   {
    "duration": 1003,
    "start_time": "2024-04-15T12:57:13.655Z"
   },
   {
    "duration": 23,
    "start_time": "2024-04-15T13:12:24.892Z"
   },
   {
    "duration": 1236,
    "start_time": "2024-04-15T13:30:13.487Z"
   },
   {
    "duration": 1180,
    "start_time": "2024-04-15T13:30:22.861Z"
   },
   {
    "duration": 76,
    "start_time": "2024-04-15T13:30:24.043Z"
   },
   {
    "duration": 16,
    "start_time": "2024-04-15T13:30:24.121Z"
   },
   {
    "duration": 7,
    "start_time": "2024-04-15T13:30:24.139Z"
   },
   {
    "duration": 20,
    "start_time": "2024-04-15T13:30:24.147Z"
   },
   {
    "duration": 35,
    "start_time": "2024-04-15T13:30:24.168Z"
   },
   {
    "duration": 55,
    "start_time": "2024-04-15T13:30:24.205Z"
   },
   {
    "duration": 6,
    "start_time": "2024-04-15T13:30:24.262Z"
   },
   {
    "duration": 14,
    "start_time": "2024-04-15T13:30:24.270Z"
   },
   {
    "duration": 33,
    "start_time": "2024-04-15T13:30:24.286Z"
   },
   {
    "duration": 4,
    "start_time": "2024-04-15T13:30:24.321Z"
   },
   {
    "duration": 17,
    "start_time": "2024-04-15T13:30:24.327Z"
   },
   {
    "duration": 25,
    "start_time": "2024-04-15T13:30:24.346Z"
   },
   {
    "duration": 32,
    "start_time": "2024-04-15T13:30:24.373Z"
   },
   {
    "duration": 14,
    "start_time": "2024-04-15T13:30:24.407Z"
   },
   {
    "duration": 17,
    "start_time": "2024-04-15T13:30:24.423Z"
   },
   {
    "duration": 8,
    "start_time": "2024-04-15T13:30:24.442Z"
   },
   {
    "duration": 14,
    "start_time": "2024-04-15T13:30:24.451Z"
   },
   {
    "duration": 18,
    "start_time": "2024-04-15T13:30:24.467Z"
   },
   {
    "duration": 24,
    "start_time": "2024-04-15T13:30:24.487Z"
   },
   {
    "duration": 15,
    "start_time": "2024-04-15T13:30:24.512Z"
   },
   {
    "duration": 13,
    "start_time": "2024-04-15T13:30:24.529Z"
   },
   {
    "duration": 11,
    "start_time": "2024-04-15T13:30:24.543Z"
   },
   {
    "duration": 16,
    "start_time": "2024-04-15T13:30:24.555Z"
   },
   {
    "duration": 6,
    "start_time": "2024-04-15T13:30:24.573Z"
   },
   {
    "duration": 19,
    "start_time": "2024-04-15T13:30:24.581Z"
   },
   {
    "duration": 21,
    "start_time": "2024-04-15T13:30:24.601Z"
   },
   {
    "duration": 20,
    "start_time": "2024-04-15T13:30:24.626Z"
   },
   {
    "duration": 23,
    "start_time": "2024-04-15T13:30:24.648Z"
   },
   {
    "duration": 436,
    "start_time": "2024-04-15T13:30:24.672Z"
   },
   {
    "duration": 335,
    "start_time": "2024-04-15T13:30:25.110Z"
   },
   {
    "duration": 15,
    "start_time": "2024-04-15T13:30:25.446Z"
   },
   {
    "duration": 1239,
    "start_time": "2024-04-15T13:30:25.463Z"
   },
   {
    "duration": 23,
    "start_time": "2024-04-15T13:30:26.704Z"
   },
   {
    "duration": 6,
    "start_time": "2024-04-15T13:30:26.729Z"
   },
   {
    "duration": 12,
    "start_time": "2024-04-15T13:30:26.737Z"
   },
   {
    "duration": 20,
    "start_time": "2024-04-15T13:30:26.751Z"
   },
   {
    "duration": 33,
    "start_time": "2024-04-15T13:30:26.773Z"
   },
   {
    "duration": 504,
    "start_time": "2024-04-15T13:30:26.808Z"
   },
   {
    "duration": 349,
    "start_time": "2024-04-15T13:30:27.314Z"
   },
   {
    "duration": 8,
    "start_time": "2024-04-15T13:30:27.665Z"
   },
   {
    "duration": 35,
    "start_time": "2024-04-15T13:30:27.675Z"
   },
   {
    "duration": 1114,
    "start_time": "2024-04-15T13:30:27.712Z"
   },
   {
    "duration": 1040,
    "start_time": "2024-04-15T13:44:20.825Z"
   },
   {
    "duration": 136,
    "start_time": "2024-04-15T14:12:46.384Z"
   },
   {
    "duration": 81,
    "start_time": "2024-04-15T14:15:03.822Z"
   },
   {
    "duration": 88,
    "start_time": "2024-04-15T14:17:07.518Z"
   },
   {
    "duration": 211,
    "start_time": "2024-04-15T14:17:23.982Z"
   },
   {
    "duration": 209,
    "start_time": "2024-04-15T14:17:41.330Z"
   },
   {
    "duration": 232,
    "start_time": "2024-04-15T14:21:21.319Z"
   },
   {
    "duration": 18,
    "start_time": "2024-04-15T15:35:26.099Z"
   },
   {
    "duration": 85,
    "start_time": "2024-04-15T15:36:31.210Z"
   },
   {
    "duration": 82,
    "start_time": "2024-04-15T15:37:21.750Z"
   },
   {
    "duration": 86,
    "start_time": "2024-04-15T15:37:52.233Z"
   },
   {
    "duration": 93,
    "start_time": "2024-04-15T15:38:06.687Z"
   },
   {
    "duration": 22,
    "start_time": "2024-04-15T15:38:57.440Z"
   },
   {
    "duration": 18,
    "start_time": "2024-04-15T15:46:40.152Z"
   },
   {
    "duration": 19,
    "start_time": "2024-04-15T15:48:18.517Z"
   },
   {
    "duration": 17,
    "start_time": "2024-04-15T15:50:35.775Z"
   },
   {
    "duration": 14,
    "start_time": "2024-04-15T15:50:45.744Z"
   },
   {
    "duration": 16,
    "start_time": "2024-04-15T15:50:52.758Z"
   },
   {
    "duration": 29,
    "start_time": "2024-04-15T15:51:43.717Z"
   },
   {
    "duration": 31,
    "start_time": "2024-04-15T15:51:58.114Z"
   },
   {
    "duration": 30,
    "start_time": "2024-04-15T15:52:09.220Z"
   },
   {
    "duration": 21,
    "start_time": "2024-04-15T15:55:22.651Z"
   },
   {
    "duration": 127,
    "start_time": "2024-04-15T15:56:54.577Z"
   },
   {
    "duration": 30,
    "start_time": "2024-04-15T15:58:59.577Z"
   },
   {
    "duration": 7,
    "start_time": "2024-04-15T15:59:28.483Z"
   },
   {
    "duration": 7,
    "start_time": "2024-04-15T15:59:38.559Z"
   },
   {
    "duration": 7,
    "start_time": "2024-04-15T15:59:51.077Z"
   },
   {
    "duration": 7,
    "start_time": "2024-04-15T16:00:05.717Z"
   },
   {
    "duration": 7,
    "start_time": "2024-04-15T16:00:16.772Z"
   },
   {
    "duration": 10,
    "start_time": "2024-04-15T16:02:03.966Z"
   },
   {
    "duration": 10,
    "start_time": "2024-04-15T16:02:48.475Z"
   },
   {
    "duration": 20,
    "start_time": "2024-04-15T16:04:08.038Z"
   },
   {
    "duration": 10,
    "start_time": "2024-04-15T16:05:44.343Z"
   },
   {
    "duration": 1514,
    "start_time": "2024-04-15T16:06:02.403Z"
   },
   {
    "duration": 7,
    "start_time": "2024-04-15T16:06:14.729Z"
   },
   {
    "duration": 219,
    "start_time": "2024-04-15T16:11:15.996Z"
   },
   {
    "duration": 195,
    "start_time": "2024-04-15T16:14:00.088Z"
   },
   {
    "duration": 359,
    "start_time": "2024-04-15T16:14:59.529Z"
   },
   {
    "duration": 30,
    "start_time": "2024-04-15T16:15:17.579Z"
   },
   {
    "duration": 8,
    "start_time": "2024-04-15T16:15:34.004Z"
   },
   {
    "duration": 7,
    "start_time": "2024-04-15T16:15:45.302Z"
   },
   {
    "duration": 211,
    "start_time": "2024-04-15T16:16:30.507Z"
   },
   {
    "duration": 8,
    "start_time": "2024-04-15T16:19:13.880Z"
   },
   {
    "duration": 1231,
    "start_time": "2024-04-15T16:19:25.313Z"
   },
   {
    "duration": 71,
    "start_time": "2024-04-15T16:19:26.546Z"
   },
   {
    "duration": 16,
    "start_time": "2024-04-15T16:19:26.619Z"
   },
   {
    "duration": 7,
    "start_time": "2024-04-15T16:19:26.637Z"
   },
   {
    "duration": 22,
    "start_time": "2024-04-15T16:19:26.645Z"
   },
   {
    "duration": 24,
    "start_time": "2024-04-15T16:19:26.668Z"
   },
   {
    "duration": 56,
    "start_time": "2024-04-15T16:19:26.694Z"
   },
   {
    "duration": 7,
    "start_time": "2024-04-15T16:19:26.751Z"
   },
   {
    "duration": 6,
    "start_time": "2024-04-15T16:19:26.760Z"
   },
   {
    "duration": 7,
    "start_time": "2024-04-15T16:19:26.793Z"
   },
   {
    "duration": 4,
    "start_time": "2024-04-15T16:19:26.801Z"
   },
   {
    "duration": 9,
    "start_time": "2024-04-15T16:19:26.806Z"
   },
   {
    "duration": 13,
    "start_time": "2024-04-15T16:19:26.817Z"
   },
   {
    "duration": 12,
    "start_time": "2024-04-15T16:19:26.831Z"
   },
   {
    "duration": 13,
    "start_time": "2024-04-15T16:19:26.845Z"
   },
   {
    "duration": 10,
    "start_time": "2024-04-15T16:19:26.860Z"
   },
   {
    "duration": 5,
    "start_time": "2024-04-15T16:19:26.871Z"
   },
   {
    "duration": 16,
    "start_time": "2024-04-15T16:19:26.877Z"
   },
   {
    "duration": 16,
    "start_time": "2024-04-15T16:19:26.894Z"
   },
   {
    "duration": 16,
    "start_time": "2024-04-15T16:19:26.912Z"
   },
   {
    "duration": 27,
    "start_time": "2024-04-15T16:19:26.929Z"
   },
   {
    "duration": 15,
    "start_time": "2024-04-15T16:19:26.958Z"
   },
   {
    "duration": 19,
    "start_time": "2024-04-15T16:19:26.975Z"
   },
   {
    "duration": 9,
    "start_time": "2024-04-15T16:19:26.997Z"
   },
   {
    "duration": 19,
    "start_time": "2024-04-15T16:19:27.008Z"
   },
   {
    "duration": 22,
    "start_time": "2024-04-15T16:19:27.029Z"
   },
   {
    "duration": 8,
    "start_time": "2024-04-15T16:19:27.052Z"
   },
   {
    "duration": 15,
    "start_time": "2024-04-15T16:19:27.063Z"
   },
   {
    "duration": 20,
    "start_time": "2024-04-15T16:19:27.079Z"
   },
   {
    "duration": 441,
    "start_time": "2024-04-15T16:19:27.100Z"
   },
   {
    "duration": 390,
    "start_time": "2024-04-15T16:19:27.543Z"
   },
   {
    "duration": 15,
    "start_time": "2024-04-15T16:19:27.935Z"
   },
   {
    "duration": 1244,
    "start_time": "2024-04-15T16:19:27.951Z"
   },
   {
    "duration": 21,
    "start_time": "2024-04-15T16:19:29.197Z"
   },
   {
    "duration": 6,
    "start_time": "2024-04-15T16:19:29.220Z"
   },
   {
    "duration": 18,
    "start_time": "2024-04-15T16:19:29.228Z"
   },
   {
    "duration": 18,
    "start_time": "2024-04-15T16:19:29.248Z"
   },
   {
    "duration": 39,
    "start_time": "2024-04-15T16:19:29.268Z"
   },
   {
    "duration": 475,
    "start_time": "2024-04-15T16:19:29.309Z"
   },
   {
    "duration": 338,
    "start_time": "2024-04-15T16:19:29.786Z"
   },
   {
    "duration": 10,
    "start_time": "2024-04-15T16:19:30.126Z"
   },
   {
    "duration": 160,
    "start_time": "2024-04-15T16:19:30.137Z"
   },
   {
    "duration": 1125,
    "start_time": "2024-04-15T16:19:30.299Z"
   },
   {
    "duration": 1041,
    "start_time": "2024-04-15T16:19:31.426Z"
   },
   {
    "duration": 229,
    "start_time": "2024-04-15T16:19:32.468Z"
   },
   {
    "duration": 24,
    "start_time": "2024-04-15T16:19:32.699Z"
   },
   {
    "duration": 9,
    "start_time": "2024-04-15T16:19:32.725Z"
   },
   {
    "duration": 229,
    "start_time": "2024-04-15T16:19:32.736Z"
   },
   {
    "duration": 7,
    "start_time": "2024-04-15T16:19:32.967Z"
   },
   {
    "duration": 215,
    "start_time": "2024-04-15T16:19:32.976Z"
   },
   {
    "duration": 7,
    "start_time": "2024-04-15T16:19:33.193Z"
   },
   {
    "duration": 220,
    "start_time": "2024-04-15T16:19:33.202Z"
   },
   {
    "duration": 15,
    "start_time": "2024-04-15T16:58:30.010Z"
   },
   {
    "duration": 178,
    "start_time": "2024-04-15T17:07:56.860Z"
   },
   {
    "duration": 295,
    "start_time": "2024-04-15T17:12:52.756Z"
   },
   {
    "duration": 181,
    "start_time": "2024-04-15T17:26:15.836Z"
   },
   {
    "duration": 80,
    "start_time": "2024-04-15T17:26:55.048Z"
   },
   {
    "duration": 193,
    "start_time": "2024-04-15T17:27:07.348Z"
   },
   {
    "duration": 163,
    "start_time": "2024-04-15T17:28:22.302Z"
   },
   {
    "duration": 49,
    "start_time": "2024-04-16T09:51:33.437Z"
   },
   {
    "duration": 1290,
    "start_time": "2024-04-16T09:51:47.060Z"
   },
   {
    "duration": 124,
    "start_time": "2024-04-16T09:51:48.352Z"
   },
   {
    "duration": 17,
    "start_time": "2024-04-16T09:51:48.478Z"
   },
   {
    "duration": 13,
    "start_time": "2024-04-16T09:51:48.497Z"
   },
   {
    "duration": 19,
    "start_time": "2024-04-16T09:51:48.513Z"
   },
   {
    "duration": 8,
    "start_time": "2024-04-16T09:51:48.534Z"
   },
   {
    "duration": 53,
    "start_time": "2024-04-16T09:51:48.544Z"
   },
   {
    "duration": 5,
    "start_time": "2024-04-16T09:51:48.615Z"
   },
   {
    "duration": 9,
    "start_time": "2024-04-16T09:51:48.622Z"
   },
   {
    "duration": 6,
    "start_time": "2024-04-16T09:51:48.632Z"
   },
   {
    "duration": 10,
    "start_time": "2024-04-16T09:51:48.639Z"
   },
   {
    "duration": 4,
    "start_time": "2024-04-16T09:51:48.651Z"
   },
   {
    "duration": 6,
    "start_time": "2024-04-16T09:51:48.656Z"
   },
   {
    "duration": 13,
    "start_time": "2024-04-16T09:51:48.665Z"
   },
   {
    "duration": 34,
    "start_time": "2024-04-16T09:51:48.680Z"
   },
   {
    "duration": 4,
    "start_time": "2024-04-16T09:51:48.716Z"
   },
   {
    "duration": 13,
    "start_time": "2024-04-16T09:51:48.721Z"
   },
   {
    "duration": 6,
    "start_time": "2024-04-16T09:51:48.735Z"
   },
   {
    "duration": 14,
    "start_time": "2024-04-16T09:51:48.742Z"
   },
   {
    "duration": 13,
    "start_time": "2024-04-16T09:51:48.758Z"
   },
   {
    "duration": 6,
    "start_time": "2024-04-16T09:51:48.773Z"
   },
   {
    "duration": 4,
    "start_time": "2024-04-16T09:51:48.815Z"
   },
   {
    "duration": 4,
    "start_time": "2024-04-16T09:51:48.821Z"
   },
   {
    "duration": 6,
    "start_time": "2024-04-16T09:51:48.827Z"
   },
   {
    "duration": 11,
    "start_time": "2024-04-16T09:51:48.835Z"
   },
   {
    "duration": 14,
    "start_time": "2024-04-16T09:51:48.847Z"
   },
   {
    "duration": 9,
    "start_time": "2024-04-16T09:51:48.863Z"
   },
   {
    "duration": 44,
    "start_time": "2024-04-16T09:51:48.874Z"
   },
   {
    "duration": 18,
    "start_time": "2024-04-16T09:51:48.919Z"
   },
   {
    "duration": 401,
    "start_time": "2024-04-16T09:51:48.939Z"
   },
   {
    "duration": 302,
    "start_time": "2024-04-16T09:51:49.341Z"
   },
   {
    "duration": 12,
    "start_time": "2024-04-16T09:51:49.644Z"
   },
   {
    "duration": 1080,
    "start_time": "2024-04-16T09:51:49.658Z"
   },
   {
    "duration": 19,
    "start_time": "2024-04-16T09:51:50.739Z"
   },
   {
    "duration": 10,
    "start_time": "2024-04-16T09:51:50.760Z"
   },
   {
    "duration": 10,
    "start_time": "2024-04-16T09:51:50.771Z"
   },
   {
    "duration": 34,
    "start_time": "2024-04-16T09:51:50.782Z"
   },
   {
    "duration": 16,
    "start_time": "2024-04-16T09:51:50.817Z"
   },
   {
    "duration": 460,
    "start_time": "2024-04-16T09:51:50.835Z"
   },
   {
    "duration": 290,
    "start_time": "2024-04-16T09:51:51.297Z"
   },
   {
    "duration": 9,
    "start_time": "2024-04-16T09:51:51.591Z"
   },
   {
    "duration": 13,
    "start_time": "2024-04-16T09:51:51.615Z"
   },
   {
    "duration": 1006,
    "start_time": "2024-04-16T09:51:51.630Z"
   },
   {
    "duration": 944,
    "start_time": "2024-04-16T09:51:52.638Z"
   },
   {
    "duration": 195,
    "start_time": "2024-04-16T09:51:53.584Z"
   },
   {
    "duration": 34,
    "start_time": "2024-04-16T09:51:53.780Z"
   },
   {
    "duration": 6,
    "start_time": "2024-04-16T09:51:53.816Z"
   },
   {
    "duration": 194,
    "start_time": "2024-04-16T09:51:53.824Z"
   },
   {
    "duration": 7,
    "start_time": "2024-04-16T09:51:54.019Z"
   },
   {
    "duration": 222,
    "start_time": "2024-04-16T09:51:54.027Z"
   },
   {
    "duration": 7,
    "start_time": "2024-04-16T09:51:54.251Z"
   },
   {
    "duration": 210,
    "start_time": "2024-04-16T09:51:54.259Z"
   },
   {
    "duration": 12,
    "start_time": "2024-04-16T09:51:54.470Z"
   },
   {
    "duration": 189,
    "start_time": "2024-04-16T09:51:54.484Z"
   },
   {
    "duration": 259,
    "start_time": "2024-04-16T09:51:54.675Z"
   },
   {
    "duration": 163,
    "start_time": "2024-04-16T09:51:54.936Z"
   },
   {
    "duration": 21,
    "start_time": "2024-04-16T09:51:55.100Z"
   },
   {
    "duration": 140,
    "start_time": "2024-04-16T09:54:00.534Z"
   },
   {
    "duration": 168,
    "start_time": "2024-04-16T09:55:32.874Z"
   },
   {
    "duration": 153,
    "start_time": "2024-04-16T09:55:59.297Z"
   },
   {
    "duration": 174,
    "start_time": "2024-04-16T09:57:12.500Z"
   },
   {
    "duration": 163,
    "start_time": "2024-04-16T09:57:16.958Z"
   },
   {
    "duration": 12,
    "start_time": "2024-04-16T10:37:31.847Z"
   },
   {
    "duration": 10,
    "start_time": "2024-04-16T10:39:10.753Z"
   },
   {
    "duration": 11,
    "start_time": "2024-04-16T10:39:36.025Z"
   },
   {
    "duration": 12,
    "start_time": "2024-04-16T10:46:35.711Z"
   },
   {
    "duration": 1140,
    "start_time": "2024-04-16T10:49:19.188Z"
   },
   {
    "duration": 70,
    "start_time": "2024-04-16T10:49:20.330Z"
   },
   {
    "duration": 14,
    "start_time": "2024-04-16T10:49:20.403Z"
   },
   {
    "duration": 6,
    "start_time": "2024-04-16T10:49:20.419Z"
   },
   {
    "duration": 17,
    "start_time": "2024-04-16T10:49:20.426Z"
   },
   {
    "duration": 9,
    "start_time": "2024-04-16T10:49:20.444Z"
   },
   {
    "duration": 76,
    "start_time": "2024-04-16T10:49:20.454Z"
   },
   {
    "duration": 5,
    "start_time": "2024-04-16T10:49:20.532Z"
   },
   {
    "duration": 5,
    "start_time": "2024-04-16T10:49:20.539Z"
   },
   {
    "duration": 5,
    "start_time": "2024-04-16T10:49:20.546Z"
   },
   {
    "duration": 8,
    "start_time": "2024-04-16T10:49:20.553Z"
   },
   {
    "duration": 6,
    "start_time": "2024-04-16T10:49:20.562Z"
   },
   {
    "duration": 8,
    "start_time": "2024-04-16T10:49:20.570Z"
   },
   {
    "duration": 39,
    "start_time": "2024-04-16T10:49:20.580Z"
   },
   {
    "duration": 25,
    "start_time": "2024-04-16T10:49:20.620Z"
   },
   {
    "duration": 8,
    "start_time": "2024-04-16T10:49:20.647Z"
   },
   {
    "duration": 9,
    "start_time": "2024-04-16T10:49:20.656Z"
   },
   {
    "duration": 21,
    "start_time": "2024-04-16T10:49:20.666Z"
   },
   {
    "duration": 30,
    "start_time": "2024-04-16T10:49:20.688Z"
   },
   {
    "duration": 39,
    "start_time": "2024-04-16T10:49:20.719Z"
   },
   {
    "duration": 25,
    "start_time": "2024-04-16T10:49:20.760Z"
   },
   {
    "duration": 18,
    "start_time": "2024-04-16T10:49:20.787Z"
   },
   {
    "duration": 12,
    "start_time": "2024-04-16T10:49:20.806Z"
   },
   {
    "duration": 21,
    "start_time": "2024-04-16T10:49:20.820Z"
   },
   {
    "duration": 17,
    "start_time": "2024-04-16T10:49:20.845Z"
   },
   {
    "duration": 27,
    "start_time": "2024-04-16T10:49:20.863Z"
   },
   {
    "duration": 6,
    "start_time": "2024-04-16T10:49:20.892Z"
   },
   {
    "duration": 14,
    "start_time": "2024-04-16T10:49:20.900Z"
   },
   {
    "duration": 13,
    "start_time": "2024-04-16T10:49:20.915Z"
   },
   {
    "duration": 386,
    "start_time": "2024-04-16T10:49:20.930Z"
   },
   {
    "duration": 319,
    "start_time": "2024-04-16T10:49:21.318Z"
   },
   {
    "duration": 14,
    "start_time": "2024-04-16T10:49:21.639Z"
   },
   {
    "duration": 1083,
    "start_time": "2024-04-16T10:49:21.655Z"
   },
   {
    "duration": 21,
    "start_time": "2024-04-16T10:49:22.740Z"
   },
   {
    "duration": 9,
    "start_time": "2024-04-16T10:49:22.763Z"
   },
   {
    "duration": 15,
    "start_time": "2024-04-16T10:49:22.774Z"
   },
   {
    "duration": 33,
    "start_time": "2024-04-16T10:49:22.790Z"
   },
   {
    "duration": 16,
    "start_time": "2024-04-16T10:49:22.825Z"
   },
   {
    "duration": 434,
    "start_time": "2024-04-16T10:49:22.842Z"
   },
   {
    "duration": 286,
    "start_time": "2024-04-16T10:49:23.280Z"
   },
   {
    "duration": 8,
    "start_time": "2024-04-16T10:49:23.568Z"
   },
   {
    "duration": 14,
    "start_time": "2024-04-16T10:49:23.577Z"
   },
   {
    "duration": 1049,
    "start_time": "2024-04-16T10:49:23.593Z"
   },
   {
    "duration": 912,
    "start_time": "2024-04-16T10:49:24.643Z"
   },
   {
    "duration": 199,
    "start_time": "2024-04-16T10:49:25.557Z"
   },
   {
    "duration": 23,
    "start_time": "2024-04-16T10:49:25.758Z"
   },
   {
    "duration": 20,
    "start_time": "2024-04-16T10:49:25.783Z"
   },
   {
    "duration": 191,
    "start_time": "2024-04-16T10:49:25.815Z"
   },
   {
    "duration": 12,
    "start_time": "2024-04-16T10:49:26.007Z"
   },
   {
    "duration": 194,
    "start_time": "2024-04-16T10:49:26.020Z"
   },
   {
    "duration": 7,
    "start_time": "2024-04-16T10:49:26.216Z"
   },
   {
    "duration": 226,
    "start_time": "2024-04-16T10:49:26.224Z"
   },
   {
    "duration": 11,
    "start_time": "2024-04-16T10:49:26.451Z"
   },
   {
    "duration": 176,
    "start_time": "2024-04-16T10:49:26.464Z"
   },
   {
    "duration": 266,
    "start_time": "2024-04-16T10:49:26.642Z"
   },
   {
    "duration": 173,
    "start_time": "2024-04-16T10:49:26.910Z"
   },
   {
    "duration": 13,
    "start_time": "2024-04-16T10:49:27.084Z"
   },
   {
    "duration": 173,
    "start_time": "2024-04-16T10:49:27.099Z"
   },
   {
    "duration": 172,
    "start_time": "2024-04-16T10:49:27.274Z"
   },
   {
    "duration": 156,
    "start_time": "2024-04-16T10:49:27.447Z"
   },
   {
    "duration": 17,
    "start_time": "2024-04-16T10:49:27.605Z"
   },
   {
    "duration": 9,
    "start_time": "2024-04-16T10:49:27.624Z"
   },
   {
    "duration": 1256,
    "start_time": "2024-04-16T11:10:14.724Z"
   },
   {
    "duration": 74,
    "start_time": "2024-04-16T11:10:15.982Z"
   },
   {
    "duration": 16,
    "start_time": "2024-04-16T11:10:16.057Z"
   },
   {
    "duration": 8,
    "start_time": "2024-04-16T11:10:16.075Z"
   },
   {
    "duration": 36,
    "start_time": "2024-04-16T11:10:16.084Z"
   },
   {
    "duration": 10,
    "start_time": "2024-04-16T11:10:16.122Z"
   },
   {
    "duration": 56,
    "start_time": "2024-04-16T11:10:16.133Z"
   },
   {
    "duration": 8,
    "start_time": "2024-04-16T11:10:16.214Z"
   },
   {
    "duration": 14,
    "start_time": "2024-04-16T11:10:16.223Z"
   },
   {
    "duration": 7,
    "start_time": "2024-04-16T11:10:16.240Z"
   },
   {
    "duration": 22,
    "start_time": "2024-04-16T11:10:16.249Z"
   },
   {
    "duration": 11,
    "start_time": "2024-04-16T11:10:16.272Z"
   },
   {
    "duration": 9,
    "start_time": "2024-04-16T11:10:16.285Z"
   },
   {
    "duration": 13,
    "start_time": "2024-04-16T11:10:16.295Z"
   },
   {
    "duration": 5,
    "start_time": "2024-04-16T11:10:16.315Z"
   },
   {
    "duration": 8,
    "start_time": "2024-04-16T11:10:16.322Z"
   },
   {
    "duration": 12,
    "start_time": "2024-04-16T11:10:16.332Z"
   },
   {
    "duration": 13,
    "start_time": "2024-04-16T11:10:16.345Z"
   },
   {
    "duration": 22,
    "start_time": "2024-04-16T11:10:16.360Z"
   },
   {
    "duration": 33,
    "start_time": "2024-04-16T11:10:16.384Z"
   },
   {
    "duration": 8,
    "start_time": "2024-04-16T11:10:16.418Z"
   },
   {
    "duration": 14,
    "start_time": "2024-04-16T11:10:16.427Z"
   },
   {
    "duration": 4,
    "start_time": "2024-04-16T11:10:16.443Z"
   },
   {
    "duration": 17,
    "start_time": "2024-04-16T11:10:16.449Z"
   },
   {
    "duration": 21,
    "start_time": "2024-04-16T11:10:16.467Z"
   },
   {
    "duration": 19,
    "start_time": "2024-04-16T11:10:16.490Z"
   },
   {
    "duration": 19,
    "start_time": "2024-04-16T11:10:16.510Z"
   },
   {
    "duration": 22,
    "start_time": "2024-04-16T11:10:16.533Z"
   },
   {
    "duration": 24,
    "start_time": "2024-04-16T11:10:16.556Z"
   },
   {
    "duration": 414,
    "start_time": "2024-04-16T11:10:16.582Z"
   },
   {
    "duration": 358,
    "start_time": "2024-04-16T11:10:16.998Z"
   },
   {
    "duration": 14,
    "start_time": "2024-04-16T11:10:17.358Z"
   },
   {
    "duration": 1203,
    "start_time": "2024-04-16T11:10:17.374Z"
   },
   {
    "duration": 22,
    "start_time": "2024-04-16T11:10:18.579Z"
   },
   {
    "duration": 7,
    "start_time": "2024-04-16T11:10:18.615Z"
   },
   {
    "duration": 9,
    "start_time": "2024-04-16T11:10:18.624Z"
   },
   {
    "duration": 14,
    "start_time": "2024-04-16T11:10:18.635Z"
   },
   {
    "duration": 16,
    "start_time": "2024-04-16T11:10:18.651Z"
   },
   {
    "duration": 501,
    "start_time": "2024-04-16T11:10:18.669Z"
   },
   {
    "duration": 321,
    "start_time": "2024-04-16T11:10:19.171Z"
   },
   {
    "duration": 23,
    "start_time": "2024-04-16T11:10:19.494Z"
   },
   {
    "duration": 14,
    "start_time": "2024-04-16T11:10:19.519Z"
   },
   {
    "duration": 1071,
    "start_time": "2024-04-16T11:10:19.536Z"
   },
   {
    "duration": 988,
    "start_time": "2024-04-16T11:10:20.609Z"
   },
   {
    "duration": 216,
    "start_time": "2024-04-16T11:10:21.599Z"
   },
   {
    "duration": 21,
    "start_time": "2024-04-16T11:10:21.816Z"
   },
   {
    "duration": 6,
    "start_time": "2024-04-16T11:10:21.839Z"
   },
   {
    "duration": 217,
    "start_time": "2024-04-16T11:10:21.846Z"
   },
   {
    "duration": 6,
    "start_time": "2024-04-16T11:10:22.065Z"
   },
   {
    "duration": 206,
    "start_time": "2024-04-16T11:10:22.072Z"
   },
   {
    "duration": 6,
    "start_time": "2024-04-16T11:10:22.280Z"
   },
   {
    "duration": 214,
    "start_time": "2024-04-16T11:10:22.288Z"
   },
   {
    "duration": 11,
    "start_time": "2024-04-16T11:10:22.504Z"
   },
   {
    "duration": 184,
    "start_time": "2024-04-16T11:10:22.517Z"
   },
   {
    "duration": 279,
    "start_time": "2024-04-16T11:10:22.703Z"
   },
   {
    "duration": 171,
    "start_time": "2024-04-16T11:10:22.984Z"
   },
   {
    "duration": 11,
    "start_time": "2024-04-16T11:10:23.157Z"
   },
   {
    "duration": 157,
    "start_time": "2024-04-16T11:10:23.169Z"
   },
   {
    "duration": 178,
    "start_time": "2024-04-16T11:10:23.328Z"
   },
   {
    "duration": 158,
    "start_time": "2024-04-16T11:10:23.508Z"
   },
   {
    "duration": 10,
    "start_time": "2024-04-16T11:10:23.668Z"
   },
   {
    "duration": 21,
    "start_time": "2024-04-16T11:10:23.679Z"
   },
   {
    "duration": 1496,
    "start_time": "2024-04-16T11:28:41.146Z"
   },
   {
    "duration": 86,
    "start_time": "2024-04-16T11:28:42.644Z"
   },
   {
    "duration": 18,
    "start_time": "2024-04-16T11:28:42.733Z"
   },
   {
    "duration": 14,
    "start_time": "2024-04-16T11:28:42.753Z"
   },
   {
    "duration": 23,
    "start_time": "2024-04-16T11:28:42.769Z"
   },
   {
    "duration": 14,
    "start_time": "2024-04-16T11:28:42.794Z"
   },
   {
    "duration": 158,
    "start_time": "2024-04-16T11:28:42.810Z"
   },
   {
    "duration": 0,
    "start_time": "2024-04-16T11:28:42.971Z"
   },
   {
    "duration": 0,
    "start_time": "2024-04-16T11:28:42.972Z"
   },
   {
    "duration": 0,
    "start_time": "2024-04-16T11:28:42.973Z"
   },
   {
    "duration": 0,
    "start_time": "2024-04-16T11:28:42.975Z"
   },
   {
    "duration": 0,
    "start_time": "2024-04-16T11:28:42.976Z"
   },
   {
    "duration": 0,
    "start_time": "2024-04-16T11:28:42.991Z"
   },
   {
    "duration": 0,
    "start_time": "2024-04-16T11:28:42.992Z"
   },
   {
    "duration": 0,
    "start_time": "2024-04-16T11:28:42.993Z"
   },
   {
    "duration": 0,
    "start_time": "2024-04-16T11:28:42.995Z"
   },
   {
    "duration": 0,
    "start_time": "2024-04-16T11:28:42.996Z"
   },
   {
    "duration": 0,
    "start_time": "2024-04-16T11:28:42.997Z"
   },
   {
    "duration": 0,
    "start_time": "2024-04-16T11:28:42.999Z"
   },
   {
    "duration": 0,
    "start_time": "2024-04-16T11:28:43.000Z"
   },
   {
    "duration": 0,
    "start_time": "2024-04-16T11:28:43.001Z"
   },
   {
    "duration": 0,
    "start_time": "2024-04-16T11:28:43.002Z"
   },
   {
    "duration": 0,
    "start_time": "2024-04-16T11:28:43.003Z"
   },
   {
    "duration": 0,
    "start_time": "2024-04-16T11:28:43.004Z"
   },
   {
    "duration": 0,
    "start_time": "2024-04-16T11:28:43.005Z"
   },
   {
    "duration": 0,
    "start_time": "2024-04-16T11:28:43.007Z"
   },
   {
    "duration": 0,
    "start_time": "2024-04-16T11:28:43.008Z"
   },
   {
    "duration": 0,
    "start_time": "2024-04-16T11:28:43.009Z"
   },
   {
    "duration": 0,
    "start_time": "2024-04-16T11:28:43.011Z"
   },
   {
    "duration": 0,
    "start_time": "2024-04-16T11:28:43.012Z"
   },
   {
    "duration": 0,
    "start_time": "2024-04-16T11:28:43.013Z"
   },
   {
    "duration": 0,
    "start_time": "2024-04-16T11:28:43.014Z"
   },
   {
    "duration": 0,
    "start_time": "2024-04-16T11:28:43.016Z"
   },
   {
    "duration": 0,
    "start_time": "2024-04-16T11:28:43.017Z"
   },
   {
    "duration": 0,
    "start_time": "2024-04-16T11:28:43.018Z"
   },
   {
    "duration": 0,
    "start_time": "2024-04-16T11:28:43.020Z"
   },
   {
    "duration": 0,
    "start_time": "2024-04-16T11:28:43.021Z"
   },
   {
    "duration": 0,
    "start_time": "2024-04-16T11:28:43.023Z"
   },
   {
    "duration": 0,
    "start_time": "2024-04-16T11:28:43.024Z"
   },
   {
    "duration": 0,
    "start_time": "2024-04-16T11:28:43.026Z"
   },
   {
    "duration": 0,
    "start_time": "2024-04-16T11:28:43.028Z"
   },
   {
    "duration": 0,
    "start_time": "2024-04-16T11:28:43.094Z"
   },
   {
    "duration": 0,
    "start_time": "2024-04-16T11:28:43.096Z"
   },
   {
    "duration": 0,
    "start_time": "2024-04-16T11:28:43.098Z"
   },
   {
    "duration": 0,
    "start_time": "2024-04-16T11:28:43.100Z"
   },
   {
    "duration": 0,
    "start_time": "2024-04-16T11:28:43.101Z"
   },
   {
    "duration": 0,
    "start_time": "2024-04-16T11:28:43.103Z"
   },
   {
    "duration": 0,
    "start_time": "2024-04-16T11:28:43.104Z"
   },
   {
    "duration": 0,
    "start_time": "2024-04-16T11:28:43.105Z"
   },
   {
    "duration": 0,
    "start_time": "2024-04-16T11:28:43.106Z"
   },
   {
    "duration": 0,
    "start_time": "2024-04-16T11:28:43.108Z"
   },
   {
    "duration": 1,
    "start_time": "2024-04-16T11:28:43.108Z"
   },
   {
    "duration": 0,
    "start_time": "2024-04-16T11:28:43.110Z"
   },
   {
    "duration": 0,
    "start_time": "2024-04-16T11:28:43.111Z"
   },
   {
    "duration": 0,
    "start_time": "2024-04-16T11:28:43.112Z"
   },
   {
    "duration": 0,
    "start_time": "2024-04-16T11:28:43.116Z"
   },
   {
    "duration": 0,
    "start_time": "2024-04-16T11:28:43.117Z"
   },
   {
    "duration": 0,
    "start_time": "2024-04-16T11:28:43.118Z"
   },
   {
    "duration": 0,
    "start_time": "2024-04-16T11:28:43.120Z"
   },
   {
    "duration": 0,
    "start_time": "2024-04-16T11:28:43.122Z"
   },
   {
    "duration": 0,
    "start_time": "2024-04-16T11:28:43.123Z"
   },
   {
    "duration": 0,
    "start_time": "2024-04-16T11:28:43.124Z"
   },
   {
    "duration": 3634,
    "start_time": "2024-04-16T11:31:49.152Z"
   },
   {
    "duration": 1624,
    "start_time": "2024-04-16T11:31:52.789Z"
   },
   {
    "duration": 94,
    "start_time": "2024-04-16T11:31:54.416Z"
   },
   {
    "duration": 21,
    "start_time": "2024-04-16T11:31:54.512Z"
   },
   {
    "duration": 9,
    "start_time": "2024-04-16T11:31:54.536Z"
   },
   {
    "duration": 33,
    "start_time": "2024-04-16T11:31:54.547Z"
   },
   {
    "duration": 20,
    "start_time": "2024-04-16T11:31:54.582Z"
   },
   {
    "duration": 136,
    "start_time": "2024-04-16T11:31:54.604Z"
   },
   {
    "duration": 9,
    "start_time": "2024-04-16T11:31:54.742Z"
   },
   {
    "duration": 33,
    "start_time": "2024-04-16T11:31:54.753Z"
   },
   {
    "duration": 83,
    "start_time": "2024-04-16T11:31:54.788Z"
   },
   {
    "duration": 15,
    "start_time": "2024-04-16T11:31:54.873Z"
   },
   {
    "duration": 27,
    "start_time": "2024-04-16T11:31:54.889Z"
   },
   {
    "duration": 19,
    "start_time": "2024-04-16T11:31:54.919Z"
   },
   {
    "duration": 30,
    "start_time": "2024-04-16T11:31:54.940Z"
   },
   {
    "duration": 50,
    "start_time": "2024-04-16T11:31:54.972Z"
   },
   {
    "duration": 63,
    "start_time": "2024-04-16T11:31:55.024Z"
   },
   {
    "duration": 31,
    "start_time": "2024-04-16T11:31:55.088Z"
   },
   {
    "duration": 27,
    "start_time": "2024-04-16T11:31:55.121Z"
   },
   {
    "duration": 17,
    "start_time": "2024-04-16T11:31:55.150Z"
   },
   {
    "duration": 25,
    "start_time": "2024-04-16T11:31:55.169Z"
   },
   {
    "duration": 22,
    "start_time": "2024-04-16T11:31:55.197Z"
   },
   {
    "duration": 22,
    "start_time": "2024-04-16T11:31:55.221Z"
   },
   {
    "duration": 8,
    "start_time": "2024-04-16T11:31:55.245Z"
   },
   {
    "duration": 22,
    "start_time": "2024-04-16T11:31:55.255Z"
   },
   {
    "duration": 15,
    "start_time": "2024-04-16T11:31:55.279Z"
   },
   {
    "duration": 28,
    "start_time": "2024-04-16T11:31:55.296Z"
   },
   {
    "duration": 8,
    "start_time": "2024-04-16T11:31:55.326Z"
   },
   {
    "duration": 22,
    "start_time": "2024-04-16T11:31:55.337Z"
   },
   {
    "duration": 44,
    "start_time": "2024-04-16T11:31:55.361Z"
   },
   {
    "duration": 399,
    "start_time": "2024-04-16T11:31:55.407Z"
   },
   {
    "duration": 367,
    "start_time": "2024-04-16T11:31:55.808Z"
   },
   {
    "duration": 20,
    "start_time": "2024-04-16T11:31:56.177Z"
   },
   {
    "duration": 1229,
    "start_time": "2024-04-16T11:31:56.199Z"
   },
   {
    "duration": 20,
    "start_time": "2024-04-16T11:31:57.430Z"
   },
   {
    "duration": 14,
    "start_time": "2024-04-16T11:31:57.452Z"
   },
   {
    "duration": 25,
    "start_time": "2024-04-16T11:31:57.468Z"
   },
   {
    "duration": 15,
    "start_time": "2024-04-16T11:31:57.495Z"
   },
   {
    "duration": 26,
    "start_time": "2024-04-16T11:31:57.512Z"
   },
   {
    "duration": 489,
    "start_time": "2024-04-16T11:31:57.540Z"
   },
   {
    "duration": 299,
    "start_time": "2024-04-16T11:31:58.033Z"
   },
   {
    "duration": 8,
    "start_time": "2024-04-16T11:31:58.333Z"
   },
   {
    "duration": 27,
    "start_time": "2024-04-16T11:31:58.342Z"
   },
   {
    "duration": 1050,
    "start_time": "2024-04-16T11:31:58.370Z"
   },
   {
    "duration": 1043,
    "start_time": "2024-04-16T11:31:59.422Z"
   },
   {
    "duration": 240,
    "start_time": "2024-04-16T11:32:00.467Z"
   },
   {
    "duration": 81,
    "start_time": "2024-04-16T11:32:00.708Z"
   },
   {
    "duration": 522,
    "start_time": "2024-04-16T11:32:00.792Z"
   },
   {
    "duration": 634,
    "start_time": "2024-04-16T11:32:01.315Z"
   },
   {
    "duration": 8,
    "start_time": "2024-04-16T11:32:01.951Z"
   },
   {
    "duration": 343,
    "start_time": "2024-04-16T11:32:01.961Z"
   },
   {
    "duration": 9,
    "start_time": "2024-04-16T11:32:02.306Z"
   },
   {
    "duration": 258,
    "start_time": "2024-04-16T11:32:02.317Z"
   },
   {
    "duration": 111,
    "start_time": "2024-04-16T11:32:02.577Z"
   },
   {
    "duration": 379,
    "start_time": "2024-04-16T11:32:02.690Z"
   },
   {
    "duration": 193,
    "start_time": "2024-04-16T11:32:03.071Z"
   },
   {
    "duration": 178,
    "start_time": "2024-04-16T11:32:03.265Z"
   },
   {
    "duration": 13,
    "start_time": "2024-04-16T11:32:03.445Z"
   },
   {
    "duration": 165,
    "start_time": "2024-04-16T11:32:03.459Z"
   },
   {
    "duration": 169,
    "start_time": "2024-04-16T11:32:03.625Z"
   },
   {
    "duration": 158,
    "start_time": "2024-04-16T11:32:03.795Z"
   },
   {
    "duration": 15,
    "start_time": "2024-04-16T11:32:03.955Z"
   },
   {
    "duration": 32,
    "start_time": "2024-04-16T11:32:03.971Z"
   },
   {
    "duration": 23,
    "start_time": "2024-04-16T12:07:26.336Z"
   },
   {
    "duration": 21,
    "start_time": "2024-04-16T12:07:37.804Z"
   },
   {
    "duration": 3196,
    "start_time": "2024-04-16T12:08:38.589Z"
   },
   {
    "duration": 1476,
    "start_time": "2024-04-16T12:08:41.788Z"
   },
   {
    "duration": 75,
    "start_time": "2024-04-16T12:08:43.266Z"
   },
   {
    "duration": 14,
    "start_time": "2024-04-16T12:08:43.342Z"
   },
   {
    "duration": 8,
    "start_time": "2024-04-16T12:08:43.359Z"
   },
   {
    "duration": 29,
    "start_time": "2024-04-16T12:08:43.368Z"
   },
   {
    "duration": 10,
    "start_time": "2024-04-16T12:08:43.399Z"
   },
   {
    "duration": 114,
    "start_time": "2024-04-16T12:08:43.410Z"
   },
   {
    "duration": 8,
    "start_time": "2024-04-16T12:08:43.526Z"
   },
   {
    "duration": 46,
    "start_time": "2024-04-16T12:08:43.536Z"
   },
   {
    "duration": 9,
    "start_time": "2024-04-16T12:08:43.585Z"
   },
   {
    "duration": 4,
    "start_time": "2024-04-16T12:08:43.596Z"
   },
   {
    "duration": 6,
    "start_time": "2024-04-16T12:08:43.601Z"
   },
   {
    "duration": 27,
    "start_time": "2024-04-16T12:08:43.610Z"
   },
   {
    "duration": 18,
    "start_time": "2024-04-16T12:08:43.639Z"
   },
   {
    "duration": 14,
    "start_time": "2024-04-16T12:08:43.659Z"
   },
   {
    "duration": 12,
    "start_time": "2024-04-16T12:08:43.675Z"
   },
   {
    "duration": 7,
    "start_time": "2024-04-16T12:08:43.688Z"
   },
   {
    "duration": 33,
    "start_time": "2024-04-16T12:08:43.697Z"
   },
   {
    "duration": 32,
    "start_time": "2024-04-16T12:08:43.732Z"
   },
   {
    "duration": 21,
    "start_time": "2024-04-16T12:08:43.765Z"
   },
   {
    "duration": 7,
    "start_time": "2024-04-16T12:08:43.787Z"
   },
   {
    "duration": 3,
    "start_time": "2024-04-16T12:08:43.796Z"
   },
   {
    "duration": 16,
    "start_time": "2024-04-16T12:08:43.800Z"
   },
   {
    "duration": 7,
    "start_time": "2024-04-16T12:08:43.817Z"
   },
   {
    "duration": 10,
    "start_time": "2024-04-16T12:08:43.826Z"
   },
   {
    "duration": 12,
    "start_time": "2024-04-16T12:08:43.838Z"
   },
   {
    "duration": 7,
    "start_time": "2024-04-16T12:08:43.852Z"
   },
   {
    "duration": 13,
    "start_time": "2024-04-16T12:08:43.861Z"
   },
   {
    "duration": 9,
    "start_time": "2024-04-16T12:08:43.892Z"
   },
   {
    "duration": 432,
    "start_time": "2024-04-16T12:08:43.902Z"
   },
   {
    "duration": 343,
    "start_time": "2024-04-16T12:08:44.336Z"
   },
   {
    "duration": 20,
    "start_time": "2024-04-16T12:08:44.681Z"
   },
   {
    "duration": 1139,
    "start_time": "2024-04-16T12:08:44.703Z"
   },
   {
    "duration": 18,
    "start_time": "2024-04-16T12:08:45.844Z"
   },
   {
    "duration": 6,
    "start_time": "2024-04-16T12:08:45.864Z"
   },
   {
    "duration": 26,
    "start_time": "2024-04-16T12:08:45.872Z"
   },
   {
    "duration": 15,
    "start_time": "2024-04-16T12:08:45.900Z"
   },
   {
    "duration": 31,
    "start_time": "2024-04-16T12:08:45.917Z"
   },
   {
    "duration": 474,
    "start_time": "2024-04-16T12:08:45.950Z"
   },
   {
    "duration": 309,
    "start_time": "2024-04-16T12:08:46.428Z"
   },
   {
    "duration": 9,
    "start_time": "2024-04-16T12:08:46.739Z"
   },
   {
    "duration": 49,
    "start_time": "2024-04-16T12:08:46.750Z"
   },
   {
    "duration": 1061,
    "start_time": "2024-04-16T12:08:46.801Z"
   },
   {
    "duration": 1033,
    "start_time": "2024-04-16T12:08:47.864Z"
   },
   {
    "duration": 216,
    "start_time": "2024-04-16T12:08:48.899Z"
   },
   {
    "duration": 17,
    "start_time": "2024-04-16T12:08:49.116Z"
   },
   {
    "duration": 36,
    "start_time": "2024-04-16T12:08:49.134Z"
   },
   {
    "duration": 264,
    "start_time": "2024-04-16T12:08:49.172Z"
   },
   {
    "duration": 7,
    "start_time": "2024-04-16T12:08:49.437Z"
   },
   {
    "duration": 210,
    "start_time": "2024-04-16T12:08:49.446Z"
   },
   {
    "duration": 7,
    "start_time": "2024-04-16T12:08:49.658Z"
   },
   {
    "duration": 247,
    "start_time": "2024-04-16T12:08:49.668Z"
   },
   {
    "duration": 13,
    "start_time": "2024-04-16T12:08:49.917Z"
   },
   {
    "duration": 299,
    "start_time": "2024-04-16T12:08:49.932Z"
   },
   {
    "duration": 182,
    "start_time": "2024-04-16T12:08:50.233Z"
   },
   {
    "duration": 171,
    "start_time": "2024-04-16T12:08:50.416Z"
   },
   {
    "duration": 12,
    "start_time": "2024-04-16T12:08:50.591Z"
   },
   {
    "duration": 164,
    "start_time": "2024-04-16T12:08:50.605Z"
   },
   {
    "duration": 178,
    "start_time": "2024-04-16T12:08:50.771Z"
   },
   {
    "duration": 170,
    "start_time": "2024-04-16T12:08:50.951Z"
   },
   {
    "duration": 17,
    "start_time": "2024-04-16T12:08:51.123Z"
   },
   {
    "duration": 49,
    "start_time": "2024-04-16T12:08:51.142Z"
   },
   {
    "duration": 2,
    "start_time": "2024-04-16T12:12:01.815Z"
   },
   {
    "duration": 10,
    "start_time": "2024-04-16T12:38:57.031Z"
   },
   {
    "duration": 5,
    "start_time": "2024-04-16T12:42:37.574Z"
   },
   {
    "duration": 1157,
    "start_time": "2024-04-16T12:43:26.737Z"
   },
   {
    "duration": 4,
    "start_time": "2024-04-16T12:43:39.966Z"
   },
   {
    "duration": 8,
    "start_time": "2024-04-16T12:44:18.727Z"
   },
   {
    "duration": 4,
    "start_time": "2024-04-16T12:44:31.617Z"
   },
   {
    "duration": 292,
    "start_time": "2024-04-16T12:53:25.110Z"
   },
   {
    "duration": 348,
    "start_time": "2024-04-16T12:53:41.530Z"
   },
   {
    "duration": 320,
    "start_time": "2024-04-16T12:53:58.126Z"
   },
   {
    "duration": 10,
    "start_time": "2024-04-16T13:00:30.350Z"
   },
   {
    "duration": 20,
    "start_time": "2024-04-16T13:00:57.516Z"
   },
   {
    "duration": 21,
    "start_time": "2024-04-16T13:01:05.309Z"
   },
   {
    "duration": 5,
    "start_time": "2024-04-16T13:02:58.902Z"
   },
   {
    "duration": 406,
    "start_time": "2024-04-16T13:07:17.508Z"
   },
   {
    "duration": 300,
    "start_time": "2024-04-16T13:08:08.638Z"
   },
   {
    "duration": 270,
    "start_time": "2024-04-16T13:08:22.435Z"
   },
   {
    "duration": 273,
    "start_time": "2024-04-16T13:08:32.971Z"
   },
   {
    "duration": 301,
    "start_time": "2024-04-16T13:08:40.578Z"
   },
   {
    "duration": 383,
    "start_time": "2024-04-16T13:08:52.576Z"
   },
   {
    "duration": 15,
    "start_time": "2024-04-16T13:10:09.983Z"
   },
   {
    "duration": 66,
    "start_time": "2024-04-16T13:16:49.845Z"
   },
   {
    "duration": 4071,
    "start_time": "2024-04-16T13:17:56.177Z"
   },
   {
    "duration": 1219,
    "start_time": "2024-04-16T13:18:00.250Z"
   },
   {
    "duration": 80,
    "start_time": "2024-04-16T13:18:01.471Z"
   },
   {
    "duration": 16,
    "start_time": "2024-04-16T13:18:01.553Z"
   },
   {
    "duration": 27,
    "start_time": "2024-04-16T13:18:01.571Z"
   },
   {
    "duration": 69,
    "start_time": "2024-04-16T13:18:01.599Z"
   },
   {
    "duration": 32,
    "start_time": "2024-04-16T13:18:01.670Z"
   },
   {
    "duration": 37,
    "start_time": "2024-04-16T13:18:01.704Z"
   },
   {
    "duration": 26,
    "start_time": "2024-04-16T13:18:01.743Z"
   },
   {
    "duration": 65,
    "start_time": "2024-04-16T13:18:01.772Z"
   },
   {
    "duration": 8,
    "start_time": "2024-04-16T13:18:01.839Z"
   },
   {
    "duration": 13,
    "start_time": "2024-04-16T13:18:01.848Z"
   },
   {
    "duration": 6,
    "start_time": "2024-04-16T13:18:01.862Z"
   },
   {
    "duration": 32,
    "start_time": "2024-04-16T13:18:01.869Z"
   },
   {
    "duration": 16,
    "start_time": "2024-04-16T13:18:01.902Z"
   },
   {
    "duration": 8,
    "start_time": "2024-04-16T13:18:01.920Z"
   },
   {
    "duration": 16,
    "start_time": "2024-04-16T13:18:01.929Z"
   },
   {
    "duration": 13,
    "start_time": "2024-04-16T13:18:01.947Z"
   },
   {
    "duration": 8,
    "start_time": "2024-04-16T13:18:01.962Z"
   },
   {
    "duration": 11,
    "start_time": "2024-04-16T13:18:01.971Z"
   },
   {
    "duration": 19,
    "start_time": "2024-04-16T13:18:01.984Z"
   },
   {
    "duration": 16,
    "start_time": "2024-04-16T13:18:02.004Z"
   },
   {
    "duration": 16,
    "start_time": "2024-04-16T13:18:02.022Z"
   },
   {
    "duration": 13,
    "start_time": "2024-04-16T13:18:02.040Z"
   },
   {
    "duration": 8,
    "start_time": "2024-04-16T13:18:02.054Z"
   },
   {
    "duration": 18,
    "start_time": "2024-04-16T13:18:02.063Z"
   },
   {
    "duration": 12,
    "start_time": "2024-04-16T13:18:02.083Z"
   },
   {
    "duration": 29,
    "start_time": "2024-04-16T13:18:02.099Z"
   },
   {
    "duration": 42,
    "start_time": "2024-04-16T13:18:02.129Z"
   },
   {
    "duration": 6,
    "start_time": "2024-04-16T13:18:02.172Z"
   },
   {
    "duration": 16,
    "start_time": "2024-04-16T13:18:02.179Z"
   },
   {
    "duration": 23,
    "start_time": "2024-04-16T13:18:02.196Z"
   },
   {
    "duration": 429,
    "start_time": "2024-04-16T13:18:02.222Z"
   },
   {
    "duration": 340,
    "start_time": "2024-04-16T13:18:02.653Z"
   },
   {
    "duration": 21,
    "start_time": "2024-04-16T13:18:02.994Z"
   },
   {
    "duration": 1193,
    "start_time": "2024-04-16T13:18:03.017Z"
   },
   {
    "duration": 29,
    "start_time": "2024-04-16T13:18:04.211Z"
   },
   {
    "duration": 6,
    "start_time": "2024-04-16T13:18:04.242Z"
   },
   {
    "duration": 6,
    "start_time": "2024-04-16T13:18:04.249Z"
   },
   {
    "duration": 21,
    "start_time": "2024-04-16T13:18:04.257Z"
   },
   {
    "duration": 63,
    "start_time": "2024-04-16T13:18:04.280Z"
   },
   {
    "duration": 501,
    "start_time": "2024-04-16T13:18:04.344Z"
   },
   {
    "duration": 374,
    "start_time": "2024-04-16T13:18:04.847Z"
   },
   {
    "duration": 9,
    "start_time": "2024-04-16T13:18:05.223Z"
   },
   {
    "duration": 23,
    "start_time": "2024-04-16T13:18:05.234Z"
   },
   {
    "duration": 1119,
    "start_time": "2024-04-16T13:18:05.258Z"
   },
   {
    "duration": 1022,
    "start_time": "2024-04-16T13:18:06.378Z"
   },
   {
    "duration": 213,
    "start_time": "2024-04-16T13:18:07.402Z"
   },
   {
    "duration": 326,
    "start_time": "2024-04-16T13:18:07.617Z"
   },
   {
    "duration": 14,
    "start_time": "2024-04-16T13:18:07.944Z"
   },
   {
    "duration": 25,
    "start_time": "2024-04-16T13:18:07.960Z"
   },
   {
    "duration": 16,
    "start_time": "2024-04-16T13:18:07.987Z"
   },
   {
    "duration": 246,
    "start_time": "2024-04-16T13:18:08.005Z"
   },
   {
    "duration": 7,
    "start_time": "2024-04-16T13:18:08.253Z"
   },
   {
    "duration": 313,
    "start_time": "2024-04-16T13:18:08.262Z"
   },
   {
    "duration": 6,
    "start_time": "2024-04-16T13:18:08.576Z"
   },
   {
    "duration": 210,
    "start_time": "2024-04-16T13:18:08.584Z"
   },
   {
    "duration": 27,
    "start_time": "2024-04-16T13:18:08.796Z"
   },
   {
    "duration": 176,
    "start_time": "2024-04-16T13:18:08.825Z"
   },
   {
    "duration": 184,
    "start_time": "2024-04-16T13:18:09.003Z"
   },
   {
    "duration": 176,
    "start_time": "2024-04-16T13:18:09.190Z"
   },
   {
    "duration": 11,
    "start_time": "2024-04-16T13:18:09.368Z"
   },
   {
    "duration": 173,
    "start_time": "2024-04-16T13:18:09.381Z"
   },
   {
    "duration": 193,
    "start_time": "2024-04-16T13:18:09.555Z"
   },
   {
    "duration": 172,
    "start_time": "2024-04-16T13:18:09.750Z"
   },
   {
    "duration": 13,
    "start_time": "2024-04-16T13:18:09.924Z"
   },
   {
    "duration": 13,
    "start_time": "2024-04-16T13:18:09.938Z"
   },
   {
    "duration": 110,
    "start_time": "2024-04-16T13:20:05.464Z"
   },
   {
    "duration": 2663,
    "start_time": "2024-04-16T13:20:19.201Z"
   },
   {
    "duration": 1166,
    "start_time": "2024-04-16T13:20:21.866Z"
   },
   {
    "duration": 70,
    "start_time": "2024-04-16T13:20:23.037Z"
   },
   {
    "duration": 16,
    "start_time": "2024-04-16T13:20:23.108Z"
   },
   {
    "duration": 5,
    "start_time": "2024-04-16T13:20:23.126Z"
   },
   {
    "duration": 25,
    "start_time": "2024-04-16T13:20:23.133Z"
   },
   {
    "duration": 18,
    "start_time": "2024-04-16T13:20:23.159Z"
   },
   {
    "duration": 5,
    "start_time": "2024-04-16T13:20:23.179Z"
   },
   {
    "duration": 9,
    "start_time": "2024-04-16T13:20:23.186Z"
   },
   {
    "duration": 76,
    "start_time": "2024-04-16T13:20:23.196Z"
   },
   {
    "duration": 7,
    "start_time": "2024-04-16T13:20:23.273Z"
   },
   {
    "duration": 11,
    "start_time": "2024-04-16T13:20:23.281Z"
   },
   {
    "duration": 6,
    "start_time": "2024-04-16T13:20:23.294Z"
   },
   {
    "duration": 4,
    "start_time": "2024-04-16T13:20:23.315Z"
   },
   {
    "duration": 6,
    "start_time": "2024-04-16T13:20:23.321Z"
   },
   {
    "duration": 10,
    "start_time": "2024-04-16T13:20:23.329Z"
   },
   {
    "duration": 9,
    "start_time": "2024-04-16T13:20:23.341Z"
   },
   {
    "duration": 5,
    "start_time": "2024-04-16T13:20:23.351Z"
   },
   {
    "duration": 10,
    "start_time": "2024-04-16T13:20:23.357Z"
   },
   {
    "duration": 10,
    "start_time": "2024-04-16T13:20:23.368Z"
   },
   {
    "duration": 12,
    "start_time": "2024-04-16T13:20:23.379Z"
   },
   {
    "duration": 39,
    "start_time": "2024-04-16T13:20:23.392Z"
   },
   {
    "duration": 16,
    "start_time": "2024-04-16T13:20:23.433Z"
   },
   {
    "duration": 8,
    "start_time": "2024-04-16T13:20:23.451Z"
   },
   {
    "duration": 19,
    "start_time": "2024-04-16T13:20:23.460Z"
   },
   {
    "duration": 5,
    "start_time": "2024-04-16T13:20:23.481Z"
   },
   {
    "duration": 5,
    "start_time": "2024-04-16T13:20:23.490Z"
   },
   {
    "duration": 10,
    "start_time": "2024-04-16T13:20:23.496Z"
   },
   {
    "duration": 25,
    "start_time": "2024-04-16T13:20:23.507Z"
   },
   {
    "duration": 20,
    "start_time": "2024-04-16T13:20:23.534Z"
   },
   {
    "duration": 31,
    "start_time": "2024-04-16T13:20:23.556Z"
   },
   {
    "duration": 16,
    "start_time": "2024-04-16T13:20:23.589Z"
   },
   {
    "duration": 414,
    "start_time": "2024-04-16T13:20:23.606Z"
   },
   {
    "duration": 361,
    "start_time": "2024-04-16T13:20:24.024Z"
   },
   {
    "duration": 13,
    "start_time": "2024-04-16T13:20:24.387Z"
   },
   {
    "duration": 1139,
    "start_time": "2024-04-16T13:20:24.402Z"
   },
   {
    "duration": 26,
    "start_time": "2024-04-16T13:20:25.547Z"
   },
   {
    "duration": 6,
    "start_time": "2024-04-16T13:20:25.575Z"
   },
   {
    "duration": 10,
    "start_time": "2024-04-16T13:20:25.583Z"
   },
   {
    "duration": 26,
    "start_time": "2024-04-16T13:20:25.595Z"
   },
   {
    "duration": 21,
    "start_time": "2024-04-16T13:20:25.622Z"
   },
   {
    "duration": 506,
    "start_time": "2024-04-16T13:20:25.644Z"
   },
   {
    "duration": 344,
    "start_time": "2024-04-16T13:20:26.152Z"
   },
   {
    "duration": 22,
    "start_time": "2024-04-16T13:20:26.498Z"
   },
   {
    "duration": 16,
    "start_time": "2024-04-16T13:20:26.521Z"
   },
   {
    "duration": 1071,
    "start_time": "2024-04-16T13:20:26.538Z"
   },
   {
    "duration": 1107,
    "start_time": "2024-04-16T13:20:27.614Z"
   },
   {
    "duration": 241,
    "start_time": "2024-04-16T13:20:28.723Z"
   },
   {
    "duration": 326,
    "start_time": "2024-04-16T13:20:28.966Z"
   },
   {
    "duration": 23,
    "start_time": "2024-04-16T13:20:29.293Z"
   },
   {
    "duration": 30,
    "start_time": "2024-04-16T13:20:29.318Z"
   },
   {
    "duration": 6,
    "start_time": "2024-04-16T13:20:29.349Z"
   },
   {
    "duration": 222,
    "start_time": "2024-04-16T13:20:29.356Z"
   },
   {
    "duration": 6,
    "start_time": "2024-04-16T13:20:29.580Z"
   },
   {
    "duration": 305,
    "start_time": "2024-04-16T13:20:29.588Z"
   },
   {
    "duration": 7,
    "start_time": "2024-04-16T13:20:29.895Z"
   },
   {
    "duration": 249,
    "start_time": "2024-04-16T13:20:29.904Z"
   },
   {
    "duration": 13,
    "start_time": "2024-04-16T13:20:30.155Z"
   },
   {
    "duration": 257,
    "start_time": "2024-04-16T13:20:30.170Z"
   },
   {
    "duration": 209,
    "start_time": "2024-04-16T13:20:30.430Z"
   },
   {
    "duration": 201,
    "start_time": "2024-04-16T13:20:30.642Z"
   },
   {
    "duration": 14,
    "start_time": "2024-04-16T13:20:30.845Z"
   },
   {
    "duration": 191,
    "start_time": "2024-04-16T13:20:30.860Z"
   },
   {
    "duration": 184,
    "start_time": "2024-04-16T13:20:31.053Z"
   },
   {
    "duration": 165,
    "start_time": "2024-04-16T13:20:31.240Z"
   },
   {
    "duration": 17,
    "start_time": "2024-04-16T13:20:31.407Z"
   },
   {
    "duration": 120,
    "start_time": "2024-04-16T13:20:31.425Z"
   },
   {
    "duration": 3227,
    "start_time": "2024-04-16T14:51:30.184Z"
   },
   {
    "duration": 1342,
    "start_time": "2024-04-16T14:51:33.413Z"
   },
   {
    "duration": 73,
    "start_time": "2024-04-16T14:51:34.757Z"
   },
   {
    "duration": 15,
    "start_time": "2024-04-16T14:51:34.831Z"
   },
   {
    "duration": 6,
    "start_time": "2024-04-16T14:51:34.848Z"
   },
   {
    "duration": 17,
    "start_time": "2024-04-16T14:51:34.856Z"
   },
   {
    "duration": 30,
    "start_time": "2024-04-16T14:51:34.875Z"
   },
   {
    "duration": 7,
    "start_time": "2024-04-16T14:51:34.907Z"
   },
   {
    "duration": 11,
    "start_time": "2024-04-16T14:51:34.916Z"
   },
   {
    "duration": 114,
    "start_time": "2024-04-16T14:51:34.928Z"
   },
   {
    "duration": 8,
    "start_time": "2024-04-16T14:51:35.043Z"
   },
   {
    "duration": 12,
    "start_time": "2024-04-16T14:51:35.052Z"
   },
   {
    "duration": 18,
    "start_time": "2024-04-16T14:51:35.065Z"
   },
   {
    "duration": 24,
    "start_time": "2024-04-16T14:51:35.086Z"
   },
   {
    "duration": 37,
    "start_time": "2024-04-16T14:51:35.112Z"
   },
   {
    "duration": 7,
    "start_time": "2024-04-16T14:51:35.151Z"
   },
   {
    "duration": 15,
    "start_time": "2024-04-16T14:51:35.160Z"
   },
   {
    "duration": 27,
    "start_time": "2024-04-16T14:51:35.176Z"
   },
   {
    "duration": 20,
    "start_time": "2024-04-16T14:51:35.204Z"
   },
   {
    "duration": 9,
    "start_time": "2024-04-16T14:51:35.226Z"
   },
   {
    "duration": 9,
    "start_time": "2024-04-16T14:51:35.236Z"
   },
   {
    "duration": 26,
    "start_time": "2024-04-16T14:51:35.247Z"
   },
   {
    "duration": 36,
    "start_time": "2024-04-16T14:51:35.274Z"
   },
   {
    "duration": 13,
    "start_time": "2024-04-16T14:51:35.312Z"
   },
   {
    "duration": 25,
    "start_time": "2024-04-16T14:51:35.327Z"
   },
   {
    "duration": 31,
    "start_time": "2024-04-16T14:51:35.354Z"
   },
   {
    "duration": 13,
    "start_time": "2024-04-16T14:51:35.387Z"
   },
   {
    "duration": 19,
    "start_time": "2024-04-16T14:51:35.402Z"
   },
   {
    "duration": 22,
    "start_time": "2024-04-16T14:51:35.423Z"
   },
   {
    "duration": 9,
    "start_time": "2024-04-16T14:51:35.447Z"
   },
   {
    "duration": 15,
    "start_time": "2024-04-16T14:51:35.457Z"
   },
   {
    "duration": 12,
    "start_time": "2024-04-16T14:51:35.473Z"
   },
   {
    "duration": 405,
    "start_time": "2024-04-16T14:51:35.486Z"
   },
   {
    "duration": 320,
    "start_time": "2024-04-16T14:51:35.893Z"
   },
   {
    "duration": 11,
    "start_time": "2024-04-16T14:51:36.214Z"
   },
   {
    "duration": 1078,
    "start_time": "2024-04-16T14:51:36.226Z"
   },
   {
    "duration": 19,
    "start_time": "2024-04-16T14:51:37.306Z"
   },
   {
    "duration": 23,
    "start_time": "2024-04-16T14:51:37.327Z"
   },
   {
    "duration": 30,
    "start_time": "2024-04-16T14:51:37.351Z"
   },
   {
    "duration": 34,
    "start_time": "2024-04-16T14:51:37.383Z"
   },
   {
    "duration": 18,
    "start_time": "2024-04-16T14:51:37.422Z"
   },
   {
    "duration": 466,
    "start_time": "2024-04-16T14:51:37.441Z"
   },
   {
    "duration": 356,
    "start_time": "2024-04-16T14:51:37.909Z"
   },
   {
    "duration": 8,
    "start_time": "2024-04-16T14:51:38.266Z"
   },
   {
    "duration": 33,
    "start_time": "2024-04-16T14:51:38.277Z"
   },
   {
    "duration": 1050,
    "start_time": "2024-04-16T14:51:38.311Z"
   },
   {
    "duration": 1063,
    "start_time": "2024-04-16T14:51:39.363Z"
   },
   {
    "duration": 218,
    "start_time": "2024-04-16T14:51:40.428Z"
   },
   {
    "duration": 338,
    "start_time": "2024-04-16T14:51:40.648Z"
   },
   {
    "duration": 13,
    "start_time": "2024-04-16T14:51:40.991Z"
   },
   {
    "duration": 33,
    "start_time": "2024-04-16T14:51:41.006Z"
   },
   {
    "duration": 25,
    "start_time": "2024-04-16T14:51:41.040Z"
   },
   {
    "duration": 321,
    "start_time": "2024-04-16T14:51:41.067Z"
   },
   {
    "duration": 6,
    "start_time": "2024-04-16T14:51:41.391Z"
   },
   {
    "duration": 200,
    "start_time": "2024-04-16T14:51:41.399Z"
   },
   {
    "duration": 8,
    "start_time": "2024-04-16T14:51:41.601Z"
   },
   {
    "duration": 207,
    "start_time": "2024-04-16T14:51:41.610Z"
   },
   {
    "duration": 13,
    "start_time": "2024-04-16T14:51:41.819Z"
   },
   {
    "duration": 185,
    "start_time": "2024-04-16T14:51:41.833Z"
   },
   {
    "duration": 184,
    "start_time": "2024-04-16T14:51:42.020Z"
   },
   {
    "duration": 159,
    "start_time": "2024-04-16T14:51:42.206Z"
   },
   {
    "duration": 11,
    "start_time": "2024-04-16T14:51:42.367Z"
   },
   {
    "duration": 171,
    "start_time": "2024-04-16T14:51:42.380Z"
   },
   {
    "duration": 163,
    "start_time": "2024-04-16T14:51:42.552Z"
   },
   {
    "duration": 150,
    "start_time": "2024-04-16T14:51:42.717Z"
   },
   {
    "duration": 13,
    "start_time": "2024-04-16T14:51:42.869Z"
   },
   {
    "duration": 24,
    "start_time": "2024-04-16T14:51:42.891Z"
   },
   {
    "duration": 48,
    "start_time": "2024-10-08T12:16:33.027Z"
   }
  ],
  "kernelspec": {
   "display_name": "Python 3 (ipykernel)",
   "language": "python",
   "name": "python3"
  },
  "language_info": {
   "codemirror_mode": {
    "name": "ipython",
    "version": 3
   },
   "file_extension": ".py",
   "mimetype": "text/x-python",
   "name": "python",
   "nbconvert_exporter": "python",
   "pygments_lexer": "ipython3",
   "version": "3.9.5"
  },
  "toc": {
   "base_numbering": 1,
   "nav_menu": {},
   "number_sections": true,
   "sideBar": true,
   "skip_h1_title": true,
   "title_cell": "Table of Contents",
   "title_sidebar": "Contents",
   "toc_cell": false,
   "toc_position": {},
   "toc_section_display": true,
   "toc_window_display": false
  }
 },
 "nbformat": 4,
 "nbformat_minor": 2
}
