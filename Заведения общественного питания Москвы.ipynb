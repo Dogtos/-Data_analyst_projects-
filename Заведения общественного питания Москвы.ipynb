{
 "cells": [
  {
   "cell_type": "markdown",
   "metadata": {},
   "source": [
    "#  ПРОЕКТ \"Рынок заведений общественного питания Москвы\""
   ]
  },
  {
   "cell_type": "markdown",
   "metadata": {},
   "source": [
    "**Описание проекта:**\n",
    "\n",
    "Инвесторы из фонда «Shut Up and Take My Money» решили попробовать себя в новой области и открыть заведение общественного питания в Москве. Заказчики ещё не знают, что это будет за место: кафе, ресторан, пиццерия, паб или бар, — и какими будут расположение, меню и цены.\n",
    "\n",
    "Для начала они просят вас — аналитика — подготовить исследование рынка Москвы, найти интересные особенности и презентовать полученные результаты, которые в будущем помогут в выборе подходящего инвесторам места. \n",
    "\n",
    "Нам доступен датасет с заведениями общественного питания Москвы, составленный на основе данных сервисов Яндекс Карты и Яндекс Бизнес на лето 2022 года. Информация, размещённая в сервисе Яндекс Бизнес, могла быть добавлена пользователями или найдена в общедоступных источниках. Она носит исключительно справочный характер."
   ]
  },
  {
   "cell_type": "markdown",
   "metadata": {},
   "source": [
    "**Описание данных:**\n",
    "\n",
    "- name — название заведения;\n",
    "- address — адрес заведения;\n",
    "- category — категория заведения, например «кафе», «пиццерия» или «кофейня»;\n",
    "- hours — информация о днях и часах работы;\n",
    "- lat — широта географической точки, в которой находится заведение;\n",
    "- lng — долгота географической точки, в которой находится заведение;\n",
    "- rating — рейтинг заведения по оценкам пользователей в Яндекс Картах (высшая оценка — 5.0);\n",
    "- price — категория цен в заведении, например «средние», «ниже среднего», «выше среднего» и так далее;\n",
    "- avg_bill — строка, которая хранит среднюю стоимость заказа в виде диапазона, например:\n",
    "\n",
    "«Средний счёт: 1000–1500 ₽»;\n",
    "\n",
    "«Цена чашки капучино: 130–220 ₽»;\n",
    "\n",
    "«Цена бокала пива: 400–600 ₽».\n",
    "и так далее;\n",
    "\n",
    "- middle_avg_bill — число с оценкой среднего чека, которое указано только для значений из столбца avg_bill, начинающихся с подстроки «Средний счёт»:\n",
    "\n",
    " Если в строке указан ценовой диапазон из двух значений, в столбец войдёт медиана этих двух значений.\n",
    " \n",
    " Если в строке указано одно число — цена без диапазона, то в столбец войдёт это число.\n",
    " \n",
    " Если значения нет или оно не начинается с подстроки «Средний счёт», то в столбец ничего не войдёт.\n",
    "- middle_coffee_cup — число с оценкой одной чашки капучино, которое указано только для значений из столбца avg_bill, начинающихся с подстроки «Цена одной чашки капучино»:\n",
    "\n",
    "Если в строке указан ценовой диапазон из двух значений, в столбец войдёт медиана этих двух значений.\n",
    "Если в строке указано одно число — цена без диапазона, то в столбец войдёт это число.\n",
    "Если значения нет или оно не начинается с подстроки «Цена одной чашки капучино», то в столбец ничего не войдёт.\n",
    "- chain — число, выраженное 0 или 1, которое показывает, является ли заведение сетевым (для маленьких сетей могут встречаться ошибки):\n",
    "\n",
    "0 — заведение не является сетевым,\n",
    "1 — заведение является сетевым;\n",
    "- district — административный район, в котором находится заведение, например Центральный административный округ;\n",
    "- seats — количество посадочных мест."
   ]
  },
  {
   "cell_type": "markdown",
   "metadata": {},
   "source": [
    "**План исследования:**\n",
    "\n",
    "- 1.Обзор данных;\n",
    "- 2.Предобработка данных;\n",
    "- 3.Анализ данных;\n",
    "- 4.Детализация исследования: открытие кофейни;\n",
    "- 5.Презентация результатов."
   ]
  },
  {
   "cell_type": "markdown",
   "metadata": {},
   "source": [
    "**Шаг 1. Загрузим данные и изучим общую информацию**\n"
   ]
  },
  {
   "cell_type": "code",
   "execution_count": 1,
   "metadata": {},
   "outputs": [],
   "source": [
    "import pandas as pd\n",
    "import numpy as np\n",
    "from datetime import datetime as dt, timedelta\n",
    "from matplotlib import pyplot as plt\n",
    "from plotly import graph_objects as go\n",
    "import plotly.express as px\n",
    "import seaborn as sns\n",
    "from plotly import graph_objects as go\n",
    "import json\n",
    "from folium import Map, Choropleth, Marker\n",
    "from folium.plugins import MarkerCluster\n",
    "import folium\n",
    "from folium import plugins\n",
    "from folium.plugins.heat_map import HeatMap"
   ]
  },
  {
   "cell_type": "code",
   "execution_count": 2,
   "metadata": {},
   "outputs": [
    {
     "data": {
      "text/html": [
       "<div>\n",
       "<style scoped>\n",
       "    .dataframe tbody tr th:only-of-type {\n",
       "        vertical-align: middle;\n",
       "    }\n",
       "\n",
       "    .dataframe tbody tr th {\n",
       "        vertical-align: top;\n",
       "    }\n",
       "\n",
       "    .dataframe thead th {\n",
       "        text-align: right;\n",
       "    }\n",
       "</style>\n",
       "<table border=\"1\" class=\"dataframe\">\n",
       "  <thead>\n",
       "    <tr style=\"text-align: right;\">\n",
       "      <th></th>\n",
       "      <th>name</th>\n",
       "      <th>category</th>\n",
       "      <th>address</th>\n",
       "      <th>district</th>\n",
       "      <th>hours</th>\n",
       "      <th>lat</th>\n",
       "      <th>lng</th>\n",
       "      <th>rating</th>\n",
       "      <th>price</th>\n",
       "      <th>avg_bill</th>\n",
       "      <th>middle_avg_bill</th>\n",
       "      <th>middle_coffee_cup</th>\n",
       "      <th>chain</th>\n",
       "      <th>seats</th>\n",
       "    </tr>\n",
       "  </thead>\n",
       "  <tbody>\n",
       "    <tr>\n",
       "      <th>0</th>\n",
       "      <td>WoWфли</td>\n",
       "      <td>кафе</td>\n",
       "      <td>Москва, улица Дыбенко, 7/1</td>\n",
       "      <td>Северный административный округ</td>\n",
       "      <td>ежедневно, 10:00–22:00</td>\n",
       "      <td>55.878494</td>\n",
       "      <td>37.478860</td>\n",
       "      <td>5.0</td>\n",
       "      <td>NaN</td>\n",
       "      <td>NaN</td>\n",
       "      <td>NaN</td>\n",
       "      <td>NaN</td>\n",
       "      <td>0</td>\n",
       "      <td>NaN</td>\n",
       "    </tr>\n",
       "    <tr>\n",
       "      <th>1</th>\n",
       "      <td>Четыре комнаты</td>\n",
       "      <td>ресторан</td>\n",
       "      <td>Москва, улица Дыбенко, 36, корп. 1</td>\n",
       "      <td>Северный административный округ</td>\n",
       "      <td>ежедневно, 10:00–22:00</td>\n",
       "      <td>55.875801</td>\n",
       "      <td>37.484479</td>\n",
       "      <td>4.5</td>\n",
       "      <td>выше среднего</td>\n",
       "      <td>Средний счёт:1500–1600 ₽</td>\n",
       "      <td>1550.0</td>\n",
       "      <td>NaN</td>\n",
       "      <td>0</td>\n",
       "      <td>4.0</td>\n",
       "    </tr>\n",
       "    <tr>\n",
       "      <th>2</th>\n",
       "      <td>Хазри</td>\n",
       "      <td>кафе</td>\n",
       "      <td>Москва, Клязьминская улица, 15</td>\n",
       "      <td>Северный административный округ</td>\n",
       "      <td>пн-чт 11:00–02:00; пт,сб 11:00–05:00; вс 11:00...</td>\n",
       "      <td>55.889146</td>\n",
       "      <td>37.525901</td>\n",
       "      <td>4.6</td>\n",
       "      <td>средние</td>\n",
       "      <td>Средний счёт:от 1000 ₽</td>\n",
       "      <td>1000.0</td>\n",
       "      <td>NaN</td>\n",
       "      <td>0</td>\n",
       "      <td>45.0</td>\n",
       "    </tr>\n",
       "    <tr>\n",
       "      <th>3</th>\n",
       "      <td>Dormouse Coffee Shop</td>\n",
       "      <td>кофейня</td>\n",
       "      <td>Москва, улица Маршала Федоренко, 12</td>\n",
       "      <td>Северный административный округ</td>\n",
       "      <td>ежедневно, 09:00–22:00</td>\n",
       "      <td>55.881608</td>\n",
       "      <td>37.488860</td>\n",
       "      <td>5.0</td>\n",
       "      <td>NaN</td>\n",
       "      <td>Цена чашки капучино:155–185 ₽</td>\n",
       "      <td>NaN</td>\n",
       "      <td>170.0</td>\n",
       "      <td>0</td>\n",
       "      <td>NaN</td>\n",
       "    </tr>\n",
       "    <tr>\n",
       "      <th>4</th>\n",
       "      <td>Иль Марко</td>\n",
       "      <td>пиццерия</td>\n",
       "      <td>Москва, Правобережная улица, 1Б</td>\n",
       "      <td>Северный административный округ</td>\n",
       "      <td>ежедневно, 10:00–22:00</td>\n",
       "      <td>55.881166</td>\n",
       "      <td>37.449357</td>\n",
       "      <td>5.0</td>\n",
       "      <td>средние</td>\n",
       "      <td>Средний счёт:400–600 ₽</td>\n",
       "      <td>500.0</td>\n",
       "      <td>NaN</td>\n",
       "      <td>1</td>\n",
       "      <td>148.0</td>\n",
       "    </tr>\n",
       "  </tbody>\n",
       "</table>\n",
       "</div>"
      ],
      "text/plain": [
       "                   name  category                              address  \\\n",
       "0                WoWфли      кафе           Москва, улица Дыбенко, 7/1   \n",
       "1        Четыре комнаты  ресторан   Москва, улица Дыбенко, 36, корп. 1   \n",
       "2                 Хазри      кафе       Москва, Клязьминская улица, 15   \n",
       "3  Dormouse Coffee Shop   кофейня  Москва, улица Маршала Федоренко, 12   \n",
       "4             Иль Марко  пиццерия      Москва, Правобережная улица, 1Б   \n",
       "\n",
       "                          district  \\\n",
       "0  Северный административный округ   \n",
       "1  Северный административный округ   \n",
       "2  Северный административный округ   \n",
       "3  Северный административный округ   \n",
       "4  Северный административный округ   \n",
       "\n",
       "                                               hours        lat        lng  \\\n",
       "0                             ежедневно, 10:00–22:00  55.878494  37.478860   \n",
       "1                             ежедневно, 10:00–22:00  55.875801  37.484479   \n",
       "2  пн-чт 11:00–02:00; пт,сб 11:00–05:00; вс 11:00...  55.889146  37.525901   \n",
       "3                             ежедневно, 09:00–22:00  55.881608  37.488860   \n",
       "4                             ежедневно, 10:00–22:00  55.881166  37.449357   \n",
       "\n",
       "   rating          price                       avg_bill  middle_avg_bill  \\\n",
       "0     5.0            NaN                            NaN              NaN   \n",
       "1     4.5  выше среднего       Средний счёт:1500–1600 ₽           1550.0   \n",
       "2     4.6        средние         Средний счёт:от 1000 ₽           1000.0   \n",
       "3     5.0            NaN  Цена чашки капучино:155–185 ₽              NaN   \n",
       "4     5.0        средние         Средний счёт:400–600 ₽            500.0   \n",
       "\n",
       "   middle_coffee_cup  chain  seats  \n",
       "0                NaN      0    NaN  \n",
       "1                NaN      0    4.0  \n",
       "2                NaN      0   45.0  \n",
       "3              170.0      0    NaN  \n",
       "4                NaN      1  148.0  "
      ]
     },
     "execution_count": 2,
     "metadata": {},
     "output_type": "execute_result"
    }
   ],
   "source": [
    "places = pd.read_csv('/datasets/moscow_places.csv')\n",
    "places.head()"
   ]
  },
  {
   "cell_type": "code",
   "execution_count": 3,
   "metadata": {},
   "outputs": [
    {
     "name": "stdout",
     "output_type": "stream",
     "text": [
      "<class 'pandas.core.frame.DataFrame'>\n",
      "RangeIndex: 8406 entries, 0 to 8405\n",
      "Data columns (total 14 columns):\n",
      " #   Column             Non-Null Count  Dtype  \n",
      "---  ------             --------------  -----  \n",
      " 0   name               8406 non-null   object \n",
      " 1   category           8406 non-null   object \n",
      " 2   address            8406 non-null   object \n",
      " 3   district           8406 non-null   object \n",
      " 4   hours              7870 non-null   object \n",
      " 5   lat                8406 non-null   float64\n",
      " 6   lng                8406 non-null   float64\n",
      " 7   rating             8406 non-null   float64\n",
      " 8   price              3315 non-null   object \n",
      " 9   avg_bill           3816 non-null   object \n",
      " 10  middle_avg_bill    3149 non-null   float64\n",
      " 11  middle_coffee_cup  535 non-null    float64\n",
      " 12  chain              8406 non-null   int64  \n",
      " 13  seats              4795 non-null   float64\n",
      "dtypes: float64(6), int64(1), object(7)\n",
      "memory usage: 919.5+ KB\n"
     ]
    }
   ],
   "source": [
    "places.info()"
   ]
  },
  {
   "cell_type": "code",
   "execution_count": 4,
   "metadata": {},
   "outputs": [
    {
     "data": {
      "text/plain": [
       "5614"
      ]
     },
     "execution_count": 4,
     "metadata": {},
     "output_type": "execute_result"
    }
   ],
   "source": [
    "places['name'].nunique()"
   ]
  },
  {
   "cell_type": "markdown",
   "metadata": {},
   "source": [
    "В датасете о заведениях общественного питания Москвы предствлено 8406 строк. Всего 5614 названий заведений, остальные либо дубликаты либо заведения со идентичным названием.\n",
    "Тип данных соответсвует действительности. Имеются пропуски в столбцах hours, price, avg_bill, middle_avg_bill, middle_coffee_cup,seats. Требуется обработка данных.\n"
   ]
  },
  {
   "cell_type": "markdown",
   "metadata": {},
   "source": [
    "**Шаг 2. Предобработка данных**"
   ]
  },
  {
   "cell_type": "code",
   "execution_count": 5,
   "metadata": {},
   "outputs": [
    {
     "data": {
      "text/plain": [
       "0"
      ]
     },
     "execution_count": 5,
     "metadata": {},
     "output_type": "execute_result"
    }
   ],
   "source": [
    "places.duplicated().sum()"
   ]
  },
  {
   "cell_type": "code",
   "execution_count": 6,
   "metadata": {},
   "outputs": [
    {
     "data": {
      "text/plain": [
       "5512"
      ]
     },
     "execution_count": 6,
     "metadata": {},
     "output_type": "execute_result"
    }
   ],
   "source": [
    "#проверим на неявные дубликаты, приведем названия все названия заведений к нижнему регистру\n",
    "places['name'] = places['name'].str.upper()\n",
    "places['name'].nunique()"
   ]
  },
  {
   "cell_type": "code",
   "execution_count": 7,
   "metadata": {},
   "outputs": [
    {
     "data": {
      "text/plain": [
       "array(['кафе', 'ресторан', 'кофейня', 'пиццерия', 'бар,паб',\n",
       "       'быстрое питание', 'булочная', 'столовая'], dtype=object)"
      ]
     },
     "execution_count": 7,
     "metadata": {},
     "output_type": "execute_result"
    }
   ],
   "source": [
    "places['category'].unique()"
   ]
  },
  {
   "cell_type": "code",
   "execution_count": 8,
   "metadata": {},
   "outputs": [
    {
     "data": {
      "text/plain": [
       "3"
      ]
     },
     "execution_count": 8,
     "metadata": {},
     "output_type": "execute_result"
    }
   ],
   "source": [
    "#проверим дубликаты по паре \"название заведения - адрес\"\n",
    "places.duplicated(subset=['name', 'address']).sum()"
   ]
  },
  {
   "cell_type": "code",
   "execution_count": 9,
   "metadata": {},
   "outputs": [],
   "source": [
    "#удалим дубликаты\n",
    "places = places.drop_duplicates(subset=['name', 'address'])"
   ]
  },
  {
   "cell_type": "code",
   "execution_count": 10,
   "metadata": {},
   "outputs": [
    {
     "name": "stdout",
     "output_type": "stream",
     "text": [
      "<class 'pandas.core.frame.DataFrame'>\n",
      "Int64Index: 8403 entries, 0 to 8405\n",
      "Data columns (total 14 columns):\n",
      " #   Column             Non-Null Count  Dtype  \n",
      "---  ------             --------------  -----  \n",
      " 0   name               8403 non-null   object \n",
      " 1   category           8403 non-null   object \n",
      " 2   address            8403 non-null   object \n",
      " 3   district           8403 non-null   object \n",
      " 4   hours              7868 non-null   object \n",
      " 5   lat                8403 non-null   float64\n",
      " 6   lng                8403 non-null   float64\n",
      " 7   rating             8403 non-null   float64\n",
      " 8   price              3315 non-null   object \n",
      " 9   avg_bill           3816 non-null   object \n",
      " 10  middle_avg_bill    3149 non-null   float64\n",
      " 11  middle_coffee_cup  535 non-null    float64\n",
      " 12  chain              8403 non-null   int64  \n",
      " 13  seats              4792 non-null   float64\n",
      "dtypes: float64(6), int64(1), object(7)\n",
      "memory usage: 984.7+ KB\n"
     ]
    }
   ],
   "source": [
    "places.info()"
   ]
  },
  {
   "cell_type": "code",
   "execution_count": 11,
   "metadata": {},
   "outputs": [
    {
     "data": {
      "text/plain": [
       "name                    0\n",
       "category                0\n",
       "address                 0\n",
       "district                0\n",
       "hours                 535\n",
       "lat                     0\n",
       "lng                     0\n",
       "rating                  0\n",
       "price                5088\n",
       "avg_bill             4587\n",
       "middle_avg_bill      5254\n",
       "middle_coffee_cup    7868\n",
       "chain                   0\n",
       "seats                3611\n",
       "dtype: int64"
      ]
     },
     "execution_count": 11,
     "metadata": {},
     "output_type": "execute_result"
    }
   ],
   "source": [
    "# количество пропущенных значений\n",
    "places.isna().sum()"
   ]
  },
  {
   "cell_type": "code",
   "execution_count": null,
   "metadata": {},
   "outputs": [
    {
     "data": {
      "text/html": [
       "<style  type=\"text/css\" >\n",
       "#T_89c7c_row0_col0,#T_89c7c_row1_col0,#T_89c7c_row2_col0,#T_89c7c_row3_col0,#T_89c7c_row5_col0,#T_89c7c_row6_col0,#T_89c7c_row7_col0,#T_89c7c_row12_col0{\n",
       "            background-color:  #3b4cc0;\n",
       "            color:  #f1f1f1;\n",
       "        }#T_89c7c_row4_col0{\n",
       "            background-color:  #4f69d9;\n",
       "            color:  #000000;\n",
       "        }#T_89c7c_row8_col0{\n",
       "            background-color:  #f6bea4;\n",
       "            color:  #000000;\n",
       "        }#T_89c7c_row9_col0{\n",
       "            background-color:  #efcebd;\n",
       "            color:  #000000;\n",
       "        }#T_89c7c_row10_col0{\n",
       "            background-color:  #f7b89c;\n",
       "            color:  #000000;\n",
       "        }#T_89c7c_row11_col0{\n",
       "            background-color:  #b40426;\n",
       "            color:  #f1f1f1;\n",
       "        }#T_89c7c_row13_col0{\n",
       "            background-color:  #d2dbe8;\n",
       "            color:  #000000;\n",
       "        }</style><table id=\"T_89c7c_\" ><thead>    <tr>        <th class=\"blank level0\" ></th>        <th class=\"col_heading level0 col0\" >0</th>    </tr></thead><tbody>\n",
       "                <tr>\n",
       "                        <th id=\"T_89c7c_level0_row0\" class=\"row_heading level0 row0\" >name</th>\n",
       "                        <td id=\"T_89c7c_row0_col0\" class=\"data row0 col0\" >0.000000</td>\n",
       "            </tr>\n",
       "            <tr>\n",
       "                        <th id=\"T_89c7c_level0_row1\" class=\"row_heading level0 row1\" >category</th>\n",
       "                        <td id=\"T_89c7c_row1_col0\" class=\"data row1 col0\" >0.000000</td>\n",
       "            </tr>\n",
       "            <tr>\n",
       "                        <th id=\"T_89c7c_level0_row2\" class=\"row_heading level0 row2\" >address</th>\n",
       "                        <td id=\"T_89c7c_row2_col0\" class=\"data row2 col0\" >0.000000</td>\n",
       "            </tr>\n",
       "            <tr>\n",
       "                        <th id=\"T_89c7c_level0_row3\" class=\"row_heading level0 row3\" >district</th>\n",
       "                        <td id=\"T_89c7c_row3_col0\" class=\"data row3 col0\" >0.000000</td>\n",
       "            </tr>\n",
       "            <tr>\n",
       "                        <th id=\"T_89c7c_level0_row4\" class=\"row_heading level0 row4\" >hours</th>\n",
       "                        <td id=\"T_89c7c_row4_col0\" class=\"data row4 col0\" >6.400000</td>\n",
       "            </tr>\n",
       "            <tr>\n",
       "                        <th id=\"T_89c7c_level0_row5\" class=\"row_heading level0 row5\" >lat</th>\n",
       "                        <td id=\"T_89c7c_row5_col0\" class=\"data row5 col0\" >0.000000</td>\n",
       "            </tr>\n",
       "            <tr>\n",
       "                        <th id=\"T_89c7c_level0_row6\" class=\"row_heading level0 row6\" >lng</th>\n",
       "                        <td id=\"T_89c7c_row6_col0\" class=\"data row6 col0\" >0.000000</td>\n",
       "            </tr>\n",
       "            <tr>\n",
       "                        <th id=\"T_89c7c_level0_row7\" class=\"row_heading level0 row7\" >rating</th>\n",
       "                        <td id=\"T_89c7c_row7_col0\" class=\"data row7 col0\" >0.000000</td>\n",
       "            </tr>\n",
       "            <tr>\n",
       "                        <th id=\"T_89c7c_level0_row8\" class=\"row_heading level0 row8\" >price</th>\n",
       "                        <td id=\"T_89c7c_row8_col0\" class=\"data row8 col0\" >60.500000</td>\n",
       "            </tr>\n",
       "            <tr>\n",
       "                        <th id=\"T_89c7c_level0_row9\" class=\"row_heading level0 row9\" >avg_bill</th>\n",
       "                        <td id=\"T_89c7c_row9_col0\" class=\"data row9 col0\" >54.600000</td>\n",
       "            </tr>\n",
       "            <tr>\n",
       "                        <th id=\"T_89c7c_level0_row10\" class=\"row_heading level0 row10\" >middle_avg_bill</th>\n",
       "                        <td id=\"T_89c7c_row10_col0\" class=\"data row10 col0\" >62.500000</td>\n",
       "            </tr>\n",
       "            <tr>\n",
       "                        <th id=\"T_89c7c_level0_row11\" class=\"row_heading level0 row11\" >middle_coffee_cup</th>\n",
       "                        <td id=\"T_89c7c_row11_col0\" class=\"data row11 col0\" >93.600000</td>\n",
       "            </tr>\n",
       "            <tr>\n",
       "                        <th id=\"T_89c7c_level0_row12\" class=\"row_heading level0 row12\" >chain</th>\n",
       "                        <td id=\"T_89c7c_row12_col0\" class=\"data row12 col0\" >0.000000</td>\n",
       "            </tr>\n",
       "            <tr>\n",
       "                        <th id=\"T_89c7c_level0_row13\" class=\"row_heading level0 row13\" >seats</th>\n",
       "                        <td id=\"T_89c7c_row13_col0\" class=\"data row13 col0\" >43.000000</td>\n",
       "            </tr>\n",
       "    </tbody></table>"
      ],
      "text/plain": [
       "<pandas.io.formats.style.Styler at 0x7fe5dbf93520>"
      ]
     },
     "execution_count": 12,
     "metadata": {},
     "output_type": "execute_result"
    }
   ],
   "source": [
    "pd.DataFrame(round(places.isna().mean()*100,1)).style.background_gradient('coolwarm')"
   ]
  },
  {
   "cell_type": "code",
   "execution_count": null,
   "metadata": {},
   "outputs": [],
   "source": [
    "#создадим колонку с названием улицы из столбца с адресом\n",
    "def street_name(row):\n",
    "    address = row['address'].split(', ')\n",
    "    street_name = address[1]\n",
    "    return street_name\n",
    "places['street'] = places.apply(street_name, axis=1)"
   ]
  },
  {
   "cell_type": "code",
   "execution_count": null,
   "metadata": {},
   "outputs": [],
   "source": [
    "# заменим пропуски в колонке hours на unknown\n",
    "places['hours'] = places['hours'].fillna('unknown')"
   ]
  },
  {
   "cell_type": "code",
   "execution_count": null,
   "metadata": {},
   "outputs": [],
   "source": [
    "#создадим столбец обозначающий, что заведение работает круглосуточно и ежедневно is_24/7 \n",
    "def hours_24(row):\n",
    "    hours = row['hours'].split(', ')\n",
    "    if hours[0] == 'ежедневно' and hours[1] == 'круглосуточно':\n",
    "        return True\n",
    "    else:\n",
    "        return False\n",
    "places['is_24/7'] = places.apply(hours_24, axis=1)"
   ]
  },
  {
   "cell_type": "code",
   "execution_count": null,
   "metadata": {},
   "outputs": [],
   "source": [
    "places.sample()"
   ]
  },
  {
   "cell_type": "markdown",
   "metadata": {},
   "source": [
    "**Вывод по шагу 2:**\n",
    "- **Пропуски:**\n",
    "- - Были найдены пропуски в столбцах: - hours (6.4%), seats (43%), price(60,5%), avg__bill (54,6%), middle_avg_bill (62,5%) самое большое количество пропусков в middle_coffee_cup (93.6%). Заполнять пропуски в данных со существеным количеством пропусков средними или медианными значениями будет некорректно и сильно исказит результаты исследования, поэтому оставим все, как есть.\n",
    "- - в колонке hours пропуски заменили на 'unknown'.\n",
    "- **Дубликаты:**\n",
    "- - Явных дубликатов найдено не было.\n",
    "- - Были найдены и удалены 3 дубликата по паре значений 'название заведения - адрес'\n",
    "- - Количество уникальных значений в столбце name было сокращено до 5512\n",
    "- **Новые столбцы:**\n",
    "- - Были созданы столбцы 'street' с названием улицы и 'is_24/7' с обозначением круглосуточной и ежедневной работы."
   ]
  },
  {
   "cell_type": "markdown",
   "metadata": {},
   "source": [
    "**Шаг 3. Анализ данных**"
   ]
  },
  {
   "cell_type": "markdown",
   "metadata": {},
   "source": [
    "**3.1 Какие категории заведений представлены в данных? Исследуем количество объектов общественного питания по категориям: рестораны, кофейни, пиццерии, бары и так далее. Построим визуализации. Ответим на вопрос о распределении заведений по категориям.**"
   ]
  },
  {
   "cell_type": "code",
   "execution_count": null,
   "metadata": {},
   "outputs": [],
   "source": [
    "category_count = places['category'].value_counts().reset_index()\n",
    "category_count.columns = ['type', 'total']\n",
    "category_count"
   ]
  },
  {
   "cell_type": "code",
   "execution_count": null,
   "metadata": {},
   "outputs": [],
   "source": [
    "plt.figure(figsize=(13, 7))\n",
    "sns.barplot(x='type', y='total', data=category_count)\n",
    "plt.title('Количество заведений в каждой категории')\n",
    "plt.xlabel('Количество')\n",
    "plt.ylabel('Категория заведения')\n",
    "plt.show()"
   ]
  },
  {
   "cell_type": "markdown",
   "metadata": {},
   "source": [
    "Мы видим 8 категорий заведений.Больше всего заведений - кафе, меньше всего - булочных."
   ]
  },
  {
   "cell_type": "markdown",
   "metadata": {},
   "source": [
    "**3.2 Исследуйте количество посадочных мест в местах по категориям: рестораны, кофейни, пиццерии, бары и так далее. Постройте визуализации. Проанализируйте результаты и сделайте вывод.**"
   ]
  },
  {
   "cell_type": "code",
   "execution_count": null,
   "metadata": {},
   "outputs": [],
   "source": [
    "plt.figure(figsize=(15, 7))\n",
    "sns.boxplot(x='seats', y='category', data=places) \n",
    "plt.xlabel('Количество посадочных мест')\n",
    "plt.ylabel('Тип заведения')\n",
    "plt.xlim()\n",
    "plt.grid()\n",
    "plt.title('Распределение посадочных мест по типам заведений')\n",
    "plt.show()"
   ]
  },
  {
   "cell_type": "code",
   "execution_count": null,
   "metadata": {},
   "outputs": [],
   "source": [
    "places['seats'].describe()"
   ]
  },
  {
   "cell_type": "code",
   "execution_count": null,
   "metadata": {},
   "outputs": [],
   "source": [
    "seats_count = places.groupby('category').agg({'seats' : 'median','name' : 'count'}).reset_index()\n",
    "seats_count.columns = ['category', 'median', 'count']\n",
    "seats_count = seats_count.sort_values(by='median', ascending=False)\n",
    "seats_count"
   ]
  },
  {
   "cell_type": "code",
   "execution_count": null,
   "metadata": {},
   "outputs": [],
   "source": [
    "plt.figure(figsize=(10, 7))\n",
    "sns.barplot(x='category', y='median', data=seats_count)\n",
    "plt.xlabel('Количество посадочных мест')\n",
    "plt.ylabel('Категория заведения')\n",
    "plt.title('Медианное распределение посадочных мест по категориям заведений')\n",
    "plt.show()"
   ]
  },
  {
   "cell_type": "markdown",
   "metadata": {},
   "source": [
    "Больше всего посадочных мест в ресторанах - 86(медианное значение). Далее идут пабы и бары - 82 места. У кофеен и столовых медианное количество мест 80 и 75 соотвественно. В фастфудах обычно 65 мест, в кафе и пиццериях 60 и 55 мест. Меньше всего мест в булочных - 50."
   ]
  },
  {
   "cell_type": "markdown",
   "metadata": {},
   "source": [
    "**3.3 Рассмотрим и изобразим соотношение сетевых и несетевых заведений в датасете. Каких заведений больше?**"
   ]
  },
  {
   "cell_type": "code",
   "execution_count": null,
   "metadata": {},
   "outputs": [],
   "source": [
    "#посчитаем количество \n",
    "is_chain = places['chain'].value_counts().reset_index()\n",
    "is_chain .columns = ['chain', 'count']\n",
    "is_chain "
   ]
  },
  {
   "cell_type": "code",
   "execution_count": null,
   "metadata": {},
   "outputs": [],
   "source": [
    "fig = go.Figure(data=[go.Pie(labels=is_chain['chain'].map({1: 'Доля сетевых заведений', 0: 'Доля несетевых заведений'}), \n",
    "                             values=is_chain['count'],                              \n",
    "                             title='Распределение сетевых и несетевых заведений')])\n",
    "fig.update_traces(marker=dict(colors=['#612147','#FFA900']))\n",
    "fig.show()"
   ]
  },
  {
   "cell_type": "markdown",
   "metadata": {},
   "source": [
    "Несетевых заведений больше - 5200 (61.9%), сетевых заведений - 3203(38.1%)."
   ]
  },
  {
   "cell_type": "markdown",
   "metadata": {},
   "source": [
    "**3.4 Какие категории заведений чаще являются сетевыми? Исследуем данные и ответим на вопрос графиком.**"
   ]
  },
  {
   "cell_type": "code",
   "execution_count": null,
   "metadata": {},
   "outputs": [],
   "source": [
    "# категории сетевых заведений\n",
    "chain = (places\n",
    "         .pivot_table(index='category', values='chain', aggfunc=('count', 'sum'))\n",
    "         .sort_values(by='count', ascending=False)\n",
    "         .reset_index()\n",
    "        )\n",
    "chain.columns = ['category', 'total_count', 'chain_count']\n",
    "#добавим столбец с количеством несетевых заведений\n",
    "chain['unchain_count'] = chain['total_count'] - chain['chain_count']\n",
    "#посчитаем доли сетевых и несетевых заведений в %\n",
    "chain['chain_%'] = round(chain['chain_count']/chain['total_count'] * 100,1)\n",
    "chain['unchain_%'] = round(chain['unchain_count']/chain['total_count'] * 100,1)\n",
    "chain"
   ]
  },
  {
   "cell_type": "code",
   "execution_count": null,
   "metadata": {},
   "outputs": [],
   "source": [
    "fig = go.Figure()\n",
    "fig.add_trace(go.Bar(x = chain['category'], y = chain['unchain_count'], marker_color='#612147', name='Несетевые заведения', \n",
    "                     text=chain['unchain_%'].apply(lambda x: '{0:1.2f}%'.format(x))))\n",
    "fig.add_trace(go.Bar(x = chain['category'], y = chain['chain_count'], marker_color='#FFA900', name='Сетевые заведения', \n",
    "                     text=chain['chain_%'].apply(lambda x: '{0:1.2f}%'.format(x))))\n",
    "fig.update_layout(\n",
    "    title='Распределение сетевых и несетевых заведений по категориям',\n",
    "    xaxis_title='Категория заведения',\n",
    "    yaxis_title='Количество заведений'\n",
    ")\n",
    "\n",
    "fig.show()"
   ]
  },
  {
   "cell_type": "markdown",
   "metadata": {},
   "source": [
    "Больше всех сетями являются булочные заведения - 61.3%, меньше всех пабы и бары - 22%. Кафе и рестораны чаще являются несетевым заведением - 67,2% и 64,3%. Кофеен почти половина сетей. 78% пабов и баров являюся нестевыми. Заведения категории 'фастфуд' чаще несетевое также как и столовые."
   ]
  },
  {
   "cell_type": "markdown",
   "metadata": {},
   "source": [
    "**3.5 Сгруппируем данные по названиям заведений и найдем топ-15 популярных сетей в Москве. Под популярностью понимается количество заведений этой сети в регионе. Постройте подходящую для такой информации визуализацию. Знакомы ли вам эти сети? Есть ли какой-то признак, который их объединяет? К какой категории заведений они относятся?**"
   ]
  },
  {
   "cell_type": "code",
   "execution_count": null,
   "metadata": {},
   "outputs": [],
   "source": [
    "places['name'].value_counts().head(20)"
   ]
  },
  {
   "cell_type": "code",
   "execution_count": null,
   "metadata": {},
   "outputs": [],
   "source": [
    "#уберем названия заведений, которые объединили с в название категории. Яндекс Лавку также исключим из списка, так как это онлайн-сервис\n",
    "places_chain = places.query('name not in [\"КАФЕ\", \"ХИНКАЛЬНАЯ\", \"ШАУРМА\", \"ЧАЙХАНА\", \"РЕСТОРАН\", \"СТОЛОВАЯ\", \"ЯНДЕКС ЛАВКА\"]')\n",
    "top_15_chain = places_chain[['name', 'category']].value_counts().head(15).reset_index()\n",
    "top_15_chain.columns = ['name', 'category', 'count']\n",
    "top_15_chain"
   ]
  },
  {
   "cell_type": "code",
   "execution_count": null,
   "metadata": {},
   "outputs": [],
   "source": [
    "fig = px.bar(top_15_chain, x='count', y='name', color='category')\n",
    "fig.update_layout(title='Топ-15 сетевых заведений',\n",
    "                   xaxis_title='Количество заведений сети',\n",
    "                   yaxis_title='Название сети',\n",
    "                   yaxis={'categoryorder':'total ascending'})\n",
    "fig.show()"
   ]
  },
  {
   "cell_type": "markdown",
   "metadata": {},
   "source": [
    "Из графика видно, что самым крупным сетевым заведением является Шоколадница - 119 кафе. Пиццерии Доминос и Додо занимают 2 и 3 места, 77 и 74 заведения соответсвенно. Самыми скромными сетями в нашем рейтинге будут Крошка Картошка и Cinnabon - по 20 точек в каждом. В общем самые распространенные сетевые категории - это кафе, кофейни, булочные, пиццерии."
   ]
  },
  {
   "cell_type": "markdown",
   "metadata": {},
   "source": [
    "**3.6 Какие административные районы Москвы присутствуют в датасете? Отобразим общее количество заведений и количество заведений каждой категории по районам. Попробуем проиллюстрировать эту информацию одним графиком.**"
   ]
  },
  {
   "cell_type": "code",
   "execution_count": null,
   "metadata": {},
   "outputs": [],
   "source": [
    "places['district'].value_counts()"
   ]
  },
  {
   "cell_type": "code",
   "execution_count": null,
   "metadata": {},
   "outputs": [],
   "source": [
    "district = (places\n",
    "                  .pivot_table(index='district', values='name', columns='category', aggfunc=('count'))\n",
    "                  .reset_index()\n",
    "                  )\n",
    "district['total'] = district.loc[:, 'бар,паб':'столовая'].sum(axis=1)\n",
    "district = district.sort_values(by='total', ascending=False)\n",
    "district"
   ]
  },
  {
   "cell_type": "code",
   "execution_count": null,
   "metadata": {},
   "outputs": [],
   "source": [
    "fig = px.bar(district, x=['бар,паб', 'булочная', 'быстрое питание', 'кафе', 'кофейня', 'пиццерия', 'ресторан', 'столовая'], \n",
    "             y='district'\n",
    "             )\n",
    "fig.update_layout(title='Распределение категорий заведений Москвы по кругам',\n",
    "                   xaxis_title='Округ',\n",
    "                   yaxis_title='Количество заведений')\n",
    "fig.show()"
   ]
  },
  {
   "cell_type": "markdown",
   "metadata": {},
   "source": [
    "По графику можно увидеть, что в Центральном округе больше всего заведений - 2242, среди которых подавляющее число это рестораны. На Северо-Западе Москвы оказалось меньше всего заведений - 409. В остальных округах число заведений примерно одинаковое от 709 до 899."
   ]
  },
  {
   "cell_type": "markdown",
   "metadata": {},
   "source": [
    "**3.7 Визуализируем распределение средних рейтингов по категориям заведений. Сильно ли различаются усреднённые рейтинги в разных типах общепита?**"
   ]
  },
  {
   "cell_type": "code",
   "execution_count": null,
   "metadata": {},
   "outputs": [],
   "source": [
    "rating = (places\n",
    "         .pivot_table(index='category', values='rating', aggfunc='mean')\n",
    "         .sort_values(by='rating', ascending=False)\n",
    "         .reset_index())\n",
    "rating['rating'] = round(rating['rating'],2)\n",
    "rating"
   ]
  },
  {
   "cell_type": "code",
   "execution_count": null,
   "metadata": {},
   "outputs": [],
   "source": [
    "  \n",
    "plt.figure(figsize=(10, 7))\n",
    "sns.barplot(x='category', y='rating', data=rating)\n",
    "plt.ylim(4, 4.5)\n",
    "plt.xlabel('Категория заведения')\n",
    "plt.ylabel('Рейтинг')\n",
    "plt.title('Распределение средних рейтингов по категориям')\n",
    "plt.show()"
   ]
  },
  {
   "cell_type": "code",
   "execution_count": null,
   "metadata": {},
   "outputs": [],
   "source": [
    "plt.figure(figsize=(12, 7))\n",
    "\n",
    "sort_median = (places.loc[:,['rating', 'category']]\n",
    "    .groupby(['category'])\n",
    "    .median() \n",
    "    .sort_values(by='rating')\n",
    "          )\n",
    "\n",
    "sns.boxplot(x='rating', y='category', data=places, order=sort_median.index)\n",
    "plt.xlabel('Рейтинг')\n",
    "plt.ylabel('Категория заведения')\n",
    "plt.xlim()\n",
    "plt.grid()\n",
    "plt.title('Распределение рейтингов по категориям заведений')\n",
    "plt.show()"
   ]
  },
  {
   "cell_type": "markdown",
   "metadata": {},
   "source": [
    "Наивысший рейтинг у пабов и баров (4.39), следом идут пиццерии (4,30), а за ними рестораны (4,29). У кофеен и булочных примерно поровну 4.28 и 4.27 соответственно. У столовых 4.21, у кафе 4.12. Фастфуды же обладают самым низким рейтингом - 4.05."
   ]
  },
  {
   "cell_type": "markdown",
   "metadata": {},
   "source": [
    "**3.8 Построим фоновую картограмму (хороплет) со средним рейтингом заведений каждого района.**"
   ]
  },
  {
   "cell_type": "code",
   "execution_count": null,
   "metadata": {},
   "outputs": [],
   "source": [
    "places_rating = (places\n",
    "             .groupby('district')['rating'].mean()\n",
    "             .round(2)\n",
    "             .sort_values(ascending=False)\n",
    "             .reset_index()\n",
    "            )\n",
    "places_rating"
   ]
  },
  {
   "cell_type": "code",
   "execution_count": null,
   "metadata": {},
   "outputs": [],
   "source": [
    "fig = go.Figure()\n",
    "fig.add_trace(go.Bar(x = places_rating['district'], y = places_rating['rating']))\n",
    "fig.update_layout(\n",
    "    title='Распределение средних рейтингов по категориям',\n",
    "    xaxis_title='Категория заведения',\n",
    "    yaxis_title='Средний рейтинг')\n",
    "fig.show()"
   ]
  },
  {
   "cell_type": "code",
   "execution_count": null,
   "metadata": {},
   "outputs": [],
   "source": [
    "with open('/datasets/admin_level_geomap.geojson', 'r') as f:\n",
    "    geo_json = json.load(f)"
   ]
  },
  {
   "cell_type": "code",
   "execution_count": null,
   "metadata": {},
   "outputs": [],
   "source": [
    "geomap = '/datasets/admin_level_geomap.geojson'"
   ]
  },
  {
   "cell_type": "code",
   "execution_count": null,
   "metadata": {},
   "outputs": [],
   "source": [
    "moscow_lat, moscow_lng = 55.751244, 37.618423"
   ]
  },
  {
   "cell_type": "code",
   "execution_count": null,
   "metadata": {},
   "outputs": [],
   "source": [
    "map_moscow = Map(location=[moscow_lat, moscow_lng], zoom_start=10)"
   ]
  },
  {
   "cell_type": "code",
   "execution_count": null,
   "metadata": {},
   "outputs": [],
   "source": [
    "Choropleth(\n",
    "    geo_data=geomap,\n",
    "    data=places_rating,\n",
    "    columns=['district', 'rating'],\n",
    "    key_on='feature.name',\n",
    "    fill_color='YlOrBr',\n",
    "    fill_opacity=0.8,\n",
    "    legend_name='Средний рейтинг заведений по районам',\n",
    ").add_to(map_moscow)\n"
   ]
  },
  {
   "cell_type": "code",
   "execution_count": null,
   "metadata": {
    "scrolled": true
   },
   "outputs": [],
   "source": [
    "map_moscow"
   ]
  },
  {
   "cell_type": "markdown",
   "metadata": {},
   "source": [
    "Самый высокий средний рейтинг у заведений из Центрального округа - 4.38, самый низкий из Юго-Восточного округа - 4.10. В Северном округе средняя оценка заведений - 4.24. В остальных округах рейтинг в интервале от 4.15 до 4.21."
   ]
  },
  {
   "cell_type": "markdown",
   "metadata": {},
   "source": [
    "**3.9 Отобразим все заведения датасета на карте с помощью кластеров.**"
   ]
  },
  {
   "cell_type": "code",
   "execution_count": null,
   "metadata": {},
   "outputs": [],
   "source": [
    "moscow_lat, moscow_lng = 55.751244, 37.618423\n",
    "\n",
    "msc_map = Map(location=[moscow_lat, moscow_lng], zoom_start=10)\n",
    "marker_cluster = MarkerCluster().add_to(msc_map)\n",
    "\n",
    "def create_clusters(row):\n",
    "    Marker(\n",
    "        [row['lat'], row['lng']],\n",
    "        popup=f\"{row['name']} {row['rating']}\",\n",
    "    ).add_to(marker_cluster)\n",
    "\n",
    "places.apply(create_clusters, axis=1)\n",
    "\n",
    "msc_map"
   ]
  },
  {
   "cell_type": "code",
   "execution_count": null,
   "metadata": {},
   "outputs": [],
   "source": [
    "#тепловая карта заведений\n",
    "\n",
    "msc_heatmap = folium.Map([55.751244, 37.618423], zoom_start=10)\n",
    "heatmap = places[['lat','lng']]\n",
    "msc_heatmap.add_child(plugins.HeatMap(heatmap, radius=14))\n",
    "msc_heatmap   "
   ]
  },
  {
   "cell_type": "markdown",
   "metadata": {},
   "source": [
    "Как уже раннее было сказано, в центре больше всего заведений, в остальных округах их количество существенно меньше."
   ]
  },
  {
   "cell_type": "markdown",
   "metadata": {},
   "source": [
    "**3.10 Найдем топ-15 улиц по количеству заведений. Построим график распределения количества заведений и их категорий по этим улицам.**"
   ]
  },
  {
   "cell_type": "code",
   "execution_count": null,
   "metadata": {},
   "outputs": [],
   "source": [
    "top_15_street = places['street'].value_counts().head(15).reset_index()\n",
    "top_15_street.columns = ['street', 'total']\n",
    "top_15_street"
   ]
  },
  {
   "cell_type": "code",
   "execution_count": null,
   "metadata": {},
   "outputs": [],
   "source": [
    "street_count = places.pivot_table(index='street', values='name', columns='category', aggfunc='count')\n",
    "street_count"
   ]
  },
  {
   "cell_type": "code",
   "execution_count": null,
   "metadata": {},
   "outputs": [],
   "source": [
    "top_15_street_count = top_15_street.merge(street_count, how='inner', on='street')\n",
    "top_15_street_count"
   ]
  },
  {
   "cell_type": "code",
   "execution_count": null,
   "metadata": {},
   "outputs": [],
   "source": [
    "fig = px.bar(top_15_street_count, x='street', \n",
    "             y=['бар,паб', 'булочная', 'быстрое питание', 'кафе', 'кофейня', 'пиццерия', 'ресторан', 'столовая']\n",
    "             )\n",
    "fig.update_layout(title='Топ-15 улиц по количеству заведений',\n",
    "                   xaxis_title='Название улицы',\n",
    "                   yaxis_title='Количество заведений')\n",
    "fig.show()"
   ]
  },
  {
   "cell_type": "markdown",
   "metadata": {},
   "source": [
    "Из исследования видно, что больше всего заведений находятся на больших улицах: шоссе, проспектах... Самая \"густонаселенная\" среди них это проспект Мира - 183 заведения. Пятницкая улица, хоть и небольшая по сравнению с шоссе, тем не менее вошла в наш рейтинг, там 48 заведений - наименьший показатель."
   ]
  },
  {
   "cell_type": "markdown",
   "metadata": {},
   "source": [
    "**3.11 Найдем улицы, на которых находится только один объект общепита.**"
   ]
  },
  {
   "cell_type": "code",
   "execution_count": null,
   "metadata": {},
   "outputs": [],
   "source": [
    "one_street = places.groupby('street')['name'].count().reset_index().query('name == 1')\n",
    "one_street.rename(columns={'name':'count'}, inplace=True)\n",
    "one_street"
   ]
  },
  {
   "cell_type": "code",
   "execution_count": null,
   "metadata": {},
   "outputs": [],
   "source": [
    "df_category = places[['category', 'street']].reset_index()\n",
    "df_category"
   ]
  },
  {
   "cell_type": "code",
   "execution_count": null,
   "metadata": {},
   "outputs": [],
   "source": [
    "#объединим две таблицы и посчитаем, сколько улиц с одним объектом в каждом категории\n",
    "category_street = one_street.merge(df_category, how='inner', on='street')\n",
    "category_street = (category_street\n",
    "                   .groupby('category')['street'].count()\n",
    "                   .sort_values(ascending=False)\n",
    "                   .reset_index()\n",
    "                  )\n",
    "category_street"
   ]
  },
  {
   "cell_type": "code",
   "execution_count": null,
   "metadata": {},
   "outputs": [],
   "source": [
    "plt.figure(figsize=(10, 7))\n",
    "sns.barplot(x='category', y='street', data=category_street)\n",
    "plt.xlabel('категория заведения')\n",
    "plt.ylabel('Количество улиц')\n",
    "plt.title('Количество улиц с одним заведением общепита по категориям ')\n",
    "plt.show()"
   ]
  },
  {
   "cell_type": "markdown",
   "metadata": {},
   "source": [
    "Видно, что одиночных кафе больше всех с большим отрывом на втором месте рестораны а за ними кофейни, количество заведений в остальных категорях сильно меньше начиная с баров и пабов.\n"
   ]
  },
  {
   "cell_type": "code",
   "execution_count": null,
   "metadata": {},
   "outputs": [],
   "source": [
    "df_district = places[['district', 'street']].reset_index()\n",
    "df_district"
   ]
  },
  {
   "cell_type": "code",
   "execution_count": null,
   "metadata": {},
   "outputs": [],
   "source": [
    "district_street = one_street.merge(df_district, how='inner', on='street')\n",
    "district_street = (district_street\n",
    "                   .groupby('district')['street'].count()\n",
    "                   .sort_values(ascending=False)\n",
    "                   .reset_index()\n",
    "                  )\n",
    "district_street"
   ]
  },
  {
   "cell_type": "code",
   "execution_count": null,
   "metadata": {},
   "outputs": [],
   "source": [
    "plt.figure(figsize=(15, 7))\n",
    "sns.barplot(x='street', y='district', data=district_street) \n",
    "plt.xlabel('Количество улиц')\n",
    "plt.ylabel('Округ')\n",
    "plt.grid()\n",
    "plt.title('Количество улиц с одним заведением общепита по округам')\n",
    "plt.show()"
   ]
  },
  {
   "cell_type": "markdown",
   "metadata": {},
   "source": [
    "Всего на 458 улицах Москвы располагается по одному заведению общепита, кафе среди них встречаются чаще всего - 160 точек. Большинство улиц находятся в центре. Меньше всего улиц с одной точкой общественного питания в Северо-Западном и Юго-Западном округах. В остальных округах города распределение улиц с одним заведением общепита равномерное."
   ]
  },
  {
   "cell_type": "markdown",
   "metadata": {},
   "source": [
    "**3.12 Рассчитаем средний чек для каждого округа Москвы. Построим фоновую картограмму (хороплет) с полученными значениями для каждого района. Проанализируем цены в центральном административном округе и других. Как удалённость от центра влияет на цены в заведениях?**"
   ]
  },
  {
   "cell_type": "code",
   "execution_count": null,
   "metadata": {},
   "outputs": [],
   "source": [
    "avg_bill = (places\n",
    "            .groupby('district')['middle_avg_bill'].median()\n",
    "            .reset_index()\n",
    "            .sort_values(by = 'middle_avg_bill', ascending=False)\n",
    "           )\n",
    "avg_bill"
   ]
  },
  {
   "cell_type": "code",
   "execution_count": null,
   "metadata": {},
   "outputs": [],
   "source": [
    "plt.figure(figsize=(15, 7))\n",
    "sns.barplot(x='middle_avg_bill', y='district', data=avg_bill) \n",
    "plt.xlabel('Средний чек')\n",
    "plt.ylabel('Округ')\n",
    "plt.grid()\n",
    "plt.title('Средний чек по округам')\n",
    "plt.show()"
   ]
  },
  {
   "cell_type": "code",
   "execution_count": null,
   "metadata": {},
   "outputs": [],
   "source": [
    "moscow_map = Map(location=[moscow_lat, moscow_lng], zoom_start=10)\n",
    "\n",
    "# создаём хороплет с помощью конструктора Choropleth и добавляем его на карту\n",
    "Choropleth(\n",
    "    geo_data=geomap,\n",
    "    data=avg_bill,\n",
    "    columns=['district', 'middle_avg_bill'],\n",
    "    key_on='feature.name',\n",
    "    fill_color='YlOrBr',\n",
    "    fill_opacity=0.8,\n",
    "    legend_name='Средний чек в заведениях по районам Москвы',\n",
    ").add_to(moscow_map)\n",
    "\n",
    "# выводим карту\n",
    "moscow_map"
   ]
  },
  {
   "cell_type": "markdown",
   "metadata": {},
   "source": [
    "Самые высокие цены в центре и на западе Москвы. Наиболее доступные цены на Юге, Юго-Востоке и Северо-Востоке города. В остальных районах цены находятся в диапазоне 575-700 рублей."
   ]
  },
  {
   "cell_type": "code",
   "execution_count": null,
   "metadata": {},
   "outputs": [],
   "source": [
    "from folium.plugins.heat_map import HeatMap\n",
    "m = folium.Map([55.751244, 37.618423], zoom_start=10)\n",
    "heatmap_data = places[['lat','lng', 'middle_avg_bill']].copy().dropna() # без удаления пустых значений heatmap не сработает\n",
    "heatmap = heatmap_data[['lat','lng', 'middle_avg_bill']] \n",
    "HeatMap(data=heatmap, radius=14).add_to(m)\n",
    "m "
   ]
  },
  {
   "cell_type": "markdown",
   "metadata": {},
   "source": [
    "Наибольшая концентрация дорогих завелений находится в центре. Также можно сказать что вес точек распределен равномерно по всему городу - в каждом округе есть как и дешевые, так и заведения с высокими ценами."
   ]
  },
  {
   "cell_type": "markdown",
   "metadata": {},
   "source": [
    "**3.13 Связь среднего чека и рейтинга**"
   ]
  },
  {
   "cell_type": "code",
   "execution_count": null,
   "metadata": {},
   "outputs": [],
   "source": [
    "#посмотрим на категории цен\n",
    "places.groupby('price')['middle_avg_bill'].median()"
   ]
  },
  {
   "cell_type": "code",
   "execution_count": null,
   "metadata": {},
   "outputs": [],
   "source": [
    "#построим диаграмму рассеяния\n",
    "plt.figure(figsize=(10, 5))\n",
    "sns.scatterplot(x='rating', y='middle_avg_bill', data=places)\n",
    "plt.title('Корреляция между рейтингом и средним чеком') \n",
    "plt.xlabel('Рейтинг') \n",
    "plt.ylabel('Средний чек') \n",
    "plt.ylim(0,10000)\n",
    "plt.show()"
   ]
  },
  {
   "cell_type": "code",
   "execution_count": null,
   "metadata": {},
   "outputs": [],
   "source": [
    "rating_bill_corr = places['rating'].corr(places['middle_avg_bill'])\n",
    "rating_bill_corr"
   ]
  },
  {
   "cell_type": "markdown",
   "metadata": {},
   "source": [
    "Корреляция между средним чеком и рейтингом слабая. Можно сказать, что у заведений с высоким средним чеком реже бывают плохие отзывы. Детально проанализируем заведения с низкими рейтингами."
   ]
  },
  {
   "cell_type": "code",
   "execution_count": null,
   "metadata": {},
   "outputs": [],
   "source": [
    "#сделаем срез по заведениям с рейтингом ниже 3.5\n",
    "#сгруппируем данные по категориям со стобцами: количество заведений в категории и средний чек\n",
    "low_rating = places.query('rating < 3.5').groupby('category').agg({'name' : 'count', 'middle_avg_bill': 'median'}).reset_index()\n",
    "low_rating.rename(columns={'name':'count', 'middle_avg_bill':'low_rating_bill'}, inplace=True)\n",
    "low_rating"
   ]
  },
  {
   "cell_type": "code",
   "execution_count": null,
   "metadata": {},
   "outputs": [],
   "source": [
    "a = places.groupby('category')['middle_avg_bill'].median().reset_index()\n",
    "a"
   ]
  },
  {
   "cell_type": "code",
   "execution_count": null,
   "metadata": {},
   "outputs": [],
   "source": [
    "#объединим две таблицы и выведем: категория заведения, количество заведений с рейтингом ниже 3.5,\n",
    "#средний чек заведений с рейтингом ниже 3.5, средний чек по всему датасету в данной категории\n",
    "low_rating_place = low_rating.merge(a, how='inner', on='category').sort_values(by='count', ascending=False).reset_index()\n",
    "low_rating_place"
   ]
  },
  {
   "cell_type": "markdown",
   "metadata": {},
   "source": [
    "Чаще всего заведения с низким рейтингом (ниже 3.5) встречаются среди кафе, при этом средний чек в кафе с низкой оценкой и средний чек кафе по всем данным практически не отличается - 550-560 руб. В булочных, кофейнях и пиццериях с низким рейтингом средний чек выше, чем в целом по данным категориям. В барах и пабах разница в средних чеках ощутима, практически в 8 раз. В ресторанах, фастфудах и столовых средний чек в целом выше чем средний чек в этих категориях в заведениях с низким рейтингом."
   ]
  },
  {
   "cell_type": "markdown",
   "metadata": {},
   "source": [
    "**3.13 Вывод:**\n"
   ]
  },
  {
   "cell_type": "markdown",
   "metadata": {},
   "source": [
    "Было проанализировано  8403 объекта общественного питания Москвы. Больше всего заведений - кафе, меньше всего - булочных.\n",
    "\n",
    "**Типы заведений:**\n",
    " Представлено 8 категорий заведений:\n",
    "- кафе - самое распространенное заведение общественного питания, 28.3% от всего количество.\n",
    "- рестораны - 24.3% и кофейни - 16.8%;\n",
    "- бары,пабы - 9.1%;\n",
    "- пиццерий и фастфудов 7.53% и 7.17% соответственно;\n",
    "- меньше всего оказалось столовых и булочных - 3.75% и 3.05%.\n",
    "\n",
    "**Посадочные места:**\n",
    "\n",
    "В ресторанах самое большое количество мест - 86, далее идут бары и пабы  82 места в среднем, в кофейнях 80, в столовых 75 мест, в фастфудах и кафе 65 и 60 мест, и меньше всего в пиццериях и булочных - по 55 и 50 мест соответственно.\n",
    "\n",
    "**Сетевые и несетевые заведения:**\n",
    "\n",
    "Больше всех сетями являются булочные заведения - 61.3%, меньше всех пабы и бары - 22%. Кафе и рестораны чаще являются несетевым заведением - 67,2% и 64,3%. Кофеен почти половина сетей. 78% пабов и баров являюся нестевыми. Заведенее категории 'фастфуд' чаще несетевое также как и столовые.\n",
    "Самым крупным сетевым заведением является Шоколадница - 119 кафе. Пиццерии Доминос и Додо занимают 2 и 3 места, 77 и 74 заведения соответсвенно. Самыми скромными сетями в нашем рейтинге будут Крошка Картошка и Cinnabon - по 20 точек в каждом. В общем самые распространенные сетевые категории - это кафе, кофейни, булочные, пиццерии.\n",
    "\n",
    "**Расположение:**\n",
    "\n",
    "В Центральном округе больше всего заведений - 2242, среди которых подавляющее число это рестораны. На Северо-Западе Москвы оказалось меньше всего заведений - 409. В остальных округах число заведений примерно одинаковое от 709 до 899.\n",
    "\n",
    "Также выяснилось, что больше всего заведений находятся на больших улицах: шоссе, проспектах... Самая \"густонаселенная\" среди них это проспект Мира - 183 заведения. Пятницкая улица, хоть и небольшая по сравнению с шоссе, тем не менее вошла в наш рейтинг, там 48 заведений - наименьший показатель.\n",
    "\n",
    "Всего на 458 улицах Москвы располагается по одному заведению общепита, кафе среди них встречаются чаще всего - 160 точек. Большинство улиц находятся в центре. Меньше всего улиц с одной точкой общественного питания в Северо-Западном и Юго-Западном округах. В остальных округах города распределение улиц с одним заведением общепита равномерное.\n",
    "\n",
    "**Рейтинги:**\n",
    "\n",
    "Самый высокий средний рейтинг у заведений из Центрального округа - 4.38, самый низкий из Юго-Восточного округа - 4.10. В Северном округе средняя оценка заведений - 4.24. В остальных округах рейтинг в интервале от 4.15 до 4.21.\n",
    "\n",
    "Чаще всего заведения с низким рейтингом (ниже 3.5) встречаются среди кафе, при этом средний чек в кафе с низкой оценкой и средний чек кафе по всем данным практически не отличается - 550-560 руб. В булочных, кофейнях и пиццериях с низким рейтингом средний чек выше, чем в целом по данным категориям. В барах и пабах разница в средних чеках ощутима, практически в 8 раз. В ресторанах, фастфудах и столовых средний чек в целом выше чем средний чек в этих категориях в заведениях с низким рейтингом.\n",
    "\n",
    "**Ценообразование:**\n",
    "\n",
    "Самые высокие цены в центре и на западе Москвы. Наиболее доступные цены на Юге, Юго-Востоке и Северо-Востоке города. В остальных районах цены находятся в диапазоне 575-700 рублей."
   ]
  },
  {
   "cell_type": "markdown",
   "metadata": {},
   "source": [
    "**Шаг 4. Детализируем исследование: открытие кофейни**"
   ]
  },
  {
   "cell_type": "markdown",
   "metadata": {},
   "source": [
    "Основателям фонда «Shut Up and Take My Money» не даёт покоя успех сериала «Друзья». Их мечта — открыть такую же крутую и доступную, как «Central Perk», кофейню в Москве. Будем считать, что заказчики не боятся конкуренции в этой сфере, ведь кофеен в больших городах уже достаточно. Попробуем определить, осуществима ли мечта клиентов."
   ]
  },
  {
   "cell_type": "markdown",
   "metadata": {},
   "source": [
    "**4.1 Сколько всего кофеен в датасете? В каких районах их больше всего, каковы особенности их расположения?**"
   ]
  },
  {
   "cell_type": "code",
   "execution_count": null,
   "metadata": {},
   "outputs": [],
   "source": [
    "#количество кофеен\n",
    "coffee = places.query('category == \"кофейня\"')\n",
    "coffee['name'].count()"
   ]
  },
  {
   "cell_type": "code",
   "execution_count": null,
   "metadata": {},
   "outputs": [],
   "source": [
    "coffee_distr= coffee['district'].value_counts().reset_index()\n",
    "coffee_distr"
   ]
  },
  {
   "cell_type": "code",
   "execution_count": null,
   "metadata": {},
   "outputs": [],
   "source": [
    "plt.figure(figsize=(12, 8))\n",
    "sns.barplot(x='district', y='index', data=coffee_distr, color='blue')\n",
    "plt.xlabel('Количество кофеен')\n",
    "plt.ylabel('Округ')\n",
    "plt.title('Распределение кофеен по округам')\n",
    "plt.show()"
   ]
  },
  {
   "cell_type": "code",
   "execution_count": null,
   "metadata": {
    "scrolled": true
   },
   "outputs": [],
   "source": [
    "moscow_lat, moscow_lng = 55.751244, 37.618423\n",
    "\n",
    "# создаём карту Москвы\n",
    "coffee_map = Map(location=[moscow_lat, moscow_lng], zoom_start=10)\n",
    "# создаём пустой кластер, добавляем его на карту\n",
    "marker_cluster = MarkerCluster().add_to(coffee_map )\n",
    "\n",
    "# пишем функцию, которая принимает строку датафрейма,\n",
    "# создаёт маркер в текущей точке и добавляет его в кластер marker_cluster\n",
    "def create_clusters(row):\n",
    "    Marker(\n",
    "        [row['lat'], row['lng']],\n",
    "        popup=f\"{row['name']} {row['rating']}\",\n",
    "    ).add_to(marker_cluster)\n",
    "\n",
    "# применяем функцию create_clusters() к каждой строке датафрейма\n",
    "coffee.apply(create_clusters, axis=1)\n",
    "\n",
    "# выводим карту\n",
    "coffee_map "
   ]
  },
  {
   "cell_type": "code",
   "execution_count": null,
   "metadata": {},
   "outputs": [],
   "source": [
    "# улицы на которых больше всего кофеен\n",
    "coffee['street'].value_counts().head(15)"
   ]
  },
  {
   "cell_type": "markdown",
   "metadata": {},
   "source": [
    "Всего в Москве 1413 кофеен. Больше всего заведений данной категории в Центральном округе - 428, на втором месте Север, меньше всего на Юге. Наиболее часто кофейни встречаются на длинных улицах, шоссе и проспектах, на перекрестках."
   ]
  },
  {
   "cell_type": "markdown",
   "metadata": {},
   "source": [
    "**4.2 Есть ли круглосуточные кофейни?**"
   ]
  },
  {
   "cell_type": "code",
   "execution_count": null,
   "metadata": {},
   "outputs": [],
   "source": [
    "coffee['hours'].value_counts().sort_values(ascending=False).head(15)"
   ]
  },
  {
   "cell_type": "code",
   "execution_count": null,
   "metadata": {},
   "outputs": [],
   "source": [
    "#сделаем срез по столбцу 'is_24/7'\n",
    "coffee_24_7 = coffee[coffee['is_24/7'] == True]\n",
    "\n",
    "map_coffee_24_7 = Map(location=[moscow_lat, moscow_lng], zoom_start=10)\n",
    "# создаём пустой кластер, добавляем его на карту\n",
    "marker_cluster = MarkerCluster().add_to(map_coffee_24_7)\n",
    "\n",
    "# пишем функцию, которая принимает строку датафрейма,\n",
    "# создаёт маркер в текущей точке и добавляет его в кластер marker_cluster\n",
    "def create_clusters(row):\n",
    "    Marker(\n",
    "        [row['lat'], row['lng']],\n",
    "        popup=f\"{row['name']} {row['rating']}\",\n",
    "    ).add_to(marker_cluster)\n",
    "\n",
    "# применяем функцию create_clusters() к каждой строке датафрейма\n",
    "coffee_24_7.apply(create_clusters, axis=1)\n",
    "\n",
    "# выводим карту\n",
    "map_coffee_24_7"
   ]
  },
  {
   "cell_type": "code",
   "execution_count": null,
   "metadata": {},
   "outputs": [],
   "source": [
    "c_24_7 = coffee_24_7['district'].value_counts().reset_index()\n",
    "c_24_7.columns = ['district', 'count']\n",
    "c_24_7"
   ]
  },
  {
   "cell_type": "code",
   "execution_count": null,
   "metadata": {},
   "outputs": [],
   "source": [
    "plt.figure(figsize=(10, 7))\n",
    "sns.barplot(x='count', y='district', data=c_24_7)\n",
    "plt.xlabel('количество кофеен')\n",
    "plt.ylabel('Округ')\n",
    "plt.title('Распределение круглосуточных кофеен по округам')\n",
    "plt.show()"
   ]
  },
  {
   "cell_type": "markdown",
   "metadata": {},
   "source": [
    "Большинство круглосуточных кофеен расположено в центре города - 26 точек. Далее по списку Запад - 9, а за ним Юго-Запад - 7. В остальных округах крайне мало заведений от 1 до 5.  "
   ]
  },
  {
   "cell_type": "markdown",
   "metadata": {},
   "source": [
    "**4.3 Какие у кофеен рейтинги? Как они распределяются по районам?**"
   ]
  },
  {
   "cell_type": "code",
   "execution_count": null,
   "metadata": {},
   "outputs": [],
   "source": [
    "#распределение рейтингов кофеен по округам\n",
    "coffee_rating = (coffee\n",
    "                 .groupby('district', as_index=False)['rating'].agg('mean')\n",
    "                 .round(2)\n",
    "                 .sort_values(by='rating', ascending=False)\n",
    "                )\n",
    "coffee_rating"
   ]
  },
  {
   "cell_type": "code",
   "execution_count": null,
   "metadata": {},
   "outputs": [],
   "source": [
    "plt.figure(figsize=(10, 7))\n",
    "sns.barplot(x='rating', y='district', data=coffee_rating)\n",
    "plt.xlim(4, 4.5)\n",
    "plt.xlabel('Средний рейтинг')\n",
    "plt.ylabel('Округ')\n",
    "plt.title('Средний рейтинг кофеен по округам')\n",
    "plt.show()"
   ]
  },
  {
   "cell_type": "code",
   "execution_count": null,
   "metadata": {},
   "outputs": [],
   "source": [
    "# создаём карту Москвы\n",
    "#coffee_map = Map(location=[moscow_lat, moscow_lng], zoom_start=10)\n",
    "\n",
    "# создаём хороплет с помощью конструктора Choropleth и добавляем его на карту\n",
    "#Choropleth(\n",
    "    #geo_data=geomap,\n",
    "    #data=coffee_rating,\n",
    "    #columns=['district', 'rating'],\n",
    "    #key_on='feature.name',\n",
    "    #fill_color='YlOrBr',\n",
    "    #fill_opacity=0.8,\n",
    "    #legend_name='Средний рейтинг кофеен по районам',\n",
    "#).add_to(coffee_map)\n",
    "\n",
    "#coffee_map"
   ]
  },
  {
   "cell_type": "markdown",
   "metadata": {},
   "source": [
    "Наиболее высокие оценки имеют кофейни в Центральном и Северо-Западном округах - средняя оценка 4.33-4.34. Самый низкий рейтинг у кофеен в Западном округе - 4.2 и Северо-Восточном округе - 4.22."
   ]
  },
  {
   "cell_type": "markdown",
   "metadata": {},
   "source": [
    "**4.4 На какую стоимость чашки капучино стоит ориентироваться при открытии и почему?**"
   ]
  },
  {
   "cell_type": "code",
   "execution_count": null,
   "metadata": {},
   "outputs": [],
   "source": [
    "#посмотрим на разброс цен на чашку капучино\n",
    "coffee['middle_coffee_cup'].describe()"
   ]
  },
  {
   "cell_type": "code",
   "execution_count": null,
   "metadata": {
    "scrolled": true
   },
   "outputs": [],
   "source": [
    "#распределение стоимости чашки капучино по округам\n",
    "coffee_price = (coffee\n",
    "                 .groupby('district', as_index=False)['middle_coffee_cup'].agg('median')\n",
    "                 .round(2)\n",
    "                 .sort_values(by='middle_coffee_cup', ascending=False)\n",
    "                )\n",
    "coffee_price"
   ]
  },
  {
   "cell_type": "code",
   "execution_count": null,
   "metadata": {
    "scrolled": true
   },
   "outputs": [],
   "source": [
    "coffee_price_map = Map(location=[moscow_lat, moscow_lng], zoom_start=10)\n",
    "\n",
    "Choropleth(\n",
    "    geo_data=geomap,\n",
    "    data=coffee_price,\n",
    "    columns=['district', 'middle_coffee_cup'],\n",
    "    key_on='feature.name',\n",
    "    fill_color='YlOrBr',\n",
    "    fill_opacity=0.8,\n",
    "    legend_name='Стоимость чашки капучино',\n",
    ").add_to(coffee_price_map)\n",
    "\n",
    "coffee_price_map"
   ]
  },
  {
   "cell_type": "markdown",
   "metadata": {},
   "source": [
    "Самый дорогой капучино в Юго-Западном округе - 198 руб, в Центральном и Западном округах - по 190 руб. На Востоке Москвы самый дешевый кофе - в среднем 135 руб за чашку. В остальных округах средняя цена колеблется от 150 до 165 руб. При открытии нового заведения, для формирования стоимости чашки кофе, стоит ориентироваться на район, в котором вы открываете заведение."
   ]
  },
  {
   "cell_type": "markdown",
   "metadata": {},
   "source": [
    "**4.5 Узнаем есть ли различия в общем среднем чеке и в среднем чеке на чашку капучино в сетевых/несетевых кофейнях.**"
   ]
  },
  {
   "cell_type": "code",
   "execution_count": null,
   "metadata": {},
   "outputs": [],
   "source": [
    "print('Средний чек в сетевых кофейнях:', coffee.query('chain == 1')['middle_avg_bill'].median())\n",
    "print('Средняя стоимость чашки капучино в сетевых кофейнях:', coffee.query('chain == 1')['middle_coffee_cup'].median())"
   ]
  },
  {
   "cell_type": "code",
   "execution_count": null,
   "metadata": {},
   "outputs": [],
   "source": [
    "print('Средний чек в несетевых кофейнях:', coffee.query('chain == 0')['middle_avg_bill'].median())\n",
    "print('Средняя стоимость чашки капучино в несетевых кофейнях:', coffee.query('chain == 0')['middle_coffee_cup'].median())"
   ]
  },
  {
   "cell_type": "markdown",
   "metadata": {},
   "source": [
    "Средний чек в сетевых кофейнях на 50% выше, чем в несетевых. Средняя стоимость чашки капучино чуть выше в несетевых кофейнях - 170 руб, и  155 руб в сетевых. Скорее всего это связано с тем, что сетевые заведения могут компенсировать стоимость за единицу объемами продаж."
   ]
  },
  {
   "cell_type": "markdown",
   "metadata": {},
   "source": [
    "**4.6 Посмотрим на распределение посадочных мест**"
   ]
  },
  {
   "cell_type": "code",
   "execution_count": null,
   "metadata": {},
   "outputs": [],
   "source": [
    "coffee['seats'].describe()"
   ]
  },
  {
   "cell_type": "code",
   "execution_count": null,
   "metadata": {},
   "outputs": [],
   "source": [
    "coffee.sample()"
   ]
  },
  {
   "cell_type": "code",
   "execution_count": null,
   "metadata": {},
   "outputs": [],
   "source": [
    "plt.figure(figsize=(12, 5))\n",
    "\n",
    "sort_median = (coffee.loc[:,['seats', 'district']]\n",
    "    .groupby(['district'])\n",
    "    .median() \n",
    "    .sort_values(by='seats')\n",
    "          )\n",
    "\n",
    "\n",
    "sns.boxplot(x='seats', y='district', data=coffee.query('seats<600'), order=sort_median.index)\n",
    "plt.xlabel('Количество посадочных мест')\n",
    "plt.ylabel('Округ')\n",
    "plt.xlim()\n",
    "plt.grid()\n",
    "plt.title('Распределение посадочных мест в кофейнях по округам')\n",
    "plt.show()"
   ]
  },
  {
   "cell_type": "code",
   "execution_count": null,
   "metadata": {},
   "outputs": [],
   "source": [
    "#медианное количество мест\n",
    "(\n",
    "    coffee\n",
    ".groupby('district')['seats'].agg('median')\n",
    ".round(2)\n",
    ".sort_values(ascending=False)\n",
    ")"
   ]
  },
  {
   "cell_type": "markdown",
   "metadata": {},
   "source": [
    "В среднем самые большие кофейни в Западном округе - на 96 мест. На Северо-Западе и в Центре практически одинаковое количество мест, 88 и 86 соотвественно. Наиболее скромные кофейни на Востоке и Юго-Востоке - 50-55 мест. Медианным значением по общему числу кофеен можно считать 80 мест."
   ]
  },
  {
   "cell_type": "markdown",
   "metadata": {},
   "source": [
    "**Выводы:**\n",
    "Рекомендации для открытия кофейни:\n",
    "\n",
    "- в месте расположения должна быть хорошая проходимость, транспортная доступность. Подойдут места возле метро, на больших улицах, шоссе, проспектах или в центре города;\n",
    "- кофейню лучше открыть со своей концепцией, чтобы выделяться среди конкурентов;\n",
    "- при открытии кофейни в местах с большой проходимостью и с ключевыми местами столицы, следует увеличить количество посадочных мест, в случае открытия в малолюдных местах, следует акцентировать внимание на эксклюзивность заведения и количество мест может быть ниже среднего.\n",
    "- при ценообразовании лучше ориентироваться на среднюю цену по району.\n",
    "- режим работы лучше выбрать круглосуточный и ежедневный или с 8 утра до 23 вечера;\n",
    "\n",
    "Лучшие районы для открытия:\n",
    "\n",
    "Центр города.\n",
    "- плюсы: высокая проходимость, много туристов, достопримечательностей, ключевых мест, вокзалы, ночные клубы, музеи. Цены можно сделать выше среднего и это будет нормально, так как это самый оживленный район с большим количеством пешеходных улиц и не спит в ночное время, отлично подойдет режим работы 24/7.\n",
    "- минусы: высокая стоимость аренды и огромная конкуренция (в целом большинство кофеен сконцентрировано в центральном округе).\n",
    "\n",
    "Западный округ.\n",
    "- плюсы: в этом округе находятся престижные районы города и соответственно присутствует платежеспособная публика, высокий средний чек в заведениях и низкий рейтинг поможет привлечь большее количество клиентов. Практически отсутствуют круглосуточные кофейни.\n",
    "- минусы: меньше проходимость, чем в центре, престижны районы города также подразумевают высокую стоимость на аренду. Данный округ считаем наиболее перспективным для открытия новой кофейни;\n",
    "\n",
    "Юго-Западный округ.\n",
    "- плюсы: высокая средняя стоимость чашки кофе позволит иметь хорошую маржинальность, один из самых густонаселенных районов города с крупными магистралями, шоссе и улицами. Количество кофеен уже значительно меньше, следовательно меньше конкуренция.\n",
    "- минусы: мало туристов, значимых мест, больше спальных районов."
   ]
  },
  {
   "cell_type": "markdown",
   "metadata": {},
   "source": [
    "ссылка на презентацию: https://disk.yandex.ru/i/m1xOR-Ky5D6PEA"
   ]
  }
 ],
 "metadata": {
  "ExecuteTimeLog": [
   {
    "duration": 387,
    "start_time": "2024-07-28T11:40:47.980Z"
   },
   {
    "duration": 237,
    "start_time": "2024-07-28T11:41:17.743Z"
   },
   {
    "duration": 88,
    "start_time": "2024-07-28T11:41:37.771Z"
   },
   {
    "duration": 15,
    "start_time": "2024-07-28T11:43:45.350Z"
   },
   {
    "duration": 1430,
    "start_time": "2024-07-28T11:46:27.026Z"
   },
   {
    "duration": 82,
    "start_time": "2024-07-28T11:46:28.458Z"
   },
   {
    "duration": 14,
    "start_time": "2024-07-28T11:46:28.551Z"
   },
   {
    "duration": 8,
    "start_time": "2024-07-28T11:57:14.728Z"
   },
   {
    "duration": 57,
    "start_time": "2024-07-28T12:05:44.693Z"
   },
   {
    "duration": 61,
    "start_time": "2024-07-28T12:27:28.830Z"
   },
   {
    "duration": 20,
    "start_time": "2024-07-28T12:28:46.436Z"
   },
   {
    "duration": 11,
    "start_time": "2024-07-28T12:34:47.653Z"
   },
   {
    "duration": 9,
    "start_time": "2024-07-28T12:35:12.751Z"
   },
   {
    "duration": 7,
    "start_time": "2024-07-28T12:35:34.860Z"
   },
   {
    "duration": 14,
    "start_time": "2024-07-28T12:41:40.717Z"
   },
   {
    "duration": 8,
    "start_time": "2024-07-28T12:41:43.346Z"
   },
   {
    "duration": 8,
    "start_time": "2024-07-28T12:43:39.555Z"
   },
   {
    "duration": 9,
    "start_time": "2024-07-28T12:46:08.140Z"
   },
   {
    "duration": 54,
    "start_time": "2024-07-28T12:46:48.746Z"
   },
   {
    "duration": 75,
    "start_time": "2024-07-28T13:09:25.934Z"
   },
   {
    "duration": 22,
    "start_time": "2024-07-28T13:13:21.846Z"
   },
   {
    "duration": 101,
    "start_time": "2024-07-28T13:21:22.609Z"
   },
   {
    "duration": 4,
    "start_time": "2024-07-28T13:21:32.073Z"
   },
   {
    "duration": 53,
    "start_time": "2024-07-30T06:48:40.739Z"
   },
   {
    "duration": 7,
    "start_time": "2024-07-30T06:51:16.538Z"
   },
   {
    "duration": 7,
    "start_time": "2024-07-30T06:51:27.700Z"
   },
   {
    "duration": 1405,
    "start_time": "2024-07-30T06:51:40.427Z"
   },
   {
    "duration": 290,
    "start_time": "2024-07-30T06:51:41.834Z"
   },
   {
    "duration": 15,
    "start_time": "2024-07-30T06:51:42.125Z"
   },
   {
    "duration": 28,
    "start_time": "2024-07-30T06:51:42.142Z"
   },
   {
    "duration": 51,
    "start_time": "2024-07-30T06:51:42.172Z"
   },
   {
    "duration": 39,
    "start_time": "2024-07-30T06:51:42.225Z"
   },
   {
    "duration": 68,
    "start_time": "2024-07-30T06:51:42.266Z"
   },
   {
    "duration": 35,
    "start_time": "2024-07-30T06:51:42.335Z"
   },
   {
    "duration": 55,
    "start_time": "2024-07-30T06:51:42.372Z"
   },
   {
    "duration": 44,
    "start_time": "2024-07-30T06:51:42.429Z"
   },
   {
    "duration": 63,
    "start_time": "2024-07-30T06:51:42.474Z"
   },
   {
    "duration": 72,
    "start_time": "2024-07-30T06:51:42.538Z"
   },
   {
    "duration": 4,
    "start_time": "2024-07-30T06:51:42.612Z"
   },
   {
    "duration": 74,
    "start_time": "2024-07-30T06:51:42.617Z"
   },
   {
    "duration": 15,
    "start_time": "2024-07-30T06:52:52.618Z"
   },
   {
    "duration": 5,
    "start_time": "2024-07-30T07:07:10.270Z"
   },
   {
    "duration": 15,
    "start_time": "2024-07-30T07:08:19.618Z"
   },
   {
    "duration": 6,
    "start_time": "2024-07-30T08:34:39.411Z"
   },
   {
    "duration": 1426,
    "start_time": "2024-07-30T11:44:06.993Z"
   },
   {
    "duration": 228,
    "start_time": "2024-07-30T11:44:08.423Z"
   },
   {
    "duration": 13,
    "start_time": "2024-07-30T11:44:08.652Z"
   },
   {
    "duration": 17,
    "start_time": "2024-07-30T11:44:08.667Z"
   },
   {
    "duration": 15,
    "start_time": "2024-07-30T11:44:08.686Z"
   },
   {
    "duration": 11,
    "start_time": "2024-07-30T11:44:08.703Z"
   },
   {
    "duration": 11,
    "start_time": "2024-07-30T11:44:08.715Z"
   },
   {
    "duration": 10,
    "start_time": "2024-07-30T11:44:08.728Z"
   },
   {
    "duration": 11,
    "start_time": "2024-07-30T11:44:08.740Z"
   },
   {
    "duration": 12,
    "start_time": "2024-07-30T11:44:08.753Z"
   },
   {
    "duration": 8,
    "start_time": "2024-07-30T11:44:08.766Z"
   },
   {
    "duration": 70,
    "start_time": "2024-07-30T11:44:08.775Z"
   },
   {
    "duration": 62,
    "start_time": "2024-07-30T11:44:08.846Z"
   },
   {
    "duration": 14,
    "start_time": "2024-07-30T11:44:08.910Z"
   },
   {
    "duration": 60,
    "start_time": "2024-07-30T11:44:08.926Z"
   },
   {
    "duration": 13,
    "start_time": "2024-07-30T11:44:08.988Z"
   },
   {
    "duration": 11,
    "start_time": "2024-07-30T13:34:46.881Z"
   },
   {
    "duration": 44,
    "start_time": "2024-07-31T05:29:15.736Z"
   },
   {
    "duration": 1260,
    "start_time": "2024-07-31T05:29:35.034Z"
   },
   {
    "duration": 272,
    "start_time": "2024-07-31T05:29:36.296Z"
   },
   {
    "duration": 13,
    "start_time": "2024-07-31T05:29:36.570Z"
   },
   {
    "duration": 16,
    "start_time": "2024-07-31T05:29:36.584Z"
   },
   {
    "duration": 13,
    "start_time": "2024-07-31T05:29:36.602Z"
   },
   {
    "duration": 11,
    "start_time": "2024-07-31T05:29:36.616Z"
   },
   {
    "duration": 4,
    "start_time": "2024-07-31T05:29:36.628Z"
   },
   {
    "duration": 8,
    "start_time": "2024-07-31T05:29:36.633Z"
   },
   {
    "duration": 6,
    "start_time": "2024-07-31T05:29:36.642Z"
   },
   {
    "duration": 37,
    "start_time": "2024-07-31T05:29:36.649Z"
   },
   {
    "duration": 8,
    "start_time": "2024-07-31T05:29:36.687Z"
   },
   {
    "duration": 49,
    "start_time": "2024-07-31T05:29:36.696Z"
   },
   {
    "duration": 75,
    "start_time": "2024-07-31T05:29:36.746Z"
   },
   {
    "duration": 4,
    "start_time": "2024-07-31T05:29:36.823Z"
   },
   {
    "duration": 67,
    "start_time": "2024-07-31T05:29:36.828Z"
   },
   {
    "duration": 13,
    "start_time": "2024-07-31T05:29:36.896Z"
   },
   {
    "duration": 11,
    "start_time": "2024-07-31T05:29:36.910Z"
   },
   {
    "duration": 108,
    "start_time": "2024-07-31T05:29:36.922Z"
   },
   {
    "duration": 169,
    "start_time": "2024-07-31T05:30:08.798Z"
   },
   {
    "duration": 153,
    "start_time": "2024-07-31T05:31:17.900Z"
   },
   {
    "duration": 142,
    "start_time": "2024-07-31T05:31:31.433Z"
   },
   {
    "duration": 4,
    "start_time": "2024-07-31T05:49:02.709Z"
   },
   {
    "duration": 1171,
    "start_time": "2024-07-31T05:49:17.311Z"
   },
   {
    "duration": 80,
    "start_time": "2024-07-31T05:49:18.483Z"
   },
   {
    "duration": 15,
    "start_time": "2024-07-31T05:49:18.564Z"
   },
   {
    "duration": 12,
    "start_time": "2024-07-31T05:49:18.581Z"
   },
   {
    "duration": 19,
    "start_time": "2024-07-31T05:49:18.595Z"
   },
   {
    "duration": 11,
    "start_time": "2024-07-31T05:49:18.616Z"
   },
   {
    "duration": 5,
    "start_time": "2024-07-31T05:49:18.629Z"
   },
   {
    "duration": 9,
    "start_time": "2024-07-31T05:49:18.635Z"
   },
   {
    "duration": 8,
    "start_time": "2024-07-31T05:49:18.646Z"
   },
   {
    "duration": 39,
    "start_time": "2024-07-31T05:49:18.655Z"
   },
   {
    "duration": 10,
    "start_time": "2024-07-31T05:49:18.696Z"
   },
   {
    "duration": 60,
    "start_time": "2024-07-31T05:49:18.707Z"
   },
   {
    "duration": 69,
    "start_time": "2024-07-31T05:49:18.769Z"
   },
   {
    "duration": 4,
    "start_time": "2024-07-31T05:49:18.841Z"
   },
   {
    "duration": 55,
    "start_time": "2024-07-31T05:49:20.133Z"
   },
   {
    "duration": 14,
    "start_time": "2024-07-31T05:49:20.190Z"
   },
   {
    "duration": 23,
    "start_time": "2024-07-31T05:49:20.205Z"
   },
   {
    "duration": 176,
    "start_time": "2024-07-31T05:49:20.230Z"
   },
   {
    "duration": 13,
    "start_time": "2024-07-31T05:49:20.407Z"
   },
   {
    "duration": 5,
    "start_time": "2024-07-31T05:51:48.810Z"
   },
   {
    "duration": 143,
    "start_time": "2024-07-31T05:51:58.885Z"
   },
   {
    "duration": 1148,
    "start_time": "2024-07-31T06:09:09.523Z"
   },
   {
    "duration": 83,
    "start_time": "2024-07-31T06:09:10.673Z"
   },
   {
    "duration": 13,
    "start_time": "2024-07-31T06:09:10.757Z"
   },
   {
    "duration": 5,
    "start_time": "2024-07-31T06:09:10.771Z"
   },
   {
    "duration": 13,
    "start_time": "2024-07-31T06:09:10.778Z"
   },
   {
    "duration": 10,
    "start_time": "2024-07-31T06:09:10.793Z"
   },
   {
    "duration": 16,
    "start_time": "2024-07-31T06:09:10.804Z"
   },
   {
    "duration": 8,
    "start_time": "2024-07-31T06:09:10.821Z"
   },
   {
    "duration": 17,
    "start_time": "2024-07-31T06:09:10.830Z"
   },
   {
    "duration": 22,
    "start_time": "2024-07-31T06:09:10.849Z"
   },
   {
    "duration": 7,
    "start_time": "2024-07-31T06:09:10.872Z"
   },
   {
    "duration": 52,
    "start_time": "2024-07-31T06:09:10.880Z"
   },
   {
    "duration": 62,
    "start_time": "2024-07-31T06:09:10.933Z"
   },
   {
    "duration": 4,
    "start_time": "2024-07-31T06:09:10.996Z"
   },
   {
    "duration": 58,
    "start_time": "2024-07-31T06:09:11.001Z"
   },
   {
    "duration": 22,
    "start_time": "2024-07-31T06:09:11.061Z"
   },
   {
    "duration": 11,
    "start_time": "2024-07-31T06:09:11.084Z"
   },
   {
    "duration": 157,
    "start_time": "2024-07-31T06:09:11.096Z"
   },
   {
    "duration": 236,
    "start_time": "2024-07-31T06:58:52.878Z"
   },
   {
    "duration": 1149,
    "start_time": "2024-07-31T07:21:38.269Z"
   },
   {
    "duration": 12,
    "start_time": "2024-07-31T07:22:06.932Z"
   },
   {
    "duration": 15,
    "start_time": "2024-07-31T07:29:15.027Z"
   },
   {
    "duration": 266,
    "start_time": "2024-07-31T07:31:37.598Z"
   },
   {
    "duration": 12,
    "start_time": "2024-07-31T07:32:22.826Z"
   },
   {
    "duration": 51,
    "start_time": "2024-08-01T06:02:11.786Z"
   },
   {
    "duration": 1444,
    "start_time": "2024-08-01T06:03:39.389Z"
   },
   {
    "duration": 228,
    "start_time": "2024-08-01T06:03:40.836Z"
   },
   {
    "duration": 16,
    "start_time": "2024-08-01T06:03:41.065Z"
   },
   {
    "duration": 6,
    "start_time": "2024-08-01T06:03:41.083Z"
   },
   {
    "duration": 17,
    "start_time": "2024-08-01T06:03:41.090Z"
   },
   {
    "duration": 38,
    "start_time": "2024-08-01T06:03:41.109Z"
   },
   {
    "duration": 5,
    "start_time": "2024-08-01T06:03:41.148Z"
   },
   {
    "duration": 10,
    "start_time": "2024-08-01T06:03:41.154Z"
   },
   {
    "duration": 7,
    "start_time": "2024-08-01T06:03:41.166Z"
   },
   {
    "duration": 14,
    "start_time": "2024-08-01T06:03:41.175Z"
   },
   {
    "duration": 11,
    "start_time": "2024-08-01T06:03:41.190Z"
   },
   {
    "duration": 99,
    "start_time": "2024-08-01T06:03:41.202Z"
   },
   {
    "duration": 72,
    "start_time": "2024-08-01T06:03:41.302Z"
   },
   {
    "duration": 4,
    "start_time": "2024-08-01T06:03:41.376Z"
   },
   {
    "duration": 75,
    "start_time": "2024-08-01T06:03:41.381Z"
   },
   {
    "duration": 15,
    "start_time": "2024-08-01T06:03:41.457Z"
   },
   {
    "duration": 12,
    "start_time": "2024-08-01T06:03:41.473Z"
   },
   {
    "duration": 199,
    "start_time": "2024-08-01T06:03:41.487Z"
   },
   {
    "duration": 275,
    "start_time": "2024-08-01T06:03:41.688Z"
   },
   {
    "duration": 114,
    "start_time": "2024-08-01T06:03:41.965Z"
   },
   {
    "duration": 0,
    "start_time": "2024-08-01T06:03:42.081Z"
   },
   {
    "duration": 9,
    "start_time": "2024-08-01T06:04:06.089Z"
   },
   {
    "duration": 9,
    "start_time": "2024-08-01T06:04:15.989Z"
   },
   {
    "duration": 19,
    "start_time": "2024-08-01T06:04:25.251Z"
   },
   {
    "duration": 209,
    "start_time": "2024-08-01T06:11:52.537Z"
   },
   {
    "duration": 16,
    "start_time": "2024-08-01T06:14:55.243Z"
   },
   {
    "duration": 15,
    "start_time": "2024-08-01T06:15:15.267Z"
   },
   {
    "duration": 15,
    "start_time": "2024-08-01T06:15:50.361Z"
   },
   {
    "duration": 21,
    "start_time": "2024-08-01T07:22:27.726Z"
   },
   {
    "duration": 9,
    "start_time": "2024-08-01T07:22:51.215Z"
   },
   {
    "duration": 12,
    "start_time": "2024-08-01T07:23:05.272Z"
   },
   {
    "duration": 15,
    "start_time": "2024-08-01T07:23:20.303Z"
   },
   {
    "duration": 196,
    "start_time": "2024-08-01T07:26:54.717Z"
   },
   {
    "duration": 17,
    "start_time": "2024-08-01T07:29:48.554Z"
   },
   {
    "duration": 16,
    "start_time": "2024-08-01T07:31:43.254Z"
   },
   {
    "duration": 10,
    "start_time": "2024-08-01T07:31:59.822Z"
   },
   {
    "duration": 13,
    "start_time": "2024-08-01T07:34:27.842Z"
   },
   {
    "duration": 12,
    "start_time": "2024-08-01T07:34:31.239Z"
   },
   {
    "duration": 27,
    "start_time": "2024-08-01T07:36:02.428Z"
   },
   {
    "duration": 19,
    "start_time": "2024-08-01T07:37:50.391Z"
   },
   {
    "duration": 120,
    "start_time": "2024-08-01T07:38:46.403Z"
   },
   {
    "duration": 911,
    "start_time": "2024-08-01T07:44:07.995Z"
   },
   {
    "duration": 36,
    "start_time": "2024-08-01T07:44:21.252Z"
   },
   {
    "duration": 23,
    "start_time": "2024-08-01T07:45:07.913Z"
   },
   {
    "duration": 26,
    "start_time": "2024-08-01T07:46:09.410Z"
   },
   {
    "duration": 35,
    "start_time": "2024-08-01T07:46:25.467Z"
   },
   {
    "duration": 239,
    "start_time": "2024-08-01T07:46:57.790Z"
   },
   {
    "duration": 25,
    "start_time": "2024-08-01T07:47:14.746Z"
   },
   {
    "duration": 27,
    "start_time": "2024-08-01T07:49:16.355Z"
   },
   {
    "duration": 18,
    "start_time": "2024-08-01T07:56:54.375Z"
   },
   {
    "duration": 14,
    "start_time": "2024-08-01T07:57:42.164Z"
   },
   {
    "duration": 2,
    "start_time": "2024-08-01T08:51:22.270Z"
   },
   {
    "duration": 110,
    "start_time": "2024-08-01T08:51:22.277Z"
   },
   {
    "duration": 14,
    "start_time": "2024-08-01T08:51:22.389Z"
   },
   {
    "duration": 28,
    "start_time": "2024-08-01T08:51:22.405Z"
   },
   {
    "duration": 24,
    "start_time": "2024-08-01T08:51:22.435Z"
   },
   {
    "duration": 11,
    "start_time": "2024-08-01T08:51:22.461Z"
   },
   {
    "duration": 73,
    "start_time": "2024-08-01T08:51:22.473Z"
   },
   {
    "duration": 20,
    "start_time": "2024-08-01T08:51:22.547Z"
   },
   {
    "duration": 18,
    "start_time": "2024-08-01T08:51:22.569Z"
   },
   {
    "duration": 15,
    "start_time": "2024-08-01T08:51:22.590Z"
   },
   {
    "duration": 18,
    "start_time": "2024-08-01T08:51:22.607Z"
   },
   {
    "duration": 108,
    "start_time": "2024-08-01T08:51:22.627Z"
   },
   {
    "duration": 70,
    "start_time": "2024-08-01T08:51:22.736Z"
   },
   {
    "duration": 4,
    "start_time": "2024-08-01T08:51:22.808Z"
   },
   {
    "duration": 73,
    "start_time": "2024-08-01T08:51:22.813Z"
   },
   {
    "duration": 16,
    "start_time": "2024-08-01T08:51:22.888Z"
   },
   {
    "duration": 29,
    "start_time": "2024-08-01T08:51:22.905Z"
   },
   {
    "duration": 176,
    "start_time": "2024-08-01T08:51:22.936Z"
   },
   {
    "duration": 291,
    "start_time": "2024-08-01T08:51:23.114Z"
   },
   {
    "duration": 8,
    "start_time": "2024-08-01T08:51:23.407Z"
   },
   {
    "duration": 35,
    "start_time": "2024-08-01T08:51:23.417Z"
   },
   {
    "duration": 187,
    "start_time": "2024-08-01T08:51:23.454Z"
   },
   {
    "duration": 9,
    "start_time": "2024-08-01T08:51:23.646Z"
   },
   {
    "duration": 38,
    "start_time": "2024-08-01T08:51:23.656Z"
   },
   {
    "duration": 45,
    "start_time": "2024-08-01T08:51:23.696Z"
   },
   {
    "duration": 16,
    "start_time": "2024-08-01T08:51:23.743Z"
   },
   {
    "duration": 129,
    "start_time": "2024-08-01T09:38:57.504Z"
   },
   {
    "duration": 11,
    "start_time": "2024-08-01T09:39:04.774Z"
   },
   {
    "duration": 64,
    "start_time": "2024-08-01T09:57:01.833Z"
   },
   {
    "duration": 53,
    "start_time": "2024-08-01T09:57:23.190Z"
   },
   {
    "duration": 51,
    "start_time": "2024-08-01T10:06:19.600Z"
   },
   {
    "duration": 26,
    "start_time": "2024-08-01T10:06:46.980Z"
   },
   {
    "duration": 25,
    "start_time": "2024-08-01T10:10:50.520Z"
   },
   {
    "duration": 24,
    "start_time": "2024-08-01T10:13:07.685Z"
   },
   {
    "duration": 24,
    "start_time": "2024-08-01T10:14:03.572Z"
   },
   {
    "duration": 10,
    "start_time": "2024-08-01T10:46:07.047Z"
   },
   {
    "duration": 70,
    "start_time": "2024-08-01T10:46:35.199Z"
   },
   {
    "duration": 1278,
    "start_time": "2024-08-01T10:47:10.691Z"
   },
   {
    "duration": 86,
    "start_time": "2024-08-01T10:47:11.970Z"
   },
   {
    "duration": 14,
    "start_time": "2024-08-01T10:47:12.057Z"
   },
   {
    "duration": 7,
    "start_time": "2024-08-01T10:47:12.073Z"
   },
   {
    "duration": 17,
    "start_time": "2024-08-01T10:47:12.081Z"
   },
   {
    "duration": 11,
    "start_time": "2024-08-01T10:47:12.100Z"
   },
   {
    "duration": 11,
    "start_time": "2024-08-01T10:47:12.112Z"
   },
   {
    "duration": 15,
    "start_time": "2024-08-01T10:47:12.147Z"
   },
   {
    "duration": 13,
    "start_time": "2024-08-01T10:47:12.164Z"
   },
   {
    "duration": 17,
    "start_time": "2024-08-01T10:47:12.180Z"
   },
   {
    "duration": 14,
    "start_time": "2024-08-01T10:47:12.199Z"
   },
   {
    "duration": 73,
    "start_time": "2024-08-01T10:47:12.214Z"
   },
   {
    "duration": 68,
    "start_time": "2024-08-01T10:47:12.289Z"
   },
   {
    "duration": 4,
    "start_time": "2024-08-01T10:47:12.358Z"
   },
   {
    "duration": 69,
    "start_time": "2024-08-01T10:47:12.364Z"
   },
   {
    "duration": 24,
    "start_time": "2024-08-01T10:47:12.434Z"
   },
   {
    "duration": 206,
    "start_time": "2024-08-01T10:47:12.460Z"
   },
   {
    "duration": 236,
    "start_time": "2024-08-01T10:47:12.667Z"
   },
   {
    "duration": 296,
    "start_time": "2024-08-01T10:47:12.904Z"
   },
   {
    "duration": 9,
    "start_time": "2024-08-01T10:47:13.202Z"
   },
   {
    "duration": 17,
    "start_time": "2024-08-01T10:47:13.213Z"
   },
   {
    "duration": 183,
    "start_time": "2024-08-01T10:47:13.247Z"
   },
   {
    "duration": 19,
    "start_time": "2024-08-01T10:47:13.432Z"
   },
   {
    "duration": 167,
    "start_time": "2024-08-01T10:47:13.453Z"
   },
   {
    "duration": 35,
    "start_time": "2024-08-01T10:47:13.622Z"
   },
   {
    "duration": 178,
    "start_time": "2024-08-01T10:47:13.658Z"
   },
   {
    "duration": 19,
    "start_time": "2024-08-01T10:47:13.838Z"
   },
   {
    "duration": 27,
    "start_time": "2024-08-01T10:47:13.860Z"
   },
   {
    "duration": 303,
    "start_time": "2024-08-01T10:47:13.889Z"
   },
   {
    "duration": 72,
    "start_time": "2024-08-01T10:51:43.492Z"
   },
   {
    "duration": 65,
    "start_time": "2024-08-01T10:56:55.086Z"
   },
   {
    "duration": 67,
    "start_time": "2024-08-01T10:57:05.967Z"
   },
   {
    "duration": 77,
    "start_time": "2024-08-01T10:58:26.753Z"
   },
   {
    "duration": 10,
    "start_time": "2024-08-01T11:14:06.529Z"
   },
   {
    "duration": 37,
    "start_time": "2024-08-01T12:31:29.073Z"
   },
   {
    "duration": 184,
    "start_time": "2024-08-01T12:32:01.781Z"
   },
   {
    "duration": 21,
    "start_time": "2024-08-01T12:32:24.253Z"
   },
   {
    "duration": 24,
    "start_time": "2024-08-01T12:36:07.725Z"
   },
   {
    "duration": 94,
    "start_time": "2024-08-01T12:38:10.785Z"
   },
   {
    "duration": 1341,
    "start_time": "2024-08-01T12:38:50.147Z"
   },
   {
    "duration": 90,
    "start_time": "2024-08-01T12:38:51.490Z"
   },
   {
    "duration": 16,
    "start_time": "2024-08-01T12:38:51.582Z"
   },
   {
    "duration": 9,
    "start_time": "2024-08-01T12:38:51.600Z"
   },
   {
    "duration": 26,
    "start_time": "2024-08-01T12:38:51.612Z"
   },
   {
    "duration": 14,
    "start_time": "2024-08-01T12:38:51.646Z"
   },
   {
    "duration": 39,
    "start_time": "2024-08-01T12:38:51.662Z"
   },
   {
    "duration": 15,
    "start_time": "2024-08-01T12:38:51.703Z"
   },
   {
    "duration": 7,
    "start_time": "2024-08-01T12:38:51.720Z"
   },
   {
    "duration": 15,
    "start_time": "2024-08-01T12:38:51.729Z"
   },
   {
    "duration": 10,
    "start_time": "2024-08-01T12:38:51.746Z"
   },
   {
    "duration": 63,
    "start_time": "2024-08-01T12:38:51.758Z"
   },
   {
    "duration": 75,
    "start_time": "2024-08-01T12:38:51.823Z"
   },
   {
    "duration": 4,
    "start_time": "2024-08-01T12:38:51.902Z"
   },
   {
    "duration": 127,
    "start_time": "2024-08-01T12:38:51.907Z"
   },
   {
    "duration": 16,
    "start_time": "2024-08-01T12:38:52.035Z"
   },
   {
    "duration": 10,
    "start_time": "2024-08-01T12:38:52.053Z"
   },
   {
    "duration": 204,
    "start_time": "2024-08-01T12:38:52.065Z"
   },
   {
    "duration": 296,
    "start_time": "2024-08-01T12:38:52.270Z"
   },
   {
    "duration": 12,
    "start_time": "2024-08-01T12:38:52.568Z"
   },
   {
    "duration": 32,
    "start_time": "2024-08-01T12:38:52.582Z"
   },
   {
    "duration": 201,
    "start_time": "2024-08-01T12:38:52.615Z"
   },
   {
    "duration": 9,
    "start_time": "2024-08-01T12:38:52.817Z"
   },
   {
    "duration": 193,
    "start_time": "2024-08-01T12:38:52.827Z"
   },
   {
    "duration": 29,
    "start_time": "2024-08-01T12:38:53.022Z"
   },
   {
    "duration": 25,
    "start_time": "2024-08-01T12:38:53.052Z"
   },
   {
    "duration": 8,
    "start_time": "2024-08-01T12:38:53.079Z"
   },
   {
    "duration": 80,
    "start_time": "2024-08-01T12:38:53.089Z"
   },
   {
    "duration": 342,
    "start_time": "2024-08-01T12:38:53.171Z"
   },
   {
    "duration": 7,
    "start_time": "2024-08-01T12:38:53.514Z"
   },
   {
    "duration": 42,
    "start_time": "2024-08-01T12:38:53.523Z"
   },
   {
    "duration": 89,
    "start_time": "2024-08-01T12:38:53.567Z"
   },
   {
    "duration": 84,
    "start_time": "2024-08-01T12:39:42.860Z"
   },
   {
    "duration": 85,
    "start_time": "2024-08-01T12:42:30.082Z"
   },
   {
    "duration": 167,
    "start_time": "2024-08-01T13:18:15.611Z"
   },
   {
    "duration": 13,
    "start_time": "2024-08-01T13:18:31.509Z"
   },
   {
    "duration": 206,
    "start_time": "2024-08-01T13:30:33.466Z"
   },
   {
    "duration": 194,
    "start_time": "2024-08-01T13:30:53.029Z"
   },
   {
    "duration": 216,
    "start_time": "2024-08-01T13:31:48.568Z"
   },
   {
    "duration": 176,
    "start_time": "2024-08-01T13:31:54.228Z"
   },
   {
    "duration": 395,
    "start_time": "2024-08-01T13:36:36.341Z"
   },
   {
    "duration": 1509,
    "start_time": "2024-08-02T07:14:43.742Z"
   },
   {
    "duration": 237,
    "start_time": "2024-08-02T07:14:45.253Z"
   },
   {
    "duration": 15,
    "start_time": "2024-08-02T07:14:45.492Z"
   },
   {
    "duration": 43,
    "start_time": "2024-08-02T07:14:45.509Z"
   },
   {
    "duration": 25,
    "start_time": "2024-08-02T07:14:45.555Z"
   },
   {
    "duration": 34,
    "start_time": "2024-08-02T07:14:45.582Z"
   },
   {
    "duration": 21,
    "start_time": "2024-08-02T07:14:45.618Z"
   },
   {
    "duration": 10,
    "start_time": "2024-08-02T07:14:45.641Z"
   },
   {
    "duration": 9,
    "start_time": "2024-08-02T07:14:45.653Z"
   },
   {
    "duration": 20,
    "start_time": "2024-08-02T07:14:45.664Z"
   },
   {
    "duration": 24,
    "start_time": "2024-08-02T07:14:45.686Z"
   },
   {
    "duration": 56,
    "start_time": "2024-08-02T07:14:45.712Z"
   },
   {
    "duration": 80,
    "start_time": "2024-08-02T07:14:45.770Z"
   },
   {
    "duration": 4,
    "start_time": "2024-08-02T07:14:45.853Z"
   },
   {
    "duration": 82,
    "start_time": "2024-08-02T07:14:45.858Z"
   },
   {
    "duration": 17,
    "start_time": "2024-08-02T07:14:45.942Z"
   },
   {
    "duration": 21,
    "start_time": "2024-08-02T07:14:45.961Z"
   },
   {
    "duration": 212,
    "start_time": "2024-08-02T07:14:45.984Z"
   },
   {
    "duration": 308,
    "start_time": "2024-08-02T07:14:46.198Z"
   },
   {
    "duration": 9,
    "start_time": "2024-08-02T07:14:46.509Z"
   },
   {
    "duration": 18,
    "start_time": "2024-08-02T07:14:46.520Z"
   },
   {
    "duration": 195,
    "start_time": "2024-08-02T07:14:46.540Z"
   },
   {
    "duration": 8,
    "start_time": "2024-08-02T07:14:46.737Z"
   },
   {
    "duration": 157,
    "start_time": "2024-08-02T07:14:46.747Z"
   },
   {
    "duration": 25,
    "start_time": "2024-08-02T07:14:46.906Z"
   },
   {
    "duration": 93,
    "start_time": "2024-08-02T07:14:46.933Z"
   },
   {
    "duration": 9,
    "start_time": "2024-08-02T07:14:47.027Z"
   },
   {
    "duration": 24,
    "start_time": "2024-08-02T07:14:47.038Z"
   },
   {
    "duration": 346,
    "start_time": "2024-08-02T07:14:47.063Z"
   },
   {
    "duration": 6,
    "start_time": "2024-08-02T07:14:47.411Z"
   },
   {
    "duration": 33,
    "start_time": "2024-08-02T07:14:47.418Z"
   },
   {
    "duration": 94,
    "start_time": "2024-08-02T07:14:47.453Z"
   },
   {
    "duration": 166,
    "start_time": "2024-08-02T07:14:47.548Z"
   },
   {
    "duration": 0,
    "start_time": "2024-08-02T07:14:47.716Z"
   },
   {
    "duration": 0,
    "start_time": "2024-08-02T07:14:47.717Z"
   },
   {
    "duration": 0,
    "start_time": "2024-08-02T07:14:47.719Z"
   },
   {
    "duration": 81,
    "start_time": "2024-08-02T07:17:14.666Z"
   },
   {
    "duration": 1553,
    "start_time": "2024-08-02T07:17:58.390Z"
   },
   {
    "duration": 85,
    "start_time": "2024-08-02T07:17:59.945Z"
   },
   {
    "duration": 15,
    "start_time": "2024-08-02T07:18:00.031Z"
   },
   {
    "duration": 32,
    "start_time": "2024-08-02T07:18:00.048Z"
   },
   {
    "duration": 35,
    "start_time": "2024-08-02T07:18:00.082Z"
   },
   {
    "duration": 52,
    "start_time": "2024-08-02T07:18:00.118Z"
   },
   {
    "duration": 38,
    "start_time": "2024-08-02T07:18:00.172Z"
   },
   {
    "duration": 96,
    "start_time": "2024-08-02T07:18:00.211Z"
   },
   {
    "duration": 62,
    "start_time": "2024-08-02T07:18:00.308Z"
   },
   {
    "duration": 138,
    "start_time": "2024-08-02T07:18:00.372Z"
   },
   {
    "duration": 75,
    "start_time": "2024-08-02T07:18:00.512Z"
   },
   {
    "duration": 88,
    "start_time": "2024-08-02T07:18:00.589Z"
   },
   {
    "duration": 72,
    "start_time": "2024-08-02T07:18:00.679Z"
   },
   {
    "duration": 3,
    "start_time": "2024-08-02T07:18:00.755Z"
   },
   {
    "duration": 109,
    "start_time": "2024-08-02T07:18:00.760Z"
   },
   {
    "duration": 64,
    "start_time": "2024-08-02T07:18:00.872Z"
   },
   {
    "duration": 53,
    "start_time": "2024-08-02T07:18:00.939Z"
   },
   {
    "duration": 187,
    "start_time": "2024-08-02T07:18:00.994Z"
   },
   {
    "duration": 270,
    "start_time": "2024-08-02T07:18:01.183Z"
   },
   {
    "duration": 9,
    "start_time": "2024-08-02T07:18:01.455Z"
   },
   {
    "duration": 262,
    "start_time": "2024-08-02T07:18:01.466Z"
   },
   {
    "duration": 335,
    "start_time": "2024-08-02T07:18:01.730Z"
   },
   {
    "duration": 56,
    "start_time": "2024-08-02T07:18:02.066Z"
   },
   {
    "duration": 185,
    "start_time": "2024-08-02T07:18:02.123Z"
   },
   {
    "duration": 26,
    "start_time": "2024-08-02T07:18:02.310Z"
   },
   {
    "duration": 83,
    "start_time": "2024-08-02T07:18:02.338Z"
   },
   {
    "duration": 8,
    "start_time": "2024-08-02T07:18:02.423Z"
   },
   {
    "duration": 76,
    "start_time": "2024-08-02T07:18:02.433Z"
   },
   {
    "duration": 242,
    "start_time": "2024-08-02T07:18:02.511Z"
   },
   {
    "duration": 7,
    "start_time": "2024-08-02T07:18:02.754Z"
   },
   {
    "duration": 43,
    "start_time": "2024-08-02T07:18:02.762Z"
   },
   {
    "duration": 96,
    "start_time": "2024-08-02T07:18:02.807Z"
   },
   {
    "duration": 188,
    "start_time": "2024-08-02T07:18:02.905Z"
   },
   {
    "duration": 0,
    "start_time": "2024-08-02T07:18:03.094Z"
   },
   {
    "duration": 0,
    "start_time": "2024-08-02T07:18:03.095Z"
   },
   {
    "duration": 0,
    "start_time": "2024-08-02T07:18:03.096Z"
   },
   {
    "duration": 0,
    "start_time": "2024-08-02T07:18:03.097Z"
   },
   {
    "duration": 3,
    "start_time": "2024-08-02T07:19:36.441Z"
   },
   {
    "duration": 4,
    "start_time": "2024-08-02T07:19:48.382Z"
   },
   {
    "duration": 2,
    "start_time": "2024-08-02T07:20:00.455Z"
   },
   {
    "duration": 41,
    "start_time": "2024-08-02T07:22:24.854Z"
   },
   {
    "duration": 2,
    "start_time": "2024-08-02T07:22:27.132Z"
   },
   {
    "duration": 3,
    "start_time": "2024-08-02T07:22:29.014Z"
   },
   {
    "duration": 5,
    "start_time": "2024-08-02T07:22:31.561Z"
   },
   {
    "duration": 12,
    "start_time": "2024-08-02T07:22:35.321Z"
   },
   {
    "duration": 17,
    "start_time": "2024-08-02T07:23:13.264Z"
   },
   {
    "duration": 143,
    "start_time": "2024-08-02T07:23:26.320Z"
   },
   {
    "duration": 94,
    "start_time": "2024-08-02T07:23:29.375Z"
   },
   {
    "duration": 1493,
    "start_time": "2024-08-02T07:26:56.947Z"
   },
   {
    "duration": 84,
    "start_time": "2024-08-02T07:26:58.442Z"
   },
   {
    "duration": 15,
    "start_time": "2024-08-02T07:26:58.528Z"
   },
   {
    "duration": 13,
    "start_time": "2024-08-02T07:26:58.544Z"
   },
   {
    "duration": 16,
    "start_time": "2024-08-02T07:26:58.559Z"
   },
   {
    "duration": 30,
    "start_time": "2024-08-02T07:26:58.576Z"
   },
   {
    "duration": 5,
    "start_time": "2024-08-02T07:26:58.608Z"
   },
   {
    "duration": 21,
    "start_time": "2024-08-02T07:26:58.614Z"
   },
   {
    "duration": 9,
    "start_time": "2024-08-02T07:26:58.636Z"
   },
   {
    "duration": 14,
    "start_time": "2024-08-02T07:26:58.647Z"
   },
   {
    "duration": 14,
    "start_time": "2024-08-02T07:26:58.662Z"
   },
   {
    "duration": 50,
    "start_time": "2024-08-02T07:26:58.678Z"
   },
   {
    "duration": 76,
    "start_time": "2024-08-02T07:26:58.729Z"
   },
   {
    "duration": 4,
    "start_time": "2024-08-02T07:26:58.809Z"
   },
   {
    "duration": 89,
    "start_time": "2024-08-02T07:26:58.815Z"
   },
   {
    "duration": 16,
    "start_time": "2024-08-02T07:26:58.906Z"
   },
   {
    "duration": 45,
    "start_time": "2024-08-02T07:26:58.924Z"
   },
   {
    "duration": 194,
    "start_time": "2024-08-02T07:26:58.971Z"
   },
   {
    "duration": 278,
    "start_time": "2024-08-02T07:26:59.166Z"
   },
   {
    "duration": 9,
    "start_time": "2024-08-02T07:26:59.446Z"
   },
   {
    "duration": 14,
    "start_time": "2024-08-02T07:26:59.457Z"
   },
   {
    "duration": 282,
    "start_time": "2024-08-02T07:26:59.473Z"
   },
   {
    "duration": 9,
    "start_time": "2024-08-02T07:26:59.756Z"
   },
   {
    "duration": 169,
    "start_time": "2024-08-02T07:26:59.766Z"
   },
   {
    "duration": 27,
    "start_time": "2024-08-02T07:26:59.937Z"
   },
   {
    "duration": 65,
    "start_time": "2024-08-02T07:26:59.966Z"
   },
   {
    "duration": 74,
    "start_time": "2024-08-02T07:27:00.033Z"
   },
   {
    "duration": 50,
    "start_time": "2024-08-02T07:27:00.108Z"
   },
   {
    "duration": 285,
    "start_time": "2024-08-02T07:27:00.160Z"
   },
   {
    "duration": 6,
    "start_time": "2024-08-02T07:27:00.447Z"
   },
   {
    "duration": 111,
    "start_time": "2024-08-02T07:27:00.455Z"
   },
   {
    "duration": 127,
    "start_time": "2024-08-02T07:27:00.569Z"
   },
   {
    "duration": 180,
    "start_time": "2024-08-02T07:27:00.698Z"
   },
   {
    "duration": 0,
    "start_time": "2024-08-02T07:27:00.880Z"
   },
   {
    "duration": 0,
    "start_time": "2024-08-02T07:27:00.881Z"
   },
   {
    "duration": 0,
    "start_time": "2024-08-02T07:27:00.882Z"
   },
   {
    "duration": 0,
    "start_time": "2024-08-02T07:27:00.883Z"
   },
   {
    "duration": 0,
    "start_time": "2024-08-02T07:27:00.885Z"
   },
   {
    "duration": 0,
    "start_time": "2024-08-02T07:27:00.886Z"
   },
   {
    "duration": 0,
    "start_time": "2024-08-02T07:27:00.887Z"
   },
   {
    "duration": 0,
    "start_time": "2024-08-02T07:27:00.888Z"
   },
   {
    "duration": 0,
    "start_time": "2024-08-02T07:27:00.889Z"
   },
   {
    "duration": 0,
    "start_time": "2024-08-02T07:27:00.905Z"
   },
   {
    "duration": 82,
    "start_time": "2024-08-02T07:28:04.625Z"
   },
   {
    "duration": 1505,
    "start_time": "2024-08-02T07:28:30.357Z"
   },
   {
    "duration": 87,
    "start_time": "2024-08-02T07:28:31.863Z"
   },
   {
    "duration": 17,
    "start_time": "2024-08-02T07:28:31.952Z"
   },
   {
    "duration": 101,
    "start_time": "2024-08-02T07:28:31.971Z"
   },
   {
    "duration": 39,
    "start_time": "2024-08-02T07:28:32.074Z"
   },
   {
    "duration": 25,
    "start_time": "2024-08-02T07:28:32.115Z"
   },
   {
    "duration": 142,
    "start_time": "2024-08-02T07:28:32.142Z"
   },
   {
    "duration": 24,
    "start_time": "2024-08-02T07:28:32.285Z"
   },
   {
    "duration": 20,
    "start_time": "2024-08-02T07:28:32.311Z"
   },
   {
    "duration": 19,
    "start_time": "2024-08-02T07:28:32.334Z"
   },
   {
    "duration": 9,
    "start_time": "2024-08-02T07:28:32.355Z"
   },
   {
    "duration": 43,
    "start_time": "2024-08-02T07:28:32.366Z"
   },
   {
    "duration": 65,
    "start_time": "2024-08-02T07:28:32.410Z"
   },
   {
    "duration": 9,
    "start_time": "2024-08-02T07:28:32.477Z"
   },
   {
    "duration": 76,
    "start_time": "2024-08-02T07:28:32.488Z"
   },
   {
    "duration": 18,
    "start_time": "2024-08-02T07:28:32.566Z"
   },
   {
    "duration": 24,
    "start_time": "2024-08-02T07:28:32.585Z"
   },
   {
    "duration": 219,
    "start_time": "2024-08-02T07:28:32.611Z"
   },
   {
    "duration": 289,
    "start_time": "2024-08-02T07:28:32.831Z"
   },
   {
    "duration": 10,
    "start_time": "2024-08-02T07:28:33.121Z"
   },
   {
    "duration": 15,
    "start_time": "2024-08-02T07:28:33.132Z"
   },
   {
    "duration": 279,
    "start_time": "2024-08-02T07:28:33.148Z"
   },
   {
    "duration": 9,
    "start_time": "2024-08-02T07:28:33.428Z"
   },
   {
    "duration": 150,
    "start_time": "2024-08-02T07:28:33.439Z"
   },
   {
    "duration": 30,
    "start_time": "2024-08-02T07:28:33.591Z"
   },
   {
    "duration": 25,
    "start_time": "2024-08-02T07:28:33.623Z"
   },
   {
    "duration": 63,
    "start_time": "2024-08-02T07:28:33.650Z"
   },
   {
    "duration": 34,
    "start_time": "2024-08-02T07:28:33.717Z"
   },
   {
    "duration": 254,
    "start_time": "2024-08-02T07:28:33.753Z"
   },
   {
    "duration": 6,
    "start_time": "2024-08-02T07:28:34.009Z"
   },
   {
    "duration": 71,
    "start_time": "2024-08-02T07:28:34.016Z"
   },
   {
    "duration": 77,
    "start_time": "2024-08-02T07:28:34.088Z"
   },
   {
    "duration": 93,
    "start_time": "2024-08-02T07:28:34.167Z"
   },
   {
    "duration": 12,
    "start_time": "2024-08-02T07:28:34.262Z"
   },
   {
    "duration": 229,
    "start_time": "2024-08-02T07:28:34.275Z"
   },
   {
    "duration": 394,
    "start_time": "2024-08-02T07:28:34.505Z"
   },
   {
    "duration": 12,
    "start_time": "2024-08-02T07:28:34.905Z"
   },
   {
    "duration": 120,
    "start_time": "2024-08-02T07:28:34.919Z"
   },
   {
    "duration": 2,
    "start_time": "2024-08-02T07:28:35.041Z"
   },
   {
    "duration": 7,
    "start_time": "2024-08-02T07:28:35.045Z"
   },
   {
    "duration": 6,
    "start_time": "2024-08-02T07:28:35.054Z"
   },
   {
    "duration": 31,
    "start_time": "2024-08-02T07:28:35.061Z"
   },
   {
    "duration": 90,
    "start_time": "2024-08-02T07:28:35.094Z"
   },
   {
    "duration": 7,
    "start_time": "2024-08-02T10:22:14.004Z"
   },
   {
    "duration": 3,
    "start_time": "2024-08-02T10:22:16.603Z"
   },
   {
    "duration": 7,
    "start_time": "2024-08-02T10:22:20.334Z"
   },
   {
    "duration": 10,
    "start_time": "2024-08-02T10:22:22.877Z"
   },
   {
    "duration": 1565,
    "start_time": "2024-08-02T10:22:43.803Z"
   },
   {
    "duration": 99,
    "start_time": "2024-08-02T10:22:45.371Z"
   },
   {
    "duration": 16,
    "start_time": "2024-08-02T10:22:45.472Z"
   },
   {
    "duration": 45,
    "start_time": "2024-08-02T10:22:45.490Z"
   },
   {
    "duration": 37,
    "start_time": "2024-08-02T10:22:45.538Z"
   },
   {
    "duration": 12,
    "start_time": "2024-08-02T10:22:45.577Z"
   },
   {
    "duration": 41,
    "start_time": "2024-08-02T10:22:45.591Z"
   },
   {
    "duration": 12,
    "start_time": "2024-08-02T10:22:45.634Z"
   },
   {
    "duration": 10,
    "start_time": "2024-08-02T10:22:45.648Z"
   },
   {
    "duration": 33,
    "start_time": "2024-08-02T10:22:45.660Z"
   },
   {
    "duration": 22,
    "start_time": "2024-08-02T10:22:45.695Z"
   },
   {
    "duration": 39,
    "start_time": "2024-08-02T10:22:45.719Z"
   },
   {
    "duration": 73,
    "start_time": "2024-08-02T10:22:45.760Z"
   },
   {
    "duration": 4,
    "start_time": "2024-08-02T10:22:45.836Z"
   },
   {
    "duration": 101,
    "start_time": "2024-08-02T10:22:45.842Z"
   },
   {
    "duration": 19,
    "start_time": "2024-08-02T10:22:45.945Z"
   },
   {
    "duration": 20,
    "start_time": "2024-08-02T10:22:45.965Z"
   },
   {
    "duration": 227,
    "start_time": "2024-08-02T10:22:45.987Z"
   },
   {
    "duration": 296,
    "start_time": "2024-08-02T10:22:46.216Z"
   },
   {
    "duration": 10,
    "start_time": "2024-08-02T10:22:46.514Z"
   },
   {
    "duration": 16,
    "start_time": "2024-08-02T10:22:46.526Z"
   },
   {
    "duration": 288,
    "start_time": "2024-08-02T10:22:46.544Z"
   },
   {
    "duration": 13,
    "start_time": "2024-08-02T10:22:46.834Z"
   },
   {
    "duration": 288,
    "start_time": "2024-08-02T10:22:46.849Z"
   },
   {
    "duration": 67,
    "start_time": "2024-08-02T10:22:47.139Z"
   },
   {
    "duration": 29,
    "start_time": "2024-08-02T10:22:47.208Z"
   },
   {
    "duration": 75,
    "start_time": "2024-08-02T10:22:47.238Z"
   },
   {
    "duration": 26,
    "start_time": "2024-08-02T10:22:47.315Z"
   },
   {
    "duration": 269,
    "start_time": "2024-08-02T10:22:47.342Z"
   },
   {
    "duration": 7,
    "start_time": "2024-08-02T10:22:47.612Z"
   },
   {
    "duration": 70,
    "start_time": "2024-08-02T10:22:47.621Z"
   },
   {
    "duration": 86,
    "start_time": "2024-08-02T10:22:47.693Z"
   },
   {
    "duration": 95,
    "start_time": "2024-08-02T10:22:47.780Z"
   },
   {
    "duration": 18,
    "start_time": "2024-08-02T10:22:47.876Z"
   },
   {
    "duration": 202,
    "start_time": "2024-08-02T10:22:47.896Z"
   },
   {
    "duration": 390,
    "start_time": "2024-08-02T10:22:48.099Z"
   },
   {
    "duration": 23,
    "start_time": "2024-08-02T10:22:48.491Z"
   },
   {
    "duration": 37,
    "start_time": "2024-08-02T10:22:48.516Z"
   },
   {
    "duration": 3,
    "start_time": "2024-08-02T10:22:48.555Z"
   },
   {
    "duration": 5,
    "start_time": "2024-08-02T10:22:48.559Z"
   },
   {
    "duration": 8,
    "start_time": "2024-08-02T10:22:48.569Z"
   },
   {
    "duration": 183,
    "start_time": "2024-08-02T10:22:48.579Z"
   },
   {
    "duration": 0,
    "start_time": "2024-08-02T10:22:48.764Z"
   },
   {
    "duration": 1553,
    "start_time": "2024-08-02T10:23:12.183Z"
   },
   {
    "duration": 83,
    "start_time": "2024-08-02T10:23:13.738Z"
   },
   {
    "duration": 15,
    "start_time": "2024-08-02T10:23:13.823Z"
   },
   {
    "duration": 27,
    "start_time": "2024-08-02T10:23:13.839Z"
   },
   {
    "duration": 19,
    "start_time": "2024-08-02T10:23:13.868Z"
   },
   {
    "duration": 18,
    "start_time": "2024-08-02T10:23:13.889Z"
   },
   {
    "duration": 6,
    "start_time": "2024-08-02T10:23:13.909Z"
   },
   {
    "duration": 16,
    "start_time": "2024-08-02T10:23:13.917Z"
   },
   {
    "duration": 13,
    "start_time": "2024-08-02T10:23:13.935Z"
   },
   {
    "duration": 24,
    "start_time": "2024-08-02T10:23:13.950Z"
   },
   {
    "duration": 40,
    "start_time": "2024-08-02T10:23:13.976Z"
   },
   {
    "duration": 32,
    "start_time": "2024-08-02T10:23:14.017Z"
   },
   {
    "duration": 89,
    "start_time": "2024-08-02T10:23:14.050Z"
   },
   {
    "duration": 4,
    "start_time": "2024-08-02T10:23:14.142Z"
   },
   {
    "duration": 84,
    "start_time": "2024-08-02T10:23:14.148Z"
   },
   {
    "duration": 17,
    "start_time": "2024-08-02T10:23:14.233Z"
   },
   {
    "duration": 16,
    "start_time": "2024-08-02T10:23:14.252Z"
   },
   {
    "duration": 190,
    "start_time": "2024-08-02T10:23:14.270Z"
   },
   {
    "duration": 263,
    "start_time": "2024-08-02T10:23:14.462Z"
   },
   {
    "duration": 9,
    "start_time": "2024-08-02T10:23:14.726Z"
   },
   {
    "duration": 108,
    "start_time": "2024-08-02T10:23:14.736Z"
   },
   {
    "duration": 349,
    "start_time": "2024-08-02T10:23:14.845Z"
   },
   {
    "duration": 10,
    "start_time": "2024-08-02T10:23:15.196Z"
   },
   {
    "duration": 145,
    "start_time": "2024-08-02T10:23:15.208Z"
   },
   {
    "duration": 56,
    "start_time": "2024-08-02T10:23:15.354Z"
   },
   {
    "duration": 27,
    "start_time": "2024-08-02T10:23:15.411Z"
   },
   {
    "duration": 9,
    "start_time": "2024-08-02T10:23:15.440Z"
   },
   {
    "duration": 25,
    "start_time": "2024-08-02T10:23:15.506Z"
   },
   {
    "duration": 284,
    "start_time": "2024-08-02T10:23:15.533Z"
   },
   {
    "duration": 7,
    "start_time": "2024-08-02T10:23:15.819Z"
   },
   {
    "duration": 62,
    "start_time": "2024-08-02T10:23:15.827Z"
   },
   {
    "duration": 83,
    "start_time": "2024-08-02T10:23:15.891Z"
   },
   {
    "duration": 100,
    "start_time": "2024-08-02T10:23:15.976Z"
   },
   {
    "duration": 12,
    "start_time": "2024-08-02T10:23:16.078Z"
   },
   {
    "duration": 204,
    "start_time": "2024-08-02T10:23:16.105Z"
   },
   {
    "duration": 364,
    "start_time": "2024-08-02T10:23:16.311Z"
   },
   {
    "duration": 12,
    "start_time": "2024-08-02T10:23:16.677Z"
   },
   {
    "duration": 34,
    "start_time": "2024-08-02T10:23:16.690Z"
   },
   {
    "duration": 3,
    "start_time": "2024-08-02T10:23:16.726Z"
   },
   {
    "duration": 74,
    "start_time": "2024-08-02T10:23:16.731Z"
   },
   {
    "duration": 8,
    "start_time": "2024-08-02T10:23:16.809Z"
   },
   {
    "duration": 19,
    "start_time": "2024-08-02T10:23:16.818Z"
   },
   {
    "duration": 128,
    "start_time": "2024-08-02T10:23:16.839Z"
   },
   {
    "duration": 186,
    "start_time": "2024-08-02T11:31:39.567Z"
   },
   {
    "duration": 1538,
    "start_time": "2024-08-02T11:31:51.844Z"
   },
   {
    "duration": 83,
    "start_time": "2024-08-02T11:31:53.384Z"
   },
   {
    "duration": 13,
    "start_time": "2024-08-02T11:31:53.469Z"
   },
   {
    "duration": 20,
    "start_time": "2024-08-02T11:31:53.484Z"
   },
   {
    "duration": 15,
    "start_time": "2024-08-02T11:31:53.506Z"
   },
   {
    "duration": 11,
    "start_time": "2024-08-02T11:31:53.522Z"
   },
   {
    "duration": 16,
    "start_time": "2024-08-02T11:31:53.534Z"
   },
   {
    "duration": 11,
    "start_time": "2024-08-02T11:31:53.552Z"
   },
   {
    "duration": 7,
    "start_time": "2024-08-02T11:31:53.565Z"
   },
   {
    "duration": 31,
    "start_time": "2024-08-02T11:31:53.574Z"
   },
   {
    "duration": 9,
    "start_time": "2024-08-02T11:31:53.607Z"
   },
   {
    "duration": 34,
    "start_time": "2024-08-02T11:31:53.617Z"
   },
   {
    "duration": 81,
    "start_time": "2024-08-02T11:31:53.652Z"
   },
   {
    "duration": 4,
    "start_time": "2024-08-02T11:31:53.736Z"
   },
   {
    "duration": 78,
    "start_time": "2024-08-02T11:31:53.741Z"
   },
   {
    "duration": 16,
    "start_time": "2024-08-02T11:31:53.820Z"
   },
   {
    "duration": 18,
    "start_time": "2024-08-02T11:31:53.837Z"
   },
   {
    "duration": 186,
    "start_time": "2024-08-02T11:31:53.857Z"
   },
   {
    "duration": 282,
    "start_time": "2024-08-02T11:31:54.045Z"
   },
   {
    "duration": 8,
    "start_time": "2024-08-02T11:31:54.329Z"
   },
   {
    "duration": 13,
    "start_time": "2024-08-02T11:31:54.339Z"
   },
   {
    "duration": 258,
    "start_time": "2024-08-02T11:31:54.354Z"
   },
   {
    "duration": 9,
    "start_time": "2024-08-02T11:31:54.614Z"
   },
   {
    "duration": 143,
    "start_time": "2024-08-02T11:31:54.624Z"
   },
   {
    "duration": 47,
    "start_time": "2024-08-02T11:31:54.769Z"
   },
   {
    "duration": 28,
    "start_time": "2024-08-02T11:31:54.818Z"
   },
   {
    "duration": 64,
    "start_time": "2024-08-02T11:31:54.847Z"
   },
   {
    "duration": 32,
    "start_time": "2024-08-02T11:31:54.912Z"
   },
   {
    "duration": 253,
    "start_time": "2024-08-02T11:31:54.946Z"
   },
   {
    "duration": 6,
    "start_time": "2024-08-02T11:31:55.205Z"
   },
   {
    "duration": 29,
    "start_time": "2024-08-02T11:31:55.213Z"
   },
   {
    "duration": 95,
    "start_time": "2024-08-02T11:31:55.243Z"
   },
   {
    "duration": 89,
    "start_time": "2024-08-02T11:31:55.339Z"
   },
   {
    "duration": 10,
    "start_time": "2024-08-02T11:31:55.429Z"
   },
   {
    "duration": 222,
    "start_time": "2024-08-02T11:31:55.440Z"
   },
   {
    "duration": 365,
    "start_time": "2024-08-02T11:31:55.665Z"
   },
   {
    "duration": 12,
    "start_time": "2024-08-02T11:31:56.032Z"
   },
   {
    "duration": 118,
    "start_time": "2024-08-02T11:31:56.046Z"
   },
   {
    "duration": 2,
    "start_time": "2024-08-02T11:31:56.166Z"
   },
   {
    "duration": 22,
    "start_time": "2024-08-02T11:31:56.170Z"
   },
   {
    "duration": 12,
    "start_time": "2024-08-02T11:31:56.196Z"
   },
   {
    "duration": 29,
    "start_time": "2024-08-02T11:31:56.209Z"
   },
   {
    "duration": 86,
    "start_time": "2024-08-02T11:31:56.240Z"
   },
   {
    "duration": 10068,
    "start_time": "2024-08-02T11:31:56.328Z"
   },
   {
    "duration": 823,
    "start_time": "2024-08-02T12:03:40.544Z"
   },
   {
    "duration": 10061,
    "start_time": "2024-08-02T12:04:13.053Z"
   },
   {
    "duration": 160,
    "start_time": "2024-08-02T12:22:47.971Z"
   },
   {
    "duration": 16,
    "start_time": "2024-08-02T12:22:57.981Z"
   },
   {
    "duration": 12,
    "start_time": "2024-08-02T12:23:08.605Z"
   },
   {
    "duration": 11,
    "start_time": "2024-08-02T12:23:24.520Z"
   },
   {
    "duration": 11,
    "start_time": "2024-08-02T12:23:30.802Z"
   },
   {
    "duration": 13,
    "start_time": "2024-08-02T12:34:30.951Z"
   },
   {
    "duration": 19,
    "start_time": "2024-08-02T12:34:39.602Z"
   },
   {
    "duration": 33,
    "start_time": "2024-08-02T12:34:48.811Z"
   },
   {
    "duration": 34,
    "start_time": "2024-08-02T12:35:15.971Z"
   },
   {
    "duration": 24,
    "start_time": "2024-08-02T12:39:20.494Z"
   },
   {
    "duration": 13,
    "start_time": "2024-08-02T12:39:50.861Z"
   },
   {
    "duration": 1578,
    "start_time": "2024-08-02T12:40:17.751Z"
   },
   {
    "duration": 90,
    "start_time": "2024-08-02T12:40:19.332Z"
   },
   {
    "duration": 55,
    "start_time": "2024-08-02T12:40:19.424Z"
   },
   {
    "duration": 14,
    "start_time": "2024-08-02T12:40:19.481Z"
   },
   {
    "duration": 24,
    "start_time": "2024-08-02T12:40:19.497Z"
   },
   {
    "duration": 11,
    "start_time": "2024-08-02T12:40:19.523Z"
   },
   {
    "duration": 27,
    "start_time": "2024-08-02T12:40:19.536Z"
   },
   {
    "duration": 29,
    "start_time": "2024-08-02T12:40:19.566Z"
   },
   {
    "duration": 15,
    "start_time": "2024-08-02T12:40:19.597Z"
   },
   {
    "duration": 47,
    "start_time": "2024-08-02T12:40:19.613Z"
   },
   {
    "duration": 9,
    "start_time": "2024-08-02T12:40:19.662Z"
   },
   {
    "duration": 44,
    "start_time": "2024-08-02T12:40:19.673Z"
   },
   {
    "duration": 68,
    "start_time": "2024-08-02T12:40:19.719Z"
   },
   {
    "duration": 15,
    "start_time": "2024-08-02T12:40:19.792Z"
   },
   {
    "duration": 98,
    "start_time": "2024-08-02T12:40:19.809Z"
   },
   {
    "duration": 16,
    "start_time": "2024-08-02T12:40:19.909Z"
   },
   {
    "duration": 24,
    "start_time": "2024-08-02T12:40:19.927Z"
   },
   {
    "duration": 181,
    "start_time": "2024-08-02T12:40:19.952Z"
   },
   {
    "duration": 261,
    "start_time": "2024-08-02T12:40:20.135Z"
   },
   {
    "duration": 13,
    "start_time": "2024-08-02T12:40:20.398Z"
   },
   {
    "duration": 85,
    "start_time": "2024-08-02T12:40:20.413Z"
   },
   {
    "duration": 275,
    "start_time": "2024-08-02T12:40:20.500Z"
   },
   {
    "duration": 9,
    "start_time": "2024-08-02T12:40:20.776Z"
   },
   {
    "duration": 160,
    "start_time": "2024-08-02T12:40:20.787Z"
   },
   {
    "duration": 64,
    "start_time": "2024-08-02T12:40:20.949Z"
   },
   {
    "duration": 90,
    "start_time": "2024-08-02T12:40:21.015Z"
   },
   {
    "duration": 12,
    "start_time": "2024-08-02T12:40:21.107Z"
   },
   {
    "duration": 92,
    "start_time": "2024-08-02T12:40:21.121Z"
   },
   {
    "duration": 267,
    "start_time": "2024-08-02T12:40:21.215Z"
   },
   {
    "duration": 8,
    "start_time": "2024-08-02T12:40:21.484Z"
   },
   {
    "duration": 23,
    "start_time": "2024-08-02T12:40:21.505Z"
   },
   {
    "duration": 97,
    "start_time": "2024-08-02T12:40:21.529Z"
   },
   {
    "duration": 93,
    "start_time": "2024-08-02T12:40:21.628Z"
   },
   {
    "duration": 10,
    "start_time": "2024-08-02T12:40:21.723Z"
   },
   {
    "duration": 200,
    "start_time": "2024-08-02T12:40:21.734Z"
   },
   {
    "duration": 357,
    "start_time": "2024-08-02T12:40:21.936Z"
   },
   {
    "duration": 20,
    "start_time": "2024-08-02T12:40:22.294Z"
   },
   {
    "duration": 51,
    "start_time": "2024-08-02T12:40:22.315Z"
   },
   {
    "duration": 2,
    "start_time": "2024-08-02T12:40:22.368Z"
   },
   {
    "duration": 86,
    "start_time": "2024-08-02T12:40:22.372Z"
   },
   {
    "duration": 55,
    "start_time": "2024-08-02T12:40:22.462Z"
   },
   {
    "duration": 20,
    "start_time": "2024-08-02T12:40:22.519Z"
   },
   {
    "duration": 108,
    "start_time": "2024-08-02T12:40:22.541Z"
   },
   {
    "duration": 10148,
    "start_time": "2024-08-02T12:40:22.651Z"
   },
   {
    "duration": 12,
    "start_time": "2024-08-02T12:40:32.806Z"
   },
   {
    "duration": 98,
    "start_time": "2024-08-02T12:40:32.820Z"
   },
   {
    "duration": 22,
    "start_time": "2024-08-02T12:40:32.920Z"
   },
   {
    "duration": 34,
    "start_time": "2024-08-02T13:10:11.797Z"
   },
   {
    "duration": 30,
    "start_time": "2024-08-02T13:10:18.207Z"
   },
   {
    "duration": 50,
    "start_time": "2024-08-05T05:40:09.128Z"
   },
   {
    "duration": 1720,
    "start_time": "2024-08-05T05:40:46.913Z"
   },
   {
    "duration": 249,
    "start_time": "2024-08-05T05:40:48.635Z"
   },
   {
    "duration": 16,
    "start_time": "2024-08-05T05:40:48.885Z"
   },
   {
    "duration": 21,
    "start_time": "2024-08-05T05:40:48.903Z"
   },
   {
    "duration": 16,
    "start_time": "2024-08-05T05:40:48.927Z"
   },
   {
    "duration": 13,
    "start_time": "2024-08-05T05:40:48.945Z"
   },
   {
    "duration": 5,
    "start_time": "2024-08-05T05:40:48.960Z"
   },
   {
    "duration": 10,
    "start_time": "2024-08-05T05:40:48.967Z"
   },
   {
    "duration": 26,
    "start_time": "2024-08-05T05:40:48.979Z"
   },
   {
    "duration": 14,
    "start_time": "2024-08-05T05:40:49.007Z"
   },
   {
    "duration": 23,
    "start_time": "2024-08-05T05:40:49.023Z"
   },
   {
    "duration": 31,
    "start_time": "2024-08-05T05:40:49.048Z"
   },
   {
    "duration": 76,
    "start_time": "2024-08-05T05:40:49.081Z"
   },
   {
    "duration": 4,
    "start_time": "2024-08-05T05:40:49.161Z"
   },
   {
    "duration": 75,
    "start_time": "2024-08-05T05:40:49.167Z"
   },
   {
    "duration": 15,
    "start_time": "2024-08-05T05:40:49.244Z"
   },
   {
    "duration": 23,
    "start_time": "2024-08-05T05:40:49.261Z"
   },
   {
    "duration": 185,
    "start_time": "2024-08-05T05:40:49.286Z"
   },
   {
    "duration": 282,
    "start_time": "2024-08-05T05:40:49.472Z"
   },
   {
    "duration": 9,
    "start_time": "2024-08-05T05:40:49.756Z"
   },
   {
    "duration": 13,
    "start_time": "2024-08-05T05:40:49.766Z"
   },
   {
    "duration": 274,
    "start_time": "2024-08-05T05:40:49.780Z"
   },
   {
    "duration": 8,
    "start_time": "2024-08-05T05:40:50.055Z"
   },
   {
    "duration": 198,
    "start_time": "2024-08-05T05:40:50.065Z"
   },
   {
    "duration": 42,
    "start_time": "2024-08-05T05:40:50.264Z"
   },
   {
    "duration": 27,
    "start_time": "2024-08-05T05:40:50.308Z"
   },
   {
    "duration": 9,
    "start_time": "2024-08-05T05:40:50.336Z"
   },
   {
    "duration": 82,
    "start_time": "2024-08-05T05:40:50.346Z"
   },
   {
    "duration": 270,
    "start_time": "2024-08-05T05:40:50.430Z"
   },
   {
    "duration": 6,
    "start_time": "2024-08-05T05:40:50.702Z"
   },
   {
    "duration": 28,
    "start_time": "2024-08-05T05:40:50.710Z"
   },
   {
    "duration": 100,
    "start_time": "2024-08-05T05:40:50.740Z"
   },
   {
    "duration": 89,
    "start_time": "2024-08-05T05:40:50.842Z"
   },
   {
    "duration": 9,
    "start_time": "2024-08-05T05:40:50.933Z"
   },
   {
    "duration": 205,
    "start_time": "2024-08-05T05:40:50.944Z"
   },
   {
    "duration": 365,
    "start_time": "2024-08-05T05:40:51.151Z"
   },
   {
    "duration": 11,
    "start_time": "2024-08-05T05:40:51.517Z"
   },
   {
    "duration": 92,
    "start_time": "2024-08-05T05:40:51.529Z"
   },
   {
    "duration": 3,
    "start_time": "2024-08-05T05:40:51.622Z"
   },
   {
    "duration": 15,
    "start_time": "2024-08-05T05:40:51.626Z"
   },
   {
    "duration": 14,
    "start_time": "2024-08-05T05:40:51.644Z"
   },
   {
    "duration": 20,
    "start_time": "2024-08-05T05:40:51.659Z"
   },
   {
    "duration": 85,
    "start_time": "2024-08-05T05:40:51.681Z"
   },
   {
    "duration": 10570,
    "start_time": "2024-08-05T05:40:51.768Z"
   },
   {
    "duration": 15,
    "start_time": "2024-08-05T05:41:02.341Z"
   },
   {
    "duration": 74,
    "start_time": "2024-08-05T05:41:02.358Z"
   },
   {
    "duration": 73,
    "start_time": "2024-08-05T05:41:02.433Z"
   },
   {
    "duration": 77,
    "start_time": "2024-08-05T05:43:03.994Z"
   },
   {
    "duration": 78,
    "start_time": "2024-08-05T05:45:19.508Z"
   },
   {
    "duration": 1618,
    "start_time": "2024-08-05T06:01:41.174Z"
   },
   {
    "duration": 87,
    "start_time": "2024-08-05T06:01:42.794Z"
   },
   {
    "duration": 15,
    "start_time": "2024-08-05T06:01:42.882Z"
   },
   {
    "duration": 12,
    "start_time": "2024-08-05T06:01:42.899Z"
   },
   {
    "duration": 16,
    "start_time": "2024-08-05T06:01:42.913Z"
   },
   {
    "duration": 12,
    "start_time": "2024-08-05T06:01:42.931Z"
   },
   {
    "duration": 5,
    "start_time": "2024-08-05T06:01:42.945Z"
   },
   {
    "duration": 11,
    "start_time": "2024-08-05T06:01:42.952Z"
   },
   {
    "duration": 8,
    "start_time": "2024-08-05T06:01:42.965Z"
   },
   {
    "duration": 43,
    "start_time": "2024-08-05T06:01:42.975Z"
   },
   {
    "duration": 19,
    "start_time": "2024-08-05T06:01:43.020Z"
   },
   {
    "duration": 33,
    "start_time": "2024-08-05T06:01:43.040Z"
   },
   {
    "duration": 81,
    "start_time": "2024-08-05T06:01:43.074Z"
   },
   {
    "duration": 4,
    "start_time": "2024-08-05T06:01:43.157Z"
   },
   {
    "duration": 75,
    "start_time": "2024-08-05T06:01:43.163Z"
   },
   {
    "duration": 15,
    "start_time": "2024-08-05T06:01:43.239Z"
   },
   {
    "duration": 15,
    "start_time": "2024-08-05T06:01:43.255Z"
   },
   {
    "duration": 197,
    "start_time": "2024-08-05T06:01:43.272Z"
   },
   {
    "duration": 268,
    "start_time": "2024-08-05T06:01:43.470Z"
   },
   {
    "duration": 9,
    "start_time": "2024-08-05T06:01:43.740Z"
   },
   {
    "duration": 21,
    "start_time": "2024-08-05T06:01:43.751Z"
   },
   {
    "duration": 271,
    "start_time": "2024-08-05T06:01:43.774Z"
   },
   {
    "duration": 9,
    "start_time": "2024-08-05T06:01:44.046Z"
   },
   {
    "duration": 173,
    "start_time": "2024-08-05T06:01:44.057Z"
   },
   {
    "duration": 27,
    "start_time": "2024-08-05T06:01:44.232Z"
   },
   {
    "duration": 61,
    "start_time": "2024-08-05T06:01:44.260Z"
   },
   {
    "duration": 10,
    "start_time": "2024-08-05T06:01:44.323Z"
   },
   {
    "duration": 78,
    "start_time": "2024-08-05T06:01:44.337Z"
   },
   {
    "duration": 264,
    "start_time": "2024-08-05T06:01:44.416Z"
   },
   {
    "duration": 9,
    "start_time": "2024-08-05T06:01:44.681Z"
   },
   {
    "duration": 40,
    "start_time": "2024-08-05T06:01:44.704Z"
   },
   {
    "duration": 96,
    "start_time": "2024-08-05T06:01:44.746Z"
   },
   {
    "duration": 102,
    "start_time": "2024-08-05T06:01:44.843Z"
   },
   {
    "duration": 10,
    "start_time": "2024-08-05T06:01:44.946Z"
   },
   {
    "duration": 208,
    "start_time": "2024-08-05T06:01:44.957Z"
   },
   {
    "duration": 357,
    "start_time": "2024-08-05T06:01:45.166Z"
   },
   {
    "duration": 11,
    "start_time": "2024-08-05T06:01:45.524Z"
   },
   {
    "duration": 43,
    "start_time": "2024-08-05T06:01:45.537Z"
   },
   {
    "duration": 3,
    "start_time": "2024-08-05T06:01:45.582Z"
   },
   {
    "duration": 22,
    "start_time": "2024-08-05T06:01:45.586Z"
   },
   {
    "duration": 8,
    "start_time": "2024-08-05T06:01:45.609Z"
   },
   {
    "duration": 18,
    "start_time": "2024-08-05T06:01:45.619Z"
   },
   {
    "duration": 103,
    "start_time": "2024-08-05T06:01:45.639Z"
   },
   {
    "duration": 10020,
    "start_time": "2024-08-05T06:01:45.743Z"
   },
   {
    "duration": 13,
    "start_time": "2024-08-05T06:01:55.766Z"
   },
   {
    "duration": 57,
    "start_time": "2024-08-05T06:01:55.780Z"
   },
   {
    "duration": 75,
    "start_time": "2024-08-05T06:01:55.838Z"
   },
   {
    "duration": 194,
    "start_time": "2024-08-05T06:01:55.915Z"
   },
   {
    "duration": 176,
    "start_time": "2024-08-05T06:10:59.584Z"
   },
   {
    "duration": 16,
    "start_time": "2024-08-05T06:11:14.355Z"
   },
   {
    "duration": 17,
    "start_time": "2024-08-05T06:16:56.358Z"
   },
   {
    "duration": 6,
    "start_time": "2024-08-05T06:17:47.226Z"
   },
   {
    "duration": 17,
    "start_time": "2024-08-05T06:17:53.054Z"
   },
   {
    "duration": 28,
    "start_time": "2024-08-05T06:18:53.309Z"
   },
   {
    "duration": 14,
    "start_time": "2024-08-05T06:21:12.042Z"
   },
   {
    "duration": 14,
    "start_time": "2024-08-05T06:21:33.693Z"
   },
   {
    "duration": 20,
    "start_time": "2024-08-05T06:21:42.718Z"
   },
   {
    "duration": 11,
    "start_time": "2024-08-05T06:22:00.387Z"
   },
   {
    "duration": 14,
    "start_time": "2024-08-05T06:23:50.127Z"
   },
   {
    "duration": 15,
    "start_time": "2024-08-05T06:25:41.170Z"
   },
   {
    "duration": 277,
    "start_time": "2024-08-05T06:25:54.223Z"
   },
   {
    "duration": 251,
    "start_time": "2024-08-05T06:27:10.663Z"
   },
   {
    "duration": 1569,
    "start_time": "2024-08-05T09:37:31.362Z"
   },
   {
    "duration": 91,
    "start_time": "2024-08-05T09:37:32.933Z"
   },
   {
    "duration": 15,
    "start_time": "2024-08-05T09:37:33.025Z"
   },
   {
    "duration": 78,
    "start_time": "2024-08-05T09:37:33.042Z"
   },
   {
    "duration": 19,
    "start_time": "2024-08-05T09:37:33.122Z"
   },
   {
    "duration": 13,
    "start_time": "2024-08-05T09:37:33.142Z"
   },
   {
    "duration": 9,
    "start_time": "2024-08-05T09:37:33.157Z"
   },
   {
    "duration": 12,
    "start_time": "2024-08-05T09:37:33.168Z"
   },
   {
    "duration": 8,
    "start_time": "2024-08-05T09:37:33.181Z"
   },
   {
    "duration": 18,
    "start_time": "2024-08-05T09:37:33.191Z"
   },
   {
    "duration": 16,
    "start_time": "2024-08-05T09:37:33.210Z"
   },
   {
    "duration": 50,
    "start_time": "2024-08-05T09:37:33.227Z"
   },
   {
    "duration": 64,
    "start_time": "2024-08-05T09:37:33.279Z"
   },
   {
    "duration": 4,
    "start_time": "2024-08-05T09:37:33.344Z"
   },
   {
    "duration": 121,
    "start_time": "2024-08-05T09:37:33.350Z"
   },
   {
    "duration": 15,
    "start_time": "2024-08-05T09:37:33.472Z"
   },
   {
    "duration": 11,
    "start_time": "2024-08-05T09:37:33.489Z"
   },
   {
    "duration": 179,
    "start_time": "2024-08-05T09:37:33.505Z"
   },
   {
    "duration": 268,
    "start_time": "2024-08-05T09:37:33.686Z"
   },
   {
    "duration": 9,
    "start_time": "2024-08-05T09:37:33.956Z"
   },
   {
    "duration": 41,
    "start_time": "2024-08-05T09:37:33.967Z"
   },
   {
    "duration": 315,
    "start_time": "2024-08-05T09:37:34.010Z"
   },
   {
    "duration": 10,
    "start_time": "2024-08-05T09:37:34.327Z"
   },
   {
    "duration": 181,
    "start_time": "2024-08-05T09:37:34.338Z"
   },
   {
    "duration": 27,
    "start_time": "2024-08-05T09:37:34.521Z"
   },
   {
    "duration": 74,
    "start_time": "2024-08-05T09:37:34.549Z"
   },
   {
    "duration": 12,
    "start_time": "2024-08-05T09:37:34.625Z"
   },
   {
    "duration": 93,
    "start_time": "2024-08-05T09:37:34.642Z"
   },
   {
    "duration": 276,
    "start_time": "2024-08-05T09:37:34.737Z"
   },
   {
    "duration": 7,
    "start_time": "2024-08-05T09:37:35.015Z"
   },
   {
    "duration": 59,
    "start_time": "2024-08-05T09:37:35.024Z"
   },
   {
    "duration": 104,
    "start_time": "2024-08-05T09:37:35.085Z"
   },
   {
    "duration": 75,
    "start_time": "2024-08-05T09:37:35.191Z"
   },
   {
    "duration": 12,
    "start_time": "2024-08-05T09:37:35.268Z"
   },
   {
    "duration": 201,
    "start_time": "2024-08-05T09:37:35.282Z"
   },
   {
    "duration": 360,
    "start_time": "2024-08-05T09:37:35.485Z"
   },
   {
    "duration": 11,
    "start_time": "2024-08-05T09:37:35.847Z"
   },
   {
    "duration": 47,
    "start_time": "2024-08-05T09:37:35.860Z"
   },
   {
    "duration": 3,
    "start_time": "2024-08-05T09:37:35.909Z"
   },
   {
    "duration": 13,
    "start_time": "2024-08-05T09:37:35.913Z"
   },
   {
    "duration": 17,
    "start_time": "2024-08-05T09:37:35.928Z"
   },
   {
    "duration": 60,
    "start_time": "2024-08-05T09:37:35.946Z"
   },
   {
    "duration": 208,
    "start_time": "2024-08-05T09:37:36.008Z"
   },
   {
    "duration": 9985,
    "start_time": "2024-08-05T09:37:36.218Z"
   },
   {
    "duration": 12,
    "start_time": "2024-08-05T09:37:46.205Z"
   },
   {
    "duration": 87,
    "start_time": "2024-08-05T09:37:46.219Z"
   },
   {
    "duration": 24,
    "start_time": "2024-08-05T09:37:46.308Z"
   },
   {
    "duration": 199,
    "start_time": "2024-08-05T09:37:46.333Z"
   },
   {
    "duration": 16,
    "start_time": "2024-08-05T09:37:46.533Z"
   },
   {
    "duration": 66,
    "start_time": "2024-08-05T09:37:46.550Z"
   },
   {
    "duration": 15,
    "start_time": "2024-08-05T09:37:46.617Z"
   },
   {
    "duration": 23,
    "start_time": "2024-08-05T09:37:46.634Z"
   },
   {
    "duration": 208,
    "start_time": "2024-08-05T09:37:46.659Z"
   },
   {
    "duration": 0,
    "start_time": "2024-08-05T09:37:46.869Z"
   },
   {
    "duration": 15,
    "start_time": "2024-08-05T09:57:06.129Z"
   },
   {
    "duration": 17,
    "start_time": "2024-08-05T10:04:05.213Z"
   },
   {
    "duration": 134,
    "start_time": "2024-08-05T10:05:09.668Z"
   },
   {
    "duration": 8,
    "start_time": "2024-08-05T10:28:34.574Z"
   },
   {
    "duration": 6,
    "start_time": "2024-08-05T10:34:39.345Z"
   },
   {
    "duration": 7,
    "start_time": "2024-08-05T10:34:50.955Z"
   },
   {
    "duration": 180,
    "start_time": "2024-08-05T10:49:01.944Z"
   },
   {
    "duration": 5,
    "start_time": "2024-08-05T10:50:29.261Z"
   },
   {
    "duration": 5,
    "start_time": "2024-08-05T10:50:57.002Z"
   },
   {
    "duration": 1565,
    "start_time": "2024-08-05T11:15:02.254Z"
   },
   {
    "duration": 89,
    "start_time": "2024-08-05T11:15:03.821Z"
   },
   {
    "duration": 16,
    "start_time": "2024-08-05T11:15:03.911Z"
   },
   {
    "duration": 8,
    "start_time": "2024-08-05T11:15:03.929Z"
   },
   {
    "duration": 18,
    "start_time": "2024-08-05T11:15:03.938Z"
   },
   {
    "duration": 12,
    "start_time": "2024-08-05T11:15:03.958Z"
   },
   {
    "duration": 37,
    "start_time": "2024-08-05T11:15:03.971Z"
   },
   {
    "duration": 12,
    "start_time": "2024-08-05T11:15:04.010Z"
   },
   {
    "duration": 7,
    "start_time": "2024-08-05T11:15:04.024Z"
   },
   {
    "duration": 23,
    "start_time": "2024-08-05T11:15:04.034Z"
   },
   {
    "duration": 11,
    "start_time": "2024-08-05T11:15:04.059Z"
   },
   {
    "duration": 68,
    "start_time": "2024-08-05T11:15:04.071Z"
   },
   {
    "duration": 129,
    "start_time": "2024-08-05T11:15:04.141Z"
   },
   {
    "duration": 4,
    "start_time": "2024-08-05T11:15:04.272Z"
   },
   {
    "duration": 70,
    "start_time": "2024-08-05T11:15:04.277Z"
   },
   {
    "duration": 14,
    "start_time": "2024-08-05T11:15:04.349Z"
   },
   {
    "duration": 89,
    "start_time": "2024-08-05T11:15:04.365Z"
   },
   {
    "duration": 181,
    "start_time": "2024-08-05T11:15:04.456Z"
   },
   {
    "duration": 295,
    "start_time": "2024-08-05T11:15:04.639Z"
   },
   {
    "duration": 9,
    "start_time": "2024-08-05T11:15:04.936Z"
   },
   {
    "duration": 31,
    "start_time": "2024-08-05T11:15:04.946Z"
   },
   {
    "duration": 289,
    "start_time": "2024-08-05T11:15:04.979Z"
   },
   {
    "duration": 9,
    "start_time": "2024-08-05T11:15:05.270Z"
   },
   {
    "duration": 167,
    "start_time": "2024-08-05T11:15:05.281Z"
   },
   {
    "duration": 65,
    "start_time": "2024-08-05T11:15:05.450Z"
   },
   {
    "duration": 32,
    "start_time": "2024-08-05T11:15:05.516Z"
   },
   {
    "duration": 13,
    "start_time": "2024-08-05T11:15:05.604Z"
   },
   {
    "duration": 42,
    "start_time": "2024-08-05T11:15:05.622Z"
   },
   {
    "duration": 252,
    "start_time": "2024-08-05T11:15:05.665Z"
   },
   {
    "duration": 6,
    "start_time": "2024-08-05T11:15:05.918Z"
   },
   {
    "duration": 37,
    "start_time": "2024-08-05T11:15:05.925Z"
   },
   {
    "duration": 106,
    "start_time": "2024-08-05T11:15:05.964Z"
   },
   {
    "duration": 97,
    "start_time": "2024-08-05T11:15:06.072Z"
   },
   {
    "duration": 51,
    "start_time": "2024-08-05T11:15:06.170Z"
   },
   {
    "duration": 190,
    "start_time": "2024-08-05T11:15:06.223Z"
   },
   {
    "duration": 354,
    "start_time": "2024-08-05T11:15:06.415Z"
   },
   {
    "duration": 13,
    "start_time": "2024-08-05T11:15:06.771Z"
   },
   {
    "duration": 57,
    "start_time": "2024-08-05T11:15:06.786Z"
   },
   {
    "duration": 3,
    "start_time": "2024-08-05T11:15:06.845Z"
   },
   {
    "duration": 11,
    "start_time": "2024-08-05T11:15:06.849Z"
   },
   {
    "duration": 16,
    "start_time": "2024-08-05T11:15:06.862Z"
   },
   {
    "duration": 24,
    "start_time": "2024-08-05T11:15:06.880Z"
   },
   {
    "duration": 105,
    "start_time": "2024-08-05T11:15:06.906Z"
   },
   {
    "duration": 10103,
    "start_time": "2024-08-05T11:15:07.013Z"
   },
   {
    "duration": 13,
    "start_time": "2024-08-05T11:15:17.118Z"
   },
   {
    "duration": 90,
    "start_time": "2024-08-05T11:15:17.132Z"
   },
   {
    "duration": 21,
    "start_time": "2024-08-05T11:15:17.224Z"
   },
   {
    "duration": 189,
    "start_time": "2024-08-05T11:15:17.246Z"
   },
   {
    "duration": 14,
    "start_time": "2024-08-05T11:15:17.437Z"
   },
   {
    "duration": 67,
    "start_time": "2024-08-05T11:15:17.452Z"
   },
   {
    "duration": 26,
    "start_time": "2024-08-05T11:15:17.520Z"
   },
   {
    "duration": 27,
    "start_time": "2024-08-05T11:15:17.548Z"
   },
   {
    "duration": 222,
    "start_time": "2024-08-05T11:15:17.577Z"
   },
   {
    "duration": 0,
    "start_time": "2024-08-05T11:15:17.805Z"
   },
   {
    "duration": 0,
    "start_time": "2024-08-05T11:15:17.807Z"
   },
   {
    "duration": 0,
    "start_time": "2024-08-05T11:15:17.808Z"
   },
   {
    "duration": 0,
    "start_time": "2024-08-05T11:15:17.810Z"
   },
   {
    "duration": 0,
    "start_time": "2024-08-05T11:15:17.812Z"
   },
   {
    "duration": 0,
    "start_time": "2024-08-05T11:15:17.813Z"
   },
   {
    "duration": 10,
    "start_time": "2024-08-05T11:18:29.072Z"
   },
   {
    "duration": 1626,
    "start_time": "2024-08-05T11:18:38.583Z"
   },
   {
    "duration": 87,
    "start_time": "2024-08-05T11:18:40.211Z"
   },
   {
    "duration": 16,
    "start_time": "2024-08-05T11:18:40.299Z"
   },
   {
    "duration": 7,
    "start_time": "2024-08-05T11:18:40.316Z"
   },
   {
    "duration": 25,
    "start_time": "2024-08-05T11:18:40.325Z"
   },
   {
    "duration": 11,
    "start_time": "2024-08-05T11:18:40.352Z"
   },
   {
    "duration": 7,
    "start_time": "2024-08-05T11:18:40.365Z"
   },
   {
    "duration": 78,
    "start_time": "2024-08-05T11:18:40.373Z"
   },
   {
    "duration": 22,
    "start_time": "2024-08-05T11:18:40.452Z"
   },
   {
    "duration": 16,
    "start_time": "2024-08-05T11:18:40.476Z"
   },
   {
    "duration": 9,
    "start_time": "2024-08-05T11:18:40.493Z"
   },
   {
    "duration": 30,
    "start_time": "2024-08-05T11:18:40.504Z"
   },
   {
    "duration": 72,
    "start_time": "2024-08-05T11:18:40.535Z"
   },
   {
    "duration": 4,
    "start_time": "2024-08-05T11:18:40.610Z"
   },
   {
    "duration": 69,
    "start_time": "2024-08-05T11:18:40.615Z"
   },
   {
    "duration": 20,
    "start_time": "2024-08-05T11:18:40.686Z"
   },
   {
    "duration": 23,
    "start_time": "2024-08-05T11:18:40.708Z"
   },
   {
    "duration": 205,
    "start_time": "2024-08-05T11:18:40.733Z"
   },
   {
    "duration": 287,
    "start_time": "2024-08-05T11:18:40.940Z"
   },
   {
    "duration": 10,
    "start_time": "2024-08-05T11:18:41.229Z"
   },
   {
    "duration": 21,
    "start_time": "2024-08-05T11:18:41.240Z"
   },
   {
    "duration": 261,
    "start_time": "2024-08-05T11:18:41.262Z"
   },
   {
    "duration": 9,
    "start_time": "2024-08-05T11:18:41.524Z"
   },
   {
    "duration": 155,
    "start_time": "2024-08-05T11:18:41.534Z"
   },
   {
    "duration": 40,
    "start_time": "2024-08-05T11:18:41.691Z"
   },
   {
    "duration": 79,
    "start_time": "2024-08-05T11:18:41.734Z"
   },
   {
    "duration": 11,
    "start_time": "2024-08-05T11:18:41.815Z"
   },
   {
    "duration": 62,
    "start_time": "2024-08-05T11:18:41.827Z"
   },
   {
    "duration": 245,
    "start_time": "2024-08-05T11:18:41.890Z"
   },
   {
    "duration": 7,
    "start_time": "2024-08-05T11:18:42.137Z"
   },
   {
    "duration": 86,
    "start_time": "2024-08-05T11:18:42.145Z"
   },
   {
    "duration": 87,
    "start_time": "2024-08-05T11:18:42.233Z"
   },
   {
    "duration": 102,
    "start_time": "2024-08-05T11:18:42.322Z"
   },
   {
    "duration": 10,
    "start_time": "2024-08-05T11:18:42.426Z"
   },
   {
    "duration": 204,
    "start_time": "2024-08-05T11:18:42.438Z"
   },
   {
    "duration": 378,
    "start_time": "2024-08-05T11:18:42.644Z"
   },
   {
    "duration": 12,
    "start_time": "2024-08-05T11:18:43.023Z"
   },
   {
    "duration": 45,
    "start_time": "2024-08-05T11:18:43.037Z"
   },
   {
    "duration": 3,
    "start_time": "2024-08-05T11:18:43.084Z"
   },
   {
    "duration": 15,
    "start_time": "2024-08-05T11:18:43.088Z"
   },
   {
    "duration": 14,
    "start_time": "2024-08-05T11:18:43.107Z"
   },
   {
    "duration": 18,
    "start_time": "2024-08-05T11:18:43.123Z"
   },
   {
    "duration": 99,
    "start_time": "2024-08-05T11:18:43.142Z"
   },
   {
    "duration": 10154,
    "start_time": "2024-08-05T11:18:43.243Z"
   },
   {
    "duration": 15,
    "start_time": "2024-08-05T11:18:53.404Z"
   },
   {
    "duration": 94,
    "start_time": "2024-08-05T11:18:53.421Z"
   },
   {
    "duration": 21,
    "start_time": "2024-08-05T11:18:53.517Z"
   },
   {
    "duration": 182,
    "start_time": "2024-08-05T11:18:53.539Z"
   },
   {
    "duration": 14,
    "start_time": "2024-08-05T11:18:53.723Z"
   },
   {
    "duration": 18,
    "start_time": "2024-08-05T11:18:53.739Z"
   },
   {
    "duration": 20,
    "start_time": "2024-08-05T11:18:53.758Z"
   },
   {
    "duration": 34,
    "start_time": "2024-08-05T11:18:53.779Z"
   },
   {
    "duration": 164,
    "start_time": "2024-08-05T11:18:53.815Z"
   },
   {
    "duration": 0,
    "start_time": "2024-08-05T11:18:53.981Z"
   },
   {
    "duration": 0,
    "start_time": "2024-08-05T11:18:53.982Z"
   },
   {
    "duration": 0,
    "start_time": "2024-08-05T11:18:53.983Z"
   },
   {
    "duration": 0,
    "start_time": "2024-08-05T11:18:53.984Z"
   },
   {
    "duration": 0,
    "start_time": "2024-08-05T11:18:53.985Z"
   },
   {
    "duration": 0,
    "start_time": "2024-08-05T11:18:53.986Z"
   },
   {
    "duration": 0,
    "start_time": "2024-08-05T11:18:53.987Z"
   },
   {
    "duration": 16,
    "start_time": "2024-08-05T11:19:34.672Z"
   },
   {
    "duration": 1615,
    "start_time": "2024-08-05T11:19:41.131Z"
   },
   {
    "duration": 94,
    "start_time": "2024-08-05T11:19:42.748Z"
   },
   {
    "duration": 17,
    "start_time": "2024-08-05T11:19:42.844Z"
   },
   {
    "duration": 7,
    "start_time": "2024-08-05T11:19:42.863Z"
   },
   {
    "duration": 38,
    "start_time": "2024-08-05T11:19:42.872Z"
   },
   {
    "duration": 14,
    "start_time": "2024-08-05T11:19:42.912Z"
   },
   {
    "duration": 6,
    "start_time": "2024-08-05T11:19:42.928Z"
   },
   {
    "duration": 15,
    "start_time": "2024-08-05T11:19:42.935Z"
   },
   {
    "duration": 8,
    "start_time": "2024-08-05T11:19:42.952Z"
   },
   {
    "duration": 48,
    "start_time": "2024-08-05T11:19:42.963Z"
   },
   {
    "duration": 9,
    "start_time": "2024-08-05T11:19:43.013Z"
   },
   {
    "duration": 61,
    "start_time": "2024-08-05T11:19:43.024Z"
   },
   {
    "duration": 67,
    "start_time": "2024-08-05T11:19:43.087Z"
   },
   {
    "duration": 5,
    "start_time": "2024-08-05T11:19:43.155Z"
   },
   {
    "duration": 68,
    "start_time": "2024-08-05T11:19:43.161Z"
   },
   {
    "duration": 15,
    "start_time": "2024-08-05T11:19:43.231Z"
   },
   {
    "duration": 18,
    "start_time": "2024-08-05T11:19:43.248Z"
   },
   {
    "duration": 199,
    "start_time": "2024-08-05T11:19:43.268Z"
   },
   {
    "duration": 284,
    "start_time": "2024-08-05T11:19:43.469Z"
   },
   {
    "duration": 9,
    "start_time": "2024-08-05T11:19:43.754Z"
   },
   {
    "duration": 24,
    "start_time": "2024-08-05T11:19:43.764Z"
   },
   {
    "duration": 285,
    "start_time": "2024-08-05T11:19:43.789Z"
   },
   {
    "duration": 10,
    "start_time": "2024-08-05T11:19:44.076Z"
   },
   {
    "duration": 222,
    "start_time": "2024-08-05T11:19:44.088Z"
   },
   {
    "duration": 38,
    "start_time": "2024-08-05T11:19:44.312Z"
   },
   {
    "duration": 86,
    "start_time": "2024-08-05T11:19:44.352Z"
   },
   {
    "duration": 75,
    "start_time": "2024-08-05T11:19:44.440Z"
   },
   {
    "duration": 30,
    "start_time": "2024-08-05T11:19:44.521Z"
   },
   {
    "duration": 309,
    "start_time": "2024-08-05T11:19:44.553Z"
   },
   {
    "duration": 7,
    "start_time": "2024-08-05T11:19:44.864Z"
   },
   {
    "duration": 47,
    "start_time": "2024-08-05T11:19:44.873Z"
   },
   {
    "duration": 107,
    "start_time": "2024-08-05T11:19:44.922Z"
   },
   {
    "duration": 105,
    "start_time": "2024-08-05T11:19:45.032Z"
   },
   {
    "duration": 11,
    "start_time": "2024-08-05T11:19:45.139Z"
   },
   {
    "duration": 225,
    "start_time": "2024-08-05T11:19:45.152Z"
   },
   {
    "duration": 413,
    "start_time": "2024-08-05T11:19:45.379Z"
   },
   {
    "duration": 20,
    "start_time": "2024-08-05T11:19:45.794Z"
   },
   {
    "duration": 36,
    "start_time": "2024-08-05T11:19:45.815Z"
   },
   {
    "duration": 4,
    "start_time": "2024-08-05T11:19:45.852Z"
   },
   {
    "duration": 55,
    "start_time": "2024-08-05T11:19:45.857Z"
   },
   {
    "duration": 10,
    "start_time": "2024-08-05T11:19:45.913Z"
   },
   {
    "duration": 19,
    "start_time": "2024-08-05T11:19:45.925Z"
   },
   {
    "duration": 127,
    "start_time": "2024-08-05T11:19:45.946Z"
   },
   {
    "duration": 10742,
    "start_time": "2024-08-05T11:19:46.076Z"
   },
   {
    "duration": 18,
    "start_time": "2024-08-05T11:19:56.821Z"
   },
   {
    "duration": 100,
    "start_time": "2024-08-05T11:19:56.842Z"
   },
   {
    "duration": 79,
    "start_time": "2024-08-05T11:19:56.944Z"
   },
   {
    "duration": 145,
    "start_time": "2024-08-05T11:19:57.025Z"
   },
   {
    "duration": 48,
    "start_time": "2024-08-05T11:19:57.171Z"
   },
   {
    "duration": 14,
    "start_time": "2024-08-05T11:19:57.221Z"
   },
   {
    "duration": 36,
    "start_time": "2024-08-05T11:19:57.237Z"
   },
   {
    "duration": 13,
    "start_time": "2024-08-05T11:19:57.275Z"
   },
   {
    "duration": 34,
    "start_time": "2024-08-05T11:19:57.290Z"
   },
   {
    "duration": 272,
    "start_time": "2024-08-05T11:19:57.326Z"
   },
   {
    "duration": 19,
    "start_time": "2024-08-05T11:19:57.600Z"
   },
   {
    "duration": 149,
    "start_time": "2024-08-05T11:19:57.621Z"
   },
   {
    "duration": 10,
    "start_time": "2024-08-05T11:19:57.772Z"
   },
   {
    "duration": 221,
    "start_time": "2024-08-05T11:19:57.784Z"
   },
   {
    "duration": 6,
    "start_time": "2024-08-05T11:19:58.007Z"
   },
   {
    "duration": 78,
    "start_time": "2024-08-05T11:19:58.015Z"
   },
   {
    "duration": 10,
    "start_time": "2024-08-05T11:21:32.111Z"
   },
   {
    "duration": 17,
    "start_time": "2024-08-05T11:21:44.920Z"
   },
   {
    "duration": 11,
    "start_time": "2024-08-05T11:27:03.326Z"
   },
   {
    "duration": 13,
    "start_time": "2024-08-05T11:27:10.840Z"
   },
   {
    "duration": 17,
    "start_time": "2024-08-05T12:42:12.154Z"
   },
   {
    "duration": 14,
    "start_time": "2024-08-05T12:42:34.596Z"
   },
   {
    "duration": 14,
    "start_time": "2024-08-05T12:44:32.026Z"
   },
   {
    "duration": 11,
    "start_time": "2024-08-05T12:45:23.605Z"
   },
   {
    "duration": 18,
    "start_time": "2024-08-05T12:45:28.346Z"
   },
   {
    "duration": 1598,
    "start_time": "2024-08-05T12:45:45.414Z"
   },
   {
    "duration": 90,
    "start_time": "2024-08-05T12:45:47.013Z"
   },
   {
    "duration": 16,
    "start_time": "2024-08-05T12:45:47.104Z"
   },
   {
    "duration": 7,
    "start_time": "2024-08-05T12:45:47.122Z"
   },
   {
    "duration": 22,
    "start_time": "2024-08-05T12:45:47.131Z"
   },
   {
    "duration": 11,
    "start_time": "2024-08-05T12:45:47.155Z"
   },
   {
    "duration": 5,
    "start_time": "2024-08-05T12:45:47.168Z"
   },
   {
    "duration": 37,
    "start_time": "2024-08-05T12:45:47.174Z"
   },
   {
    "duration": 16,
    "start_time": "2024-08-05T12:45:47.213Z"
   },
   {
    "duration": 15,
    "start_time": "2024-08-05T12:45:47.232Z"
   },
   {
    "duration": 62,
    "start_time": "2024-08-05T12:45:47.249Z"
   },
   {
    "duration": 48,
    "start_time": "2024-08-05T12:45:47.313Z"
   },
   {
    "duration": 69,
    "start_time": "2024-08-05T12:45:47.362Z"
   },
   {
    "duration": 5,
    "start_time": "2024-08-05T12:45:47.432Z"
   },
   {
    "duration": 84,
    "start_time": "2024-08-05T12:45:47.439Z"
   },
   {
    "duration": 17,
    "start_time": "2024-08-05T12:45:47.525Z"
   },
   {
    "duration": 15,
    "start_time": "2024-08-05T12:45:47.543Z"
   },
   {
    "duration": 199,
    "start_time": "2024-08-05T12:45:47.559Z"
   },
   {
    "duration": 286,
    "start_time": "2024-08-05T12:45:47.760Z"
   },
   {
    "duration": 10,
    "start_time": "2024-08-05T12:45:48.048Z"
   },
   {
    "duration": 22,
    "start_time": "2024-08-05T12:45:48.059Z"
   },
   {
    "duration": 268,
    "start_time": "2024-08-05T12:45:48.082Z"
   },
   {
    "duration": 8,
    "start_time": "2024-08-05T12:45:48.352Z"
   },
   {
    "duration": 168,
    "start_time": "2024-08-05T12:45:48.361Z"
   },
   {
    "duration": 25,
    "start_time": "2024-08-05T12:45:48.531Z"
   },
   {
    "duration": 71,
    "start_time": "2024-08-05T12:45:48.557Z"
   },
   {
    "duration": 11,
    "start_time": "2024-08-05T12:45:48.629Z"
   },
   {
    "duration": 81,
    "start_time": "2024-08-05T12:45:48.645Z"
   },
   {
    "duration": 285,
    "start_time": "2024-08-05T12:45:48.728Z"
   },
   {
    "duration": 7,
    "start_time": "2024-08-05T12:45:49.015Z"
   },
   {
    "duration": 30,
    "start_time": "2024-08-05T12:45:49.023Z"
   },
   {
    "duration": 96,
    "start_time": "2024-08-05T12:45:49.055Z"
   },
   {
    "duration": 89,
    "start_time": "2024-08-05T12:45:49.152Z"
   },
   {
    "duration": 10,
    "start_time": "2024-08-05T12:45:49.242Z"
   },
   {
    "duration": 207,
    "start_time": "2024-08-05T12:45:49.253Z"
   },
   {
    "duration": 348,
    "start_time": "2024-08-05T12:45:49.461Z"
   },
   {
    "duration": 11,
    "start_time": "2024-08-05T12:45:49.810Z"
   },
   {
    "duration": 60,
    "start_time": "2024-08-05T12:45:49.822Z"
   },
   {
    "duration": 3,
    "start_time": "2024-08-05T12:45:49.883Z"
   },
   {
    "duration": 10,
    "start_time": "2024-08-05T12:45:49.888Z"
   },
   {
    "duration": 9,
    "start_time": "2024-08-05T12:45:49.900Z"
   },
   {
    "duration": 19,
    "start_time": "2024-08-05T12:45:49.911Z"
   },
   {
    "duration": 89,
    "start_time": "2024-08-05T12:45:49.932Z"
   },
   {
    "duration": 10153,
    "start_time": "2024-08-05T12:45:50.022Z"
   },
   {
    "duration": 35,
    "start_time": "2024-08-05T12:46:00.176Z"
   },
   {
    "duration": 202,
    "start_time": "2024-08-05T12:46:00.213Z"
   },
   {
    "duration": 27,
    "start_time": "2024-08-05T12:46:00.416Z"
   },
   {
    "duration": 116,
    "start_time": "2024-08-05T12:46:00.445Z"
   },
   {
    "duration": 88,
    "start_time": "2024-08-05T12:46:00.563Z"
   },
   {
    "duration": 281,
    "start_time": "2024-08-05T12:46:00.652Z"
   },
   {
    "duration": 74,
    "start_time": "2024-08-05T12:46:00.935Z"
   },
   {
    "duration": 75,
    "start_time": "2024-08-05T12:46:01.011Z"
   },
   {
    "duration": 95,
    "start_time": "2024-08-05T12:46:01.087Z"
   },
   {
    "duration": 283,
    "start_time": "2024-08-05T12:46:01.184Z"
   },
   {
    "duration": 17,
    "start_time": "2024-08-05T12:46:01.469Z"
   },
   {
    "duration": 264,
    "start_time": "2024-08-05T12:46:01.488Z"
   },
   {
    "duration": 6,
    "start_time": "2024-08-05T12:46:01.754Z"
   },
   {
    "duration": 280,
    "start_time": "2024-08-05T12:46:01.762Z"
   },
   {
    "duration": 5,
    "start_time": "2024-08-05T12:46:02.043Z"
   },
   {
    "duration": 156,
    "start_time": "2024-08-05T12:46:02.050Z"
   },
   {
    "duration": 15,
    "start_time": "2024-08-05T12:46:02.207Z"
   },
   {
    "duration": 20,
    "start_time": "2024-08-05T12:46:02.224Z"
   },
   {
    "duration": 13,
    "start_time": "2024-08-05T12:47:03.526Z"
   },
   {
    "duration": 14,
    "start_time": "2024-08-05T12:47:06.253Z"
   },
   {
    "duration": 58,
    "start_time": "2024-08-05T12:47:31.353Z"
   },
   {
    "duration": 13,
    "start_time": "2024-08-05T12:47:37.806Z"
   },
   {
    "duration": 14,
    "start_time": "2024-08-05T12:47:46.076Z"
   },
   {
    "duration": 14,
    "start_time": "2024-08-05T12:47:57.841Z"
   },
   {
    "duration": 54,
    "start_time": "2024-08-06T08:20:55.768Z"
   },
   {
    "duration": 1832,
    "start_time": "2024-08-06T08:21:06.308Z"
   },
   {
    "duration": 228,
    "start_time": "2024-08-06T08:21:08.142Z"
   },
   {
    "duration": 14,
    "start_time": "2024-08-06T08:21:08.372Z"
   },
   {
    "duration": 21,
    "start_time": "2024-08-06T08:21:08.388Z"
   },
   {
    "duration": 25,
    "start_time": "2024-08-06T08:21:08.412Z"
   },
   {
    "duration": 12,
    "start_time": "2024-08-06T08:21:08.439Z"
   },
   {
    "duration": 43,
    "start_time": "2024-08-06T08:21:08.453Z"
   },
   {
    "duration": 28,
    "start_time": "2024-08-06T08:21:08.497Z"
   },
   {
    "duration": 101,
    "start_time": "2024-08-06T08:21:08.527Z"
   },
   {
    "duration": 15,
    "start_time": "2024-08-06T08:21:08.630Z"
   },
   {
    "duration": 10,
    "start_time": "2024-08-06T08:21:08.647Z"
   },
   {
    "duration": 43,
    "start_time": "2024-08-06T08:21:08.658Z"
   },
   {
    "duration": 68,
    "start_time": "2024-08-06T08:21:08.703Z"
   },
   {
    "duration": 8,
    "start_time": "2024-08-06T08:21:08.774Z"
   },
   {
    "duration": 79,
    "start_time": "2024-08-06T08:21:08.784Z"
   },
   {
    "duration": 18,
    "start_time": "2024-08-06T08:21:08.864Z"
   },
   {
    "duration": 28,
    "start_time": "2024-08-06T08:21:08.884Z"
   },
   {
    "duration": 222,
    "start_time": "2024-08-06T08:21:08.914Z"
   },
   {
    "duration": 294,
    "start_time": "2024-08-06T08:21:09.138Z"
   },
   {
    "duration": 9,
    "start_time": "2024-08-06T08:21:09.434Z"
   },
   {
    "duration": 21,
    "start_time": "2024-08-06T08:21:09.445Z"
   },
   {
    "duration": 257,
    "start_time": "2024-08-06T08:21:09.483Z"
   },
   {
    "duration": 8,
    "start_time": "2024-08-06T08:21:09.742Z"
   },
   {
    "duration": 205,
    "start_time": "2024-08-06T08:21:09.752Z"
   },
   {
    "duration": 26,
    "start_time": "2024-08-06T08:21:09.959Z"
   },
   {
    "duration": 27,
    "start_time": "2024-08-06T08:21:09.986Z"
   },
   {
    "duration": 9,
    "start_time": "2024-08-06T08:21:10.015Z"
   },
   {
    "duration": 79,
    "start_time": "2024-08-06T08:21:10.026Z"
   },
   {
    "duration": 290,
    "start_time": "2024-08-06T08:21:10.106Z"
   },
   {
    "duration": 6,
    "start_time": "2024-08-06T08:21:10.397Z"
   },
   {
    "duration": 27,
    "start_time": "2024-08-06T08:21:10.404Z"
   },
   {
    "duration": 105,
    "start_time": "2024-08-06T08:21:10.433Z"
   },
   {
    "duration": 100,
    "start_time": "2024-08-06T08:21:10.540Z"
   },
   {
    "duration": 11,
    "start_time": "2024-08-06T08:21:10.642Z"
   },
   {
    "duration": 222,
    "start_time": "2024-08-06T08:21:10.655Z"
   },
   {
    "duration": 381,
    "start_time": "2024-08-06T08:21:10.878Z"
   },
   {
    "duration": 21,
    "start_time": "2024-08-06T08:21:11.261Z"
   },
   {
    "duration": 100,
    "start_time": "2024-08-06T08:21:11.283Z"
   },
   {
    "duration": 2,
    "start_time": "2024-08-06T08:21:11.385Z"
   },
   {
    "duration": 46,
    "start_time": "2024-08-06T08:21:11.389Z"
   },
   {
    "duration": 6,
    "start_time": "2024-08-06T08:21:11.439Z"
   },
   {
    "duration": 20,
    "start_time": "2024-08-06T08:21:11.446Z"
   },
   {
    "duration": 94,
    "start_time": "2024-08-06T08:21:11.467Z"
   },
   {
    "duration": 10826,
    "start_time": "2024-08-06T08:21:11.562Z"
   },
   {
    "duration": 13,
    "start_time": "2024-08-06T08:21:22.390Z"
   },
   {
    "duration": 94,
    "start_time": "2024-08-06T08:21:22.404Z"
   },
   {
    "duration": 22,
    "start_time": "2024-08-06T08:21:22.499Z"
   },
   {
    "duration": 202,
    "start_time": "2024-08-06T08:21:22.522Z"
   },
   {
    "duration": 16,
    "start_time": "2024-08-06T08:21:22.726Z"
   },
   {
    "duration": 39,
    "start_time": "2024-08-06T08:21:22.744Z"
   },
   {
    "duration": 22,
    "start_time": "2024-08-06T08:21:22.785Z"
   },
   {
    "duration": 11,
    "start_time": "2024-08-06T08:21:22.809Z"
   },
   {
    "duration": 14,
    "start_time": "2024-08-06T08:21:22.822Z"
   },
   {
    "duration": 274,
    "start_time": "2024-08-06T08:21:22.837Z"
   },
   {
    "duration": 12,
    "start_time": "2024-08-06T08:21:23.112Z"
   },
   {
    "duration": 125,
    "start_time": "2024-08-06T08:21:23.126Z"
   },
   {
    "duration": 6,
    "start_time": "2024-08-06T08:21:23.253Z"
   },
   {
    "duration": 199,
    "start_time": "2024-08-06T08:21:23.261Z"
   },
   {
    "duration": 6,
    "start_time": "2024-08-06T08:21:23.461Z"
   },
   {
    "duration": 27,
    "start_time": "2024-08-06T08:21:23.468Z"
   },
   {
    "duration": 10,
    "start_time": "2024-08-06T08:21:23.496Z"
   },
   {
    "duration": 24,
    "start_time": "2024-08-06T08:21:23.507Z"
   },
   {
    "duration": 9,
    "start_time": "2024-08-06T08:21:23.532Z"
   },
   {
    "duration": 26,
    "start_time": "2024-08-06T08:21:37.536Z"
   },
   {
    "duration": 9,
    "start_time": "2024-08-06T08:22:05.890Z"
   },
   {
    "duration": 9,
    "start_time": "2024-08-06T08:28:39.809Z"
   },
   {
    "duration": 272,
    "start_time": "2024-08-06T08:29:39.741Z"
   },
   {
    "duration": 255,
    "start_time": "2024-08-06T08:29:48.701Z"
   },
   {
    "duration": 278,
    "start_time": "2024-08-06T08:32:03.843Z"
   },
   {
    "duration": 1691,
    "start_time": "2024-08-06T08:32:54.540Z"
   },
   {
    "duration": 1916,
    "start_time": "2024-08-06T08:35:52.398Z"
   },
   {
    "duration": 7,
    "start_time": "2024-08-06T08:36:52.640Z"
   },
   {
    "duration": 7,
    "start_time": "2024-08-06T08:37:21.664Z"
   },
   {
    "duration": 11,
    "start_time": "2024-08-06T09:44:47.854Z"
   },
   {
    "duration": 86,
    "start_time": "2024-08-06T09:48:24.591Z"
   },
   {
    "duration": 49,
    "start_time": "2024-08-06T09:57:17.860Z"
   },
   {
    "duration": 5,
    "start_time": "2024-08-06T09:57:54.201Z"
   },
   {
    "duration": 7,
    "start_time": "2024-08-06T09:58:34.732Z"
   },
   {
    "duration": 6,
    "start_time": "2024-08-06T09:59:14.961Z"
   },
   {
    "duration": 190,
    "start_time": "2024-08-06T10:11:05.779Z"
   },
   {
    "duration": 15,
    "start_time": "2024-08-06T10:11:16.733Z"
   },
   {
    "duration": 15,
    "start_time": "2024-08-06T10:16:29.803Z"
   },
   {
    "duration": 12,
    "start_time": "2024-08-06T10:16:40.600Z"
   },
   {
    "duration": 130,
    "start_time": "2024-08-06T10:16:59.680Z"
   },
   {
    "duration": 130,
    "start_time": "2024-08-06T10:52:07.491Z"
   },
   {
    "duration": 132,
    "start_time": "2024-08-06T10:52:19.795Z"
   },
   {
    "duration": 11,
    "start_time": "2024-08-06T11:00:27.392Z"
   },
   {
    "duration": 14,
    "start_time": "2024-08-06T11:10:23.469Z"
   },
   {
    "duration": 168,
    "start_time": "2024-08-06T12:03:43.821Z"
   },
   {
    "duration": 55,
    "start_time": "2024-08-07T09:10:16.213Z"
   },
   {
    "duration": 1907,
    "start_time": "2024-08-07T09:10:25.737Z"
   },
   {
    "duration": 248,
    "start_time": "2024-08-07T09:10:27.648Z"
   },
   {
    "duration": 16,
    "start_time": "2024-08-07T09:10:27.898Z"
   },
   {
    "duration": 10,
    "start_time": "2024-08-07T09:10:27.915Z"
   },
   {
    "duration": 27,
    "start_time": "2024-08-07T09:10:27.926Z"
   },
   {
    "duration": 13,
    "start_time": "2024-08-07T09:10:27.955Z"
   },
   {
    "duration": 11,
    "start_time": "2024-08-07T09:10:27.970Z"
   },
   {
    "duration": 20,
    "start_time": "2024-08-07T09:10:27.983Z"
   },
   {
    "duration": 21,
    "start_time": "2024-08-07T09:10:28.004Z"
   },
   {
    "duration": 22,
    "start_time": "2024-08-07T09:10:28.027Z"
   },
   {
    "duration": 17,
    "start_time": "2024-08-07T09:10:28.051Z"
   },
   {
    "duration": 37,
    "start_time": "2024-08-07T09:10:28.070Z"
   },
   {
    "duration": 98,
    "start_time": "2024-08-07T09:10:28.109Z"
   },
   {
    "duration": 3,
    "start_time": "2024-08-07T09:10:28.211Z"
   },
   {
    "duration": 93,
    "start_time": "2024-08-07T09:10:28.216Z"
   },
   {
    "duration": 15,
    "start_time": "2024-08-07T09:10:28.311Z"
   },
   {
    "duration": 11,
    "start_time": "2024-08-07T09:10:28.328Z"
   },
   {
    "duration": 211,
    "start_time": "2024-08-07T09:10:28.355Z"
   },
   {
    "duration": 282,
    "start_time": "2024-08-07T09:10:28.568Z"
   },
   {
    "duration": 12,
    "start_time": "2024-08-07T09:10:28.856Z"
   },
   {
    "duration": 20,
    "start_time": "2024-08-07T09:10:28.871Z"
   },
   {
    "duration": 305,
    "start_time": "2024-08-07T09:10:28.893Z"
   },
   {
    "duration": 11,
    "start_time": "2024-08-07T09:10:29.200Z"
   },
   {
    "duration": 184,
    "start_time": "2024-08-07T09:10:29.213Z"
   },
   {
    "duration": 27,
    "start_time": "2024-08-07T09:10:29.399Z"
   },
   {
    "duration": 55,
    "start_time": "2024-08-07T09:10:29.427Z"
   },
   {
    "duration": 18,
    "start_time": "2024-08-07T09:10:29.484Z"
   },
   {
    "duration": 74,
    "start_time": "2024-08-07T09:10:29.504Z"
   },
   {
    "duration": 327,
    "start_time": "2024-08-07T09:10:29.579Z"
   },
   {
    "duration": 6,
    "start_time": "2024-08-07T09:10:29.908Z"
   },
   {
    "duration": 45,
    "start_time": "2024-08-07T09:10:29.916Z"
   },
   {
    "duration": 106,
    "start_time": "2024-08-07T09:10:29.964Z"
   },
   {
    "duration": 108,
    "start_time": "2024-08-07T09:10:30.073Z"
   },
   {
    "duration": 10,
    "start_time": "2024-08-07T09:10:30.183Z"
   },
   {
    "duration": 260,
    "start_time": "2024-08-07T09:10:30.195Z"
   },
   {
    "duration": 402,
    "start_time": "2024-08-07T09:10:30.457Z"
   },
   {
    "duration": 13,
    "start_time": "2024-08-07T09:10:30.861Z"
   },
   {
    "duration": 153,
    "start_time": "2024-08-07T09:10:30.877Z"
   },
   {
    "duration": 3,
    "start_time": "2024-08-07T09:10:31.032Z"
   },
   {
    "duration": 90,
    "start_time": "2024-08-07T09:10:31.036Z"
   },
   {
    "duration": 66,
    "start_time": "2024-08-07T09:10:31.132Z"
   },
   {
    "duration": 60,
    "start_time": "2024-08-07T09:10:31.200Z"
   },
   {
    "duration": 143,
    "start_time": "2024-08-07T09:10:31.262Z"
   },
   {
    "duration": 11566,
    "start_time": "2024-08-07T09:10:31.407Z"
   },
   {
    "duration": 14,
    "start_time": "2024-08-07T09:10:42.976Z"
   },
   {
    "duration": 93,
    "start_time": "2024-08-07T09:10:42.991Z"
   },
   {
    "duration": 78,
    "start_time": "2024-08-07T09:10:43.085Z"
   },
   {
    "duration": 216,
    "start_time": "2024-08-07T09:10:43.165Z"
   },
   {
    "duration": 16,
    "start_time": "2024-08-07T09:10:43.383Z"
   },
   {
    "duration": 65,
    "start_time": "2024-08-07T09:10:43.401Z"
   },
   {
    "duration": 24,
    "start_time": "2024-08-07T09:10:43.469Z"
   },
   {
    "duration": 49,
    "start_time": "2024-08-07T09:10:43.495Z"
   },
   {
    "duration": 21,
    "start_time": "2024-08-07T09:10:43.545Z"
   },
   {
    "duration": 288,
    "start_time": "2024-08-07T09:10:43.570Z"
   },
   {
    "duration": 19,
    "start_time": "2024-08-07T09:10:43.861Z"
   },
   {
    "duration": 144,
    "start_time": "2024-08-07T09:10:43.882Z"
   },
   {
    "duration": 7,
    "start_time": "2024-08-07T09:10:44.027Z"
   },
   {
    "duration": 215,
    "start_time": "2024-08-07T09:10:44.036Z"
   },
   {
    "duration": 7,
    "start_time": "2024-08-07T09:10:44.256Z"
   },
   {
    "duration": 34,
    "start_time": "2024-08-07T09:10:44.265Z"
   },
   {
    "duration": 32,
    "start_time": "2024-08-07T09:10:44.301Z"
   },
   {
    "duration": 24,
    "start_time": "2024-08-07T09:10:44.336Z"
   },
   {
    "duration": 10,
    "start_time": "2024-08-07T09:10:44.362Z"
   },
   {
    "duration": 36,
    "start_time": "2024-08-07T09:10:44.374Z"
   },
   {
    "duration": 295,
    "start_time": "2024-08-07T09:10:44.412Z"
   },
   {
    "duration": 1739,
    "start_time": "2024-08-07T09:10:44.709Z"
   },
   {
    "duration": 11,
    "start_time": "2024-08-07T09:10:46.455Z"
   },
   {
    "duration": 11,
    "start_time": "2024-08-07T09:10:46.469Z"
   },
   {
    "duration": 147,
    "start_time": "2024-08-07T09:10:46.482Z"
   },
   {
    "duration": 6,
    "start_time": "2024-08-07T09:10:46.631Z"
   },
   {
    "duration": 35,
    "start_time": "2024-08-07T09:10:46.639Z"
   },
   {
    "duration": 204,
    "start_time": "2024-08-07T09:10:46.675Z"
   },
   {
    "duration": 8,
    "start_time": "2024-08-07T09:10:46.881Z"
   },
   {
    "duration": 21,
    "start_time": "2024-08-07T09:10:46.891Z"
   },
   {
    "duration": 132,
    "start_time": "2024-08-07T09:10:46.913Z"
   },
   {
    "duration": 20,
    "start_time": "2024-08-07T09:10:47.046Z"
   },
   {
    "duration": 193,
    "start_time": "2024-08-07T09:11:47.164Z"
   },
   {
    "duration": 12,
    "start_time": "2024-08-07T09:12:01.148Z"
   },
   {
    "duration": 10,
    "start_time": "2024-08-07T09:24:23.608Z"
   },
   {
    "duration": 522,
    "start_time": "2024-08-07T09:25:33.413Z"
   },
   {
    "duration": 17,
    "start_time": "2024-08-07T09:31:16.989Z"
   },
   {
    "duration": 10,
    "start_time": "2024-08-07T09:31:27.766Z"
   },
   {
    "duration": 1642,
    "start_time": "2024-08-07T13:27:20.640Z"
   },
   {
    "duration": 95,
    "start_time": "2024-08-07T13:27:22.283Z"
   },
   {
    "duration": 16,
    "start_time": "2024-08-07T13:27:22.379Z"
   },
   {
    "duration": 42,
    "start_time": "2024-08-07T13:27:22.397Z"
   },
   {
    "duration": 30,
    "start_time": "2024-08-07T13:27:22.440Z"
   },
   {
    "duration": 23,
    "start_time": "2024-08-07T13:27:22.472Z"
   },
   {
    "duration": 29,
    "start_time": "2024-08-07T13:27:22.497Z"
   },
   {
    "duration": 41,
    "start_time": "2024-08-07T13:27:22.528Z"
   },
   {
    "duration": 53,
    "start_time": "2024-08-07T13:27:22.571Z"
   },
   {
    "duration": 56,
    "start_time": "2024-08-07T13:27:22.628Z"
   },
   {
    "duration": 34,
    "start_time": "2024-08-07T13:27:22.686Z"
   },
   {
    "duration": 236,
    "start_time": "2024-08-07T13:27:22.722Z"
   },
   {
    "duration": 137,
    "start_time": "2024-08-07T13:27:22.960Z"
   },
   {
    "duration": 4,
    "start_time": "2024-08-07T13:27:23.099Z"
   },
   {
    "duration": 101,
    "start_time": "2024-08-07T13:27:23.104Z"
   },
   {
    "duration": 16,
    "start_time": "2024-08-07T13:27:23.207Z"
   },
   {
    "duration": 39,
    "start_time": "2024-08-07T13:27:23.224Z"
   },
   {
    "duration": 225,
    "start_time": "2024-08-07T13:27:23.264Z"
   },
   {
    "duration": 285,
    "start_time": "2024-08-07T13:27:23.491Z"
   },
   {
    "duration": 8,
    "start_time": "2024-08-07T13:27:23.778Z"
   },
   {
    "duration": 53,
    "start_time": "2024-08-07T13:27:23.788Z"
   },
   {
    "duration": 294,
    "start_time": "2024-08-07T13:27:23.842Z"
   },
   {
    "duration": 35,
    "start_time": "2024-08-07T13:27:24.138Z"
   },
   {
    "duration": 178,
    "start_time": "2024-08-07T13:27:24.174Z"
   },
   {
    "duration": 29,
    "start_time": "2024-08-07T13:27:24.354Z"
   },
   {
    "duration": 88,
    "start_time": "2024-08-07T13:27:24.385Z"
   },
   {
    "duration": 10,
    "start_time": "2024-08-07T13:27:24.475Z"
   },
   {
    "duration": 86,
    "start_time": "2024-08-07T13:27:24.489Z"
   },
   {
    "duration": 293,
    "start_time": "2024-08-07T13:27:24.577Z"
   },
   {
    "duration": 6,
    "start_time": "2024-08-07T13:27:24.872Z"
   },
   {
    "duration": 37,
    "start_time": "2024-08-07T13:27:24.880Z"
   },
   {
    "duration": 98,
    "start_time": "2024-08-07T13:27:24.919Z"
   },
   {
    "duration": 96,
    "start_time": "2024-08-07T13:27:25.019Z"
   },
   {
    "duration": 20,
    "start_time": "2024-08-07T13:27:25.117Z"
   },
   {
    "duration": 219,
    "start_time": "2024-08-07T13:27:25.139Z"
   },
   {
    "duration": 395,
    "start_time": "2024-08-07T13:27:25.360Z"
   },
   {
    "duration": 11,
    "start_time": "2024-08-07T13:27:25.757Z"
   },
   {
    "duration": 39,
    "start_time": "2024-08-07T13:27:25.769Z"
   },
   {
    "duration": 3,
    "start_time": "2024-08-07T13:27:25.810Z"
   },
   {
    "duration": 19,
    "start_time": "2024-08-07T13:27:25.815Z"
   },
   {
    "duration": 29,
    "start_time": "2024-08-07T13:27:25.836Z"
   },
   {
    "duration": 56,
    "start_time": "2024-08-07T13:27:25.867Z"
   },
   {
    "duration": 94,
    "start_time": "2024-08-07T13:27:25.925Z"
   },
   {
    "duration": 10673,
    "start_time": "2024-08-07T13:27:26.021Z"
   },
   {
    "duration": 13,
    "start_time": "2024-08-07T13:27:36.696Z"
   },
   {
    "duration": 86,
    "start_time": "2024-08-07T13:27:36.711Z"
   },
   {
    "duration": 88,
    "start_time": "2024-08-07T13:27:36.799Z"
   },
   {
    "duration": 208,
    "start_time": "2024-08-07T13:27:36.889Z"
   },
   {
    "duration": 17,
    "start_time": "2024-08-07T13:27:37.098Z"
   },
   {
    "duration": 18,
    "start_time": "2024-08-07T13:27:37.117Z"
   },
   {
    "duration": 37,
    "start_time": "2024-08-07T13:27:37.156Z"
   },
   {
    "duration": 12,
    "start_time": "2024-08-07T13:27:37.195Z"
   },
   {
    "duration": 47,
    "start_time": "2024-08-07T13:27:37.208Z"
   },
   {
    "duration": 274,
    "start_time": "2024-08-07T13:27:37.257Z"
   },
   {
    "duration": 26,
    "start_time": "2024-08-07T13:27:37.533Z"
   },
   {
    "duration": 151,
    "start_time": "2024-08-07T13:27:37.561Z"
   },
   {
    "duration": 7,
    "start_time": "2024-08-07T13:27:37.714Z"
   },
   {
    "duration": 212,
    "start_time": "2024-08-07T13:27:37.722Z"
   },
   {
    "duration": 6,
    "start_time": "2024-08-07T13:27:37.935Z"
   },
   {
    "duration": 30,
    "start_time": "2024-08-07T13:27:37.942Z"
   },
   {
    "duration": 9,
    "start_time": "2024-08-07T13:27:37.974Z"
   },
   {
    "duration": 60,
    "start_time": "2024-08-07T13:27:37.985Z"
   },
   {
    "duration": 27,
    "start_time": "2024-08-07T13:27:38.046Z"
   },
   {
    "duration": 8,
    "start_time": "2024-08-07T13:27:38.075Z"
   },
   {
    "duration": 307,
    "start_time": "2024-08-07T13:27:38.085Z"
   },
   {
    "duration": 1690,
    "start_time": "2024-08-07T13:27:38.394Z"
   },
   {
    "duration": 7,
    "start_time": "2024-08-07T13:27:40.086Z"
   },
   {
    "duration": 64,
    "start_time": "2024-08-07T13:27:40.095Z"
   },
   {
    "duration": 97,
    "start_time": "2024-08-07T13:27:40.161Z"
   },
   {
    "duration": 7,
    "start_time": "2024-08-07T13:27:40.259Z"
   },
   {
    "duration": 13,
    "start_time": "2024-08-07T13:27:40.268Z"
   },
   {
    "duration": 136,
    "start_time": "2024-08-07T13:27:40.282Z"
   },
   {
    "duration": 10,
    "start_time": "2024-08-07T13:27:40.420Z"
   },
   {
    "duration": 37,
    "start_time": "2024-08-07T13:27:40.433Z"
   },
   {
    "duration": 121,
    "start_time": "2024-08-07T13:27:40.472Z"
   },
   {
    "duration": 13,
    "start_time": "2024-08-07T13:27:40.595Z"
   },
   {
    "duration": 14,
    "start_time": "2024-08-07T13:27:40.609Z"
   },
   {
    "duration": 35,
    "start_time": "2024-08-07T13:27:40.625Z"
   },
   {
    "duration": 523,
    "start_time": "2024-08-07T13:27:40.662Z"
   },
   {
    "duration": 9,
    "start_time": "2024-08-07T13:27:41.187Z"
   },
   {
    "duration": 51,
    "start_time": "2024-08-11T11:38:28.014Z"
   },
   {
    "duration": 1700,
    "start_time": "2024-08-11T11:38:34.154Z"
   },
   {
    "duration": 313,
    "start_time": "2024-08-11T11:38:35.856Z"
   },
   {
    "duration": 15,
    "start_time": "2024-08-11T11:38:36.170Z"
   },
   {
    "duration": 11,
    "start_time": "2024-08-11T11:38:36.187Z"
   },
   {
    "duration": 15,
    "start_time": "2024-08-11T11:38:36.200Z"
   },
   {
    "duration": 11,
    "start_time": "2024-08-11T11:38:36.217Z"
   },
   {
    "duration": 11,
    "start_time": "2024-08-11T11:38:36.230Z"
   },
   {
    "duration": 9,
    "start_time": "2024-08-11T11:38:36.242Z"
   },
   {
    "duration": 7,
    "start_time": "2024-08-11T11:38:36.252Z"
   },
   {
    "duration": 41,
    "start_time": "2024-08-11T11:38:36.261Z"
   },
   {
    "duration": 9,
    "start_time": "2024-08-11T11:38:36.304Z"
   },
   {
    "duration": 32,
    "start_time": "2024-08-11T11:38:36.314Z"
   },
   {
    "duration": 85,
    "start_time": "2024-08-11T11:38:36.347Z"
   },
   {
    "duration": 4,
    "start_time": "2024-08-11T11:38:36.436Z"
   },
   {
    "duration": 75,
    "start_time": "2024-08-11T11:38:36.441Z"
   },
   {
    "duration": 14,
    "start_time": "2024-08-11T11:38:36.518Z"
   },
   {
    "duration": 12,
    "start_time": "2024-08-11T11:38:36.534Z"
   },
   {
    "duration": 205,
    "start_time": "2024-08-11T11:38:36.547Z"
   },
   {
    "duration": 270,
    "start_time": "2024-08-11T11:38:36.754Z"
   },
   {
    "duration": 8,
    "start_time": "2024-08-11T11:38:37.026Z"
   },
   {
    "duration": 24,
    "start_time": "2024-08-11T11:38:37.035Z"
   },
   {
    "duration": 250,
    "start_time": "2024-08-11T11:38:37.060Z"
   },
   {
    "duration": 10,
    "start_time": "2024-08-11T11:38:37.311Z"
   },
   {
    "duration": 161,
    "start_time": "2024-08-11T11:38:37.323Z"
   },
   {
    "duration": 34,
    "start_time": "2024-08-11T11:38:37.486Z"
   },
   {
    "duration": 79,
    "start_time": "2024-08-11T11:38:37.521Z"
   },
   {
    "duration": 8,
    "start_time": "2024-08-11T11:38:37.602Z"
   },
   {
    "duration": 30,
    "start_time": "2024-08-11T11:38:37.611Z"
   },
   {
    "duration": 289,
    "start_time": "2024-08-11T11:38:37.642Z"
   },
   {
    "duration": 6,
    "start_time": "2024-08-11T11:38:37.932Z"
   },
   {
    "duration": 25,
    "start_time": "2024-08-11T11:38:37.939Z"
   },
   {
    "duration": 97,
    "start_time": "2024-08-11T11:38:37.965Z"
   },
   {
    "duration": 94,
    "start_time": "2024-08-11T11:38:38.063Z"
   },
   {
    "duration": 10,
    "start_time": "2024-08-11T11:38:38.159Z"
   },
   {
    "duration": 204,
    "start_time": "2024-08-11T11:38:38.170Z"
   },
   {
    "duration": 342,
    "start_time": "2024-08-11T11:38:38.376Z"
   },
   {
    "duration": 11,
    "start_time": "2024-08-11T11:38:38.719Z"
   },
   {
    "duration": 213,
    "start_time": "2024-08-11T11:38:38.732Z"
   },
   {
    "duration": 2,
    "start_time": "2024-08-11T11:38:38.947Z"
   },
   {
    "duration": 3,
    "start_time": "2024-08-11T11:38:38.951Z"
   },
   {
    "duration": 6,
    "start_time": "2024-08-11T11:38:38.959Z"
   },
   {
    "duration": 48,
    "start_time": "2024-08-11T11:38:38.967Z"
   },
   {
    "duration": 88,
    "start_time": "2024-08-11T11:38:39.017Z"
   },
   {
    "duration": 10080,
    "start_time": "2024-08-11T11:38:39.106Z"
   },
   {
    "duration": 12,
    "start_time": "2024-08-11T11:38:49.196Z"
   },
   {
    "duration": 87,
    "start_time": "2024-08-11T11:38:49.210Z"
   },
   {
    "duration": 21,
    "start_time": "2024-08-11T11:38:49.299Z"
   },
   {
    "duration": 179,
    "start_time": "2024-08-11T11:38:49.322Z"
   },
   {
    "duration": 16,
    "start_time": "2024-08-11T11:38:49.502Z"
   },
   {
    "duration": 11,
    "start_time": "2024-08-11T11:38:49.520Z"
   },
   {
    "duration": 65,
    "start_time": "2024-08-11T11:38:49.532Z"
   },
   {
    "duration": 39,
    "start_time": "2024-08-11T11:38:49.599Z"
   },
   {
    "duration": 26,
    "start_time": "2024-08-11T11:38:49.639Z"
   },
   {
    "duration": 244,
    "start_time": "2024-08-11T11:38:49.667Z"
   },
   {
    "duration": 11,
    "start_time": "2024-08-11T11:38:49.913Z"
   },
   {
    "duration": 130,
    "start_time": "2024-08-11T11:38:49.926Z"
   },
   {
    "duration": 7,
    "start_time": "2024-08-11T11:38:50.058Z"
   },
   {
    "duration": 196,
    "start_time": "2024-08-11T11:38:50.067Z"
   },
   {
    "duration": 4,
    "start_time": "2024-08-11T11:38:50.265Z"
   },
   {
    "duration": 27,
    "start_time": "2024-08-11T11:38:50.271Z"
   },
   {
    "duration": 22,
    "start_time": "2024-08-11T11:38:50.300Z"
   },
   {
    "duration": 13,
    "start_time": "2024-08-11T11:38:50.324Z"
   },
   {
    "duration": 29,
    "start_time": "2024-08-11T11:38:50.339Z"
   },
   {
    "duration": 13,
    "start_time": "2024-08-11T11:38:50.369Z"
   },
   {
    "duration": 251,
    "start_time": "2024-08-11T11:38:50.384Z"
   },
   {
    "duration": 1583,
    "start_time": "2024-08-11T11:38:50.636Z"
   },
   {
    "duration": 6,
    "start_time": "2024-08-11T11:38:52.221Z"
   },
   {
    "duration": 11,
    "start_time": "2024-08-11T11:38:52.228Z"
   },
   {
    "duration": 116,
    "start_time": "2024-08-11T11:38:52.240Z"
   },
   {
    "duration": 5,
    "start_time": "2024-08-11T11:38:52.358Z"
   },
   {
    "duration": 18,
    "start_time": "2024-08-11T11:38:52.365Z"
   },
   {
    "duration": 132,
    "start_time": "2024-08-11T11:38:52.396Z"
   },
   {
    "duration": 7,
    "start_time": "2024-08-11T11:38:52.530Z"
   },
   {
    "duration": 19,
    "start_time": "2024-08-11T11:38:52.539Z"
   },
   {
    "duration": 126,
    "start_time": "2024-08-11T11:38:52.560Z"
   },
   {
    "duration": 12,
    "start_time": "2024-08-11T11:38:52.696Z"
   },
   {
    "duration": 10,
    "start_time": "2024-08-11T11:38:52.710Z"
   },
   {
    "duration": 7,
    "start_time": "2024-08-11T11:38:52.722Z"
   },
   {
    "duration": 520,
    "start_time": "2024-08-11T11:38:52.731Z"
   },
   {
    "duration": 8,
    "start_time": "2024-08-11T11:38:53.252Z"
   },
   {
    "duration": 170,
    "start_time": "2024-08-11T11:39:08.499Z"
   },
   {
    "duration": 15,
    "start_time": "2024-08-11T14:10:41.977Z"
   },
   {
    "duration": 50,
    "start_time": "2024-08-12T15:44:07.183Z"
   },
   {
    "duration": 1709,
    "start_time": "2024-08-12T15:44:21.306Z"
   },
   {
    "duration": 243,
    "start_time": "2024-08-12T15:44:23.019Z"
   },
   {
    "duration": 15,
    "start_time": "2024-08-12T15:44:23.263Z"
   },
   {
    "duration": 11,
    "start_time": "2024-08-12T15:44:23.280Z"
   },
   {
    "duration": 26,
    "start_time": "2024-08-12T15:44:23.293Z"
   },
   {
    "duration": 12,
    "start_time": "2024-08-12T15:44:23.320Z"
   },
   {
    "duration": 8,
    "start_time": "2024-08-12T15:44:23.333Z"
   },
   {
    "duration": 10,
    "start_time": "2024-08-12T15:44:23.343Z"
   },
   {
    "duration": 9,
    "start_time": "2024-08-12T15:44:23.355Z"
   },
   {
    "duration": 32,
    "start_time": "2024-08-12T15:44:23.368Z"
   },
   {
    "duration": 20,
    "start_time": "2024-08-12T15:44:23.402Z"
   },
   {
    "duration": 40,
    "start_time": "2024-08-12T15:44:23.424Z"
   },
   {
    "duration": 68,
    "start_time": "2024-08-12T15:44:23.466Z"
   },
   {
    "duration": 3,
    "start_time": "2024-08-12T15:44:23.536Z"
   },
   {
    "duration": 81,
    "start_time": "2024-08-12T15:44:23.541Z"
   },
   {
    "duration": 17,
    "start_time": "2024-08-12T15:44:23.624Z"
   },
   {
    "duration": 17,
    "start_time": "2024-08-12T15:44:23.643Z"
   },
   {
    "duration": 213,
    "start_time": "2024-08-12T15:44:23.662Z"
   },
   {
    "duration": 332,
    "start_time": "2024-08-12T15:44:23.876Z"
   },
   {
    "duration": 9,
    "start_time": "2024-08-12T15:44:24.218Z"
   },
   {
    "duration": 23,
    "start_time": "2024-08-12T15:44:24.228Z"
   },
   {
    "duration": 187,
    "start_time": "2024-08-12T15:44:24.253Z"
   },
   {
    "duration": 9,
    "start_time": "2024-08-12T15:44:24.442Z"
   },
   {
    "duration": 179,
    "start_time": "2024-08-12T15:44:24.452Z"
   },
   {
    "duration": 34,
    "start_time": "2024-08-12T15:44:24.633Z"
   },
   {
    "duration": 72,
    "start_time": "2024-08-12T15:44:24.669Z"
   },
   {
    "duration": 9,
    "start_time": "2024-08-12T15:44:24.742Z"
   },
   {
    "duration": 89,
    "start_time": "2024-08-12T15:44:24.758Z"
   },
   {
    "duration": 291,
    "start_time": "2024-08-12T15:44:24.849Z"
   },
   {
    "duration": 8,
    "start_time": "2024-08-12T15:44:25.142Z"
   },
   {
    "duration": 26,
    "start_time": "2024-08-12T15:44:25.151Z"
   },
   {
    "duration": 100,
    "start_time": "2024-08-12T15:44:25.179Z"
   },
   {
    "duration": 12,
    "start_time": "2024-08-12T15:44:25.281Z"
   },
   {
    "duration": 202,
    "start_time": "2024-08-12T15:44:25.294Z"
   },
   {
    "duration": 380,
    "start_time": "2024-08-12T15:44:25.498Z"
   },
   {
    "duration": 13,
    "start_time": "2024-08-12T15:44:25.880Z"
   },
   {
    "duration": 79,
    "start_time": "2024-08-12T15:44:25.895Z"
   },
   {
    "duration": 3,
    "start_time": "2024-08-12T15:44:25.976Z"
   },
   {
    "duration": 4,
    "start_time": "2024-08-12T15:44:25.981Z"
   },
   {
    "duration": 7,
    "start_time": "2024-08-12T15:44:25.986Z"
   },
   {
    "duration": 19,
    "start_time": "2024-08-12T15:44:25.994Z"
   },
   {
    "duration": 90,
    "start_time": "2024-08-12T15:44:26.014Z"
   },
   {
    "duration": 10066,
    "start_time": "2024-08-12T15:44:26.105Z"
   },
   {
    "duration": 12,
    "start_time": "2024-08-12T15:44:36.172Z"
   },
   {
    "duration": 58,
    "start_time": "2024-08-12T15:44:36.185Z"
   },
   {
    "duration": 20,
    "start_time": "2024-08-12T15:44:36.245Z"
   },
   {
    "duration": 132,
    "start_time": "2024-08-12T15:44:36.318Z"
   },
   {
    "duration": 69,
    "start_time": "2024-08-12T15:44:36.451Z"
   },
   {
    "duration": 10,
    "start_time": "2024-08-12T15:44:36.522Z"
   },
   {
    "duration": 13,
    "start_time": "2024-08-12T15:44:36.533Z"
   },
   {
    "duration": 14,
    "start_time": "2024-08-12T15:44:36.548Z"
   },
   {
    "duration": 15,
    "start_time": "2024-08-12T15:44:36.564Z"
   },
   {
    "duration": 269,
    "start_time": "2024-08-12T15:44:36.580Z"
   },
   {
    "duration": 12,
    "start_time": "2024-08-12T15:44:36.850Z"
   },
   {
    "duration": 118,
    "start_time": "2024-08-12T15:44:36.864Z"
   },
   {
    "duration": 7,
    "start_time": "2024-08-12T15:44:36.984Z"
   },
   {
    "duration": 200,
    "start_time": "2024-08-12T15:44:36.992Z"
   },
   {
    "duration": 5,
    "start_time": "2024-08-12T15:44:37.193Z"
   },
   {
    "duration": 27,
    "start_time": "2024-08-12T15:44:37.200Z"
   },
   {
    "duration": 11,
    "start_time": "2024-08-12T15:44:37.228Z"
   },
   {
    "duration": 20,
    "start_time": "2024-08-12T15:44:37.240Z"
   },
   {
    "duration": 18,
    "start_time": "2024-08-12T15:44:37.262Z"
   },
   {
    "duration": 13,
    "start_time": "2024-08-12T15:44:37.281Z"
   },
   {
    "duration": 267,
    "start_time": "2024-08-12T15:44:37.295Z"
   },
   {
    "duration": 1594,
    "start_time": "2024-08-12T15:44:37.564Z"
   },
   {
    "duration": 7,
    "start_time": "2024-08-12T15:44:39.160Z"
   },
   {
    "duration": 9,
    "start_time": "2024-08-12T15:44:39.168Z"
   },
   {
    "duration": 117,
    "start_time": "2024-08-12T15:44:39.178Z"
   },
   {
    "duration": 25,
    "start_time": "2024-08-12T15:44:39.297Z"
   },
   {
    "duration": 21,
    "start_time": "2024-08-12T15:44:39.324Z"
   },
   {
    "duration": 118,
    "start_time": "2024-08-12T15:44:39.347Z"
   },
   {
    "duration": 8,
    "start_time": "2024-08-12T15:44:39.467Z"
   },
   {
    "duration": 41,
    "start_time": "2024-08-12T15:44:39.477Z"
   },
   {
    "duration": 319,
    "start_time": "2024-08-12T15:44:39.520Z"
   },
   {
    "duration": 12,
    "start_time": "2024-08-12T15:44:39.840Z"
   },
   {
    "duration": 10,
    "start_time": "2024-08-12T15:44:39.854Z"
   },
   {
    "duration": 8,
    "start_time": "2024-08-12T15:44:39.865Z"
   },
   {
    "duration": 347,
    "start_time": "2024-08-12T15:44:39.874Z"
   },
   {
    "duration": 7,
    "start_time": "2024-08-12T15:44:40.223Z"
   },
   {
    "duration": 303,
    "start_time": "2024-08-12T15:45:39.416Z"
   },
   {
    "duration": 250,
    "start_time": "2024-08-12T15:45:49.559Z"
   },
   {
    "duration": 222,
    "start_time": "2024-08-12T15:45:59.361Z"
   },
   {
    "duration": 1724,
    "start_time": "2024-08-13T13:01:08.019Z"
   },
   {
    "duration": 273,
    "start_time": "2024-08-13T13:01:09.745Z"
   },
   {
    "duration": 15,
    "start_time": "2024-08-13T13:01:10.019Z"
   },
   {
    "duration": 17,
    "start_time": "2024-08-13T13:01:10.036Z"
   },
   {
    "duration": 22,
    "start_time": "2024-08-13T13:01:10.055Z"
   },
   {
    "duration": 12,
    "start_time": "2024-08-13T13:01:10.079Z"
   },
   {
    "duration": 5,
    "start_time": "2024-08-13T13:01:10.092Z"
   },
   {
    "duration": 12,
    "start_time": "2024-08-13T13:01:10.098Z"
   },
   {
    "duration": 7,
    "start_time": "2024-08-13T13:01:10.111Z"
   },
   {
    "duration": 18,
    "start_time": "2024-08-13T13:01:10.121Z"
   },
   {
    "duration": 9,
    "start_time": "2024-08-13T13:01:10.152Z"
   },
   {
    "duration": 31,
    "start_time": "2024-08-13T13:01:10.163Z"
   },
   {
    "duration": 84,
    "start_time": "2024-08-13T13:01:10.195Z"
   },
   {
    "duration": 4,
    "start_time": "2024-08-13T13:01:10.280Z"
   },
   {
    "duration": 85,
    "start_time": "2024-08-13T13:01:10.286Z"
   },
   {
    "duration": 14,
    "start_time": "2024-08-13T13:01:10.373Z"
   },
   {
    "duration": 11,
    "start_time": "2024-08-13T13:01:10.388Z"
   },
   {
    "duration": 188,
    "start_time": "2024-08-13T13:01:10.401Z"
   },
   {
    "duration": 266,
    "start_time": "2024-08-13T13:01:10.591Z"
   },
   {
    "duration": 9,
    "start_time": "2024-08-13T13:01:10.858Z"
   },
   {
    "duration": 14,
    "start_time": "2024-08-13T13:01:10.868Z"
   },
   {
    "duration": 252,
    "start_time": "2024-08-13T13:01:10.883Z"
   },
   {
    "duration": 16,
    "start_time": "2024-08-13T13:01:11.137Z"
   },
   {
    "duration": 249,
    "start_time": "2024-08-13T13:01:11.155Z"
   },
   {
    "duration": 23,
    "start_time": "2024-08-13T13:01:11.405Z"
   },
   {
    "duration": 45,
    "start_time": "2024-08-13T13:01:11.430Z"
   },
   {
    "duration": 8,
    "start_time": "2024-08-13T13:01:11.476Z"
   },
   {
    "duration": 78,
    "start_time": "2024-08-13T13:01:11.488Z"
   },
   {
    "duration": 237,
    "start_time": "2024-08-13T13:01:11.567Z"
   },
   {
    "duration": 6,
    "start_time": "2024-08-13T13:01:11.805Z"
   },
   {
    "duration": 25,
    "start_time": "2024-08-13T13:01:11.812Z"
   },
   {
    "duration": 74,
    "start_time": "2024-08-13T13:01:11.853Z"
   },
   {
    "duration": 24,
    "start_time": "2024-08-13T13:01:11.929Z"
   },
   {
    "duration": 189,
    "start_time": "2024-08-13T13:01:11.954Z"
   },
   {
    "duration": 355,
    "start_time": "2024-08-13T13:01:12.145Z"
   },
   {
    "duration": 11,
    "start_time": "2024-08-13T13:01:12.501Z"
   },
   {
    "duration": 151,
    "start_time": "2024-08-13T13:01:12.514Z"
   },
   {
    "duration": 2,
    "start_time": "2024-08-13T13:01:12.667Z"
   },
   {
    "duration": 16,
    "start_time": "2024-08-13T13:01:12.670Z"
   },
   {
    "duration": 7,
    "start_time": "2024-08-13T13:01:12.688Z"
   },
   {
    "duration": 17,
    "start_time": "2024-08-13T13:01:12.697Z"
   },
   {
    "duration": 86,
    "start_time": "2024-08-13T13:01:12.716Z"
   },
   {
    "duration": 9784,
    "start_time": "2024-08-13T13:01:12.804Z"
   },
   {
    "duration": 12,
    "start_time": "2024-08-13T13:01:22.590Z"
   },
   {
    "duration": 76,
    "start_time": "2024-08-13T13:01:22.604Z"
   },
   {
    "duration": 74,
    "start_time": "2024-08-13T13:01:22.681Z"
   },
   {
    "duration": 130,
    "start_time": "2024-08-13T13:01:22.757Z"
   },
   {
    "duration": 64,
    "start_time": "2024-08-13T13:01:22.889Z"
   },
   {
    "duration": 10,
    "start_time": "2024-08-13T13:01:22.955Z"
   },
   {
    "duration": 12,
    "start_time": "2024-08-13T13:01:22.967Z"
   },
   {
    "duration": 11,
    "start_time": "2024-08-13T13:01:22.980Z"
   },
   {
    "duration": 12,
    "start_time": "2024-08-13T13:01:22.993Z"
   },
   {
    "duration": 286,
    "start_time": "2024-08-13T13:01:23.007Z"
   },
   {
    "duration": 12,
    "start_time": "2024-08-13T13:01:23.295Z"
   },
   {
    "duration": 177,
    "start_time": "2024-08-13T13:01:23.308Z"
   },
   {
    "duration": 6,
    "start_time": "2024-08-13T13:01:23.487Z"
   },
   {
    "duration": 184,
    "start_time": "2024-08-13T13:01:23.495Z"
   },
   {
    "duration": 6,
    "start_time": "2024-08-13T13:01:23.680Z"
   },
   {
    "duration": 45,
    "start_time": "2024-08-13T13:01:23.687Z"
   },
   {
    "duration": 14,
    "start_time": "2024-08-13T13:01:23.734Z"
   },
   {
    "duration": 19,
    "start_time": "2024-08-13T13:01:23.750Z"
   },
   {
    "duration": 26,
    "start_time": "2024-08-13T13:01:23.770Z"
   },
   {
    "duration": 9,
    "start_time": "2024-08-13T13:01:23.798Z"
   },
   {
    "duration": 278,
    "start_time": "2024-08-13T13:01:23.808Z"
   },
   {
    "duration": 1515,
    "start_time": "2024-08-13T13:01:24.087Z"
   },
   {
    "duration": 6,
    "start_time": "2024-08-13T13:01:25.603Z"
   },
   {
    "duration": 94,
    "start_time": "2024-08-13T13:01:25.611Z"
   },
   {
    "duration": 91,
    "start_time": "2024-08-13T13:01:25.706Z"
   },
   {
    "duration": 6,
    "start_time": "2024-08-13T13:01:25.798Z"
   },
   {
    "duration": 12,
    "start_time": "2024-08-13T13:01:25.805Z"
   },
   {
    "duration": 125,
    "start_time": "2024-08-13T13:01:25.819Z"
   },
   {
    "duration": 13,
    "start_time": "2024-08-13T13:01:25.945Z"
   },
   {
    "duration": 24,
    "start_time": "2024-08-13T13:01:25.959Z"
   },
   {
    "duration": 116,
    "start_time": "2024-08-13T13:01:25.984Z"
   },
   {
    "duration": 10,
    "start_time": "2024-08-13T13:01:26.101Z"
   },
   {
    "duration": 13,
    "start_time": "2024-08-13T13:01:26.113Z"
   },
   {
    "duration": 26,
    "start_time": "2024-08-13T13:01:26.127Z"
   },
   {
    "duration": 461,
    "start_time": "2024-08-13T13:01:26.155Z"
   },
   {
    "duration": 6,
    "start_time": "2024-08-13T13:01:26.618Z"
   },
   {
    "duration": 1573,
    "start_time": "2024-08-13T13:28:50.085Z"
   },
   {
    "duration": 88,
    "start_time": "2024-08-13T13:28:51.660Z"
   },
   {
    "duration": 14,
    "start_time": "2024-08-13T13:28:51.749Z"
   },
   {
    "duration": 62,
    "start_time": "2024-08-13T13:28:51.765Z"
   },
   {
    "duration": 27,
    "start_time": "2024-08-13T13:28:51.829Z"
   },
   {
    "duration": 11,
    "start_time": "2024-08-13T13:28:51.858Z"
   },
   {
    "duration": 5,
    "start_time": "2024-08-13T13:28:51.871Z"
   },
   {
    "duration": 10,
    "start_time": "2024-08-13T13:28:51.878Z"
   },
   {
    "duration": 13,
    "start_time": "2024-08-13T13:28:51.890Z"
   },
   {
    "duration": 47,
    "start_time": "2024-08-13T13:28:51.905Z"
   },
   {
    "duration": 9,
    "start_time": "2024-08-13T13:28:51.954Z"
   },
   {
    "duration": 92,
    "start_time": "2024-08-13T13:28:51.964Z"
   },
   {
    "duration": 76,
    "start_time": "2024-08-13T13:28:52.058Z"
   },
   {
    "duration": 15,
    "start_time": "2024-08-13T13:28:52.137Z"
   },
   {
    "duration": 64,
    "start_time": "2024-08-13T13:28:52.153Z"
   },
   {
    "duration": 14,
    "start_time": "2024-08-13T13:28:52.218Z"
   },
   {
    "duration": 23,
    "start_time": "2024-08-13T13:28:52.234Z"
   },
   {
    "duration": 203,
    "start_time": "2024-08-13T13:28:52.259Z"
   },
   {
    "duration": 264,
    "start_time": "2024-08-13T13:28:52.464Z"
   },
   {
    "duration": 8,
    "start_time": "2024-08-13T13:28:52.730Z"
   },
   {
    "duration": 14,
    "start_time": "2024-08-13T13:28:52.751Z"
   },
   {
    "duration": 246,
    "start_time": "2024-08-13T13:28:52.766Z"
   },
   {
    "duration": 8,
    "start_time": "2024-08-13T13:28:53.014Z"
   },
   {
    "duration": 256,
    "start_time": "2024-08-13T13:28:53.023Z"
   },
   {
    "duration": 25,
    "start_time": "2024-08-13T13:28:53.280Z"
   },
   {
    "duration": 67,
    "start_time": "2024-08-13T13:28:53.306Z"
   },
   {
    "duration": 8,
    "start_time": "2024-08-13T13:28:53.374Z"
   },
   {
    "duration": 75,
    "start_time": "2024-08-13T13:28:53.384Z"
   },
   {
    "duration": 258,
    "start_time": "2024-08-13T13:28:53.461Z"
   },
   {
    "duration": 7,
    "start_time": "2024-08-13T13:28:53.720Z"
   },
   {
    "duration": 40,
    "start_time": "2024-08-13T13:28:53.728Z"
   },
   {
    "duration": 94,
    "start_time": "2024-08-13T13:28:53.769Z"
   },
   {
    "duration": 16,
    "start_time": "2024-08-13T13:28:53.866Z"
   },
   {
    "duration": 234,
    "start_time": "2024-08-13T13:28:53.885Z"
   },
   {
    "duration": 349,
    "start_time": "2024-08-13T13:28:54.121Z"
   },
   {
    "duration": 11,
    "start_time": "2024-08-13T13:28:54.471Z"
   },
   {
    "duration": 36,
    "start_time": "2024-08-13T13:28:54.484Z"
   },
   {
    "duration": 3,
    "start_time": "2024-08-13T13:28:54.522Z"
   },
   {
    "duration": 6,
    "start_time": "2024-08-13T13:28:54.526Z"
   },
   {
    "duration": 6,
    "start_time": "2024-08-13T13:28:54.534Z"
   },
   {
    "duration": 18,
    "start_time": "2024-08-13T13:28:54.553Z"
   },
   {
    "duration": 100,
    "start_time": "2024-08-13T13:28:54.573Z"
   },
   {
    "duration": 9980,
    "start_time": "2024-08-13T13:28:54.674Z"
   },
   {
    "duration": 12,
    "start_time": "2024-08-13T13:29:04.657Z"
   },
   {
    "duration": 83,
    "start_time": "2024-08-13T13:29:04.671Z"
   },
   {
    "duration": 22,
    "start_time": "2024-08-13T13:29:04.755Z"
   },
   {
    "duration": 183,
    "start_time": "2024-08-13T13:29:04.779Z"
   },
   {
    "duration": 15,
    "start_time": "2024-08-13T13:29:04.964Z"
   },
   {
    "duration": 12,
    "start_time": "2024-08-13T13:29:04.981Z"
   },
   {
    "duration": 67,
    "start_time": "2024-08-13T13:29:04.994Z"
   },
   {
    "duration": 11,
    "start_time": "2024-08-13T13:29:05.062Z"
   },
   {
    "duration": 28,
    "start_time": "2024-08-13T13:29:05.075Z"
   },
   {
    "duration": 261,
    "start_time": "2024-08-13T13:29:05.104Z"
   },
   {
    "duration": 11,
    "start_time": "2024-08-13T13:29:05.367Z"
   },
   {
    "duration": 123,
    "start_time": "2024-08-13T13:29:05.379Z"
   },
   {
    "duration": 7,
    "start_time": "2024-08-13T13:29:05.503Z"
   },
   {
    "duration": 202,
    "start_time": "2024-08-13T13:29:05.511Z"
   },
   {
    "duration": 5,
    "start_time": "2024-08-13T13:29:05.715Z"
   },
   {
    "duration": 32,
    "start_time": "2024-08-13T13:29:05.721Z"
   },
   {
    "duration": 11,
    "start_time": "2024-08-13T13:29:05.754Z"
   },
   {
    "duration": 111,
    "start_time": "2024-08-13T13:29:05.766Z"
   },
   {
    "duration": 53,
    "start_time": "2024-08-13T13:29:05.879Z"
   },
   {
    "duration": 77,
    "start_time": "2024-08-13T13:29:05.934Z"
   },
   {
    "duration": 240,
    "start_time": "2024-08-13T13:29:39.827Z"
   },
   {
    "duration": 1644,
    "start_time": "2024-08-13T13:29:40.069Z"
   },
   {
    "duration": 6,
    "start_time": "2024-08-13T13:29:41.715Z"
   },
   {
    "duration": 7,
    "start_time": "2024-08-13T13:29:41.723Z"
   },
   {
    "duration": 129,
    "start_time": "2024-08-13T13:29:41.752Z"
   },
   {
    "duration": 6,
    "start_time": "2024-08-13T13:29:41.882Z"
   },
   {
    "duration": 14,
    "start_time": "2024-08-13T13:29:41.890Z"
   },
   {
    "duration": 135,
    "start_time": "2024-08-13T13:29:41.906Z"
   },
   {
    "duration": 10,
    "start_time": "2024-08-13T13:29:42.043Z"
   },
   {
    "duration": 12,
    "start_time": "2024-08-13T13:29:42.055Z"
   },
   {
    "duration": 136,
    "start_time": "2024-08-13T13:29:42.069Z"
   },
   {
    "duration": 10,
    "start_time": "2024-08-13T13:29:42.206Z"
   },
   {
    "duration": 9,
    "start_time": "2024-08-13T13:29:42.218Z"
   },
   {
    "duration": 9,
    "start_time": "2024-08-13T13:29:42.251Z"
   },
   {
    "duration": 516,
    "start_time": "2024-08-13T13:29:42.261Z"
   },
   {
    "duration": 7,
    "start_time": "2024-08-13T13:29:42.778Z"
   },
   {
    "duration": 72,
    "start_time": "2024-08-14T05:43:02.511Z"
   },
   {
    "duration": 1669,
    "start_time": "2024-08-14T05:52:47.984Z"
   },
   {
    "duration": 284,
    "start_time": "2024-08-14T05:52:49.655Z"
   },
   {
    "duration": 14,
    "start_time": "2024-08-14T05:52:49.941Z"
   },
   {
    "duration": 6,
    "start_time": "2024-08-14T05:52:49.958Z"
   },
   {
    "duration": 17,
    "start_time": "2024-08-14T05:52:49.965Z"
   },
   {
    "duration": 11,
    "start_time": "2024-08-14T05:52:49.983Z"
   },
   {
    "duration": 17,
    "start_time": "2024-08-14T05:52:49.996Z"
   },
   {
    "duration": 13,
    "start_time": "2024-08-14T05:52:50.014Z"
   },
   {
    "duration": 9,
    "start_time": "2024-08-14T05:52:50.028Z"
   },
   {
    "duration": 14,
    "start_time": "2024-08-14T05:52:50.039Z"
   },
   {
    "duration": 9,
    "start_time": "2024-08-14T05:52:50.054Z"
   },
   {
    "duration": 61,
    "start_time": "2024-08-14T05:52:50.064Z"
   },
   {
    "duration": 72,
    "start_time": "2024-08-14T05:52:50.127Z"
   },
   {
    "duration": 8,
    "start_time": "2024-08-14T05:52:50.202Z"
   },
   {
    "duration": 88,
    "start_time": "2024-08-14T05:52:50.211Z"
   },
   {
    "duration": 15,
    "start_time": "2024-08-14T05:52:50.300Z"
   },
   {
    "duration": 12,
    "start_time": "2024-08-14T05:52:50.316Z"
   },
   {
    "duration": 194,
    "start_time": "2024-08-14T05:52:50.329Z"
   },
   {
    "duration": 273,
    "start_time": "2024-08-14T05:52:50.525Z"
   },
   {
    "duration": 9,
    "start_time": "2024-08-14T05:52:50.799Z"
   },
   {
    "duration": 14,
    "start_time": "2024-08-14T05:52:50.810Z"
   },
   {
    "duration": 289,
    "start_time": "2024-08-14T05:52:50.826Z"
   },
   {
    "duration": 12,
    "start_time": "2024-08-14T05:52:51.116Z"
   },
   {
    "duration": 192,
    "start_time": "2024-08-14T05:52:51.130Z"
   },
   {
    "duration": 25,
    "start_time": "2024-08-14T05:52:51.324Z"
   },
   {
    "duration": 42,
    "start_time": "2024-08-14T05:52:51.350Z"
   },
   {
    "duration": 8,
    "start_time": "2024-08-14T05:52:51.394Z"
   },
   {
    "duration": 76,
    "start_time": "2024-08-14T05:52:51.406Z"
   },
   {
    "duration": 237,
    "start_time": "2024-08-14T05:52:51.484Z"
   },
   {
    "duration": 7,
    "start_time": "2024-08-14T05:52:51.723Z"
   },
   {
    "duration": 30,
    "start_time": "2024-08-14T05:52:51.732Z"
   },
   {
    "duration": 98,
    "start_time": "2024-08-14T05:52:51.763Z"
   },
   {
    "duration": 26,
    "start_time": "2024-08-14T05:52:51.866Z"
   },
   {
    "duration": 190,
    "start_time": "2024-08-14T05:52:51.894Z"
   },
   {
    "duration": 0,
    "start_time": "2024-08-14T05:52:52.085Z"
   },
   {
    "duration": 0,
    "start_time": "2024-08-14T05:52:52.086Z"
   },
   {
    "duration": 0,
    "start_time": "2024-08-14T05:52:52.087Z"
   },
   {
    "duration": 0,
    "start_time": "2024-08-14T05:52:52.088Z"
   },
   {
    "duration": 0,
    "start_time": "2024-08-14T05:52:52.089Z"
   },
   {
    "duration": 0,
    "start_time": "2024-08-14T05:52:52.090Z"
   },
   {
    "duration": 0,
    "start_time": "2024-08-14T05:52:52.091Z"
   },
   {
    "duration": 0,
    "start_time": "2024-08-14T05:52:52.092Z"
   },
   {
    "duration": 0,
    "start_time": "2024-08-14T05:52:52.093Z"
   },
   {
    "duration": 0,
    "start_time": "2024-08-14T05:52:52.094Z"
   },
   {
    "duration": 0,
    "start_time": "2024-08-14T05:52:52.095Z"
   },
   {
    "duration": 0,
    "start_time": "2024-08-14T05:52:52.096Z"
   },
   {
    "duration": 0,
    "start_time": "2024-08-14T05:52:52.098Z"
   },
   {
    "duration": 0,
    "start_time": "2024-08-14T05:52:52.099Z"
   },
   {
    "duration": 0,
    "start_time": "2024-08-14T05:52:52.100Z"
   },
   {
    "duration": 0,
    "start_time": "2024-08-14T05:52:52.102Z"
   },
   {
    "duration": 0,
    "start_time": "2024-08-14T05:52:52.104Z"
   },
   {
    "duration": 0,
    "start_time": "2024-08-14T05:52:52.105Z"
   },
   {
    "duration": 0,
    "start_time": "2024-08-14T05:52:52.106Z"
   },
   {
    "duration": 0,
    "start_time": "2024-08-14T05:52:52.107Z"
   },
   {
    "duration": 0,
    "start_time": "2024-08-14T05:52:52.108Z"
   },
   {
    "duration": 0,
    "start_time": "2024-08-14T05:52:52.109Z"
   },
   {
    "duration": 0,
    "start_time": "2024-08-14T05:52:52.110Z"
   },
   {
    "duration": 0,
    "start_time": "2024-08-14T05:52:52.110Z"
   },
   {
    "duration": 0,
    "start_time": "2024-08-14T05:52:52.112Z"
   },
   {
    "duration": 0,
    "start_time": "2024-08-14T05:52:52.113Z"
   },
   {
    "duration": 0,
    "start_time": "2024-08-14T05:52:52.114Z"
   },
   {
    "duration": 0,
    "start_time": "2024-08-14T05:52:52.115Z"
   },
   {
    "duration": 0,
    "start_time": "2024-08-14T05:52:52.115Z"
   },
   {
    "duration": 0,
    "start_time": "2024-08-14T05:52:52.116Z"
   },
   {
    "duration": 0,
    "start_time": "2024-08-14T05:52:52.117Z"
   },
   {
    "duration": 0,
    "start_time": "2024-08-14T05:52:52.118Z"
   },
   {
    "duration": 0,
    "start_time": "2024-08-14T05:52:52.119Z"
   },
   {
    "duration": 0,
    "start_time": "2024-08-14T05:52:52.120Z"
   },
   {
    "duration": 0,
    "start_time": "2024-08-14T05:52:52.122Z"
   },
   {
    "duration": 0,
    "start_time": "2024-08-14T05:52:52.182Z"
   },
   {
    "duration": 0,
    "start_time": "2024-08-14T05:52:52.184Z"
   },
   {
    "duration": 0,
    "start_time": "2024-08-14T05:52:52.185Z"
   },
   {
    "duration": 0,
    "start_time": "2024-08-14T05:52:52.188Z"
   },
   {
    "duration": 0,
    "start_time": "2024-08-14T05:52:52.189Z"
   },
   {
    "duration": 0,
    "start_time": "2024-08-14T05:52:52.191Z"
   },
   {
    "duration": 0,
    "start_time": "2024-08-14T05:52:52.192Z"
   },
   {
    "duration": 0,
    "start_time": "2024-08-14T05:52:52.193Z"
   },
   {
    "duration": 0,
    "start_time": "2024-08-14T05:52:52.195Z"
   },
   {
    "duration": 0,
    "start_time": "2024-08-14T05:52:52.196Z"
   },
   {
    "duration": 261,
    "start_time": "2024-08-14T05:55:34.160Z"
   },
   {
    "duration": 264,
    "start_time": "2024-08-14T05:55:54.705Z"
   },
   {
    "duration": 14,
    "start_time": "2024-08-14T05:56:07.460Z"
   },
   {
    "duration": 12,
    "start_time": "2024-08-14T05:57:50.249Z"
   },
   {
    "duration": 22,
    "start_time": "2024-08-14T06:05:20.265Z"
   },
   {
    "duration": 9,
    "start_time": "2024-08-14T06:05:43.993Z"
   },
   {
    "duration": 12,
    "start_time": "2024-08-14T06:05:54.801Z"
   },
   {
    "duration": 264,
    "start_time": "2024-08-14T06:07:01.116Z"
   },
   {
    "duration": 268,
    "start_time": "2024-08-14T06:08:56.519Z"
   },
   {
    "duration": 15,
    "start_time": "2024-08-14T06:09:06.668Z"
   },
   {
    "duration": 12,
    "start_time": "2024-08-14T06:09:39.743Z"
   },
   {
    "duration": 14,
    "start_time": "2024-08-14T06:10:04.311Z"
   },
   {
    "duration": 12,
    "start_time": "2024-08-14T06:10:29.399Z"
   },
   {
    "duration": 19,
    "start_time": "2024-08-14T06:11:18.746Z"
   },
   {
    "duration": 18,
    "start_time": "2024-08-14T06:11:51.255Z"
   },
   {
    "duration": 42,
    "start_time": "2024-08-14T06:12:05.991Z"
   },
   {
    "duration": 19,
    "start_time": "2024-08-14T06:12:27.054Z"
   },
   {
    "duration": 14,
    "start_time": "2024-08-14T06:14:04.961Z"
   },
   {
    "duration": 14,
    "start_time": "2024-08-14T06:19:20.121Z"
   },
   {
    "duration": 148,
    "start_time": "2024-08-14T06:20:49.167Z"
   },
   {
    "duration": 148,
    "start_time": "2024-08-14T06:21:37.272Z"
   },
   {
    "duration": 245,
    "start_time": "2024-08-14T06:22:52.395Z"
   },
   {
    "duration": 148,
    "start_time": "2024-08-14T06:23:20.305Z"
   },
   {
    "duration": 64,
    "start_time": "2024-08-14T06:24:58.527Z"
   },
   {
    "duration": 62,
    "start_time": "2024-08-14T06:25:31.937Z"
   },
   {
    "duration": 984,
    "start_time": "2024-08-14T06:25:45.823Z"
   },
   {
    "duration": 9,
    "start_time": "2024-08-14T06:26:07.145Z"
   },
   {
    "duration": 140,
    "start_time": "2024-08-14T06:28:43.407Z"
   },
   {
    "duration": 63,
    "start_time": "2024-08-14T06:30:34.735Z"
   },
   {
    "duration": 10,
    "start_time": "2024-08-14T06:30:48.165Z"
   },
   {
    "duration": 235,
    "start_time": "2024-08-14T06:33:17.079Z"
   },
   {
    "duration": 235,
    "start_time": "2024-08-14T06:40:04.037Z"
   },
   {
    "duration": 248,
    "start_time": "2024-08-14T06:40:19.047Z"
   },
   {
    "duration": 16,
    "start_time": "2024-08-14T06:45:05.717Z"
   },
   {
    "duration": 223,
    "start_time": "2024-08-14T06:45:26.472Z"
   },
   {
    "duration": 245,
    "start_time": "2024-08-14T06:47:23.955Z"
   },
   {
    "duration": 327,
    "start_time": "2024-08-14T06:47:52.197Z"
   },
   {
    "duration": 247,
    "start_time": "2024-08-14T06:48:33.376Z"
   },
   {
    "duration": 260,
    "start_time": "2024-08-14T06:48:48.071Z"
   },
   {
    "duration": 234,
    "start_time": "2024-08-14T06:49:32.001Z"
   },
   {
    "duration": 12,
    "start_time": "2024-08-14T07:00:05.392Z"
   },
   {
    "duration": 13,
    "start_time": "2024-08-14T07:00:39.633Z"
   },
   {
    "duration": 73,
    "start_time": "2024-08-14T07:00:51.044Z"
   },
   {
    "duration": 1501,
    "start_time": "2024-08-14T07:01:36.975Z"
   },
   {
    "duration": 84,
    "start_time": "2024-08-14T07:01:38.478Z"
   },
   {
    "duration": 15,
    "start_time": "2024-08-14T07:01:38.564Z"
   },
   {
    "duration": 28,
    "start_time": "2024-08-14T07:01:38.581Z"
   },
   {
    "duration": 26,
    "start_time": "2024-08-14T07:01:38.611Z"
   },
   {
    "duration": 12,
    "start_time": "2024-08-14T07:01:38.639Z"
   },
   {
    "duration": 47,
    "start_time": "2024-08-14T07:01:38.652Z"
   },
   {
    "duration": 13,
    "start_time": "2024-08-14T07:01:38.701Z"
   },
   {
    "duration": 10,
    "start_time": "2024-08-14T07:01:38.716Z"
   },
   {
    "duration": 16,
    "start_time": "2024-08-14T07:01:38.728Z"
   },
   {
    "duration": 8,
    "start_time": "2024-08-14T07:01:38.745Z"
   },
   {
    "duration": 33,
    "start_time": "2024-08-14T07:01:38.755Z"
   },
   {
    "duration": 62,
    "start_time": "2024-08-14T07:01:38.790Z"
   },
   {
    "duration": 4,
    "start_time": "2024-08-14T07:01:38.853Z"
   },
   {
    "duration": 76,
    "start_time": "2024-08-14T07:01:38.859Z"
   },
   {
    "duration": 14,
    "start_time": "2024-08-14T07:01:38.937Z"
   },
   {
    "duration": 13,
    "start_time": "2024-08-14T07:01:38.953Z"
   },
   {
    "duration": 181,
    "start_time": "2024-08-14T07:01:38.968Z"
   },
   {
    "duration": 243,
    "start_time": "2024-08-14T07:01:39.150Z"
   },
   {
    "duration": 7,
    "start_time": "2024-08-14T07:01:39.395Z"
   },
   {
    "duration": 31,
    "start_time": "2024-08-14T07:01:39.404Z"
   },
   {
    "duration": 236,
    "start_time": "2024-08-14T07:01:39.436Z"
   },
   {
    "duration": 9,
    "start_time": "2024-08-14T07:01:39.673Z"
   },
   {
    "duration": 148,
    "start_time": "2024-08-14T07:01:39.684Z"
   },
   {
    "duration": 23,
    "start_time": "2024-08-14T07:01:39.833Z"
   },
   {
    "duration": 25,
    "start_time": "2024-08-14T07:01:39.882Z"
   },
   {
    "duration": 8,
    "start_time": "2024-08-14T07:01:39.908Z"
   },
   {
    "duration": 76,
    "start_time": "2024-08-14T07:01:39.920Z"
   },
   {
    "duration": 233,
    "start_time": "2024-08-14T07:01:39.997Z"
   },
   {
    "duration": 13,
    "start_time": "2024-08-14T07:01:40.232Z"
   },
   {
    "duration": 46,
    "start_time": "2024-08-14T07:01:40.247Z"
   },
   {
    "duration": 90,
    "start_time": "2024-08-14T07:01:40.295Z"
   },
   {
    "duration": 14,
    "start_time": "2024-08-14T07:01:40.386Z"
   },
   {
    "duration": 18,
    "start_time": "2024-08-14T07:01:40.401Z"
   },
   {
    "duration": 261,
    "start_time": "2024-08-14T07:01:40.421Z"
   },
   {
    "duration": 10,
    "start_time": "2024-08-14T07:01:40.684Z"
   },
   {
    "duration": 229,
    "start_time": "2024-08-14T07:01:40.696Z"
   },
   {
    "duration": 2,
    "start_time": "2024-08-14T07:01:40.927Z"
   },
   {
    "duration": 13,
    "start_time": "2024-08-14T07:01:40.931Z"
   },
   {
    "duration": 6,
    "start_time": "2024-08-14T07:01:40.945Z"
   },
   {
    "duration": 17,
    "start_time": "2024-08-14T07:01:40.952Z"
   },
   {
    "duration": 76,
    "start_time": "2024-08-14T07:01:40.970Z"
   },
   {
    "duration": 9210,
    "start_time": "2024-08-14T07:01:41.047Z"
   },
   {
    "duration": 144,
    "start_time": "2024-08-14T07:01:50.259Z"
   },
   {
    "duration": 10,
    "start_time": "2024-08-14T07:01:50.405Z"
   },
   {
    "duration": 80,
    "start_time": "2024-08-14T07:01:50.417Z"
   },
   {
    "duration": 19,
    "start_time": "2024-08-14T07:01:50.499Z"
   },
   {
    "duration": 126,
    "start_time": "2024-08-14T07:01:50.520Z"
   },
   {
    "duration": 15,
    "start_time": "2024-08-14T07:01:50.648Z"
   },
   {
    "duration": 22,
    "start_time": "2024-08-14T07:01:50.665Z"
   },
   {
    "duration": 16,
    "start_time": "2024-08-14T07:01:50.688Z"
   },
   {
    "duration": 10,
    "start_time": "2024-08-14T07:01:50.706Z"
   },
   {
    "duration": 15,
    "start_time": "2024-08-14T07:01:50.718Z"
   },
   {
    "duration": 250,
    "start_time": "2024-08-14T07:01:50.735Z"
   },
   {
    "duration": 12,
    "start_time": "2024-08-14T07:01:50.986Z"
   },
   {
    "duration": 116,
    "start_time": "2024-08-14T07:01:50.999Z"
   },
   {
    "duration": 6,
    "start_time": "2024-08-14T07:01:51.117Z"
   },
   {
    "duration": 179,
    "start_time": "2024-08-14T07:01:51.124Z"
   },
   {
    "duration": 4,
    "start_time": "2024-08-14T07:01:51.304Z"
   },
   {
    "duration": 17,
    "start_time": "2024-08-14T07:01:51.310Z"
   },
   {
    "duration": 12,
    "start_time": "2024-08-14T07:01:51.329Z"
   },
   {
    "duration": 13,
    "start_time": "2024-08-14T07:01:51.342Z"
   },
   {
    "duration": 27,
    "start_time": "2024-08-14T07:01:51.356Z"
   },
   {
    "duration": 25,
    "start_time": "2024-08-14T07:01:51.384Z"
   },
   {
    "duration": 214,
    "start_time": "2024-08-14T07:01:51.410Z"
   },
   {
    "duration": 1489,
    "start_time": "2024-08-14T07:01:51.625Z"
   },
   {
    "duration": 6,
    "start_time": "2024-08-14T07:01:53.116Z"
   },
   {
    "duration": 28,
    "start_time": "2024-08-14T07:01:53.123Z"
   },
   {
    "duration": 117,
    "start_time": "2024-08-14T07:01:53.153Z"
   },
   {
    "duration": 5,
    "start_time": "2024-08-14T07:01:53.272Z"
   },
   {
    "duration": 12,
    "start_time": "2024-08-14T07:01:53.282Z"
   },
   {
    "duration": 117,
    "start_time": "2024-08-14T07:01:53.295Z"
   },
   {
    "duration": 9,
    "start_time": "2024-08-14T07:01:53.413Z"
   },
   {
    "duration": 12,
    "start_time": "2024-08-14T07:01:53.423Z"
   },
   {
    "duration": 112,
    "start_time": "2024-08-14T07:01:53.436Z"
   },
   {
    "duration": 32,
    "start_time": "2024-08-14T07:01:53.550Z"
   },
   {
    "duration": 11,
    "start_time": "2024-08-14T07:01:53.584Z"
   },
   {
    "duration": 9,
    "start_time": "2024-08-14T07:01:53.596Z"
   },
   {
    "duration": 282,
    "start_time": "2024-08-14T07:01:53.607Z"
   },
   {
    "duration": 7,
    "start_time": "2024-08-14T07:01:53.890Z"
   },
   {
    "duration": 75,
    "start_time": "2024-08-14T07:03:50.745Z"
   },
   {
    "duration": 448,
    "start_time": "2024-08-14T07:20:20.757Z"
   },
   {
    "duration": 299,
    "start_time": "2024-08-14T07:23:35.842Z"
   },
   {
    "duration": 41,
    "start_time": "2024-08-14T08:58:16.563Z"
   },
   {
    "duration": 5,
    "start_time": "2024-08-14T08:59:58.916Z"
   },
   {
    "duration": 48,
    "start_time": "2024-08-14T09:02:04.682Z"
   },
   {
    "duration": 40,
    "start_time": "2024-08-14T09:02:20.422Z"
   },
   {
    "duration": 7,
    "start_time": "2024-08-14T09:13:51.253Z"
   },
   {
    "duration": 10,
    "start_time": "2024-08-14T09:37:29.765Z"
   },
   {
    "duration": 10,
    "start_time": "2024-08-14T09:52:05.297Z"
   },
   {
    "duration": 201,
    "start_time": "2024-08-14T09:52:37.270Z"
   },
   {
    "duration": 189,
    "start_time": "2024-08-14T10:41:32.813Z"
   },
   {
    "duration": 193,
    "start_time": "2024-08-14T10:41:55.444Z"
   },
   {
    "duration": 24,
    "start_time": "2024-08-14T12:08:04.544Z"
   },
   {
    "duration": 107,
    "start_time": "2024-08-14T12:12:30.372Z"
   },
   {
    "duration": 107,
    "start_time": "2024-08-14T12:12:48.512Z"
   },
   {
    "duration": 263,
    "start_time": "2024-08-14T12:13:00.260Z"
   },
   {
    "duration": 110,
    "start_time": "2024-08-14T12:14:09.730Z"
   },
   {
    "duration": 263,
    "start_time": "2024-08-14T12:14:46.209Z"
   },
   {
    "duration": 261,
    "start_time": "2024-08-14T12:15:03.488Z"
   },
   {
    "duration": 265,
    "start_time": "2024-08-14T12:15:58.918Z"
   },
   {
    "duration": 2,
    "start_time": "2024-08-14T12:17:35.211Z"
   },
   {
    "duration": 59,
    "start_time": "2024-08-14T12:21:43.852Z"
   },
   {
    "duration": 63,
    "start_time": "2024-08-14T12:21:49.286Z"
   },
   {
    "duration": 184,
    "start_time": "2024-08-14T12:22:09.370Z"
   },
   {
    "duration": 1516,
    "start_time": "2024-08-15T04:27:48.457Z"
   },
   {
    "duration": 83,
    "start_time": "2024-08-15T04:27:49.975Z"
   },
   {
    "duration": 13,
    "start_time": "2024-08-15T04:27:50.060Z"
   },
   {
    "duration": 18,
    "start_time": "2024-08-15T04:27:50.075Z"
   },
   {
    "duration": 31,
    "start_time": "2024-08-15T04:27:50.094Z"
   },
   {
    "duration": 11,
    "start_time": "2024-08-15T04:27:50.126Z"
   },
   {
    "duration": 43,
    "start_time": "2024-08-15T04:27:50.139Z"
   },
   {
    "duration": 31,
    "start_time": "2024-08-15T04:27:50.184Z"
   },
   {
    "duration": 17,
    "start_time": "2024-08-15T04:27:50.217Z"
   },
   {
    "duration": 21,
    "start_time": "2024-08-15T04:27:50.236Z"
   },
   {
    "duration": 27,
    "start_time": "2024-08-15T04:27:50.258Z"
   },
   {
    "duration": 112,
    "start_time": "2024-08-15T04:27:50.286Z"
   },
   {
    "duration": 74,
    "start_time": "2024-08-15T04:27:50.400Z"
   },
   {
    "duration": 3,
    "start_time": "2024-08-15T04:27:50.476Z"
   },
   {
    "duration": 81,
    "start_time": "2024-08-15T04:27:50.480Z"
   },
   {
    "duration": 14,
    "start_time": "2024-08-15T04:27:50.562Z"
   },
   {
    "duration": 27,
    "start_time": "2024-08-15T04:27:50.578Z"
   },
   {
    "duration": 194,
    "start_time": "2024-08-15T04:27:50.606Z"
   },
   {
    "duration": 247,
    "start_time": "2024-08-15T04:27:50.802Z"
   },
   {
    "duration": 16,
    "start_time": "2024-08-15T04:27:51.050Z"
   },
   {
    "duration": 12,
    "start_time": "2024-08-15T04:27:51.067Z"
   },
   {
    "duration": 226,
    "start_time": "2024-08-15T04:27:51.081Z"
   },
   {
    "duration": 9,
    "start_time": "2024-08-15T04:27:51.308Z"
   },
   {
    "duration": 252,
    "start_time": "2024-08-15T04:27:51.318Z"
   },
   {
    "duration": 24,
    "start_time": "2024-08-15T04:27:51.571Z"
   },
   {
    "duration": 94,
    "start_time": "2024-08-15T04:27:51.596Z"
   },
   {
    "duration": 10,
    "start_time": "2024-08-15T04:27:51.692Z"
   },
   {
    "duration": 76,
    "start_time": "2024-08-15T04:27:51.706Z"
   },
   {
    "duration": 260,
    "start_time": "2024-08-15T04:27:51.784Z"
   },
   {
    "duration": 6,
    "start_time": "2024-08-15T04:27:52.046Z"
   },
   {
    "duration": 29,
    "start_time": "2024-08-15T04:27:52.054Z"
   },
   {
    "duration": 94,
    "start_time": "2024-08-15T04:27:52.084Z"
   },
   {
    "duration": 20,
    "start_time": "2024-08-15T04:27:52.181Z"
   },
   {
    "duration": 11,
    "start_time": "2024-08-15T04:27:52.203Z"
   },
   {
    "duration": 296,
    "start_time": "2024-08-15T04:27:52.215Z"
   },
   {
    "duration": 11,
    "start_time": "2024-08-15T04:27:52.513Z"
   },
   {
    "duration": 158,
    "start_time": "2024-08-15T04:27:52.525Z"
   },
   {
    "duration": 3,
    "start_time": "2024-08-15T04:27:52.686Z"
   },
   {
    "duration": 6,
    "start_time": "2024-08-15T04:27:52.690Z"
   },
   {
    "duration": 16,
    "start_time": "2024-08-15T04:27:52.697Z"
   },
   {
    "duration": 27,
    "start_time": "2024-08-15T04:27:52.715Z"
   },
   {
    "duration": 87,
    "start_time": "2024-08-15T04:27:52.744Z"
   },
   {
    "duration": 10022,
    "start_time": "2024-08-15T04:27:52.833Z"
   },
   {
    "duration": 138,
    "start_time": "2024-08-15T04:28:02.858Z"
   },
   {
    "duration": 11,
    "start_time": "2024-08-15T04:28:02.998Z"
   },
   {
    "duration": 32,
    "start_time": "2024-08-15T04:28:03.064Z"
   },
   {
    "duration": 76,
    "start_time": "2024-08-15T04:28:03.097Z"
   },
   {
    "duration": 104,
    "start_time": "2024-08-15T04:28:03.175Z"
   },
   {
    "duration": 16,
    "start_time": "2024-08-15T04:28:03.280Z"
   },
   {
    "duration": 11,
    "start_time": "2024-08-15T04:28:03.297Z"
   },
   {
    "duration": 12,
    "start_time": "2024-08-15T04:28:03.310Z"
   },
   {
    "duration": 213,
    "start_time": "2024-08-15T04:28:03.324Z"
   },
   {
    "duration": 11,
    "start_time": "2024-08-15T04:28:03.539Z"
   },
   {
    "duration": 109,
    "start_time": "2024-08-15T04:28:03.551Z"
   },
   {
    "duration": 248,
    "start_time": "2024-08-15T04:28:03.661Z"
   },
   {
    "duration": 11,
    "start_time": "2024-08-15T04:28:03.911Z"
   },
   {
    "duration": 116,
    "start_time": "2024-08-15T04:28:03.924Z"
   },
   {
    "duration": 47,
    "start_time": "2024-08-15T04:28:04.042Z"
   },
   {
    "duration": 7,
    "start_time": "2024-08-15T04:28:04.091Z"
   },
   {
    "duration": 186,
    "start_time": "2024-08-15T04:28:04.099Z"
   },
   {
    "duration": 5,
    "start_time": "2024-08-15T04:28:04.287Z"
   },
   {
    "duration": 75,
    "start_time": "2024-08-15T04:28:04.293Z"
   },
   {
    "duration": 10,
    "start_time": "2024-08-15T04:28:04.370Z"
   },
   {
    "duration": 20,
    "start_time": "2024-08-15T04:28:04.381Z"
   },
   {
    "duration": 7,
    "start_time": "2024-08-15T04:28:04.402Z"
   },
   {
    "duration": 9,
    "start_time": "2024-08-15T04:28:04.411Z"
   },
   {
    "duration": 258,
    "start_time": "2024-08-15T04:28:04.421Z"
   },
   {
    "duration": 1574,
    "start_time": "2024-08-15T04:28:04.680Z"
   },
   {
    "duration": 17,
    "start_time": "2024-08-15T04:28:06.255Z"
   },
   {
    "duration": 72,
    "start_time": "2024-08-15T04:28:06.274Z"
   },
   {
    "duration": 93,
    "start_time": "2024-08-15T04:28:06.348Z"
   },
   {
    "duration": 9,
    "start_time": "2024-08-15T04:28:06.443Z"
   },
   {
    "duration": 219,
    "start_time": "2024-08-15T04:28:06.454Z"
   },
   {
    "duration": 13,
    "start_time": "2024-08-15T04:28:06.674Z"
   },
   {
    "duration": 170,
    "start_time": "2024-08-15T04:28:06.689Z"
   },
   {
    "duration": 0,
    "start_time": "2024-08-15T04:28:06.865Z"
   },
   {
    "duration": 0,
    "start_time": "2024-08-15T04:28:06.866Z"
   },
   {
    "duration": 0,
    "start_time": "2024-08-15T04:28:06.868Z"
   },
   {
    "duration": 0,
    "start_time": "2024-08-15T04:28:06.869Z"
   },
   {
    "duration": 0,
    "start_time": "2024-08-15T04:28:06.870Z"
   },
   {
    "duration": 0,
    "start_time": "2024-08-15T04:28:06.871Z"
   },
   {
    "duration": 0,
    "start_time": "2024-08-15T04:28:06.873Z"
   },
   {
    "duration": 0,
    "start_time": "2024-08-15T04:28:06.874Z"
   },
   {
    "duration": 0,
    "start_time": "2024-08-15T04:28:06.875Z"
   },
   {
    "duration": 0,
    "start_time": "2024-08-15T04:28:06.876Z"
   },
   {
    "duration": 0,
    "start_time": "2024-08-15T04:28:06.877Z"
   },
   {
    "duration": 1498,
    "start_time": "2024-08-15T04:34:17.634Z"
   },
   {
    "duration": 82,
    "start_time": "2024-08-15T04:34:19.133Z"
   },
   {
    "duration": 14,
    "start_time": "2024-08-15T04:34:19.216Z"
   },
   {
    "duration": 8,
    "start_time": "2024-08-15T04:34:19.232Z"
   },
   {
    "duration": 25,
    "start_time": "2024-08-15T04:34:19.242Z"
   },
   {
    "duration": 15,
    "start_time": "2024-08-15T04:34:19.269Z"
   },
   {
    "duration": 9,
    "start_time": "2024-08-15T04:34:19.285Z"
   },
   {
    "duration": 16,
    "start_time": "2024-08-15T04:34:19.296Z"
   },
   {
    "duration": 8,
    "start_time": "2024-08-15T04:34:19.313Z"
   },
   {
    "duration": 20,
    "start_time": "2024-08-15T04:34:19.322Z"
   },
   {
    "duration": 25,
    "start_time": "2024-08-15T04:34:19.344Z"
   },
   {
    "duration": 31,
    "start_time": "2024-08-15T04:34:19.371Z"
   },
   {
    "duration": 90,
    "start_time": "2024-08-15T04:34:19.403Z"
   },
   {
    "duration": 3,
    "start_time": "2024-08-15T04:34:19.497Z"
   },
   {
    "duration": 69,
    "start_time": "2024-08-15T04:34:19.502Z"
   },
   {
    "duration": 14,
    "start_time": "2024-08-15T04:34:19.572Z"
   },
   {
    "duration": 180,
    "start_time": "2024-08-15T04:34:19.587Z"
   },
   {
    "duration": 180,
    "start_time": "2024-08-15T04:34:19.768Z"
   },
   {
    "duration": 250,
    "start_time": "2024-08-15T04:34:19.950Z"
   },
   {
    "duration": 8,
    "start_time": "2024-08-15T04:34:20.201Z"
   },
   {
    "duration": 19,
    "start_time": "2024-08-15T04:34:20.211Z"
   },
   {
    "duration": 251,
    "start_time": "2024-08-15T04:34:20.232Z"
   },
   {
    "duration": 10,
    "start_time": "2024-08-15T04:34:20.485Z"
   },
   {
    "duration": 250,
    "start_time": "2024-08-15T04:34:20.497Z"
   },
   {
    "duration": 48,
    "start_time": "2024-08-15T04:34:20.749Z"
   },
   {
    "duration": 74,
    "start_time": "2024-08-15T04:34:20.799Z"
   },
   {
    "duration": 8,
    "start_time": "2024-08-15T04:34:20.875Z"
   },
   {
    "duration": 82,
    "start_time": "2024-08-15T04:34:20.884Z"
   },
   {
    "duration": 249,
    "start_time": "2024-08-15T04:34:20.968Z"
   },
   {
    "duration": 7,
    "start_time": "2024-08-15T04:34:21.219Z"
   },
   {
    "duration": 51,
    "start_time": "2024-08-15T04:34:21.228Z"
   },
   {
    "duration": 92,
    "start_time": "2024-08-15T04:34:21.281Z"
   },
   {
    "duration": 14,
    "start_time": "2024-08-15T04:34:21.375Z"
   },
   {
    "duration": 10,
    "start_time": "2024-08-15T04:34:21.391Z"
   },
   {
    "duration": 287,
    "start_time": "2024-08-15T04:34:21.403Z"
   },
   {
    "duration": 11,
    "start_time": "2024-08-15T04:34:21.692Z"
   },
   {
    "duration": 148,
    "start_time": "2024-08-15T04:34:21.704Z"
   },
   {
    "duration": 3,
    "start_time": "2024-08-15T04:34:21.854Z"
   },
   {
    "duration": 8,
    "start_time": "2024-08-15T04:34:21.859Z"
   },
   {
    "duration": 18,
    "start_time": "2024-08-15T04:34:21.869Z"
   },
   {
    "duration": 19,
    "start_time": "2024-08-15T04:34:21.892Z"
   },
   {
    "duration": 87,
    "start_time": "2024-08-15T04:34:21.913Z"
   },
   {
    "duration": 9802,
    "start_time": "2024-08-15T04:34:22.001Z"
   },
   {
    "duration": 276,
    "start_time": "2024-08-15T04:34:31.806Z"
   },
   {
    "duration": 12,
    "start_time": "2024-08-15T04:34:32.084Z"
   },
   {
    "duration": 97,
    "start_time": "2024-08-15T04:34:32.098Z"
   },
   {
    "duration": 23,
    "start_time": "2024-08-15T04:34:32.197Z"
   },
   {
    "duration": 124,
    "start_time": "2024-08-15T04:34:32.222Z"
   },
   {
    "duration": 30,
    "start_time": "2024-08-15T04:34:32.347Z"
   },
   {
    "duration": 30,
    "start_time": "2024-08-15T04:34:32.379Z"
   },
   {
    "duration": 15,
    "start_time": "2024-08-15T04:34:32.410Z"
   },
   {
    "duration": 201,
    "start_time": "2024-08-15T04:34:32.427Z"
   },
   {
    "duration": 11,
    "start_time": "2024-08-15T04:34:32.630Z"
   },
   {
    "duration": 25,
    "start_time": "2024-08-15T04:34:32.643Z"
   },
   {
    "duration": 255,
    "start_time": "2024-08-15T04:34:32.670Z"
   },
   {
    "duration": 11,
    "start_time": "2024-08-15T04:34:32.927Z"
   },
   {
    "duration": 129,
    "start_time": "2024-08-15T04:34:32.940Z"
   },
   {
    "duration": 44,
    "start_time": "2024-08-15T04:34:33.071Z"
   },
   {
    "duration": 23,
    "start_time": "2024-08-15T04:34:33.117Z"
   },
   {
    "duration": 213,
    "start_time": "2024-08-15T04:34:33.141Z"
   },
   {
    "duration": 11,
    "start_time": "2024-08-15T04:34:33.357Z"
   },
   {
    "duration": 17,
    "start_time": "2024-08-15T04:34:33.370Z"
   },
   {
    "duration": 17,
    "start_time": "2024-08-15T04:34:33.390Z"
   },
   {
    "duration": 17,
    "start_time": "2024-08-15T04:34:33.409Z"
   },
   {
    "duration": 37,
    "start_time": "2024-08-15T04:34:33.429Z"
   },
   {
    "duration": 11,
    "start_time": "2024-08-15T04:34:33.468Z"
   },
   {
    "duration": 290,
    "start_time": "2024-08-15T04:34:33.481Z"
   },
   {
    "duration": 1548,
    "start_time": "2024-08-15T04:34:33.773Z"
   },
   {
    "duration": 7,
    "start_time": "2024-08-15T04:34:35.323Z"
   },
   {
    "duration": 8,
    "start_time": "2024-08-15T04:34:35.332Z"
   },
   {
    "duration": 123,
    "start_time": "2024-08-15T04:34:35.366Z"
   },
   {
    "duration": 9,
    "start_time": "2024-08-15T04:34:35.491Z"
   },
   {
    "duration": 211,
    "start_time": "2024-08-15T04:34:35.502Z"
   },
   {
    "duration": 12,
    "start_time": "2024-08-15T04:34:35.714Z"
   },
   {
    "duration": 178,
    "start_time": "2024-08-15T04:34:35.727Z"
   },
   {
    "duration": 0,
    "start_time": "2024-08-15T04:34:35.907Z"
   },
   {
    "duration": 0,
    "start_time": "2024-08-15T04:34:35.908Z"
   },
   {
    "duration": 0,
    "start_time": "2024-08-15T04:34:35.909Z"
   },
   {
    "duration": 0,
    "start_time": "2024-08-15T04:34:35.910Z"
   },
   {
    "duration": 0,
    "start_time": "2024-08-15T04:34:35.912Z"
   },
   {
    "duration": 0,
    "start_time": "2024-08-15T04:34:35.914Z"
   },
   {
    "duration": 0,
    "start_time": "2024-08-15T04:34:35.915Z"
   },
   {
    "duration": 0,
    "start_time": "2024-08-15T04:34:35.917Z"
   },
   {
    "duration": 0,
    "start_time": "2024-08-15T04:34:35.919Z"
   },
   {
    "duration": 0,
    "start_time": "2024-08-15T04:34:35.921Z"
   },
   {
    "duration": 0,
    "start_time": "2024-08-15T04:34:35.923Z"
   },
   {
    "duration": 70,
    "start_time": "2024-08-15T06:09:44.806Z"
   },
   {
    "duration": 1807,
    "start_time": "2024-08-15T06:10:10.375Z"
   },
   {
    "duration": 234,
    "start_time": "2024-08-15T06:10:12.184Z"
   },
   {
    "duration": 15,
    "start_time": "2024-08-15T06:10:12.420Z"
   },
   {
    "duration": 7,
    "start_time": "2024-08-15T06:10:12.436Z"
   },
   {
    "duration": 28,
    "start_time": "2024-08-15T06:10:12.444Z"
   },
   {
    "duration": 31,
    "start_time": "2024-08-15T06:10:12.474Z"
   },
   {
    "duration": 10,
    "start_time": "2024-08-15T06:10:12.507Z"
   },
   {
    "duration": 19,
    "start_time": "2024-08-15T06:10:12.519Z"
   },
   {
    "duration": 12,
    "start_time": "2024-08-15T06:10:12.540Z"
   },
   {
    "duration": 12,
    "start_time": "2024-08-15T06:10:12.554Z"
   },
   {
    "duration": 33,
    "start_time": "2024-08-15T06:10:12.568Z"
   },
   {
    "duration": 31,
    "start_time": "2024-08-15T06:10:12.602Z"
   },
   {
    "duration": 87,
    "start_time": "2024-08-15T06:10:12.634Z"
   },
   {
    "duration": 5,
    "start_time": "2024-08-15T06:10:12.725Z"
   },
   {
    "duration": 164,
    "start_time": "2024-08-15T06:10:12.732Z"
   },
   {
    "duration": 15,
    "start_time": "2024-08-15T06:10:12.898Z"
   },
   {
    "duration": 14,
    "start_time": "2024-08-15T06:10:12.915Z"
   },
   {
    "duration": 220,
    "start_time": "2024-08-15T06:10:12.932Z"
   },
   {
    "duration": 278,
    "start_time": "2024-08-15T06:10:13.153Z"
   },
   {
    "duration": 10,
    "start_time": "2024-08-15T06:10:13.433Z"
   },
   {
    "duration": 46,
    "start_time": "2024-08-15T06:10:13.445Z"
   },
   {
    "duration": 247,
    "start_time": "2024-08-15T06:10:13.493Z"
   },
   {
    "duration": 8,
    "start_time": "2024-08-15T06:10:13.742Z"
   },
   {
    "duration": 167,
    "start_time": "2024-08-15T06:10:13.752Z"
   },
   {
    "duration": 28,
    "start_time": "2024-08-15T06:10:13.921Z"
   },
   {
    "duration": 70,
    "start_time": "2024-08-15T06:10:13.951Z"
   },
   {
    "duration": 9,
    "start_time": "2024-08-15T06:10:14.022Z"
   },
   {
    "duration": 74,
    "start_time": "2024-08-15T06:10:14.033Z"
   },
   {
    "duration": 254,
    "start_time": "2024-08-15T06:10:14.109Z"
   },
   {
    "duration": 6,
    "start_time": "2024-08-15T06:10:14.365Z"
   },
   {
    "duration": 46,
    "start_time": "2024-08-15T06:10:14.372Z"
   },
   {
    "duration": 86,
    "start_time": "2024-08-15T06:10:14.419Z"
   },
   {
    "duration": 16,
    "start_time": "2024-08-15T06:10:14.506Z"
   },
   {
    "duration": 21,
    "start_time": "2024-08-15T06:10:14.524Z"
   },
   {
    "duration": 283,
    "start_time": "2024-08-15T06:10:14.547Z"
   },
   {
    "duration": 13,
    "start_time": "2024-08-15T06:10:14.832Z"
   },
   {
    "duration": 171,
    "start_time": "2024-08-15T06:10:14.847Z"
   },
   {
    "duration": 3,
    "start_time": "2024-08-15T06:10:15.020Z"
   },
   {
    "duration": 49,
    "start_time": "2024-08-15T06:10:15.024Z"
   },
   {
    "duration": 44,
    "start_time": "2024-08-15T06:10:15.075Z"
   },
   {
    "duration": 61,
    "start_time": "2024-08-15T06:10:15.125Z"
   },
   {
    "duration": 114,
    "start_time": "2024-08-15T06:10:15.188Z"
   },
   {
    "duration": 10005,
    "start_time": "2024-08-15T06:10:15.304Z"
   },
   {
    "duration": 135,
    "start_time": "2024-08-15T06:10:25.311Z"
   },
   {
    "duration": 63,
    "start_time": "2024-08-15T06:10:25.448Z"
   },
   {
    "duration": 31,
    "start_time": "2024-08-15T06:10:25.513Z"
   },
   {
    "duration": 80,
    "start_time": "2024-08-15T06:10:25.545Z"
   },
   {
    "duration": 112,
    "start_time": "2024-08-15T06:10:25.627Z"
   },
   {
    "duration": 14,
    "start_time": "2024-08-15T06:10:25.740Z"
   },
   {
    "duration": 10,
    "start_time": "2024-08-15T06:10:25.756Z"
   },
   {
    "duration": 13,
    "start_time": "2024-08-15T06:10:25.767Z"
   },
   {
    "duration": 252,
    "start_time": "2024-08-15T06:10:25.782Z"
   },
   {
    "duration": 16,
    "start_time": "2024-08-15T06:10:26.036Z"
   },
   {
    "duration": 18,
    "start_time": "2024-08-15T06:10:26.053Z"
   },
   {
    "duration": 273,
    "start_time": "2024-08-15T06:10:26.073Z"
   },
   {
    "duration": 11,
    "start_time": "2024-08-15T06:10:26.348Z"
   },
   {
    "duration": 136,
    "start_time": "2024-08-15T06:10:26.361Z"
   },
   {
    "duration": 50,
    "start_time": "2024-08-15T06:10:26.499Z"
   },
   {
    "duration": 8,
    "start_time": "2024-08-15T06:10:26.551Z"
   },
   {
    "duration": 202,
    "start_time": "2024-08-15T06:10:26.561Z"
   },
   {
    "duration": 5,
    "start_time": "2024-08-15T06:10:26.765Z"
   },
   {
    "duration": 15,
    "start_time": "2024-08-15T06:10:26.771Z"
   },
   {
    "duration": 11,
    "start_time": "2024-08-15T06:10:26.804Z"
   },
   {
    "duration": 21,
    "start_time": "2024-08-15T06:10:26.817Z"
   },
   {
    "duration": 7,
    "start_time": "2024-08-15T06:10:26.840Z"
   },
   {
    "duration": 9,
    "start_time": "2024-08-15T06:10:26.849Z"
   },
   {
    "duration": 253,
    "start_time": "2024-08-15T06:10:26.860Z"
   },
   {
    "duration": 1601,
    "start_time": "2024-08-15T06:10:27.115Z"
   },
   {
    "duration": 6,
    "start_time": "2024-08-15T06:10:28.718Z"
   },
   {
    "duration": 40,
    "start_time": "2024-08-15T06:10:28.726Z"
   },
   {
    "duration": 95,
    "start_time": "2024-08-15T06:10:28.768Z"
   },
   {
    "duration": 10,
    "start_time": "2024-08-15T06:10:28.864Z"
   },
   {
    "duration": 242,
    "start_time": "2024-08-15T06:10:28.876Z"
   },
   {
    "duration": 13,
    "start_time": "2024-08-15T06:10:29.120Z"
   },
   {
    "duration": 181,
    "start_time": "2024-08-15T06:10:29.135Z"
   },
   {
    "duration": 1,
    "start_time": "2024-08-15T06:10:29.317Z"
   },
   {
    "duration": 0,
    "start_time": "2024-08-15T06:10:29.319Z"
   },
   {
    "duration": 0,
    "start_time": "2024-08-15T06:10:29.320Z"
   },
   {
    "duration": 0,
    "start_time": "2024-08-15T06:10:29.321Z"
   },
   {
    "duration": 0,
    "start_time": "2024-08-15T06:10:29.322Z"
   },
   {
    "duration": 0,
    "start_time": "2024-08-15T06:10:29.324Z"
   },
   {
    "duration": 0,
    "start_time": "2024-08-15T06:10:29.325Z"
   },
   {
    "duration": 0,
    "start_time": "2024-08-15T06:10:29.326Z"
   },
   {
    "duration": 0,
    "start_time": "2024-08-15T06:10:29.327Z"
   },
   {
    "duration": 0,
    "start_time": "2024-08-15T06:10:29.328Z"
   },
   {
    "duration": 0,
    "start_time": "2024-08-15T06:10:29.329Z"
   },
   {
    "duration": 940,
    "start_time": "2024-08-15T06:10:50.636Z"
   },
   {
    "duration": 218,
    "start_time": "2024-08-15T06:11:14.726Z"
   },
   {
    "duration": 12,
    "start_time": "2024-08-15T06:12:00.948Z"
   },
   {
    "duration": 12,
    "start_time": "2024-08-15T06:12:23.011Z"
   },
   {
    "duration": 1564,
    "start_time": "2024-08-15T06:13:26.623Z"
   },
   {
    "duration": 83,
    "start_time": "2024-08-15T06:13:28.189Z"
   },
   {
    "duration": 13,
    "start_time": "2024-08-15T06:13:28.274Z"
   },
   {
    "duration": 9,
    "start_time": "2024-08-15T06:13:28.289Z"
   },
   {
    "duration": 41,
    "start_time": "2024-08-15T06:13:28.300Z"
   },
   {
    "duration": 25,
    "start_time": "2024-08-15T06:13:28.342Z"
   },
   {
    "duration": 26,
    "start_time": "2024-08-15T06:13:28.368Z"
   },
   {
    "duration": 11,
    "start_time": "2024-08-15T06:13:28.396Z"
   },
   {
    "duration": 7,
    "start_time": "2024-08-15T06:13:28.409Z"
   },
   {
    "duration": 13,
    "start_time": "2024-08-15T06:13:28.417Z"
   },
   {
    "duration": 7,
    "start_time": "2024-08-15T06:13:28.432Z"
   },
   {
    "duration": 31,
    "start_time": "2024-08-15T06:13:28.441Z"
   },
   {
    "duration": 81,
    "start_time": "2024-08-15T06:13:28.474Z"
   },
   {
    "duration": 4,
    "start_time": "2024-08-15T06:13:28.558Z"
   },
   {
    "duration": 73,
    "start_time": "2024-08-15T06:13:28.563Z"
   },
   {
    "duration": 14,
    "start_time": "2024-08-15T06:13:28.638Z"
   },
   {
    "duration": 11,
    "start_time": "2024-08-15T06:13:28.653Z"
   },
   {
    "duration": 207,
    "start_time": "2024-08-15T06:13:28.666Z"
   },
   {
    "duration": 270,
    "start_time": "2024-08-15T06:13:28.875Z"
   },
   {
    "duration": 8,
    "start_time": "2024-08-15T06:13:29.147Z"
   },
   {
    "duration": 28,
    "start_time": "2024-08-15T06:13:29.157Z"
   },
   {
    "duration": 257,
    "start_time": "2024-08-15T06:13:29.186Z"
   },
   {
    "duration": 8,
    "start_time": "2024-08-15T06:13:29.445Z"
   },
   {
    "duration": 182,
    "start_time": "2024-08-15T06:13:29.455Z"
   },
   {
    "duration": 32,
    "start_time": "2024-08-15T06:13:29.639Z"
   },
   {
    "duration": 67,
    "start_time": "2024-08-15T06:13:29.673Z"
   },
   {
    "duration": 22,
    "start_time": "2024-08-15T06:13:29.741Z"
   },
   {
    "duration": 24,
    "start_time": "2024-08-15T06:13:29.805Z"
   },
   {
    "duration": 244,
    "start_time": "2024-08-15T06:13:29.831Z"
   },
   {
    "duration": 7,
    "start_time": "2024-08-15T06:13:30.076Z"
   },
   {
    "duration": 66,
    "start_time": "2024-08-15T06:13:30.084Z"
   },
   {
    "duration": 233,
    "start_time": "2024-08-15T06:13:30.152Z"
   },
   {
    "duration": 260,
    "start_time": "2024-08-15T06:13:30.386Z"
   },
   {
    "duration": 133,
    "start_time": "2024-08-15T06:13:30.648Z"
   },
   {
    "duration": 451,
    "start_time": "2024-08-15T06:13:30.782Z"
   },
   {
    "duration": 103,
    "start_time": "2024-08-15T06:13:31.235Z"
   },
   {
    "duration": 292,
    "start_time": "2024-08-15T06:13:31.340Z"
   },
   {
    "duration": 3,
    "start_time": "2024-08-15T06:13:31.633Z"
   },
   {
    "duration": 34,
    "start_time": "2024-08-15T06:13:31.638Z"
   },
   {
    "duration": 23,
    "start_time": "2024-08-15T06:13:31.674Z"
   },
   {
    "duration": 150,
    "start_time": "2024-08-15T06:13:31.702Z"
   },
   {
    "duration": 151,
    "start_time": "2024-08-15T06:13:31.854Z"
   },
   {
    "duration": 10023,
    "start_time": "2024-08-15T06:13:32.007Z"
   },
   {
    "duration": 119,
    "start_time": "2024-08-15T06:13:42.032Z"
   },
   {
    "duration": 11,
    "start_time": "2024-08-15T06:13:42.206Z"
   },
   {
    "duration": 37,
    "start_time": "2024-08-15T06:13:42.218Z"
   },
   {
    "duration": 72,
    "start_time": "2024-08-15T06:13:42.256Z"
   },
   {
    "duration": 122,
    "start_time": "2024-08-15T06:13:42.330Z"
   },
   {
    "duration": 16,
    "start_time": "2024-08-15T06:13:42.454Z"
   },
   {
    "duration": 16,
    "start_time": "2024-08-15T06:13:42.471Z"
   },
   {
    "duration": 27,
    "start_time": "2024-08-15T06:13:42.489Z"
   },
   {
    "duration": 196,
    "start_time": "2024-08-15T06:13:42.517Z"
   },
   {
    "duration": 11,
    "start_time": "2024-08-15T06:13:42.714Z"
   },
   {
    "duration": 59,
    "start_time": "2024-08-15T06:13:42.726Z"
   },
   {
    "duration": 250,
    "start_time": "2024-08-15T06:13:42.786Z"
   },
   {
    "duration": 11,
    "start_time": "2024-08-15T06:13:43.038Z"
   },
   {
    "duration": 121,
    "start_time": "2024-08-15T06:13:43.050Z"
   },
   {
    "duration": 60,
    "start_time": "2024-08-15T06:13:43.173Z"
   },
   {
    "duration": 7,
    "start_time": "2024-08-15T06:13:43.235Z"
   },
   {
    "duration": 210,
    "start_time": "2024-08-15T06:13:43.244Z"
   },
   {
    "duration": 5,
    "start_time": "2024-08-15T06:13:43.456Z"
   },
   {
    "duration": 15,
    "start_time": "2024-08-15T06:13:43.462Z"
   },
   {
    "duration": 11,
    "start_time": "2024-08-15T06:13:43.478Z"
   },
   {
    "duration": 28,
    "start_time": "2024-08-15T06:13:43.490Z"
   },
   {
    "duration": 9,
    "start_time": "2024-08-15T06:13:43.520Z"
   },
   {
    "duration": 10,
    "start_time": "2024-08-15T06:13:43.530Z"
   },
   {
    "duration": 252,
    "start_time": "2024-08-15T06:13:43.542Z"
   },
   {
    "duration": 1623,
    "start_time": "2024-08-15T06:13:43.796Z"
   },
   {
    "duration": 7,
    "start_time": "2024-08-15T06:13:45.421Z"
   },
   {
    "duration": 59,
    "start_time": "2024-08-15T06:13:45.429Z"
   },
   {
    "duration": 140,
    "start_time": "2024-08-15T06:13:45.489Z"
   },
   {
    "duration": 10,
    "start_time": "2024-08-15T06:13:45.630Z"
   },
   {
    "duration": 234,
    "start_time": "2024-08-15T06:13:45.642Z"
   },
   {
    "duration": 13,
    "start_time": "2024-08-15T06:13:45.878Z"
   },
   {
    "duration": 25,
    "start_time": "2024-08-15T06:13:45.893Z"
   },
   {
    "duration": 10,
    "start_time": "2024-08-15T06:13:45.920Z"
   },
   {
    "duration": 23,
    "start_time": "2024-08-15T06:13:45.932Z"
   },
   {
    "duration": 33,
    "start_time": "2024-08-15T06:13:45.957Z"
   },
   {
    "duration": 138,
    "start_time": "2024-08-15T06:13:45.992Z"
   },
   {
    "duration": 11,
    "start_time": "2024-08-15T06:13:46.132Z"
   },
   {
    "duration": 12,
    "start_time": "2024-08-15T06:13:46.145Z"
   },
   {
    "duration": 12,
    "start_time": "2024-08-15T06:13:46.158Z"
   },
   {
    "duration": 56,
    "start_time": "2024-08-15T06:13:46.172Z"
   },
   {
    "duration": 308,
    "start_time": "2024-08-15T06:13:46.229Z"
   },
   {
    "duration": 7,
    "start_time": "2024-08-15T06:13:46.538Z"
   },
   {
    "duration": 15,
    "start_time": "2024-08-15T06:14:12.865Z"
   },
   {
    "duration": 3,
    "start_time": "2024-08-15T06:14:47.183Z"
   },
   {
    "duration": 57,
    "start_time": "2024-08-15T06:16:18.748Z"
   },
   {
    "duration": 1570,
    "start_time": "2024-08-15T06:16:32.766Z"
   },
   {
    "duration": 87,
    "start_time": "2024-08-15T06:16:34.338Z"
   },
   {
    "duration": 15,
    "start_time": "2024-08-15T06:16:34.427Z"
   },
   {
    "duration": 6,
    "start_time": "2024-08-15T06:16:34.443Z"
   },
   {
    "duration": 23,
    "start_time": "2024-08-15T06:16:34.451Z"
   },
   {
    "duration": 11,
    "start_time": "2024-08-15T06:16:34.476Z"
   },
   {
    "duration": 18,
    "start_time": "2024-08-15T06:16:34.488Z"
   },
   {
    "duration": 8,
    "start_time": "2024-08-15T06:16:34.507Z"
   },
   {
    "duration": 14,
    "start_time": "2024-08-15T06:16:34.517Z"
   },
   {
    "duration": 12,
    "start_time": "2024-08-15T06:16:34.533Z"
   },
   {
    "duration": 8,
    "start_time": "2024-08-15T06:16:34.547Z"
   },
   {
    "duration": 58,
    "start_time": "2024-08-15T06:16:34.556Z"
   },
   {
    "duration": 62,
    "start_time": "2024-08-15T06:16:34.616Z"
   },
   {
    "duration": 3,
    "start_time": "2024-08-15T06:16:34.681Z"
   },
   {
    "duration": 82,
    "start_time": "2024-08-15T06:16:34.686Z"
   },
   {
    "duration": 23,
    "start_time": "2024-08-15T06:16:34.769Z"
   },
   {
    "duration": 15,
    "start_time": "2024-08-15T06:16:34.794Z"
   },
   {
    "duration": 206,
    "start_time": "2024-08-15T06:16:34.812Z"
   },
   {
    "duration": 291,
    "start_time": "2024-08-15T06:16:35.020Z"
   },
   {
    "duration": 9,
    "start_time": "2024-08-15T06:16:35.313Z"
   },
   {
    "duration": 162,
    "start_time": "2024-08-15T06:16:35.323Z"
   },
   {
    "duration": 254,
    "start_time": "2024-08-15T06:16:35.487Z"
   },
   {
    "duration": 9,
    "start_time": "2024-08-15T06:16:35.743Z"
   },
   {
    "duration": 189,
    "start_time": "2024-08-15T06:16:35.754Z"
   },
   {
    "duration": 31,
    "start_time": "2024-08-15T06:16:35.944Z"
   },
   {
    "duration": 52,
    "start_time": "2024-08-15T06:16:35.977Z"
   },
   {
    "duration": 12,
    "start_time": "2024-08-15T06:16:36.031Z"
   },
   {
    "duration": 82,
    "start_time": "2024-08-15T06:16:36.045Z"
   },
   {
    "duration": 276,
    "start_time": "2024-08-15T06:16:36.129Z"
   },
   {
    "duration": 7,
    "start_time": "2024-08-15T06:16:36.406Z"
   },
   {
    "duration": 43,
    "start_time": "2024-08-15T06:16:36.414Z"
   },
   {
    "duration": 92,
    "start_time": "2024-08-15T06:16:36.458Z"
   },
   {
    "duration": 15,
    "start_time": "2024-08-15T06:16:36.552Z"
   },
   {
    "duration": 59,
    "start_time": "2024-08-15T06:16:36.569Z"
   },
   {
    "duration": 311,
    "start_time": "2024-08-15T06:16:36.629Z"
   },
   {
    "duration": 16,
    "start_time": "2024-08-15T06:16:36.942Z"
   },
   {
    "duration": 138,
    "start_time": "2024-08-15T06:16:36.960Z"
   },
   {
    "duration": 3,
    "start_time": "2024-08-15T06:16:37.100Z"
   },
   {
    "duration": 3,
    "start_time": "2024-08-15T06:16:37.107Z"
   },
   {
    "duration": 8,
    "start_time": "2024-08-15T06:16:37.112Z"
   },
   {
    "duration": 21,
    "start_time": "2024-08-15T06:16:37.125Z"
   },
   {
    "duration": 112,
    "start_time": "2024-08-15T06:16:37.148Z"
   },
   {
    "duration": 10635,
    "start_time": "2024-08-15T06:16:37.261Z"
   },
   {
    "duration": 200,
    "start_time": "2024-08-15T06:16:47.905Z"
   },
   {
    "duration": 12,
    "start_time": "2024-08-15T06:16:48.107Z"
   },
   {
    "duration": 86,
    "start_time": "2024-08-15T06:16:48.120Z"
   },
   {
    "duration": 26,
    "start_time": "2024-08-15T06:16:48.208Z"
   },
   {
    "duration": 140,
    "start_time": "2024-08-15T06:16:48.235Z"
   },
   {
    "duration": 44,
    "start_time": "2024-08-15T06:16:48.376Z"
   },
   {
    "duration": 20,
    "start_time": "2024-08-15T06:16:48.422Z"
   },
   {
    "duration": 14,
    "start_time": "2024-08-15T06:16:48.443Z"
   },
   {
    "duration": 213,
    "start_time": "2024-08-15T06:16:48.458Z"
   },
   {
    "duration": 13,
    "start_time": "2024-08-15T06:16:48.673Z"
   },
   {
    "duration": 28,
    "start_time": "2024-08-15T06:16:48.688Z"
   },
   {
    "duration": 323,
    "start_time": "2024-08-15T06:16:48.718Z"
   },
   {
    "duration": 13,
    "start_time": "2024-08-15T06:16:49.043Z"
   },
   {
    "duration": 127,
    "start_time": "2024-08-15T06:16:49.058Z"
   },
   {
    "duration": 61,
    "start_time": "2024-08-15T06:16:49.187Z"
   },
   {
    "duration": 9,
    "start_time": "2024-08-15T06:16:49.250Z"
   },
   {
    "duration": 212,
    "start_time": "2024-08-15T06:16:49.261Z"
   },
   {
    "duration": 6,
    "start_time": "2024-08-15T06:16:49.475Z"
   },
   {
    "duration": 43,
    "start_time": "2024-08-15T06:16:49.482Z"
   },
   {
    "duration": 10,
    "start_time": "2024-08-15T06:16:49.527Z"
   },
   {
    "duration": 14,
    "start_time": "2024-08-15T06:16:49.539Z"
   },
   {
    "duration": 8,
    "start_time": "2024-08-15T06:16:49.555Z"
   },
   {
    "duration": 25,
    "start_time": "2024-08-15T06:16:49.565Z"
   },
   {
    "duration": 268,
    "start_time": "2024-08-15T06:16:49.592Z"
   },
   {
    "duration": 1675,
    "start_time": "2024-08-15T06:16:49.862Z"
   },
   {
    "duration": 7,
    "start_time": "2024-08-15T06:16:51.538Z"
   },
   {
    "duration": 23,
    "start_time": "2024-08-15T06:16:51.546Z"
   },
   {
    "duration": 108,
    "start_time": "2024-08-15T06:16:51.570Z"
   },
   {
    "duration": 9,
    "start_time": "2024-08-15T06:16:51.680Z"
   },
   {
    "duration": 244,
    "start_time": "2024-08-15T06:16:51.691Z"
   },
   {
    "duration": 12,
    "start_time": "2024-08-15T06:16:51.937Z"
   },
   {
    "duration": 44,
    "start_time": "2024-08-15T06:16:51.951Z"
   },
   {
    "duration": 16,
    "start_time": "2024-08-15T06:16:51.996Z"
   },
   {
    "duration": 30,
    "start_time": "2024-08-15T06:16:52.014Z"
   },
   {
    "duration": 40,
    "start_time": "2024-08-15T06:16:52.046Z"
   },
   {
    "duration": 213,
    "start_time": "2024-08-15T06:16:52.088Z"
   },
   {
    "duration": 14,
    "start_time": "2024-08-15T06:16:52.303Z"
   },
   {
    "duration": 18,
    "start_time": "2024-08-15T06:16:52.319Z"
   },
   {
    "duration": 101,
    "start_time": "2024-08-15T06:16:52.339Z"
   },
   {
    "duration": 131,
    "start_time": "2024-08-15T06:16:52.443Z"
   },
   {
    "duration": 397,
    "start_time": "2024-08-15T06:16:52.576Z"
   },
   {
    "duration": 11,
    "start_time": "2024-08-15T06:16:52.975Z"
   },
   {
    "duration": 143,
    "start_time": "2024-08-15T06:16:52.988Z"
   },
   {
    "duration": 11,
    "start_time": "2024-08-15T06:17:53.148Z"
   },
   {
    "duration": 12,
    "start_time": "2024-08-15T06:18:22.644Z"
   },
   {
    "duration": 1611,
    "start_time": "2024-08-15T06:18:39.114Z"
   },
   {
    "duration": 94,
    "start_time": "2024-08-15T06:18:40.727Z"
   },
   {
    "duration": 19,
    "start_time": "2024-08-15T06:18:40.822Z"
   },
   {
    "duration": 8,
    "start_time": "2024-08-15T06:18:40.843Z"
   },
   {
    "duration": 32,
    "start_time": "2024-08-15T06:18:40.853Z"
   },
   {
    "duration": 29,
    "start_time": "2024-08-15T06:18:40.886Z"
   },
   {
    "duration": 16,
    "start_time": "2024-08-15T06:18:40.917Z"
   },
   {
    "duration": 26,
    "start_time": "2024-08-15T06:18:40.935Z"
   },
   {
    "duration": 7,
    "start_time": "2024-08-15T06:18:40.962Z"
   },
   {
    "duration": 13,
    "start_time": "2024-08-15T06:18:40.971Z"
   },
   {
    "duration": 12,
    "start_time": "2024-08-15T06:18:40.986Z"
   },
   {
    "duration": 53,
    "start_time": "2024-08-15T06:18:41.005Z"
   },
   {
    "duration": 74,
    "start_time": "2024-08-15T06:18:41.060Z"
   },
   {
    "duration": 3,
    "start_time": "2024-08-15T06:18:41.137Z"
   },
   {
    "duration": 72,
    "start_time": "2024-08-15T06:18:41.142Z"
   },
   {
    "duration": 23,
    "start_time": "2024-08-15T06:18:41.216Z"
   },
   {
    "duration": 10,
    "start_time": "2024-08-15T06:18:41.241Z"
   },
   {
    "duration": 208,
    "start_time": "2024-08-15T06:18:41.253Z"
   },
   {
    "duration": 294,
    "start_time": "2024-08-15T06:18:41.463Z"
   },
   {
    "duration": 8,
    "start_time": "2024-08-15T06:18:41.759Z"
   },
   {
    "duration": 12,
    "start_time": "2024-08-15T06:18:41.769Z"
   },
   {
    "duration": 266,
    "start_time": "2024-08-15T06:18:41.783Z"
   },
   {
    "duration": 8,
    "start_time": "2024-08-15T06:18:42.051Z"
   },
   {
    "duration": 174,
    "start_time": "2024-08-15T06:18:42.061Z"
   },
   {
    "duration": 26,
    "start_time": "2024-08-15T06:18:42.237Z"
   },
   {
    "duration": 51,
    "start_time": "2024-08-15T06:18:42.265Z"
   },
   {
    "duration": 9,
    "start_time": "2024-08-15T06:18:42.317Z"
   },
   {
    "duration": 78,
    "start_time": "2024-08-15T06:18:42.328Z"
   },
   {
    "duration": 265,
    "start_time": "2024-08-15T06:18:42.408Z"
   },
   {
    "duration": 7,
    "start_time": "2024-08-15T06:18:42.675Z"
   },
   {
    "duration": 51,
    "start_time": "2024-08-15T06:18:42.684Z"
   },
   {
    "duration": 99,
    "start_time": "2024-08-15T06:18:42.737Z"
   },
   {
    "duration": 24,
    "start_time": "2024-08-15T06:18:42.839Z"
   },
   {
    "duration": 13,
    "start_time": "2024-08-15T06:18:42.865Z"
   },
   {
    "duration": 315,
    "start_time": "2024-08-15T06:18:42.880Z"
   },
   {
    "duration": 11,
    "start_time": "2024-08-15T06:18:43.205Z"
   },
   {
    "duration": 123,
    "start_time": "2024-08-15T06:18:43.218Z"
   },
   {
    "duration": 3,
    "start_time": "2024-08-15T06:18:43.343Z"
   },
   {
    "duration": 116,
    "start_time": "2024-08-15T06:18:43.347Z"
   },
   {
    "duration": 7,
    "start_time": "2024-08-15T06:18:43.464Z"
   },
   {
    "duration": 21,
    "start_time": "2024-08-15T06:18:43.476Z"
   },
   {
    "duration": 87,
    "start_time": "2024-08-15T06:18:43.498Z"
   },
   {
    "duration": 10286,
    "start_time": "2024-08-15T06:18:43.587Z"
   },
   {
    "duration": 172,
    "start_time": "2024-08-15T06:18:53.876Z"
   },
   {
    "duration": 64,
    "start_time": "2024-08-15T06:18:54.050Z"
   },
   {
    "duration": 104,
    "start_time": "2024-08-15T06:18:54.115Z"
   },
   {
    "duration": 22,
    "start_time": "2024-08-15T06:18:54.220Z"
   },
   {
    "duration": 107,
    "start_time": "2024-08-15T06:18:54.244Z"
   },
   {
    "duration": 16,
    "start_time": "2024-08-15T06:18:54.352Z"
   },
   {
    "duration": 39,
    "start_time": "2024-08-15T06:18:54.370Z"
   },
   {
    "duration": 15,
    "start_time": "2024-08-15T06:18:54.411Z"
   },
   {
    "duration": 214,
    "start_time": "2024-08-15T06:18:54.428Z"
   },
   {
    "duration": 13,
    "start_time": "2024-08-15T06:18:54.644Z"
   },
   {
    "duration": 14,
    "start_time": "2024-08-15T06:18:54.658Z"
   },
   {
    "duration": 288,
    "start_time": "2024-08-15T06:18:54.674Z"
   },
   {
    "duration": 11,
    "start_time": "2024-08-15T06:18:54.964Z"
   },
   {
    "duration": 142,
    "start_time": "2024-08-15T06:18:54.977Z"
   },
   {
    "duration": 43,
    "start_time": "2024-08-15T06:18:55.120Z"
   },
   {
    "duration": 7,
    "start_time": "2024-08-15T06:18:55.165Z"
   },
   {
    "duration": 207,
    "start_time": "2024-08-15T06:18:55.173Z"
   },
   {
    "duration": 5,
    "start_time": "2024-08-15T06:18:55.381Z"
   },
   {
    "duration": 86,
    "start_time": "2024-08-15T06:18:55.388Z"
   },
   {
    "duration": 20,
    "start_time": "2024-08-15T06:18:55.476Z"
   },
   {
    "duration": 23,
    "start_time": "2024-08-15T06:18:55.497Z"
   },
   {
    "duration": 15,
    "start_time": "2024-08-15T06:18:55.522Z"
   },
   {
    "duration": 10,
    "start_time": "2024-08-15T06:18:55.539Z"
   },
   {
    "duration": 267,
    "start_time": "2024-08-15T06:18:55.551Z"
   },
   {
    "duration": 1667,
    "start_time": "2024-08-15T06:18:55.820Z"
   },
   {
    "duration": 17,
    "start_time": "2024-08-15T06:18:57.489Z"
   },
   {
    "duration": 10,
    "start_time": "2024-08-15T06:18:57.508Z"
   },
   {
    "duration": 109,
    "start_time": "2024-08-15T06:18:57.520Z"
   },
   {
    "duration": 9,
    "start_time": "2024-08-15T06:18:57.631Z"
   },
   {
    "duration": 229,
    "start_time": "2024-08-15T06:18:57.641Z"
   },
   {
    "duration": 14,
    "start_time": "2024-08-15T06:18:57.871Z"
   },
   {
    "duration": 25,
    "start_time": "2024-08-15T06:18:57.886Z"
   },
   {
    "duration": 3,
    "start_time": "2024-08-15T06:18:57.913Z"
   },
   {
    "duration": 11,
    "start_time": "2024-08-15T06:18:57.917Z"
   },
   {
    "duration": 13,
    "start_time": "2024-08-15T06:18:57.930Z"
   },
   {
    "duration": 137,
    "start_time": "2024-08-15T06:18:57.945Z"
   },
   {
    "duration": 11,
    "start_time": "2024-08-15T06:18:58.084Z"
   },
   {
    "duration": 12,
    "start_time": "2024-08-15T06:18:58.104Z"
   },
   {
    "duration": 12,
    "start_time": "2024-08-15T06:18:58.118Z"
   },
   {
    "duration": 14,
    "start_time": "2024-08-15T06:18:58.132Z"
   },
   {
    "duration": 323,
    "start_time": "2024-08-15T06:18:58.148Z"
   },
   {
    "duration": 8,
    "start_time": "2024-08-15T06:18:58.473Z"
   },
   {
    "duration": 21,
    "start_time": "2024-08-15T06:18:58.482Z"
   },
   {
    "duration": 1548,
    "start_time": "2024-08-15T07:30:20.460Z"
   },
   {
    "duration": 95,
    "start_time": "2024-08-15T07:30:22.010Z"
   },
   {
    "duration": 13,
    "start_time": "2024-08-15T07:30:22.106Z"
   },
   {
    "duration": 5,
    "start_time": "2024-08-15T07:30:22.121Z"
   },
   {
    "duration": 17,
    "start_time": "2024-08-15T07:30:22.128Z"
   },
   {
    "duration": 25,
    "start_time": "2024-08-15T07:30:22.146Z"
   },
   {
    "duration": 5,
    "start_time": "2024-08-15T07:30:22.172Z"
   },
   {
    "duration": 14,
    "start_time": "2024-08-15T07:30:22.178Z"
   },
   {
    "duration": 9,
    "start_time": "2024-08-15T07:30:22.193Z"
   },
   {
    "duration": 12,
    "start_time": "2024-08-15T07:30:22.204Z"
   },
   {
    "duration": 23,
    "start_time": "2024-08-15T07:30:22.217Z"
   },
   {
    "duration": 48,
    "start_time": "2024-08-15T07:30:22.241Z"
   },
   {
    "duration": 61,
    "start_time": "2024-08-15T07:30:22.291Z"
   },
   {
    "duration": 11,
    "start_time": "2024-08-15T07:30:22.355Z"
   },
   {
    "duration": 72,
    "start_time": "2024-08-15T07:30:22.367Z"
   },
   {
    "duration": 30,
    "start_time": "2024-08-15T07:30:22.441Z"
   },
   {
    "duration": 10,
    "start_time": "2024-08-15T07:30:22.473Z"
   },
   {
    "duration": 193,
    "start_time": "2024-08-15T07:30:22.485Z"
   },
   {
    "duration": 265,
    "start_time": "2024-08-15T07:30:22.680Z"
   },
   {
    "duration": 9,
    "start_time": "2024-08-15T07:30:22.947Z"
   },
   {
    "duration": 16,
    "start_time": "2024-08-15T07:30:22.966Z"
   },
   {
    "duration": 267,
    "start_time": "2024-08-15T07:30:22.983Z"
   },
   {
    "duration": 15,
    "start_time": "2024-08-15T07:30:23.251Z"
   },
   {
    "duration": 268,
    "start_time": "2024-08-15T07:30:23.268Z"
   },
   {
    "duration": 44,
    "start_time": "2024-08-15T07:30:23.537Z"
   },
   {
    "duration": 26,
    "start_time": "2024-08-15T07:30:23.583Z"
   },
   {
    "duration": 61,
    "start_time": "2024-08-15T07:30:23.611Z"
   },
   {
    "duration": 43,
    "start_time": "2024-08-15T07:30:23.673Z"
   },
   {
    "duration": 287,
    "start_time": "2024-08-15T07:30:23.717Z"
   },
   {
    "duration": 6,
    "start_time": "2024-08-15T07:30:24.006Z"
   },
   {
    "duration": 23,
    "start_time": "2024-08-15T07:30:24.013Z"
   },
   {
    "duration": 100,
    "start_time": "2024-08-15T07:30:24.037Z"
   },
   {
    "duration": 30,
    "start_time": "2024-08-15T07:30:24.138Z"
   },
   {
    "duration": 11,
    "start_time": "2024-08-15T07:30:24.169Z"
   },
   {
    "duration": 275,
    "start_time": "2024-08-15T07:30:24.181Z"
   },
   {
    "duration": 13,
    "start_time": "2024-08-15T07:30:24.458Z"
   },
   {
    "duration": 125,
    "start_time": "2024-08-15T07:30:24.473Z"
   },
   {
    "duration": 2,
    "start_time": "2024-08-15T07:30:24.600Z"
   },
   {
    "duration": 8,
    "start_time": "2024-08-15T07:30:24.604Z"
   },
   {
    "duration": 8,
    "start_time": "2024-08-15T07:30:24.613Z"
   },
   {
    "duration": 18,
    "start_time": "2024-08-15T07:30:24.627Z"
   },
   {
    "duration": 98,
    "start_time": "2024-08-15T07:30:24.646Z"
   },
   {
    "duration": 10195,
    "start_time": "2024-08-15T07:30:24.745Z"
   },
   {
    "duration": 144,
    "start_time": "2024-08-15T07:30:34.942Z"
   },
   {
    "duration": 12,
    "start_time": "2024-08-15T07:30:35.087Z"
   },
   {
    "duration": 86,
    "start_time": "2024-08-15T07:30:35.100Z"
   },
   {
    "duration": 22,
    "start_time": "2024-08-15T07:30:35.187Z"
   },
   {
    "duration": 158,
    "start_time": "2024-08-15T07:30:35.211Z"
   },
   {
    "duration": 15,
    "start_time": "2024-08-15T07:30:35.370Z"
   },
   {
    "duration": 15,
    "start_time": "2024-08-15T07:30:35.387Z"
   },
   {
    "duration": 13,
    "start_time": "2024-08-15T07:30:35.404Z"
   },
   {
    "duration": 217,
    "start_time": "2024-08-15T07:30:35.418Z"
   },
   {
    "duration": 12,
    "start_time": "2024-08-15T07:30:35.636Z"
   },
   {
    "duration": 26,
    "start_time": "2024-08-15T07:30:35.650Z"
   },
   {
    "duration": 269,
    "start_time": "2024-08-15T07:30:35.677Z"
   },
   {
    "duration": 22,
    "start_time": "2024-08-15T07:30:35.948Z"
   },
   {
    "duration": 122,
    "start_time": "2024-08-15T07:30:35.971Z"
   },
   {
    "duration": 44,
    "start_time": "2024-08-15T07:30:36.094Z"
   },
   {
    "duration": 9,
    "start_time": "2024-08-15T07:30:36.167Z"
   },
   {
    "duration": 179,
    "start_time": "2024-08-15T07:30:36.178Z"
   },
   {
    "duration": 10,
    "start_time": "2024-08-15T07:30:36.358Z"
   },
   {
    "duration": 14,
    "start_time": "2024-08-15T07:30:36.369Z"
   },
   {
    "duration": 13,
    "start_time": "2024-08-15T07:30:36.385Z"
   },
   {
    "duration": 13,
    "start_time": "2024-08-15T07:30:36.399Z"
   },
   {
    "duration": 8,
    "start_time": "2024-08-15T07:30:36.413Z"
   },
   {
    "duration": 8,
    "start_time": "2024-08-15T07:30:36.422Z"
   },
   {
    "duration": 258,
    "start_time": "2024-08-15T07:30:36.432Z"
   },
   {
    "duration": 1600,
    "start_time": "2024-08-15T07:30:36.692Z"
   },
   {
    "duration": 7,
    "start_time": "2024-08-15T07:30:38.293Z"
   },
   {
    "duration": 14,
    "start_time": "2024-08-15T07:30:38.302Z"
   },
   {
    "duration": 119,
    "start_time": "2024-08-15T07:30:38.318Z"
   },
   {
    "duration": 9,
    "start_time": "2024-08-15T07:30:38.439Z"
   },
   {
    "duration": 244,
    "start_time": "2024-08-15T07:30:38.449Z"
   },
   {
    "duration": 13,
    "start_time": "2024-08-15T07:30:38.695Z"
   },
   {
    "duration": 12,
    "start_time": "2024-08-15T07:30:38.709Z"
   },
   {
    "duration": 2,
    "start_time": "2024-08-15T07:30:38.723Z"
   },
   {
    "duration": 10,
    "start_time": "2024-08-15T07:30:38.727Z"
   },
   {
    "duration": 13,
    "start_time": "2024-08-15T07:30:38.765Z"
   },
   {
    "duration": 123,
    "start_time": "2024-08-15T07:30:38.780Z"
   },
   {
    "duration": 13,
    "start_time": "2024-08-15T07:30:38.904Z"
   },
   {
    "duration": 9,
    "start_time": "2024-08-15T07:30:38.918Z"
   },
   {
    "duration": 11,
    "start_time": "2024-08-15T07:30:38.929Z"
   },
   {
    "duration": 15,
    "start_time": "2024-08-15T07:30:38.965Z"
   },
   {
    "duration": 320,
    "start_time": "2024-08-15T07:30:38.982Z"
   },
   {
    "duration": 7,
    "start_time": "2024-08-15T07:30:39.303Z"
   },
   {
    "duration": 3,
    "start_time": "2024-08-15T07:30:39.312Z"
   },
   {
    "duration": 1639,
    "start_time": "2024-08-15T07:34:22.359Z"
   },
   {
    "duration": 92,
    "start_time": "2024-08-15T07:34:24.000Z"
   },
   {
    "duration": 15,
    "start_time": "2024-08-15T07:34:24.094Z"
   },
   {
    "duration": 8,
    "start_time": "2024-08-15T07:34:24.111Z"
   },
   {
    "duration": 15,
    "start_time": "2024-08-15T07:34:24.122Z"
   },
   {
    "duration": 49,
    "start_time": "2024-08-15T07:34:24.139Z"
   },
   {
    "duration": 5,
    "start_time": "2024-08-15T07:34:24.190Z"
   },
   {
    "duration": 13,
    "start_time": "2024-08-15T07:34:24.197Z"
   },
   {
    "duration": 7,
    "start_time": "2024-08-15T07:34:24.212Z"
   },
   {
    "duration": 14,
    "start_time": "2024-08-15T07:34:24.220Z"
   },
   {
    "duration": 41,
    "start_time": "2024-08-15T07:34:24.235Z"
   },
   {
    "duration": 30,
    "start_time": "2024-08-15T07:34:24.278Z"
   },
   {
    "duration": 74,
    "start_time": "2024-08-15T07:34:24.310Z"
   },
   {
    "duration": 5,
    "start_time": "2024-08-15T07:34:24.390Z"
   },
   {
    "duration": 74,
    "start_time": "2024-08-15T07:34:24.396Z"
   },
   {
    "duration": 21,
    "start_time": "2024-08-15T07:34:24.479Z"
   },
   {
    "duration": 11,
    "start_time": "2024-08-15T07:34:24.501Z"
   },
   {
    "duration": 209,
    "start_time": "2024-08-15T07:34:24.513Z"
   },
   {
    "duration": 275,
    "start_time": "2024-08-15T07:34:24.724Z"
   },
   {
    "duration": 8,
    "start_time": "2024-08-15T07:34:25.001Z"
   },
   {
    "duration": 15,
    "start_time": "2024-08-15T07:34:25.011Z"
   },
   {
    "duration": 269,
    "start_time": "2024-08-15T07:34:25.028Z"
   },
   {
    "duration": 9,
    "start_time": "2024-08-15T07:34:25.299Z"
   },
   {
    "duration": 254,
    "start_time": "2024-08-15T07:34:25.310Z"
   },
   {
    "duration": 28,
    "start_time": "2024-08-15T07:34:25.565Z"
   },
   {
    "duration": 91,
    "start_time": "2024-08-15T07:34:25.595Z"
   },
   {
    "duration": 9,
    "start_time": "2024-08-15T07:34:25.688Z"
   },
   {
    "duration": 85,
    "start_time": "2024-08-15T07:34:25.698Z"
   },
   {
    "duration": 291,
    "start_time": "2024-08-15T07:34:25.784Z"
   },
   {
    "duration": 11,
    "start_time": "2024-08-15T07:34:26.076Z"
   },
   {
    "duration": 57,
    "start_time": "2024-08-15T07:34:26.089Z"
   },
   {
    "duration": 136,
    "start_time": "2024-08-15T07:34:26.148Z"
   },
   {
    "duration": 17,
    "start_time": "2024-08-15T07:34:26.286Z"
   },
   {
    "duration": 11,
    "start_time": "2024-08-15T07:34:26.305Z"
   },
   {
    "duration": 333,
    "start_time": "2024-08-15T07:34:26.318Z"
   },
   {
    "duration": 19,
    "start_time": "2024-08-15T07:34:26.653Z"
   },
   {
    "duration": 130,
    "start_time": "2024-08-15T07:34:26.673Z"
   },
   {
    "duration": 3,
    "start_time": "2024-08-15T07:34:26.805Z"
   },
   {
    "duration": 7,
    "start_time": "2024-08-15T07:34:26.809Z"
   },
   {
    "duration": 6,
    "start_time": "2024-08-15T07:34:26.817Z"
   },
   {
    "duration": 19,
    "start_time": "2024-08-15T07:34:26.828Z"
   },
   {
    "duration": 96,
    "start_time": "2024-08-15T07:34:26.865Z"
   },
   {
    "duration": 10965,
    "start_time": "2024-08-15T07:34:26.963Z"
   },
   {
    "duration": 264,
    "start_time": "2024-08-15T07:34:37.930Z"
   },
   {
    "duration": 14,
    "start_time": "2024-08-15T07:34:38.196Z"
   },
   {
    "duration": 108,
    "start_time": "2024-08-15T07:34:38.266Z"
   },
   {
    "duration": 26,
    "start_time": "2024-08-15T07:34:38.375Z"
   },
   {
    "duration": 115,
    "start_time": "2024-08-15T07:34:38.402Z"
   },
   {
    "duration": 15,
    "start_time": "2024-08-15T07:34:38.519Z"
   },
   {
    "duration": 11,
    "start_time": "2024-08-15T07:34:38.536Z"
   },
   {
    "duration": 23,
    "start_time": "2024-08-15T07:34:38.571Z"
   },
   {
    "duration": 212,
    "start_time": "2024-08-15T07:34:38.597Z"
   },
   {
    "duration": 13,
    "start_time": "2024-08-15T07:34:38.811Z"
   },
   {
    "duration": 27,
    "start_time": "2024-08-15T07:34:38.826Z"
   },
   {
    "duration": 276,
    "start_time": "2024-08-15T07:34:38.855Z"
   },
   {
    "duration": 12,
    "start_time": "2024-08-15T07:34:39.133Z"
   },
   {
    "duration": 244,
    "start_time": "2024-08-15T07:34:39.147Z"
   },
   {
    "duration": 44,
    "start_time": "2024-08-15T07:34:39.392Z"
   },
   {
    "duration": 40,
    "start_time": "2024-08-15T07:34:39.438Z"
   },
   {
    "duration": 198,
    "start_time": "2024-08-15T07:34:39.485Z"
   },
   {
    "duration": 6,
    "start_time": "2024-08-15T07:34:39.687Z"
   },
   {
    "duration": 15,
    "start_time": "2024-08-15T07:34:39.695Z"
   },
   {
    "duration": 18,
    "start_time": "2024-08-15T07:34:39.712Z"
   },
   {
    "duration": 13,
    "start_time": "2024-08-15T07:34:39.731Z"
   },
   {
    "duration": 21,
    "start_time": "2024-08-15T07:34:39.746Z"
   },
   {
    "duration": 20,
    "start_time": "2024-08-15T07:34:39.768Z"
   },
   {
    "duration": 324,
    "start_time": "2024-08-15T07:34:39.789Z"
   },
   {
    "duration": 1704,
    "start_time": "2024-08-15T07:34:40.115Z"
   },
   {
    "duration": 10,
    "start_time": "2024-08-15T07:34:41.821Z"
   },
   {
    "duration": 36,
    "start_time": "2024-08-15T07:34:41.833Z"
   },
   {
    "duration": 116,
    "start_time": "2024-08-15T07:34:41.871Z"
   },
   {
    "duration": 9,
    "start_time": "2024-08-15T07:34:41.988Z"
   },
   {
    "duration": 229,
    "start_time": "2024-08-15T07:34:41.999Z"
   },
   {
    "duration": 13,
    "start_time": "2024-08-15T07:34:42.230Z"
   },
   {
    "duration": 35,
    "start_time": "2024-08-15T07:34:42.245Z"
   },
   {
    "duration": 3,
    "start_time": "2024-08-15T07:34:42.281Z"
   },
   {
    "duration": 8,
    "start_time": "2024-08-15T07:34:42.286Z"
   },
   {
    "duration": 11,
    "start_time": "2024-08-15T07:34:42.296Z"
   },
   {
    "duration": 132,
    "start_time": "2024-08-15T07:34:42.309Z"
   },
   {
    "duration": 10,
    "start_time": "2024-08-15T07:34:42.443Z"
   },
   {
    "duration": 16,
    "start_time": "2024-08-15T07:34:42.466Z"
   },
   {
    "duration": 9,
    "start_time": "2024-08-15T07:34:42.484Z"
   },
   {
    "duration": 14,
    "start_time": "2024-08-15T07:34:42.494Z"
   },
   {
    "duration": 319,
    "start_time": "2024-08-15T07:34:42.510Z"
   },
   {
    "duration": 9,
    "start_time": "2024-08-15T07:34:42.830Z"
   },
   {
    "duration": 3,
    "start_time": "2024-08-15T07:34:42.840Z"
   },
   {
    "duration": 1827,
    "start_time": "2024-08-15T07:35:17.355Z"
   },
   {
    "duration": 115,
    "start_time": "2024-08-15T07:35:19.185Z"
   },
   {
    "duration": 20,
    "start_time": "2024-08-15T07:35:19.302Z"
   },
   {
    "duration": 16,
    "start_time": "2024-08-15T07:35:19.324Z"
   },
   {
    "duration": 47,
    "start_time": "2024-08-15T07:35:19.342Z"
   },
   {
    "duration": 14,
    "start_time": "2024-08-15T07:35:19.392Z"
   },
   {
    "duration": 15,
    "start_time": "2024-08-15T07:35:19.407Z"
   },
   {
    "duration": 20,
    "start_time": "2024-08-15T07:35:19.423Z"
   },
   {
    "duration": 30,
    "start_time": "2024-08-15T07:35:19.445Z"
   },
   {
    "duration": 27,
    "start_time": "2024-08-15T07:35:19.479Z"
   },
   {
    "duration": 9,
    "start_time": "2024-08-15T07:35:19.508Z"
   },
   {
    "duration": 65,
    "start_time": "2024-08-15T07:35:19.519Z"
   },
   {
    "duration": 73,
    "start_time": "2024-08-15T07:35:19.589Z"
   },
   {
    "duration": 11,
    "start_time": "2024-08-15T07:35:19.663Z"
   },
   {
    "duration": 86,
    "start_time": "2024-08-15T07:35:19.682Z"
   },
   {
    "duration": 20,
    "start_time": "2024-08-15T07:35:19.773Z"
   },
   {
    "duration": 19,
    "start_time": "2024-08-15T07:35:19.795Z"
   },
   {
    "duration": 216,
    "start_time": "2024-08-15T07:35:19.816Z"
   },
   {
    "duration": 291,
    "start_time": "2024-08-15T07:35:20.033Z"
   },
   {
    "duration": 8,
    "start_time": "2024-08-15T07:35:20.325Z"
   },
   {
    "duration": 62,
    "start_time": "2024-08-15T07:35:20.335Z"
   },
   {
    "duration": 273,
    "start_time": "2024-08-15T07:35:20.399Z"
   },
   {
    "duration": 16,
    "start_time": "2024-08-15T07:35:20.674Z"
   },
   {
    "duration": 315,
    "start_time": "2024-08-15T07:35:20.697Z"
   },
   {
    "duration": 60,
    "start_time": "2024-08-15T07:35:21.014Z"
   },
   {
    "duration": 33,
    "start_time": "2024-08-15T07:35:21.076Z"
   },
   {
    "duration": 61,
    "start_time": "2024-08-15T07:35:21.110Z"
   },
   {
    "duration": 100,
    "start_time": "2024-08-15T07:35:21.180Z"
   },
   {
    "duration": 257,
    "start_time": "2024-08-15T07:35:21.281Z"
   },
   {
    "duration": 6,
    "start_time": "2024-08-15T07:35:21.540Z"
   },
   {
    "duration": 50,
    "start_time": "2024-08-15T07:35:21.547Z"
   },
   {
    "duration": 97,
    "start_time": "2024-08-15T07:35:21.598Z"
   },
   {
    "duration": 17,
    "start_time": "2024-08-15T07:35:21.697Z"
   },
   {
    "duration": 11,
    "start_time": "2024-08-15T07:35:21.716Z"
   },
   {
    "duration": 315,
    "start_time": "2024-08-15T07:35:21.729Z"
   },
   {
    "duration": 36,
    "start_time": "2024-08-15T07:35:22.046Z"
   },
   {
    "duration": 154,
    "start_time": "2024-08-15T07:35:22.091Z"
   },
   {
    "duration": 2,
    "start_time": "2024-08-15T07:35:22.247Z"
   },
   {
    "duration": 26,
    "start_time": "2024-08-15T07:35:22.251Z"
   },
   {
    "duration": 8,
    "start_time": "2024-08-15T07:35:22.286Z"
   },
   {
    "duration": 30,
    "start_time": "2024-08-15T07:35:22.296Z"
   },
   {
    "duration": 113,
    "start_time": "2024-08-15T07:35:22.328Z"
   },
   {
    "duration": 11961,
    "start_time": "2024-08-15T07:35:22.443Z"
   },
   {
    "duration": 266,
    "start_time": "2024-08-15T07:35:34.406Z"
   },
   {
    "duration": 25,
    "start_time": "2024-08-15T07:35:34.679Z"
   },
   {
    "duration": 108,
    "start_time": "2024-08-15T07:35:34.706Z"
   },
   {
    "duration": 87,
    "start_time": "2024-08-15T07:35:34.816Z"
   },
   {
    "duration": 107,
    "start_time": "2024-08-15T07:35:34.905Z"
   },
   {
    "duration": 16,
    "start_time": "2024-08-15T07:35:35.014Z"
   },
   {
    "duration": 12,
    "start_time": "2024-08-15T07:35:35.032Z"
   },
   {
    "duration": 51,
    "start_time": "2024-08-15T07:35:35.046Z"
   },
   {
    "duration": 224,
    "start_time": "2024-08-15T07:35:35.099Z"
   },
   {
    "duration": 15,
    "start_time": "2024-08-15T07:35:35.325Z"
   },
   {
    "duration": 46,
    "start_time": "2024-08-15T07:35:35.341Z"
   },
   {
    "duration": 321,
    "start_time": "2024-08-15T07:35:35.389Z"
   },
   {
    "duration": 12,
    "start_time": "2024-08-15T07:35:35.711Z"
   },
   {
    "duration": 194,
    "start_time": "2024-08-15T07:35:35.725Z"
   },
   {
    "duration": 77,
    "start_time": "2024-08-15T07:35:35.920Z"
   },
   {
    "duration": 8,
    "start_time": "2024-08-15T07:35:35.998Z"
   },
   {
    "duration": 203,
    "start_time": "2024-08-15T07:35:36.008Z"
   },
   {
    "duration": 6,
    "start_time": "2024-08-15T07:35:36.212Z"
   },
   {
    "duration": 15,
    "start_time": "2024-08-15T07:35:36.220Z"
   },
   {
    "duration": 35,
    "start_time": "2024-08-15T07:35:36.236Z"
   },
   {
    "duration": 20,
    "start_time": "2024-08-15T07:35:36.273Z"
   },
   {
    "duration": 9,
    "start_time": "2024-08-15T07:35:36.296Z"
   },
   {
    "duration": 8,
    "start_time": "2024-08-15T07:35:36.306Z"
   },
   {
    "duration": 299,
    "start_time": "2024-08-15T07:35:36.316Z"
   },
   {
    "duration": 1884,
    "start_time": "2024-08-15T07:35:36.617Z"
   },
   {
    "duration": 7,
    "start_time": "2024-08-15T07:35:38.502Z"
   },
   {
    "duration": 8,
    "start_time": "2024-08-15T07:35:38.510Z"
   },
   {
    "duration": 161,
    "start_time": "2024-08-15T07:35:38.520Z"
   },
   {
    "duration": 21,
    "start_time": "2024-08-15T07:35:38.682Z"
   },
   {
    "duration": 254,
    "start_time": "2024-08-15T07:35:38.705Z"
   },
   {
    "duration": 24,
    "start_time": "2024-08-15T07:35:38.970Z"
   },
   {
    "duration": 24,
    "start_time": "2024-08-15T07:35:38.996Z"
   },
   {
    "duration": 5,
    "start_time": "2024-08-15T07:35:39.022Z"
   },
   {
    "duration": 11,
    "start_time": "2024-08-15T07:35:39.029Z"
   },
   {
    "duration": 27,
    "start_time": "2024-08-15T07:35:39.042Z"
   },
   {
    "duration": 154,
    "start_time": "2024-08-15T07:35:39.073Z"
   },
   {
    "duration": 16,
    "start_time": "2024-08-15T07:35:39.229Z"
   },
   {
    "duration": 28,
    "start_time": "2024-08-15T07:35:39.247Z"
   },
   {
    "duration": 18,
    "start_time": "2024-08-15T07:35:39.283Z"
   },
   {
    "duration": 16,
    "start_time": "2024-08-15T07:35:39.303Z"
   },
   {
    "duration": 349,
    "start_time": "2024-08-15T07:35:39.321Z"
   },
   {
    "duration": 22,
    "start_time": "2024-08-15T07:35:39.672Z"
   },
   {
    "duration": 3,
    "start_time": "2024-08-15T07:35:39.701Z"
   },
   {
    "duration": 50,
    "start_time": "2024-08-15T09:55:27.648Z"
   },
   {
    "duration": 1975,
    "start_time": "2024-08-15T09:55:33.113Z"
   },
   {
    "duration": 305,
    "start_time": "2024-08-15T09:55:35.090Z"
   },
   {
    "duration": 16,
    "start_time": "2024-08-15T09:55:35.397Z"
   },
   {
    "duration": 7,
    "start_time": "2024-08-15T09:55:35.414Z"
   },
   {
    "duration": 16,
    "start_time": "2024-08-15T09:55:35.423Z"
   },
   {
    "duration": 58,
    "start_time": "2024-08-15T09:55:35.440Z"
   },
   {
    "duration": 7,
    "start_time": "2024-08-15T09:55:35.500Z"
   },
   {
    "duration": 32,
    "start_time": "2024-08-15T09:55:35.510Z"
   },
   {
    "duration": 21,
    "start_time": "2024-08-15T09:55:35.544Z"
   },
   {
    "duration": 29,
    "start_time": "2024-08-15T09:55:35.567Z"
   },
   {
    "duration": 10,
    "start_time": "2024-08-15T09:55:35.598Z"
   },
   {
    "duration": 43,
    "start_time": "2024-08-15T09:55:35.609Z"
   },
   {
    "duration": 79,
    "start_time": "2024-08-15T09:55:35.654Z"
   },
   {
    "duration": 4,
    "start_time": "2024-08-15T09:55:35.736Z"
   },
   {
    "duration": 80,
    "start_time": "2024-08-15T09:55:35.742Z"
   },
   {
    "duration": 15,
    "start_time": "2024-08-15T09:55:35.824Z"
   },
   {
    "duration": 10,
    "start_time": "2024-08-15T09:55:35.840Z"
   },
   {
    "duration": 220,
    "start_time": "2024-08-15T09:55:35.852Z"
   },
   {
    "duration": 276,
    "start_time": "2024-08-15T09:55:36.073Z"
   },
   {
    "duration": 8,
    "start_time": "2024-08-15T09:55:36.351Z"
   },
   {
    "duration": 34,
    "start_time": "2024-08-15T09:55:36.361Z"
   },
   {
    "duration": 349,
    "start_time": "2024-08-15T09:55:36.397Z"
   },
   {
    "duration": 8,
    "start_time": "2024-08-15T09:55:36.748Z"
   },
   {
    "duration": 189,
    "start_time": "2024-08-15T09:55:36.758Z"
   },
   {
    "duration": 26,
    "start_time": "2024-08-15T09:55:36.949Z"
   },
   {
    "duration": 36,
    "start_time": "2024-08-15T09:55:36.977Z"
   },
   {
    "duration": 10,
    "start_time": "2024-08-15T09:55:37.014Z"
   },
   {
    "duration": 81,
    "start_time": "2024-08-15T09:55:37.025Z"
   },
   {
    "duration": 265,
    "start_time": "2024-08-15T09:55:37.107Z"
   },
   {
    "duration": 7,
    "start_time": "2024-08-15T09:55:37.373Z"
   },
   {
    "duration": 39,
    "start_time": "2024-08-15T09:55:37.382Z"
   },
   {
    "duration": 92,
    "start_time": "2024-08-15T09:55:37.423Z"
   },
   {
    "duration": 16,
    "start_time": "2024-08-15T09:55:37.516Z"
   },
   {
    "duration": 19,
    "start_time": "2024-08-15T09:55:37.534Z"
   },
   {
    "duration": 289,
    "start_time": "2024-08-15T09:55:37.555Z"
   },
   {
    "duration": 12,
    "start_time": "2024-08-15T09:55:37.845Z"
   },
   {
    "duration": 268,
    "start_time": "2024-08-15T09:55:37.858Z"
   },
   {
    "duration": 3,
    "start_time": "2024-08-15T09:55:38.128Z"
   },
   {
    "duration": 5,
    "start_time": "2024-08-15T09:55:38.133Z"
   },
   {
    "duration": 27,
    "start_time": "2024-08-15T09:55:38.139Z"
   },
   {
    "duration": 20,
    "start_time": "2024-08-15T09:55:38.170Z"
   },
   {
    "duration": 91,
    "start_time": "2024-08-15T09:55:38.192Z"
   },
   {
    "duration": 10326,
    "start_time": "2024-08-15T09:55:38.285Z"
   },
   {
    "duration": 183,
    "start_time": "2024-08-15T09:55:48.613Z"
   },
   {
    "duration": 13,
    "start_time": "2024-08-15T09:55:48.798Z"
   },
   {
    "duration": 86,
    "start_time": "2024-08-15T09:55:48.813Z"
   },
   {
    "duration": 24,
    "start_time": "2024-08-15T09:55:48.901Z"
   },
   {
    "duration": 121,
    "start_time": "2024-08-15T09:55:48.927Z"
   },
   {
    "duration": 15,
    "start_time": "2024-08-15T09:55:49.050Z"
   },
   {
    "duration": 61,
    "start_time": "2024-08-15T09:55:49.067Z"
   },
   {
    "duration": 13,
    "start_time": "2024-08-15T09:55:49.130Z"
   },
   {
    "duration": 187,
    "start_time": "2024-08-15T09:55:49.145Z"
   },
   {
    "duration": 12,
    "start_time": "2024-08-15T09:55:49.333Z"
   },
   {
    "duration": 13,
    "start_time": "2024-08-15T09:55:49.347Z"
   },
   {
    "duration": 265,
    "start_time": "2024-08-15T09:55:49.362Z"
   },
   {
    "duration": 12,
    "start_time": "2024-08-15T09:55:49.628Z"
   },
   {
    "duration": 128,
    "start_time": "2024-08-15T09:55:49.642Z"
   },
   {
    "duration": 54,
    "start_time": "2024-08-15T09:55:49.772Z"
   },
   {
    "duration": 7,
    "start_time": "2024-08-15T09:55:49.828Z"
   },
   {
    "duration": 196,
    "start_time": "2024-08-15T09:55:49.836Z"
   },
   {
    "duration": 5,
    "start_time": "2024-08-15T09:55:50.034Z"
   },
   {
    "duration": 44,
    "start_time": "2024-08-15T09:55:50.040Z"
   },
   {
    "duration": 22,
    "start_time": "2024-08-15T09:55:50.085Z"
   },
   {
    "duration": 23,
    "start_time": "2024-08-15T09:55:50.109Z"
   },
   {
    "duration": 15,
    "start_time": "2024-08-15T09:55:50.134Z"
   },
   {
    "duration": 22,
    "start_time": "2024-08-15T09:55:50.151Z"
   },
   {
    "duration": 239,
    "start_time": "2024-08-15T09:55:50.174Z"
   },
   {
    "duration": 1588,
    "start_time": "2024-08-15T09:55:50.415Z"
   },
   {
    "duration": 7,
    "start_time": "2024-08-15T09:55:52.005Z"
   },
   {
    "duration": 7,
    "start_time": "2024-08-15T09:55:52.013Z"
   },
   {
    "duration": 132,
    "start_time": "2024-08-15T09:55:52.021Z"
   },
   {
    "duration": 10,
    "start_time": "2024-08-15T09:55:52.155Z"
   },
   {
    "duration": 235,
    "start_time": "2024-08-15T09:55:52.166Z"
   },
   {
    "duration": 14,
    "start_time": "2024-08-15T09:55:52.403Z"
   },
   {
    "duration": 240,
    "start_time": "2024-08-15T09:55:52.419Z"
   },
   {
    "duration": 0,
    "start_time": "2024-08-15T09:55:52.661Z"
   },
   {
    "duration": 0,
    "start_time": "2024-08-15T09:55:52.662Z"
   },
   {
    "duration": 0,
    "start_time": "2024-08-15T09:55:52.664Z"
   },
   {
    "duration": 0,
    "start_time": "2024-08-15T09:55:52.664Z"
   },
   {
    "duration": 0,
    "start_time": "2024-08-15T09:55:52.666Z"
   },
   {
    "duration": 0,
    "start_time": "2024-08-15T09:55:52.667Z"
   },
   {
    "duration": 0,
    "start_time": "2024-08-15T09:55:52.668Z"
   },
   {
    "duration": 0,
    "start_time": "2024-08-15T09:55:52.669Z"
   },
   {
    "duration": 0,
    "start_time": "2024-08-15T09:55:52.671Z"
   },
   {
    "duration": 0,
    "start_time": "2024-08-15T09:55:52.672Z"
   },
   {
    "duration": 0,
    "start_time": "2024-08-15T09:55:52.673Z"
   },
   {
    "duration": 335,
    "start_time": "2024-08-15T09:56:45.913Z"
   },
   {
    "duration": 16,
    "start_time": "2024-08-15T09:56:55.107Z"
   },
   {
    "duration": 14,
    "start_time": "2024-08-15T09:57:02.198Z"
   },
   {
    "duration": 1561,
    "start_time": "2024-08-15T09:57:27.745Z"
   },
   {
    "duration": 92,
    "start_time": "2024-08-15T09:57:29.308Z"
   },
   {
    "duration": 15,
    "start_time": "2024-08-15T09:57:29.402Z"
   },
   {
    "duration": 7,
    "start_time": "2024-08-15T09:57:29.419Z"
   },
   {
    "duration": 26,
    "start_time": "2024-08-15T09:57:29.428Z"
   },
   {
    "duration": 12,
    "start_time": "2024-08-15T09:57:29.456Z"
   },
   {
    "duration": 27,
    "start_time": "2024-08-15T09:57:29.470Z"
   },
   {
    "duration": 9,
    "start_time": "2024-08-15T09:57:29.499Z"
   },
   {
    "duration": 14,
    "start_time": "2024-08-15T09:57:29.510Z"
   },
   {
    "duration": 21,
    "start_time": "2024-08-15T09:57:29.526Z"
   },
   {
    "duration": 31,
    "start_time": "2024-08-15T09:57:29.549Z"
   },
   {
    "duration": 32,
    "start_time": "2024-08-15T09:57:29.582Z"
   },
   {
    "duration": 66,
    "start_time": "2024-08-15T09:57:29.616Z"
   },
   {
    "duration": 13,
    "start_time": "2024-08-15T09:57:29.685Z"
   },
   {
    "duration": 69,
    "start_time": "2024-08-15T09:57:29.700Z"
   },
   {
    "duration": 16,
    "start_time": "2024-08-15T09:57:29.771Z"
   },
   {
    "duration": 10,
    "start_time": "2024-08-15T09:57:29.797Z"
   },
   {
    "duration": 198,
    "start_time": "2024-08-15T09:57:29.809Z"
   },
   {
    "duration": 280,
    "start_time": "2024-08-15T09:57:30.009Z"
   },
   {
    "duration": 9,
    "start_time": "2024-08-15T09:57:30.296Z"
   },
   {
    "duration": 32,
    "start_time": "2024-08-15T09:57:30.306Z"
   },
   {
    "duration": 256,
    "start_time": "2024-08-15T09:57:30.340Z"
   },
   {
    "duration": 9,
    "start_time": "2024-08-15T09:57:30.598Z"
   },
   {
    "duration": 181,
    "start_time": "2024-08-15T09:57:30.608Z"
   },
   {
    "duration": 27,
    "start_time": "2024-08-15T09:57:30.790Z"
   },
   {
    "duration": 86,
    "start_time": "2024-08-15T09:57:30.819Z"
   },
   {
    "duration": 12,
    "start_time": "2024-08-15T09:57:30.906Z"
   },
   {
    "duration": 77,
    "start_time": "2024-08-15T09:57:30.919Z"
   },
   {
    "duration": 379,
    "start_time": "2024-08-15T09:57:30.997Z"
   },
   {
    "duration": 18,
    "start_time": "2024-08-15T09:57:31.378Z"
   },
   {
    "duration": 76,
    "start_time": "2024-08-15T09:57:31.398Z"
   },
   {
    "duration": 252,
    "start_time": "2024-08-15T09:57:31.476Z"
   },
   {
    "duration": 17,
    "start_time": "2024-08-15T09:57:31.729Z"
   },
   {
    "duration": 25,
    "start_time": "2024-08-15T09:57:31.748Z"
   },
   {
    "duration": 312,
    "start_time": "2024-08-15T09:57:31.775Z"
   },
   {
    "duration": 15,
    "start_time": "2024-08-15T09:57:32.089Z"
   },
   {
    "duration": 130,
    "start_time": "2024-08-15T09:57:32.105Z"
   },
   {
    "duration": 3,
    "start_time": "2024-08-15T09:57:32.236Z"
   },
   {
    "duration": 5,
    "start_time": "2024-08-15T09:57:32.240Z"
   },
   {
    "duration": 9,
    "start_time": "2024-08-15T09:57:32.246Z"
   },
   {
    "duration": 19,
    "start_time": "2024-08-15T09:57:32.260Z"
   },
   {
    "duration": 102,
    "start_time": "2024-08-15T09:57:32.280Z"
   },
   {
    "duration": 10484,
    "start_time": "2024-08-15T09:57:32.384Z"
   },
   {
    "duration": 150,
    "start_time": "2024-08-15T09:57:42.870Z"
   },
   {
    "duration": 13,
    "start_time": "2024-08-15T09:57:43.021Z"
   },
   {
    "duration": 88,
    "start_time": "2024-08-15T09:57:43.036Z"
   },
   {
    "duration": 71,
    "start_time": "2024-08-15T09:57:43.126Z"
   },
   {
    "duration": 119,
    "start_time": "2024-08-15T09:57:43.199Z"
   },
   {
    "duration": 17,
    "start_time": "2024-08-15T09:57:43.319Z"
   },
   {
    "duration": 13,
    "start_time": "2024-08-15T09:57:43.338Z"
   },
   {
    "duration": 13,
    "start_time": "2024-08-15T09:57:43.353Z"
   },
   {
    "duration": 204,
    "start_time": "2024-08-15T09:57:43.395Z"
   },
   {
    "duration": 13,
    "start_time": "2024-08-15T09:57:43.600Z"
   },
   {
    "duration": 15,
    "start_time": "2024-08-15T09:57:43.614Z"
   },
   {
    "duration": 271,
    "start_time": "2024-08-15T09:57:43.630Z"
   },
   {
    "duration": 12,
    "start_time": "2024-08-15T09:57:43.903Z"
   },
   {
    "duration": 127,
    "start_time": "2024-08-15T09:57:43.916Z"
   },
   {
    "duration": 64,
    "start_time": "2024-08-15T09:57:44.045Z"
   },
   {
    "duration": 7,
    "start_time": "2024-08-15T09:57:44.111Z"
   },
   {
    "duration": 186,
    "start_time": "2024-08-15T09:57:44.120Z"
   },
   {
    "duration": 5,
    "start_time": "2024-08-15T09:57:44.308Z"
   },
   {
    "duration": 15,
    "start_time": "2024-08-15T09:57:44.315Z"
   },
   {
    "duration": 11,
    "start_time": "2024-08-15T09:57:44.332Z"
   },
   {
    "duration": 14,
    "start_time": "2024-08-15T09:57:44.344Z"
   },
   {
    "duration": 42,
    "start_time": "2024-08-15T09:57:44.360Z"
   },
   {
    "duration": 107,
    "start_time": "2024-08-15T09:57:44.403Z"
   },
   {
    "duration": 236,
    "start_time": "2024-08-15T09:57:44.511Z"
   },
   {
    "duration": 1641,
    "start_time": "2024-08-15T09:57:44.748Z"
   },
   {
    "duration": 7,
    "start_time": "2024-08-15T09:57:46.395Z"
   },
   {
    "duration": 89,
    "start_time": "2024-08-15T09:57:46.404Z"
   },
   {
    "duration": 87,
    "start_time": "2024-08-15T09:57:46.495Z"
   },
   {
    "duration": 14,
    "start_time": "2024-08-15T09:57:46.583Z"
   },
   {
    "duration": 227,
    "start_time": "2024-08-15T09:57:46.598Z"
   },
   {
    "duration": 13,
    "start_time": "2024-08-15T09:57:46.827Z"
   },
   {
    "duration": 18,
    "start_time": "2024-08-15T09:57:46.841Z"
   },
   {
    "duration": 4,
    "start_time": "2024-08-15T09:57:46.861Z"
   },
   {
    "duration": 16,
    "start_time": "2024-08-15T09:57:46.867Z"
   },
   {
    "duration": 15,
    "start_time": "2024-08-15T09:57:46.897Z"
   },
   {
    "duration": 135,
    "start_time": "2024-08-15T09:57:46.914Z"
   },
   {
    "duration": 12,
    "start_time": "2024-08-15T09:57:47.050Z"
   },
   {
    "duration": 69,
    "start_time": "2024-08-15T09:57:47.063Z"
   },
   {
    "duration": 10,
    "start_time": "2024-08-15T09:57:47.134Z"
   },
   {
    "duration": 16,
    "start_time": "2024-08-15T09:57:47.145Z"
   },
   {
    "duration": 287,
    "start_time": "2024-08-15T09:57:47.163Z"
   },
   {
    "duration": 9,
    "start_time": "2024-08-15T09:57:47.452Z"
   },
   {
    "duration": 17,
    "start_time": "2024-08-15T09:57:47.462Z"
   },
   {
    "duration": 1820,
    "start_time": "2024-08-15T12:33:21.397Z"
   },
   {
    "duration": 235,
    "start_time": "2024-08-15T12:33:23.219Z"
   },
   {
    "duration": 16,
    "start_time": "2024-08-15T12:33:23.456Z"
   },
   {
    "duration": 7,
    "start_time": "2024-08-15T12:33:23.474Z"
   },
   {
    "duration": 21,
    "start_time": "2024-08-15T12:33:23.483Z"
   },
   {
    "duration": 12,
    "start_time": "2024-08-15T12:33:23.506Z"
   },
   {
    "duration": 38,
    "start_time": "2024-08-15T12:33:23.520Z"
   },
   {
    "duration": 11,
    "start_time": "2024-08-15T12:33:23.560Z"
   },
   {
    "duration": 8,
    "start_time": "2024-08-15T12:33:23.573Z"
   },
   {
    "duration": 16,
    "start_time": "2024-08-15T12:33:23.583Z"
   },
   {
    "duration": 10,
    "start_time": "2024-08-15T12:33:23.601Z"
   },
   {
    "duration": 34,
    "start_time": "2024-08-15T12:33:23.656Z"
   },
   {
    "duration": 81,
    "start_time": "2024-08-15T12:33:23.692Z"
   },
   {
    "duration": 3,
    "start_time": "2024-08-15T12:33:23.776Z"
   },
   {
    "duration": 100,
    "start_time": "2024-08-15T12:33:23.781Z"
   },
   {
    "duration": 15,
    "start_time": "2024-08-15T12:33:23.883Z"
   },
   {
    "duration": 16,
    "start_time": "2024-08-15T12:33:23.900Z"
   },
   {
    "duration": 205,
    "start_time": "2024-08-15T12:33:23.918Z"
   },
   {
    "duration": 291,
    "start_time": "2024-08-15T12:33:24.125Z"
   },
   {
    "duration": 9,
    "start_time": "2024-08-15T12:33:24.418Z"
   },
   {
    "duration": 37,
    "start_time": "2024-08-15T12:33:24.429Z"
   },
   {
    "duration": 257,
    "start_time": "2024-08-15T12:33:24.468Z"
   },
   {
    "duration": 9,
    "start_time": "2024-08-15T12:33:24.726Z"
   },
   {
    "duration": 153,
    "start_time": "2024-08-15T12:33:24.737Z"
   },
   {
    "duration": 64,
    "start_time": "2024-08-15T12:33:24.892Z"
   },
   {
    "duration": 28,
    "start_time": "2024-08-15T12:33:24.958Z"
   },
   {
    "duration": 11,
    "start_time": "2024-08-15T12:33:24.988Z"
   },
   {
    "duration": 88,
    "start_time": "2024-08-15T12:33:25.001Z"
   },
   {
    "duration": 367,
    "start_time": "2024-08-15T12:33:25.091Z"
   },
   {
    "duration": 6,
    "start_time": "2024-08-15T12:33:25.460Z"
   },
   {
    "duration": 78,
    "start_time": "2024-08-15T12:33:25.468Z"
   },
   {
    "duration": 93,
    "start_time": "2024-08-15T12:33:25.548Z"
   },
   {
    "duration": 23,
    "start_time": "2024-08-15T12:33:25.643Z"
   },
   {
    "duration": 10,
    "start_time": "2024-08-15T12:33:25.668Z"
   },
   {
    "duration": 305,
    "start_time": "2024-08-15T12:33:25.680Z"
   },
   {
    "duration": 11,
    "start_time": "2024-08-15T12:33:25.987Z"
   },
   {
    "duration": 180,
    "start_time": "2024-08-15T12:33:26.000Z"
   },
   {
    "duration": 3,
    "start_time": "2024-08-15T12:33:26.182Z"
   },
   {
    "duration": 21,
    "start_time": "2024-08-15T12:33:26.187Z"
   },
   {
    "duration": 8,
    "start_time": "2024-08-15T12:33:26.210Z"
   },
   {
    "duration": 25,
    "start_time": "2024-08-15T12:33:26.223Z"
   },
   {
    "duration": 90,
    "start_time": "2024-08-15T12:33:26.249Z"
   },
   {
    "duration": 10711,
    "start_time": "2024-08-15T12:33:26.341Z"
   },
   {
    "duration": 142,
    "start_time": "2024-08-15T12:33:37.058Z"
   },
   {
    "duration": 64,
    "start_time": "2024-08-15T12:33:37.202Z"
   },
   {
    "duration": 109,
    "start_time": "2024-08-15T12:33:37.268Z"
   },
   {
    "duration": 77,
    "start_time": "2024-08-15T12:33:37.379Z"
   },
   {
    "duration": 203,
    "start_time": "2024-08-15T12:33:37.459Z"
   },
   {
    "duration": 16,
    "start_time": "2024-08-15T12:33:37.664Z"
   },
   {
    "duration": 26,
    "start_time": "2024-08-15T12:33:37.682Z"
   },
   {
    "duration": 15,
    "start_time": "2024-08-15T12:33:37.709Z"
   },
   {
    "duration": 229,
    "start_time": "2024-08-15T12:33:37.726Z"
   },
   {
    "duration": 11,
    "start_time": "2024-08-15T12:33:37.957Z"
   },
   {
    "duration": 33,
    "start_time": "2024-08-15T12:33:37.970Z"
   },
   {
    "duration": 259,
    "start_time": "2024-08-15T12:33:38.005Z"
   },
   {
    "duration": 12,
    "start_time": "2024-08-15T12:33:38.265Z"
   },
   {
    "duration": 123,
    "start_time": "2024-08-15T12:33:38.279Z"
   },
   {
    "duration": 82,
    "start_time": "2024-08-15T12:33:38.405Z"
   },
   {
    "duration": 8,
    "start_time": "2024-08-15T12:33:38.489Z"
   },
   {
    "duration": 213,
    "start_time": "2024-08-15T12:33:38.498Z"
   },
   {
    "duration": 6,
    "start_time": "2024-08-15T12:33:38.713Z"
   },
   {
    "duration": 37,
    "start_time": "2024-08-15T12:33:38.720Z"
   },
   {
    "duration": 12,
    "start_time": "2024-08-15T12:33:38.759Z"
   },
   {
    "duration": 27,
    "start_time": "2024-08-15T12:33:38.772Z"
   },
   {
    "duration": 18,
    "start_time": "2024-08-15T12:33:38.800Z"
   },
   {
    "duration": 12,
    "start_time": "2024-08-15T12:33:38.820Z"
   },
   {
    "duration": 270,
    "start_time": "2024-08-15T12:33:38.834Z"
   },
   {
    "duration": 1687,
    "start_time": "2024-08-15T12:33:39.106Z"
   },
   {
    "duration": 7,
    "start_time": "2024-08-15T12:33:40.795Z"
   },
   {
    "duration": 9,
    "start_time": "2024-08-15T12:33:40.804Z"
   },
   {
    "duration": 146,
    "start_time": "2024-08-15T12:33:40.815Z"
   },
   {
    "duration": 10,
    "start_time": "2024-08-15T12:33:40.963Z"
   },
   {
    "duration": 256,
    "start_time": "2024-08-15T12:33:40.975Z"
   },
   {
    "duration": 28,
    "start_time": "2024-08-15T12:33:41.234Z"
   },
   {
    "duration": 14,
    "start_time": "2024-08-15T12:33:41.264Z"
   },
   {
    "duration": 5,
    "start_time": "2024-08-15T12:33:41.280Z"
   },
   {
    "duration": 12,
    "start_time": "2024-08-15T12:33:41.287Z"
   },
   {
    "duration": 14,
    "start_time": "2024-08-15T12:33:41.300Z"
   },
   {
    "duration": 173,
    "start_time": "2024-08-15T12:33:41.315Z"
   },
   {
    "duration": 13,
    "start_time": "2024-08-15T12:33:41.490Z"
   },
   {
    "duration": 13,
    "start_time": "2024-08-15T12:33:41.505Z"
   },
   {
    "duration": 10,
    "start_time": "2024-08-15T12:33:41.556Z"
   },
   {
    "duration": 28,
    "start_time": "2024-08-15T12:33:41.568Z"
   },
   {
    "duration": 317,
    "start_time": "2024-08-15T12:33:41.598Z"
   },
   {
    "duration": 8,
    "start_time": "2024-08-15T12:33:41.917Z"
   },
   {
    "duration": 23,
    "start_time": "2024-08-15T12:33:41.926Z"
   },
   {
    "duration": 71,
    "start_time": "2024-08-15T12:35:01.514Z"
   },
   {
    "duration": 1603,
    "start_time": "2024-08-15T12:35:25.083Z"
   },
   {
    "duration": 89,
    "start_time": "2024-08-15T12:35:26.687Z"
   },
   {
    "duration": 15,
    "start_time": "2024-08-15T12:35:26.778Z"
   },
   {
    "duration": 18,
    "start_time": "2024-08-15T12:35:26.795Z"
   },
   {
    "duration": 27,
    "start_time": "2024-08-15T12:35:26.816Z"
   },
   {
    "duration": 21,
    "start_time": "2024-08-15T12:35:26.844Z"
   },
   {
    "duration": 12,
    "start_time": "2024-08-15T12:35:26.866Z"
   },
   {
    "duration": 13,
    "start_time": "2024-08-15T12:35:26.879Z"
   },
   {
    "duration": 8,
    "start_time": "2024-08-15T12:35:26.894Z"
   },
   {
    "duration": 23,
    "start_time": "2024-08-15T12:35:26.903Z"
   },
   {
    "duration": 10,
    "start_time": "2024-08-15T12:35:26.955Z"
   },
   {
    "duration": 36,
    "start_time": "2024-08-15T12:35:26.966Z"
   },
   {
    "duration": 89,
    "start_time": "2024-08-15T12:35:27.004Z"
   },
   {
    "duration": 5,
    "start_time": "2024-08-15T12:35:27.096Z"
   },
   {
    "duration": 144,
    "start_time": "2024-08-15T12:35:27.102Z"
   },
   {
    "duration": 15,
    "start_time": "2024-08-15T12:35:27.248Z"
   },
   {
    "duration": 16,
    "start_time": "2024-08-15T12:35:27.264Z"
   },
   {
    "duration": 217,
    "start_time": "2024-08-15T12:35:27.281Z"
   },
   {
    "duration": 308,
    "start_time": "2024-08-15T12:35:27.500Z"
   },
   {
    "duration": 9,
    "start_time": "2024-08-15T12:35:27.810Z"
   },
   {
    "duration": 36,
    "start_time": "2024-08-15T12:35:27.821Z"
   },
   {
    "duration": 267,
    "start_time": "2024-08-15T12:35:27.858Z"
   },
   {
    "duration": 9,
    "start_time": "2024-08-15T12:35:28.126Z"
   },
   {
    "duration": 167,
    "start_time": "2024-08-15T12:35:28.137Z"
   },
   {
    "duration": 61,
    "start_time": "2024-08-15T12:35:28.306Z"
   },
   {
    "duration": 27,
    "start_time": "2024-08-15T12:35:28.369Z"
   },
   {
    "duration": 65,
    "start_time": "2024-08-15T12:35:28.398Z"
   },
   {
    "duration": 28,
    "start_time": "2024-08-15T12:35:28.464Z"
   },
   {
    "duration": 345,
    "start_time": "2024-08-15T12:35:28.494Z"
   },
   {
    "duration": 7,
    "start_time": "2024-08-15T12:35:28.840Z"
   },
   {
    "duration": 62,
    "start_time": "2024-08-15T12:35:28.856Z"
   },
   {
    "duration": 82,
    "start_time": "2024-08-15T12:35:28.919Z"
   },
   {
    "duration": 16,
    "start_time": "2024-08-15T12:35:29.002Z"
   },
   {
    "duration": 24,
    "start_time": "2024-08-15T12:35:29.019Z"
   },
   {
    "duration": 300,
    "start_time": "2024-08-15T12:35:29.044Z"
   },
   {
    "duration": 11,
    "start_time": "2024-08-15T12:35:29.346Z"
   },
   {
    "duration": 144,
    "start_time": "2024-08-15T12:35:29.358Z"
   },
   {
    "duration": 3,
    "start_time": "2024-08-15T12:35:29.504Z"
   },
   {
    "duration": 22,
    "start_time": "2024-08-15T12:35:29.509Z"
   },
   {
    "duration": 28,
    "start_time": "2024-08-15T12:35:29.533Z"
   },
   {
    "duration": 20,
    "start_time": "2024-08-15T12:35:29.566Z"
   },
   {
    "duration": 103,
    "start_time": "2024-08-15T12:35:29.588Z"
   },
   {
    "duration": 10659,
    "start_time": "2024-08-15T12:35:29.693Z"
   },
   {
    "duration": 139,
    "start_time": "2024-08-15T12:35:40.353Z"
   },
   {
    "duration": 66,
    "start_time": "2024-08-15T12:35:40.494Z"
   },
   {
    "duration": 95,
    "start_time": "2024-08-15T12:35:40.562Z"
   },
   {
    "duration": 22,
    "start_time": "2024-08-15T12:35:40.659Z"
   },
   {
    "duration": 188,
    "start_time": "2024-08-15T12:35:40.683Z"
   },
   {
    "duration": 16,
    "start_time": "2024-08-15T12:35:40.872Z"
   },
   {
    "duration": 14,
    "start_time": "2024-08-15T12:35:40.890Z"
   },
   {
    "duration": 58,
    "start_time": "2024-08-15T12:35:40.906Z"
   },
   {
    "duration": 224,
    "start_time": "2024-08-15T12:35:40.966Z"
   },
   {
    "duration": 13,
    "start_time": "2024-08-15T12:35:41.193Z"
   },
   {
    "duration": 15,
    "start_time": "2024-08-15T12:35:41.208Z"
   },
   {
    "duration": 302,
    "start_time": "2024-08-15T12:35:41.225Z"
   },
   {
    "duration": 12,
    "start_time": "2024-08-15T12:35:41.529Z"
   },
   {
    "duration": 140,
    "start_time": "2024-08-15T12:35:41.556Z"
   },
   {
    "duration": 73,
    "start_time": "2024-08-15T12:35:41.697Z"
   },
   {
    "duration": 8,
    "start_time": "2024-08-15T12:35:41.772Z"
   },
   {
    "duration": 196,
    "start_time": "2024-08-15T12:35:41.781Z"
   },
   {
    "duration": 5,
    "start_time": "2024-08-15T12:35:41.979Z"
   },
   {
    "duration": 18,
    "start_time": "2024-08-15T12:35:41.986Z"
   },
   {
    "duration": 14,
    "start_time": "2024-08-15T12:35:42.006Z"
   },
   {
    "duration": 34,
    "start_time": "2024-08-15T12:35:42.022Z"
   },
   {
    "duration": 25,
    "start_time": "2024-08-15T12:35:42.058Z"
   },
   {
    "duration": 34,
    "start_time": "2024-08-15T12:35:42.084Z"
   },
   {
    "duration": 263,
    "start_time": "2024-08-15T12:35:42.120Z"
   },
   {
    "duration": 2481,
    "start_time": "2024-08-15T12:35:42.385Z"
   },
   {
    "duration": 6,
    "start_time": "2024-08-15T12:35:44.868Z"
   },
   {
    "duration": 20,
    "start_time": "2024-08-15T12:35:44.876Z"
   },
   {
    "duration": 189,
    "start_time": "2024-08-15T12:35:44.898Z"
   },
   {
    "duration": 10,
    "start_time": "2024-08-15T12:35:45.089Z"
   },
   {
    "duration": 345,
    "start_time": "2024-08-15T12:35:45.100Z"
   },
   {
    "duration": 20,
    "start_time": "2024-08-15T12:35:45.447Z"
   },
   {
    "duration": 28,
    "start_time": "2024-08-15T12:35:45.469Z"
   },
   {
    "duration": 5,
    "start_time": "2024-08-15T12:35:45.498Z"
   },
   {
    "duration": 13,
    "start_time": "2024-08-15T12:35:45.505Z"
   },
   {
    "duration": 20,
    "start_time": "2024-08-15T12:35:45.519Z"
   },
   {
    "duration": 139,
    "start_time": "2024-08-15T12:35:45.540Z"
   },
   {
    "duration": 11,
    "start_time": "2024-08-15T12:35:45.681Z"
   },
   {
    "duration": 10,
    "start_time": "2024-08-15T12:35:45.693Z"
   },
   {
    "duration": 8,
    "start_time": "2024-08-15T12:35:45.705Z"
   },
   {
    "duration": 25,
    "start_time": "2024-08-15T12:35:45.714Z"
   },
   {
    "duration": 526,
    "start_time": "2024-08-15T12:35:45.741Z"
   },
   {
    "duration": 9,
    "start_time": "2024-08-15T12:35:46.269Z"
   },
   {
    "duration": 9,
    "start_time": "2024-08-15T12:35:46.279Z"
   },
   {
    "duration": 1589,
    "start_time": "2024-08-15T13:53:02.128Z"
   },
   {
    "duration": 85,
    "start_time": "2024-08-15T13:53:03.719Z"
   },
   {
    "duration": 15,
    "start_time": "2024-08-15T13:53:03.806Z"
   },
   {
    "duration": 7,
    "start_time": "2024-08-15T13:53:03.823Z"
   },
   {
    "duration": 38,
    "start_time": "2024-08-15T13:53:03.831Z"
   },
   {
    "duration": 19,
    "start_time": "2024-08-15T13:53:03.872Z"
   },
   {
    "duration": 6,
    "start_time": "2024-08-15T13:53:03.893Z"
   },
   {
    "duration": 14,
    "start_time": "2024-08-15T13:53:03.902Z"
   },
   {
    "duration": 8,
    "start_time": "2024-08-15T13:53:03.918Z"
   },
   {
    "duration": 40,
    "start_time": "2024-08-15T13:53:03.928Z"
   },
   {
    "duration": 10,
    "start_time": "2024-08-15T13:53:03.969Z"
   },
   {
    "duration": 33,
    "start_time": "2024-08-15T13:53:03.980Z"
   },
   {
    "duration": 84,
    "start_time": "2024-08-15T13:53:04.015Z"
   },
   {
    "duration": 4,
    "start_time": "2024-08-15T13:53:04.100Z"
   },
   {
    "duration": 73,
    "start_time": "2024-08-15T13:53:04.106Z"
   },
   {
    "duration": 18,
    "start_time": "2024-08-15T13:53:04.181Z"
   },
   {
    "duration": 9,
    "start_time": "2024-08-15T13:53:04.201Z"
   },
   {
    "duration": 207,
    "start_time": "2024-08-15T13:53:04.212Z"
   },
   {
    "duration": 268,
    "start_time": "2024-08-15T13:53:04.421Z"
   },
   {
    "duration": 8,
    "start_time": "2024-08-15T13:53:04.690Z"
   },
   {
    "duration": 13,
    "start_time": "2024-08-15T13:53:04.700Z"
   },
   {
    "duration": 269,
    "start_time": "2024-08-15T13:53:04.714Z"
   },
   {
    "duration": 11,
    "start_time": "2024-08-15T13:53:04.985Z"
   },
   {
    "duration": 242,
    "start_time": "2024-08-15T13:53:04.998Z"
   },
   {
    "duration": 32,
    "start_time": "2024-08-15T13:53:05.241Z"
   },
   {
    "duration": 24,
    "start_time": "2024-08-15T13:53:05.275Z"
   },
   {
    "duration": 67,
    "start_time": "2024-08-15T13:53:05.300Z"
   },
   {
    "duration": 50,
    "start_time": "2024-08-15T13:53:05.372Z"
   },
   {
    "duration": 238,
    "start_time": "2024-08-15T13:53:05.424Z"
   },
   {
    "duration": 6,
    "start_time": "2024-08-15T13:53:05.664Z"
   },
   {
    "duration": 52,
    "start_time": "2024-08-15T13:53:05.671Z"
   },
   {
    "duration": 75,
    "start_time": "2024-08-15T13:53:05.724Z"
   },
   {
    "duration": 16,
    "start_time": "2024-08-15T13:53:05.800Z"
   },
   {
    "duration": 12,
    "start_time": "2024-08-15T13:53:05.818Z"
   },
   {
    "duration": 296,
    "start_time": "2024-08-15T13:53:05.832Z"
   },
   {
    "duration": 11,
    "start_time": "2024-08-15T13:53:06.130Z"
   },
   {
    "duration": 166,
    "start_time": "2024-08-15T13:53:06.143Z"
   },
   {
    "duration": 2,
    "start_time": "2024-08-15T13:53:06.311Z"
   },
   {
    "duration": 8,
    "start_time": "2024-08-15T13:53:06.315Z"
   },
   {
    "duration": 7,
    "start_time": "2024-08-15T13:53:06.325Z"
   },
   {
    "duration": 40,
    "start_time": "2024-08-15T13:53:06.334Z"
   },
   {
    "duration": 101,
    "start_time": "2024-08-15T13:53:06.376Z"
   },
   {
    "duration": 9880,
    "start_time": "2024-08-15T13:53:06.478Z"
   },
   {
    "duration": 130,
    "start_time": "2024-08-15T13:53:16.360Z"
   },
   {
    "duration": 12,
    "start_time": "2024-08-15T13:53:16.492Z"
   },
   {
    "duration": 85,
    "start_time": "2024-08-15T13:53:16.505Z"
   },
   {
    "duration": 72,
    "start_time": "2024-08-15T13:53:16.591Z"
   },
   {
    "duration": 106,
    "start_time": "2024-08-15T13:53:16.665Z"
   },
   {
    "duration": 16,
    "start_time": "2024-08-15T13:53:16.772Z"
   },
   {
    "duration": 14,
    "start_time": "2024-08-15T13:53:16.790Z"
   },
   {
    "duration": 14,
    "start_time": "2024-08-15T13:53:16.806Z"
   },
   {
    "duration": 221,
    "start_time": "2024-08-15T13:53:16.821Z"
   },
   {
    "duration": 23,
    "start_time": "2024-08-15T13:53:17.044Z"
   },
   {
    "duration": 15,
    "start_time": "2024-08-15T13:53:17.069Z"
   },
   {
    "duration": 252,
    "start_time": "2024-08-15T13:53:17.085Z"
   },
   {
    "duration": 23,
    "start_time": "2024-08-15T13:53:17.339Z"
   },
   {
    "duration": 119,
    "start_time": "2024-08-15T13:53:17.364Z"
   },
   {
    "duration": 43,
    "start_time": "2024-08-15T13:53:17.485Z"
   },
   {
    "duration": 33,
    "start_time": "2024-08-15T13:53:17.529Z"
   },
   {
    "duration": 200,
    "start_time": "2024-08-15T13:53:17.564Z"
   },
   {
    "duration": 5,
    "start_time": "2024-08-15T13:53:17.766Z"
   },
   {
    "duration": 15,
    "start_time": "2024-08-15T13:53:17.772Z"
   },
   {
    "duration": 10,
    "start_time": "2024-08-15T13:53:17.789Z"
   },
   {
    "duration": 13,
    "start_time": "2024-08-15T13:53:17.801Z"
   },
   {
    "duration": 10,
    "start_time": "2024-08-15T13:53:17.815Z"
   },
   {
    "duration": 41,
    "start_time": "2024-08-15T13:53:17.826Z"
   },
   {
    "duration": 247,
    "start_time": "2024-08-15T13:53:17.868Z"
   },
   {
    "duration": 1545,
    "start_time": "2024-08-15T13:53:18.117Z"
   },
   {
    "duration": 8,
    "start_time": "2024-08-15T13:53:19.664Z"
   },
   {
    "duration": 8,
    "start_time": "2024-08-15T13:53:19.674Z"
   },
   {
    "duration": 145,
    "start_time": "2024-08-15T13:53:19.684Z"
   },
   {
    "duration": 12,
    "start_time": "2024-08-15T13:53:19.831Z"
   },
   {
    "duration": 240,
    "start_time": "2024-08-15T13:53:19.845Z"
   },
   {
    "duration": 13,
    "start_time": "2024-08-15T13:53:20.086Z"
   },
   {
    "duration": 10,
    "start_time": "2024-08-15T13:53:20.101Z"
   },
   {
    "duration": 3,
    "start_time": "2024-08-15T13:53:20.112Z"
   },
   {
    "duration": 8,
    "start_time": "2024-08-15T13:53:20.116Z"
   },
   {
    "duration": 40,
    "start_time": "2024-08-15T13:53:20.125Z"
   },
   {
    "duration": 119,
    "start_time": "2024-08-15T13:53:20.167Z"
   },
   {
    "duration": 11,
    "start_time": "2024-08-15T13:53:20.288Z"
   },
   {
    "duration": 10,
    "start_time": "2024-08-15T13:53:20.301Z"
   },
   {
    "duration": 20,
    "start_time": "2024-08-15T13:53:20.317Z"
   },
   {
    "duration": 36,
    "start_time": "2024-08-15T13:53:20.338Z"
   },
   {
    "duration": 300,
    "start_time": "2024-08-15T13:53:20.375Z"
   },
   {
    "duration": 7,
    "start_time": "2024-08-15T13:53:20.677Z"
   },
   {
    "duration": 8,
    "start_time": "2024-08-15T13:53:20.686Z"
   },
   {
    "duration": 47,
    "start_time": "2024-08-16T16:39:37.384Z"
   },
   {
    "duration": 1719,
    "start_time": "2024-08-16T16:39:42.952Z"
   },
   {
    "duration": 308,
    "start_time": "2024-08-16T16:39:44.673Z"
   },
   {
    "duration": 15,
    "start_time": "2024-08-16T16:39:44.983Z"
   },
   {
    "duration": 48,
    "start_time": "2024-08-16T16:39:45.000Z"
   },
   {
    "duration": 31,
    "start_time": "2024-08-16T16:39:45.049Z"
   },
   {
    "duration": 11,
    "start_time": "2024-08-16T16:39:45.082Z"
   },
   {
    "duration": 14,
    "start_time": "2024-08-16T16:39:45.095Z"
   },
   {
    "duration": 37,
    "start_time": "2024-08-16T16:39:45.110Z"
   },
   {
    "duration": 38,
    "start_time": "2024-08-16T16:39:45.149Z"
   },
   {
    "duration": 32,
    "start_time": "2024-08-16T16:39:45.189Z"
   },
   {
    "duration": 24,
    "start_time": "2024-08-16T16:39:45.223Z"
   },
   {
    "duration": 44,
    "start_time": "2024-08-16T16:39:45.249Z"
   },
   {
    "duration": 104,
    "start_time": "2024-08-16T16:39:45.295Z"
   },
   {
    "duration": 4,
    "start_time": "2024-08-16T16:39:45.400Z"
   },
   {
    "duration": 66,
    "start_time": "2024-08-16T16:39:45.405Z"
   },
   {
    "duration": 12,
    "start_time": "2024-08-16T16:39:45.473Z"
   },
   {
    "duration": 12,
    "start_time": "2024-08-16T16:39:45.487Z"
   },
   {
    "duration": 179,
    "start_time": "2024-08-16T16:39:45.500Z"
   },
   {
    "duration": 239,
    "start_time": "2024-08-16T16:39:45.680Z"
   },
   {
    "duration": 8,
    "start_time": "2024-08-16T16:39:45.920Z"
   },
   {
    "duration": 28,
    "start_time": "2024-08-16T16:39:45.929Z"
   },
   {
    "duration": 225,
    "start_time": "2024-08-16T16:39:45.959Z"
   },
   {
    "duration": 7,
    "start_time": "2024-08-16T16:39:46.186Z"
   },
   {
    "duration": 147,
    "start_time": "2024-08-16T16:39:46.195Z"
   },
   {
    "duration": 24,
    "start_time": "2024-08-16T16:39:46.344Z"
   },
   {
    "duration": 23,
    "start_time": "2024-08-16T16:39:46.369Z"
   },
   {
    "duration": 61,
    "start_time": "2024-08-16T16:39:46.393Z"
   },
   {
    "duration": 22,
    "start_time": "2024-08-16T16:39:46.458Z"
   },
   {
    "duration": 308,
    "start_time": "2024-08-16T16:39:46.482Z"
   },
   {
    "duration": 6,
    "start_time": "2024-08-16T16:39:46.791Z"
   },
   {
    "duration": 22,
    "start_time": "2024-08-16T16:39:46.799Z"
   },
   {
    "duration": 97,
    "start_time": "2024-08-16T16:39:46.822Z"
   },
   {
    "duration": 32,
    "start_time": "2024-08-16T16:39:46.921Z"
   },
   {
    "duration": 10,
    "start_time": "2024-08-16T16:39:46.954Z"
   },
   {
    "duration": 298,
    "start_time": "2024-08-16T16:39:46.965Z"
   },
   {
    "duration": 10,
    "start_time": "2024-08-16T16:39:47.265Z"
   },
   {
    "duration": 72,
    "start_time": "2024-08-16T16:39:47.276Z"
   },
   {
    "duration": 231,
    "start_time": "2024-08-16T16:39:47.350Z"
   },
   {
    "duration": 3,
    "start_time": "2024-08-16T16:39:47.582Z"
   },
   {
    "duration": 78,
    "start_time": "2024-08-16T16:39:47.586Z"
   },
   {
    "duration": 6,
    "start_time": "2024-08-16T16:39:47.666Z"
   },
   {
    "duration": 23,
    "start_time": "2024-08-16T16:39:47.674Z"
   },
   {
    "duration": 78,
    "start_time": "2024-08-16T16:39:47.699Z"
   },
   {
    "duration": 9073,
    "start_time": "2024-08-16T16:39:47.779Z"
   },
   {
    "duration": 130,
    "start_time": "2024-08-16T16:39:56.853Z"
   },
   {
    "duration": 10,
    "start_time": "2024-08-16T16:39:56.985Z"
   },
   {
    "duration": 82,
    "start_time": "2024-08-16T16:39:56.996Z"
   },
   {
    "duration": 75,
    "start_time": "2024-08-16T16:39:57.080Z"
   },
   {
    "duration": 133,
    "start_time": "2024-08-16T16:39:57.156Z"
   },
   {
    "duration": 71,
    "start_time": "2024-08-16T16:39:57.291Z"
   },
   {
    "duration": 10,
    "start_time": "2024-08-16T16:39:57.364Z"
   },
   {
    "duration": 15,
    "start_time": "2024-08-16T16:39:57.375Z"
   },
   {
    "duration": 199,
    "start_time": "2024-08-16T16:39:57.392Z"
   },
   {
    "duration": 11,
    "start_time": "2024-08-16T16:39:57.592Z"
   },
   {
    "duration": 62,
    "start_time": "2024-08-16T16:39:57.605Z"
   },
   {
    "duration": 233,
    "start_time": "2024-08-16T16:39:57.668Z"
   },
   {
    "duration": 11,
    "start_time": "2024-08-16T16:39:57.902Z"
   },
   {
    "duration": 120,
    "start_time": "2024-08-16T16:39:57.914Z"
   },
   {
    "duration": 50,
    "start_time": "2024-08-16T16:39:58.036Z"
   },
   {
    "duration": 6,
    "start_time": "2024-08-16T16:39:58.087Z"
   },
   {
    "duration": 189,
    "start_time": "2024-08-16T16:39:58.095Z"
   },
   {
    "duration": 4,
    "start_time": "2024-08-16T16:39:58.286Z"
   },
   {
    "duration": 13,
    "start_time": "2024-08-16T16:39:58.292Z"
   },
   {
    "duration": 8,
    "start_time": "2024-08-16T16:39:58.307Z"
   },
   {
    "duration": 43,
    "start_time": "2024-08-16T16:39:58.316Z"
   },
   {
    "duration": 8,
    "start_time": "2024-08-16T16:39:58.360Z"
   },
   {
    "duration": 9,
    "start_time": "2024-08-16T16:39:58.369Z"
   },
   {
    "duration": 237,
    "start_time": "2024-08-16T16:39:58.379Z"
   },
   {
    "duration": 1408,
    "start_time": "2024-08-16T16:39:58.618Z"
   },
   {
    "duration": 6,
    "start_time": "2024-08-16T16:40:00.027Z"
   },
   {
    "duration": 66,
    "start_time": "2024-08-16T16:40:00.034Z"
   },
   {
    "duration": 91,
    "start_time": "2024-08-16T16:40:00.101Z"
   },
   {
    "duration": 10,
    "start_time": "2024-08-16T16:40:00.193Z"
   },
   {
    "duration": 222,
    "start_time": "2024-08-16T16:40:00.204Z"
   },
   {
    "duration": 11,
    "start_time": "2024-08-16T16:40:00.427Z"
   },
   {
    "duration": 28,
    "start_time": "2024-08-16T16:40:00.452Z"
   },
   {
    "duration": 25,
    "start_time": "2024-08-16T16:40:00.481Z"
   },
   {
    "duration": 34,
    "start_time": "2024-08-16T16:40:00.508Z"
   },
   {
    "duration": 43,
    "start_time": "2024-08-16T16:40:00.543Z"
   },
   {
    "duration": 148,
    "start_time": "2024-08-16T16:40:00.587Z"
   },
   {
    "duration": 17,
    "start_time": "2024-08-16T16:40:00.737Z"
   },
   {
    "duration": 70,
    "start_time": "2024-08-16T16:40:00.761Z"
   },
   {
    "duration": 40,
    "start_time": "2024-08-16T16:40:00.833Z"
   },
   {
    "duration": 46,
    "start_time": "2024-08-16T16:40:00.875Z"
   },
   {
    "duration": 290,
    "start_time": "2024-08-16T16:40:00.923Z"
   },
   {
    "duration": 8,
    "start_time": "2024-08-16T16:40:01.215Z"
   },
   {
    "duration": 102,
    "start_time": "2024-08-16T16:40:01.225Z"
   },
   {
    "duration": 151,
    "start_time": "2024-08-16T16:45:44.960Z"
   },
   {
    "duration": 10,
    "start_time": "2024-08-16T16:46:02.433Z"
   },
   {
    "duration": 49,
    "start_time": "2024-08-19T10:25:48.476Z"
   },
   {
    "duration": 1661,
    "start_time": "2024-08-19T10:25:57.448Z"
   },
   {
    "duration": 272,
    "start_time": "2024-08-19T10:25:59.111Z"
   },
   {
    "duration": 15,
    "start_time": "2024-08-19T10:25:59.385Z"
   },
   {
    "duration": 7,
    "start_time": "2024-08-19T10:25:59.402Z"
   },
   {
    "duration": 15,
    "start_time": "2024-08-19T10:25:59.412Z"
   },
   {
    "duration": 11,
    "start_time": "2024-08-19T10:25:59.429Z"
   },
   {
    "duration": 14,
    "start_time": "2024-08-19T10:25:59.442Z"
   },
   {
    "duration": 27,
    "start_time": "2024-08-19T10:25:59.458Z"
   },
   {
    "duration": 12,
    "start_time": "2024-08-19T10:25:59.487Z"
   },
   {
    "duration": 33,
    "start_time": "2024-08-19T10:25:59.501Z"
   },
   {
    "duration": 9,
    "start_time": "2024-08-19T10:25:59.535Z"
   },
   {
    "duration": 32,
    "start_time": "2024-08-19T10:25:59.546Z"
   },
   {
    "duration": 71,
    "start_time": "2024-08-19T10:25:59.580Z"
   },
   {
    "duration": 4,
    "start_time": "2024-08-19T10:25:59.654Z"
   },
   {
    "duration": 70,
    "start_time": "2024-08-19T10:25:59.660Z"
   },
   {
    "duration": 15,
    "start_time": "2024-08-19T10:25:59.731Z"
   },
   {
    "duration": 13,
    "start_time": "2024-08-19T10:25:59.748Z"
   },
   {
    "duration": 189,
    "start_time": "2024-08-19T10:25:59.763Z"
   },
   {
    "duration": 254,
    "start_time": "2024-08-19T10:25:59.954Z"
   },
   {
    "duration": 9,
    "start_time": "2024-08-19T10:26:00.211Z"
   },
   {
    "duration": 67,
    "start_time": "2024-08-19T10:26:00.222Z"
   },
   {
    "duration": 264,
    "start_time": "2024-08-19T10:26:00.291Z"
   },
   {
    "duration": 8,
    "start_time": "2024-08-19T10:26:00.557Z"
   },
   {
    "duration": 245,
    "start_time": "2024-08-19T10:26:00.567Z"
   },
   {
    "duration": 31,
    "start_time": "2024-08-19T10:26:00.814Z"
   },
   {
    "duration": 80,
    "start_time": "2024-08-19T10:26:00.847Z"
   },
   {
    "duration": 7,
    "start_time": "2024-08-19T10:26:00.929Z"
   },
   {
    "duration": 74,
    "start_time": "2024-08-19T10:26:00.938Z"
   },
   {
    "duration": 284,
    "start_time": "2024-08-19T10:26:01.014Z"
   },
   {
    "duration": 9,
    "start_time": "2024-08-19T10:26:01.299Z"
   },
   {
    "duration": 63,
    "start_time": "2024-08-19T10:26:01.310Z"
   },
   {
    "duration": 113,
    "start_time": "2024-08-19T10:26:01.375Z"
   },
   {
    "duration": 22,
    "start_time": "2024-08-19T10:26:01.490Z"
   },
   {
    "duration": 51,
    "start_time": "2024-08-19T10:26:01.514Z"
   },
   {
    "duration": 312,
    "start_time": "2024-08-19T10:26:01.567Z"
   },
   {
    "duration": 11,
    "start_time": "2024-08-19T10:26:01.881Z"
   },
   {
    "duration": 76,
    "start_time": "2024-08-19T10:26:01.893Z"
   },
   {
    "duration": 250,
    "start_time": "2024-08-19T10:26:01.970Z"
   },
   {
    "duration": 3,
    "start_time": "2024-08-19T10:26:02.221Z"
   },
   {
    "duration": 69,
    "start_time": "2024-08-19T10:26:02.225Z"
   },
   {
    "duration": 100,
    "start_time": "2024-08-19T10:26:02.300Z"
   },
   {
    "duration": 52,
    "start_time": "2024-08-19T10:26:02.402Z"
   },
   {
    "duration": 86,
    "start_time": "2024-08-19T10:26:02.455Z"
   },
   {
    "duration": 10701,
    "start_time": "2024-08-19T10:26:02.542Z"
   },
   {
    "duration": 165,
    "start_time": "2024-08-19T10:26:13.246Z"
   },
   {
    "duration": 11,
    "start_time": "2024-08-19T10:26:13.412Z"
   },
   {
    "duration": 87,
    "start_time": "2024-08-19T10:26:13.425Z"
   },
   {
    "duration": 20,
    "start_time": "2024-08-19T10:26:13.514Z"
   },
   {
    "duration": 102,
    "start_time": "2024-08-19T10:26:13.535Z"
   },
   {
    "duration": 14,
    "start_time": "2024-08-19T10:26:13.638Z"
   },
   {
    "duration": 10,
    "start_time": "2024-08-19T10:26:13.653Z"
   },
   {
    "duration": 11,
    "start_time": "2024-08-19T10:26:13.665Z"
   },
   {
    "duration": 192,
    "start_time": "2024-08-19T10:26:13.677Z"
   },
   {
    "duration": 11,
    "start_time": "2024-08-19T10:26:13.870Z"
   },
   {
    "duration": 27,
    "start_time": "2024-08-19T10:26:13.882Z"
   },
   {
    "duration": 231,
    "start_time": "2024-08-19T10:26:13.910Z"
   },
   {
    "duration": 10,
    "start_time": "2024-08-19T10:26:14.143Z"
   },
   {
    "duration": 174,
    "start_time": "2024-08-19T10:26:14.154Z"
   },
   {
    "duration": 0,
    "start_time": "2024-08-19T10:26:14.329Z"
   },
   {
    "duration": 0,
    "start_time": "2024-08-19T10:26:14.330Z"
   },
   {
    "duration": 0,
    "start_time": "2024-08-19T10:26:14.331Z"
   },
   {
    "duration": 0,
    "start_time": "2024-08-19T10:26:14.332Z"
   },
   {
    "duration": 0,
    "start_time": "2024-08-19T10:26:14.333Z"
   },
   {
    "duration": 0,
    "start_time": "2024-08-19T10:26:14.335Z"
   },
   {
    "duration": 0,
    "start_time": "2024-08-19T10:26:14.336Z"
   },
   {
    "duration": 0,
    "start_time": "2024-08-19T10:26:14.337Z"
   },
   {
    "duration": 0,
    "start_time": "2024-08-19T10:26:14.338Z"
   },
   {
    "duration": 0,
    "start_time": "2024-08-19T10:26:14.338Z"
   },
   {
    "duration": 0,
    "start_time": "2024-08-19T10:26:14.339Z"
   },
   {
    "duration": 0,
    "start_time": "2024-08-19T10:26:14.340Z"
   },
   {
    "duration": 0,
    "start_time": "2024-08-19T10:26:14.341Z"
   },
   {
    "duration": 0,
    "start_time": "2024-08-19T10:26:14.342Z"
   },
   {
    "duration": 0,
    "start_time": "2024-08-19T10:26:14.343Z"
   },
   {
    "duration": 0,
    "start_time": "2024-08-19T10:26:14.344Z"
   },
   {
    "duration": 0,
    "start_time": "2024-08-19T10:26:14.345Z"
   },
   {
    "duration": 0,
    "start_time": "2024-08-19T10:26:14.345Z"
   },
   {
    "duration": 0,
    "start_time": "2024-08-19T10:26:14.346Z"
   },
   {
    "duration": 0,
    "start_time": "2024-08-19T10:26:14.347Z"
   },
   {
    "duration": 0,
    "start_time": "2024-08-19T10:26:14.348Z"
   },
   {
    "duration": 0,
    "start_time": "2024-08-19T10:26:14.349Z"
   },
   {
    "duration": 0,
    "start_time": "2024-08-19T10:26:14.350Z"
   },
   {
    "duration": 0,
    "start_time": "2024-08-19T10:26:14.351Z"
   },
   {
    "duration": 0,
    "start_time": "2024-08-19T10:26:14.352Z"
   },
   {
    "duration": 0,
    "start_time": "2024-08-19T10:26:14.353Z"
   },
   {
    "duration": 0,
    "start_time": "2024-08-19T10:26:14.354Z"
   },
   {
    "duration": 0,
    "start_time": "2024-08-19T10:26:14.354Z"
   },
   {
    "duration": 0,
    "start_time": "2024-08-19T10:26:14.355Z"
   },
   {
    "duration": 0,
    "start_time": "2024-08-19T10:26:14.356Z"
   },
   {
    "duration": 216,
    "start_time": "2024-08-19T10:28:11.724Z"
   },
   {
    "duration": 1517,
    "start_time": "2024-08-19T10:37:34.962Z"
   },
   {
    "duration": 83,
    "start_time": "2024-08-19T10:37:36.481Z"
   },
   {
    "duration": 14,
    "start_time": "2024-08-19T10:37:36.566Z"
   },
   {
    "duration": 26,
    "start_time": "2024-08-19T10:37:36.582Z"
   },
   {
    "duration": 17,
    "start_time": "2024-08-19T10:37:36.610Z"
   },
   {
    "duration": 12,
    "start_time": "2024-08-19T10:37:36.628Z"
   },
   {
    "duration": 16,
    "start_time": "2024-08-19T10:37:36.642Z"
   },
   {
    "duration": 8,
    "start_time": "2024-08-19T10:37:36.661Z"
   },
   {
    "duration": 39,
    "start_time": "2024-08-19T10:37:36.671Z"
   },
   {
    "duration": 14,
    "start_time": "2024-08-19T10:37:36.713Z"
   },
   {
    "duration": 11,
    "start_time": "2024-08-19T10:37:36.729Z"
   },
   {
    "duration": 42,
    "start_time": "2024-08-19T10:37:36.742Z"
   },
   {
    "duration": 77,
    "start_time": "2024-08-19T10:37:36.786Z"
   },
   {
    "duration": 4,
    "start_time": "2024-08-19T10:37:36.864Z"
   },
   {
    "duration": 83,
    "start_time": "2024-08-19T10:37:36.869Z"
   },
   {
    "duration": 15,
    "start_time": "2024-08-19T10:37:36.953Z"
   },
   {
    "duration": 14,
    "start_time": "2024-08-19T10:37:36.969Z"
   },
   {
    "duration": 193,
    "start_time": "2024-08-19T10:37:36.984Z"
   },
   {
    "duration": 314,
    "start_time": "2024-08-19T10:37:37.178Z"
   },
   {
    "duration": 18,
    "start_time": "2024-08-19T10:37:37.494Z"
   },
   {
    "duration": 13,
    "start_time": "2024-08-19T10:37:37.514Z"
   },
   {
    "duration": 245,
    "start_time": "2024-08-19T10:37:37.528Z"
   },
   {
    "duration": 10,
    "start_time": "2024-08-19T10:37:37.774Z"
   },
   {
    "duration": 150,
    "start_time": "2024-08-19T10:37:37.786Z"
   },
   {
    "duration": 24,
    "start_time": "2024-08-19T10:37:37.937Z"
   },
   {
    "duration": 66,
    "start_time": "2024-08-19T10:37:37.962Z"
   },
   {
    "duration": 16,
    "start_time": "2024-08-19T10:37:38.029Z"
   },
   {
    "duration": 70,
    "start_time": "2024-08-19T10:37:38.049Z"
   },
   {
    "duration": 304,
    "start_time": "2024-08-19T10:37:38.120Z"
   },
   {
    "duration": 6,
    "start_time": "2024-08-19T10:37:38.425Z"
   },
   {
    "duration": 58,
    "start_time": "2024-08-19T10:37:38.433Z"
   },
   {
    "duration": 82,
    "start_time": "2024-08-19T10:37:38.492Z"
   },
   {
    "duration": 17,
    "start_time": "2024-08-19T10:37:38.575Z"
   },
   {
    "duration": 12,
    "start_time": "2024-08-19T10:37:38.607Z"
   },
   {
    "duration": 299,
    "start_time": "2024-08-19T10:37:38.621Z"
   },
   {
    "duration": 11,
    "start_time": "2024-08-19T10:37:38.921Z"
   },
   {
    "duration": 11,
    "start_time": "2024-08-19T10:37:38.934Z"
   },
   {
    "duration": 149,
    "start_time": "2024-08-19T10:37:38.947Z"
   },
   {
    "duration": 3,
    "start_time": "2024-08-19T10:37:39.097Z"
   },
   {
    "duration": 7,
    "start_time": "2024-08-19T10:37:39.101Z"
   },
   {
    "duration": 14,
    "start_time": "2024-08-19T10:37:39.109Z"
   },
   {
    "duration": 18,
    "start_time": "2024-08-19T10:37:39.124Z"
   },
   {
    "duration": 107,
    "start_time": "2024-08-19T10:37:39.144Z"
   },
   {
    "duration": 9752,
    "start_time": "2024-08-19T10:37:39.253Z"
   },
   {
    "duration": 133,
    "start_time": "2024-08-19T10:37:49.007Z"
   },
   {
    "duration": 12,
    "start_time": "2024-08-19T10:37:49.141Z"
   },
   {
    "duration": 82,
    "start_time": "2024-08-19T10:37:49.154Z"
   },
   {
    "duration": 72,
    "start_time": "2024-08-19T10:37:49.238Z"
   },
   {
    "duration": 131,
    "start_time": "2024-08-19T10:37:49.312Z"
   },
   {
    "duration": 70,
    "start_time": "2024-08-19T10:37:49.445Z"
   },
   {
    "duration": 10,
    "start_time": "2024-08-19T10:37:49.517Z"
   },
   {
    "duration": 13,
    "start_time": "2024-08-19T10:37:49.528Z"
   },
   {
    "duration": 227,
    "start_time": "2024-08-19T10:37:49.542Z"
   },
   {
    "duration": 11,
    "start_time": "2024-08-19T10:37:49.771Z"
   },
   {
    "duration": 25,
    "start_time": "2024-08-19T10:37:49.783Z"
   },
   {
    "duration": 253,
    "start_time": "2024-08-19T10:37:49.809Z"
   },
   {
    "duration": 11,
    "start_time": "2024-08-19T10:37:50.064Z"
   },
   {
    "duration": 238,
    "start_time": "2024-08-19T10:37:50.077Z"
   },
   {
    "duration": 119,
    "start_time": "2024-08-19T10:37:50.317Z"
   },
   {
    "duration": 79,
    "start_time": "2024-08-19T10:37:50.438Z"
   },
   {
    "duration": 8,
    "start_time": "2024-08-19T10:37:50.519Z"
   },
   {
    "duration": 181,
    "start_time": "2024-08-19T10:37:50.529Z"
   },
   {
    "duration": 6,
    "start_time": "2024-08-19T10:37:50.712Z"
   },
   {
    "duration": 26,
    "start_time": "2024-08-19T10:37:50.720Z"
   },
   {
    "duration": 9,
    "start_time": "2024-08-19T10:37:50.747Z"
   },
   {
    "duration": 13,
    "start_time": "2024-08-19T10:37:50.757Z"
   },
   {
    "duration": 42,
    "start_time": "2024-08-19T10:37:50.771Z"
   },
   {
    "duration": 8,
    "start_time": "2024-08-19T10:37:50.814Z"
   },
   {
    "duration": 245,
    "start_time": "2024-08-19T10:37:50.823Z"
   },
   {
    "duration": 1542,
    "start_time": "2024-08-19T10:37:51.070Z"
   },
   {
    "duration": 6,
    "start_time": "2024-08-19T10:37:52.614Z"
   },
   {
    "duration": 20,
    "start_time": "2024-08-19T10:37:52.621Z"
   },
   {
    "duration": 128,
    "start_time": "2024-08-19T10:37:52.643Z"
   },
   {
    "duration": 9,
    "start_time": "2024-08-19T10:37:52.772Z"
   },
   {
    "duration": 271,
    "start_time": "2024-08-19T10:37:52.783Z"
   },
   {
    "duration": 13,
    "start_time": "2024-08-19T10:37:53.055Z"
   },
   {
    "duration": 13,
    "start_time": "2024-08-19T10:37:53.069Z"
   },
   {
    "duration": 24,
    "start_time": "2024-08-19T10:37:53.084Z"
   },
   {
    "duration": 16,
    "start_time": "2024-08-19T10:37:53.109Z"
   },
   {
    "duration": 14,
    "start_time": "2024-08-19T10:37:53.126Z"
   },
   {
    "duration": 129,
    "start_time": "2024-08-19T10:37:53.142Z"
   },
   {
    "duration": 32,
    "start_time": "2024-08-19T10:37:53.279Z"
   },
   {
    "duration": 43,
    "start_time": "2024-08-19T10:37:53.312Z"
   },
   {
    "duration": 8,
    "start_time": "2024-08-19T10:37:53.356Z"
   },
   {
    "duration": 14,
    "start_time": "2024-08-19T10:37:53.365Z"
   },
   {
    "duration": 299,
    "start_time": "2024-08-19T10:37:53.380Z"
   },
   {
    "duration": 7,
    "start_time": "2024-08-19T10:37:53.681Z"
   },
   {
    "duration": 19,
    "start_time": "2024-08-19T10:37:53.689Z"
   },
   {
    "duration": 218,
    "start_time": "2024-08-19T10:41:45.097Z"
   },
   {
    "duration": 162,
    "start_time": "2024-08-19T10:59:54.119Z"
   },
   {
    "duration": 10,
    "start_time": "2024-08-19T11:00:09.380Z"
   },
   {
    "duration": 17,
    "start_time": "2024-08-19T11:21:21.876Z"
   },
   {
    "duration": 11,
    "start_time": "2024-08-19T11:21:28.134Z"
   },
   {
    "duration": 12,
    "start_time": "2024-08-19T11:21:37.982Z"
   },
   {
    "duration": 115,
    "start_time": "2024-08-19T11:26:52.668Z"
   },
   {
    "duration": 117,
    "start_time": "2024-08-19T11:27:26.535Z"
   },
   {
    "duration": 127,
    "start_time": "2024-08-19T11:27:43.270Z"
   },
   {
    "duration": 246,
    "start_time": "2024-08-19T11:29:57.154Z"
   },
   {
    "duration": 241,
    "start_time": "2024-08-19T11:30:07.174Z"
   },
   {
    "duration": 239,
    "start_time": "2024-08-19T11:31:34.321Z"
   },
   {
    "duration": 231,
    "start_time": "2024-08-19T11:31:47.183Z"
   },
   {
    "duration": 171,
    "start_time": "2024-08-19T11:33:52.835Z"
   },
   {
    "duration": 164,
    "start_time": "2024-08-19T11:34:45.366Z"
   },
   {
    "duration": 206,
    "start_time": "2024-08-19T11:35:11.172Z"
   },
   {
    "duration": 243,
    "start_time": "2024-08-19T11:36:26.684Z"
   },
   {
    "duration": 211,
    "start_time": "2024-08-19T11:39:22.328Z"
   },
   {
    "duration": 207,
    "start_time": "2024-08-19T11:40:45.950Z"
   },
   {
    "duration": 151,
    "start_time": "2024-08-19T11:57:18.625Z"
   },
   {
    "duration": 173,
    "start_time": "2024-08-19T11:57:35.534Z"
   },
   {
    "duration": 166,
    "start_time": "2024-08-19T11:57:45.449Z"
   },
   {
    "duration": 161,
    "start_time": "2024-08-19T11:58:11.716Z"
   },
   {
    "duration": 1518,
    "start_time": "2024-08-19T12:07:01.074Z"
   },
   {
    "duration": 84,
    "start_time": "2024-08-19T12:07:02.594Z"
   },
   {
    "duration": 14,
    "start_time": "2024-08-19T12:07:02.679Z"
   },
   {
    "duration": 26,
    "start_time": "2024-08-19T12:07:02.694Z"
   },
   {
    "duration": 26,
    "start_time": "2024-08-19T12:07:02.722Z"
   },
   {
    "duration": 79,
    "start_time": "2024-08-19T12:07:02.750Z"
   },
   {
    "duration": 39,
    "start_time": "2024-08-19T12:07:02.830Z"
   },
   {
    "duration": 20,
    "start_time": "2024-08-19T12:07:02.872Z"
   },
   {
    "duration": 9,
    "start_time": "2024-08-19T12:07:02.893Z"
   },
   {
    "duration": 16,
    "start_time": "2024-08-19T12:07:02.904Z"
   },
   {
    "duration": 8,
    "start_time": "2024-08-19T12:07:02.921Z"
   },
   {
    "duration": 41,
    "start_time": "2024-08-19T12:07:02.930Z"
   },
   {
    "duration": 71,
    "start_time": "2024-08-19T12:07:02.972Z"
   },
   {
    "duration": 4,
    "start_time": "2024-08-19T12:07:03.046Z"
   },
   {
    "duration": 77,
    "start_time": "2024-08-19T12:07:03.052Z"
   },
   {
    "duration": 13,
    "start_time": "2024-08-19T12:07:03.131Z"
   },
   {
    "duration": 13,
    "start_time": "2024-08-19T12:07:03.146Z"
   },
   {
    "duration": 178,
    "start_time": "2024-08-19T12:07:03.161Z"
   },
   {
    "duration": 247,
    "start_time": "2024-08-19T12:07:03.340Z"
   },
   {
    "duration": 18,
    "start_time": "2024-08-19T12:07:03.589Z"
   },
   {
    "duration": 39,
    "start_time": "2024-08-19T12:07:03.609Z"
   },
   {
    "duration": 220,
    "start_time": "2024-08-19T12:07:03.650Z"
   },
   {
    "duration": 8,
    "start_time": "2024-08-19T12:07:03.871Z"
   },
   {
    "duration": 163,
    "start_time": "2024-08-19T12:07:03.880Z"
   },
   {
    "duration": 22,
    "start_time": "2024-08-19T12:07:04.045Z"
   },
   {
    "duration": 51,
    "start_time": "2024-08-19T12:07:04.069Z"
   },
   {
    "duration": 9,
    "start_time": "2024-08-19T12:07:04.121Z"
   },
   {
    "duration": 25,
    "start_time": "2024-08-19T12:07:04.131Z"
   },
   {
    "duration": 265,
    "start_time": "2024-08-19T12:07:04.158Z"
   },
   {
    "duration": 7,
    "start_time": "2024-08-19T12:07:04.425Z"
   },
   {
    "duration": 24,
    "start_time": "2024-08-19T12:07:04.434Z"
   },
   {
    "duration": 103,
    "start_time": "2024-08-19T12:07:04.460Z"
   },
   {
    "duration": 15,
    "start_time": "2024-08-19T12:07:04.565Z"
   },
   {
    "duration": 180,
    "start_time": "2024-08-19T12:07:04.582Z"
   },
   {
    "duration": 260,
    "start_time": "2024-08-19T12:07:04.764Z"
   },
   {
    "duration": 10,
    "start_time": "2024-08-19T12:07:05.026Z"
   },
   {
    "duration": 111,
    "start_time": "2024-08-19T12:07:05.038Z"
   },
   {
    "duration": 48,
    "start_time": "2024-08-19T12:07:05.150Z"
   },
   {
    "duration": 3,
    "start_time": "2024-08-19T12:07:05.199Z"
   },
   {
    "duration": 8,
    "start_time": "2024-08-19T12:07:05.203Z"
   },
   {
    "duration": 5,
    "start_time": "2024-08-19T12:07:05.217Z"
   },
   {
    "duration": 21,
    "start_time": "2024-08-19T12:07:05.224Z"
   },
   {
    "duration": 92,
    "start_time": "2024-08-19T12:07:05.247Z"
   },
   {
    "duration": 9406,
    "start_time": "2024-08-19T12:07:05.341Z"
   },
   {
    "duration": 161,
    "start_time": "2024-08-19T12:07:14.749Z"
   },
   {
    "duration": 10,
    "start_time": "2024-08-19T12:07:14.912Z"
   },
   {
    "duration": 34,
    "start_time": "2024-08-19T12:07:14.923Z"
   },
   {
    "duration": 68,
    "start_time": "2024-08-19T12:07:14.958Z"
   },
   {
    "duration": 118,
    "start_time": "2024-08-19T12:07:15.027Z"
   },
   {
    "duration": 14,
    "start_time": "2024-08-19T12:07:15.147Z"
   },
   {
    "duration": 34,
    "start_time": "2024-08-19T12:07:15.163Z"
   },
   {
    "duration": 21,
    "start_time": "2024-08-19T12:07:15.198Z"
   },
   {
    "duration": 175,
    "start_time": "2024-08-19T12:07:15.221Z"
   },
   {
    "duration": 14,
    "start_time": "2024-08-19T12:07:15.397Z"
   },
   {
    "duration": 27,
    "start_time": "2024-08-19T12:07:15.412Z"
   },
   {
    "duration": 236,
    "start_time": "2024-08-19T12:07:15.441Z"
   },
   {
    "duration": 11,
    "start_time": "2024-08-19T12:07:15.679Z"
   },
   {
    "duration": 237,
    "start_time": "2024-08-19T12:07:15.692Z"
   },
   {
    "duration": 122,
    "start_time": "2024-08-19T12:07:15.931Z"
   },
   {
    "duration": 61,
    "start_time": "2024-08-19T12:07:16.054Z"
   },
   {
    "duration": 6,
    "start_time": "2024-08-19T12:07:16.117Z"
   },
   {
    "duration": 169,
    "start_time": "2024-08-19T12:07:16.125Z"
   },
   {
    "duration": 13,
    "start_time": "2024-08-19T12:07:16.295Z"
   },
   {
    "duration": 14,
    "start_time": "2024-08-19T12:07:16.309Z"
   },
   {
    "duration": 23,
    "start_time": "2024-08-19T12:07:16.325Z"
   },
   {
    "duration": 17,
    "start_time": "2024-08-19T12:07:16.350Z"
   },
   {
    "duration": 14,
    "start_time": "2024-08-19T12:07:16.368Z"
   },
   {
    "duration": 28,
    "start_time": "2024-08-19T12:07:16.383Z"
   },
   {
    "duration": 223,
    "start_time": "2024-08-19T12:07:16.413Z"
   },
   {
    "duration": 1538,
    "start_time": "2024-08-19T12:07:16.637Z"
   },
   {
    "duration": 6,
    "start_time": "2024-08-19T12:07:18.177Z"
   },
   {
    "duration": 25,
    "start_time": "2024-08-19T12:07:18.184Z"
   },
   {
    "duration": 98,
    "start_time": "2024-08-19T12:07:18.211Z"
   },
   {
    "duration": 11,
    "start_time": "2024-08-19T12:07:18.311Z"
   },
   {
    "duration": 231,
    "start_time": "2024-08-19T12:07:18.323Z"
   },
   {
    "duration": 14,
    "start_time": "2024-08-19T12:07:18.556Z"
   },
   {
    "duration": 220,
    "start_time": "2024-08-19T12:07:18.571Z"
   },
   {
    "duration": 2,
    "start_time": "2024-08-19T12:07:18.793Z"
   },
   {
    "duration": 47,
    "start_time": "2024-08-19T12:07:18.796Z"
   },
   {
    "duration": 23,
    "start_time": "2024-08-19T12:07:18.844Z"
   },
   {
    "duration": 347,
    "start_time": "2024-08-19T12:07:18.869Z"
   },
   {
    "duration": 10,
    "start_time": "2024-08-19T12:07:19.218Z"
   },
   {
    "duration": 25,
    "start_time": "2024-08-19T12:07:19.229Z"
   },
   {
    "duration": 16,
    "start_time": "2024-08-19T12:07:19.255Z"
   },
   {
    "duration": 28,
    "start_time": "2024-08-19T12:07:19.273Z"
   },
   {
    "duration": 302,
    "start_time": "2024-08-19T12:07:19.302Z"
   },
   {
    "duration": 8,
    "start_time": "2024-08-19T12:07:19.607Z"
   },
   {
    "duration": 23,
    "start_time": "2024-08-19T12:07:19.616Z"
   },
   {
    "duration": 1683,
    "start_time": "2024-08-20T05:31:34.345Z"
   },
   {
    "duration": 300,
    "start_time": "2024-08-20T05:31:36.030Z"
   },
   {
    "duration": 15,
    "start_time": "2024-08-20T05:31:36.332Z"
   },
   {
    "duration": 7,
    "start_time": "2024-08-20T05:31:36.349Z"
   },
   {
    "duration": 16,
    "start_time": "2024-08-20T05:31:36.358Z"
   },
   {
    "duration": 25,
    "start_time": "2024-08-20T05:31:36.376Z"
   },
   {
    "duration": 5,
    "start_time": "2024-08-20T05:31:36.403Z"
   },
   {
    "duration": 9,
    "start_time": "2024-08-20T05:31:36.410Z"
   },
   {
    "duration": 9,
    "start_time": "2024-08-20T05:31:36.421Z"
   },
   {
    "duration": 13,
    "start_time": "2024-08-20T05:31:36.432Z"
   },
   {
    "duration": 58,
    "start_time": "2024-08-20T05:31:36.446Z"
   },
   {
    "duration": 30,
    "start_time": "2024-08-20T05:31:36.506Z"
   },
   {
    "duration": 68,
    "start_time": "2024-08-20T05:31:36.538Z"
   },
   {
    "duration": 4,
    "start_time": "2024-08-20T05:31:36.609Z"
   },
   {
    "duration": 88,
    "start_time": "2024-08-20T05:31:36.614Z"
   },
   {
    "duration": 14,
    "start_time": "2024-08-20T05:31:36.703Z"
   },
   {
    "duration": 56,
    "start_time": "2024-08-20T05:31:36.718Z"
   },
   {
    "duration": 178,
    "start_time": "2024-08-20T05:31:36.776Z"
   },
   {
    "duration": 335,
    "start_time": "2024-08-20T05:31:36.955Z"
   },
   {
    "duration": 13,
    "start_time": "2024-08-20T05:31:37.292Z"
   },
   {
    "duration": 19,
    "start_time": "2024-08-20T05:31:37.307Z"
   },
   {
    "duration": 188,
    "start_time": "2024-08-20T05:31:37.328Z"
   },
   {
    "duration": 8,
    "start_time": "2024-08-20T05:31:37.517Z"
   },
   {
    "duration": 301,
    "start_time": "2024-08-20T05:31:37.527Z"
   },
   {
    "duration": 24,
    "start_time": "2024-08-20T05:31:37.830Z"
   },
   {
    "duration": 46,
    "start_time": "2024-08-20T05:31:37.856Z"
   },
   {
    "duration": 9,
    "start_time": "2024-08-20T05:31:37.904Z"
   },
   {
    "duration": 25,
    "start_time": "2024-08-20T05:31:37.914Z"
   },
   {
    "duration": 262,
    "start_time": "2024-08-20T05:31:37.997Z"
   },
   {
    "duration": 6,
    "start_time": "2024-08-20T05:31:38.260Z"
   },
   {
    "duration": 41,
    "start_time": "2024-08-20T05:31:38.267Z"
   },
   {
    "duration": 75,
    "start_time": "2024-08-20T05:31:38.309Z"
   },
   {
    "duration": 17,
    "start_time": "2024-08-20T05:31:38.396Z"
   },
   {
    "duration": 186,
    "start_time": "2024-08-20T05:31:38.415Z"
   },
   {
    "duration": 344,
    "start_time": "2024-08-20T05:31:38.603Z"
   },
   {
    "duration": 12,
    "start_time": "2024-08-20T05:31:38.949Z"
   },
   {
    "duration": 12,
    "start_time": "2024-08-20T05:31:38.963Z"
   },
   {
    "duration": 149,
    "start_time": "2024-08-20T05:31:38.996Z"
   },
   {
    "duration": 2,
    "start_time": "2024-08-20T05:31:39.147Z"
   },
   {
    "duration": 5,
    "start_time": "2024-08-20T05:31:39.150Z"
   },
   {
    "duration": 6,
    "start_time": "2024-08-20T05:31:39.159Z"
   },
   {
    "duration": 20,
    "start_time": "2024-08-20T05:31:39.166Z"
   },
   {
    "duration": 84,
    "start_time": "2024-08-20T05:31:39.188Z"
   },
   {
    "duration": 9668,
    "start_time": "2024-08-20T05:31:39.274Z"
   },
   {
    "duration": 161,
    "start_time": "2024-08-20T05:31:48.944Z"
   },
   {
    "duration": 12,
    "start_time": "2024-08-20T05:31:49.106Z"
   },
   {
    "duration": 86,
    "start_time": "2024-08-20T05:31:49.120Z"
   },
   {
    "duration": 21,
    "start_time": "2024-08-20T05:31:49.208Z"
   },
   {
    "duration": 129,
    "start_time": "2024-08-20T05:31:49.231Z"
   },
   {
    "duration": 14,
    "start_time": "2024-08-20T05:31:49.362Z"
   },
   {
    "duration": 27,
    "start_time": "2024-08-20T05:31:49.378Z"
   },
   {
    "duration": 36,
    "start_time": "2024-08-20T05:31:49.407Z"
   },
   {
    "duration": 179,
    "start_time": "2024-08-20T05:31:49.445Z"
   },
   {
    "duration": 12,
    "start_time": "2024-08-20T05:31:49.625Z"
   },
   {
    "duration": 14,
    "start_time": "2024-08-20T05:31:49.638Z"
   },
   {
    "duration": 261,
    "start_time": "2024-08-20T05:31:49.654Z"
   },
   {
    "duration": 13,
    "start_time": "2024-08-20T05:31:49.917Z"
   },
   {
    "duration": 254,
    "start_time": "2024-08-20T05:31:49.932Z"
   },
   {
    "duration": 126,
    "start_time": "2024-08-20T05:31:50.188Z"
   },
   {
    "duration": 55,
    "start_time": "2024-08-20T05:31:50.316Z"
   },
   {
    "duration": 29,
    "start_time": "2024-08-20T05:31:50.372Z"
   },
   {
    "duration": 189,
    "start_time": "2024-08-20T05:31:50.402Z"
   },
   {
    "duration": 5,
    "start_time": "2024-08-20T05:31:50.593Z"
   },
   {
    "duration": 40,
    "start_time": "2024-08-20T05:31:50.600Z"
   },
   {
    "duration": 40,
    "start_time": "2024-08-20T05:31:50.641Z"
   },
   {
    "duration": 34,
    "start_time": "2024-08-20T05:31:50.683Z"
   },
   {
    "duration": 100,
    "start_time": "2024-08-20T05:31:50.719Z"
   },
   {
    "duration": 38,
    "start_time": "2024-08-20T05:31:50.820Z"
   },
   {
    "duration": 255,
    "start_time": "2024-08-20T05:31:50.860Z"
   },
   {
    "duration": 1763,
    "start_time": "2024-08-20T05:31:51.117Z"
   },
   {
    "duration": 17,
    "start_time": "2024-08-20T05:31:52.882Z"
   },
   {
    "duration": 16,
    "start_time": "2024-08-20T05:31:52.901Z"
   },
   {
    "duration": 109,
    "start_time": "2024-08-20T05:31:52.918Z"
   },
   {
    "duration": 9,
    "start_time": "2024-08-20T05:31:53.029Z"
   },
   {
    "duration": 224,
    "start_time": "2024-08-20T05:31:53.040Z"
   },
   {
    "duration": 13,
    "start_time": "2024-08-20T05:31:53.265Z"
   },
   {
    "duration": 233,
    "start_time": "2024-08-20T05:31:53.279Z"
   },
   {
    "duration": 3,
    "start_time": "2024-08-20T05:31:53.513Z"
   },
   {
    "duration": 26,
    "start_time": "2024-08-20T05:31:53.517Z"
   },
   {
    "duration": 17,
    "start_time": "2024-08-20T05:31:53.545Z"
   },
   {
    "duration": 130,
    "start_time": "2024-08-20T05:31:53.563Z"
   },
   {
    "duration": 11,
    "start_time": "2024-08-20T05:31:53.694Z"
   },
   {
    "duration": 9,
    "start_time": "2024-08-20T05:31:53.706Z"
   },
   {
    "duration": 39,
    "start_time": "2024-08-20T05:31:53.716Z"
   },
   {
    "duration": 84,
    "start_time": "2024-08-20T05:31:53.757Z"
   },
   {
    "duration": 311,
    "start_time": "2024-08-20T05:31:53.843Z"
   },
   {
    "duration": 6,
    "start_time": "2024-08-20T05:31:54.156Z"
   },
   {
    "duration": 18,
    "start_time": "2024-08-20T05:31:54.164Z"
   },
   {
    "duration": 1658,
    "start_time": "2024-09-11T08:18:04.315Z"
   },
   {
    "duration": 306,
    "start_time": "2024-09-11T08:18:05.975Z"
   },
   {
    "duration": 15,
    "start_time": "2024-09-11T08:18:06.282Z"
   },
   {
    "duration": 10,
    "start_time": "2024-09-11T08:18:06.299Z"
   },
   {
    "duration": 120,
    "start_time": "2024-09-11T08:18:06.311Z"
   },
   {
    "duration": 13,
    "start_time": "2024-09-11T08:18:06.432Z"
   },
   {
    "duration": 41,
    "start_time": "2024-09-11T08:18:06.446Z"
   },
   {
    "duration": 17,
    "start_time": "2024-09-11T08:18:06.489Z"
   },
   {
    "duration": 9,
    "start_time": "2024-09-11T08:18:06.508Z"
   },
   {
    "duration": 39,
    "start_time": "2024-09-11T08:18:06.520Z"
   },
   {
    "duration": 24,
    "start_time": "2024-09-11T08:18:06.561Z"
   },
   {
    "duration": 42,
    "start_time": "2024-09-11T08:18:06.587Z"
   },
   {
    "duration": 78,
    "start_time": "2024-09-11T08:18:06.631Z"
   },
   {
    "duration": 5,
    "start_time": "2024-09-11T08:18:06.711Z"
   },
   {
    "duration": 98,
    "start_time": "2024-09-11T08:18:06.718Z"
   },
   {
    "duration": 15,
    "start_time": "2024-09-11T08:18:06.817Z"
   },
   {
    "duration": 19,
    "start_time": "2024-09-11T08:18:06.834Z"
   },
   {
    "duration": 199,
    "start_time": "2024-09-11T08:18:06.854Z"
   },
   {
    "duration": 283,
    "start_time": "2024-09-11T08:18:07.055Z"
   },
   {
    "duration": 10,
    "start_time": "2024-09-11T08:18:07.340Z"
   },
   {
    "duration": 19,
    "start_time": "2024-09-11T08:18:07.352Z"
   },
   {
    "duration": 271,
    "start_time": "2024-09-11T08:18:07.373Z"
   },
   {
    "duration": 9,
    "start_time": "2024-09-11T08:18:07.645Z"
   },
   {
    "duration": 174,
    "start_time": "2024-09-11T08:18:07.656Z"
   },
   {
    "duration": 25,
    "start_time": "2024-09-11T08:18:07.832Z"
   },
   {
    "duration": 63,
    "start_time": "2024-09-11T08:18:07.859Z"
   },
   {
    "duration": 9,
    "start_time": "2024-09-11T08:18:07.923Z"
   },
   {
    "duration": 77,
    "start_time": "2024-09-11T08:18:07.936Z"
   },
   {
    "duration": 264,
    "start_time": "2024-09-11T08:18:08.015Z"
   },
   {
    "duration": 6,
    "start_time": "2024-09-11T08:18:08.281Z"
   },
   {
    "duration": 37,
    "start_time": "2024-09-11T08:18:08.289Z"
   },
   {
    "duration": 95,
    "start_time": "2024-09-11T08:18:08.328Z"
   },
   {
    "duration": 35,
    "start_time": "2024-09-11T08:18:08.425Z"
   },
   {
    "duration": 191,
    "start_time": "2024-09-11T08:18:08.462Z"
   },
   {
    "duration": 377,
    "start_time": "2024-09-11T08:18:08.655Z"
   },
   {
    "duration": 13,
    "start_time": "2024-09-11T08:18:09.034Z"
   },
   {
    "duration": 13,
    "start_time": "2024-09-11T08:18:09.049Z"
   },
   {
    "duration": 162,
    "start_time": "2024-09-11T08:18:09.063Z"
   },
   {
    "duration": 3,
    "start_time": "2024-09-11T08:18:09.226Z"
   },
   {
    "duration": 6,
    "start_time": "2024-09-11T08:18:09.230Z"
   },
   {
    "duration": 10,
    "start_time": "2024-09-11T08:18:09.243Z"
   },
   {
    "duration": 23,
    "start_time": "2024-09-11T08:18:09.254Z"
   },
   {
    "duration": 92,
    "start_time": "2024-09-11T08:18:09.278Z"
   },
   {
    "duration": 10478,
    "start_time": "2024-09-11T08:18:09.372Z"
   },
   {
    "duration": 168,
    "start_time": "2024-09-11T08:18:19.853Z"
   },
   {
    "duration": 12,
    "start_time": "2024-09-11T08:18:20.022Z"
   },
   {
    "duration": 95,
    "start_time": "2024-09-11T08:18:20.035Z"
   },
   {
    "duration": 25,
    "start_time": "2024-09-11T08:18:20.131Z"
   },
   {
    "duration": 80,
    "start_time": "2024-09-11T08:18:20.206Z"
   },
   {
    "duration": 31,
    "start_time": "2024-09-11T08:18:20.288Z"
   },
   {
    "duration": 11,
    "start_time": "2024-09-11T08:18:20.320Z"
   },
   {
    "duration": 26,
    "start_time": "2024-09-11T08:18:20.333Z"
   },
   {
    "duration": 201,
    "start_time": "2024-09-11T08:18:20.361Z"
   },
   {
    "duration": 12,
    "start_time": "2024-09-11T08:18:20.564Z"
   },
   {
    "duration": 28,
    "start_time": "2024-09-11T08:18:20.578Z"
   },
   {
    "duration": 258,
    "start_time": "2024-09-11T08:18:20.607Z"
   },
   {
    "duration": 12,
    "start_time": "2024-09-11T08:18:20.866Z"
   },
   {
    "duration": 254,
    "start_time": "2024-09-11T08:18:20.880Z"
   },
   {
    "duration": 128,
    "start_time": "2024-09-11T08:18:21.136Z"
   },
   {
    "duration": 57,
    "start_time": "2024-09-11T08:18:21.266Z"
   },
   {
    "duration": 7,
    "start_time": "2024-09-11T08:18:21.324Z"
   },
   {
    "duration": 187,
    "start_time": "2024-09-11T08:18:21.332Z"
   },
   {
    "duration": 6,
    "start_time": "2024-09-11T08:18:21.521Z"
   },
   {
    "duration": 23,
    "start_time": "2024-09-11T08:18:21.529Z"
   },
   {
    "duration": 64,
    "start_time": "2024-09-11T08:18:21.554Z"
   },
   {
    "duration": 14,
    "start_time": "2024-09-11T08:18:21.620Z"
   },
   {
    "duration": 17,
    "start_time": "2024-09-11T08:18:21.637Z"
   },
   {
    "duration": 9,
    "start_time": "2024-09-11T08:18:21.655Z"
   },
   {
    "duration": 257,
    "start_time": "2024-09-11T08:18:21.665Z"
   },
   {
    "duration": 1849,
    "start_time": "2024-09-11T08:18:21.924Z"
   },
   {
    "duration": 6,
    "start_time": "2024-09-11T08:18:23.775Z"
   },
   {
    "duration": 25,
    "start_time": "2024-09-11T08:18:23.782Z"
   },
   {
    "duration": 124,
    "start_time": "2024-09-11T08:18:23.809Z"
   },
   {
    "duration": 9,
    "start_time": "2024-09-11T08:18:23.935Z"
   },
   {
    "duration": 231,
    "start_time": "2024-09-11T08:18:23.946Z"
   },
   {
    "duration": 13,
    "start_time": "2024-09-11T08:18:24.178Z"
   },
   {
    "duration": 232,
    "start_time": "2024-09-11T08:18:24.193Z"
   },
   {
    "duration": 3,
    "start_time": "2024-09-11T08:18:24.427Z"
   },
   {
    "duration": 14,
    "start_time": "2024-09-11T08:18:24.432Z"
   },
   {
    "duration": 27,
    "start_time": "2024-09-11T08:18:24.448Z"
   },
   {
    "duration": 134,
    "start_time": "2024-09-11T08:18:24.476Z"
   },
   {
    "duration": 15,
    "start_time": "2024-09-11T08:18:24.618Z"
   },
   {
    "duration": 13,
    "start_time": "2024-09-11T08:18:24.634Z"
   },
   {
    "duration": 13,
    "start_time": "2024-09-11T08:18:24.649Z"
   },
   {
    "duration": 44,
    "start_time": "2024-09-11T08:18:24.664Z"
   },
   {
    "duration": 311,
    "start_time": "2024-09-11T08:18:24.710Z"
   },
   {
    "duration": 8,
    "start_time": "2024-09-11T08:18:25.022Z"
   },
   {
    "duration": 6,
    "start_time": "2024-09-11T08:18:25.032Z"
   },
   {
    "duration": 1705,
    "start_time": "2024-10-09T09:29:58.684Z"
   },
   {
    "duration": 268,
    "start_time": "2024-10-09T09:30:00.392Z"
   },
   {
    "duration": 17,
    "start_time": "2024-10-09T09:30:00.662Z"
   },
   {
    "duration": 11,
    "start_time": "2024-10-09T09:30:00.681Z"
   },
   {
    "duration": 70,
    "start_time": "2024-10-09T09:30:00.694Z"
   },
   {
    "duration": 12,
    "start_time": "2024-10-09T09:30:00.765Z"
   },
   {
    "duration": 11,
    "start_time": "2024-10-09T09:30:00.778Z"
   },
   {
    "duration": 15,
    "start_time": "2024-10-09T09:30:00.791Z"
   },
   {
    "duration": 8,
    "start_time": "2024-10-09T09:30:00.808Z"
   },
   {
    "duration": 21,
    "start_time": "2024-10-09T09:30:00.818Z"
   },
   {
    "duration": 9,
    "start_time": "2024-10-09T09:30:00.841Z"
   },
   {
    "duration": 54,
    "start_time": "2024-10-09T09:30:00.851Z"
   },
   {
    "duration": 69,
    "start_time": "2024-10-09T09:30:00.907Z"
   },
   {
    "duration": 4,
    "start_time": "2024-10-09T09:30:00.977Z"
   },
   {
    "duration": 74,
    "start_time": "2024-10-09T09:30:00.983Z"
   },
   {
    "duration": 18,
    "start_time": "2024-10-09T09:30:01.059Z"
   },
   {
    "duration": 71,
    "start_time": "2024-10-09T09:30:01.079Z"
   },
   {
    "duration": 180,
    "start_time": "2024-10-09T09:30:01.152Z"
   }
  ],
  "kernelspec": {
   "display_name": "Python 3 (ipykernel)",
   "language": "python",
   "name": "python3"
  },
  "language_info": {
   "codemirror_mode": {
    "name": "ipython",
    "version": 3
   },
   "file_extension": ".py",
   "mimetype": "text/x-python",
   "name": "python",
   "nbconvert_exporter": "python",
   "pygments_lexer": "ipython3",
   "version": "3.9.5"
  },
  "toc": {
   "base_numbering": 1,
   "nav_menu": {},
   "number_sections": true,
   "sideBar": true,
   "skip_h1_title": true,
   "title_cell": "Table of Contents",
   "title_sidebar": "Contents",
   "toc_cell": false,
   "toc_position": {},
   "toc_section_display": true,
   "toc_window_display": false
  }
 },
 "nbformat": 4,
 "nbformat_minor": 2
}
