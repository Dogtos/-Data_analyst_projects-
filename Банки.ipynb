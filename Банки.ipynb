{
 "cells": [
  {
   "cell_type": "markdown",
   "metadata": {},
   "source": [
    "# Банки — Анализ оттока клиентов"
   ]
  },
  {
   "cell_type": "markdown",
   "metadata": {},
   "source": [
    "«Метанпромбанк» в срочном порядке ищет аналитиков с уверенным владением «Python». Нашей главной задачей станет анализ оттока клиентов. Анализ покажет, какие клиенты уходят из банка, а так же поможет нам составить сегменты клиентов, которые склонны уходить из банка.\n",
    "\n",
    "«Метанпромбанк» — деньги не пахнут!"
   ]
  },
  {
   "cell_type": "markdown",
   "metadata": {},
   "source": [
    "**Описание данных:**\n",
    "\n",
    "Датасет содержит данные о клиентах банка «Метанпром». Банк располагается в\n",
    "Ярославле и областных городах: Ростов Великий и Рыбинск.\n",
    "\n",
    "Колонки:\n",
    "<br>\n",
    "**USERID** — идентификатор пользователя,\n",
    "<br>\n",
    "**score** — баллы кредитного скоринга,\n",
    "<br>\n",
    "**city** — город,\n",
    "<br>\n",
    "**gender** — пол,\n",
    "<br>\n",
    "**age** — возраст,\n",
    "<br>\n",
    "**equity** — количество баллов собственности\n",
    "<br>\n",
    "**balance** — баланс на счёте,\n",
    "<br>\n",
    "**products** — количество продуктов, которыми пользуется клиент,\n",
    "<br>\n",
    "**credit_card** — есть ли кредитная карта,\n",
    "<br>\n",
    "**last_activity** — активный клиент,\n",
    "<br>\n",
    "**EST_SALARY** — оценочный доход клиента,\n",
    "<br>\n",
    "**сhurn** — признак оттока."
   ]
  },
  {
   "cell_type": "markdown",
   "metadata": {},
   "source": [
    "**1 Шаг. Загружаем библиотеки и знакомимся с данными.**"
   ]
  },
  {
   "cell_type": "code",
   "execution_count": 1,
   "metadata": {},
   "outputs": [
    {
     "name": "stdout",
     "output_type": "stream",
     "text": [
      "Requirement already satisfied: phik in /opt/conda/lib/python3.9/site-packages (0.12.4)\n",
      "Requirement already satisfied: joblib>=0.14.1 in /opt/conda/lib/python3.9/site-packages (from phik) (1.1.0)\n",
      "Requirement already satisfied: scipy>=1.5.2 in /opt/conda/lib/python3.9/site-packages (from phik) (1.9.1)\n",
      "Requirement already satisfied: numpy>=1.18.0 in /opt/conda/lib/python3.9/site-packages (from phik) (1.21.1)\n",
      "Requirement already satisfied: matplotlib>=2.2.3 in /opt/conda/lib/python3.9/site-packages (from phik) (3.3.4)\n",
      "Requirement already satisfied: pandas>=0.25.1 in /opt/conda/lib/python3.9/site-packages (from phik) (1.2.4)\n",
      "Requirement already satisfied: kiwisolver>=1.0.1 in /opt/conda/lib/python3.9/site-packages (from matplotlib>=2.2.3->phik) (1.4.4)\n",
      "Requirement already satisfied: pyparsing!=2.0.4,!=2.1.2,!=2.1.6,>=2.0.3 in /opt/conda/lib/python3.9/site-packages (from matplotlib>=2.2.3->phik) (2.4.7)\n",
      "Requirement already satisfied: pillow>=6.2.0 in /opt/conda/lib/python3.9/site-packages (from matplotlib>=2.2.3->phik) (8.4.0)\n",
      "Requirement already satisfied: python-dateutil>=2.1 in /opt/conda/lib/python3.9/site-packages (from matplotlib>=2.2.3->phik) (2.8.1)\n",
      "Requirement already satisfied: cycler>=0.10 in /opt/conda/lib/python3.9/site-packages (from matplotlib>=2.2.3->phik) (0.11.0)\n",
      "Requirement already satisfied: pytz>=2017.3 in /opt/conda/lib/python3.9/site-packages (from pandas>=0.25.1->phik) (2021.1)\n",
      "Requirement already satisfied: six>=1.5 in /opt/conda/lib/python3.9/site-packages (from python-dateutil>=2.1->matplotlib>=2.2.3->phik) (1.16.0)\n"
     ]
    }
   ],
   "source": [
    "!pip install phik"
   ]
  },
  {
   "cell_type": "code",
   "execution_count": 2,
   "metadata": {},
   "outputs": [],
   "source": [
    "import pandas as pd\n",
    "import seaborn as sns\n",
    "import matplotlib.pyplot as plt\n",
    "import numpy as np\n",
    "from scipy import stats as st\n",
    "import scipy.stats as stats\n",
    "from scipy.stats import ttest_ind\n",
    "from statsmodels.stats.proportion import proportions_ztest\n",
    "import phik"
   ]
  },
  {
   "cell_type": "code",
   "execution_count": 3,
   "metadata": {},
   "outputs": [],
   "source": [
    "data = pd.read_csv('/datasets/bank_scrooge.csv')"
   ]
  },
  {
   "cell_type": "code",
   "execution_count": 4,
   "metadata": {},
   "outputs": [
    {
     "data": {
      "text/html": [
       "<div>\n",
       "<style scoped>\n",
       "    .dataframe tbody tr th:only-of-type {\n",
       "        vertical-align: middle;\n",
       "    }\n",
       "\n",
       "    .dataframe tbody tr th {\n",
       "        vertical-align: top;\n",
       "    }\n",
       "\n",
       "    .dataframe thead th {\n",
       "        text-align: right;\n",
       "    }\n",
       "</style>\n",
       "<table border=\"1\" class=\"dataframe\">\n",
       "  <thead>\n",
       "    <tr style=\"text-align: right;\">\n",
       "      <th></th>\n",
       "      <th>USERID</th>\n",
       "      <th>score</th>\n",
       "      <th>city</th>\n",
       "      <th>gender</th>\n",
       "      <th>age</th>\n",
       "      <th>equity</th>\n",
       "      <th>balance</th>\n",
       "      <th>products</th>\n",
       "      <th>credit_card</th>\n",
       "      <th>last_activity</th>\n",
       "      <th>EST_SALARY</th>\n",
       "      <th>churn</th>\n",
       "    </tr>\n",
       "  </thead>\n",
       "  <tbody>\n",
       "    <tr>\n",
       "      <th>0</th>\n",
       "      <td>183012</td>\n",
       "      <td>850.0</td>\n",
       "      <td>Рыбинск</td>\n",
       "      <td>Ж</td>\n",
       "      <td>25.0</td>\n",
       "      <td>1</td>\n",
       "      <td>59214.82</td>\n",
       "      <td>2</td>\n",
       "      <td>0</td>\n",
       "      <td>1</td>\n",
       "      <td>75719.14</td>\n",
       "      <td>1</td>\n",
       "    </tr>\n",
       "    <tr>\n",
       "      <th>1</th>\n",
       "      <td>146556</td>\n",
       "      <td>861.0</td>\n",
       "      <td>Рыбинск</td>\n",
       "      <td>Ж</td>\n",
       "      <td>37.0</td>\n",
       "      <td>5</td>\n",
       "      <td>850594.33</td>\n",
       "      <td>3</td>\n",
       "      <td>1</td>\n",
       "      <td>0</td>\n",
       "      <td>86621.77</td>\n",
       "      <td>0</td>\n",
       "    </tr>\n",
       "    <tr>\n",
       "      <th>2</th>\n",
       "      <td>120722</td>\n",
       "      <td>892.0</td>\n",
       "      <td>Рыбинск</td>\n",
       "      <td>Ж</td>\n",
       "      <td>30.0</td>\n",
       "      <td>0</td>\n",
       "      <td>NaN</td>\n",
       "      <td>1</td>\n",
       "      <td>1</td>\n",
       "      <td>1</td>\n",
       "      <td>107683.34</td>\n",
       "      <td>0</td>\n",
       "    </tr>\n",
       "    <tr>\n",
       "      <th>3</th>\n",
       "      <td>225363</td>\n",
       "      <td>866.0</td>\n",
       "      <td>Ярославль</td>\n",
       "      <td>Ж</td>\n",
       "      <td>51.0</td>\n",
       "      <td>5</td>\n",
       "      <td>1524746.26</td>\n",
       "      <td>2</td>\n",
       "      <td>0</td>\n",
       "      <td>1</td>\n",
       "      <td>174423.53</td>\n",
       "      <td>1</td>\n",
       "    </tr>\n",
       "    <tr>\n",
       "      <th>4</th>\n",
       "      <td>157978</td>\n",
       "      <td>730.0</td>\n",
       "      <td>Ярославль</td>\n",
       "      <td>М</td>\n",
       "      <td>34.0</td>\n",
       "      <td>5</td>\n",
       "      <td>174.00</td>\n",
       "      <td>1</td>\n",
       "      <td>1</td>\n",
       "      <td>0</td>\n",
       "      <td>67353.16</td>\n",
       "      <td>1</td>\n",
       "    </tr>\n",
       "  </tbody>\n",
       "</table>\n",
       "</div>"
      ],
      "text/plain": [
       "   USERID  score       city gender   age  equity     balance  products  \\\n",
       "0  183012  850.0    Рыбинск      Ж  25.0       1    59214.82         2   \n",
       "1  146556  861.0    Рыбинск      Ж  37.0       5   850594.33         3   \n",
       "2  120722  892.0    Рыбинск      Ж  30.0       0         NaN         1   \n",
       "3  225363  866.0  Ярославль      Ж  51.0       5  1524746.26         2   \n",
       "4  157978  730.0  Ярославль      М  34.0       5      174.00         1   \n",
       "\n",
       "   credit_card  last_activity  EST_SALARY  churn  \n",
       "0            0              1    75719.14      1  \n",
       "1            1              0    86621.77      0  \n",
       "2            1              1   107683.34      0  \n",
       "3            0              1   174423.53      1  \n",
       "4            1              0    67353.16      1  "
      ]
     },
     "execution_count": 4,
     "metadata": {},
     "output_type": "execute_result"
    }
   ],
   "source": [
    "data.head()"
   ]
  },
  {
   "cell_type": "code",
   "execution_count": 5,
   "metadata": {},
   "outputs": [
    {
     "name": "stdout",
     "output_type": "stream",
     "text": [
      "<class 'pandas.core.frame.DataFrame'>\n",
      "RangeIndex: 10000 entries, 0 to 9999\n",
      "Data columns (total 12 columns):\n",
      " #   Column         Non-Null Count  Dtype  \n",
      "---  ------         --------------  -----  \n",
      " 0   USERID         10000 non-null  int64  \n",
      " 1   score          10000 non-null  float64\n",
      " 2   city           10000 non-null  object \n",
      " 3   gender         10000 non-null  object \n",
      " 4   age            9974 non-null   float64\n",
      " 5   equity         10000 non-null  int64  \n",
      " 6   balance        7705 non-null   float64\n",
      " 7   products       10000 non-null  int64  \n",
      " 8   credit_card    10000 non-null  int64  \n",
      " 9   last_activity  10000 non-null  int64  \n",
      " 10  EST_SALARY     10000 non-null  float64\n",
      " 11  churn          10000 non-null  int64  \n",
      "dtypes: float64(4), int64(6), object(2)\n",
      "memory usage: 937.6+ KB\n"
     ]
    }
   ],
   "source": [
    "data.info()"
   ]
  },
  {
   "cell_type": "markdown",
   "metadata": {},
   "source": [
    "**Вывод:** в датасете представлено 10000 строк и 12 столбцов. Имеются пропуски в колонках \"age\" и \"balance\". Названия столбцов \"USERID\" и \"EST_SALARY\" следует привести к нижнему регистру и змеиному стилю. Типы данных в колонках \"score\" и \"age\" можно привести к целочисленным."
   ]
  },
  {
   "cell_type": "markdown",
   "metadata": {},
   "source": [
    "**2 Шаг. Предобработка данных** "
   ]
  },
  {
   "cell_type": "code",
   "execution_count": 6,
   "metadata": {},
   "outputs": [],
   "source": [
    "#приведем названия колонок к нижнему регистру и змеиному стилю.\n",
    "data.columns = [col.lower() for col in data.columns]"
   ]
  },
  {
   "cell_type": "code",
   "execution_count": 7,
   "metadata": {},
   "outputs": [],
   "source": [
    "data = data.rename(columns={'userid': 'user_id'})"
   ]
  },
  {
   "cell_type": "code",
   "execution_count": 8,
   "metadata": {},
   "outputs": [
    {
     "data": {
      "text/plain": [
       "Index(['user_id', 'score', 'city', 'gender', 'age', 'equity', 'balance',\n",
       "       'products', 'credit_card', 'last_activity', 'est_salary', 'churn'],\n",
       "      dtype='object')"
      ]
     },
     "execution_count": 8,
     "metadata": {},
     "output_type": "execute_result"
    }
   ],
   "source": [
    "data.columns"
   ]
  },
  {
   "cell_type": "markdown",
   "metadata": {},
   "source": [
    "**2.1 Обработка пропусков**"
   ]
  },
  {
   "cell_type": "code",
   "execution_count": 9,
   "metadata": {},
   "outputs": [
    {
     "data": {
      "text/plain": [
       "user_id             0\n",
       "score               0\n",
       "city                0\n",
       "gender              0\n",
       "age                26\n",
       "equity              0\n",
       "balance          2295\n",
       "products            0\n",
       "credit_card         0\n",
       "last_activity       0\n",
       "est_salary          0\n",
       "churn               0\n",
       "dtype: int64"
      ]
     },
     "execution_count": 9,
     "metadata": {},
     "output_type": "execute_result"
    }
   ],
   "source": [
    "data.isna().sum()"
   ]
  },
  {
   "cell_type": "code",
   "execution_count": 10,
   "metadata": {},
   "outputs": [
    {
     "data": {
      "text/html": [
       "<style  type=\"text/css\" >\n",
       "#T_78311_row0_col0,#T_78311_row1_col0,#T_78311_row2_col0,#T_78311_row3_col0,#T_78311_row5_col0,#T_78311_row7_col0,#T_78311_row8_col0,#T_78311_row9_col0,#T_78311_row10_col0,#T_78311_row11_col0{\n",
       "            background-color:  #3b4cc0;\n",
       "            color:  #f1f1f1;\n",
       "        }#T_78311_row4_col0{\n",
       "            background-color:  #3e51c5;\n",
       "            color:  #f1f1f1;\n",
       "        }#T_78311_row6_col0{\n",
       "            background-color:  #b40426;\n",
       "            color:  #f1f1f1;\n",
       "        }</style><table id=\"T_78311_\" ><thead>    <tr>        <th class=\"blank level0\" ></th>        <th class=\"col_heading level0 col0\" >0</th>    </tr></thead><tbody>\n",
       "                <tr>\n",
       "                        <th id=\"T_78311_level0_row0\" class=\"row_heading level0 row0\" >user_id</th>\n",
       "                        <td id=\"T_78311_row0_col0\" class=\"data row0 col0\" >0.000000</td>\n",
       "            </tr>\n",
       "            <tr>\n",
       "                        <th id=\"T_78311_level0_row1\" class=\"row_heading level0 row1\" >score</th>\n",
       "                        <td id=\"T_78311_row1_col0\" class=\"data row1 col0\" >0.000000</td>\n",
       "            </tr>\n",
       "            <tr>\n",
       "                        <th id=\"T_78311_level0_row2\" class=\"row_heading level0 row2\" >city</th>\n",
       "                        <td id=\"T_78311_row2_col0\" class=\"data row2 col0\" >0.000000</td>\n",
       "            </tr>\n",
       "            <tr>\n",
       "                        <th id=\"T_78311_level0_row3\" class=\"row_heading level0 row3\" >gender</th>\n",
       "                        <td id=\"T_78311_row3_col0\" class=\"data row3 col0\" >0.000000</td>\n",
       "            </tr>\n",
       "            <tr>\n",
       "                        <th id=\"T_78311_level0_row4\" class=\"row_heading level0 row4\" >age</th>\n",
       "                        <td id=\"T_78311_row4_col0\" class=\"data row4 col0\" >0.300000</td>\n",
       "            </tr>\n",
       "            <tr>\n",
       "                        <th id=\"T_78311_level0_row5\" class=\"row_heading level0 row5\" >equity</th>\n",
       "                        <td id=\"T_78311_row5_col0\" class=\"data row5 col0\" >0.000000</td>\n",
       "            </tr>\n",
       "            <tr>\n",
       "                        <th id=\"T_78311_level0_row6\" class=\"row_heading level0 row6\" >balance</th>\n",
       "                        <td id=\"T_78311_row6_col0\" class=\"data row6 col0\" >23.000000</td>\n",
       "            </tr>\n",
       "            <tr>\n",
       "                        <th id=\"T_78311_level0_row7\" class=\"row_heading level0 row7\" >products</th>\n",
       "                        <td id=\"T_78311_row7_col0\" class=\"data row7 col0\" >0.000000</td>\n",
       "            </tr>\n",
       "            <tr>\n",
       "                        <th id=\"T_78311_level0_row8\" class=\"row_heading level0 row8\" >credit_card</th>\n",
       "                        <td id=\"T_78311_row8_col0\" class=\"data row8 col0\" >0.000000</td>\n",
       "            </tr>\n",
       "            <tr>\n",
       "                        <th id=\"T_78311_level0_row9\" class=\"row_heading level0 row9\" >last_activity</th>\n",
       "                        <td id=\"T_78311_row9_col0\" class=\"data row9 col0\" >0.000000</td>\n",
       "            </tr>\n",
       "            <tr>\n",
       "                        <th id=\"T_78311_level0_row10\" class=\"row_heading level0 row10\" >est_salary</th>\n",
       "                        <td id=\"T_78311_row10_col0\" class=\"data row10 col0\" >0.000000</td>\n",
       "            </tr>\n",
       "            <tr>\n",
       "                        <th id=\"T_78311_level0_row11\" class=\"row_heading level0 row11\" >churn</th>\n",
       "                        <td id=\"T_78311_row11_col0\" class=\"data row11 col0\" >0.000000</td>\n",
       "            </tr>\n",
       "    </tbody></table>"
      ],
      "text/plain": [
       "<pandas.io.formats.style.Styler at 0x7f9d8e93b580>"
      ]
     },
     "execution_count": 10,
     "metadata": {},
     "output_type": "execute_result"
    }
   ],
   "source": [
    "pd.DataFrame(round(data.isna().mean()*100,1)).style.background_gradient('coolwarm')"
   ]
  },
  {
   "cell_type": "code",
   "execution_count": 11,
   "metadata": {},
   "outputs": [],
   "source": [
    "# в 'age' всего 0.3% пропусков, удалим их\n",
    "data = data.dropna(subset=['age'])"
   ]
  },
  {
   "cell_type": "markdown",
   "metadata": {},
   "source": [
    "В столбце \"balance\" пропусков 2295, это 23% от общего числа значений. Исследуем причину возникновения пропусков и по возможности обработаем."
   ]
  },
  {
   "cell_type": "code",
   "execution_count": 12,
   "metadata": {},
   "outputs": [
    {
     "data": {
      "text/html": [
       "<div>\n",
       "<style scoped>\n",
       "    .dataframe tbody tr th:only-of-type {\n",
       "        vertical-align: middle;\n",
       "    }\n",
       "\n",
       "    .dataframe tbody tr th {\n",
       "        vertical-align: top;\n",
       "    }\n",
       "\n",
       "    .dataframe thead th {\n",
       "        text-align: right;\n",
       "    }\n",
       "</style>\n",
       "<table border=\"1\" class=\"dataframe\">\n",
       "  <thead>\n",
       "    <tr style=\"text-align: right;\">\n",
       "      <th></th>\n",
       "      <th>score</th>\n",
       "      <th>age</th>\n",
       "      <th>equity</th>\n",
       "      <th>balance</th>\n",
       "      <th>products</th>\n",
       "      <th>credit_card</th>\n",
       "      <th>last_activity</th>\n",
       "      <th>est_salary</th>\n",
       "      <th>churn</th>\n",
       "    </tr>\n",
       "  </thead>\n",
       "  <tbody>\n",
       "    <tr>\n",
       "      <th>score</th>\n",
       "      <td>1.000000</td>\n",
       "      <td>-0.011814</td>\n",
       "      <td>0.064809</td>\n",
       "      <td>0.235283</td>\n",
       "      <td>-0.004071</td>\n",
       "      <td>-0.095261</td>\n",
       "      <td>-0.030343</td>\n",
       "      <td>0.164166</td>\n",
       "      <td>0.106404</td>\n",
       "    </tr>\n",
       "    <tr>\n",
       "      <th>age</th>\n",
       "      <td>-0.011814</td>\n",
       "      <td>1.000000</td>\n",
       "      <td>0.020628</td>\n",
       "      <td>0.069745</td>\n",
       "      <td>0.017182</td>\n",
       "      <td>-0.123128</td>\n",
       "      <td>-0.008157</td>\n",
       "      <td>-0.039598</td>\n",
       "      <td>-0.049797</td>\n",
       "    </tr>\n",
       "    <tr>\n",
       "      <th>equity</th>\n",
       "      <td>0.064809</td>\n",
       "      <td>0.020628</td>\n",
       "      <td>1.000000</td>\n",
       "      <td>0.163793</td>\n",
       "      <td>0.430945</td>\n",
       "      <td>-0.167271</td>\n",
       "      <td>-0.002011</td>\n",
       "      <td>-0.171515</td>\n",
       "      <td>0.270084</td>\n",
       "    </tr>\n",
       "    <tr>\n",
       "      <th>balance</th>\n",
       "      <td>0.235283</td>\n",
       "      <td>0.069745</td>\n",
       "      <td>0.163793</td>\n",
       "      <td>1.000000</td>\n",
       "      <td>0.075716</td>\n",
       "      <td>-0.059850</td>\n",
       "      <td>0.024770</td>\n",
       "      <td>0.338800</td>\n",
       "      <td>0.085915</td>\n",
       "    </tr>\n",
       "    <tr>\n",
       "      <th>products</th>\n",
       "      <td>-0.004071</td>\n",
       "      <td>0.017182</td>\n",
       "      <td>0.430945</td>\n",
       "      <td>0.075716</td>\n",
       "      <td>1.000000</td>\n",
       "      <td>-0.251120</td>\n",
       "      <td>0.037555</td>\n",
       "      <td>-0.117556</td>\n",
       "      <td>0.300621</td>\n",
       "    </tr>\n",
       "    <tr>\n",
       "      <th>credit_card</th>\n",
       "      <td>-0.095261</td>\n",
       "      <td>-0.123128</td>\n",
       "      <td>-0.167271</td>\n",
       "      <td>-0.059850</td>\n",
       "      <td>-0.251120</td>\n",
       "      <td>1.000000</td>\n",
       "      <td>-0.033173</td>\n",
       "      <td>0.036006</td>\n",
       "      <td>-0.130388</td>\n",
       "    </tr>\n",
       "    <tr>\n",
       "      <th>last_activity</th>\n",
       "      <td>-0.030343</td>\n",
       "      <td>-0.008157</td>\n",
       "      <td>-0.002011</td>\n",
       "      <td>0.024770</td>\n",
       "      <td>0.037555</td>\n",
       "      <td>-0.033173</td>\n",
       "      <td>1.000000</td>\n",
       "      <td>0.002944</td>\n",
       "      <td>0.169420</td>\n",
       "    </tr>\n",
       "    <tr>\n",
       "      <th>est_salary</th>\n",
       "      <td>0.164166</td>\n",
       "      <td>-0.039598</td>\n",
       "      <td>-0.171515</td>\n",
       "      <td>0.338800</td>\n",
       "      <td>-0.117556</td>\n",
       "      <td>0.036006</td>\n",
       "      <td>0.002944</td>\n",
       "      <td>1.000000</td>\n",
       "      <td>0.001705</td>\n",
       "    </tr>\n",
       "    <tr>\n",
       "      <th>churn</th>\n",
       "      <td>0.106404</td>\n",
       "      <td>-0.049797</td>\n",
       "      <td>0.270084</td>\n",
       "      <td>0.085915</td>\n",
       "      <td>0.300621</td>\n",
       "      <td>-0.130388</td>\n",
       "      <td>0.169420</td>\n",
       "      <td>0.001705</td>\n",
       "      <td>1.000000</td>\n",
       "    </tr>\n",
       "  </tbody>\n",
       "</table>\n",
       "</div>"
      ],
      "text/plain": [
       "                  score       age    equity   balance  products  credit_card  \\\n",
       "score          1.000000 -0.011814  0.064809  0.235283 -0.004071    -0.095261   \n",
       "age           -0.011814  1.000000  0.020628  0.069745  0.017182    -0.123128   \n",
       "equity         0.064809  0.020628  1.000000  0.163793  0.430945    -0.167271   \n",
       "balance        0.235283  0.069745  0.163793  1.000000  0.075716    -0.059850   \n",
       "products      -0.004071  0.017182  0.430945  0.075716  1.000000    -0.251120   \n",
       "credit_card   -0.095261 -0.123128 -0.167271 -0.059850 -0.251120     1.000000   \n",
       "last_activity -0.030343 -0.008157 -0.002011  0.024770  0.037555    -0.033173   \n",
       "est_salary     0.164166 -0.039598 -0.171515  0.338800 -0.117556     0.036006   \n",
       "churn          0.106404 -0.049797  0.270084  0.085915  0.300621    -0.130388   \n",
       "\n",
       "               last_activity  est_salary     churn  \n",
       "score              -0.030343    0.164166  0.106404  \n",
       "age                -0.008157   -0.039598 -0.049797  \n",
       "equity             -0.002011   -0.171515  0.270084  \n",
       "balance             0.024770    0.338800  0.085915  \n",
       "products            0.037555   -0.117556  0.300621  \n",
       "credit_card        -0.033173    0.036006 -0.130388  \n",
       "last_activity       1.000000    0.002944  0.169420  \n",
       "est_salary          0.002944    1.000000  0.001705  \n",
       "churn               0.169420    0.001705  1.000000  "
      ]
     },
     "execution_count": 12,
     "metadata": {},
     "output_type": "execute_result"
    }
   ],
   "source": [
    "# построим корреляцию Пирсона\n",
    "data.loc[:, data.columns !='user_id'].corr()"
   ]
  },
  {
   "cell_type": "markdown",
   "metadata": {},
   "source": [
    "Есть явная положительная зависимость между:\n",
    "- equity и products - 0.43\n",
    "\n",
    "Более слабая зависимость между:\n",
    "- est_salary и balance - 0.34,\n",
    "- churn и equity - 0.27,\n",
    "- score и balance - 0.24,\n",
    "- churn и products - 0.30,\n",
    "- churn и last_activity - 0.17.\n",
    "\n",
    "Слабая отрицательная зависимость между:\n",
    "- equity и credit_card - (-0.17),\n",
    "- equity и equity - (-0.17),\n",
    "- products и credit_card - (-0.25)\n"
   ]
  },
  {
   "cell_type": "markdown",
   "metadata": {},
   "source": [
    "\n",
    "Создадим новый столбец для признака с пропусками 'balance', который будет иметь два значения: 1-пропуск есть, 0 - пропуска нет."
   ]
  },
  {
   "cell_type": "code",
   "execution_count": 13,
   "metadata": {},
   "outputs": [],
   "source": [
    "data['balance_miss'] = data['balance'].isna().astype(int)"
   ]
  },
  {
   "cell_type": "code",
   "execution_count": 14,
   "metadata": {
    "scrolled": true
   },
   "outputs": [
    {
     "data": {
      "text/html": [
       "<div>\n",
       "<style scoped>\n",
       "    .dataframe tbody tr th:only-of-type {\n",
       "        vertical-align: middle;\n",
       "    }\n",
       "\n",
       "    .dataframe tbody tr th {\n",
       "        vertical-align: top;\n",
       "    }\n",
       "\n",
       "    .dataframe thead th {\n",
       "        text-align: right;\n",
       "    }\n",
       "</style>\n",
       "<table border=\"1\" class=\"dataframe\">\n",
       "  <thead>\n",
       "    <tr style=\"text-align: right;\">\n",
       "      <th></th>\n",
       "      <th>user_id</th>\n",
       "      <th>score</th>\n",
       "      <th>city</th>\n",
       "      <th>gender</th>\n",
       "      <th>age</th>\n",
       "      <th>equity</th>\n",
       "      <th>balance</th>\n",
       "      <th>products</th>\n",
       "      <th>credit_card</th>\n",
       "      <th>last_activity</th>\n",
       "      <th>est_salary</th>\n",
       "      <th>churn</th>\n",
       "      <th>balance_miss</th>\n",
       "    </tr>\n",
       "  </thead>\n",
       "  <tbody>\n",
       "    <tr>\n",
       "      <th>0</th>\n",
       "      <td>183012</td>\n",
       "      <td>850.0</td>\n",
       "      <td>Рыбинск</td>\n",
       "      <td>Ж</td>\n",
       "      <td>25.0</td>\n",
       "      <td>1</td>\n",
       "      <td>59214.82</td>\n",
       "      <td>2</td>\n",
       "      <td>0</td>\n",
       "      <td>1</td>\n",
       "      <td>75719.14</td>\n",
       "      <td>1</td>\n",
       "      <td>0</td>\n",
       "    </tr>\n",
       "    <tr>\n",
       "      <th>1</th>\n",
       "      <td>146556</td>\n",
       "      <td>861.0</td>\n",
       "      <td>Рыбинск</td>\n",
       "      <td>Ж</td>\n",
       "      <td>37.0</td>\n",
       "      <td>5</td>\n",
       "      <td>850594.33</td>\n",
       "      <td>3</td>\n",
       "      <td>1</td>\n",
       "      <td>0</td>\n",
       "      <td>86621.77</td>\n",
       "      <td>0</td>\n",
       "      <td>0</td>\n",
       "    </tr>\n",
       "    <tr>\n",
       "      <th>2</th>\n",
       "      <td>120722</td>\n",
       "      <td>892.0</td>\n",
       "      <td>Рыбинск</td>\n",
       "      <td>Ж</td>\n",
       "      <td>30.0</td>\n",
       "      <td>0</td>\n",
       "      <td>NaN</td>\n",
       "      <td>1</td>\n",
       "      <td>1</td>\n",
       "      <td>1</td>\n",
       "      <td>107683.34</td>\n",
       "      <td>0</td>\n",
       "      <td>1</td>\n",
       "    </tr>\n",
       "    <tr>\n",
       "      <th>3</th>\n",
       "      <td>225363</td>\n",
       "      <td>866.0</td>\n",
       "      <td>Ярославль</td>\n",
       "      <td>Ж</td>\n",
       "      <td>51.0</td>\n",
       "      <td>5</td>\n",
       "      <td>1524746.26</td>\n",
       "      <td>2</td>\n",
       "      <td>0</td>\n",
       "      <td>1</td>\n",
       "      <td>174423.53</td>\n",
       "      <td>1</td>\n",
       "      <td>0</td>\n",
       "    </tr>\n",
       "    <tr>\n",
       "      <th>4</th>\n",
       "      <td>157978</td>\n",
       "      <td>730.0</td>\n",
       "      <td>Ярославль</td>\n",
       "      <td>М</td>\n",
       "      <td>34.0</td>\n",
       "      <td>5</td>\n",
       "      <td>174.00</td>\n",
       "      <td>1</td>\n",
       "      <td>1</td>\n",
       "      <td>0</td>\n",
       "      <td>67353.16</td>\n",
       "      <td>1</td>\n",
       "      <td>0</td>\n",
       "    </tr>\n",
       "  </tbody>\n",
       "</table>\n",
       "</div>"
      ],
      "text/plain": [
       "   user_id  score       city gender   age  equity     balance  products  \\\n",
       "0   183012  850.0    Рыбинск      Ж  25.0       1    59214.82         2   \n",
       "1   146556  861.0    Рыбинск      Ж  37.0       5   850594.33         3   \n",
       "2   120722  892.0    Рыбинск      Ж  30.0       0         NaN         1   \n",
       "3   225363  866.0  Ярославль      Ж  51.0       5  1524746.26         2   \n",
       "4   157978  730.0  Ярославль      М  34.0       5      174.00         1   \n",
       "\n",
       "   credit_card  last_activity  est_salary  churn  balance_miss  \n",
       "0            0              1    75719.14      1             0  \n",
       "1            1              0    86621.77      0             0  \n",
       "2            1              1   107683.34      0             1  \n",
       "3            0              1   174423.53      1             0  \n",
       "4            1              0    67353.16      1             0  "
      ]
     },
     "execution_count": 14,
     "metadata": {},
     "output_type": "execute_result"
    }
   ],
   "source": [
    "data.head()"
   ]
  },
  {
   "cell_type": "markdown",
   "metadata": {},
   "source": [
    "Для определения типа пропусков и их зависимости от остальных переменных применим one-hot кодирование к категориальным значениям с помощью метода get_dummies()."
   ]
  },
  {
   "cell_type": "code",
   "execution_count": 15,
   "metadata": {},
   "outputs": [],
   "source": [
    "data['city_dummies'] = data['city']\n",
    "data['gender_dummies'] = data['gender']"
   ]
  },
  {
   "cell_type": "code",
   "execution_count": 16,
   "metadata": {},
   "outputs": [],
   "source": [
    "data = pd.get_dummies(data, columns = ['city_dummies', 'gender_dummies'])"
   ]
  },
  {
   "cell_type": "code",
   "execution_count": 17,
   "metadata": {
    "scrolled": true
   },
   "outputs": [
    {
     "data": {
      "text/html": [
       "<div>\n",
       "<style scoped>\n",
       "    .dataframe tbody tr th:only-of-type {\n",
       "        vertical-align: middle;\n",
       "    }\n",
       "\n",
       "    .dataframe tbody tr th {\n",
       "        vertical-align: top;\n",
       "    }\n",
       "\n",
       "    .dataframe thead th {\n",
       "        text-align: right;\n",
       "    }\n",
       "</style>\n",
       "<table border=\"1\" class=\"dataframe\">\n",
       "  <thead>\n",
       "    <tr style=\"text-align: right;\">\n",
       "      <th></th>\n",
       "      <th>user_id</th>\n",
       "      <th>score</th>\n",
       "      <th>city</th>\n",
       "      <th>gender</th>\n",
       "      <th>age</th>\n",
       "      <th>equity</th>\n",
       "      <th>balance</th>\n",
       "      <th>products</th>\n",
       "      <th>credit_card</th>\n",
       "      <th>last_activity</th>\n",
       "      <th>est_salary</th>\n",
       "      <th>churn</th>\n",
       "      <th>balance_miss</th>\n",
       "      <th>city_dummies_Ростов</th>\n",
       "      <th>city_dummies_Рыбинск</th>\n",
       "      <th>city_dummies_Ярославль</th>\n",
       "      <th>gender_dummies_Ж</th>\n",
       "      <th>gender_dummies_М</th>\n",
       "    </tr>\n",
       "  </thead>\n",
       "  <tbody>\n",
       "    <tr>\n",
       "      <th>0</th>\n",
       "      <td>183012</td>\n",
       "      <td>850.0</td>\n",
       "      <td>Рыбинск</td>\n",
       "      <td>Ж</td>\n",
       "      <td>25.0</td>\n",
       "      <td>1</td>\n",
       "      <td>59214.82</td>\n",
       "      <td>2</td>\n",
       "      <td>0</td>\n",
       "      <td>1</td>\n",
       "      <td>75719.14</td>\n",
       "      <td>1</td>\n",
       "      <td>0</td>\n",
       "      <td>0</td>\n",
       "      <td>1</td>\n",
       "      <td>0</td>\n",
       "      <td>1</td>\n",
       "      <td>0</td>\n",
       "    </tr>\n",
       "    <tr>\n",
       "      <th>1</th>\n",
       "      <td>146556</td>\n",
       "      <td>861.0</td>\n",
       "      <td>Рыбинск</td>\n",
       "      <td>Ж</td>\n",
       "      <td>37.0</td>\n",
       "      <td>5</td>\n",
       "      <td>850594.33</td>\n",
       "      <td>3</td>\n",
       "      <td>1</td>\n",
       "      <td>0</td>\n",
       "      <td>86621.77</td>\n",
       "      <td>0</td>\n",
       "      <td>0</td>\n",
       "      <td>0</td>\n",
       "      <td>1</td>\n",
       "      <td>0</td>\n",
       "      <td>1</td>\n",
       "      <td>0</td>\n",
       "    </tr>\n",
       "    <tr>\n",
       "      <th>2</th>\n",
       "      <td>120722</td>\n",
       "      <td>892.0</td>\n",
       "      <td>Рыбинск</td>\n",
       "      <td>Ж</td>\n",
       "      <td>30.0</td>\n",
       "      <td>0</td>\n",
       "      <td>NaN</td>\n",
       "      <td>1</td>\n",
       "      <td>1</td>\n",
       "      <td>1</td>\n",
       "      <td>107683.34</td>\n",
       "      <td>0</td>\n",
       "      <td>1</td>\n",
       "      <td>0</td>\n",
       "      <td>1</td>\n",
       "      <td>0</td>\n",
       "      <td>1</td>\n",
       "      <td>0</td>\n",
       "    </tr>\n",
       "    <tr>\n",
       "      <th>3</th>\n",
       "      <td>225363</td>\n",
       "      <td>866.0</td>\n",
       "      <td>Ярославль</td>\n",
       "      <td>Ж</td>\n",
       "      <td>51.0</td>\n",
       "      <td>5</td>\n",
       "      <td>1524746.26</td>\n",
       "      <td>2</td>\n",
       "      <td>0</td>\n",
       "      <td>1</td>\n",
       "      <td>174423.53</td>\n",
       "      <td>1</td>\n",
       "      <td>0</td>\n",
       "      <td>0</td>\n",
       "      <td>0</td>\n",
       "      <td>1</td>\n",
       "      <td>1</td>\n",
       "      <td>0</td>\n",
       "    </tr>\n",
       "    <tr>\n",
       "      <th>4</th>\n",
       "      <td>157978</td>\n",
       "      <td>730.0</td>\n",
       "      <td>Ярославль</td>\n",
       "      <td>М</td>\n",
       "      <td>34.0</td>\n",
       "      <td>5</td>\n",
       "      <td>174.00</td>\n",
       "      <td>1</td>\n",
       "      <td>1</td>\n",
       "      <td>0</td>\n",
       "      <td>67353.16</td>\n",
       "      <td>1</td>\n",
       "      <td>0</td>\n",
       "      <td>0</td>\n",
       "      <td>0</td>\n",
       "      <td>1</td>\n",
       "      <td>0</td>\n",
       "      <td>1</td>\n",
       "    </tr>\n",
       "  </tbody>\n",
       "</table>\n",
       "</div>"
      ],
      "text/plain": [
       "   user_id  score       city gender   age  equity     balance  products  \\\n",
       "0   183012  850.0    Рыбинск      Ж  25.0       1    59214.82         2   \n",
       "1   146556  861.0    Рыбинск      Ж  37.0       5   850594.33         3   \n",
       "2   120722  892.0    Рыбинск      Ж  30.0       0         NaN         1   \n",
       "3   225363  866.0  Ярославль      Ж  51.0       5  1524746.26         2   \n",
       "4   157978  730.0  Ярославль      М  34.0       5      174.00         1   \n",
       "\n",
       "   credit_card  last_activity  est_salary  churn  balance_miss  \\\n",
       "0            0              1    75719.14      1             0   \n",
       "1            1              0    86621.77      0             0   \n",
       "2            1              1   107683.34      0             1   \n",
       "3            0              1   174423.53      1             0   \n",
       "4            1              0    67353.16      1             0   \n",
       "\n",
       "   city_dummies_Ростов  city_dummies_Рыбинск  city_dummies_Ярославль  \\\n",
       "0                    0                     1                       0   \n",
       "1                    0                     1                       0   \n",
       "2                    0                     1                       0   \n",
       "3                    0                     0                       1   \n",
       "4                    0                     0                       1   \n",
       "\n",
       "   gender_dummies_Ж  gender_dummies_М  \n",
       "0                 1                 0  \n",
       "1                 1                 0  \n",
       "2                 1                 0  \n",
       "3                 1                 0  \n",
       "4                 0                 1  "
      ]
     },
     "execution_count": 17,
     "metadata": {},
     "output_type": "execute_result"
    }
   ],
   "source": [
    "data.head()"
   ]
  },
  {
   "cell_type": "code",
   "execution_count": 18,
   "metadata": {},
   "outputs": [
    {
     "data": {
      "image/png": "[encoded data removed]",
      "text/plain": [
       "<Figure size 1152x720 with 2 Axes>"
      ]
     },
     "metadata": {
      "needs_background": "light"
     },
     "output_type": "display_data"
    }
   ],
   "source": [
    "corr = data.loc[:, data.columns !='user_id'].corr()\n",
    "plt.figure(figsize=(16, 10))\n",
    "sns.heatmap(corr, annot=True, cmap='coolwarm')\n",
    "plt.xticks(rotation=45)\n",
    "plt.show()"
   ]
  },
  {
   "cell_type": "markdown",
   "metadata": {},
   "source": [
    "Из таблицы видно, что у balance_miss есть:\n",
    "- положительная зависимость с est_salary'- 0.31, credit_card - 0.16, score - 0.14.\n",
    "- отрицательная зависимость с churn - 0.25, products - 0.49, equity - 0.71.\n",
    "<br>\n",
    "Выше перечислленные наблюдения говорят что тип пропусков у balance это MNAR (Missing Not At Random / Отсутствует не случайно), поэтому оставим все без изменений."
   ]
  },
  {
   "cell_type": "markdown",
   "metadata": {},
   "source": [
    "**2.2 Обработка дуликатов**"
   ]
  },
  {
   "cell_type": "code",
   "execution_count": 19,
   "metadata": {},
   "outputs": [
    {
     "data": {
      "text/plain": [
       "0"
      ]
     },
     "execution_count": 19,
     "metadata": {},
     "output_type": "execute_result"
    }
   ],
   "source": [
    "#проверка на явные дубликаты\n",
    "data.duplicated().sum()"
   ]
  },
  {
   "cell_type": "code",
   "execution_count": 20,
   "metadata": {},
   "outputs": [
    {
     "data": {
      "text/plain": [
       "0       False\n",
       "1       False\n",
       "2       False\n",
       "3       False\n",
       "4       False\n",
       "        ...  \n",
       "9995    False\n",
       "9996    False\n",
       "9997    False\n",
       "9998    False\n",
       "9999    False\n",
       "Length: 9974, dtype: bool"
      ]
     },
     "execution_count": 20,
     "metadata": {},
     "output_type": "execute_result"
    }
   ],
   "source": [
    "#неявные дубликаты\n",
    "double = data.duplicated(subset = ['user_id'], keep=False)\n",
    "double"
   ]
  },
  {
   "cell_type": "code",
   "execution_count": 21,
   "metadata": {},
   "outputs": [],
   "source": [
    "data['age'] = data['age'].astype('int')"
   ]
  },
  {
   "cell_type": "code",
   "execution_count": 22,
   "metadata": {},
   "outputs": [
    {
     "data": {
      "text/html": [
       "<div>\n",
       "<style scoped>\n",
       "    .dataframe tbody tr th:only-of-type {\n",
       "        vertical-align: middle;\n",
       "    }\n",
       "\n",
       "    .dataframe tbody tr th {\n",
       "        vertical-align: top;\n",
       "    }\n",
       "\n",
       "    .dataframe thead th {\n",
       "        text-align: right;\n",
       "    }\n",
       "</style>\n",
       "<table border=\"1\" class=\"dataframe\">\n",
       "  <thead>\n",
       "    <tr style=\"text-align: right;\">\n",
       "      <th></th>\n",
       "      <th>user_id</th>\n",
       "      <th>score</th>\n",
       "      <th>city</th>\n",
       "      <th>gender</th>\n",
       "      <th>age</th>\n",
       "      <th>equity</th>\n",
       "      <th>balance</th>\n",
       "      <th>products</th>\n",
       "      <th>credit_card</th>\n",
       "      <th>last_activity</th>\n",
       "      <th>est_salary</th>\n",
       "      <th>churn</th>\n",
       "      <th>balance_miss</th>\n",
       "      <th>city_dummies_Ростов</th>\n",
       "      <th>city_dummies_Рыбинск</th>\n",
       "      <th>city_dummies_Ярославль</th>\n",
       "      <th>gender_dummies_Ж</th>\n",
       "      <th>gender_dummies_М</th>\n",
       "    </tr>\n",
       "  </thead>\n",
       "  <tbody>\n",
       "    <tr>\n",
       "      <th>1893</th>\n",
       "      <td>116540</td>\n",
       "      <td>883.0</td>\n",
       "      <td>Рыбинск</td>\n",
       "      <td>Ж</td>\n",
       "      <td>55</td>\n",
       "      <td>1</td>\n",
       "      <td>362756.49</td>\n",
       "      <td>3</td>\n",
       "      <td>0</td>\n",
       "      <td>1</td>\n",
       "      <td>175920.48</td>\n",
       "      <td>1</td>\n",
       "      <td>0</td>\n",
       "      <td>0</td>\n",
       "      <td>1</td>\n",
       "      <td>0</td>\n",
       "      <td>1</td>\n",
       "      <td>0</td>\n",
       "    </tr>\n",
       "    <tr>\n",
       "      <th>7694</th>\n",
       "      <td>116540</td>\n",
       "      <td>887.0</td>\n",
       "      <td>Ярославль</td>\n",
       "      <td>Ж</td>\n",
       "      <td>38</td>\n",
       "      <td>0</td>\n",
       "      <td>NaN</td>\n",
       "      <td>1</td>\n",
       "      <td>0</td>\n",
       "      <td>1</td>\n",
       "      <td>119247.61</td>\n",
       "      <td>0</td>\n",
       "      <td>1</td>\n",
       "      <td>0</td>\n",
       "      <td>0</td>\n",
       "      <td>1</td>\n",
       "      <td>1</td>\n",
       "      <td>0</td>\n",
       "    </tr>\n",
       "    <tr>\n",
       "      <th>4866</th>\n",
       "      <td>117943</td>\n",
       "      <td>855.0</td>\n",
       "      <td>Рыбинск</td>\n",
       "      <td>Ж</td>\n",
       "      <td>32</td>\n",
       "      <td>6</td>\n",
       "      <td>1036832.93</td>\n",
       "      <td>4</td>\n",
       "      <td>1</td>\n",
       "      <td>1</td>\n",
       "      <td>107792.71</td>\n",
       "      <td>1</td>\n",
       "      <td>0</td>\n",
       "      <td>0</td>\n",
       "      <td>1</td>\n",
       "      <td>0</td>\n",
       "      <td>1</td>\n",
       "      <td>0</td>\n",
       "    </tr>\n",
       "    <tr>\n",
       "      <th>7542</th>\n",
       "      <td>117943</td>\n",
       "      <td>880.0</td>\n",
       "      <td>Ярославль</td>\n",
       "      <td>Ж</td>\n",
       "      <td>40</td>\n",
       "      <td>0</td>\n",
       "      <td>NaN</td>\n",
       "      <td>1</td>\n",
       "      <td>1</td>\n",
       "      <td>0</td>\n",
       "      <td>137718.93</td>\n",
       "      <td>0</td>\n",
       "      <td>1</td>\n",
       "      <td>0</td>\n",
       "      <td>0</td>\n",
       "      <td>1</td>\n",
       "      <td>1</td>\n",
       "      <td>0</td>\n",
       "    </tr>\n",
       "    <tr>\n",
       "      <th>5863</th>\n",
       "      <td>120258</td>\n",
       "      <td>908.0</td>\n",
       "      <td>Рыбинск</td>\n",
       "      <td>Ж</td>\n",
       "      <td>38</td>\n",
       "      <td>4</td>\n",
       "      <td>2213581.63</td>\n",
       "      <td>2</td>\n",
       "      <td>0</td>\n",
       "      <td>1</td>\n",
       "      <td>160327.77</td>\n",
       "      <td>1</td>\n",
       "      <td>0</td>\n",
       "      <td>0</td>\n",
       "      <td>1</td>\n",
       "      <td>0</td>\n",
       "      <td>1</td>\n",
       "      <td>0</td>\n",
       "    </tr>\n",
       "    <tr>\n",
       "      <th>5896</th>\n",
       "      <td>120258</td>\n",
       "      <td>905.0</td>\n",
       "      <td>Ярославль</td>\n",
       "      <td>М</td>\n",
       "      <td>30</td>\n",
       "      <td>0</td>\n",
       "      <td>NaN</td>\n",
       "      <td>1</td>\n",
       "      <td>1</td>\n",
       "      <td>1</td>\n",
       "      <td>146427.96</td>\n",
       "      <td>0</td>\n",
       "      <td>1</td>\n",
       "      <td>0</td>\n",
       "      <td>0</td>\n",
       "      <td>1</td>\n",
       "      <td>0</td>\n",
       "      <td>1</td>\n",
       "    </tr>\n",
       "    <tr>\n",
       "      <th>1411</th>\n",
       "      <td>123461</td>\n",
       "      <td>829.0</td>\n",
       "      <td>Ярославль</td>\n",
       "      <td>Ж</td>\n",
       "      <td>59</td>\n",
       "      <td>0</td>\n",
       "      <td>96222.44</td>\n",
       "      <td>2</td>\n",
       "      <td>0</td>\n",
       "      <td>1</td>\n",
       "      <td>102771.55</td>\n",
       "      <td>1</td>\n",
       "      <td>0</td>\n",
       "      <td>0</td>\n",
       "      <td>0</td>\n",
       "      <td>1</td>\n",
       "      <td>1</td>\n",
       "      <td>0</td>\n",
       "    </tr>\n",
       "    <tr>\n",
       "      <th>8638</th>\n",
       "      <td>123461</td>\n",
       "      <td>934.0</td>\n",
       "      <td>Рыбинск</td>\n",
       "      <td>М</td>\n",
       "      <td>34</td>\n",
       "      <td>0</td>\n",
       "      <td>NaN</td>\n",
       "      <td>2</td>\n",
       "      <td>1</td>\n",
       "      <td>0</td>\n",
       "      <td>291619.27</td>\n",
       "      <td>0</td>\n",
       "      <td>1</td>\n",
       "      <td>0</td>\n",
       "      <td>1</td>\n",
       "      <td>0</td>\n",
       "      <td>0</td>\n",
       "      <td>1</td>\n",
       "    </tr>\n",
       "    <tr>\n",
       "      <th>9775</th>\n",
       "      <td>124450</td>\n",
       "      <td>758.0</td>\n",
       "      <td>Рыбинск</td>\n",
       "      <td>Ж</td>\n",
       "      <td>36</td>\n",
       "      <td>0</td>\n",
       "      <td>73574.07</td>\n",
       "      <td>2</td>\n",
       "      <td>0</td>\n",
       "      <td>1</td>\n",
       "      <td>79963.59</td>\n",
       "      <td>0</td>\n",
       "      <td>0</td>\n",
       "      <td>0</td>\n",
       "      <td>1</td>\n",
       "      <td>0</td>\n",
       "      <td>1</td>\n",
       "      <td>0</td>\n",
       "    </tr>\n",
       "    <tr>\n",
       "      <th>8164</th>\n",
       "      <td>124450</td>\n",
       "      <td>859.0</td>\n",
       "      <td>Ярославль</td>\n",
       "      <td>Ж</td>\n",
       "      <td>38</td>\n",
       "      <td>6</td>\n",
       "      <td>516811.20</td>\n",
       "      <td>1</td>\n",
       "      <td>1</td>\n",
       "      <td>1</td>\n",
       "      <td>95144.63</td>\n",
       "      <td>1</td>\n",
       "      <td>0</td>\n",
       "      <td>0</td>\n",
       "      <td>0</td>\n",
       "      <td>1</td>\n",
       "      <td>1</td>\n",
       "      <td>0</td>\n",
       "    </tr>\n",
       "    <tr>\n",
       "      <th>4850</th>\n",
       "      <td>126368</td>\n",
       "      <td>909.0</td>\n",
       "      <td>Ярославль</td>\n",
       "      <td>Ж</td>\n",
       "      <td>30</td>\n",
       "      <td>4</td>\n",
       "      <td>1322623.29</td>\n",
       "      <td>2</td>\n",
       "      <td>0</td>\n",
       "      <td>1</td>\n",
       "      <td>140675.66</td>\n",
       "      <td>1</td>\n",
       "      <td>0</td>\n",
       "      <td>0</td>\n",
       "      <td>0</td>\n",
       "      <td>1</td>\n",
       "      <td>1</td>\n",
       "      <td>0</td>\n",
       "    </tr>\n",
       "    <tr>\n",
       "      <th>5420</th>\n",
       "      <td>126368</td>\n",
       "      <td>832.0</td>\n",
       "      <td>Рыбинск</td>\n",
       "      <td>Ж</td>\n",
       "      <td>33</td>\n",
       "      <td>0</td>\n",
       "      <td>NaN</td>\n",
       "      <td>1</td>\n",
       "      <td>0</td>\n",
       "      <td>0</td>\n",
       "      <td>118465.34</td>\n",
       "      <td>0</td>\n",
       "      <td>1</td>\n",
       "      <td>0</td>\n",
       "      <td>1</td>\n",
       "      <td>0</td>\n",
       "      <td>1</td>\n",
       "      <td>0</td>\n",
       "    </tr>\n",
       "    <tr>\n",
       "      <th>3988</th>\n",
       "      <td>129785</td>\n",
       "      <td>904.0</td>\n",
       "      <td>Рыбинск</td>\n",
       "      <td>М</td>\n",
       "      <td>33</td>\n",
       "      <td>5</td>\n",
       "      <td>2427737.60</td>\n",
       "      <td>3</td>\n",
       "      <td>0</td>\n",
       "      <td>1</td>\n",
       "      <td>188856.75</td>\n",
       "      <td>1</td>\n",
       "      <td>0</td>\n",
       "      <td>0</td>\n",
       "      <td>1</td>\n",
       "      <td>0</td>\n",
       "      <td>0</td>\n",
       "      <td>1</td>\n",
       "    </tr>\n",
       "    <tr>\n",
       "      <th>9504</th>\n",
       "      <td>129785</td>\n",
       "      <td>949.0</td>\n",
       "      <td>Ярославль</td>\n",
       "      <td>М</td>\n",
       "      <td>43</td>\n",
       "      <td>0</td>\n",
       "      <td>NaN</td>\n",
       "      <td>1</td>\n",
       "      <td>1</td>\n",
       "      <td>1</td>\n",
       "      <td>166845.37</td>\n",
       "      <td>0</td>\n",
       "      <td>1</td>\n",
       "      <td>0</td>\n",
       "      <td>0</td>\n",
       "      <td>1</td>\n",
       "      <td>0</td>\n",
       "      <td>1</td>\n",
       "    </tr>\n",
       "    <tr>\n",
       "      <th>2138</th>\n",
       "      <td>131419</td>\n",
       "      <td>739.0</td>\n",
       "      <td>Рыбинск</td>\n",
       "      <td>Ж</td>\n",
       "      <td>37</td>\n",
       "      <td>3</td>\n",
       "      <td>1307941.65</td>\n",
       "      <td>3</td>\n",
       "      <td>0</td>\n",
       "      <td>0</td>\n",
       "      <td>103867.47</td>\n",
       "      <td>0</td>\n",
       "      <td>0</td>\n",
       "      <td>0</td>\n",
       "      <td>1</td>\n",
       "      <td>0</td>\n",
       "      <td>1</td>\n",
       "      <td>0</td>\n",
       "    </tr>\n",
       "    <tr>\n",
       "      <th>904</th>\n",
       "      <td>131419</td>\n",
       "      <td>934.0</td>\n",
       "      <td>Ярославль</td>\n",
       "      <td>М</td>\n",
       "      <td>35</td>\n",
       "      <td>5</td>\n",
       "      <td>2348335.95</td>\n",
       "      <td>2</td>\n",
       "      <td>0</td>\n",
       "      <td>0</td>\n",
       "      <td>217105.13</td>\n",
       "      <td>1</td>\n",
       "      <td>0</td>\n",
       "      <td>0</td>\n",
       "      <td>0</td>\n",
       "      <td>1</td>\n",
       "      <td>0</td>\n",
       "      <td>1</td>\n",
       "    </tr>\n",
       "    <tr>\n",
       "      <th>1608</th>\n",
       "      <td>140377</td>\n",
       "      <td>802.0</td>\n",
       "      <td>Ярославль</td>\n",
       "      <td>М</td>\n",
       "      <td>26</td>\n",
       "      <td>3</td>\n",
       "      <td>539863.29</td>\n",
       "      <td>4</td>\n",
       "      <td>1</td>\n",
       "      <td>1</td>\n",
       "      <td>112167.83</td>\n",
       "      <td>1</td>\n",
       "      <td>0</td>\n",
       "      <td>0</td>\n",
       "      <td>0</td>\n",
       "      <td>1</td>\n",
       "      <td>0</td>\n",
       "      <td>1</td>\n",
       "    </tr>\n",
       "    <tr>\n",
       "      <th>7487</th>\n",
       "      <td>140377</td>\n",
       "      <td>930.0</td>\n",
       "      <td>Рыбинск</td>\n",
       "      <td>Ж</td>\n",
       "      <td>34</td>\n",
       "      <td>5</td>\n",
       "      <td>1123967.02</td>\n",
       "      <td>1</td>\n",
       "      <td>1</td>\n",
       "      <td>1</td>\n",
       "      <td>148336.26</td>\n",
       "      <td>0</td>\n",
       "      <td>0</td>\n",
       "      <td>0</td>\n",
       "      <td>1</td>\n",
       "      <td>0</td>\n",
       "      <td>1</td>\n",
       "      <td>0</td>\n",
       "    </tr>\n",
       "    <tr>\n",
       "      <th>2276</th>\n",
       "      <td>141265</td>\n",
       "      <td>858.0</td>\n",
       "      <td>Ярославль</td>\n",
       "      <td>М</td>\n",
       "      <td>37</td>\n",
       "      <td>4</td>\n",
       "      <td>471599.16</td>\n",
       "      <td>2</td>\n",
       "      <td>1</td>\n",
       "      <td>1</td>\n",
       "      <td>148806.88</td>\n",
       "      <td>1</td>\n",
       "      <td>0</td>\n",
       "      <td>0</td>\n",
       "      <td>0</td>\n",
       "      <td>1</td>\n",
       "      <td>0</td>\n",
       "      <td>1</td>\n",
       "    </tr>\n",
       "    <tr>\n",
       "      <th>5569</th>\n",
       "      <td>141265</td>\n",
       "      <td>811.0</td>\n",
       "      <td>Рыбинск</td>\n",
       "      <td>Ж</td>\n",
       "      <td>33</td>\n",
       "      <td>3</td>\n",
       "      <td>1044316.88</td>\n",
       "      <td>2</td>\n",
       "      <td>1</td>\n",
       "      <td>0</td>\n",
       "      <td>46055.32</td>\n",
       "      <td>0</td>\n",
       "      <td>0</td>\n",
       "      <td>0</td>\n",
       "      <td>1</td>\n",
       "      <td>0</td>\n",
       "      <td>1</td>\n",
       "      <td>0</td>\n",
       "    </tr>\n",
       "    <tr>\n",
       "      <th>5369</th>\n",
       "      <td>143592</td>\n",
       "      <td>885.0</td>\n",
       "      <td>Рыбинск</td>\n",
       "      <td>Ж</td>\n",
       "      <td>56</td>\n",
       "      <td>4</td>\n",
       "      <td>1201087.46</td>\n",
       "      <td>2</td>\n",
       "      <td>1</td>\n",
       "      <td>1</td>\n",
       "      <td>88223.89</td>\n",
       "      <td>1</td>\n",
       "      <td>0</td>\n",
       "      <td>0</td>\n",
       "      <td>1</td>\n",
       "      <td>0</td>\n",
       "      <td>1</td>\n",
       "      <td>0</td>\n",
       "    </tr>\n",
       "    <tr>\n",
       "      <th>5557</th>\n",
       "      <td>143592</td>\n",
       "      <td>764.0</td>\n",
       "      <td>Ярославль</td>\n",
       "      <td>Ж</td>\n",
       "      <td>68</td>\n",
       "      <td>3</td>\n",
       "      <td>508919.15</td>\n",
       "      <td>2</td>\n",
       "      <td>0</td>\n",
       "      <td>1</td>\n",
       "      <td>71211.66</td>\n",
       "      <td>0</td>\n",
       "      <td>0</td>\n",
       "      <td>0</td>\n",
       "      <td>0</td>\n",
       "      <td>1</td>\n",
       "      <td>1</td>\n",
       "      <td>0</td>\n",
       "    </tr>\n",
       "    <tr>\n",
       "      <th>8364</th>\n",
       "      <td>148826</td>\n",
       "      <td>909.0</td>\n",
       "      <td>Рыбинск</td>\n",
       "      <td>Ж</td>\n",
       "      <td>32</td>\n",
       "      <td>0</td>\n",
       "      <td>NaN</td>\n",
       "      <td>3</td>\n",
       "      <td>1</td>\n",
       "      <td>0</td>\n",
       "      <td>28843.54</td>\n",
       "      <td>0</td>\n",
       "      <td>1</td>\n",
       "      <td>0</td>\n",
       "      <td>1</td>\n",
       "      <td>0</td>\n",
       "      <td>1</td>\n",
       "      <td>0</td>\n",
       "    </tr>\n",
       "    <tr>\n",
       "      <th>5252</th>\n",
       "      <td>148826</td>\n",
       "      <td>895.0</td>\n",
       "      <td>Ярославль</td>\n",
       "      <td>М</td>\n",
       "      <td>32</td>\n",
       "      <td>5</td>\n",
       "      <td>1470273.14</td>\n",
       "      <td>2</td>\n",
       "      <td>0</td>\n",
       "      <td>0</td>\n",
       "      <td>118058.52</td>\n",
       "      <td>1</td>\n",
       "      <td>0</td>\n",
       "      <td>0</td>\n",
       "      <td>0</td>\n",
       "      <td>1</td>\n",
       "      <td>0</td>\n",
       "      <td>1</td>\n",
       "    </tr>\n",
       "    <tr>\n",
       "      <th>946</th>\n",
       "      <td>149365</td>\n",
       "      <td>877.0</td>\n",
       "      <td>Ярославль</td>\n",
       "      <td>М</td>\n",
       "      <td>41</td>\n",
       "      <td>5</td>\n",
       "      <td>819182.01</td>\n",
       "      <td>2</td>\n",
       "      <td>0</td>\n",
       "      <td>0</td>\n",
       "      <td>212316.47</td>\n",
       "      <td>1</td>\n",
       "      <td>0</td>\n",
       "      <td>0</td>\n",
       "      <td>0</td>\n",
       "      <td>1</td>\n",
       "      <td>0</td>\n",
       "      <td>1</td>\n",
       "    </tr>\n",
       "    <tr>\n",
       "      <th>8272</th>\n",
       "      <td>149365</td>\n",
       "      <td>793.0</td>\n",
       "      <td>Рыбинск</td>\n",
       "      <td>Ж</td>\n",
       "      <td>61</td>\n",
       "      <td>0</td>\n",
       "      <td>476496.99</td>\n",
       "      <td>2</td>\n",
       "      <td>1</td>\n",
       "      <td>1</td>\n",
       "      <td>46147.06</td>\n",
       "      <td>0</td>\n",
       "      <td>0</td>\n",
       "      <td>0</td>\n",
       "      <td>1</td>\n",
       "      <td>0</td>\n",
       "      <td>1</td>\n",
       "      <td>0</td>\n",
       "    </tr>\n",
       "    <tr>\n",
       "      <th>2439</th>\n",
       "      <td>150667</td>\n",
       "      <td>813.0</td>\n",
       "      <td>Рыбинск</td>\n",
       "      <td>Ж</td>\n",
       "      <td>44</td>\n",
       "      <td>0</td>\n",
       "      <td>62504.47</td>\n",
       "      <td>4</td>\n",
       "      <td>1</td>\n",
       "      <td>0</td>\n",
       "      <td>152393.79</td>\n",
       "      <td>1</td>\n",
       "      <td>0</td>\n",
       "      <td>0</td>\n",
       "      <td>1</td>\n",
       "      <td>0</td>\n",
       "      <td>1</td>\n",
       "      <td>0</td>\n",
       "    </tr>\n",
       "    <tr>\n",
       "      <th>9267</th>\n",
       "      <td>150667</td>\n",
       "      <td>931.0</td>\n",
       "      <td>Ярославль</td>\n",
       "      <td>М</td>\n",
       "      <td>41</td>\n",
       "      <td>0</td>\n",
       "      <td>NaN</td>\n",
       "      <td>1</td>\n",
       "      <td>0</td>\n",
       "      <td>0</td>\n",
       "      <td>261904.44</td>\n",
       "      <td>0</td>\n",
       "      <td>1</td>\n",
       "      <td>0</td>\n",
       "      <td>0</td>\n",
       "      <td>1</td>\n",
       "      <td>0</td>\n",
       "      <td>1</td>\n",
       "    </tr>\n",
       "    <tr>\n",
       "      <th>690</th>\n",
       "      <td>152479</td>\n",
       "      <td>768.0</td>\n",
       "      <td>Рыбинск</td>\n",
       "      <td>Ж</td>\n",
       "      <td>42</td>\n",
       "      <td>0</td>\n",
       "      <td>126787.79</td>\n",
       "      <td>4</td>\n",
       "      <td>1</td>\n",
       "      <td>1</td>\n",
       "      <td>143233.23</td>\n",
       "      <td>1</td>\n",
       "      <td>0</td>\n",
       "      <td>0</td>\n",
       "      <td>1</td>\n",
       "      <td>0</td>\n",
       "      <td>1</td>\n",
       "      <td>0</td>\n",
       "    </tr>\n",
       "    <tr>\n",
       "      <th>5705</th>\n",
       "      <td>152479</td>\n",
       "      <td>723.0</td>\n",
       "      <td>Ярославль</td>\n",
       "      <td>Ж</td>\n",
       "      <td>22</td>\n",
       "      <td>0</td>\n",
       "      <td>NaN</td>\n",
       "      <td>1</td>\n",
       "      <td>1</td>\n",
       "      <td>0</td>\n",
       "      <td>83955.65</td>\n",
       "      <td>0</td>\n",
       "      <td>1</td>\n",
       "      <td>0</td>\n",
       "      <td>0</td>\n",
       "      <td>1</td>\n",
       "      <td>1</td>\n",
       "      <td>0</td>\n",
       "    </tr>\n",
       "    <tr>\n",
       "      <th>3274</th>\n",
       "      <td>155765</td>\n",
       "      <td>863.0</td>\n",
       "      <td>Ярославль</td>\n",
       "      <td>М</td>\n",
       "      <td>30</td>\n",
       "      <td>5</td>\n",
       "      <td>1036114.50</td>\n",
       "      <td>5</td>\n",
       "      <td>1</td>\n",
       "      <td>1</td>\n",
       "      <td>150744.50</td>\n",
       "      <td>1</td>\n",
       "      <td>0</td>\n",
       "      <td>0</td>\n",
       "      <td>0</td>\n",
       "      <td>1</td>\n",
       "      <td>0</td>\n",
       "      <td>1</td>\n",
       "    </tr>\n",
       "    <tr>\n",
       "      <th>5197</th>\n",
       "      <td>155765</td>\n",
       "      <td>923.0</td>\n",
       "      <td>Рыбинск</td>\n",
       "      <td>М</td>\n",
       "      <td>30</td>\n",
       "      <td>0</td>\n",
       "      <td>NaN</td>\n",
       "      <td>1</td>\n",
       "      <td>1</td>\n",
       "      <td>1</td>\n",
       "      <td>120296.60</td>\n",
       "      <td>0</td>\n",
       "      <td>1</td>\n",
       "      <td>0</td>\n",
       "      <td>1</td>\n",
       "      <td>0</td>\n",
       "      <td>0</td>\n",
       "      <td>1</td>\n",
       "    </tr>\n",
       "    <tr>\n",
       "      <th>1080</th>\n",
       "      <td>155872</td>\n",
       "      <td>896.0</td>\n",
       "      <td>Ярославль</td>\n",
       "      <td>М</td>\n",
       "      <td>36</td>\n",
       "      <td>3</td>\n",
       "      <td>1113656.92</td>\n",
       "      <td>3</td>\n",
       "      <td>0</td>\n",
       "      <td>1</td>\n",
       "      <td>291176.85</td>\n",
       "      <td>1</td>\n",
       "      <td>0</td>\n",
       "      <td>0</td>\n",
       "      <td>0</td>\n",
       "      <td>1</td>\n",
       "      <td>0</td>\n",
       "      <td>1</td>\n",
       "    </tr>\n",
       "    <tr>\n",
       "      <th>9363</th>\n",
       "      <td>155872</td>\n",
       "      <td>714.0</td>\n",
       "      <td>Рыбинск</td>\n",
       "      <td>Ж</td>\n",
       "      <td>29</td>\n",
       "      <td>0</td>\n",
       "      <td>NaN</td>\n",
       "      <td>1</td>\n",
       "      <td>1</td>\n",
       "      <td>0</td>\n",
       "      <td>118052.84</td>\n",
       "      <td>0</td>\n",
       "      <td>1</td>\n",
       "      <td>0</td>\n",
       "      <td>1</td>\n",
       "      <td>0</td>\n",
       "      <td>1</td>\n",
       "      <td>0</td>\n",
       "    </tr>\n",
       "    <tr>\n",
       "      <th>3936</th>\n",
       "      <td>160075</td>\n",
       "      <td>899.0</td>\n",
       "      <td>Ярославль</td>\n",
       "      <td>М</td>\n",
       "      <td>34</td>\n",
       "      <td>4</td>\n",
       "      <td>1647814.67</td>\n",
       "      <td>4</td>\n",
       "      <td>1</td>\n",
       "      <td>0</td>\n",
       "      <td>151888.42</td>\n",
       "      <td>1</td>\n",
       "      <td>0</td>\n",
       "      <td>0</td>\n",
       "      <td>0</td>\n",
       "      <td>1</td>\n",
       "      <td>0</td>\n",
       "      <td>1</td>\n",
       "    </tr>\n",
       "    <tr>\n",
       "      <th>9508</th>\n",
       "      <td>160075</td>\n",
       "      <td>824.0</td>\n",
       "      <td>Рыбинск</td>\n",
       "      <td>Ж</td>\n",
       "      <td>57</td>\n",
       "      <td>3</td>\n",
       "      <td>355047.33</td>\n",
       "      <td>2</td>\n",
       "      <td>0</td>\n",
       "      <td>0</td>\n",
       "      <td>64351.81</td>\n",
       "      <td>0</td>\n",
       "      <td>0</td>\n",
       "      <td>0</td>\n",
       "      <td>1</td>\n",
       "      <td>0</td>\n",
       "      <td>1</td>\n",
       "      <td>0</td>\n",
       "    </tr>\n",
       "    <tr>\n",
       "      <th>8733</th>\n",
       "      <td>162053</td>\n",
       "      <td>786.0</td>\n",
       "      <td>Ярославль</td>\n",
       "      <td>М</td>\n",
       "      <td>29</td>\n",
       "      <td>4</td>\n",
       "      <td>205824.97</td>\n",
       "      <td>3</td>\n",
       "      <td>1</td>\n",
       "      <td>0</td>\n",
       "      <td>121371.73</td>\n",
       "      <td>0</td>\n",
       "      <td>0</td>\n",
       "      <td>0</td>\n",
       "      <td>0</td>\n",
       "      <td>1</td>\n",
       "      <td>0</td>\n",
       "      <td>1</td>\n",
       "    </tr>\n",
       "    <tr>\n",
       "      <th>5629</th>\n",
       "      <td>162053</td>\n",
       "      <td>921.0</td>\n",
       "      <td>Рыбинск</td>\n",
       "      <td>М</td>\n",
       "      <td>33</td>\n",
       "      <td>3</td>\n",
       "      <td>857011.13</td>\n",
       "      <td>2</td>\n",
       "      <td>1</td>\n",
       "      <td>1</td>\n",
       "      <td>113512.57</td>\n",
       "      <td>1</td>\n",
       "      <td>0</td>\n",
       "      <td>0</td>\n",
       "      <td>1</td>\n",
       "      <td>0</td>\n",
       "      <td>0</td>\n",
       "      <td>1</td>\n",
       "    </tr>\n",
       "    <tr>\n",
       "      <th>6786</th>\n",
       "      <td>163207</td>\n",
       "      <td>838.0</td>\n",
       "      <td>Ярославль</td>\n",
       "      <td>Ж</td>\n",
       "      <td>42</td>\n",
       "      <td>4</td>\n",
       "      <td>652776.60</td>\n",
       "      <td>2</td>\n",
       "      <td>1</td>\n",
       "      <td>1</td>\n",
       "      <td>97545.36</td>\n",
       "      <td>0</td>\n",
       "      <td>0</td>\n",
       "      <td>0</td>\n",
       "      <td>0</td>\n",
       "      <td>1</td>\n",
       "      <td>1</td>\n",
       "      <td>0</td>\n",
       "    </tr>\n",
       "    <tr>\n",
       "      <th>3564</th>\n",
       "      <td>163207</td>\n",
       "      <td>853.0</td>\n",
       "      <td>Рыбинск</td>\n",
       "      <td>М</td>\n",
       "      <td>42</td>\n",
       "      <td>4</td>\n",
       "      <td>543839.62</td>\n",
       "      <td>1</td>\n",
       "      <td>1</td>\n",
       "      <td>1</td>\n",
       "      <td>105281.97</td>\n",
       "      <td>1</td>\n",
       "      <td>0</td>\n",
       "      <td>0</td>\n",
       "      <td>1</td>\n",
       "      <td>0</td>\n",
       "      <td>0</td>\n",
       "      <td>1</td>\n",
       "    </tr>\n",
       "    <tr>\n",
       "      <th>7271</th>\n",
       "      <td>164676</td>\n",
       "      <td>790.0</td>\n",
       "      <td>Рыбинск</td>\n",
       "      <td>Ж</td>\n",
       "      <td>77</td>\n",
       "      <td>1</td>\n",
       "      <td>111202.01</td>\n",
       "      <td>1</td>\n",
       "      <td>1</td>\n",
       "      <td>0</td>\n",
       "      <td>32835.45</td>\n",
       "      <td>0</td>\n",
       "      <td>0</td>\n",
       "      <td>0</td>\n",
       "      <td>1</td>\n",
       "      <td>0</td>\n",
       "      <td>1</td>\n",
       "      <td>0</td>\n",
       "    </tr>\n",
       "    <tr>\n",
       "      <th>58</th>\n",
       "      <td>164676</td>\n",
       "      <td>860.0</td>\n",
       "      <td>Ярославль</td>\n",
       "      <td>М</td>\n",
       "      <td>37</td>\n",
       "      <td>5</td>\n",
       "      <td>648594.03</td>\n",
       "      <td>2</td>\n",
       "      <td>1</td>\n",
       "      <td>1</td>\n",
       "      <td>213586.86</td>\n",
       "      <td>1</td>\n",
       "      <td>0</td>\n",
       "      <td>0</td>\n",
       "      <td>0</td>\n",
       "      <td>1</td>\n",
       "      <td>0</td>\n",
       "      <td>1</td>\n",
       "    </tr>\n",
       "    <tr>\n",
       "      <th>9785</th>\n",
       "      <td>168998</td>\n",
       "      <td>895.0</td>\n",
       "      <td>Рыбинск</td>\n",
       "      <td>М</td>\n",
       "      <td>44</td>\n",
       "      <td>0</td>\n",
       "      <td>282653.53</td>\n",
       "      <td>3</td>\n",
       "      <td>0</td>\n",
       "      <td>0</td>\n",
       "      <td>255296.47</td>\n",
       "      <td>0</td>\n",
       "      <td>0</td>\n",
       "      <td>0</td>\n",
       "      <td>1</td>\n",
       "      <td>0</td>\n",
       "      <td>0</td>\n",
       "      <td>1</td>\n",
       "    </tr>\n",
       "    <tr>\n",
       "      <th>5020</th>\n",
       "      <td>168998</td>\n",
       "      <td>886.0</td>\n",
       "      <td>Ярославль</td>\n",
       "      <td>Ж</td>\n",
       "      <td>35</td>\n",
       "      <td>4</td>\n",
       "      <td>394780.61</td>\n",
       "      <td>2</td>\n",
       "      <td>1</td>\n",
       "      <td>1</td>\n",
       "      <td>510577.10</td>\n",
       "      <td>1</td>\n",
       "      <td>0</td>\n",
       "      <td>0</td>\n",
       "      <td>0</td>\n",
       "      <td>1</td>\n",
       "      <td>1</td>\n",
       "      <td>0</td>\n",
       "    </tr>\n",
       "    <tr>\n",
       "      <th>790</th>\n",
       "      <td>170312</td>\n",
       "      <td>901.0</td>\n",
       "      <td>Ярославль</td>\n",
       "      <td>М</td>\n",
       "      <td>33</td>\n",
       "      <td>4</td>\n",
       "      <td>3276783.93</td>\n",
       "      <td>3</td>\n",
       "      <td>0</td>\n",
       "      <td>1</td>\n",
       "      <td>358700.96</td>\n",
       "      <td>1</td>\n",
       "      <td>0</td>\n",
       "      <td>0</td>\n",
       "      <td>0</td>\n",
       "      <td>1</td>\n",
       "      <td>0</td>\n",
       "      <td>1</td>\n",
       "    </tr>\n",
       "    <tr>\n",
       "      <th>3039</th>\n",
       "      <td>170312</td>\n",
       "      <td>813.0</td>\n",
       "      <td>Рыбинск</td>\n",
       "      <td>Ж</td>\n",
       "      <td>47</td>\n",
       "      <td>3</td>\n",
       "      <td>370027.67</td>\n",
       "      <td>2</td>\n",
       "      <td>0</td>\n",
       "      <td>0</td>\n",
       "      <td>129835.56</td>\n",
       "      <td>0</td>\n",
       "      <td>0</td>\n",
       "      <td>0</td>\n",
       "      <td>1</td>\n",
       "      <td>0</td>\n",
       "      <td>1</td>\n",
       "      <td>0</td>\n",
       "    </tr>\n",
       "    <tr>\n",
       "      <th>4587</th>\n",
       "      <td>171751</td>\n",
       "      <td>874.0</td>\n",
       "      <td>Рыбинск</td>\n",
       "      <td>Ж</td>\n",
       "      <td>26</td>\n",
       "      <td>5</td>\n",
       "      <td>292054.42</td>\n",
       "      <td>2</td>\n",
       "      <td>0</td>\n",
       "      <td>1</td>\n",
       "      <td>20528.56</td>\n",
       "      <td>1</td>\n",
       "      <td>0</td>\n",
       "      <td>0</td>\n",
       "      <td>1</td>\n",
       "      <td>0</td>\n",
       "      <td>1</td>\n",
       "      <td>0</td>\n",
       "    </tr>\n",
       "    <tr>\n",
       "      <th>9653</th>\n",
       "      <td>171751</td>\n",
       "      <td>862.0</td>\n",
       "      <td>Ярославль</td>\n",
       "      <td>М</td>\n",
       "      <td>42</td>\n",
       "      <td>4</td>\n",
       "      <td>481992.19</td>\n",
       "      <td>2</td>\n",
       "      <td>1</td>\n",
       "      <td>0</td>\n",
       "      <td>71816.86</td>\n",
       "      <td>0</td>\n",
       "      <td>0</td>\n",
       "      <td>0</td>\n",
       "      <td>0</td>\n",
       "      <td>1</td>\n",
       "      <td>0</td>\n",
       "      <td>1</td>\n",
       "    </tr>\n",
       "    <tr>\n",
       "      <th>6756</th>\n",
       "      <td>172142</td>\n",
       "      <td>751.0</td>\n",
       "      <td>Рыбинск</td>\n",
       "      <td>Ж</td>\n",
       "      <td>69</td>\n",
       "      <td>3</td>\n",
       "      <td>396568.03</td>\n",
       "      <td>2</td>\n",
       "      <td>0</td>\n",
       "      <td>1</td>\n",
       "      <td>45608.45</td>\n",
       "      <td>0</td>\n",
       "      <td>0</td>\n",
       "      <td>0</td>\n",
       "      <td>1</td>\n",
       "      <td>0</td>\n",
       "      <td>1</td>\n",
       "      <td>0</td>\n",
       "    </tr>\n",
       "    <tr>\n",
       "      <th>2941</th>\n",
       "      <td>172142</td>\n",
       "      <td>896.0</td>\n",
       "      <td>Ярославль</td>\n",
       "      <td>Ж</td>\n",
       "      <td>30</td>\n",
       "      <td>4</td>\n",
       "      <td>1009073.14</td>\n",
       "      <td>4</td>\n",
       "      <td>1</td>\n",
       "      <td>0</td>\n",
       "      <td>70866.29</td>\n",
       "      <td>1</td>\n",
       "      <td>0</td>\n",
       "      <td>0</td>\n",
       "      <td>0</td>\n",
       "      <td>1</td>\n",
       "      <td>1</td>\n",
       "      <td>0</td>\n",
       "    </tr>\n",
       "    <tr>\n",
       "      <th>7753</th>\n",
       "      <td>175730</td>\n",
       "      <td>846.0</td>\n",
       "      <td>Ярославль</td>\n",
       "      <td>Ж</td>\n",
       "      <td>32</td>\n",
       "      <td>7</td>\n",
       "      <td>216764.74</td>\n",
       "      <td>4</td>\n",
       "      <td>1</td>\n",
       "      <td>1</td>\n",
       "      <td>77100.85</td>\n",
       "      <td>1</td>\n",
       "      <td>0</td>\n",
       "      <td>0</td>\n",
       "      <td>0</td>\n",
       "      <td>1</td>\n",
       "      <td>1</td>\n",
       "      <td>0</td>\n",
       "    </tr>\n",
       "    <tr>\n",
       "      <th>9970</th>\n",
       "      <td>175730</td>\n",
       "      <td>816.0</td>\n",
       "      <td>Рыбинск</td>\n",
       "      <td>М</td>\n",
       "      <td>36</td>\n",
       "      <td>4</td>\n",
       "      <td>477892.07</td>\n",
       "      <td>3</td>\n",
       "      <td>1</td>\n",
       "      <td>0</td>\n",
       "      <td>81100.60</td>\n",
       "      <td>0</td>\n",
       "      <td>0</td>\n",
       "      <td>0</td>\n",
       "      <td>1</td>\n",
       "      <td>0</td>\n",
       "      <td>0</td>\n",
       "      <td>1</td>\n",
       "    </tr>\n",
       "    <tr>\n",
       "      <th>8705</th>\n",
       "      <td>181526</td>\n",
       "      <td>895.0</td>\n",
       "      <td>Рыбинск</td>\n",
       "      <td>М</td>\n",
       "      <td>29</td>\n",
       "      <td>0</td>\n",
       "      <td>NaN</td>\n",
       "      <td>1</td>\n",
       "      <td>1</td>\n",
       "      <td>1</td>\n",
       "      <td>124786.53</td>\n",
       "      <td>0</td>\n",
       "      <td>1</td>\n",
       "      <td>0</td>\n",
       "      <td>1</td>\n",
       "      <td>0</td>\n",
       "      <td>0</td>\n",
       "      <td>1</td>\n",
       "    </tr>\n",
       "    <tr>\n",
       "      <th>2989</th>\n",
       "      <td>181526</td>\n",
       "      <td>918.0</td>\n",
       "      <td>Ярославль</td>\n",
       "      <td>Ж</td>\n",
       "      <td>37</td>\n",
       "      <td>5</td>\n",
       "      <td>1366382.35</td>\n",
       "      <td>4</td>\n",
       "      <td>1</td>\n",
       "      <td>1</td>\n",
       "      <td>97932.95</td>\n",
       "      <td>1</td>\n",
       "      <td>0</td>\n",
       "      <td>0</td>\n",
       "      <td>0</td>\n",
       "      <td>1</td>\n",
       "      <td>1</td>\n",
       "      <td>0</td>\n",
       "    </tr>\n",
       "    <tr>\n",
       "      <th>9146</th>\n",
       "      <td>183510</td>\n",
       "      <td>800.0</td>\n",
       "      <td>Рыбинск</td>\n",
       "      <td>Ж</td>\n",
       "      <td>42</td>\n",
       "      <td>7</td>\n",
       "      <td>473293.81</td>\n",
       "      <td>2</td>\n",
       "      <td>1</td>\n",
       "      <td>0</td>\n",
       "      <td>54049.88</td>\n",
       "      <td>0</td>\n",
       "      <td>0</td>\n",
       "      <td>0</td>\n",
       "      <td>1</td>\n",
       "      <td>0</td>\n",
       "      <td>1</td>\n",
       "      <td>0</td>\n",
       "    </tr>\n",
       "    <tr>\n",
       "      <th>8584</th>\n",
       "      <td>183510</td>\n",
       "      <td>922.0</td>\n",
       "      <td>Ярославль</td>\n",
       "      <td>М</td>\n",
       "      <td>26</td>\n",
       "      <td>5</td>\n",
       "      <td>448542.42</td>\n",
       "      <td>3</td>\n",
       "      <td>0</td>\n",
       "      <td>1</td>\n",
       "      <td>66063.13</td>\n",
       "      <td>1</td>\n",
       "      <td>0</td>\n",
       "      <td>0</td>\n",
       "      <td>0</td>\n",
       "      <td>1</td>\n",
       "      <td>0</td>\n",
       "      <td>1</td>\n",
       "    </tr>\n",
       "    <tr>\n",
       "      <th>3106</th>\n",
       "      <td>185748</td>\n",
       "      <td>912.0</td>\n",
       "      <td>Ярославль</td>\n",
       "      <td>Ж</td>\n",
       "      <td>47</td>\n",
       "      <td>5</td>\n",
       "      <td>1598218.98</td>\n",
       "      <td>2</td>\n",
       "      <td>0</td>\n",
       "      <td>0</td>\n",
       "      <td>180256.98</td>\n",
       "      <td>0</td>\n",
       "      <td>0</td>\n",
       "      <td>0</td>\n",
       "      <td>0</td>\n",
       "      <td>1</td>\n",
       "      <td>1</td>\n",
       "      <td>0</td>\n",
       "    </tr>\n",
       "    <tr>\n",
       "      <th>150</th>\n",
       "      <td>185748</td>\n",
       "      <td>850.0</td>\n",
       "      <td>Рыбинск</td>\n",
       "      <td>М</td>\n",
       "      <td>36</td>\n",
       "      <td>5</td>\n",
       "      <td>1203376.67</td>\n",
       "      <td>2</td>\n",
       "      <td>0</td>\n",
       "      <td>1</td>\n",
       "      <td>89401.82</td>\n",
       "      <td>1</td>\n",
       "      <td>0</td>\n",
       "      <td>0</td>\n",
       "      <td>1</td>\n",
       "      <td>0</td>\n",
       "      <td>0</td>\n",
       "      <td>1</td>\n",
       "    </tr>\n",
       "    <tr>\n",
       "      <th>5454</th>\n",
       "      <td>188957</td>\n",
       "      <td>853.0</td>\n",
       "      <td>Ярославль</td>\n",
       "      <td>М</td>\n",
       "      <td>35</td>\n",
       "      <td>1</td>\n",
       "      <td>374959.62</td>\n",
       "      <td>2</td>\n",
       "      <td>1</td>\n",
       "      <td>1</td>\n",
       "      <td>197600.97</td>\n",
       "      <td>1</td>\n",
       "      <td>0</td>\n",
       "      <td>0</td>\n",
       "      <td>0</td>\n",
       "      <td>1</td>\n",
       "      <td>0</td>\n",
       "      <td>1</td>\n",
       "    </tr>\n",
       "    <tr>\n",
       "      <th>6005</th>\n",
       "      <td>188957</td>\n",
       "      <td>882.0</td>\n",
       "      <td>Рыбинск</td>\n",
       "      <td>Ж</td>\n",
       "      <td>64</td>\n",
       "      <td>3</td>\n",
       "      <td>893392.91</td>\n",
       "      <td>3</td>\n",
       "      <td>1</td>\n",
       "      <td>0</td>\n",
       "      <td>69622.58</td>\n",
       "      <td>0</td>\n",
       "      <td>0</td>\n",
       "      <td>0</td>\n",
       "      <td>1</td>\n",
       "      <td>0</td>\n",
       "      <td>1</td>\n",
       "      <td>0</td>\n",
       "    </tr>\n",
       "    <tr>\n",
       "      <th>1583</th>\n",
       "      <td>190253</td>\n",
       "      <td>726.0</td>\n",
       "      <td>Ярославль</td>\n",
       "      <td>М</td>\n",
       "      <td>49</td>\n",
       "      <td>0</td>\n",
       "      <td>NaN</td>\n",
       "      <td>1</td>\n",
       "      <td>1</td>\n",
       "      <td>1</td>\n",
       "      <td>177700.78</td>\n",
       "      <td>0</td>\n",
       "      <td>1</td>\n",
       "      <td>0</td>\n",
       "      <td>0</td>\n",
       "      <td>1</td>\n",
       "      <td>0</td>\n",
       "      <td>1</td>\n",
       "    </tr>\n",
       "    <tr>\n",
       "      <th>231</th>\n",
       "      <td>190253</td>\n",
       "      <td>823.0</td>\n",
       "      <td>Рыбинск</td>\n",
       "      <td>М</td>\n",
       "      <td>37</td>\n",
       "      <td>4</td>\n",
       "      <td>373348.39</td>\n",
       "      <td>2</td>\n",
       "      <td>0</td>\n",
       "      <td>1</td>\n",
       "      <td>131947.92</td>\n",
       "      <td>1</td>\n",
       "      <td>0</td>\n",
       "      <td>0</td>\n",
       "      <td>1</td>\n",
       "      <td>0</td>\n",
       "      <td>0</td>\n",
       "      <td>1</td>\n",
       "    </tr>\n",
       "    <tr>\n",
       "      <th>3859</th>\n",
       "      <td>191520</td>\n",
       "      <td>773.0</td>\n",
       "      <td>Рыбинск</td>\n",
       "      <td>М</td>\n",
       "      <td>36</td>\n",
       "      <td>3</td>\n",
       "      <td>1219918.08</td>\n",
       "      <td>4</td>\n",
       "      <td>1</td>\n",
       "      <td>1</td>\n",
       "      <td>119933.13</td>\n",
       "      <td>1</td>\n",
       "      <td>0</td>\n",
       "      <td>0</td>\n",
       "      <td>1</td>\n",
       "      <td>0</td>\n",
       "      <td>0</td>\n",
       "      <td>1</td>\n",
       "    </tr>\n",
       "    <tr>\n",
       "      <th>7931</th>\n",
       "      <td>191520</td>\n",
       "      <td>767.0</td>\n",
       "      <td>Ярославль</td>\n",
       "      <td>М</td>\n",
       "      <td>45</td>\n",
       "      <td>0</td>\n",
       "      <td>NaN</td>\n",
       "      <td>1</td>\n",
       "      <td>1</td>\n",
       "      <td>1</td>\n",
       "      <td>880005.05</td>\n",
       "      <td>0</td>\n",
       "      <td>1</td>\n",
       "      <td>0</td>\n",
       "      <td>0</td>\n",
       "      <td>1</td>\n",
       "      <td>0</td>\n",
       "      <td>1</td>\n",
       "    </tr>\n",
       "    <tr>\n",
       "      <th>9659</th>\n",
       "      <td>195884</td>\n",
       "      <td>767.0</td>\n",
       "      <td>Рыбинск</td>\n",
       "      <td>Ж</td>\n",
       "      <td>45</td>\n",
       "      <td>1</td>\n",
       "      <td>335652.56</td>\n",
       "      <td>3</td>\n",
       "      <td>1</td>\n",
       "      <td>1</td>\n",
       "      <td>100197.67</td>\n",
       "      <td>0</td>\n",
       "      <td>0</td>\n",
       "      <td>0</td>\n",
       "      <td>1</td>\n",
       "      <td>0</td>\n",
       "      <td>1</td>\n",
       "      <td>0</td>\n",
       "    </tr>\n",
       "    <tr>\n",
       "      <th>2226</th>\n",
       "      <td>195884</td>\n",
       "      <td>906.0</td>\n",
       "      <td>Ярославль</td>\n",
       "      <td>М</td>\n",
       "      <td>49</td>\n",
       "      <td>6</td>\n",
       "      <td>1354552.83</td>\n",
       "      <td>2</td>\n",
       "      <td>0</td>\n",
       "      <td>0</td>\n",
       "      <td>270678.42</td>\n",
       "      <td>1</td>\n",
       "      <td>0</td>\n",
       "      <td>0</td>\n",
       "      <td>0</td>\n",
       "      <td>1</td>\n",
       "      <td>0</td>\n",
       "      <td>1</td>\n",
       "    </tr>\n",
       "    <tr>\n",
       "      <th>4870</th>\n",
       "      <td>197364</td>\n",
       "      <td>889.0</td>\n",
       "      <td>Ярославль</td>\n",
       "      <td>М</td>\n",
       "      <td>33</td>\n",
       "      <td>0</td>\n",
       "      <td>NaN</td>\n",
       "      <td>2</td>\n",
       "      <td>1</td>\n",
       "      <td>1</td>\n",
       "      <td>96173.48</td>\n",
       "      <td>0</td>\n",
       "      <td>1</td>\n",
       "      <td>0</td>\n",
       "      <td>0</td>\n",
       "      <td>1</td>\n",
       "      <td>0</td>\n",
       "      <td>1</td>\n",
       "    </tr>\n",
       "    <tr>\n",
       "      <th>161</th>\n",
       "      <td>197364</td>\n",
       "      <td>928.0</td>\n",
       "      <td>Рыбинск</td>\n",
       "      <td>Ж</td>\n",
       "      <td>53</td>\n",
       "      <td>6</td>\n",
       "      <td>1347183.86</td>\n",
       "      <td>2</td>\n",
       "      <td>0</td>\n",
       "      <td>1</td>\n",
       "      <td>168189.49</td>\n",
       "      <td>1</td>\n",
       "      <td>0</td>\n",
       "      <td>0</td>\n",
       "      <td>1</td>\n",
       "      <td>0</td>\n",
       "      <td>1</td>\n",
       "      <td>0</td>\n",
       "    </tr>\n",
       "    <tr>\n",
       "      <th>8822</th>\n",
       "      <td>199312</td>\n",
       "      <td>911.0</td>\n",
       "      <td>Рыбинск</td>\n",
       "      <td>Ж</td>\n",
       "      <td>43</td>\n",
       "      <td>0</td>\n",
       "      <td>NaN</td>\n",
       "      <td>2</td>\n",
       "      <td>1</td>\n",
       "      <td>1</td>\n",
       "      <td>152189.72</td>\n",
       "      <td>0</td>\n",
       "      <td>1</td>\n",
       "      <td>0</td>\n",
       "      <td>1</td>\n",
       "      <td>0</td>\n",
       "      <td>1</td>\n",
       "      <td>0</td>\n",
       "    </tr>\n",
       "    <tr>\n",
       "      <th>2499</th>\n",
       "      <td>199312</td>\n",
       "      <td>948.0</td>\n",
       "      <td>Ярославль</td>\n",
       "      <td>М</td>\n",
       "      <td>41</td>\n",
       "      <td>5</td>\n",
       "      <td>3095721.85</td>\n",
       "      <td>4</td>\n",
       "      <td>1</td>\n",
       "      <td>1</td>\n",
       "      <td>307234.69</td>\n",
       "      <td>1</td>\n",
       "      <td>0</td>\n",
       "      <td>0</td>\n",
       "      <td>0</td>\n",
       "      <td>1</td>\n",
       "      <td>0</td>\n",
       "      <td>1</td>\n",
       "    </tr>\n",
       "    <tr>\n",
       "      <th>9035</th>\n",
       "      <td>200863</td>\n",
       "      <td>933.0</td>\n",
       "      <td>Рыбинск</td>\n",
       "      <td>М</td>\n",
       "      <td>29</td>\n",
       "      <td>7</td>\n",
       "      <td>766924.56</td>\n",
       "      <td>2</td>\n",
       "      <td>0</td>\n",
       "      <td>1</td>\n",
       "      <td>89323.33</td>\n",
       "      <td>1</td>\n",
       "      <td>0</td>\n",
       "      <td>0</td>\n",
       "      <td>1</td>\n",
       "      <td>0</td>\n",
       "      <td>0</td>\n",
       "      <td>1</td>\n",
       "    </tr>\n",
       "    <tr>\n",
       "      <th>9175</th>\n",
       "      <td>200863</td>\n",
       "      <td>832.0</td>\n",
       "      <td>Ярославль</td>\n",
       "      <td>М</td>\n",
       "      <td>42</td>\n",
       "      <td>5</td>\n",
       "      <td>620064.73</td>\n",
       "      <td>2</td>\n",
       "      <td>0</td>\n",
       "      <td>0</td>\n",
       "      <td>188054.46</td>\n",
       "      <td>0</td>\n",
       "      <td>0</td>\n",
       "      <td>0</td>\n",
       "      <td>0</td>\n",
       "      <td>1</td>\n",
       "      <td>0</td>\n",
       "      <td>1</td>\n",
       "    </tr>\n",
       "    <tr>\n",
       "      <th>1513</th>\n",
       "      <td>208081</td>\n",
       "      <td>873.0</td>\n",
       "      <td>Ярославль</td>\n",
       "      <td>М</td>\n",
       "      <td>31</td>\n",
       "      <td>2</td>\n",
       "      <td>232814.75</td>\n",
       "      <td>2</td>\n",
       "      <td>1</td>\n",
       "      <td>1</td>\n",
       "      <td>122505.86</td>\n",
       "      <td>1</td>\n",
       "      <td>0</td>\n",
       "      <td>0</td>\n",
       "      <td>0</td>\n",
       "      <td>1</td>\n",
       "      <td>0</td>\n",
       "      <td>1</td>\n",
       "    </tr>\n",
       "    <tr>\n",
       "      <th>2998</th>\n",
       "      <td>208081</td>\n",
       "      <td>821.0</td>\n",
       "      <td>Рыбинск</td>\n",
       "      <td>Ж</td>\n",
       "      <td>62</td>\n",
       "      <td>3</td>\n",
       "      <td>493608.26</td>\n",
       "      <td>2</td>\n",
       "      <td>1</td>\n",
       "      <td>1</td>\n",
       "      <td>33491.45</td>\n",
       "      <td>0</td>\n",
       "      <td>0</td>\n",
       "      <td>0</td>\n",
       "      <td>1</td>\n",
       "      <td>0</td>\n",
       "      <td>1</td>\n",
       "      <td>0</td>\n",
       "    </tr>\n",
       "    <tr>\n",
       "      <th>5840</th>\n",
       "      <td>208738</td>\n",
       "      <td>839.0</td>\n",
       "      <td>Ярославль</td>\n",
       "      <td>М</td>\n",
       "      <td>60</td>\n",
       "      <td>5</td>\n",
       "      <td>1102438.37</td>\n",
       "      <td>2</td>\n",
       "      <td>0</td>\n",
       "      <td>1</td>\n",
       "      <td>116500.81</td>\n",
       "      <td>0</td>\n",
       "      <td>0</td>\n",
       "      <td>0</td>\n",
       "      <td>0</td>\n",
       "      <td>1</td>\n",
       "      <td>0</td>\n",
       "      <td>1</td>\n",
       "    </tr>\n",
       "    <tr>\n",
       "      <th>1580</th>\n",
       "      <td>208738</td>\n",
       "      <td>897.0</td>\n",
       "      <td>Рыбинск</td>\n",
       "      <td>Ж</td>\n",
       "      <td>45</td>\n",
       "      <td>5</td>\n",
       "      <td>859018.19</td>\n",
       "      <td>2</td>\n",
       "      <td>1</td>\n",
       "      <td>1</td>\n",
       "      <td>145510.08</td>\n",
       "      <td>1</td>\n",
       "      <td>0</td>\n",
       "      <td>0</td>\n",
       "      <td>1</td>\n",
       "      <td>0</td>\n",
       "      <td>1</td>\n",
       "      <td>0</td>\n",
       "    </tr>\n",
       "    <tr>\n",
       "      <th>3350</th>\n",
       "      <td>208815</td>\n",
       "      <td>877.0</td>\n",
       "      <td>Рыбинск</td>\n",
       "      <td>М</td>\n",
       "      <td>25</td>\n",
       "      <td>4</td>\n",
       "      <td>239421.18</td>\n",
       "      <td>1</td>\n",
       "      <td>1</td>\n",
       "      <td>1</td>\n",
       "      <td>48638.00</td>\n",
       "      <td>1</td>\n",
       "      <td>0</td>\n",
       "      <td>0</td>\n",
       "      <td>1</td>\n",
       "      <td>0</td>\n",
       "      <td>0</td>\n",
       "      <td>1</td>\n",
       "    </tr>\n",
       "    <tr>\n",
       "      <th>5570</th>\n",
       "      <td>208815</td>\n",
       "      <td>773.0</td>\n",
       "      <td>Ярославль</td>\n",
       "      <td>М</td>\n",
       "      <td>39</td>\n",
       "      <td>4</td>\n",
       "      <td>288110.09</td>\n",
       "      <td>2</td>\n",
       "      <td>1</td>\n",
       "      <td>0</td>\n",
       "      <td>56971.91</td>\n",
       "      <td>0</td>\n",
       "      <td>0</td>\n",
       "      <td>0</td>\n",
       "      <td>0</td>\n",
       "      <td>1</td>\n",
       "      <td>0</td>\n",
       "      <td>1</td>\n",
       "    </tr>\n",
       "    <tr>\n",
       "      <th>7453</th>\n",
       "      <td>210627</td>\n",
       "      <td>864.0</td>\n",
       "      <td>Ярославль</td>\n",
       "      <td>Ж</td>\n",
       "      <td>38</td>\n",
       "      <td>4</td>\n",
       "      <td>1527225.32</td>\n",
       "      <td>4</td>\n",
       "      <td>1</td>\n",
       "      <td>1</td>\n",
       "      <td>162999.17</td>\n",
       "      <td>1</td>\n",
       "      <td>0</td>\n",
       "      <td>0</td>\n",
       "      <td>0</td>\n",
       "      <td>1</td>\n",
       "      <td>1</td>\n",
       "      <td>0</td>\n",
       "    </tr>\n",
       "    <tr>\n",
       "      <th>8521</th>\n",
       "      <td>210627</td>\n",
       "      <td>804.0</td>\n",
       "      <td>Рыбинск</td>\n",
       "      <td>М</td>\n",
       "      <td>30</td>\n",
       "      <td>2</td>\n",
       "      <td>347818.88</td>\n",
       "      <td>3</td>\n",
       "      <td>1</td>\n",
       "      <td>0</td>\n",
       "      <td>129015.25</td>\n",
       "      <td>0</td>\n",
       "      <td>0</td>\n",
       "      <td>0</td>\n",
       "      <td>1</td>\n",
       "      <td>0</td>\n",
       "      <td>0</td>\n",
       "      <td>1</td>\n",
       "    </tr>\n",
       "    <tr>\n",
       "      <th>869</th>\n",
       "      <td>210662</td>\n",
       "      <td>962.0</td>\n",
       "      <td>Ярославль</td>\n",
       "      <td>Ж</td>\n",
       "      <td>54</td>\n",
       "      <td>5</td>\n",
       "      <td>5069231.39</td>\n",
       "      <td>1</td>\n",
       "      <td>1</td>\n",
       "      <td>1</td>\n",
       "      <td>955144.85</td>\n",
       "      <td>1</td>\n",
       "      <td>0</td>\n",
       "      <td>0</td>\n",
       "      <td>0</td>\n",
       "      <td>1</td>\n",
       "      <td>1</td>\n",
       "      <td>0</td>\n",
       "    </tr>\n",
       "    <tr>\n",
       "      <th>1837</th>\n",
       "      <td>210662</td>\n",
       "      <td>896.0</td>\n",
       "      <td>Рыбинск</td>\n",
       "      <td>Ж</td>\n",
       "      <td>37</td>\n",
       "      <td>0</td>\n",
       "      <td>NaN</td>\n",
       "      <td>2</td>\n",
       "      <td>0</td>\n",
       "      <td>0</td>\n",
       "      <td>90916.04</td>\n",
       "      <td>0</td>\n",
       "      <td>1</td>\n",
       "      <td>0</td>\n",
       "      <td>1</td>\n",
       "      <td>0</td>\n",
       "      <td>1</td>\n",
       "      <td>0</td>\n",
       "    </tr>\n",
       "    <tr>\n",
       "      <th>4986</th>\n",
       "      <td>210792</td>\n",
       "      <td>884.0</td>\n",
       "      <td>Рыбинск</td>\n",
       "      <td>М</td>\n",
       "      <td>48</td>\n",
       "      <td>4</td>\n",
       "      <td>2228037.20</td>\n",
       "      <td>2</td>\n",
       "      <td>0</td>\n",
       "      <td>1</td>\n",
       "      <td>207978.09</td>\n",
       "      <td>1</td>\n",
       "      <td>0</td>\n",
       "      <td>0</td>\n",
       "      <td>1</td>\n",
       "      <td>0</td>\n",
       "      <td>0</td>\n",
       "      <td>1</td>\n",
       "    </tr>\n",
       "    <tr>\n",
       "      <th>7814</th>\n",
       "      <td>210792</td>\n",
       "      <td>839.0</td>\n",
       "      <td>Ярославль</td>\n",
       "      <td>М</td>\n",
       "      <td>42</td>\n",
       "      <td>2</td>\n",
       "      <td>662646.97</td>\n",
       "      <td>1</td>\n",
       "      <td>1</td>\n",
       "      <td>0</td>\n",
       "      <td>138403.60</td>\n",
       "      <td>0</td>\n",
       "      <td>0</td>\n",
       "      <td>0</td>\n",
       "      <td>0</td>\n",
       "      <td>1</td>\n",
       "      <td>0</td>\n",
       "      <td>1</td>\n",
       "    </tr>\n",
       "    <tr>\n",
       "      <th>1359</th>\n",
       "      <td>211130</td>\n",
       "      <td>833.0</td>\n",
       "      <td>Ярославль</td>\n",
       "      <td>М</td>\n",
       "      <td>55</td>\n",
       "      <td>3</td>\n",
       "      <td>1231184.90</td>\n",
       "      <td>4</td>\n",
       "      <td>0</td>\n",
       "      <td>1</td>\n",
       "      <td>187758.38</td>\n",
       "      <td>1</td>\n",
       "      <td>0</td>\n",
       "      <td>0</td>\n",
       "      <td>0</td>\n",
       "      <td>1</td>\n",
       "      <td>0</td>\n",
       "      <td>1</td>\n",
       "    </tr>\n",
       "    <tr>\n",
       "      <th>3817</th>\n",
       "      <td>211130</td>\n",
       "      <td>918.0</td>\n",
       "      <td>Рыбинск</td>\n",
       "      <td>Ж</td>\n",
       "      <td>55</td>\n",
       "      <td>0</td>\n",
       "      <td>NaN</td>\n",
       "      <td>2</td>\n",
       "      <td>1</td>\n",
       "      <td>1</td>\n",
       "      <td>244202.04</td>\n",
       "      <td>0</td>\n",
       "      <td>1</td>\n",
       "      <td>0</td>\n",
       "      <td>1</td>\n",
       "      <td>0</td>\n",
       "      <td>1</td>\n",
       "      <td>0</td>\n",
       "    </tr>\n",
       "    <tr>\n",
       "      <th>9880</th>\n",
       "      <td>217412</td>\n",
       "      <td>886.0</td>\n",
       "      <td>Ярославль</td>\n",
       "      <td>Ж</td>\n",
       "      <td>35</td>\n",
       "      <td>3</td>\n",
       "      <td>1026172.14</td>\n",
       "      <td>2</td>\n",
       "      <td>1</td>\n",
       "      <td>0</td>\n",
       "      <td>53099.16</td>\n",
       "      <td>0</td>\n",
       "      <td>0</td>\n",
       "      <td>0</td>\n",
       "      <td>0</td>\n",
       "      <td>1</td>\n",
       "      <td>1</td>\n",
       "      <td>0</td>\n",
       "    </tr>\n",
       "    <tr>\n",
       "      <th>7055</th>\n",
       "      <td>217412</td>\n",
       "      <td>879.0</td>\n",
       "      <td>Рыбинск</td>\n",
       "      <td>М</td>\n",
       "      <td>42</td>\n",
       "      <td>5</td>\n",
       "      <td>568140.15</td>\n",
       "      <td>3</td>\n",
       "      <td>0</td>\n",
       "      <td>0</td>\n",
       "      <td>231658.67</td>\n",
       "      <td>1</td>\n",
       "      <td>0</td>\n",
       "      <td>0</td>\n",
       "      <td>1</td>\n",
       "      <td>0</td>\n",
       "      <td>0</td>\n",
       "      <td>1</td>\n",
       "    </tr>\n",
       "    <tr>\n",
       "      <th>4611</th>\n",
       "      <td>217619</td>\n",
       "      <td>903.0</td>\n",
       "      <td>Рыбинск</td>\n",
       "      <td>Ж</td>\n",
       "      <td>59</td>\n",
       "      <td>5</td>\n",
       "      <td>844055.83</td>\n",
       "      <td>2</td>\n",
       "      <td>0</td>\n",
       "      <td>1</td>\n",
       "      <td>133999.76</td>\n",
       "      <td>1</td>\n",
       "      <td>0</td>\n",
       "      <td>0</td>\n",
       "      <td>1</td>\n",
       "      <td>0</td>\n",
       "      <td>1</td>\n",
       "      <td>0</td>\n",
       "    </tr>\n",
       "    <tr>\n",
       "      <th>5807</th>\n",
       "      <td>217619</td>\n",
       "      <td>766.0</td>\n",
       "      <td>Ярославль</td>\n",
       "      <td>М</td>\n",
       "      <td>52</td>\n",
       "      <td>2</td>\n",
       "      <td>218199.47</td>\n",
       "      <td>1</td>\n",
       "      <td>1</td>\n",
       "      <td>0</td>\n",
       "      <td>120356.44</td>\n",
       "      <td>0</td>\n",
       "      <td>0</td>\n",
       "      <td>0</td>\n",
       "      <td>0</td>\n",
       "      <td>1</td>\n",
       "      <td>0</td>\n",
       "      <td>1</td>\n",
       "    </tr>\n",
       "    <tr>\n",
       "      <th>4186</th>\n",
       "      <td>217643</td>\n",
       "      <td>804.0</td>\n",
       "      <td>Рыбинск</td>\n",
       "      <td>Ж</td>\n",
       "      <td>40</td>\n",
       "      <td>2</td>\n",
       "      <td>301836.65</td>\n",
       "      <td>2</td>\n",
       "      <td>1</td>\n",
       "      <td>1</td>\n",
       "      <td>81137.22</td>\n",
       "      <td>0</td>\n",
       "      <td>0</td>\n",
       "      <td>0</td>\n",
       "      <td>1</td>\n",
       "      <td>0</td>\n",
       "      <td>1</td>\n",
       "      <td>0</td>\n",
       "    </tr>\n",
       "    <tr>\n",
       "      <th>1970</th>\n",
       "      <td>217643</td>\n",
       "      <td>845.0</td>\n",
       "      <td>Ярославль</td>\n",
       "      <td>М</td>\n",
       "      <td>29</td>\n",
       "      <td>5</td>\n",
       "      <td>733098.45</td>\n",
       "      <td>4</td>\n",
       "      <td>1</td>\n",
       "      <td>1</td>\n",
       "      <td>41443.01</td>\n",
       "      <td>1</td>\n",
       "      <td>0</td>\n",
       "      <td>0</td>\n",
       "      <td>0</td>\n",
       "      <td>1</td>\n",
       "      <td>0</td>\n",
       "      <td>1</td>\n",
       "    </tr>\n",
       "    <tr>\n",
       "      <th>9406</th>\n",
       "      <td>217826</td>\n",
       "      <td>790.0</td>\n",
       "      <td>Рыбинск</td>\n",
       "      <td>Ж</td>\n",
       "      <td>46</td>\n",
       "      <td>4</td>\n",
       "      <td>430414.80</td>\n",
       "      <td>2</td>\n",
       "      <td>1</td>\n",
       "      <td>1</td>\n",
       "      <td>49400.37</td>\n",
       "      <td>0</td>\n",
       "      <td>0</td>\n",
       "      <td>0</td>\n",
       "      <td>1</td>\n",
       "      <td>0</td>\n",
       "      <td>1</td>\n",
       "      <td>0</td>\n",
       "    </tr>\n",
       "    <tr>\n",
       "      <th>4623</th>\n",
       "      <td>217826</td>\n",
       "      <td>842.0</td>\n",
       "      <td>Ярославль</td>\n",
       "      <td>М</td>\n",
       "      <td>39</td>\n",
       "      <td>4</td>\n",
       "      <td>439747.65</td>\n",
       "      <td>2</td>\n",
       "      <td>0</td>\n",
       "      <td>1</td>\n",
       "      <td>116736.75</td>\n",
       "      <td>1</td>\n",
       "      <td>0</td>\n",
       "      <td>0</td>\n",
       "      <td>0</td>\n",
       "      <td>1</td>\n",
       "      <td>0</td>\n",
       "      <td>1</td>\n",
       "    </tr>\n",
       "    <tr>\n",
       "      <th>1740</th>\n",
       "      <td>220816</td>\n",
       "      <td>840.0</td>\n",
       "      <td>Ярославль</td>\n",
       "      <td>Ж</td>\n",
       "      <td>41</td>\n",
       "      <td>3</td>\n",
       "      <td>1193287.13</td>\n",
       "      <td>2</td>\n",
       "      <td>1</td>\n",
       "      <td>1</td>\n",
       "      <td>76434.94</td>\n",
       "      <td>1</td>\n",
       "      <td>0</td>\n",
       "      <td>0</td>\n",
       "      <td>0</td>\n",
       "      <td>1</td>\n",
       "      <td>1</td>\n",
       "      <td>0</td>\n",
       "    </tr>\n",
       "    <tr>\n",
       "      <th>2302</th>\n",
       "      <td>220816</td>\n",
       "      <td>934.0</td>\n",
       "      <td>Рыбинск</td>\n",
       "      <td>Ж</td>\n",
       "      <td>74</td>\n",
       "      <td>5</td>\n",
       "      <td>1294285.39</td>\n",
       "      <td>3</td>\n",
       "      <td>1</td>\n",
       "      <td>0</td>\n",
       "      <td>95606.80</td>\n",
       "      <td>0</td>\n",
       "      <td>0</td>\n",
       "      <td>0</td>\n",
       "      <td>1</td>\n",
       "      <td>0</td>\n",
       "      <td>1</td>\n",
       "      <td>0</td>\n",
       "    </tr>\n",
       "    <tr>\n",
       "      <th>2597</th>\n",
       "      <td>226719</td>\n",
       "      <td>990.0</td>\n",
       "      <td>Ярославль</td>\n",
       "      <td>М</td>\n",
       "      <td>37</td>\n",
       "      <td>4</td>\n",
       "      <td>14648692.14</td>\n",
       "      <td>2</td>\n",
       "      <td>0</td>\n",
       "      <td>0</td>\n",
       "      <td>934412.61</td>\n",
       "      <td>1</td>\n",
       "      <td>0</td>\n",
       "      <td>0</td>\n",
       "      <td>0</td>\n",
       "      <td>1</td>\n",
       "      <td>0</td>\n",
       "      <td>1</td>\n",
       "    </tr>\n",
       "    <tr>\n",
       "      <th>4216</th>\n",
       "      <td>226719</td>\n",
       "      <td>903.0</td>\n",
       "      <td>Рыбинск</td>\n",
       "      <td>Ж</td>\n",
       "      <td>63</td>\n",
       "      <td>0</td>\n",
       "      <td>NaN</td>\n",
       "      <td>1</td>\n",
       "      <td>1</td>\n",
       "      <td>0</td>\n",
       "      <td>138582.58</td>\n",
       "      <td>0</td>\n",
       "      <td>1</td>\n",
       "      <td>0</td>\n",
       "      <td>1</td>\n",
       "      <td>0</td>\n",
       "      <td>1</td>\n",
       "      <td>0</td>\n",
       "    </tr>\n",
       "    <tr>\n",
       "      <th>8205</th>\n",
       "      <td>227795</td>\n",
       "      <td>840.0</td>\n",
       "      <td>Рыбинск</td>\n",
       "      <td>М</td>\n",
       "      <td>34</td>\n",
       "      <td>2</td>\n",
       "      <td>350768.03</td>\n",
       "      <td>1</td>\n",
       "      <td>1</td>\n",
       "      <td>0</td>\n",
       "      <td>102036.14</td>\n",
       "      <td>1</td>\n",
       "      <td>0</td>\n",
       "      <td>0</td>\n",
       "      <td>1</td>\n",
       "      <td>0</td>\n",
       "      <td>0</td>\n",
       "      <td>1</td>\n",
       "    </tr>\n",
       "    <tr>\n",
       "      <th>8497</th>\n",
       "      <td>227795</td>\n",
       "      <td>839.0</td>\n",
       "      <td>Ярославль</td>\n",
       "      <td>М</td>\n",
       "      <td>34</td>\n",
       "      <td>2</td>\n",
       "      <td>326593.14</td>\n",
       "      <td>2</td>\n",
       "      <td>1</td>\n",
       "      <td>0</td>\n",
       "      <td>103314.92</td>\n",
       "      <td>0</td>\n",
       "      <td>0</td>\n",
       "      <td>0</td>\n",
       "      <td>0</td>\n",
       "      <td>1</td>\n",
       "      <td>0</td>\n",
       "      <td>1</td>\n",
       "    </tr>\n",
       "  </tbody>\n",
       "</table>\n",
       "</div>"
      ],
      "text/plain": [
       "      user_id  score       city gender  age  equity      balance  products  \\\n",
       "1893   116540  883.0    Рыбинск      Ж   55       1    362756.49         3   \n",
       "7694   116540  887.0  Ярославль      Ж   38       0          NaN         1   \n",
       "4866   117943  855.0    Рыбинск      Ж   32       6   1036832.93         4   \n",
       "7542   117943  880.0  Ярославль      Ж   40       0          NaN         1   \n",
       "5863   120258  908.0    Рыбинск      Ж   38       4   2213581.63         2   \n",
       "5896   120258  905.0  Ярославль      М   30       0          NaN         1   \n",
       "1411   123461  829.0  Ярославль      Ж   59       0     96222.44         2   \n",
       "8638   123461  934.0    Рыбинск      М   34       0          NaN         2   \n",
       "9775   124450  758.0    Рыбинск      Ж   36       0     73574.07         2   \n",
       "8164   124450  859.0  Ярославль      Ж   38       6    516811.20         1   \n",
       "4850   126368  909.0  Ярославль      Ж   30       4   1322623.29         2   \n",
       "5420   126368  832.0    Рыбинск      Ж   33       0          NaN         1   \n",
       "3988   129785  904.0    Рыбинск      М   33       5   2427737.60         3   \n",
       "9504   129785  949.0  Ярославль      М   43       0          NaN         1   \n",
       "2138   131419  739.0    Рыбинск      Ж   37       3   1307941.65         3   \n",
       "904    131419  934.0  Ярославль      М   35       5   2348335.95         2   \n",
       "1608   140377  802.0  Ярославль      М   26       3    539863.29         4   \n",
       "7487   140377  930.0    Рыбинск      Ж   34       5   1123967.02         1   \n",
       "2276   141265  858.0  Ярославль      М   37       4    471599.16         2   \n",
       "5569   141265  811.0    Рыбинск      Ж   33       3   1044316.88         2   \n",
       "5369   143592  885.0    Рыбинск      Ж   56       4   1201087.46         2   \n",
       "5557   143592  764.0  Ярославль      Ж   68       3    508919.15         2   \n",
       "8364   148826  909.0    Рыбинск      Ж   32       0          NaN         3   \n",
       "5252   148826  895.0  Ярославль      М   32       5   1470273.14         2   \n",
       "946    149365  877.0  Ярославль      М   41       5    819182.01         2   \n",
       "8272   149365  793.0    Рыбинск      Ж   61       0    476496.99         2   \n",
       "2439   150667  813.0    Рыбинск      Ж   44       0     62504.47         4   \n",
       "9267   150667  931.0  Ярославль      М   41       0          NaN         1   \n",
       "690    152479  768.0    Рыбинск      Ж   42       0    126787.79         4   \n",
       "5705   152479  723.0  Ярославль      Ж   22       0          NaN         1   \n",
       "3274   155765  863.0  Ярославль      М   30       5   1036114.50         5   \n",
       "5197   155765  923.0    Рыбинск      М   30       0          NaN         1   \n",
       "1080   155872  896.0  Ярославль      М   36       3   1113656.92         3   \n",
       "9363   155872  714.0    Рыбинск      Ж   29       0          NaN         1   \n",
       "3936   160075  899.0  Ярославль      М   34       4   1647814.67         4   \n",
       "9508   160075  824.0    Рыбинск      Ж   57       3    355047.33         2   \n",
       "8733   162053  786.0  Ярославль      М   29       4    205824.97         3   \n",
       "5629   162053  921.0    Рыбинск      М   33       3    857011.13         2   \n",
       "6786   163207  838.0  Ярославль      Ж   42       4    652776.60         2   \n",
       "3564   163207  853.0    Рыбинск      М   42       4    543839.62         1   \n",
       "7271   164676  790.0    Рыбинск      Ж   77       1    111202.01         1   \n",
       "58     164676  860.0  Ярославль      М   37       5    648594.03         2   \n",
       "9785   168998  895.0    Рыбинск      М   44       0    282653.53         3   \n",
       "5020   168998  886.0  Ярославль      Ж   35       4    394780.61         2   \n",
       "790    170312  901.0  Ярославль      М   33       4   3276783.93         3   \n",
       "3039   170312  813.0    Рыбинск      Ж   47       3    370027.67         2   \n",
       "4587   171751  874.0    Рыбинск      Ж   26       5    292054.42         2   \n",
       "9653   171751  862.0  Ярославль      М   42       4    481992.19         2   \n",
       "6756   172142  751.0    Рыбинск      Ж   69       3    396568.03         2   \n",
       "2941   172142  896.0  Ярославль      Ж   30       4   1009073.14         4   \n",
       "7753   175730  846.0  Ярославль      Ж   32       7    216764.74         4   \n",
       "9970   175730  816.0    Рыбинск      М   36       4    477892.07         3   \n",
       "8705   181526  895.0    Рыбинск      М   29       0          NaN         1   \n",
       "2989   181526  918.0  Ярославль      Ж   37       5   1366382.35         4   \n",
       "9146   183510  800.0    Рыбинск      Ж   42       7    473293.81         2   \n",
       "8584   183510  922.0  Ярославль      М   26       5    448542.42         3   \n",
       "3106   185748  912.0  Ярославль      Ж   47       5   1598218.98         2   \n",
       "150    185748  850.0    Рыбинск      М   36       5   1203376.67         2   \n",
       "5454   188957  853.0  Ярославль      М   35       1    374959.62         2   \n",
       "6005   188957  882.0    Рыбинск      Ж   64       3    893392.91         3   \n",
       "1583   190253  726.0  Ярославль      М   49       0          NaN         1   \n",
       "231    190253  823.0    Рыбинск      М   37       4    373348.39         2   \n",
       "3859   191520  773.0    Рыбинск      М   36       3   1219918.08         4   \n",
       "7931   191520  767.0  Ярославль      М   45       0          NaN         1   \n",
       "9659   195884  767.0    Рыбинск      Ж   45       1    335652.56         3   \n",
       "2226   195884  906.0  Ярославль      М   49       6   1354552.83         2   \n",
       "4870   197364  889.0  Ярославль      М   33       0          NaN         2   \n",
       "161    197364  928.0    Рыбинск      Ж   53       6   1347183.86         2   \n",
       "8822   199312  911.0    Рыбинск      Ж   43       0          NaN         2   \n",
       "2499   199312  948.0  Ярославль      М   41       5   3095721.85         4   \n",
       "9035   200863  933.0    Рыбинск      М   29       7    766924.56         2   \n",
       "9175   200863  832.0  Ярославль      М   42       5    620064.73         2   \n",
       "1513   208081  873.0  Ярославль      М   31       2    232814.75         2   \n",
       "2998   208081  821.0    Рыбинск      Ж   62       3    493608.26         2   \n",
       "5840   208738  839.0  Ярославль      М   60       5   1102438.37         2   \n",
       "1580   208738  897.0    Рыбинск      Ж   45       5    859018.19         2   \n",
       "3350   208815  877.0    Рыбинск      М   25       4    239421.18         1   \n",
       "5570   208815  773.0  Ярославль      М   39       4    288110.09         2   \n",
       "7453   210627  864.0  Ярославль      Ж   38       4   1527225.32         4   \n",
       "8521   210627  804.0    Рыбинск      М   30       2    347818.88         3   \n",
       "869    210662  962.0  Ярославль      Ж   54       5   5069231.39         1   \n",
       "1837   210662  896.0    Рыбинск      Ж   37       0          NaN         2   \n",
       "4986   210792  884.0    Рыбинск      М   48       4   2228037.20         2   \n",
       "7814   210792  839.0  Ярославль      М   42       2    662646.97         1   \n",
       "1359   211130  833.0  Ярославль      М   55       3   1231184.90         4   \n",
       "3817   211130  918.0    Рыбинск      Ж   55       0          NaN         2   \n",
       "9880   217412  886.0  Ярославль      Ж   35       3   1026172.14         2   \n",
       "7055   217412  879.0    Рыбинск      М   42       5    568140.15         3   \n",
       "4611   217619  903.0    Рыбинск      Ж   59       5    844055.83         2   \n",
       "5807   217619  766.0  Ярославль      М   52       2    218199.47         1   \n",
       "4186   217643  804.0    Рыбинск      Ж   40       2    301836.65         2   \n",
       "1970   217643  845.0  Ярославль      М   29       5    733098.45         4   \n",
       "9406   217826  790.0    Рыбинск      Ж   46       4    430414.80         2   \n",
       "4623   217826  842.0  Ярославль      М   39       4    439747.65         2   \n",
       "1740   220816  840.0  Ярославль      Ж   41       3   1193287.13         2   \n",
       "2302   220816  934.0    Рыбинск      Ж   74       5   1294285.39         3   \n",
       "2597   226719  990.0  Ярославль      М   37       4  14648692.14         2   \n",
       "4216   226719  903.0    Рыбинск      Ж   63       0          NaN         1   \n",
       "8205   227795  840.0    Рыбинск      М   34       2    350768.03         1   \n",
       "8497   227795  839.0  Ярославль      М   34       2    326593.14         2   \n",
       "\n",
       "      credit_card  last_activity  est_salary  churn  balance_miss  \\\n",
       "1893            0              1   175920.48      1             0   \n",
       "7694            0              1   119247.61      0             1   \n",
       "4866            1              1   107792.71      1             0   \n",
       "7542            1              0   137718.93      0             1   \n",
       "5863            0              1   160327.77      1             0   \n",
       "5896            1              1   146427.96      0             1   \n",
       "1411            0              1   102771.55      1             0   \n",
       "8638            1              0   291619.27      0             1   \n",
       "9775            0              1    79963.59      0             0   \n",
       "8164            1              1    95144.63      1             0   \n",
       "4850            0              1   140675.66      1             0   \n",
       "5420            0              0   118465.34      0             1   \n",
       "3988            0              1   188856.75      1             0   \n",
       "9504            1              1   166845.37      0             1   \n",
       "2138            0              0   103867.47      0             0   \n",
       "904             0              0   217105.13      1             0   \n",
       "1608            1              1   112167.83      1             0   \n",
       "7487            1              1   148336.26      0             0   \n",
       "2276            1              1   148806.88      1             0   \n",
       "5569            1              0    46055.32      0             0   \n",
       "5369            1              1    88223.89      1             0   \n",
       "5557            0              1    71211.66      0             0   \n",
       "8364            1              0    28843.54      0             1   \n",
       "5252            0              0   118058.52      1             0   \n",
       "946             0              0   212316.47      1             0   \n",
       "8272            1              1    46147.06      0             0   \n",
       "2439            1              0   152393.79      1             0   \n",
       "9267            0              0   261904.44      0             1   \n",
       "690             1              1   143233.23      1             0   \n",
       "5705            1              0    83955.65      0             1   \n",
       "3274            1              1   150744.50      1             0   \n",
       "5197            1              1   120296.60      0             1   \n",
       "1080            0              1   291176.85      1             0   \n",
       "9363            1              0   118052.84      0             1   \n",
       "3936            1              0   151888.42      1             0   \n",
       "9508            0              0    64351.81      0             0   \n",
       "8733            1              0   121371.73      0             0   \n",
       "5629            1              1   113512.57      1             0   \n",
       "6786            1              1    97545.36      0             0   \n",
       "3564            1              1   105281.97      1             0   \n",
       "7271            1              0    32835.45      0             0   \n",
       "58              1              1   213586.86      1             0   \n",
       "9785            0              0   255296.47      0             0   \n",
       "5020            1              1   510577.10      1             0   \n",
       "790             0              1   358700.96      1             0   \n",
       "3039            0              0   129835.56      0             0   \n",
       "4587            0              1    20528.56      1             0   \n",
       "9653            1              0    71816.86      0             0   \n",
       "6756            0              1    45608.45      0             0   \n",
       "2941            1              0    70866.29      1             0   \n",
       "7753            1              1    77100.85      1             0   \n",
       "9970            1              0    81100.60      0             0   \n",
       "8705            1              1   124786.53      0             1   \n",
       "2989            1              1    97932.95      1             0   \n",
       "9146            1              0    54049.88      0             0   \n",
       "8584            0              1    66063.13      1             0   \n",
       "3106            0              0   180256.98      0             0   \n",
       "150             0              1    89401.82      1             0   \n",
       "5454            1              1   197600.97      1             0   \n",
       "6005            1              0    69622.58      0             0   \n",
       "1583            1              1   177700.78      0             1   \n",
       "231             0              1   131947.92      1             0   \n",
       "3859            1              1   119933.13      1             0   \n",
       "7931            1              1   880005.05      0             1   \n",
       "9659            1              1   100197.67      0             0   \n",
       "2226            0              0   270678.42      1             0   \n",
       "4870            1              1    96173.48      0             1   \n",
       "161             0              1   168189.49      1             0   \n",
       "8822            1              1   152189.72      0             1   \n",
       "2499            1              1   307234.69      1             0   \n",
       "9035            0              1    89323.33      1             0   \n",
       "9175            0              0   188054.46      0             0   \n",
       "1513            1              1   122505.86      1             0   \n",
       "2998            1              1    33491.45      0             0   \n",
       "5840            0              1   116500.81      0             0   \n",
       "1580            1              1   145510.08      1             0   \n",
       "3350            1              1    48638.00      1             0   \n",
       "5570            1              0    56971.91      0             0   \n",
       "7453            1              1   162999.17      1             0   \n",
       "8521            1              0   129015.25      0             0   \n",
       "869             1              1   955144.85      1             0   \n",
       "1837            0              0    90916.04      0             1   \n",
       "4986            0              1   207978.09      1             0   \n",
       "7814            1              0   138403.60      0             0   \n",
       "1359            0              1   187758.38      1             0   \n",
       "3817            1              1   244202.04      0             1   \n",
       "9880            1              0    53099.16      0             0   \n",
       "7055            0              0   231658.67      1             0   \n",
       "4611            0              1   133999.76      1             0   \n",
       "5807            1              0   120356.44      0             0   \n",
       "4186            1              1    81137.22      0             0   \n",
       "1970            1              1    41443.01      1             0   \n",
       "9406            1              1    49400.37      0             0   \n",
       "4623            0              1   116736.75      1             0   \n",
       "1740            1              1    76434.94      1             0   \n",
       "2302            1              0    95606.80      0             0   \n",
       "2597            0              0   934412.61      1             0   \n",
       "4216            1              0   138582.58      0             1   \n",
       "8205            1              0   102036.14      1             0   \n",
       "8497            1              0   103314.92      0             0   \n",
       "\n",
       "      city_dummies_Ростов  city_dummies_Рыбинск  city_dummies_Ярославль  \\\n",
       "1893                    0                     1                       0   \n",
       "7694                    0                     0                       1   \n",
       "4866                    0                     1                       0   \n",
       "7542                    0                     0                       1   \n",
       "5863                    0                     1                       0   \n",
       "5896                    0                     0                       1   \n",
       "1411                    0                     0                       1   \n",
       "8638                    0                     1                       0   \n",
       "9775                    0                     1                       0   \n",
       "8164                    0                     0                       1   \n",
       "4850                    0                     0                       1   \n",
       "5420                    0                     1                       0   \n",
       "3988                    0                     1                       0   \n",
       "9504                    0                     0                       1   \n",
       "2138                    0                     1                       0   \n",
       "904                     0                     0                       1   \n",
       "1608                    0                     0                       1   \n",
       "7487                    0                     1                       0   \n",
       "2276                    0                     0                       1   \n",
       "5569                    0                     1                       0   \n",
       "5369                    0                     1                       0   \n",
       "5557                    0                     0                       1   \n",
       "8364                    0                     1                       0   \n",
       "5252                    0                     0                       1   \n",
       "946                     0                     0                       1   \n",
       "8272                    0                     1                       0   \n",
       "2439                    0                     1                       0   \n",
       "9267                    0                     0                       1   \n",
       "690                     0                     1                       0   \n",
       "5705                    0                     0                       1   \n",
       "3274                    0                     0                       1   \n",
       "5197                    0                     1                       0   \n",
       "1080                    0                     0                       1   \n",
       "9363                    0                     1                       0   \n",
       "3936                    0                     0                       1   \n",
       "9508                    0                     1                       0   \n",
       "8733                    0                     0                       1   \n",
       "5629                    0                     1                       0   \n",
       "6786                    0                     0                       1   \n",
       "3564                    0                     1                       0   \n",
       "7271                    0                     1                       0   \n",
       "58                      0                     0                       1   \n",
       "9785                    0                     1                       0   \n",
       "5020                    0                     0                       1   \n",
       "790                     0                     0                       1   \n",
       "3039                    0                     1                       0   \n",
       "4587                    0                     1                       0   \n",
       "9653                    0                     0                       1   \n",
       "6756                    0                     1                       0   \n",
       "2941                    0                     0                       1   \n",
       "7753                    0                     0                       1   \n",
       "9970                    0                     1                       0   \n",
       "8705                    0                     1                       0   \n",
       "2989                    0                     0                       1   \n",
       "9146                    0                     1                       0   \n",
       "8584                    0                     0                       1   \n",
       "3106                    0                     0                       1   \n",
       "150                     0                     1                       0   \n",
       "5454                    0                     0                       1   \n",
       "6005                    0                     1                       0   \n",
       "1583                    0                     0                       1   \n",
       "231                     0                     1                       0   \n",
       "3859                    0                     1                       0   \n",
       "7931                    0                     0                       1   \n",
       "9659                    0                     1                       0   \n",
       "2226                    0                     0                       1   \n",
       "4870                    0                     0                       1   \n",
       "161                     0                     1                       0   \n",
       "8822                    0                     1                       0   \n",
       "2499                    0                     0                       1   \n",
       "9035                    0                     1                       0   \n",
       "9175                    0                     0                       1   \n",
       "1513                    0                     0                       1   \n",
       "2998                    0                     1                       0   \n",
       "5840                    0                     0                       1   \n",
       "1580                    0                     1                       0   \n",
       "3350                    0                     1                       0   \n",
       "5570                    0                     0                       1   \n",
       "7453                    0                     0                       1   \n",
       "8521                    0                     1                       0   \n",
       "869                     0                     0                       1   \n",
       "1837                    0                     1                       0   \n",
       "4986                    0                     1                       0   \n",
       "7814                    0                     0                       1   \n",
       "1359                    0                     0                       1   \n",
       "3817                    0                     1                       0   \n",
       "9880                    0                     0                       1   \n",
       "7055                    0                     1                       0   \n",
       "4611                    0                     1                       0   \n",
       "5807                    0                     0                       1   \n",
       "4186                    0                     1                       0   \n",
       "1970                    0                     0                       1   \n",
       "9406                    0                     1                       0   \n",
       "4623                    0                     0                       1   \n",
       "1740                    0                     0                       1   \n",
       "2302                    0                     1                       0   \n",
       "2597                    0                     0                       1   \n",
       "4216                    0                     1                       0   \n",
       "8205                    0                     1                       0   \n",
       "8497                    0                     0                       1   \n",
       "\n",
       "      gender_dummies_Ж  gender_dummies_М  \n",
       "1893                 1                 0  \n",
       "7694                 1                 0  \n",
       "4866                 1                 0  \n",
       "7542                 1                 0  \n",
       "5863                 1                 0  \n",
       "5896                 0                 1  \n",
       "1411                 1                 0  \n",
       "8638                 0                 1  \n",
       "9775                 1                 0  \n",
       "8164                 1                 0  \n",
       "4850                 1                 0  \n",
       "5420                 1                 0  \n",
       "3988                 0                 1  \n",
       "9504                 0                 1  \n",
       "2138                 1                 0  \n",
       "904                  0                 1  \n",
       "1608                 0                 1  \n",
       "7487                 1                 0  \n",
       "2276                 0                 1  \n",
       "5569                 1                 0  \n",
       "5369                 1                 0  \n",
       "5557                 1                 0  \n",
       "8364                 1                 0  \n",
       "5252                 0                 1  \n",
       "946                  0                 1  \n",
       "8272                 1                 0  \n",
       "2439                 1                 0  \n",
       "9267                 0                 1  \n",
       "690                  1                 0  \n",
       "5705                 1                 0  \n",
       "3274                 0                 1  \n",
       "5197                 0                 1  \n",
       "1080                 0                 1  \n",
       "9363                 1                 0  \n",
       "3936                 0                 1  \n",
       "9508                 1                 0  \n",
       "8733                 0                 1  \n",
       "5629                 0                 1  \n",
       "6786                 1                 0  \n",
       "3564                 0                 1  \n",
       "7271                 1                 0  \n",
       "58                   0                 1  \n",
       "9785                 0                 1  \n",
       "5020                 1                 0  \n",
       "790                  0                 1  \n",
       "3039                 1                 0  \n",
       "4587                 1                 0  \n",
       "9653                 0                 1  \n",
       "6756                 1                 0  \n",
       "2941                 1                 0  \n",
       "7753                 1                 0  \n",
       "9970                 0                 1  \n",
       "8705                 0                 1  \n",
       "2989                 1                 0  \n",
       "9146                 1                 0  \n",
       "8584                 0                 1  \n",
       "3106                 1                 0  \n",
       "150                  0                 1  \n",
       "5454                 0                 1  \n",
       "6005                 1                 0  \n",
       "1583                 0                 1  \n",
       "231                  0                 1  \n",
       "3859                 0                 1  \n",
       "7931                 0                 1  \n",
       "9659                 1                 0  \n",
       "2226                 0                 1  \n",
       "4870                 0                 1  \n",
       "161                  1                 0  \n",
       "8822                 1                 0  \n",
       "2499                 0                 1  \n",
       "9035                 0                 1  \n",
       "9175                 0                 1  \n",
       "1513                 0                 1  \n",
       "2998                 1                 0  \n",
       "5840                 0                 1  \n",
       "1580                 1                 0  \n",
       "3350                 0                 1  \n",
       "5570                 0                 1  \n",
       "7453                 1                 0  \n",
       "8521                 0                 1  \n",
       "869                  1                 0  \n",
       "1837                 1                 0  \n",
       "4986                 0                 1  \n",
       "7814                 0                 1  \n",
       "1359                 0                 1  \n",
       "3817                 1                 0  \n",
       "9880                 1                 0  \n",
       "7055                 0                 1  \n",
       "4611                 1                 0  \n",
       "5807                 0                 1  \n",
       "4186                 1                 0  \n",
       "1970                 0                 1  \n",
       "9406                 1                 0  \n",
       "4623                 0                 1  \n",
       "1740                 1                 0  \n",
       "2302                 1                 0  \n",
       "2597                 0                 1  \n",
       "4216                 1                 0  \n",
       "8205                 0                 1  \n",
       "8497                 0                 1  "
      ]
     },
     "execution_count": 22,
     "metadata": {},
     "output_type": "execute_result"
    }
   ],
   "source": [
    "double = data[data['user_id'].duplicated(keep=False)].sort_values(by='user_id')\n",
    "pd.set_option('display.max_rows', None)\n",
    "double"
   ]
  },
  {
   "cell_type": "markdown",
   "metadata": {},
   "source": [
    "Судя по данным, одинаковый айдишник был присвоен разным клиентам и по технической ошибке. Оставим данные как есть"
   ]
  },
  {
   "cell_type": "markdown",
   "metadata": {},
   "source": [
    "**Вывод по предобработке данных:**\n",
    "- названия колонок были приведены к нижнему регистру и змеиному стилю;\n",
    "- были удалены пропуски в столбце 'age', 23% пропусков типа MNAR в столбце balance остались нетронутыми;\n",
    "- явных дубликатов найдено не было;\n",
    "- неявные дубликаты были обнаружены в столбце 'user_id'. Оставили их, так как они появились по технической ошибке."
   ]
  },
  {
   "cell_type": "markdown",
   "metadata": {},
   "source": [
    "**3 Шаг. Исследовательский анализ (EDA)**"
   ]
  },
  {
   "cell_type": "markdown",
   "metadata": {},
   "source": [
    "**3.1 Анализ непрервных признаков**"
   ]
  },
  {
   "cell_type": "code",
   "execution_count": 23,
   "metadata": {},
   "outputs": [
    {
     "data": {
      "image/png": "[encoded data removed]",
      "text/plain": [
       "<Figure size 720x360 with 1 Axes>"
      ]
     },
     "metadata": {
      "needs_background": "light"
     },
     "output_type": "display_data"
    },
    {
     "data": {
      "image/png": "[encoded data removed]",
      "text/plain": [
       "<Figure size 720x360 with 1 Axes>"
      ]
     },
     "metadata": {
      "needs_background": "light"
     },
     "output_type": "display_data"
    },
    {
     "data": {
      "image/png": "[encoded data removed]",
      "text/plain": [
       "<Figure size 720x360 with 1 Axes>"
      ]
     },
     "metadata": {
      "needs_background": "light"
     },
     "output_type": "display_data"
    },
    {
     "data": {
      "image/png": "[encoded data removed]",
      "text/plain": [
       "<Figure size 720x360 with 1 Axes>"
      ]
     },
     "metadata": {
      "needs_background": "light"
     },
     "output_type": "display_data"
    }
   ],
   "source": [
    "continuous_index = ['score', 'age', 'balance', 'est_salary']\n",
    "\n",
    "for index in continuous_index:\n",
    "    plt.figure(figsize=(10, 5))\n",
    "    sns.histplot(data, x=index, hue=\"churn\", stat=\"density\", common_norm=False, kde=True, bins=50, element=\"step\", fill=True)\n",
    "    plt.title(f'Распределение {index} по Churn')\n",
    "    plt.legend(['Отток', 'Нет оттока'])\n",
    "    plt.ylabel('Плотность')\n",
    "    \n",
    "    if index == 'balance':\n",
    "        plt.xlim(0, 10000000)\n",
    "    elif index == 'est_salary':\n",
    "        plt.xlim(0, 500000)\n",
    "        \n",
    "    plt.tight_layout()\n",
    "    plt.show()"
   ]
  },
  {
   "cell_type": "markdown",
   "metadata": {},
   "source": [
    "- По score видим сильный отток клиентов в диапазоне от 850 до 950;\n",
    "- Клиенты в возрасте от 25 до 35 и от 50 до 60 лет уходят больше остальных;\n",
    "- Есть отток клиентов банка с балансом на счете от 1млн;\n",
    "- Наблюдается отток людей с est_salary от 100 до 230 тысяч рублей."
   ]
  },
  {
   "cell_type": "markdown",
   "metadata": {},
   "source": [
    "**3.2 Анализ категориальных признаков**"
   ]
  },
  {
   "cell_type": "code",
   "execution_count": 24,
   "metadata": {},
   "outputs": [],
   "source": [
    "categorical_index = ['city', 'gender', 'equity', 'products', 'credit_card', 'last_activity']"
   ]
  },
  {
   "cell_type": "code",
   "execution_count": 25,
   "metadata": {},
   "outputs": [],
   "source": [
    "churn_mean = data['churn'].mean()"
   ]
  },
  {
   "cell_type": "code",
   "execution_count": 26,
   "metadata": {
    "scrolled": false
   },
   "outputs": [
    {
     "data": {
      "image/png": "[encoded data removed]",
      "text/plain": [
       "<Figure size 720x360 with 1 Axes>"
      ]
     },
     "metadata": {
      "needs_background": "light"
     },
     "output_type": "display_data"
    },
    {
     "data": {
      "image/png": "[encoded data removed]",
      "text/plain": [
       "<Figure size 720x360 with 1 Axes>"
      ]
     },
     "metadata": {
      "needs_background": "light"
     },
     "output_type": "display_data"
    },
    {
     "data": {
      "image/png": "[encoded data removed]",
      "text/plain": [
       "<Figure size 720x360 with 1 Axes>"
      ]
     },
     "metadata": {
      "needs_background": "light"
     },
     "output_type": "display_data"
    },
    {
     "data": {
      "image/png": "[encoded data removed]",
      "text/plain": [
       "<Figure size 720x360 with 1 Axes>"
      ]
     },
     "metadata": {
      "needs_background": "light"
     },
     "output_type": "display_data"
    },
    {
     "data": {
      "image/png": "[encoded data removed]",
      "text/plain": [
       "<Figure size 720x360 with 1 Axes>"
      ]
     },
     "metadata": {
      "needs_background": "light"
     },
     "output_type": "display_data"
    },
    {
     "data": {
      "image/png": "[encoded data removed]",
      "text/plain": [
       "<Figure size 720x360 with 1 Axes>"
      ]
     },
     "metadata": {
      "needs_background": "light"
     },
     "output_type": "display_data"
    }
   ],
   "source": [
    "for index in categorical_index:\n",
    "    plt.figure(figsize=(10, 5))\n",
    "    \n",
    "    \n",
    "    sns.barplot(x=index, y=data['churn'], data=data)\n",
    "    plt.title(f'Степень оттока по признаку {index}')\n",
    "    plt.axhline(y=churn_mean, color='black', linestyle='--', label=f'Степень оттока: {churn_mean:.2f}')\n",
    "    plt.legend()\n",
    "    \n",
    "    \n",
    "    plt.tight_layout()\n",
    "    plt.show()"
   ]
  },
  {
   "cell_type": "markdown",
   "metadata": {},
   "source": [
    "- В Ярославле и Ростове уровень оттока выше среднего;\n",
    "- Мужчины гораздо больше уходят в отток, чем женщины;\n",
    "- Чем больше баллов собственности, тем выше вероятность ухода;\n",
    "- Клиенты с двумя и более продуктами перестают сотрудничать с банком. Products = 0 означает, что у человека нет ни одного продукта, следовательно он не может являться клиентом банка, скорее всего это аномальные значения, которые лучше удалим.\n",
    "- Люди с кредитами реже покидают АКБ;\n",
    "- Активные клиенты больше других перестают пользоваться услугами банка."
   ]
  },
  {
   "cell_type": "markdown",
   "metadata": {},
   "source": [
    "**3.3 Коррелляционный анализ**"
   ]
  },
  {
   "cell_type": "code",
   "execution_count": 27,
   "metadata": {},
   "outputs": [],
   "source": [
    "#удалим аномальные значения products = 0\n",
    "data = data[data['products'] != 0]"
   ]
  },
  {
   "cell_type": "code",
   "execution_count": 28,
   "metadata": {},
   "outputs": [],
   "source": [
    "phik_corr = data.loc[:, ~data.columns.isin(\n",
    "    ['user_id', 'balance_miss'])].phik_matrix(interval_cols=continuous_index)\n",
    "phik_churn = phik_corr['churn'].sort_values(ascending=False).reset_index()"
   ]
  },
  {
   "cell_type": "code",
   "execution_count": 29,
   "metadata": {},
   "outputs": [
    {
     "data": {
      "image/png": "[encoded data removed]",
      "text/plain": [
       "<Figure size 1152x432 with 2 Axes>"
      ]
     },
     "metadata": {
      "needs_background": "light"
     },
     "output_type": "display_data"
    }
   ],
   "source": [
    "plt.figure(figsize=(16, 6))\n",
    "sns.heatmap(phik_corr, annot=True, cmap='coolwarm')\n",
    "plt.title('Корреляция методом Phik')\n",
    "plt.show()"
   ]
  },
  {
   "cell_type": "markdown",
   "metadata": {},
   "source": [
    "Явная положительная зависимоть наблюдается между:\n",
    "- equity и score - (0.53);\n",
    "- products и score (0.31);\n",
    "- equity и products (0.44);\n",
    "- equity и churn (0.35);\n",
    "- products и credit_card (0.46);\n",
    "- est_salary  и age (0.36);\n",
    "- est_salary и balance (0.37);\n",
    "- est_salary и score (0.39).\n",
    "\n"
   ]
  },
  {
   "cell_type": "code",
   "execution_count": 30,
   "metadata": {},
   "outputs": [
    {
     "data": {
      "image/png": "[encoded data removed]",
      "text/plain": [
       "<Figure size 864x432 with 1 Axes>"
      ]
     },
     "metadata": {
      "needs_background": "light"
     },
     "output_type": "display_data"
    }
   ],
   "source": [
    "churn_features = phik_churn['index']\n",
    "correlations = phik_churn['churn']\n",
    "\n",
    "plt.figure(figsize=(12, 6))\n",
    "plt.barh(churn_features, correlations)\n",
    "plt.title('Корреляция признаков с оттоком')\n",
    "plt.xlim(0, 0.5)\n",
    "plt.gca().invert_yaxis()\n",
    "plt.grid(True, axis='x', linestyle='--', alpha=0.6)\n",
    "\n",
    "plt.ylabel('Признаки')\n",
    "plt.xlabel('Корреляция с оттоком')\n",
    "plt.show()"
   ]
  },
  {
   "cell_type": "markdown",
   "metadata": {},
   "source": [
    "Больше остальных с оттоком корреллируют Products, equity и last_activity. Судя по этому, можем сказать, что клиенты с большим количеством продуктов, активные клиенты и те, у кого высокий капитал, более склонны к покинуть банк."
   ]
  },
  {
   "cell_type": "markdown",
   "metadata": {},
   "source": [
    "**Вывод по EDA:**\n",
    "\n",
    "**Анализ непрервных признаков:**\n",
    "- По score видим сильный отток клиентов в диапазоне от 850 до 950;\n",
    "- Клиенты в возрасте от 25 до 35 и от 50 до 60 лет уходят больше остальных;\n",
    "- Есть отток клиентов банка с балансом на счете от 1млн;\n",
    "- Наблюдается отток людей с est_salary от 100 до 230 тысяч рублей.\n",
    "\n",
    "**Анализ категориальных признаков:**\n",
    "- В Ярославле и Ростове уровень оттока выше среднего;\n",
    "- Мужчины гораздо больше уходят в отток, чем женщины;\n",
    "- Чем больше баллов собственности, тем выше вероятность ухода;\n",
    "- Клиенты с двумя и более продуктами перестают сотрудничать с банком. Products = 0 означает, что у человека нет ни одного продукта, следовательно он не может являться клиентом банка;\n",
    "- Люди с кредитами реже покидают АКБ;\n",
    "- Активные клиенты больше других перестают пользоваться услугами банка.\n",
    "\n",
    "**Корреляционный анализ:**\n",
    "Больше остальных с оттоком корреллируют Products, equity и last_activity. Судя по этому, можем сказать, что клиенты с большим количеством продуктов, активные клиенты и те, у кого высокий капитал, более склонны покинуть банк."
   ]
  },
  {
   "cell_type": "markdown",
   "metadata": {},
   "source": [
    "**Шаг 4. Проверка статистических гипотез**"
   ]
  },
  {
   "cell_type": "markdown",
   "metadata": {},
   "source": [
    "\n",
    "- **Гипотеза 1:** Клиенты с количеством продуктов больше двух имеют более высокий уровень оттока, чем клиенты с двумя или менее продуктами.\n",
    "- **Гипотеза 2:** Гипотеза о разнице доходов"
   ]
  },
  {
   "cell_type": "markdown",
   "metadata": {},
   "source": [
    "**Гипотеза 1:** Клиенты с количеством продуктов больше двух имеют более высокий уровень оттока, чем клиенты с двумя или менее продуктами."
   ]
  },
  {
   "cell_type": "markdown",
   "metadata": {},
   "source": [
    "- Нулевая гипотеза (H0): Уровень оттока среди клиентов с количеством продуктов больше двух не отличается от уровня оттока среди клиентов с двумя или менее продуктами.\n",
    "- Альтернативная гипотеза (H1): Уровень оттока среди клиентов с количеством продуктов больше двух выше, чем среди клиентов с двумя или менее продуктами."
   ]
  },
  {
   "cell_type": "markdown",
   "metadata": {},
   "source": [
    "Проверим гипотезу при помощи Z-теста (он подходит для сравнения долей), так как у нас есть бинарные переменные (наличие/отсутствие оттока) и большое количество наблюдений (почти 10000 записей), что делает выбор Z-теста оправданным. Z-тест подходит для сравнения пропорций в двух независимых группах, что соответствует нашей задаче.\n",
    "\n",
    "Проверка требований для Z-теста:\n",
    "\n",
    "- Независимость наблюдений: Каждая запись в датафрейме представляет отдельного клиента, и данные по клиентам собраны независимо друг от друга.\n",
    "\n",
    "- Бинарная зависимая переменная: Переменная churn является бинарной (1 — клиент ушел, 0 — клиент остался), что соответствует требованиям Z-теста.\n",
    "\n",
    "- Достаточный размер выборки: почти 10000 наблюдений, что достаточно для проведения Z-теста."
   ]
  },
  {
   "cell_type": "code",
   "execution_count": 31,
   "metadata": {},
   "outputs": [
    {
     "name": "stdout",
     "output_type": "stream",
     "text": [
      "Z-результат: 23.44866387572011\n",
      "p-значение: 1.3640552852316126e-121\n"
     ]
    }
   ],
   "source": [
    "products_more_two = data['products'] > 2\n",
    "products_churn_count = data[products_more_two]['churn'].sum()\n",
    "products_total_count = products_more_two.sum()\n",
    "\n",
    "other_products_churn_count = data[~products_more_two]['churn'].sum()\n",
    "other_products_total_count = (~products_more_two).sum()\n",
    "\n",
    "stat_products, p_value_products = proportions_ztest([products_churn_count, other_products_churn_count], \n",
    "                                                    [products_total_count, other_products_total_count])\n",
    "\n",
    "print('Z-результат:',stat_products) \n",
    "print('p-значение:',p_value_products)"
   ]
  },
  {
   "cell_type": "markdown",
   "metadata": {},
   "source": [
    "Отвергаем нулевую гипотезу: клиенты с количеством продуктов больше двух имеют значительно более высокий уровень оттока, чем клиенты с двумя или менее продуктами."
   ]
  },
  {
   "cell_type": "markdown",
   "metadata": {},
   "source": [
    "**Гипотеза 2:** Гипотеза о разнице доходов"
   ]
  },
  {
   "cell_type": "markdown",
   "metadata": {},
   "source": [
    "- Нулевая гипотеза (H0): средние доходы оставшихся и отточных клиентов равны.\n",
    "- Альтернативная гипотеза (H1): средние доходы оставшихся и отточных клиентов различаются."
   ]
  },
  {
   "cell_type": "markdown",
   "metadata": {},
   "source": [
    "Для проверки этой гипотезы будем использовать t-тест для независимых выборок. Этот тест проверяет, существует ли статистически значимая разница между средними значениями двух групп."
   ]
  },
  {
   "cell_type": "code",
   "execution_count": 32,
   "metadata": {},
   "outputs": [
    {
     "name": "stdout",
     "output_type": "stream",
     "text": [
      "t-тест:-0.20769603970877717\n",
      "p_value:0.8354803526840116\n"
     ]
    }
   ],
   "source": [
    "remaining_customers = data[data['churn'] == 0]['est_salary']\n",
    "churned_customers = data[data['churn'] == 1]['est_salary']\n",
    "\n",
    "\n",
    "t_stat, p_value = ttest_ind(remaining_customers, churned_customers, equal_var=False)\n",
    "\n",
    "print(f't-тест:{t_stat}')\n",
    "print(f'p_value:{p_value}')"
   ]
  },
  {
   "cell_type": "markdown",
   "metadata": {},
   "source": [
    "Не получилось отвергнуть нулевую гипотезу, так как p-значение (0.85) значительно выше стандартного уровня значимости. Статистически значимая разница между средними доходами оставшихся и ушедших клиентов отсутствует."
   ]
  },
  {
   "cell_type": "markdown",
   "metadata": {},
   "source": [
    "**Шаг 5. Подведение промежуточных итогов - выводы по результатам EDA, корреляционного анализа и гипотез, выделение признаков, влияющих на оттток.**"
   ]
  },
  {
   "cell_type": "markdown",
   "metadata": {},
   "source": [
    "- Город: клиенты, проживающие в Ярославле и Ростове, имеют более высокий уровень оттока по сравнению Рыбинском.\n",
    "- Пол: мужчины чаще уходят в отток, чем женщины.\n",
    "- Возраст: клиенты в возрасте от 25 до 35 лет и от 50 до 60 лет показывают более высокий уровень оттока. \n",
    "- Баллы собственности и баланс на счете: клиенты с высокими баллами собственности и с балансом на счетах более 1 миллиона рублей подвержены риску оттока, вероятно, из-за того, что они более чувствительны к условиям обслуживания и предложениям других банков.\n",
    "- Активные клиенты: активные клиенты, которые часто пользуются услугами банка, больше всего подвержены оттоку."
   ]
  },
  {
   "cell_type": "markdown",
   "metadata": {},
   "source": [
    "**Шаг 6. Сегментация**"
   ]
  },
  {
   "cell_type": "markdown",
   "metadata": {},
   "source": [
    "**Сегмент 1: Клиенты с высоким доходом и балансом**\n",
    "\n",
    "- Зарплата: от 100 до 230 тысяч рублей.\n",
    "- Баланс: более 1 миллиона рублей."
   ]
  },
  {
   "cell_type": "code",
   "execution_count": 33,
   "metadata": {},
   "outputs": [
    {
     "name": "stdout",
     "output_type": "stream",
     "text": [
      "Количество клиентов в сегменте: 1068\n",
      "Средний уровень оттока: 43.35\n",
      "Количество отточных клиентов: 463\n"
     ]
    }
   ],
   "source": [
    "seg_one = data.query(\"est_salary >= 100000 and est_salary <= 230000 and balance >= 1000000\")\n",
    "print('Количество клиентов в сегменте:', seg_one['churn'].count())\n",
    "print('Средний уровень оттока:', round(seg_one['churn'].mean() * 100, 2))\n",
    "print(f\"Количество отточных клиентов: {seg_one[seg_one['churn'] == 1]['churn'].count()}\")"
   ]
  },
  {
   "cell_type": "markdown",
   "metadata": {},
   "source": [
    "**Сегмент 2: Активные клиенты с тремя и более продуктами**\n",
    "\n",
    "- Количество продуктов: больше двух.\n",
    "- Есть недавняя активность.\n",
    "- Баллы собственности : больше трех."
   ]
  },
  {
   "cell_type": "code",
   "execution_count": 34,
   "metadata": {},
   "outputs": [
    {
     "name": "stdout",
     "output_type": "stream",
     "text": [
      "Количество клиентов в сегменте: 532\n",
      "Средний уровень оттока: 52.44\n",
      "Количество отточных клиентов: 279\n"
     ]
    }
   ],
   "source": [
    "seg_two = data.query(\"products > 2 and last_activity == 1 and equity > 3\")\n",
    "print('Количество клиентов в сегменте:', seg_two['churn'].count())\n",
    "print('Средний уровень оттока:', round(seg_two['churn'].mean() * 100, 2))\n",
    "print(f\"Количество отточных клиентов: {seg_two[seg_two['churn'] == 1]['churn'].count()}\")"
   ]
  },
  {
   "cell_type": "markdown",
   "metadata": {},
   "source": [
    "**Сегмент 3: Мужчины без кредитной карты из проблемных регионов**\n",
    "\n",
    "- Пол: мужской.\n",
    "- Отсутствие кредитной карты.\n",
    "- Местоположение: Ярославль или Ростов."
   ]
  },
  {
   "cell_type": "code",
   "execution_count": 35,
   "metadata": {
    "scrolled": false
   },
   "outputs": [
    {
     "name": "stdout",
     "output_type": "stream",
     "text": [
      "Количество клиентов в сегменте: 890\n",
      "Средний уровень оттока: 37.3\n",
      "Количество отточных клиентов: 332\n"
     ]
    }
   ],
   "source": [
    "seg_three_city = ['Ярославль', 'Ростов']\n",
    "seg_three = data.query(\"credit_card == 0 and gender == 'М' and city in @seg_three_city\")\n",
    "print('Количество клиентов в сегменте:', seg_three['churn'].count())\n",
    "print('Средний уровень оттока:', round(seg_three['churn'].mean() * 100, 2))\n",
    "print(f\"Количество отточных клиентов: {seg_three[seg_three['churn'] == 1]['churn'].count()}\")"
   ]
  },
  {
   "cell_type": "markdown",
   "metadata": {},
   "source": [
    "**Шаг 7. Приоритизация сегментов**"
   ]
  },
  {
   "cell_type": "markdown",
   "metadata": {},
   "source": [
    "Приотизируем сегменты по мере убывания отточных клиентов\n",
    "\n",
    "- Сегмент 1 - 463\n",
    "- Сегмент 3 - 332\n",
    "- Сегмент 2 - 279"
   ]
  },
  {
   "cell_type": "markdown",
   "metadata": {},
   "source": [
    "**Шаг 8. Формирование рекомендаций**"
   ]
  },
  {
   "cell_type": "markdown",
   "metadata": {},
   "source": [
    "**Сегмент 1: Клиенты с высоким доходом и балансом:**\n",
    "\n",
    "- Создать специальную программу VIP-обслуживания для клиентов с высоким балансом и доходом. Например туда могут входить помощь в инвестициях и управлении накоплениями.\n",
    "- Своевременно уведомлять таких клиентов о доступных новых инвестиционных возможностях или финансовых продуктах, которые могут быть интересны, учитывая баланс и доход. \n",
    "\n",
    "**Сегмент 2: Активные клиенты с тремя и более продуктами:**\n",
    "\n",
    "- Оптимизация портфеля продуктов: предоставить персонализированные рекомендации по оптимизации использования текущих продуктов на основе анализа их активности. Это может включать переход на более выгодные тарифные планы или отказу от уже неактуальных продуктов.\n",
    "\n",
    "- Внедрить элементы игровых заданий, связанных с использованием банковских продуктов. Например, предлагать клиентам выполнять определенные \"челленджи\" с наградами в виде бонусов или скидок. Это поддержит вовлеченность и укрепит связь клиента с банком.\n",
    "\n",
    "- Использовать микро-аналитику для прогнозирования потребностей клиента в новых продуктах. Например, если клиент часто использует определенные услуги, предложить дополнительные продукты, которые могут дополнить их текущее использование. Это также может включать \"сюрпризы\" на основе анализа привычек — например, бонусы за активное использование конкретного продукта.\n",
    "\n",
    "**Сегмент 3: Мужчины без кредитной карты из проблемных регионов:**\n",
    "\n",
    "- В рамках кампании по удержанию предложить клиентам, закрывшим кредитные карты, программы \"возвращения\", включающие специальные бонусы при повторном открытии карты (например, увеличенные лимиты или льготные периоды). Уведомлять мужчин из Ярославля и Ростова о таких акциях через рассылку\n",
    "\n",
    "- Для клиентов без кредитной карты предложить программы компенсации в виде скидок на определенные продукты или услуги при оформлении карты. Важно также акцентировать внимание на том, как наличие карты может улучшить их финансовое состояние и предложить дополнительный финансовый продукт (например, кешбэк на покупки, страховые программы), который повысит их заинтересованность в кредитной карте."
   ]
  },
  {
   "cell_type": "markdown",
   "metadata": {},
   "source": [
    "Ссылка на презентацию : https://disk.yandex.ru/i/A7iL6cuanl8sDw"
   ]
  }
 ],
 "metadata": {
  "ExecuteTimeLog": [
   {
    "duration": 1412,
    "start_time": "2024-09-11T06:16:37.274Z"
   },
   {
    "duration": 108,
    "start_time": "2024-09-11T06:56:41.588Z"
   },
   {
    "duration": 25,
    "start_time": "2024-09-11T06:56:51.946Z"
   },
   {
    "duration": 20,
    "start_time": "2024-09-11T07:03:35.463Z"
   },
   {
    "duration": 1149,
    "start_time": "2024-09-11T07:14:34.243Z"
   },
   {
    "duration": 57,
    "start_time": "2024-09-11T07:14:35.395Z"
   },
   {
    "duration": 24,
    "start_time": "2024-09-11T07:14:35.455Z"
   },
   {
    "duration": 14,
    "start_time": "2024-09-11T07:14:35.481Z"
   },
   {
    "duration": 104,
    "start_time": "2024-09-11T07:14:54.183Z"
   },
   {
    "duration": 6,
    "start_time": "2024-09-11T07:37:07.315Z"
   },
   {
    "duration": 5,
    "start_time": "2024-09-11T07:37:12.718Z"
   },
   {
    "duration": 7,
    "start_time": "2024-09-11T07:37:58.438Z"
   },
   {
    "duration": 17,
    "start_time": "2024-09-11T07:38:10.738Z"
   },
   {
    "duration": 13,
    "start_time": "2024-09-11T07:38:21.155Z"
   },
   {
    "duration": 3,
    "start_time": "2024-09-11T08:14:26.147Z"
   },
   {
    "duration": 4,
    "start_time": "2024-09-11T08:14:32.497Z"
   },
   {
    "duration": 3,
    "start_time": "2024-09-11T08:14:56.597Z"
   },
   {
    "duration": 59,
    "start_time": "2024-09-11T08:17:29.979Z"
   },
   {
    "duration": 4,
    "start_time": "2024-09-11T09:03:16.866Z"
   },
   {
    "duration": 4,
    "start_time": "2024-09-11T09:03:23.686Z"
   },
   {
    "duration": 15,
    "start_time": "2024-09-11T09:03:33.022Z"
   },
   {
    "duration": 12,
    "start_time": "2024-09-11T09:24:41.422Z"
   },
   {
    "duration": 9,
    "start_time": "2024-09-11T09:33:03.593Z"
   },
   {
    "duration": 8,
    "start_time": "2024-09-11T09:34:54.087Z"
   },
   {
    "duration": 7,
    "start_time": "2024-09-11T09:37:01.983Z"
   },
   {
    "duration": 7,
    "start_time": "2024-09-11T09:43:26.576Z"
   },
   {
    "duration": 6,
    "start_time": "2024-09-11T09:43:56.406Z"
   },
   {
    "duration": 5,
    "start_time": "2024-09-11T09:44:03.275Z"
   },
   {
    "duration": 8,
    "start_time": "2024-09-11T09:44:12.956Z"
   },
   {
    "duration": 6,
    "start_time": "2024-09-11T09:44:25.074Z"
   },
   {
    "duration": 8,
    "start_time": "2024-09-11T09:58:01.069Z"
   },
   {
    "duration": 15,
    "start_time": "2024-09-11T09:58:04.952Z"
   },
   {
    "duration": 14,
    "start_time": "2024-09-11T09:59:52.779Z"
   },
   {
    "duration": 7,
    "start_time": "2024-09-11T10:34:36.607Z"
   },
   {
    "duration": 7,
    "start_time": "2024-09-11T10:34:52.439Z"
   },
   {
    "duration": 12,
    "start_time": "2024-09-11T10:44:28.942Z"
   },
   {
    "duration": 12,
    "start_time": "2024-09-11T10:44:34.199Z"
   },
   {
    "duration": 19,
    "start_time": "2024-09-11T11:25:20.930Z"
   },
   {
    "duration": 20,
    "start_time": "2024-09-11T11:27:35.617Z"
   },
   {
    "duration": 1000,
    "start_time": "2024-09-11T11:28:36.061Z"
   },
   {
    "duration": 18,
    "start_time": "2024-09-11T11:32:50.761Z"
   },
   {
    "duration": 17,
    "start_time": "2024-09-11T11:33:29.398Z"
   },
   {
    "duration": 21,
    "start_time": "2024-09-11T11:36:12.421Z"
   },
   {
    "duration": 51,
    "start_time": "2024-09-11T11:51:35.119Z"
   },
   {
    "duration": 36,
    "start_time": "2024-09-11T11:51:58.577Z"
   },
   {
    "duration": 1270,
    "start_time": "2024-09-11T11:52:20.648Z"
   },
   {
    "duration": 47,
    "start_time": "2024-09-11T11:52:21.921Z"
   },
   {
    "duration": 19,
    "start_time": "2024-09-11T11:52:21.970Z"
   },
   {
    "duration": 13,
    "start_time": "2024-09-11T11:52:21.992Z"
   },
   {
    "duration": 15,
    "start_time": "2024-09-11T11:52:22.007Z"
   },
   {
    "duration": 39,
    "start_time": "2024-09-11T11:52:22.024Z"
   },
   {
    "duration": 28,
    "start_time": "2024-09-11T11:52:22.065Z"
   },
   {
    "duration": 9,
    "start_time": "2024-09-11T11:52:22.095Z"
   },
   {
    "duration": 61,
    "start_time": "2024-09-11T11:52:22.106Z"
   },
   {
    "duration": 6,
    "start_time": "2024-09-11T11:52:22.170Z"
   },
   {
    "duration": 163,
    "start_time": "2024-09-11T11:52:22.178Z"
   },
   {
    "duration": 18,
    "start_time": "2024-09-11T11:52:31.562Z"
   },
   {
    "duration": 5,
    "start_time": "2024-09-11T13:09:56.001Z"
   },
   {
    "duration": 16,
    "start_time": "2024-09-11T13:10:28.461Z"
   },
   {
    "duration": 4,
    "start_time": "2024-09-11T13:12:12.134Z"
   },
   {
    "duration": 13,
    "start_time": "2024-09-11T13:12:15.895Z"
   },
   {
    "duration": 1429,
    "start_time": "2024-09-12T05:46:37.078Z"
   },
   {
    "duration": 153,
    "start_time": "2024-09-12T05:46:38.509Z"
   },
   {
    "duration": 29,
    "start_time": "2024-09-12T05:46:38.664Z"
   },
   {
    "duration": 13,
    "start_time": "2024-09-12T05:46:38.695Z"
   },
   {
    "duration": 9,
    "start_time": "2024-09-12T05:46:38.710Z"
   },
   {
    "duration": 5,
    "start_time": "2024-09-12T05:46:38.721Z"
   },
   {
    "duration": 6,
    "start_time": "2024-09-12T05:46:38.727Z"
   },
   {
    "duration": 7,
    "start_time": "2024-09-12T05:46:38.735Z"
   },
   {
    "duration": 80,
    "start_time": "2024-09-12T05:46:38.744Z"
   },
   {
    "duration": 6,
    "start_time": "2024-09-12T05:46:38.826Z"
   },
   {
    "duration": 40,
    "start_time": "2024-09-12T05:46:38.834Z"
   },
   {
    "duration": 16,
    "start_time": "2024-09-12T05:46:38.879Z"
   },
   {
    "duration": 14,
    "start_time": "2024-09-12T05:46:38.897Z"
   },
   {
    "duration": 135,
    "start_time": "2024-09-12T07:02:42.310Z"
   },
   {
    "duration": 23,
    "start_time": "2024-09-12T07:02:48.652Z"
   },
   {
    "duration": 25,
    "start_time": "2024-09-12T07:02:59.362Z"
   },
   {
    "duration": 2179,
    "start_time": "2024-09-12T07:50:11.453Z"
   },
   {
    "duration": 15,
    "start_time": "2024-09-12T07:50:27.845Z"
   },
   {
    "duration": 1113,
    "start_time": "2024-09-12T07:51:04.301Z"
   },
   {
    "duration": 12,
    "start_time": "2024-09-12T07:51:13.113Z"
   },
   {
    "duration": 1184,
    "start_time": "2024-09-12T07:51:46.395Z"
   },
   {
    "duration": 44,
    "start_time": "2024-09-12T07:51:47.581Z"
   },
   {
    "duration": 21,
    "start_time": "2024-09-12T07:51:47.627Z"
   },
   {
    "duration": 22,
    "start_time": "2024-09-12T07:51:47.651Z"
   },
   {
    "duration": 4,
    "start_time": "2024-09-12T07:51:47.681Z"
   },
   {
    "duration": 18,
    "start_time": "2024-09-12T07:51:47.687Z"
   },
   {
    "duration": 7,
    "start_time": "2024-09-12T07:51:47.707Z"
   },
   {
    "duration": 15,
    "start_time": "2024-09-12T07:51:47.721Z"
   },
   {
    "duration": 71,
    "start_time": "2024-09-12T07:51:47.739Z"
   },
   {
    "duration": 6,
    "start_time": "2024-09-12T07:51:47.814Z"
   },
   {
    "duration": 22,
    "start_time": "2024-09-12T07:51:47.822Z"
   },
   {
    "duration": 5,
    "start_time": "2024-09-12T07:51:47.845Z"
   },
   {
    "duration": 20,
    "start_time": "2024-09-12T07:51:47.872Z"
   },
   {
    "duration": 4,
    "start_time": "2024-09-12T07:51:47.893Z"
   },
   {
    "duration": 7,
    "start_time": "2024-09-12T07:51:47.899Z"
   },
   {
    "duration": 4,
    "start_time": "2024-09-12T07:51:47.908Z"
   },
   {
    "duration": 3,
    "start_time": "2024-09-12T07:51:55.819Z"
   },
   {
    "duration": 14,
    "start_time": "2024-09-12T07:52:16.393Z"
   },
   {
    "duration": 15,
    "start_time": "2024-09-12T09:33:24.796Z"
   },
   {
    "duration": 19,
    "start_time": "2024-09-12T09:33:29.869Z"
   },
   {
    "duration": 125,
    "start_time": "2024-09-12T10:21:33.501Z"
   },
   {
    "duration": 2009,
    "start_time": "2024-09-12T10:21:49.499Z"
   },
   {
    "duration": 1925,
    "start_time": "2024-09-12T10:21:59.963Z"
   },
   {
    "duration": 684,
    "start_time": "2024-09-12T10:25:07.817Z"
   },
   {
    "duration": 555,
    "start_time": "2024-09-12T10:25:22.584Z"
   },
   {
    "duration": 1895,
    "start_time": "2024-09-12T10:25:27.809Z"
   },
   {
    "duration": 2012,
    "start_time": "2024-09-12T10:28:08.909Z"
   },
   {
    "duration": 2009,
    "start_time": "2024-09-12T10:28:59.151Z"
   },
   {
    "duration": 1886,
    "start_time": "2024-09-12T10:29:14.098Z"
   },
   {
    "duration": 31,
    "start_time": "2024-09-12T10:49:03.362Z"
   },
   {
    "duration": 31,
    "start_time": "2024-09-12T10:49:12.483Z"
   },
   {
    "duration": 30,
    "start_time": "2024-09-12T10:49:43.380Z"
   },
   {
    "duration": 1252,
    "start_time": "2024-09-12T10:50:23.861Z"
   },
   {
    "duration": 41,
    "start_time": "2024-09-12T10:50:25.115Z"
   },
   {
    "duration": 78,
    "start_time": "2024-09-12T10:50:25.158Z"
   },
   {
    "duration": 13,
    "start_time": "2024-09-12T10:50:25.237Z"
   },
   {
    "duration": 3,
    "start_time": "2024-09-12T10:50:25.252Z"
   },
   {
    "duration": 23,
    "start_time": "2024-09-12T10:50:25.256Z"
   },
   {
    "duration": 13,
    "start_time": "2024-09-12T10:50:25.281Z"
   },
   {
    "duration": 11,
    "start_time": "2024-09-12T10:50:25.295Z"
   },
   {
    "duration": 50,
    "start_time": "2024-09-12T10:50:25.307Z"
   },
   {
    "duration": 15,
    "start_time": "2024-09-12T10:50:25.359Z"
   },
   {
    "duration": 18,
    "start_time": "2024-09-12T10:50:25.376Z"
   },
   {
    "duration": 10,
    "start_time": "2024-09-12T10:50:25.396Z"
   },
   {
    "duration": 28,
    "start_time": "2024-09-12T10:50:25.407Z"
   },
   {
    "duration": 13,
    "start_time": "2024-09-12T10:50:25.438Z"
   },
   {
    "duration": 35,
    "start_time": "2024-09-12T10:50:25.453Z"
   },
   {
    "duration": 16,
    "start_time": "2024-09-12T10:50:25.489Z"
   },
   {
    "duration": 125,
    "start_time": "2024-09-12T10:50:25.506Z"
   },
   {
    "duration": 1165,
    "start_time": "2024-09-12T10:50:38.718Z"
   },
   {
    "duration": 42,
    "start_time": "2024-09-12T10:50:39.885Z"
   },
   {
    "duration": 17,
    "start_time": "2024-09-12T10:50:39.929Z"
   },
   {
    "duration": 13,
    "start_time": "2024-09-12T10:50:39.949Z"
   },
   {
    "duration": 54,
    "start_time": "2024-09-12T10:50:39.963Z"
   },
   {
    "duration": 27,
    "start_time": "2024-09-12T10:50:40.019Z"
   },
   {
    "duration": 29,
    "start_time": "2024-09-12T10:50:40.048Z"
   },
   {
    "duration": 26,
    "start_time": "2024-09-12T10:50:40.079Z"
   },
   {
    "duration": 49,
    "start_time": "2024-09-12T10:50:40.107Z"
   },
   {
    "duration": 10,
    "start_time": "2024-09-12T10:50:40.159Z"
   },
   {
    "duration": 18,
    "start_time": "2024-09-12T10:50:40.178Z"
   },
   {
    "duration": 4,
    "start_time": "2024-09-12T10:50:40.197Z"
   },
   {
    "duration": 23,
    "start_time": "2024-09-12T10:50:40.202Z"
   },
   {
    "duration": 10,
    "start_time": "2024-09-12T10:50:40.227Z"
   },
   {
    "duration": 21,
    "start_time": "2024-09-12T10:50:40.239Z"
   },
   {
    "duration": 20,
    "start_time": "2024-09-12T10:50:40.261Z"
   },
   {
    "duration": 1795,
    "start_time": "2024-09-12T10:50:40.282Z"
   },
   {
    "duration": 18,
    "start_time": "2024-09-12T11:53:30.415Z"
   },
   {
    "duration": 129,
    "start_time": "2024-09-12T11:58:29.047Z"
   },
   {
    "duration": 14,
    "start_time": "2024-09-12T11:58:41.000Z"
   },
   {
    "duration": 12,
    "start_time": "2024-09-12T12:10:01.507Z"
   },
   {
    "duration": 8,
    "start_time": "2024-09-12T12:12:10.755Z"
   },
   {
    "duration": 7,
    "start_time": "2024-09-12T12:12:18.334Z"
   },
   {
    "duration": 8,
    "start_time": "2024-09-12T12:12:24.120Z"
   },
   {
    "duration": 13,
    "start_time": "2024-09-12T12:20:13.773Z"
   },
   {
    "duration": 7,
    "start_time": "2024-09-12T12:20:24.516Z"
   },
   {
    "duration": 5,
    "start_time": "2024-09-12T12:20:47.690Z"
   },
   {
    "duration": 8,
    "start_time": "2024-09-12T12:20:50.658Z"
   },
   {
    "duration": 264,
    "start_time": "2024-09-12T12:21:14.978Z"
   },
   {
    "duration": 8,
    "start_time": "2024-09-12T12:21:35.241Z"
   },
   {
    "duration": 1158,
    "start_time": "2024-09-12T12:22:15.991Z"
   },
   {
    "duration": 4,
    "start_time": "2024-09-12T12:22:26.000Z"
   },
   {
    "duration": 24,
    "start_time": "2024-09-12T12:22:31.714Z"
   },
   {
    "duration": 23,
    "start_time": "2024-09-12T12:23:10.529Z"
   },
   {
    "duration": 24,
    "start_time": "2024-09-12T12:26:37.217Z"
   },
   {
    "duration": 15,
    "start_time": "2024-09-12T12:33:21.373Z"
   },
   {
    "duration": 36,
    "start_time": "2024-09-12T12:33:34.781Z"
   },
   {
    "duration": 20,
    "start_time": "2024-09-12T12:36:58.328Z"
   },
   {
    "duration": 18,
    "start_time": "2024-09-12T12:37:06.209Z"
   },
   {
    "duration": 10,
    "start_time": "2024-09-12T12:37:52.304Z"
   },
   {
    "duration": 8,
    "start_time": "2024-09-12T12:38:34.937Z"
   },
   {
    "duration": 63,
    "start_time": "2024-09-12T12:38:45.284Z"
   },
   {
    "duration": 78,
    "start_time": "2024-09-12T12:39:04.022Z"
   },
   {
    "duration": 14,
    "start_time": "2024-09-12T12:46:45.906Z"
   },
   {
    "duration": 1683,
    "start_time": "2024-09-12T13:08:26.243Z"
   },
   {
    "duration": 1862,
    "start_time": "2024-09-12T13:08:41.822Z"
   },
   {
    "duration": 1366,
    "start_time": "2024-09-16T06:51:05.757Z"
   },
   {
    "duration": 99,
    "start_time": "2024-09-16T06:51:07.126Z"
   },
   {
    "duration": 17,
    "start_time": "2024-09-16T06:51:07.226Z"
   },
   {
    "duration": 12,
    "start_time": "2024-09-16T06:51:07.245Z"
   },
   {
    "duration": 15,
    "start_time": "2024-09-16T06:51:07.259Z"
   },
   {
    "duration": 28,
    "start_time": "2024-09-16T06:51:07.275Z"
   },
   {
    "duration": 23,
    "start_time": "2024-09-16T06:51:07.305Z"
   },
   {
    "duration": 23,
    "start_time": "2024-09-16T06:51:07.329Z"
   },
   {
    "duration": 50,
    "start_time": "2024-09-16T06:51:07.354Z"
   },
   {
    "duration": 5,
    "start_time": "2024-09-16T06:51:07.406Z"
   },
   {
    "duration": 24,
    "start_time": "2024-09-16T06:51:07.412Z"
   },
   {
    "duration": 3,
    "start_time": "2024-09-16T06:51:07.438Z"
   },
   {
    "duration": 17,
    "start_time": "2024-09-16T06:51:07.443Z"
   },
   {
    "duration": 9,
    "start_time": "2024-09-16T06:51:07.461Z"
   },
   {
    "duration": 28,
    "start_time": "2024-09-16T06:51:07.471Z"
   },
   {
    "duration": 13,
    "start_time": "2024-09-16T06:51:07.501Z"
   },
   {
    "duration": 1631,
    "start_time": "2024-09-16T06:51:07.515Z"
   },
   {
    "duration": 12,
    "start_time": "2024-09-16T06:51:09.148Z"
   },
   {
    "duration": 7,
    "start_time": "2024-09-16T06:51:09.161Z"
   },
   {
    "duration": 48,
    "start_time": "2024-09-16T06:51:09.169Z"
   },
   {
    "duration": 1476,
    "start_time": "2024-09-16T07:06:44.079Z"
   },
   {
    "duration": 1497,
    "start_time": "2024-09-16T07:09:32.267Z"
   },
   {
    "duration": 1422,
    "start_time": "2024-09-16T07:09:54.020Z"
   },
   {
    "duration": 1407,
    "start_time": "2024-09-16T07:10:01.658Z"
   },
   {
    "duration": 1485,
    "start_time": "2024-09-16T07:10:10.560Z"
   },
   {
    "duration": 1401,
    "start_time": "2024-09-16T07:10:20.464Z"
   },
   {
    "duration": 3,
    "start_time": "2024-09-16T07:33:03.878Z"
   },
   {
    "duration": 406,
    "start_time": "2024-09-16T07:37:38.617Z"
   },
   {
    "duration": 313,
    "start_time": "2024-09-16T07:40:41.417Z"
   },
   {
    "duration": 59,
    "start_time": "2024-09-16T07:40:59.681Z"
   },
   {
    "duration": 320,
    "start_time": "2024-09-16T07:41:46.617Z"
   },
   {
    "duration": 3,
    "start_time": "2024-09-16T07:42:24.749Z"
   },
   {
    "duration": 3128,
    "start_time": "2024-09-16T07:42:28.100Z"
   },
   {
    "duration": 3029,
    "start_time": "2024-09-16T07:42:43.097Z"
   },
   {
    "duration": 2895,
    "start_time": "2024-09-16T07:43:38.532Z"
   },
   {
    "duration": 2967,
    "start_time": "2024-09-16T07:44:06.275Z"
   },
   {
    "duration": 1166,
    "start_time": "2024-09-16T09:23:01.349Z"
   },
   {
    "duration": 0,
    "start_time": "2024-09-16T09:23:02.517Z"
   },
   {
    "duration": 0,
    "start_time": "2024-09-16T09:23:02.518Z"
   },
   {
    "duration": 0,
    "start_time": "2024-09-16T09:23:02.520Z"
   },
   {
    "duration": 0,
    "start_time": "2024-09-16T09:23:02.521Z"
   },
   {
    "duration": 0,
    "start_time": "2024-09-16T09:23:02.524Z"
   },
   {
    "duration": 0,
    "start_time": "2024-09-16T09:23:02.525Z"
   },
   {
    "duration": 0,
    "start_time": "2024-09-16T09:23:02.526Z"
   },
   {
    "duration": 0,
    "start_time": "2024-09-16T09:23:02.528Z"
   },
   {
    "duration": 0,
    "start_time": "2024-09-16T09:23:02.530Z"
   },
   {
    "duration": 8,
    "start_time": "2024-09-16T09:23:02.693Z"
   },
   {
    "duration": 0,
    "start_time": "2024-09-16T09:23:02.702Z"
   },
   {
    "duration": 8,
    "start_time": "2024-09-16T09:23:03.056Z"
   },
   {
    "duration": 8,
    "start_time": "2024-09-16T09:23:03.408Z"
   },
   {
    "duration": 24,
    "start_time": "2024-09-16T09:23:03.421Z"
   },
   {
    "duration": 8,
    "start_time": "2024-09-16T09:23:03.583Z"
   },
   {
    "duration": 9,
    "start_time": "2024-09-16T09:23:03.851Z"
   },
   {
    "duration": 0,
    "start_time": "2024-09-16T09:23:03.862Z"
   },
   {
    "duration": 0,
    "start_time": "2024-09-16T09:23:03.863Z"
   },
   {
    "duration": 8,
    "start_time": "2024-09-16T09:23:03.966Z"
   },
   {
    "duration": 44,
    "start_time": "2024-09-16T09:23:04.001Z"
   },
   {
    "duration": 0,
    "start_time": "2024-09-16T09:23:04.047Z"
   },
   {
    "duration": 7,
    "start_time": "2024-09-16T09:23:05.774Z"
   },
   {
    "duration": 0,
    "start_time": "2024-09-16T09:23:05.783Z"
   },
   {
    "duration": 10,
    "start_time": "2024-09-16T09:23:10.091Z"
   },
   {
    "duration": 0,
    "start_time": "2024-09-16T09:23:10.102Z"
   },
   {
    "duration": 1148,
    "start_time": "2024-09-16T09:25:48.253Z"
   },
   {
    "duration": 0,
    "start_time": "2024-09-16T09:25:49.403Z"
   },
   {
    "duration": 0,
    "start_time": "2024-09-16T09:25:49.404Z"
   },
   {
    "duration": 0,
    "start_time": "2024-09-16T09:25:49.405Z"
   },
   {
    "duration": 0,
    "start_time": "2024-09-16T09:25:49.406Z"
   },
   {
    "duration": 0,
    "start_time": "2024-09-16T09:25:49.407Z"
   },
   {
    "duration": 0,
    "start_time": "2024-09-16T09:25:49.407Z"
   },
   {
    "duration": 0,
    "start_time": "2024-09-16T09:25:49.408Z"
   },
   {
    "duration": 0,
    "start_time": "2024-09-16T09:25:49.409Z"
   },
   {
    "duration": 0,
    "start_time": "2024-09-16T09:25:49.410Z"
   },
   {
    "duration": 0,
    "start_time": "2024-09-16T09:25:49.411Z"
   },
   {
    "duration": 0,
    "start_time": "2024-09-16T09:25:49.412Z"
   },
   {
    "duration": 0,
    "start_time": "2024-09-16T09:25:49.413Z"
   },
   {
    "duration": 0,
    "start_time": "2024-09-16T09:25:49.414Z"
   },
   {
    "duration": 0,
    "start_time": "2024-09-16T09:25:49.415Z"
   },
   {
    "duration": 0,
    "start_time": "2024-09-16T09:25:49.416Z"
   },
   {
    "duration": 0,
    "start_time": "2024-09-16T09:25:49.417Z"
   },
   {
    "duration": 0,
    "start_time": "2024-09-16T09:25:49.418Z"
   },
   {
    "duration": 0,
    "start_time": "2024-09-16T09:25:49.419Z"
   },
   {
    "duration": 0,
    "start_time": "2024-09-16T09:25:49.419Z"
   },
   {
    "duration": 0,
    "start_time": "2024-09-16T09:25:49.420Z"
   },
   {
    "duration": 0,
    "start_time": "2024-09-16T09:25:49.421Z"
   },
   {
    "duration": 0,
    "start_time": "2024-09-16T09:25:49.422Z"
   },
   {
    "duration": 0,
    "start_time": "2024-09-16T09:25:49.423Z"
   },
   {
    "duration": 1,
    "start_time": "2024-09-16T09:25:49.423Z"
   },
   {
    "duration": 0,
    "start_time": "2024-09-16T09:25:49.424Z"
   },
   {
    "duration": 3050,
    "start_time": "2024-09-16T09:26:53.027Z"
   },
   {
    "duration": 2292,
    "start_time": "2024-09-16T09:27:03.575Z"
   },
   {
    "duration": 1195,
    "start_time": "2024-09-16T09:27:05.869Z"
   },
   {
    "duration": 43,
    "start_time": "2024-09-16T09:27:07.066Z"
   },
   {
    "duration": 15,
    "start_time": "2024-09-16T09:27:07.111Z"
   },
   {
    "duration": 13,
    "start_time": "2024-09-16T09:27:07.127Z"
   },
   {
    "duration": 3,
    "start_time": "2024-09-16T09:27:07.141Z"
   },
   {
    "duration": 17,
    "start_time": "2024-09-16T09:27:07.145Z"
   },
   {
    "duration": 8,
    "start_time": "2024-09-16T09:27:07.163Z"
   },
   {
    "duration": 10,
    "start_time": "2024-09-16T09:27:07.172Z"
   },
   {
    "duration": 58,
    "start_time": "2024-09-16T09:27:07.184Z"
   },
   {
    "duration": 6,
    "start_time": "2024-09-16T09:27:07.243Z"
   },
   {
    "duration": 20,
    "start_time": "2024-09-16T09:27:07.250Z"
   },
   {
    "duration": 20,
    "start_time": "2024-09-16T09:27:07.271Z"
   },
   {
    "duration": 14,
    "start_time": "2024-09-16T09:27:07.292Z"
   },
   {
    "duration": 33,
    "start_time": "2024-09-16T09:27:07.307Z"
   },
   {
    "duration": 18,
    "start_time": "2024-09-16T09:27:07.342Z"
   },
   {
    "duration": 14,
    "start_time": "2024-09-16T09:27:07.362Z"
   },
   {
    "duration": 1549,
    "start_time": "2024-09-16T09:27:07.377Z"
   },
   {
    "duration": 12,
    "start_time": "2024-09-16T09:27:08.927Z"
   },
   {
    "duration": 18,
    "start_time": "2024-09-16T09:27:08.940Z"
   },
   {
    "duration": 47,
    "start_time": "2024-09-16T09:27:08.960Z"
   },
   {
    "duration": 1412,
    "start_time": "2024-09-16T09:27:09.008Z"
   },
   {
    "duration": 3,
    "start_time": "2024-09-16T09:27:10.421Z"
   },
   {
    "duration": 4,
    "start_time": "2024-09-16T09:27:10.426Z"
   },
   {
    "duration": 2909,
    "start_time": "2024-09-16T09:27:10.431Z"
   },
   {
    "duration": 109,
    "start_time": "2024-09-16T09:27:13.342Z"
   },
   {
    "duration": 0,
    "start_time": "2024-09-16T09:27:13.453Z"
   },
   {
    "duration": 10,
    "start_time": "2024-09-16T09:32:48.241Z"
   },
   {
    "duration": 723,
    "start_time": "2024-09-16T09:33:21.858Z"
   },
   {
    "duration": 1803,
    "start_time": "2024-09-16T09:33:30.247Z"
   },
   {
    "duration": 1874,
    "start_time": "2024-09-16T09:35:29.859Z"
   },
   {
    "duration": 680,
    "start_time": "2024-09-16T09:35:33.197Z"
   },
   {
    "duration": 1613,
    "start_time": "2024-09-16T09:35:37.295Z"
   },
   {
    "duration": 1588,
    "start_time": "2024-09-16T09:36:48.406Z"
   },
   {
    "duration": 1701,
    "start_time": "2024-09-16T09:44:58.152Z"
   },
   {
    "duration": 1630,
    "start_time": "2024-09-16T09:45:12.790Z"
   },
   {
    "duration": 1617,
    "start_time": "2024-09-16T09:45:24.408Z"
   },
   {
    "duration": 1680,
    "start_time": "2024-09-16T09:46:40.782Z"
   },
   {
    "duration": 1585,
    "start_time": "2024-09-16T09:47:06.393Z"
   },
   {
    "duration": 1628,
    "start_time": "2024-09-16T10:08:26.125Z"
   },
   {
    "duration": 196,
    "start_time": "2024-09-16T10:16:21.497Z"
   },
   {
    "duration": 197,
    "start_time": "2024-09-16T10:19:08.905Z"
   },
   {
    "duration": 198,
    "start_time": "2024-09-16T10:19:14.994Z"
   },
   {
    "duration": 195,
    "start_time": "2024-09-16T10:19:24.101Z"
   },
   {
    "duration": 200,
    "start_time": "2024-09-16T10:19:46.539Z"
   },
   {
    "duration": 9,
    "start_time": "2024-09-16T12:00:09.491Z"
   },
   {
    "duration": 4,
    "start_time": "2024-09-16T12:00:18.887Z"
   },
   {
    "duration": 92,
    "start_time": "2024-09-16T12:00:27.249Z"
   },
   {
    "duration": 6,
    "start_time": "2024-09-16T12:01:03.781Z"
   },
   {
    "duration": 538,
    "start_time": "2024-09-16T12:01:08.360Z"
   },
   {
    "duration": 10,
    "start_time": "2024-09-16T12:03:50.434Z"
   },
   {
    "duration": 10,
    "start_time": "2024-09-16T12:03:59.281Z"
   },
   {
    "duration": 12,
    "start_time": "2024-09-16T12:04:09.230Z"
   },
   {
    "duration": 10,
    "start_time": "2024-09-16T12:05:58.374Z"
   },
   {
    "duration": 2309,
    "start_time": "2024-09-16T12:06:03.934Z"
   },
   {
    "duration": 1139,
    "start_time": "2024-09-16T12:06:06.245Z"
   },
   {
    "duration": 45,
    "start_time": "2024-09-16T12:06:07.386Z"
   },
   {
    "duration": 17,
    "start_time": "2024-09-16T12:06:07.432Z"
   },
   {
    "duration": 15,
    "start_time": "2024-09-16T12:06:07.451Z"
   },
   {
    "duration": 3,
    "start_time": "2024-09-16T12:06:07.467Z"
   },
   {
    "duration": 7,
    "start_time": "2024-09-16T12:06:07.471Z"
   },
   {
    "duration": 29,
    "start_time": "2024-09-16T12:06:07.479Z"
   },
   {
    "duration": 18,
    "start_time": "2024-09-16T12:06:07.509Z"
   },
   {
    "duration": 49,
    "start_time": "2024-09-16T12:06:07.529Z"
   },
   {
    "duration": 6,
    "start_time": "2024-09-16T12:06:07.579Z"
   },
   {
    "duration": 20,
    "start_time": "2024-09-16T12:06:07.586Z"
   },
   {
    "duration": 16,
    "start_time": "2024-09-16T12:06:07.608Z"
   },
   {
    "duration": 16,
    "start_time": "2024-09-16T12:06:07.626Z"
   },
   {
    "duration": 22,
    "start_time": "2024-09-16T12:06:07.643Z"
   },
   {
    "duration": 12,
    "start_time": "2024-09-16T12:06:07.667Z"
   },
   {
    "duration": 16,
    "start_time": "2024-09-16T12:06:07.680Z"
   },
   {
    "duration": 1552,
    "start_time": "2024-09-16T12:06:07.698Z"
   },
   {
    "duration": 12,
    "start_time": "2024-09-16T12:06:09.251Z"
   },
   {
    "duration": 6,
    "start_time": "2024-09-16T12:06:09.264Z"
   },
   {
    "duration": 56,
    "start_time": "2024-09-16T12:06:09.271Z"
   },
   {
    "duration": 1421,
    "start_time": "2024-09-16T12:06:09.329Z"
   },
   {
    "duration": 3,
    "start_time": "2024-09-16T12:06:10.751Z"
   },
   {
    "duration": 5,
    "start_time": "2024-09-16T12:06:10.755Z"
   },
   {
    "duration": 2980,
    "start_time": "2024-09-16T12:06:10.761Z"
   },
   {
    "duration": 667,
    "start_time": "2024-09-16T12:06:13.743Z"
   },
   {
    "duration": 1589,
    "start_time": "2024-09-16T12:06:14.411Z"
   },
   {
    "duration": 217,
    "start_time": "2024-09-16T12:06:16.002Z"
   },
   {
    "duration": 8,
    "start_time": "2024-09-16T12:06:16.220Z"
   },
   {
    "duration": 5,
    "start_time": "2024-09-16T12:06:16.230Z"
   },
   {
    "duration": 632,
    "start_time": "2024-09-16T12:06:16.236Z"
   },
   {
    "duration": 200,
    "start_time": "2024-09-16T12:06:58.589Z"
   },
   {
    "duration": 9,
    "start_time": "2024-09-16T12:10:32.193Z"
   },
   {
    "duration": 8,
    "start_time": "2024-09-16T12:16:42.966Z"
   },
   {
    "duration": 8,
    "start_time": "2024-09-16T12:18:47.655Z"
   },
   {
    "duration": 9,
    "start_time": "2024-09-16T12:27:42.701Z"
   },
   {
    "duration": 9,
    "start_time": "2024-09-16T12:31:51.870Z"
   },
   {
    "duration": 8,
    "start_time": "2024-09-16T12:56:53.642Z"
   },
   {
    "duration": 8,
    "start_time": "2024-09-16T13:04:51.837Z"
   },
   {
    "duration": 43,
    "start_time": "2024-09-17T06:39:57.725Z"
   },
   {
    "duration": 3473,
    "start_time": "2024-09-17T06:40:02.289Z"
   },
   {
    "duration": 1197,
    "start_time": "2024-09-17T06:40:05.764Z"
   },
   {
    "duration": 162,
    "start_time": "2024-09-17T06:40:06.963Z"
   },
   {
    "duration": 13,
    "start_time": "2024-09-17T06:40:07.127Z"
   },
   {
    "duration": 19,
    "start_time": "2024-09-17T06:40:07.142Z"
   },
   {
    "duration": 2,
    "start_time": "2024-09-17T06:40:07.162Z"
   },
   {
    "duration": 22,
    "start_time": "2024-09-17T06:40:07.165Z"
   },
   {
    "duration": 14,
    "start_time": "2024-09-17T06:40:07.189Z"
   },
   {
    "duration": 10,
    "start_time": "2024-09-17T06:40:07.204Z"
   },
   {
    "duration": 50,
    "start_time": "2024-09-17T06:40:07.216Z"
   },
   {
    "duration": 6,
    "start_time": "2024-09-17T06:40:07.268Z"
   },
   {
    "duration": 44,
    "start_time": "2024-09-17T06:40:07.276Z"
   },
   {
    "duration": 149,
    "start_time": "2024-09-17T06:40:07.321Z"
   },
   {
    "duration": 29,
    "start_time": "2024-09-17T06:40:07.471Z"
   },
   {
    "duration": 12,
    "start_time": "2024-09-17T06:40:07.502Z"
   },
   {
    "duration": 10,
    "start_time": "2024-09-17T06:40:07.515Z"
   },
   {
    "duration": 11,
    "start_time": "2024-09-17T06:40:07.526Z"
   },
   {
    "duration": 1343,
    "start_time": "2024-09-17T06:40:07.538Z"
   },
   {
    "duration": 11,
    "start_time": "2024-09-17T06:40:08.883Z"
   },
   {
    "duration": 78,
    "start_time": "2024-09-17T06:40:08.895Z"
   },
   {
    "duration": 50,
    "start_time": "2024-09-17T06:40:08.974Z"
   },
   {
    "duration": 1244,
    "start_time": "2024-09-17T06:40:09.025Z"
   },
   {
    "duration": 2,
    "start_time": "2024-09-17T06:40:10.271Z"
   },
   {
    "duration": 12,
    "start_time": "2024-09-17T06:40:10.274Z"
   },
   {
    "duration": 2744,
    "start_time": "2024-09-17T06:40:10.287Z"
   },
   {
    "duration": 581,
    "start_time": "2024-09-17T06:40:13.033Z"
   },
   {
    "duration": 1306,
    "start_time": "2024-09-17T06:40:13.615Z"
   },
   {
    "duration": 200,
    "start_time": "2024-09-17T06:40:14.923Z"
   },
   {
    "duration": 8,
    "start_time": "2024-09-17T06:40:15.124Z"
   },
   {
    "duration": 74,
    "start_time": "2024-09-17T06:40:15.133Z"
   },
   {
    "duration": 110,
    "start_time": "2024-09-17T06:40:15.209Z"
   },
   {
    "duration": 8,
    "start_time": "2024-09-17T07:01:08.127Z"
   },
   {
    "duration": 6,
    "start_time": "2024-09-17T07:03:49.831Z"
   },
   {
    "duration": 9,
    "start_time": "2024-09-17T07:06:23.573Z"
   },
   {
    "duration": 92,
    "start_time": "2024-09-17T07:06:59.742Z"
   },
   {
    "duration": 8,
    "start_time": "2024-09-17T07:07:22.411Z"
   },
   {
    "duration": 9,
    "start_time": "2024-09-17T07:08:35.226Z"
   },
   {
    "duration": 5,
    "start_time": "2024-09-17T07:10:18.104Z"
   },
   {
    "duration": 10,
    "start_time": "2024-09-17T07:15:16.221Z"
   },
   {
    "duration": 4,
    "start_time": "2024-09-17T07:15:53.616Z"
   },
   {
    "duration": 5,
    "start_time": "2024-09-17T07:16:11.175Z"
   },
   {
    "duration": 8,
    "start_time": "2024-09-17T07:52:48.229Z"
   },
   {
    "duration": 8,
    "start_time": "2024-09-17T07:55:10.629Z"
   },
   {
    "duration": 9,
    "start_time": "2024-09-17T08:09:47.218Z"
   },
   {
    "duration": 8,
    "start_time": "2024-09-17T08:10:12.642Z"
   },
   {
    "duration": 8,
    "start_time": "2024-09-17T08:10:46.480Z"
   },
   {
    "duration": 15,
    "start_time": "2024-09-17T08:11:05.781Z"
   },
   {
    "duration": 9,
    "start_time": "2024-09-17T08:11:25.929Z"
   },
   {
    "duration": 9,
    "start_time": "2024-09-17T08:21:02.676Z"
   },
   {
    "duration": 713,
    "start_time": "2024-09-17T08:24:42.708Z"
   },
   {
    "duration": 10,
    "start_time": "2024-09-17T08:26:17.591Z"
   },
   {
    "duration": 852,
    "start_time": "2024-09-17T08:26:20.990Z"
   },
   {
    "duration": 10,
    "start_time": "2024-09-17T08:28:45.206Z"
   },
   {
    "duration": 8,
    "start_time": "2024-09-17T08:28:57.059Z"
   },
   {
    "duration": 9,
    "start_time": "2024-09-17T08:29:10.765Z"
   },
   {
    "duration": 322,
    "start_time": "2024-09-17T08:30:23.396Z"
   },
   {
    "duration": 10,
    "start_time": "2024-09-17T08:40:29.902Z"
   },
   {
    "duration": 9,
    "start_time": "2024-09-17T08:41:04.080Z"
   },
   {
    "duration": 9,
    "start_time": "2024-09-17T08:41:40.681Z"
   },
   {
    "duration": 12,
    "start_time": "2024-09-17T08:42:23.308Z"
   },
   {
    "duration": 9,
    "start_time": "2024-09-17T08:42:35.473Z"
   },
   {
    "duration": 7,
    "start_time": "2024-09-17T08:42:58.953Z"
   },
   {
    "duration": 9,
    "start_time": "2024-09-17T08:43:11.126Z"
   },
   {
    "duration": 9,
    "start_time": "2024-09-17T08:44:19.914Z"
   },
   {
    "duration": 8,
    "start_time": "2024-09-17T08:50:39.905Z"
   },
   {
    "duration": 11,
    "start_time": "2024-09-17T09:03:35.133Z"
   },
   {
    "duration": 3964,
    "start_time": "2024-09-17T17:18:03.186Z"
   },
   {
    "duration": 2357,
    "start_time": "2024-09-17T17:18:07.153Z"
   },
   {
    "duration": 102,
    "start_time": "2024-09-17T17:18:09.512Z"
   },
   {
    "duration": 16,
    "start_time": "2024-09-17T17:18:09.616Z"
   },
   {
    "duration": 13,
    "start_time": "2024-09-17T17:18:09.634Z"
   },
   {
    "duration": 8,
    "start_time": "2024-09-17T17:18:09.649Z"
   },
   {
    "duration": 14,
    "start_time": "2024-09-17T17:18:09.658Z"
   },
   {
    "duration": 6,
    "start_time": "2024-09-17T17:18:09.673Z"
   },
   {
    "duration": 8,
    "start_time": "2024-09-17T17:18:09.681Z"
   },
   {
    "duration": 52,
    "start_time": "2024-09-17T17:18:09.690Z"
   },
   {
    "duration": 6,
    "start_time": "2024-09-17T17:18:09.743Z"
   },
   {
    "duration": 39,
    "start_time": "2024-09-17T17:18:09.751Z"
   },
   {
    "duration": 5,
    "start_time": "2024-09-17T17:18:09.791Z"
   },
   {
    "duration": 64,
    "start_time": "2024-09-17T17:18:09.798Z"
   },
   {
    "duration": 11,
    "start_time": "2024-09-17T17:18:09.863Z"
   },
   {
    "duration": 14,
    "start_time": "2024-09-17T17:18:09.875Z"
   },
   {
    "duration": 13,
    "start_time": "2024-09-17T17:18:09.891Z"
   },
   {
    "duration": 1758,
    "start_time": "2024-09-17T17:18:09.906Z"
   },
   {
    "duration": 12,
    "start_time": "2024-09-17T17:18:11.666Z"
   },
   {
    "duration": 6,
    "start_time": "2024-09-17T17:18:11.680Z"
   },
   {
    "duration": 50,
    "start_time": "2024-09-17T17:18:11.687Z"
   },
   {
    "duration": 1517,
    "start_time": "2024-09-17T17:18:11.738Z"
   },
   {
    "duration": 3,
    "start_time": "2024-09-17T17:18:13.256Z"
   },
   {
    "duration": 20,
    "start_time": "2024-09-17T17:18:13.261Z"
   },
   {
    "duration": 3030,
    "start_time": "2024-09-17T17:18:13.283Z"
   },
   {
    "duration": 761,
    "start_time": "2024-09-17T17:18:16.315Z"
   },
   {
    "duration": 1671,
    "start_time": "2024-09-17T17:18:17.077Z"
   },
   {
    "duration": 224,
    "start_time": "2024-09-17T17:18:18.750Z"
   },
   {
    "duration": 8,
    "start_time": "2024-09-17T17:18:18.975Z"
   },
   {
    "duration": 6,
    "start_time": "2024-09-17T17:18:18.985Z"
   },
   {
    "duration": 112,
    "start_time": "2024-09-17T17:18:18.993Z"
   },
   {
    "duration": 10,
    "start_time": "2024-09-17T17:18:19.106Z"
   },
   {
    "duration": 154,
    "start_time": "2024-09-17T17:18:19.118Z"
   },
   {
    "duration": 53,
    "start_time": "2024-09-18T05:50:39.661Z"
   },
   {
    "duration": 3324,
    "start_time": "2024-09-18T05:50:45.344Z"
   },
   {
    "duration": 1409,
    "start_time": "2024-09-18T05:50:48.670Z"
   },
   {
    "duration": 169,
    "start_time": "2024-09-18T05:50:50.081Z"
   },
   {
    "duration": 17,
    "start_time": "2024-09-18T05:50:50.252Z"
   },
   {
    "duration": 36,
    "start_time": "2024-09-18T05:50:50.271Z"
   },
   {
    "duration": 14,
    "start_time": "2024-09-18T05:50:50.309Z"
   },
   {
    "duration": 18,
    "start_time": "2024-09-18T05:50:50.325Z"
   },
   {
    "duration": 7,
    "start_time": "2024-09-18T05:50:50.345Z"
   },
   {
    "duration": 12,
    "start_time": "2024-09-18T05:50:50.353Z"
   },
   {
    "duration": 51,
    "start_time": "2024-09-18T05:50:50.366Z"
   },
   {
    "duration": 6,
    "start_time": "2024-09-18T05:50:50.419Z"
   },
   {
    "duration": 17,
    "start_time": "2024-09-18T05:50:50.426Z"
   },
   {
    "duration": 21,
    "start_time": "2024-09-18T05:50:50.444Z"
   },
   {
    "duration": 13,
    "start_time": "2024-09-18T05:50:50.468Z"
   },
   {
    "duration": 7,
    "start_time": "2024-09-18T05:50:50.482Z"
   },
   {
    "duration": 14,
    "start_time": "2024-09-18T05:50:50.490Z"
   },
   {
    "duration": 13,
    "start_time": "2024-09-18T05:50:50.506Z"
   },
   {
    "duration": 1703,
    "start_time": "2024-09-18T05:50:50.521Z"
   },
   {
    "duration": 11,
    "start_time": "2024-09-18T05:50:52.225Z"
   },
   {
    "duration": 6,
    "start_time": "2024-09-18T05:50:52.238Z"
   },
   {
    "duration": 55,
    "start_time": "2024-09-18T05:50:52.245Z"
   },
   {
    "duration": 1551,
    "start_time": "2024-09-18T05:50:52.302Z"
   },
   {
    "duration": 10,
    "start_time": "2024-09-18T05:50:53.855Z"
   },
   {
    "duration": 26,
    "start_time": "2024-09-18T05:50:53.867Z"
   },
   {
    "duration": 3058,
    "start_time": "2024-09-18T05:50:53.895Z"
   },
   {
    "duration": 738,
    "start_time": "2024-09-18T05:50:56.955Z"
   },
   {
    "duration": 1707,
    "start_time": "2024-09-18T05:50:57.695Z"
   },
   {
    "duration": 222,
    "start_time": "2024-09-18T05:50:59.403Z"
   },
   {
    "duration": 9,
    "start_time": "2024-09-18T05:50:59.627Z"
   },
   {
    "duration": 8,
    "start_time": "2024-09-18T05:50:59.638Z"
   },
   {
    "duration": 105,
    "start_time": "2024-09-18T05:50:59.665Z"
   },
   {
    "duration": 9,
    "start_time": "2024-09-18T05:50:59.772Z"
   },
   {
    "duration": 11,
    "start_time": "2024-09-18T05:50:59.783Z"
   },
   {
    "duration": 5,
    "start_time": "2024-09-18T06:12:39.945Z"
   },
   {
    "duration": 2429,
    "start_time": "2024-09-18T06:14:04.393Z"
   },
   {
    "duration": 1194,
    "start_time": "2024-09-18T06:14:06.824Z"
   },
   {
    "duration": 45,
    "start_time": "2024-09-18T06:14:08.019Z"
   },
   {
    "duration": 16,
    "start_time": "2024-09-18T06:14:08.066Z"
   },
   {
    "duration": 29,
    "start_time": "2024-09-18T06:14:08.084Z"
   },
   {
    "duration": 31,
    "start_time": "2024-09-18T06:14:08.114Z"
   },
   {
    "duration": 8,
    "start_time": "2024-09-18T06:14:08.146Z"
   },
   {
    "duration": 6,
    "start_time": "2024-09-18T06:14:08.155Z"
   },
   {
    "duration": 12,
    "start_time": "2024-09-18T06:14:08.162Z"
   },
   {
    "duration": 50,
    "start_time": "2024-09-18T06:14:08.176Z"
   },
   {
    "duration": 5,
    "start_time": "2024-09-18T06:14:08.228Z"
   },
   {
    "duration": 40,
    "start_time": "2024-09-18T06:14:08.234Z"
   },
   {
    "duration": 4,
    "start_time": "2024-09-18T06:14:08.275Z"
   },
   {
    "duration": 14,
    "start_time": "2024-09-18T06:14:08.280Z"
   },
   {
    "duration": 8,
    "start_time": "2024-09-18T06:14:08.296Z"
   },
   {
    "duration": 18,
    "start_time": "2024-09-18T06:14:08.305Z"
   },
   {
    "duration": 14,
    "start_time": "2024-09-18T06:14:08.324Z"
   },
   {
    "duration": 1685,
    "start_time": "2024-09-18T06:14:08.339Z"
   },
   {
    "duration": 14,
    "start_time": "2024-09-18T06:14:10.025Z"
   },
   {
    "duration": 12,
    "start_time": "2024-09-18T06:14:10.040Z"
   },
   {
    "duration": 3,
    "start_time": "2024-09-18T06:14:10.054Z"
   },
   {
    "duration": 48,
    "start_time": "2024-09-18T06:14:10.059Z"
   },
   {
    "duration": 1558,
    "start_time": "2024-09-18T06:14:10.109Z"
   },
   {
    "duration": 3,
    "start_time": "2024-09-18T06:14:11.669Z"
   },
   {
    "duration": 8,
    "start_time": "2024-09-18T06:14:11.674Z"
   },
   {
    "duration": 3238,
    "start_time": "2024-09-18T06:14:11.684Z"
   },
   {
    "duration": 2402,
    "start_time": "2024-09-18T06:14:16.713Z"
   },
   {
    "duration": 1170,
    "start_time": "2024-09-18T06:14:19.117Z"
   },
   {
    "duration": 44,
    "start_time": "2024-09-18T06:14:20.289Z"
   },
   {
    "duration": 16,
    "start_time": "2024-09-18T06:14:20.334Z"
   },
   {
    "duration": 20,
    "start_time": "2024-09-18T06:14:20.352Z"
   },
   {
    "duration": 26,
    "start_time": "2024-09-18T06:14:20.373Z"
   },
   {
    "duration": 19,
    "start_time": "2024-09-18T06:14:20.400Z"
   },
   {
    "duration": 11,
    "start_time": "2024-09-18T06:14:20.420Z"
   },
   {
    "duration": 30,
    "start_time": "2024-09-18T06:14:20.433Z"
   },
   {
    "duration": 88,
    "start_time": "2024-09-18T06:14:20.465Z"
   },
   {
    "duration": 6,
    "start_time": "2024-09-18T06:14:20.555Z"
   },
   {
    "duration": 48,
    "start_time": "2024-09-18T06:14:20.563Z"
   },
   {
    "duration": 5,
    "start_time": "2024-09-18T06:14:20.613Z"
   },
   {
    "duration": 28,
    "start_time": "2024-09-18T06:14:20.621Z"
   },
   {
    "duration": 7,
    "start_time": "2024-09-18T06:14:20.650Z"
   },
   {
    "duration": 17,
    "start_time": "2024-09-18T06:14:20.659Z"
   },
   {
    "duration": 22,
    "start_time": "2024-09-18T06:14:20.678Z"
   },
   {
    "duration": 1710,
    "start_time": "2024-09-18T06:14:20.702Z"
   },
   {
    "duration": 14,
    "start_time": "2024-09-18T06:14:22.414Z"
   },
   {
    "duration": 7,
    "start_time": "2024-09-18T06:14:22.430Z"
   },
   {
    "duration": 3,
    "start_time": "2024-09-18T06:14:22.438Z"
   },
   {
    "duration": 46,
    "start_time": "2024-09-18T06:14:22.443Z"
   },
   {
    "duration": 1474,
    "start_time": "2024-09-18T06:14:22.491Z"
   },
   {
    "duration": 3,
    "start_time": "2024-09-18T06:14:23.967Z"
   },
   {
    "duration": 14,
    "start_time": "2024-09-18T06:14:23.971Z"
   },
   {
    "duration": 3142,
    "start_time": "2024-09-18T06:14:23.987Z"
   },
   {
    "duration": 721,
    "start_time": "2024-09-18T06:14:27.131Z"
   },
   {
    "duration": 1689,
    "start_time": "2024-09-18T06:14:27.854Z"
   },
   {
    "duration": 238,
    "start_time": "2024-09-18T06:14:29.545Z"
   },
   {
    "duration": 11,
    "start_time": "2024-09-18T06:14:29.786Z"
   },
   {
    "duration": 8,
    "start_time": "2024-09-18T06:14:29.799Z"
   },
   {
    "duration": 129,
    "start_time": "2024-09-18T06:14:29.808Z"
   },
   {
    "duration": 14,
    "start_time": "2024-09-18T06:14:29.939Z"
   },
   {
    "duration": 10,
    "start_time": "2024-09-18T06:14:29.965Z"
   },
   {
    "duration": 72,
    "start_time": "2024-09-18T06:16:23.945Z"
   },
   {
    "duration": 5,
    "start_time": "2024-09-18T06:34:00.266Z"
   },
   {
    "duration": 2452,
    "start_time": "2024-09-18T06:34:09.723Z"
   },
   {
    "duration": 1175,
    "start_time": "2024-09-18T06:34:12.177Z"
   },
   {
    "duration": 43,
    "start_time": "2024-09-18T06:34:13.353Z"
   },
   {
    "duration": 16,
    "start_time": "2024-09-18T06:34:13.398Z"
   },
   {
    "duration": 12,
    "start_time": "2024-09-18T06:34:13.416Z"
   },
   {
    "duration": 3,
    "start_time": "2024-09-18T06:34:13.429Z"
   },
   {
    "duration": 10,
    "start_time": "2024-09-18T06:34:13.433Z"
   },
   {
    "duration": 5,
    "start_time": "2024-09-18T06:34:13.444Z"
   },
   {
    "duration": 16,
    "start_time": "2024-09-18T06:34:13.450Z"
   },
   {
    "duration": 55,
    "start_time": "2024-09-18T06:34:13.467Z"
   },
   {
    "duration": 8,
    "start_time": "2024-09-18T06:34:13.524Z"
   },
   {
    "duration": 34,
    "start_time": "2024-09-18T06:34:13.536Z"
   },
   {
    "duration": 5,
    "start_time": "2024-09-18T06:34:13.572Z"
   },
   {
    "duration": 12,
    "start_time": "2024-09-18T06:34:13.581Z"
   },
   {
    "duration": 9,
    "start_time": "2024-09-18T06:34:13.595Z"
   },
   {
    "duration": 12,
    "start_time": "2024-09-18T06:34:13.606Z"
   },
   {
    "duration": 19,
    "start_time": "2024-09-18T06:34:13.620Z"
   },
   {
    "duration": 1672,
    "start_time": "2024-09-18T06:34:13.664Z"
   },
   {
    "duration": 12,
    "start_time": "2024-09-18T06:34:15.338Z"
   },
   {
    "duration": 7,
    "start_time": "2024-09-18T06:34:15.351Z"
   },
   {
    "duration": 26,
    "start_time": "2024-09-18T06:34:15.360Z"
   },
   {
    "duration": 46,
    "start_time": "2024-09-18T06:34:15.388Z"
   },
   {
    "duration": 1509,
    "start_time": "2024-09-18T06:34:15.436Z"
   },
   {
    "duration": 2,
    "start_time": "2024-09-18T06:34:16.947Z"
   },
   {
    "duration": 25,
    "start_time": "2024-09-18T06:34:16.951Z"
   },
   {
    "duration": 3154,
    "start_time": "2024-09-18T06:34:16.977Z"
   },
   {
    "duration": 4,
    "start_time": "2024-09-18T06:34:20.132Z"
   },
   {
    "duration": 742,
    "start_time": "2024-09-18T06:34:20.138Z"
   },
   {
    "duration": 1708,
    "start_time": "2024-09-18T06:34:20.881Z"
   },
   {
    "duration": 226,
    "start_time": "2024-09-18T06:34:22.591Z"
   },
   {
    "duration": 9,
    "start_time": "2024-09-18T06:34:22.819Z"
   },
   {
    "duration": 11,
    "start_time": "2024-09-18T06:34:22.830Z"
   },
   {
    "duration": 112,
    "start_time": "2024-09-18T06:34:22.843Z"
   },
   {
    "duration": 16,
    "start_time": "2024-09-18T06:34:22.957Z"
   },
   {
    "duration": 10,
    "start_time": "2024-09-18T06:34:22.975Z"
   },
   {
    "duration": 67,
    "start_time": "2024-09-18T12:48:46.255Z"
   }
  ],
  "kernelspec": {
   "display_name": "Python 3 (ipykernel)",
   "language": "python",
   "name": "python3"
  },
  "language_info": {
   "codemirror_mode": {
    "name": "ipython",
    "version": 3
   },
   "file_extension": ".py",
   "mimetype": "text/x-python",
   "name": "python",
   "nbconvert_exporter": "python",
   "pygments_lexer": "ipython3",
   "version": "3.9.5"
  },
  "toc": {
   "base_numbering": 1,
   "nav_menu": {},
   "number_sections": true,
   "sideBar": true,
   "skip_h1_title": true,
   "title_cell": "Table of Contents",
   "title_sidebar": "Contents",
   "toc_cell": false,
   "toc_position": {
    "height": "calc(100% - 180px)",
    "left": "10px",
    "top": "150px",
    "width": "165px"
   },
   "toc_section_display": true,
   "toc_window_display": true
  }
 },
 "nbformat": 4,
 "nbformat_minor": 2
}
