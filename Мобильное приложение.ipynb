{
 "cells": [
  {
   "cell_type": "markdown",
   "metadata": {},
   "source": [
    "# СБОРНЫЙ ПРОЕКТ № 2"
   ]
  },
  {
   "cell_type": "markdown",
   "metadata": {},
   "source": [
    "Побудем в роли аналитка стартапа, который продаёт продукты питания. Нужно разобраться, как ведут себя пользователи вашего мобильного приложения. \n",
    "\n",
    "Изучим воронку продаж. Узнаем, как пользователи доходят до покупки. Сколько пользователей доходит до покупки, а сколько — «застревает» на предыдущих шагах? На каких именно?\n",
    "\n",
    "После этого исследуем результаты A/A/B-эксперимента. Дизайнеры захотели поменять шрифты во всём приложении, а менеджеры испугались, что пользователям будет непривычно. Договорились принять решение по результатам A/A/B-теста. Пользователей разбили на 3 группы: 2 контрольные со старыми шрифтами и одну экспериментальную — с новыми. Выясним, какой шрифт лучше.\n",
    "\n",
    "**План исследования:**\n",
    "\n",
    "- Обзор данных;\n",
    "- Предобработка данных;\n",
    "- Изучение и проверка данных;\n",
    "- Исследование воронки событий;\n",
    "- Анализ результатов экспериента."
   ]
  },
  {
   "cell_type": "markdown",
   "metadata": {},
   "source": [
    "**Описание данных**"
   ]
  },
  {
   "cell_type": "markdown",
   "metadata": {},
   "source": [
    "Каждая запись в логе — это действие пользователя, или событие. \n",
    "- EventName — название события;\n",
    "- DeviceIDHash — уникальный идентификатор пользователя;\n",
    "- EventTimestamp — время события;\n",
    "- ExpId — номер эксперимента: 246 и 247 — контрольные группы, а 248 — экспериментальная."
   ]
  },
  {
   "cell_type": "markdown",
   "metadata": {},
   "source": [
    "**Шаг 1.** Откроем файл с данными и изучите общую информацию"
   ]
  },
  {
   "cell_type": "code",
   "execution_count": 1,
   "metadata": {},
   "outputs": [],
   "source": [
    "import pandas as pd\n",
    "import matplotlib.pyplot as plt\n",
    "import numpy as np\n",
    "import seaborn as sns\n",
    "from datetime import datetime, timedelta\n",
    "import scipy.stats as st\n",
    "import math \n",
    "from plotly import graph_objects as go"
   ]
  },
  {
   "cell_type": "code",
   "execution_count": 2,
   "metadata": {},
   "outputs": [],
   "source": [
    "pd.options.display.max_colwidth = 150"
   ]
  },
  {
   "cell_type": "code",
   "execution_count": 3,
   "metadata": {},
   "outputs": [],
   "source": [
    "data = pd.read_csv('/datasets/logs_exp.csv', sep='\\t')"
   ]
  },
  {
   "cell_type": "code",
   "execution_count": 4,
   "metadata": {},
   "outputs": [
    {
     "data": {
      "text/html": [
       "<div>\n",
       "<style scoped>\n",
       "    .dataframe tbody tr th:only-of-type {\n",
       "        vertical-align: middle;\n",
       "    }\n",
       "\n",
       "    .dataframe tbody tr th {\n",
       "        vertical-align: top;\n",
       "    }\n",
       "\n",
       "    .dataframe thead th {\n",
       "        text-align: right;\n",
       "    }\n",
       "</style>\n",
       "<table border=\"1\" class=\"dataframe\">\n",
       "  <thead>\n",
       "    <tr style=\"text-align: right;\">\n",
       "      <th></th>\n",
       "      <th>EventName</th>\n",
       "      <th>DeviceIDHash</th>\n",
       "      <th>EventTimestamp</th>\n",
       "      <th>ExpId</th>\n",
       "    </tr>\n",
       "  </thead>\n",
       "  <tbody>\n",
       "    <tr>\n",
       "      <th>0</th>\n",
       "      <td>MainScreenAppear</td>\n",
       "      <td>4575588528974610257</td>\n",
       "      <td>1564029816</td>\n",
       "      <td>246</td>\n",
       "    </tr>\n",
       "    <tr>\n",
       "      <th>1</th>\n",
       "      <td>MainScreenAppear</td>\n",
       "      <td>7416695313311560658</td>\n",
       "      <td>1564053102</td>\n",
       "      <td>246</td>\n",
       "    </tr>\n",
       "    <tr>\n",
       "      <th>2</th>\n",
       "      <td>PaymentScreenSuccessful</td>\n",
       "      <td>3518123091307005509</td>\n",
       "      <td>1564054127</td>\n",
       "      <td>248</td>\n",
       "    </tr>\n",
       "    <tr>\n",
       "      <th>3</th>\n",
       "      <td>CartScreenAppear</td>\n",
       "      <td>3518123091307005509</td>\n",
       "      <td>1564054127</td>\n",
       "      <td>248</td>\n",
       "    </tr>\n",
       "    <tr>\n",
       "      <th>4</th>\n",
       "      <td>PaymentScreenSuccessful</td>\n",
       "      <td>6217807653094995999</td>\n",
       "      <td>1564055322</td>\n",
       "      <td>248</td>\n",
       "    </tr>\n",
       "    <tr>\n",
       "      <th>5</th>\n",
       "      <td>CartScreenAppear</td>\n",
       "      <td>6217807653094995999</td>\n",
       "      <td>1564055323</td>\n",
       "      <td>248</td>\n",
       "    </tr>\n",
       "    <tr>\n",
       "      <th>6</th>\n",
       "      <td>OffersScreenAppear</td>\n",
       "      <td>8351860793733343758</td>\n",
       "      <td>1564066242</td>\n",
       "      <td>246</td>\n",
       "    </tr>\n",
       "    <tr>\n",
       "      <th>7</th>\n",
       "      <td>MainScreenAppear</td>\n",
       "      <td>5682100281902512875</td>\n",
       "      <td>1564085677</td>\n",
       "      <td>246</td>\n",
       "    </tr>\n",
       "    <tr>\n",
       "      <th>8</th>\n",
       "      <td>MainScreenAppear</td>\n",
       "      <td>1850981295691852772</td>\n",
       "      <td>1564086702</td>\n",
       "      <td>247</td>\n",
       "    </tr>\n",
       "    <tr>\n",
       "      <th>9</th>\n",
       "      <td>MainScreenAppear</td>\n",
       "      <td>5407636962369102641</td>\n",
       "      <td>1564112112</td>\n",
       "      <td>246</td>\n",
       "    </tr>\n",
       "  </tbody>\n",
       "</table>\n",
       "</div>"
      ],
      "text/plain": [
       "                 EventName         DeviceIDHash  EventTimestamp  ExpId\n",
       "0         MainScreenAppear  4575588528974610257      1564029816    246\n",
       "1         MainScreenAppear  7416695313311560658      1564053102    246\n",
       "2  PaymentScreenSuccessful  3518123091307005509      1564054127    248\n",
       "3         CartScreenAppear  3518123091307005509      1564054127    248\n",
       "4  PaymentScreenSuccessful  6217807653094995999      1564055322    248\n",
       "5         CartScreenAppear  6217807653094995999      1564055323    248\n",
       "6       OffersScreenAppear  8351860793733343758      1564066242    246\n",
       "7         MainScreenAppear  5682100281902512875      1564085677    246\n",
       "8         MainScreenAppear  1850981295691852772      1564086702    247\n",
       "9         MainScreenAppear  5407636962369102641      1564112112    246"
      ]
     },
     "execution_count": 4,
     "metadata": {},
     "output_type": "execute_result"
    }
   ],
   "source": [
    "pd.options.display.max_colwidth = 150\n",
    "data.head(10)"
   ]
  },
  {
   "cell_type": "code",
   "execution_count": 5,
   "metadata": {},
   "outputs": [
    {
     "name": "stdout",
     "output_type": "stream",
     "text": [
      "<class 'pandas.core.frame.DataFrame'>\n",
      "RangeIndex: 244126 entries, 0 to 244125\n",
      "Data columns (total 4 columns):\n",
      " #   Column          Non-Null Count   Dtype \n",
      "---  ------          --------------   ----- \n",
      " 0   EventName       244126 non-null  object\n",
      " 1   DeviceIDHash    244126 non-null  int64 \n",
      " 2   EventTimestamp  244126 non-null  int64 \n",
      " 3   ExpId           244126 non-null  int64 \n",
      "dtypes: int64(3), object(1)\n",
      "memory usage: 7.5+ MB\n"
     ]
    }
   ],
   "source": [
    "data.info()"
   ]
  },
  {
   "cell_type": "markdown",
   "metadata": {},
   "source": [
    "В датафрейме видим 5 столбца, по 244126 значений в каждом, пропущенных значений нет, колонку EventTimestamp требуется привести к временному типу, названия колонок приведем к нижнему регистру и змеиному стилю."
   ]
  },
  {
   "cell_type": "markdown",
   "metadata": {},
   "source": [
    "**Шаг 2. Предобработка данных**"
   ]
  },
  {
   "cell_type": "code",
   "execution_count": 6,
   "metadata": {},
   "outputs": [],
   "source": [
    "# приведем названия столбцов к нижнему регистру и змеиному стилю\n",
    "data = data.rename(columns={'EventName': 'event_name', 'DeviceIDHash': 'device_id_hash', \n",
    "                            'EventTimestamp': 'event_timestamp', 'ExpId': 'exp_id'})"
   ]
  },
  {
   "cell_type": "code",
   "execution_count": 7,
   "metadata": {},
   "outputs": [
    {
     "data": {
      "text/html": [
       "<div>\n",
       "<style scoped>\n",
       "    .dataframe tbody tr th:only-of-type {\n",
       "        vertical-align: middle;\n",
       "    }\n",
       "\n",
       "    .dataframe tbody tr th {\n",
       "        vertical-align: top;\n",
       "    }\n",
       "\n",
       "    .dataframe thead th {\n",
       "        text-align: right;\n",
       "    }\n",
       "</style>\n",
       "<table border=\"1\" class=\"dataframe\">\n",
       "  <thead>\n",
       "    <tr style=\"text-align: right;\">\n",
       "      <th></th>\n",
       "      <th>event_name</th>\n",
       "      <th>device_id_hash</th>\n",
       "      <th>event_timestamp</th>\n",
       "      <th>exp_id</th>\n",
       "    </tr>\n",
       "  </thead>\n",
       "  <tbody>\n",
       "    <tr>\n",
       "      <th>0</th>\n",
       "      <td>MainScreenAppear</td>\n",
       "      <td>4575588528974610257</td>\n",
       "      <td>1564029816</td>\n",
       "      <td>246</td>\n",
       "    </tr>\n",
       "    <tr>\n",
       "      <th>1</th>\n",
       "      <td>MainScreenAppear</td>\n",
       "      <td>7416695313311560658</td>\n",
       "      <td>1564053102</td>\n",
       "      <td>246</td>\n",
       "    </tr>\n",
       "    <tr>\n",
       "      <th>2</th>\n",
       "      <td>PaymentScreenSuccessful</td>\n",
       "      <td>3518123091307005509</td>\n",
       "      <td>1564054127</td>\n",
       "      <td>248</td>\n",
       "    </tr>\n",
       "    <tr>\n",
       "      <th>3</th>\n",
       "      <td>CartScreenAppear</td>\n",
       "      <td>3518123091307005509</td>\n",
       "      <td>1564054127</td>\n",
       "      <td>248</td>\n",
       "    </tr>\n",
       "    <tr>\n",
       "      <th>4</th>\n",
       "      <td>PaymentScreenSuccessful</td>\n",
       "      <td>6217807653094995999</td>\n",
       "      <td>1564055322</td>\n",
       "      <td>248</td>\n",
       "    </tr>\n",
       "  </tbody>\n",
       "</table>\n",
       "</div>"
      ],
      "text/plain": [
       "                event_name       device_id_hash  event_timestamp  exp_id\n",
       "0         MainScreenAppear  4575588528974610257       1564029816     246\n",
       "1         MainScreenAppear  7416695313311560658       1564053102     246\n",
       "2  PaymentScreenSuccessful  3518123091307005509       1564054127     248\n",
       "3         CartScreenAppear  3518123091307005509       1564054127     248\n",
       "4  PaymentScreenSuccessful  6217807653094995999       1564055322     248"
      ]
     },
     "execution_count": 7,
     "metadata": {},
     "output_type": "execute_result"
    }
   ],
   "source": [
    "# проверим\n",
    "data.head()"
   ]
  },
  {
   "cell_type": "code",
   "execution_count": 8,
   "metadata": {},
   "outputs": [],
   "source": [
    "# приведем event_timestamp к типу datetime\n",
    "data['event_timestamp'] = pd.to_datetime(data['event_timestamp'], unit='s')"
   ]
  },
  {
   "cell_type": "code",
   "execution_count": 9,
   "metadata": {},
   "outputs": [
    {
     "data": {
      "text/html": [
       "<div>\n",
       "<style scoped>\n",
       "    .dataframe tbody tr th:only-of-type {\n",
       "        vertical-align: middle;\n",
       "    }\n",
       "\n",
       "    .dataframe tbody tr th {\n",
       "        vertical-align: top;\n",
       "    }\n",
       "\n",
       "    .dataframe thead th {\n",
       "        text-align: right;\n",
       "    }\n",
       "</style>\n",
       "<table border=\"1\" class=\"dataframe\">\n",
       "  <thead>\n",
       "    <tr style=\"text-align: right;\">\n",
       "      <th></th>\n",
       "      <th>event_name</th>\n",
       "      <th>device_id_hash</th>\n",
       "      <th>event_timestamp</th>\n",
       "      <th>exp_id</th>\n",
       "    </tr>\n",
       "  </thead>\n",
       "  <tbody>\n",
       "    <tr>\n",
       "      <th>0</th>\n",
       "      <td>MainScreenAppear</td>\n",
       "      <td>4575588528974610257</td>\n",
       "      <td>2019-07-25 04:43:36</td>\n",
       "      <td>246</td>\n",
       "    </tr>\n",
       "    <tr>\n",
       "      <th>1</th>\n",
       "      <td>MainScreenAppear</td>\n",
       "      <td>7416695313311560658</td>\n",
       "      <td>2019-07-25 11:11:42</td>\n",
       "      <td>246</td>\n",
       "    </tr>\n",
       "    <tr>\n",
       "      <th>2</th>\n",
       "      <td>PaymentScreenSuccessful</td>\n",
       "      <td>3518123091307005509</td>\n",
       "      <td>2019-07-25 11:28:47</td>\n",
       "      <td>248</td>\n",
       "    </tr>\n",
       "    <tr>\n",
       "      <th>3</th>\n",
       "      <td>CartScreenAppear</td>\n",
       "      <td>3518123091307005509</td>\n",
       "      <td>2019-07-25 11:28:47</td>\n",
       "      <td>248</td>\n",
       "    </tr>\n",
       "    <tr>\n",
       "      <th>4</th>\n",
       "      <td>PaymentScreenSuccessful</td>\n",
       "      <td>6217807653094995999</td>\n",
       "      <td>2019-07-25 11:48:42</td>\n",
       "      <td>248</td>\n",
       "    </tr>\n",
       "  </tbody>\n",
       "</table>\n",
       "</div>"
      ],
      "text/plain": [
       "                event_name       device_id_hash     event_timestamp  exp_id\n",
       "0         MainScreenAppear  4575588528974610257 2019-07-25 04:43:36     246\n",
       "1         MainScreenAppear  7416695313311560658 2019-07-25 11:11:42     246\n",
       "2  PaymentScreenSuccessful  3518123091307005509 2019-07-25 11:28:47     248\n",
       "3         CartScreenAppear  3518123091307005509 2019-07-25 11:28:47     248\n",
       "4  PaymentScreenSuccessful  6217807653094995999 2019-07-25 11:48:42     248"
      ]
     },
     "execution_count": 9,
     "metadata": {},
     "output_type": "execute_result"
    }
   ],
   "source": [
    "# проверим\n",
    "data.head()"
   ]
  },
  {
   "cell_type": "code",
   "execution_count": 10,
   "metadata": {},
   "outputs": [],
   "source": [
    "# добавим столбец с датой\n",
    "data['date'] = pd.to_datetime(data['event_timestamp'].dt.date)"
   ]
  },
  {
   "cell_type": "code",
   "execution_count": 11,
   "metadata": {},
   "outputs": [
    {
     "data": {
      "text/html": [
       "<div>\n",
       "<style scoped>\n",
       "    .dataframe tbody tr th:only-of-type {\n",
       "        vertical-align: middle;\n",
       "    }\n",
       "\n",
       "    .dataframe tbody tr th {\n",
       "        vertical-align: top;\n",
       "    }\n",
       "\n",
       "    .dataframe thead th {\n",
       "        text-align: right;\n",
       "    }\n",
       "</style>\n",
       "<table border=\"1\" class=\"dataframe\">\n",
       "  <thead>\n",
       "    <tr style=\"text-align: right;\">\n",
       "      <th></th>\n",
       "      <th>event_name</th>\n",
       "      <th>device_id_hash</th>\n",
       "      <th>event_timestamp</th>\n",
       "      <th>exp_id</th>\n",
       "      <th>date</th>\n",
       "    </tr>\n",
       "  </thead>\n",
       "  <tbody>\n",
       "    <tr>\n",
       "      <th>0</th>\n",
       "      <td>MainScreenAppear</td>\n",
       "      <td>4575588528974610257</td>\n",
       "      <td>2019-07-25 04:43:36</td>\n",
       "      <td>246</td>\n",
       "      <td>2019-07-25</td>\n",
       "    </tr>\n",
       "    <tr>\n",
       "      <th>1</th>\n",
       "      <td>MainScreenAppear</td>\n",
       "      <td>7416695313311560658</td>\n",
       "      <td>2019-07-25 11:11:42</td>\n",
       "      <td>246</td>\n",
       "      <td>2019-07-25</td>\n",
       "    </tr>\n",
       "    <tr>\n",
       "      <th>2</th>\n",
       "      <td>PaymentScreenSuccessful</td>\n",
       "      <td>3518123091307005509</td>\n",
       "      <td>2019-07-25 11:28:47</td>\n",
       "      <td>248</td>\n",
       "      <td>2019-07-25</td>\n",
       "    </tr>\n",
       "    <tr>\n",
       "      <th>3</th>\n",
       "      <td>CartScreenAppear</td>\n",
       "      <td>3518123091307005509</td>\n",
       "      <td>2019-07-25 11:28:47</td>\n",
       "      <td>248</td>\n",
       "      <td>2019-07-25</td>\n",
       "    </tr>\n",
       "    <tr>\n",
       "      <th>4</th>\n",
       "      <td>PaymentScreenSuccessful</td>\n",
       "      <td>6217807653094995999</td>\n",
       "      <td>2019-07-25 11:48:42</td>\n",
       "      <td>248</td>\n",
       "      <td>2019-07-25</td>\n",
       "    </tr>\n",
       "  </tbody>\n",
       "</table>\n",
       "</div>"
      ],
      "text/plain": [
       "                event_name       device_id_hash     event_timestamp  exp_id  \\\n",
       "0         MainScreenAppear  4575588528974610257 2019-07-25 04:43:36     246   \n",
       "1         MainScreenAppear  7416695313311560658 2019-07-25 11:11:42     246   \n",
       "2  PaymentScreenSuccessful  3518123091307005509 2019-07-25 11:28:47     248   \n",
       "3         CartScreenAppear  3518123091307005509 2019-07-25 11:28:47     248   \n",
       "4  PaymentScreenSuccessful  6217807653094995999 2019-07-25 11:48:42     248   \n",
       "\n",
       "        date  \n",
       "0 2019-07-25  \n",
       "1 2019-07-25  \n",
       "2 2019-07-25  \n",
       "3 2019-07-25  \n",
       "4 2019-07-25  "
      ]
     },
     "execution_count": 11,
     "metadata": {},
     "output_type": "execute_result"
    }
   ],
   "source": [
    "data.head()"
   ]
  },
  {
   "cell_type": "code",
   "execution_count": 12,
   "metadata": {},
   "outputs": [
    {
     "data": {
      "text/plain": [
       "413"
      ]
     },
     "execution_count": 12,
     "metadata": {},
     "output_type": "execute_result"
    }
   ],
   "source": [
    "# проверим на наличие дубликатов\n",
    "data.duplicated().sum()"
   ]
  },
  {
   "cell_type": "code",
   "execution_count": 13,
   "metadata": {},
   "outputs": [
    {
     "data": {
      "text/plain": [
       "0.0017"
      ]
     },
     "execution_count": 13,
     "metadata": {},
     "output_type": "execute_result"
    }
   ],
   "source": [
    "round(data.duplicated().sum()/len(data),4)"
   ]
  },
  {
   "cell_type": "code",
   "execution_count": 14,
   "metadata": {},
   "outputs": [],
   "source": [
    "data = data.drop_duplicates()"
   ]
  },
  {
   "cell_type": "code",
   "execution_count": 15,
   "metadata": {},
   "outputs": [
    {
     "data": {
      "text/plain": [
       "0"
      ]
     },
     "execution_count": 15,
     "metadata": {},
     "output_type": "execute_result"
    }
   ],
   "source": [
    "data.duplicated().sum()"
   ]
  },
  {
   "cell_type": "code",
   "execution_count": 52,
   "metadata": {},
   "outputs": [
    {
     "data": {
      "text/html": [
       "<div>\n",
       "<style scoped>\n",
       "    .dataframe tbody tr th:only-of-type {\n",
       "        vertical-align: middle;\n",
       "    }\n",
       "\n",
       "    .dataframe tbody tr th {\n",
       "        vertical-align: top;\n",
       "    }\n",
       "\n",
       "    .dataframe thead th {\n",
       "        text-align: right;\n",
       "    }\n",
       "</style>\n",
       "<table border=\"1\" class=\"dataframe\">\n",
       "  <thead>\n",
       "    <tr style=\"text-align: right;\">\n",
       "      <th></th>\n",
       "      <th>event_name</th>\n",
       "      <th>device_id_hash</th>\n",
       "      <th>event_timestamp</th>\n",
       "      <th>exp_id</th>\n",
       "      <th>date</th>\n",
       "    </tr>\n",
       "  </thead>\n",
       "  <tbody>\n",
       "  </tbody>\n",
       "</table>\n",
       "</div>"
      ],
      "text/plain": [
       "Empty DataFrame\n",
       "Columns: [event_name, device_id_hash, event_timestamp, exp_id, date]\n",
       "Index: []"
      ]
     },
     "execution_count": 52,
     "metadata": {},
     "output_type": "execute_result"
    }
   ],
   "source": [
    "double = data.duplicated(subset=['event_name', 'device_id_hash', 'event_timestamp'], keep=False)\n",
    "data[double]"
   ]
  },
  {
   "cell_type": "markdown",
   "metadata": {},
   "source": [
    "**В ходе предобработки данных было сделано следующее:**\n",
    "- столбцы были приведены к нижнему регистру и змеиному стилю;\n",
    "- столбец event_timestamp был приведен к временному типу;\n",
    "- был создан столбец с датой - date;\n",
    "- были удалены дубликаты;\n",
    "- неявных дубликатов найдено не было;\n",
    "Данные готовы к работе."
   ]
  },
  {
   "cell_type": "markdown",
   "metadata": {},
   "source": [
    "**Шаг 3. Изучим и проверим данные**"
   ]
  },
  {
   "cell_type": "markdown",
   "metadata": {},
   "source": [
    "**3.1. Узнаем сколько всего событий в логе**"
   ]
  },
  {
   "cell_type": "code",
   "execution_count": 17,
   "metadata": {},
   "outputs": [
    {
     "data": {
      "text/plain": [
       "MainScreenAppear           119101\n",
       "OffersScreenAppear          46808\n",
       "CartScreenAppear            42668\n",
       "PaymentScreenSuccessful     34118\n",
       "Tutorial                     1018\n",
       "Name: event_name, dtype: int64"
      ]
     },
     "execution_count": 17,
     "metadata": {},
     "output_type": "execute_result"
    }
   ],
   "source": [
    "data['event_name'].value_counts()"
   ]
  },
  {
   "cell_type": "markdown",
   "metadata": {},
   "source": [
    "В логе 5 событий, самое большое кольчество в группе \"MainScreenAppear\" - 119101, наименьшее в \"Tutorial\" - 1018."
   ]
  },
  {
   "cell_type": "markdown",
   "metadata": {},
   "source": [
    "**3.2. Узнаем сколько всего пользователей в логе**"
   ]
  },
  {
   "cell_type": "code",
   "execution_count": 18,
   "metadata": {},
   "outputs": [
    {
     "data": {
      "text/plain": [
       "7551"
      ]
     },
     "execution_count": 18,
     "metadata": {},
     "output_type": "execute_result"
    }
   ],
   "source": [
    "data['device_id_hash'].nunique()"
   ]
  },
  {
   "cell_type": "markdown",
   "metadata": {},
   "source": [
    "**3.3. Узнаем сколько в среднем событий приходится на пользователя**"
   ]
  },
  {
   "cell_type": "code",
   "execution_count": 19,
   "metadata": {},
   "outputs": [
    {
     "data": {
      "text/plain": [
       "32.27559263673685"
      ]
     },
     "execution_count": 19,
     "metadata": {},
     "output_type": "execute_result"
    }
   ],
   "source": [
    "event_by_user = data.groupby('device_id_hash')['event_name'].count()\n",
    "event_by_user.mean()\n"
   ]
  },
  {
   "cell_type": "code",
   "execution_count": 20,
   "metadata": {},
   "outputs": [
    {
     "data": {
      "text/plain": [
       "device_id_hash\n",
       "6888746892508752         1\n",
       "6909561520679493         5\n",
       "6922444491712477        47\n",
       "7435777799948366         6\n",
       "7702139951469979       137\n",
       "                      ... \n",
       "9217594193087726423      9\n",
       "9219463515465815368     17\n",
       "9220879493065341500      7\n",
       "9221926045299980007      7\n",
       "9222603179720523844     59\n",
       "Name: event_name, Length: 7551, dtype: int64"
      ]
     },
     "execution_count": 20,
     "metadata": {},
     "output_type": "execute_result"
    }
   ],
   "source": [
    "event_by_user"
   ]
  },
  {
   "cell_type": "markdown",
   "metadata": {},
   "source": [
    "**3.4.1 Найдем максимальную и минимальную дату.**"
   ]
  },
  {
   "cell_type": "code",
   "execution_count": 21,
   "metadata": {},
   "outputs": [
    {
     "data": {
      "text/plain": [
       "Timestamp('2019-08-07 00:00:00')"
      ]
     },
     "execution_count": 21,
     "metadata": {},
     "output_type": "execute_result"
    }
   ],
   "source": [
    "# максимальная дата\n",
    "data['date'].max()"
   ]
  },
  {
   "cell_type": "code",
   "execution_count": 22,
   "metadata": {},
   "outputs": [
    {
     "data": {
      "text/plain": [
       "Timestamp('2019-07-25 00:00:00')"
      ]
     },
     "execution_count": 22,
     "metadata": {},
     "output_type": "execute_result"
    }
   ],
   "source": [
    "#минимальная дата\n",
    "data['date'].min()"
   ]
  },
  {
   "cell_type": "code",
   "execution_count": 23,
   "metadata": {},
   "outputs": [
    {
     "data": {
      "text/plain": [
       "Timedelta('13 days 16:31:41')"
      ]
     },
     "execution_count": 23,
     "metadata": {},
     "output_type": "execute_result"
    }
   ],
   "source": [
    "# найдем период\n",
    "data['event_timestamp'].max()-data['event_timestamp'].min()"
   ]
  },
  {
   "cell_type": "markdown",
   "metadata": {},
   "source": [
    "**3.4.2 Изучим, как меняется количество данных: построим столбчатую диаграмму, которая отобразит количество событий в зависимости от времени в разрезе групп.**"
   ]
  },
  {
   "cell_type": "code",
   "execution_count": 24,
   "metadata": {},
   "outputs": [
    {
     "data": {
      "image/png": "[encoded data removed]",
      "text/plain": [
       "<Figure size 864x504 with 1 Axes>"
      ]
     },
     "metadata": {
      "needs_background": "light"
     },
     "output_type": "display_data"
    }
   ],
   "source": [
    "gr = data.pivot_table(index='date', columns='exp_id', values='device_id_hash', aggfunc='count').plot(\n",
    "    kind='bar', figsize=(12,7), grid=True)\n",
    "plt.xlabel('Даты') \n",
    "plt.ylabel('Количество событий') \n",
    "plt.title('Количество событий по группам') \n",
    "plt.legend() \n",
    "plt.xticks(rotation=45)\n",
    "plt.show() "
   ]
  },
  {
   "cell_type": "markdown",
   "metadata": {},
   "source": [
    "По графику видно, что активность начитается с 1 августа 2019 года, до этого момента событий практически не было. Для анализа возьмем промежуток с 1 по 7 августа 2019 года."
   ]
  },
  {
   "cell_type": "code",
   "execution_count": 25,
   "metadata": {},
   "outputs": [],
   "source": [
    "interval_date = pd.to_datetime('2019-08-01', format = '%Y-%m-%d')\n",
    "date_full = data[data['date'] >= interval_date]"
   ]
  },
  {
   "cell_type": "markdown",
   "metadata": {},
   "source": [
    "**3.5. Узнаем много ли событий и пользователей мы потеряли, отбросив старые данные**"
   ]
  },
  {
   "cell_type": "code",
   "execution_count": 26,
   "metadata": {},
   "outputs": [
    {
     "name": "stdout",
     "output_type": "stream",
     "text": [
      "Количество потерянных событий: 2826\n",
      "Процент потерь событий: 1.16 %\n"
     ]
    }
   ],
   "source": [
    "print('Количество потерянных событий:', len(data)-len(date_full))\n",
    "\n",
    "print('Процент потерь событий:', round(100-len(date_full)/len(data)*100, 2), '%')"
   ]
  },
  {
   "cell_type": "code",
   "execution_count": 27,
   "metadata": {},
   "outputs": [
    {
     "name": "stdout",
     "output_type": "stream",
     "text": [
      "Количество потерянных пользователей: 17\n",
      "Процент потерь пользователей: 0.23 %\n"
     ]
    }
   ],
   "source": [
    "print('Количество потерянных пользователей:',data['device_id_hash'].nunique()-date_full['device_id_hash'].nunique())\n",
    "\n",
    "print('Процент потерь пользователей:', round(100-date_full['device_id_hash'].nunique()/data['device_id_hash'].nunique()*100, 2), '%')"
   ]
  },
  {
   "cell_type": "markdown",
   "metadata": {},
   "source": [
    "Потери совсем небольшие, можно анализировать дальше."
   ]
  },
  {
   "cell_type": "markdown",
   "metadata": {},
   "source": [
    "**3.6. Проверим, что у нас есть пользователи из всех трёх экспериментальных групп.**"
   ]
  },
  {
   "cell_type": "code",
   "execution_count": 28,
   "metadata": {},
   "outputs": [
    {
     "data": {
      "text/plain": [
       "248    84563\n",
       "246    79302\n",
       "247    77022\n",
       "Name: exp_id, dtype: int64"
      ]
     },
     "execution_count": 28,
     "metadata": {},
     "output_type": "execute_result"
    }
   ],
   "source": [
    "date_full['exp_id'].value_counts()"
   ]
  },
  {
   "cell_type": "code",
   "execution_count": 29,
   "metadata": {},
   "outputs": [
    {
     "data": {
      "text/plain": [
       "exp_id\n",
       "246    2484\n",
       "247    2513\n",
       "248    2537\n",
       "Name: device_id_hash, dtype: int64"
      ]
     },
     "execution_count": 29,
     "metadata": {},
     "output_type": "execute_result"
    }
   ],
   "source": [
    "date_full.groupby('exp_id')['device_id_hash'].nunique()"
   ]
  },
  {
   "cell_type": "code",
   "execution_count": 30,
   "metadata": {},
   "outputs": [
    {
     "data": {
      "text/html": [
       "<div>\n",
       "<style scoped>\n",
       "    .dataframe tbody tr th:only-of-type {\n",
       "        vertical-align: middle;\n",
       "    }\n",
       "\n",
       "    .dataframe tbody tr th {\n",
       "        vertical-align: top;\n",
       "    }\n",
       "\n",
       "    .dataframe thead th {\n",
       "        text-align: right;\n",
       "    }\n",
       "</style>\n",
       "<table border=\"1\" class=\"dataframe\">\n",
       "  <thead>\n",
       "    <tr style=\"text-align: right;\">\n",
       "      <th></th>\n",
       "      <th>event_name</th>\n",
       "      <th>device_id_hash</th>\n",
       "      <th>event_timestamp</th>\n",
       "      <th>exp_id</th>\n",
       "      <th>date</th>\n",
       "    </tr>\n",
       "  </thead>\n",
       "  <tbody>\n",
       "    <tr>\n",
       "      <th>168414</th>\n",
       "      <td>MainScreenAppear</td>\n",
       "      <td>346062195302431477</td>\n",
       "      <td>2019-08-05 16:45:03</td>\n",
       "      <td>247</td>\n",
       "      <td>2019-08-05</td>\n",
       "    </tr>\n",
       "  </tbody>\n",
       "</table>\n",
       "</div>"
      ],
      "text/plain": [
       "              event_name      device_id_hash     event_timestamp  exp_id  \\\n",
       "168414  MainScreenAppear  346062195302431477 2019-08-05 16:45:03     247   \n",
       "\n",
       "             date  \n",
       "168414 2019-08-05  "
      ]
     },
     "execution_count": 30,
     "metadata": {},
     "output_type": "execute_result"
    }
   ],
   "source": [
    "date_full.sample()"
   ]
  },
  {
   "cell_type": "code",
   "execution_count": 31,
   "metadata": {},
   "outputs": [
    {
     "data": {
      "text/plain": [
       "exp_id    0\n",
       "dtype: int64"
      ]
     },
     "execution_count": 31,
     "metadata": {},
     "output_type": "execute_result"
    }
   ],
   "source": [
    "# количество задублированных пользователей во всех группах \n",
    "data.groupby('device_id_hash').agg({'exp_id': 'nunique'}).query('exp_id>1').count()"
   ]
  },
  {
   "cell_type": "markdown",
   "metadata": {},
   "source": [
    "По результатам видно, что присутствуют пользователи из всех трех экспериментальных групп, более того примерно по 2500 в каждой."
   ]
  },
  {
   "cell_type": "markdown",
   "metadata": {},
   "source": [
    "**Вывод:** Актуальными данные за период с 1 по 7 августа 2019 года. В них мы обнаружили всего 5 событий: главный экран, предложения, корзина, оплата и обучение. После обработки данных потери составили 1.16 % - для событий и 0.23 % для пользователей. Так как они несущественны, на дальнейший результат это не повлияет. Также в среднем на пользователя приходится примерно 32 события."
   ]
  },
  {
   "cell_type": "markdown",
   "metadata": {},
   "source": [
    "**Шаг 4. Изучим воронку событий**"
   ]
  },
  {
   "cell_type": "markdown",
   "metadata": {},
   "source": [
    "**4.1. Посмотрим, какие события есть в логах, как часто они встречаются. Отсортируем события по частоте**"
   ]
  },
  {
   "cell_type": "code",
   "execution_count": 32,
   "metadata": {},
   "outputs": [
    {
     "data": {
      "text/html": [
       "<div>\n",
       "<style scoped>\n",
       "    .dataframe tbody tr th:only-of-type {\n",
       "        vertical-align: middle;\n",
       "    }\n",
       "\n",
       "    .dataframe tbody tr th {\n",
       "        vertical-align: top;\n",
       "    }\n",
       "\n",
       "    .dataframe thead th {\n",
       "        text-align: right;\n",
       "    }\n",
       "</style>\n",
       "<table border=\"1\" class=\"dataframe\">\n",
       "  <thead>\n",
       "    <tr style=\"text-align: right;\">\n",
       "      <th></th>\n",
       "      <th>index</th>\n",
       "      <th>event_name</th>\n",
       "    </tr>\n",
       "  </thead>\n",
       "  <tbody>\n",
       "    <tr>\n",
       "      <th>0</th>\n",
       "      <td>MainScreenAppear</td>\n",
       "      <td>117328</td>\n",
       "    </tr>\n",
       "    <tr>\n",
       "      <th>1</th>\n",
       "      <td>OffersScreenAppear</td>\n",
       "      <td>46333</td>\n",
       "    </tr>\n",
       "    <tr>\n",
       "      <th>2</th>\n",
       "      <td>CartScreenAppear</td>\n",
       "      <td>42303</td>\n",
       "    </tr>\n",
       "    <tr>\n",
       "      <th>3</th>\n",
       "      <td>PaymentScreenSuccessful</td>\n",
       "      <td>33918</td>\n",
       "    </tr>\n",
       "    <tr>\n",
       "      <th>4</th>\n",
       "      <td>Tutorial</td>\n",
       "      <td>1005</td>\n",
       "    </tr>\n",
       "  </tbody>\n",
       "</table>\n",
       "</div>"
      ],
      "text/plain": [
       "                     index  event_name\n",
       "0         MainScreenAppear      117328\n",
       "1       OffersScreenAppear       46333\n",
       "2         CartScreenAppear       42303\n",
       "3  PaymentScreenSuccessful       33918\n",
       "4                 Tutorial        1005"
      ]
     },
     "execution_count": 32,
     "metadata": {},
     "output_type": "execute_result"
    }
   ],
   "source": [
    "events_count = date_full['event_name'].value_counts().reset_index().sort_values(by='event_name', ascending=False)\n",
    "events_count"
   ]
  },
  {
   "cell_type": "markdown",
   "metadata": {},
   "source": [
    "Чаще всех встречается \"MainScreenAppear\", реже всего \"Tutorial\"."
   ]
  },
  {
   "cell_type": "markdown",
   "metadata": {},
   "source": [
    "**4.2. Посчитаем, сколько пользователей совершали каждое из этих событий. Отсортируем события по числу пользователей. Посчитаем долю пользователей, которые хоть раз совершали событие.**"
   ]
  },
  {
   "cell_type": "code",
   "execution_count": 33,
   "metadata": {},
   "outputs": [
    {
     "data": {
      "text/html": [
       "<div>\n",
       "<style scoped>\n",
       "    .dataframe tbody tr th:only-of-type {\n",
       "        vertical-align: middle;\n",
       "    }\n",
       "\n",
       "    .dataframe tbody tr th {\n",
       "        vertical-align: top;\n",
       "    }\n",
       "\n",
       "    .dataframe thead th {\n",
       "        text-align: right;\n",
       "    }\n",
       "</style>\n",
       "<table border=\"1\" class=\"dataframe\">\n",
       "  <thead>\n",
       "    <tr style=\"text-align: right;\">\n",
       "      <th></th>\n",
       "      <th>event_name</th>\n",
       "      <th>device_id_hash</th>\n",
       "    </tr>\n",
       "  </thead>\n",
       "  <tbody>\n",
       "    <tr>\n",
       "      <th>0</th>\n",
       "      <td>MainScreenAppear</td>\n",
       "      <td>7419</td>\n",
       "    </tr>\n",
       "    <tr>\n",
       "      <th>1</th>\n",
       "      <td>OffersScreenAppear</td>\n",
       "      <td>4593</td>\n",
       "    </tr>\n",
       "    <tr>\n",
       "      <th>2</th>\n",
       "      <td>CartScreenAppear</td>\n",
       "      <td>3734</td>\n",
       "    </tr>\n",
       "    <tr>\n",
       "      <th>3</th>\n",
       "      <td>PaymentScreenSuccessful</td>\n",
       "      <td>3539</td>\n",
       "    </tr>\n",
       "    <tr>\n",
       "      <th>4</th>\n",
       "      <td>Tutorial</td>\n",
       "      <td>840</td>\n",
       "    </tr>\n",
       "  </tbody>\n",
       "</table>\n",
       "</div>"
      ],
      "text/plain": [
       "                event_name  device_id_hash\n",
       "0         MainScreenAppear            7419\n",
       "1       OffersScreenAppear            4593\n",
       "2         CartScreenAppear            3734\n",
       "3  PaymentScreenSuccessful            3539\n",
       "4                 Tutorial             840"
      ]
     },
     "execution_count": 33,
     "metadata": {},
     "output_type": "execute_result"
    }
   ],
   "source": [
    "event_users = date_full.groupby('event_name')['device_id_hash'].nunique().sort_values(ascending=False).to_frame().reset_index()\n",
    "event_users"
   ]
  },
  {
   "cell_type": "code",
   "execution_count": 34,
   "metadata": {},
   "outputs": [
    {
     "data": {
      "text/plain": [
       "7534"
      ]
     },
     "execution_count": 34,
     "metadata": {},
     "output_type": "execute_result"
    }
   ],
   "source": [
    "total_users = date_full['device_id_hash'].nunique()\n",
    "total_users"
   ]
  },
  {
   "cell_type": "code",
   "execution_count": 35,
   "metadata": {},
   "outputs": [
    {
     "data": {
      "text/html": [
       "<div>\n",
       "<style scoped>\n",
       "    .dataframe tbody tr th:only-of-type {\n",
       "        vertical-align: middle;\n",
       "    }\n",
       "\n",
       "    .dataframe tbody tr th {\n",
       "        vertical-align: top;\n",
       "    }\n",
       "\n",
       "    .dataframe thead th {\n",
       "        text-align: right;\n",
       "    }\n",
       "</style>\n",
       "<table border=\"1\" class=\"dataframe\">\n",
       "  <thead>\n",
       "    <tr style=\"text-align: right;\">\n",
       "      <th></th>\n",
       "      <th>event_name</th>\n",
       "      <th>device_id_hash</th>\n",
       "      <th>percent</th>\n",
       "    </tr>\n",
       "  </thead>\n",
       "  <tbody>\n",
       "    <tr>\n",
       "      <th>0</th>\n",
       "      <td>MainScreenAppear</td>\n",
       "      <td>7419</td>\n",
       "      <td>98.5</td>\n",
       "    </tr>\n",
       "    <tr>\n",
       "      <th>1</th>\n",
       "      <td>OffersScreenAppear</td>\n",
       "      <td>4593</td>\n",
       "      <td>61.0</td>\n",
       "    </tr>\n",
       "    <tr>\n",
       "      <th>2</th>\n",
       "      <td>CartScreenAppear</td>\n",
       "      <td>3734</td>\n",
       "      <td>49.6</td>\n",
       "    </tr>\n",
       "    <tr>\n",
       "      <th>3</th>\n",
       "      <td>PaymentScreenSuccessful</td>\n",
       "      <td>3539</td>\n",
       "      <td>47.0</td>\n",
       "    </tr>\n",
       "    <tr>\n",
       "      <th>4</th>\n",
       "      <td>Tutorial</td>\n",
       "      <td>840</td>\n",
       "      <td>11.1</td>\n",
       "    </tr>\n",
       "  </tbody>\n",
       "</table>\n",
       "</div>"
      ],
      "text/plain": [
       "                event_name  device_id_hash  percent\n",
       "0         MainScreenAppear            7419     98.5\n",
       "1       OffersScreenAppear            4593     61.0\n",
       "2         CartScreenAppear            3734     49.6\n",
       "3  PaymentScreenSuccessful            3539     47.0\n",
       "4                 Tutorial             840     11.1"
      ]
     },
     "execution_count": 35,
     "metadata": {},
     "output_type": "execute_result"
    }
   ],
   "source": [
    "#добавим столбец с долей пользователей\n",
    "event_users['percent'] = (event_users['device_id_hash'] / total_users).round(3) * 100 \n",
    "event_users"
   ]
  },
  {
   "cell_type": "markdown",
   "metadata": {},
   "source": [
    "Больше всего пользователей посетило главный экран - 98.5%. Далее, на экран с предложениями переходили уже 61%. В корзину добавили 49.6% пользователей. Оплатили 47%, а прошли обучение всего 11.1%"
   ]
  },
  {
   "cell_type": "markdown",
   "metadata": {},
   "source": [
    "**4.3 Подумаем, в каком порядке происходят события. Все ли они выстраиваются в последовательную цепочку? Их не нужно учитывать при расчёте воронки.**"
   ]
  },
  {
   "cell_type": "markdown",
   "metadata": {},
   "source": [
    "Скорее всего пользователи начинают с главного экрана (MainScreenAppear), затем переходят в 'предложения' (OffersScreenAppear), если его заинтересовало что-то, то они отправляются в корзину (CartScreenAppear) и если все устроило, то он оплачивает покупку (PaymentScreenSuccessful). Еще есть также событие обучения (Tutorial), но видимо, приложение интуитивно понятное, что его пользователи пропускают, поэтому его можно и не учитывать при расчете воронки."
   ]
  },
  {
   "cell_type": "markdown",
   "metadata": {},
   "source": [
    "**4.4 По воронке событий посчитаем, какая доля пользователей проходит на следующий шаг воронки (от числа пользователей на предыдущем). То есть для последовательности событий A → B → C посчитаем отношение числа пользователей с событием B к количеству пользователей с событием A, а также отношение числа пользователей с событием C к количеству пользователей с событием B.**"
   ]
  },
  {
   "cell_type": "code",
   "execution_count": 36,
   "metadata": {},
   "outputs": [],
   "source": [
    "event_users.drop([4], axis=0, inplace=True)"
   ]
  },
  {
   "cell_type": "code",
   "execution_count": 37,
   "metadata": {},
   "outputs": [
    {
     "data": {
      "text/html": [
       "<div>\n",
       "<style scoped>\n",
       "    .dataframe tbody tr th:only-of-type {\n",
       "        vertical-align: middle;\n",
       "    }\n",
       "\n",
       "    .dataframe tbody tr th {\n",
       "        vertical-align: top;\n",
       "    }\n",
       "\n",
       "    .dataframe thead th {\n",
       "        text-align: right;\n",
       "    }\n",
       "</style>\n",
       "<table border=\"1\" class=\"dataframe\">\n",
       "  <thead>\n",
       "    <tr style=\"text-align: right;\">\n",
       "      <th></th>\n",
       "      <th>event_name</th>\n",
       "      <th>device_id_hash</th>\n",
       "      <th>percent</th>\n",
       "      <th>funnel</th>\n",
       "    </tr>\n",
       "  </thead>\n",
       "  <tbody>\n",
       "    <tr>\n",
       "      <th>0</th>\n",
       "      <td>MainScreenAppear</td>\n",
       "      <td>7419</td>\n",
       "      <td>98.5</td>\n",
       "      <td>1.0</td>\n",
       "    </tr>\n",
       "    <tr>\n",
       "      <th>1</th>\n",
       "      <td>OffersScreenAppear</td>\n",
       "      <td>4593</td>\n",
       "      <td>61.0</td>\n",
       "      <td>61.9</td>\n",
       "    </tr>\n",
       "    <tr>\n",
       "      <th>2</th>\n",
       "      <td>CartScreenAppear</td>\n",
       "      <td>3734</td>\n",
       "      <td>49.6</td>\n",
       "      <td>81.3</td>\n",
       "    </tr>\n",
       "    <tr>\n",
       "      <th>3</th>\n",
       "      <td>PaymentScreenSuccessful</td>\n",
       "      <td>3539</td>\n",
       "      <td>47.0</td>\n",
       "      <td>94.8</td>\n",
       "    </tr>\n",
       "  </tbody>\n",
       "</table>\n",
       "</div>"
      ],
      "text/plain": [
       "                event_name  device_id_hash  percent  funnel\n",
       "0         MainScreenAppear            7419     98.5     1.0\n",
       "1       OffersScreenAppear            4593     61.0    61.9\n",
       "2         CartScreenAppear            3734     49.6    81.3\n",
       "3  PaymentScreenSuccessful            3539     47.0    94.8"
      ]
     },
     "execution_count": 37,
     "metadata": {},
     "output_type": "execute_result"
    }
   ],
   "source": [
    "event_users['funnel'] = 1\n",
    "for i in range(1, 4):\n",
    "    event_users.loc[i, 'funnel'] = round(event_users.loc[i, 'device_id_hash'] / (event_users.loc[i-1, 'device_id_hash']),3) * 100\n",
    "\n",
    "event_users"
   ]
  },
  {
   "cell_type": "markdown",
   "metadata": {},
   "source": [
    "C MainScreenAppear на OffersScreenAppear переходят почти 62% пользователей, далее на CartScreenAppear переходят 81,3%, а уже на PaymentScreenSuccessful\tпереходят 94,8%"
   ]
  },
  {
   "cell_type": "markdown",
   "metadata": {},
   "source": [
    "**4.5 Узнаем на каком шаге теряете больше всего пользователей**"
   ]
  },
  {
   "cell_type": "code",
   "execution_count": 38,
   "metadata": {},
   "outputs": [
    {
     "data": {
      "image/png": "[encoded data removed]",
      "text/plain": [
       "<Figure size 432x288 with 1 Axes>"
      ]
     },
     "metadata": {
      "needs_background": "light"
     },
     "output_type": "display_data"
    }
   ],
   "source": [
    "plt.figsize=(10,5)\n",
    "sns.barplot(data=event_users.loc[0:4], x='event_name', y='device_id_hash')\n",
    "plt.title('Потери пользователей по группам')\n",
    "plt.xlabel('События')\n",
    "plt.ylabel('Количество пользователей')\n",
    "plt.xticks(rotation=45)\n",
    "plt.show()"
   ]
  },
  {
   "cell_type": "markdown",
   "metadata": {},
   "source": [
    "По графику видно, что с перехода с главного экрана на экран предложений теряется больше всего пользователей."
   ]
  },
  {
   "cell_type": "markdown",
   "metadata": {},
   "source": [
    "**4.6 Узнаем какая доля пользователей доходит от первого события до оплаты**"
   ]
  },
  {
   "cell_type": "code",
   "execution_count": 39,
   "metadata": {},
   "outputs": [
    {
     "data": {
      "text/html": [
       "<div>\n",
       "<style scoped>\n",
       "    .dataframe tbody tr th:only-of-type {\n",
       "        vertical-align: middle;\n",
       "    }\n",
       "\n",
       "    .dataframe tbody tr th {\n",
       "        vertical-align: top;\n",
       "    }\n",
       "\n",
       "    .dataframe thead th {\n",
       "        text-align: right;\n",
       "    }\n",
       "</style>\n",
       "<table border=\"1\" class=\"dataframe\">\n",
       "  <thead>\n",
       "    <tr style=\"text-align: right;\">\n",
       "      <th></th>\n",
       "      <th>event_name</th>\n",
       "      <th>device_id_hash</th>\n",
       "      <th>percent</th>\n",
       "      <th>funnel</th>\n",
       "    </tr>\n",
       "  </thead>\n",
       "  <tbody>\n",
       "    <tr>\n",
       "      <th>0</th>\n",
       "      <td>MainScreenAppear</td>\n",
       "      <td>7419</td>\n",
       "      <td>98.5</td>\n",
       "      <td>1.0</td>\n",
       "    </tr>\n",
       "    <tr>\n",
       "      <th>1</th>\n",
       "      <td>OffersScreenAppear</td>\n",
       "      <td>4593</td>\n",
       "      <td>61.0</td>\n",
       "      <td>61.9</td>\n",
       "    </tr>\n",
       "    <tr>\n",
       "      <th>2</th>\n",
       "      <td>CartScreenAppear</td>\n",
       "      <td>3734</td>\n",
       "      <td>49.6</td>\n",
       "      <td>81.3</td>\n",
       "    </tr>\n",
       "    <tr>\n",
       "      <th>3</th>\n",
       "      <td>PaymentScreenSuccessful</td>\n",
       "      <td>3539</td>\n",
       "      <td>47.0</td>\n",
       "      <td>94.8</td>\n",
       "    </tr>\n",
       "  </tbody>\n",
       "</table>\n",
       "</div>"
      ],
      "text/plain": [
       "                event_name  device_id_hash  percent  funnel\n",
       "0         MainScreenAppear            7419     98.5     1.0\n",
       "1       OffersScreenAppear            4593     61.0    61.9\n",
       "2         CartScreenAppear            3734     49.6    81.3\n",
       "3  PaymentScreenSuccessful            3539     47.0    94.8"
      ]
     },
     "execution_count": 39,
     "metadata": {},
     "output_type": "execute_result"
    }
   ],
   "source": [
    "event_users"
   ]
  },
  {
   "cell_type": "code",
   "execution_count": 40,
   "metadata": {},
   "outputs": [
    {
     "data": {
      "text/plain": [
       "47.7"
      ]
     },
     "execution_count": 40,
     "metadata": {},
     "output_type": "execute_result"
    }
   ],
   "source": [
    "round(event_users['device_id_hash'][3]/event_users['device_id_hash'][0]*100,1)"
   ]
  },
  {
   "cell_type": "markdown",
   "metadata": {},
   "source": [
    "Из расчетов видно что почти 48% пользователей доходят до оплаты."
   ]
  },
  {
   "cell_type": "markdown",
   "metadata": {},
   "source": [
    "**Вывод по исследованию воронки событий:**\n",
    "Всего пять типов событий в данных:\n",
    "- MainScreenAppear;\n",
    "- OffersScreenAppear;\n",
    "- CartScreenAppear;\n",
    "- PaymentScreenSuccessful.\n",
    "\n",
    "Чаще всего из них встречается MainScreenAppear (появление главного экрана) - 117328 раз, реже всего - Tutorial (обучение) - 1005 раз.\n",
    "\n",
    "По пользователям, которые соверишили эти события похожее распределение: больше всего у MainScreenAppear - 7419 пользователей и 98.5%, а у Tutorial - 840 пользователей и 11% cоответсвнно.\n",
    "\n",
    "Мы предположили, что порядок событий должен быть таким: пользователи начинают с главного экрана (MainScreenAppear), затем переходят на экран с предложенными товарами (OffersScreenAppear), если его заинтересовало что-то, то он отправляется в корзину (CartScreenAppear) и когда его все устроило, то они оплачивают покупку (PaymentScreenSuccessful). Еще есть также событие обучения (Tutorial), но пользователи его скорее всего пропускают так как приложение интуитивно понятное, поэтому мы не учитывали при расчете воронки событий.\n",
    "\n",
    "Около 62% пользователей переходят с MainScreenAppear на OffersScreenAppear, 81% переходят с OffersScreenAppear на CartScreenAppear, почти 95% переходят на шаг с CartScreenAppear на PaymentScreenSuccessful. Соответственно, 38% пользователей теряем при переходе с MainScreenAppear на OffersScreenAppear (Было 7419, осталось 4593), затем 19% с OffersScreenAppear на CartScreenAppear, и всего 5% с CartScreenAppear на PaymentScreenSuccessful.\n",
    "\n",
    "С первого события (MainScreenAppear) до экрана оплаты (PaymentScreenSuccessful) доходят 47% пользователей (3539)."
   ]
  },
  {
   "cell_type": "markdown",
   "metadata": {},
   "source": [
    "**Шаг 5. Изучим результаты эксперимента**"
   ]
  },
  {
   "cell_type": "markdown",
   "metadata": {},
   "source": [
    "**5.1 Узнаем сколько пользователей в каждой экспериментальной группе**"
   ]
  },
  {
   "cell_type": "code",
   "execution_count": 41,
   "metadata": {},
   "outputs": [
    {
     "data": {
      "text/html": [
       "<div>\n",
       "<style scoped>\n",
       "    .dataframe tbody tr th:only-of-type {\n",
       "        vertical-align: middle;\n",
       "    }\n",
       "\n",
       "    .dataframe tbody tr th {\n",
       "        vertical-align: top;\n",
       "    }\n",
       "\n",
       "    .dataframe thead th {\n",
       "        text-align: right;\n",
       "    }\n",
       "</style>\n",
       "<table border=\"1\" class=\"dataframe\">\n",
       "  <thead>\n",
       "    <tr style=\"text-align: right;\">\n",
       "      <th></th>\n",
       "      <th>device_id_hash</th>\n",
       "    </tr>\n",
       "    <tr>\n",
       "      <th>exp_id</th>\n",
       "      <th></th>\n",
       "    </tr>\n",
       "  </thead>\n",
       "  <tbody>\n",
       "    <tr>\n",
       "      <th>246</th>\n",
       "      <td>2484</td>\n",
       "    </tr>\n",
       "    <tr>\n",
       "      <th>247</th>\n",
       "      <td>2513</td>\n",
       "    </tr>\n",
       "    <tr>\n",
       "      <th>248</th>\n",
       "      <td>2537</td>\n",
       "    </tr>\n",
       "  </tbody>\n",
       "</table>\n",
       "</div>"
      ],
      "text/plain": [
       "        device_id_hash\n",
       "exp_id                \n",
       "246               2484\n",
       "247               2513\n",
       "248               2537"
      ]
     },
     "execution_count": 41,
     "metadata": {},
     "output_type": "execute_result"
    }
   ],
   "source": [
    "date_full.groupby('exp_id')['device_id_hash'].nunique().to_frame()"
   ]
  },
  {
   "cell_type": "markdown",
   "metadata": {},
   "source": [
    "В каждой экспериментальной группе примерно по 2500 пользователей."
   ]
  },
  {
   "cell_type": "markdown",
   "metadata": {},
   "source": [
    "**5.2 Есть 2 контрольные группы для А/А-эксперимента, чтобы проверить корректность всех механизмов и расчётов. Проверим, находят ли статистические критерии разницу между выборками 246 и 247.**"
   ]
  },
  {
   "cell_type": "code",
   "execution_count": 42,
   "metadata": {},
   "outputs": [],
   "source": [
    "group_246 = date_full.query('exp_id == 246').groupby('exp_id')['device_id_hash'].nunique().reset_index()\n",
    "group_247 = date_full.query('exp_id == 247').groupby('exp_id')['device_id_hash'].nunique().reset_index()"
   ]
  },
  {
   "cell_type": "code",
   "execution_count": 43,
   "metadata": {},
   "outputs": [
    {
     "data": {
      "text/html": [
       "<div>\n",
       "<style scoped>\n",
       "    .dataframe tbody tr th:only-of-type {\n",
       "        vertical-align: middle;\n",
       "    }\n",
       "\n",
       "    .dataframe tbody tr th {\n",
       "        vertical-align: top;\n",
       "    }\n",
       "\n",
       "    .dataframe thead th {\n",
       "        text-align: right;\n",
       "    }\n",
       "</style>\n",
       "<table border=\"1\" class=\"dataframe\">\n",
       "  <thead>\n",
       "    <tr style=\"text-align: right;\">\n",
       "      <th></th>\n",
       "      <th>exp_id</th>\n",
       "      <th>device_id_hash</th>\n",
       "    </tr>\n",
       "  </thead>\n",
       "  <tbody>\n",
       "    <tr>\n",
       "      <th>0</th>\n",
       "      <td>246</td>\n",
       "      <td>2484</td>\n",
       "    </tr>\n",
       "  </tbody>\n",
       "</table>\n",
       "</div>"
      ],
      "text/plain": [
       "   exp_id  device_id_hash\n",
       "0     246            2484"
      ]
     },
     "execution_count": 43,
     "metadata": {},
     "output_type": "execute_result"
    }
   ],
   "source": [
    "group_246"
   ]
  },
  {
   "cell_type": "code",
   "execution_count": 44,
   "metadata": {},
   "outputs": [
    {
     "data": {
      "text/html": [
       "<div>\n",
       "<style scoped>\n",
       "    .dataframe tbody tr th:only-of-type {\n",
       "        vertical-align: middle;\n",
       "    }\n",
       "\n",
       "    .dataframe tbody tr th {\n",
       "        vertical-align: top;\n",
       "    }\n",
       "\n",
       "    .dataframe thead th {\n",
       "        text-align: right;\n",
       "    }\n",
       "</style>\n",
       "<table border=\"1\" class=\"dataframe\">\n",
       "  <thead>\n",
       "    <tr style=\"text-align: right;\">\n",
       "      <th></th>\n",
       "      <th>exp_id</th>\n",
       "      <th>device_id_hash</th>\n",
       "    </tr>\n",
       "  </thead>\n",
       "  <tbody>\n",
       "    <tr>\n",
       "      <th>0</th>\n",
       "      <td>247</td>\n",
       "      <td>2513</td>\n",
       "    </tr>\n",
       "  </tbody>\n",
       "</table>\n",
       "</div>"
      ],
      "text/plain": [
       "   exp_id  device_id_hash\n",
       "0     247            2513"
      ]
     },
     "execution_count": 44,
     "metadata": {},
     "output_type": "execute_result"
    }
   ],
   "source": [
    "group_247"
   ]
  },
  {
   "cell_type": "code",
   "execution_count": 45,
   "metadata": {},
   "outputs": [
    {
     "data": {
      "text/plain": [
       "0    1.15\n",
       "Name: device_id_hash, dtype: float64"
      ]
     },
     "execution_count": 45,
     "metadata": {},
     "output_type": "execute_result"
    }
   ],
   "source": [
    "round((1 - group_246['device_id_hash']/group_247['device_id_hash'])*100,2)"
   ]
  },
  {
   "cell_type": "markdown",
   "metadata": {},
   "source": [
    "Видно что разница совсем несущественная - чуть более 1 процента."
   ]
  },
  {
   "cell_type": "markdown",
   "metadata": {},
   "source": [
    "**5.3 Выберем самое популярное событие. Посчитаем число пользователей, совершивших это событие в каждой из контрольных групп. Посчитаем долю пользователей, совершивших это событие. Проверим, будет ли отличие между группами статистически достоверным. Проделаем то же самое для всех других событий (удобно обернуть проверку в отдельную функцию). Можно ли сказать, что разбиение на группы работает корректно?**"
   ]
  },
  {
   "cell_type": "markdown",
   "metadata": {},
   "source": [
    "MainScreenAppear - самое популярное событие."
   ]
  },
  {
   "cell_type": "markdown",
   "metadata": {},
   "source": [
    "Сформулируем гипотезы:\n",
    "\n",
    "Н0 - доли уникальных посетителей, побывавших на этапе воронки, одинаковы\n",
    "\n",
    "Н1 - между долями уникальных посетителей, побывавших на этапе воронки, есть разница"
   ]
  },
  {
   "cell_type": "code",
   "execution_count": 46,
   "metadata": {},
   "outputs": [],
   "source": [
    "def z_test(dataframe, num_group, alpha):\n",
    "    #пользователи в каждой группе\n",
    "    users = [dataframe.query('exp_id == @group')['device_id_hash'].nunique() for group in num_group]\n",
    "    #перебор экспериментальных групп по событиям и количество пользователей\n",
    "    for event in dataframe.event_name.unique():\n",
    "        events = [dataframe.query('exp_id == %d and event_name == \"%s\"' % (group, event))['device_id_hash'].nunique() for group in num_group]\n",
    "        \n",
    "        p1 = events[0] / users[0] \n",
    "        p2 = events[1] / users[1] \n",
    "        \n",
    "        p_combined = sum(events) / sum(users) \n",
    "        \n",
    "        difference = p1 - p2 \n",
    "        \n",
    "        z_value = difference / math.sqrt(p_combined * (1 - p_combined) * (1 / users[0] + 1 / users[1]))\n",
    "        \n",
    "        distr = st.norm(0, 1) \n",
    "        p_value = (1 - distr.cdf(abs(z_value))) * 2\n",
    "        \n",
    "        print('Событие:', event)\n",
    "        print('p-значение: {p_value:}'.format(p_value=p_value))\n",
    "        \n",
    "        if p_value < alpha:\n",
    "            print('Отвергаем нулевую гипотезу: между долями есть значимая разница')\n",
    "        else:\n",
    "            print('Не получилось отвергнуть нулевую гипотезу: различия статистически не значимы')\n",
    "            \n",
    "        print('')    "
   ]
  },
  {
   "cell_type": "code",
   "execution_count": 47,
   "metadata": {},
   "outputs": [
    {
     "name": "stdout",
     "output_type": "stream",
     "text": [
      "Событие: Tutorial\n",
      "p-значение: 0.9376996189257114\n",
      "Не получилось отвергнуть нулевую гипотезу: различия статистически не значимы\n",
      "\n",
      "Событие: MainScreenAppear\n",
      "p-значение: 0.7570597232046099\n",
      "Не получилось отвергнуть нулевую гипотезу: различия статистически не значимы\n",
      "\n",
      "Событие: OffersScreenAppear\n",
      "p-значение: 0.2480954578522181\n",
      "Не получилось отвергнуть нулевую гипотезу: различия статистически не значимы\n",
      "\n",
      "Событие: CartScreenAppear\n",
      "p-значение: 0.22883372237997213\n",
      "Не получилось отвергнуть нулевую гипотезу: различия статистически не значимы\n",
      "\n",
      "Событие: PaymentScreenSuccessful\n",
      "p-значение: 0.11456679313141849\n",
      "Не получилось отвергнуть нулевую гипотезу: различия статистически не значимы\n",
      "\n"
     ]
    }
   ],
   "source": [
    "z_test(date_full, [246, 247], 0.05)"
   ]
  },
  {
   "cell_type": "markdown",
   "metadata": {},
   "source": [
    "На каждом из этапов значимых статистических различий обнаружено не было."
   ]
  },
  {
   "cell_type": "markdown",
   "metadata": {},
   "source": [
    "**5.4. Аналогично поступим с группой с изменённым шрифтом. Сравним результаты с каждой из контрольных групп в отдельности по каждому событию. Сравним результаты с объединённой контрольной группой.**"
   ]
  },
  {
   "cell_type": "code",
   "execution_count": 48,
   "metadata": {},
   "outputs": [
    {
     "name": "stdout",
     "output_type": "stream",
     "text": [
      "Событие: Tutorial\n",
      "p-значение: 0.8264294010087645\n",
      "Не получилось отвергнуть нулевую гипотезу: различия статистически не значимы\n",
      "\n",
      "Событие: MainScreenAppear\n",
      "p-значение: 0.2949721933554552\n",
      "Не получилось отвергнуть нулевую гипотезу: различия статистически не значимы\n",
      "\n",
      "Событие: OffersScreenAppear\n",
      "p-значение: 0.20836205402738917\n",
      "Не получилось отвергнуть нулевую гипотезу: различия статистически не значимы\n",
      "\n",
      "Событие: CartScreenAppear\n",
      "p-значение: 0.07842923237520116\n",
      "Не получилось отвергнуть нулевую гипотезу: различия статистически не значимы\n",
      "\n",
      "Событие: PaymentScreenSuccessful\n",
      "p-значение: 0.2122553275697796\n",
      "Не получилось отвергнуть нулевую гипотезу: различия статистически не значимы\n",
      "\n"
     ]
    }
   ],
   "source": [
    "z_test(date_full, [246, 248], 0.05)"
   ]
  },
  {
   "cell_type": "markdown",
   "metadata": {},
   "source": [
    "Различия между группами 246 и 248, также, статистически не значимы"
   ]
  },
  {
   "cell_type": "code",
   "execution_count": 49,
   "metadata": {},
   "outputs": [
    {
     "name": "stdout",
     "output_type": "stream",
     "text": [
      "Событие: Tutorial\n",
      "p-значение: 0.765323922474501\n",
      "Не получилось отвергнуть нулевую гипотезу: различия статистически не значимы\n",
      "\n",
      "Событие: MainScreenAppear\n",
      "p-значение: 0.4587053616621515\n",
      "Не получилось отвергнуть нулевую гипотезу: различия статистически не значимы\n",
      "\n",
      "Событие: OffersScreenAppear\n",
      "p-значение: 0.9197817830592261\n",
      "Не получилось отвергнуть нулевую гипотезу: различия статистически не значимы\n",
      "\n",
      "Событие: CartScreenAppear\n",
      "p-значение: 0.5786197879539783\n",
      "Не получилось отвергнуть нулевую гипотезу: различия статистически не значимы\n",
      "\n",
      "Событие: PaymentScreenSuccessful\n",
      "p-значение: 0.7373415053803964\n",
      "Не получилось отвергнуть нулевую гипотезу: различия статистически не значимы\n",
      "\n"
     ]
    }
   ],
   "source": [
    "z_test(date_full, [247, 248], 0.05)"
   ]
  },
  {
   "cell_type": "markdown",
   "metadata": {},
   "source": [
    "Различия между группами 247 и 248 статистически не значимы"
   ]
  },
  {
   "cell_type": "markdown",
   "metadata": {},
   "source": [
    "**Также сделаем тестрирование с объединенной контрольной группой.**"
   ]
  },
  {
   "cell_type": "code",
   "execution_count": 50,
   "metadata": {},
   "outputs": [],
   "source": [
    "all_groups = date_full.copy()\n",
    "all_groups['exp_id'].replace({247: 246}, inplace=True)"
   ]
  },
  {
   "cell_type": "code",
   "execution_count": 51,
   "metadata": {},
   "outputs": [
    {
     "name": "stdout",
     "output_type": "stream",
     "text": [
      "Событие: Tutorial\n",
      "p-значение: 0.764862472531507\n",
      "Не получилось отвергнуть нулевую гипотезу: различия статистически не значимы\n",
      "\n",
      "Событие: MainScreenAppear\n",
      "p-значение: 0.29424526837179577\n",
      "Не получилось отвергнуть нулевую гипотезу: различия статистически не значимы\n",
      "\n",
      "Событие: OffersScreenAppear\n",
      "p-значение: 0.43425549655188256\n",
      "Не получилось отвергнуть нулевую гипотезу: различия статистически не значимы\n",
      "\n",
      "Событие: CartScreenAppear\n",
      "p-значение: 0.18175875284404386\n",
      "Не получилось отвергнуть нулевую гипотезу: различия статистически не значимы\n",
      "\n",
      "Событие: PaymentScreenSuccessful\n",
      "p-значение: 0.6004294282308704\n",
      "Не получилось отвергнуть нулевую гипотезу: различия статистически не значимы\n",
      "\n"
     ]
    }
   ],
   "source": [
    "z_test(all_groups, [246, 248], 0.05)"
   ]
  },
  {
   "cell_type": "markdown",
   "metadata": {},
   "source": [
    "Значимых различий также не было обнаружено."
   ]
  },
  {
   "cell_type": "markdown",
   "metadata": {},
   "source": [
    "**Смена шрифта не повлияла на пользователей, так как статистические различия в тестах не значимы**"
   ]
  },
  {
   "cell_type": "markdown",
   "metadata": {},
   "source": [
    "**5.5 Какой уровень значимости мы выбрали при проверке статистических гипотез выше? Посчитаем, сколько проверок статистических гипотез мы сделали. При уровне значимости 0.1 каждый десятый раз можно получать ложный результат. Какой уровень значимости стоит применить? Если мы хотим изменить его, то проделаем предыдущие пункты и проверим свои выводы.**"
   ]
  },
  {
   "cell_type": "markdown",
   "metadata": {},
   "source": [
    "Был выбран уровень значимости в 0.05. Всего было сделано 20 проверок статистических гипотез. Можно бы было воспользоваться методом Бонферрони для поправки значения p-value, в нашем случае его уменьшить следовало бы до 0.05/20=0.0025. Так как p-value был значительно больше 0.05, тоизменение шрифта не повлияло бы на пользователей."
   ]
  },
  {
   "cell_type": "markdown",
   "metadata": {},
   "source": [
    "**6. Вывод**"
   ]
  },
  {
   "cell_type": "markdown",
   "metadata": {},
   "source": [
    "**Предобработка данных:**\n",
    "- столбцы были приведены к нижнему регистру и змеиному стилю;\n",
    "- столбец event_timestamp был приведен к временному типу;\n",
    "- был создан столбец с датой - date;\n",
    "- были удалены дубликаты;\n",
    "- неявных дубликатов найдено не было;\n",
    "\n",
    "**Изучение данных:**\n",
    "Актуальными данные за период с 1 по 7 августа 2019 года. В них мы обнаружили всего 5 событий: главный экран, предложения, корзина, оплата и обучение. После обработки данных потери составили 1.16 % - для событий и 0.23 % для пользователей.\n",
    "Так как они несущественны, на дальнейший результат это не повлияет. Также в среднем на пользователя приходится примерно 32 события.\n",
    "\n",
    "**Исследование воронки событий:**\n",
    "Всего пять типов событий в данных:\n",
    "- MainScreenAppear;\n",
    "- OffersScreenAppear;\n",
    "- CartScreenAppear;\n",
    "- PaymentScreenSuccessful.\n",
    "\n",
    "Чаще всего из них встречается MainScreenAppear (появление главного экрана) - 117328 раз, реже всего - Tutorial (обучение) - 1005 раз.\n",
    "\n",
    "По пользователям, которые соверишили эти события похожее распределение: больше всего у MainScreenAppear - 7419 пользователей и 98.5%, а у Tutorial - 840 пользователей и 11% cоответсвнно.\n",
    "\n",
    "Мы предположили, что порядок событий должен быть таким: пользователи начинают с главного экрана (MainScreenAppear), затем переходят на экран с предложенными товарами (OffersScreenAppear), если его заинтересовало что-то, то он отправляется в корзину (CartScreenAppear) и когда его все устроило, то они оплачивают покупку (PaymentScreenSuccessful). Еще есть также событие обучения (Tutorial), но пользователи его скорее всего пропускают так как приложение интуитивно понятное, поэтому мы не учитывали при расчете воронки событий.\n",
    "\n",
    "Около 62% пользователей переходят с MainScreenAppear на OffersScreenAppear, 81% переходят с OffersScreenAppear на CartScreenAppear, почти 95% переходят на шаг с CartScreenAppear на PaymentScreenSuccessful. Соответственно, 38% пользователей теряем при переходе с MainScreenAppear на OffersScreenAppear (Было 7419, осталось 4593), затем 19% с OffersScreenAppear на CartScreenAppear, и всего 5% с CartScreenAppear на PaymentScreenSuccessful.\n",
    "\n",
    "С первого события (MainScreenAppear) до экрана оплаты (PaymentScreenSuccessful) доходят 47% пользователей (3539).\n",
    "\n",
    "**Проверка результатов:**\n",
    "Был выбран уровень значимости в 0.05. Всего было сделано 20 проверок статистических гипотез. Можно бы было воспользоваться методом Бонферрони для поправки значения p-value, в нашем случае его уменьшить следовало бы до 0.05/20=0.0025.\n",
    "**Смена шрифта не повлияла на пользователей, так как статистические различия в тестах не значимы**"
   ]
  }
 ],
 "metadata": {
  "ExecuteTimeLog": [
   {
    "duration": 1227,
    "start_time": "2024-07-03T15:28:40.054Z"
   },
   {
    "duration": 405,
    "start_time": "2024-07-03T15:29:08.311Z"
   },
   {
    "duration": 9,
    "start_time": "2024-07-03T15:29:19.064Z"
   },
   {
    "duration": 21,
    "start_time": "2024-07-03T15:29:43.695Z"
   },
   {
    "duration": 75,
    "start_time": "2024-07-03T15:33:30.927Z"
   },
   {
    "duration": 83,
    "start_time": "2024-07-03T15:33:39.661Z"
   },
   {
    "duration": 7,
    "start_time": "2024-07-03T15:33:50.770Z"
   },
   {
    "duration": 250,
    "start_time": "2024-07-03T15:33:56.480Z"
   },
   {
    "duration": 5,
    "start_time": "2024-07-03T15:33:59.694Z"
   },
   {
    "duration": 8,
    "start_time": "2024-07-03T15:34:12.909Z"
   },
   {
    "duration": 1018,
    "start_time": "2024-07-03T15:36:56.522Z"
   },
   {
    "duration": 2,
    "start_time": "2024-07-03T15:36:57.542Z"
   },
   {
    "duration": 249,
    "start_time": "2024-07-03T15:36:57.545Z"
   },
   {
    "duration": 11,
    "start_time": "2024-07-03T15:36:57.795Z"
   },
   {
    "duration": 21,
    "start_time": "2024-07-03T15:36:57.807Z"
   },
   {
    "duration": 1080,
    "start_time": "2024-07-03T15:37:24.162Z"
   },
   {
    "duration": 5,
    "start_time": "2024-07-03T15:37:25.244Z"
   },
   {
    "duration": 247,
    "start_time": "2024-07-03T15:37:25.250Z"
   },
   {
    "duration": 8,
    "start_time": "2024-07-03T15:37:25.499Z"
   },
   {
    "duration": 31,
    "start_time": "2024-07-03T15:37:25.508Z"
   },
   {
    "duration": 5,
    "start_time": "2024-07-03T15:38:19.794Z"
   },
   {
    "duration": 1217,
    "start_time": "2024-07-03T19:18:59.966Z"
   },
   {
    "duration": 2,
    "start_time": "2024-07-03T19:19:01.185Z"
   },
   {
    "duration": 866,
    "start_time": "2024-07-03T19:19:01.189Z"
   },
   {
    "duration": 9,
    "start_time": "2024-07-03T19:19:02.057Z"
   },
   {
    "duration": 17,
    "start_time": "2024-07-03T19:19:02.067Z"
   },
   {
    "duration": 47,
    "start_time": "2024-07-03T19:22:03.869Z"
   },
   {
    "duration": 992,
    "start_time": "2024-07-03T19:22:13.043Z"
   },
   {
    "duration": 3,
    "start_time": "2024-07-03T19:22:14.037Z"
   },
   {
    "duration": 149,
    "start_time": "2024-07-03T19:22:14.043Z"
   },
   {
    "duration": 10,
    "start_time": "2024-07-03T19:22:14.193Z"
   },
   {
    "duration": 16,
    "start_time": "2024-07-03T19:22:14.204Z"
   },
   {
    "duration": 6,
    "start_time": "2024-07-03T19:28:53.179Z"
   },
   {
    "duration": 6,
    "start_time": "2024-07-03T19:29:16.144Z"
   },
   {
    "duration": 13,
    "start_time": "2024-07-03T19:41:28.759Z"
   },
   {
    "duration": 7,
    "start_time": "2024-07-03T19:42:02.630Z"
   },
   {
    "duration": 92,
    "start_time": "2024-07-03T19:46:54.422Z"
   },
   {
    "duration": 8,
    "start_time": "2024-07-03T19:47:07.695Z"
   },
   {
    "duration": 26,
    "start_time": "2024-07-03T19:47:38.396Z"
   },
   {
    "duration": 140,
    "start_time": "2024-07-03T19:48:22.346Z"
   },
   {
    "duration": 65,
    "start_time": "2024-07-03T19:48:30.902Z"
   },
   {
    "duration": 78,
    "start_time": "2024-07-03T19:49:02.774Z"
   },
   {
    "duration": 65,
    "start_time": "2024-07-03T19:49:18.032Z"
   },
   {
    "duration": 1078,
    "start_time": "2024-07-03T19:49:43.155Z"
   },
   {
    "duration": 2,
    "start_time": "2024-07-03T19:49:44.235Z"
   },
   {
    "duration": 181,
    "start_time": "2024-07-03T19:49:44.238Z"
   },
   {
    "duration": 10,
    "start_time": "2024-07-03T19:49:44.421Z"
   },
   {
    "duration": 20,
    "start_time": "2024-07-03T19:49:44.433Z"
   },
   {
    "duration": 77,
    "start_time": "2024-07-03T19:49:44.454Z"
   },
   {
    "duration": 7,
    "start_time": "2024-07-03T19:49:44.532Z"
   },
   {
    "duration": 14,
    "start_time": "2024-07-03T19:49:44.540Z"
   },
   {
    "duration": 6,
    "start_time": "2024-07-03T19:49:44.556Z"
   },
   {
    "duration": 91,
    "start_time": "2024-07-03T19:49:44.563Z"
   },
   {
    "duration": 7,
    "start_time": "2024-07-03T19:49:44.656Z"
   },
   {
    "duration": 65,
    "start_time": "2024-07-03T19:49:44.664Z"
   },
   {
    "duration": 79,
    "start_time": "2024-07-03T19:49:44.731Z"
   },
   {
    "duration": 62,
    "start_time": "2024-07-03T19:49:44.813Z"
   },
   {
    "duration": 18,
    "start_time": "2024-07-03T19:53:37.506Z"
   },
   {
    "duration": 5,
    "start_time": "2024-07-03T19:54:10.051Z"
   },
   {
    "duration": 93,
    "start_time": "2024-07-03T20:02:22.015Z"
   },
   {
    "duration": 7,
    "start_time": "2024-07-03T20:03:31.859Z"
   },
   {
    "duration": 38,
    "start_time": "2024-07-03T20:04:05.256Z"
   },
   {
    "duration": 1074,
    "start_time": "2024-07-03T20:04:49.581Z"
   },
   {
    "duration": 2,
    "start_time": "2024-07-03T20:04:50.657Z"
   },
   {
    "duration": 172,
    "start_time": "2024-07-03T20:04:50.660Z"
   },
   {
    "duration": 10,
    "start_time": "2024-07-03T20:04:50.834Z"
   },
   {
    "duration": 39,
    "start_time": "2024-07-03T20:04:50.845Z"
   },
   {
    "duration": 16,
    "start_time": "2024-07-03T20:04:50.885Z"
   },
   {
    "duration": 35,
    "start_time": "2024-07-03T20:04:50.903Z"
   },
   {
    "duration": 31,
    "start_time": "2024-07-03T20:04:50.940Z"
   },
   {
    "duration": 21,
    "start_time": "2024-07-03T20:04:50.973Z"
   },
   {
    "duration": 158,
    "start_time": "2024-07-03T20:04:50.996Z"
   },
   {
    "duration": 8,
    "start_time": "2024-07-03T20:04:51.156Z"
   },
   {
    "duration": 93,
    "start_time": "2024-07-03T20:04:51.166Z"
   },
   {
    "duration": 75,
    "start_time": "2024-07-03T20:04:51.260Z"
   },
   {
    "duration": 64,
    "start_time": "2024-07-03T20:04:51.336Z"
   },
   {
    "duration": 37,
    "start_time": "2024-07-03T20:04:51.401Z"
   },
   {
    "duration": 44,
    "start_time": "2024-07-03T20:05:52.553Z"
   },
   {
    "duration": 55,
    "start_time": "2024-07-03T20:06:53.211Z"
   },
   {
    "duration": 53,
    "start_time": "2024-07-03T20:07:09.274Z"
   },
   {
    "duration": 55,
    "start_time": "2024-07-04T10:00:52.029Z"
   },
   {
    "duration": 1402,
    "start_time": "2024-07-04T10:00:58.931Z"
   },
   {
    "duration": 3,
    "start_time": "2024-07-04T10:01:00.335Z"
   },
   {
    "duration": 421,
    "start_time": "2024-07-04T10:01:00.340Z"
   },
   {
    "duration": 12,
    "start_time": "2024-07-04T10:01:00.764Z"
   },
   {
    "duration": 91,
    "start_time": "2024-07-04T10:01:00.777Z"
   },
   {
    "duration": 32,
    "start_time": "2024-07-04T10:01:00.870Z"
   },
   {
    "duration": 59,
    "start_time": "2024-07-04T10:01:00.904Z"
   },
   {
    "duration": 103,
    "start_time": "2024-07-04T10:01:00.964Z"
   },
   {
    "duration": 40,
    "start_time": "2024-07-04T10:01:01.068Z"
   },
   {
    "duration": 179,
    "start_time": "2024-07-04T10:01:01.111Z"
   },
   {
    "duration": 9,
    "start_time": "2024-07-04T10:01:01.292Z"
   },
   {
    "duration": 198,
    "start_time": "2024-07-04T10:01:01.303Z"
   },
   {
    "duration": 92,
    "start_time": "2024-07-04T10:01:01.502Z"
   },
   {
    "duration": 111,
    "start_time": "2024-07-04T10:01:01.596Z"
   },
   {
    "duration": 137,
    "start_time": "2024-07-04T10:01:01.708Z"
   },
   {
    "duration": 1158,
    "start_time": "2024-07-04T10:01:01.847Z"
   },
   {
    "duration": 0,
    "start_time": "2024-07-04T10:01:03.007Z"
   },
   {
    "duration": 9,
    "start_time": "2024-07-04T10:01:10.748Z"
   },
   {
    "duration": 33,
    "start_time": "2024-07-04T10:01:26.027Z"
   },
   {
    "duration": 27,
    "start_time": "2024-07-04T10:02:38.172Z"
   },
   {
    "duration": 15,
    "start_time": "2024-07-04T10:07:42.861Z"
   },
   {
    "duration": 19,
    "start_time": "2024-07-04T10:11:26.125Z"
   },
   {
    "duration": 23,
    "start_time": "2024-07-04T10:11:39.840Z"
   },
   {
    "duration": 24,
    "start_time": "2024-07-04T10:11:55.389Z"
   },
   {
    "duration": 4,
    "start_time": "2024-07-04T10:23:13.699Z"
   },
   {
    "duration": 6,
    "start_time": "2024-07-04T10:24:29.521Z"
   },
   {
    "duration": 8,
    "start_time": "2024-07-04T10:26:36.172Z"
   },
   {
    "duration": 708,
    "start_time": "2024-07-04T10:32:31.674Z"
   },
   {
    "duration": 695,
    "start_time": "2024-07-04T10:33:00.533Z"
   },
   {
    "duration": 601,
    "start_time": "2024-07-04T10:33:19.960Z"
   },
   {
    "duration": 677,
    "start_time": "2024-07-04T10:33:32.909Z"
   },
   {
    "duration": 742,
    "start_time": "2024-07-04T10:34:15.346Z"
   },
   {
    "duration": 596,
    "start_time": "2024-07-04T10:34:24.232Z"
   },
   {
    "duration": 628,
    "start_time": "2024-07-04T10:34:35.133Z"
   },
   {
    "duration": 789,
    "start_time": "2024-07-04T10:34:46.099Z"
   },
   {
    "duration": 17,
    "start_time": "2024-07-04T10:44:42.642Z"
   },
   {
    "duration": 6,
    "start_time": "2024-07-04T10:58:43.381Z"
   },
   {
    "duration": 4,
    "start_time": "2024-07-04T10:59:22.616Z"
   },
   {
    "duration": 4,
    "start_time": "2024-07-04T10:59:27.552Z"
   },
   {
    "duration": 20,
    "start_time": "2024-07-04T10:59:32.663Z"
   },
   {
    "duration": 4,
    "start_time": "2024-07-04T11:00:03.850Z"
   },
   {
    "duration": 1213,
    "start_time": "2024-07-04T11:00:20.632Z"
   },
   {
    "duration": 3,
    "start_time": "2024-07-04T11:00:21.847Z"
   },
   {
    "duration": 224,
    "start_time": "2024-07-04T11:00:21.851Z"
   },
   {
    "duration": 15,
    "start_time": "2024-07-04T11:00:22.077Z"
   },
   {
    "duration": 25,
    "start_time": "2024-07-04T11:00:22.093Z"
   },
   {
    "duration": 9,
    "start_time": "2024-07-04T11:00:22.120Z"
   },
   {
    "duration": 8,
    "start_time": "2024-07-04T11:00:22.130Z"
   },
   {
    "duration": 47,
    "start_time": "2024-07-04T11:00:22.140Z"
   },
   {
    "duration": 9,
    "start_time": "2024-07-04T11:00:22.189Z"
   },
   {
    "duration": 127,
    "start_time": "2024-07-04T11:00:22.202Z"
   },
   {
    "duration": 10,
    "start_time": "2024-07-04T11:00:22.331Z"
   },
   {
    "duration": 94,
    "start_time": "2024-07-04T11:00:22.343Z"
   },
   {
    "duration": 95,
    "start_time": "2024-07-04T11:00:22.439Z"
   },
   {
    "duration": 87,
    "start_time": "2024-07-04T11:00:22.536Z"
   },
   {
    "duration": 72,
    "start_time": "2024-07-04T11:00:22.625Z"
   },
   {
    "duration": 28,
    "start_time": "2024-07-04T11:00:22.698Z"
   },
   {
    "duration": 18,
    "start_time": "2024-07-04T11:00:22.727Z"
   },
   {
    "duration": 40,
    "start_time": "2024-07-04T11:00:22.746Z"
   },
   {
    "duration": 5,
    "start_time": "2024-07-04T11:00:22.787Z"
   },
   {
    "duration": 5,
    "start_time": "2024-07-04T11:00:22.793Z"
   },
   {
    "duration": 6,
    "start_time": "2024-07-04T11:00:22.800Z"
   },
   {
    "duration": 720,
    "start_time": "2024-07-04T11:00:22.808Z"
   },
   {
    "duration": 13,
    "start_time": "2024-07-04T11:00:23.529Z"
   },
   {
    "duration": 9,
    "start_time": "2024-07-04T11:00:23.550Z"
   },
   {
    "duration": 36,
    "start_time": "2024-07-04T11:00:23.561Z"
   },
   {
    "duration": 1190,
    "start_time": "2024-07-04T11:01:16.142Z"
   },
   {
    "duration": 4,
    "start_time": "2024-07-04T11:01:17.334Z"
   },
   {
    "duration": 193,
    "start_time": "2024-07-04T11:01:17.340Z"
   },
   {
    "duration": 13,
    "start_time": "2024-07-04T11:01:17.534Z"
   },
   {
    "duration": 36,
    "start_time": "2024-07-04T11:01:17.550Z"
   },
   {
    "duration": 8,
    "start_time": "2024-07-04T11:01:17.588Z"
   },
   {
    "duration": 8,
    "start_time": "2024-07-04T11:01:17.598Z"
   },
   {
    "duration": 18,
    "start_time": "2024-07-04T11:01:17.608Z"
   },
   {
    "duration": 9,
    "start_time": "2024-07-04T11:01:17.627Z"
   },
   {
    "duration": 150,
    "start_time": "2024-07-04T11:01:17.638Z"
   },
   {
    "duration": 10,
    "start_time": "2024-07-04T11:01:17.789Z"
   },
   {
    "duration": 105,
    "start_time": "2024-07-04T11:01:17.801Z"
   },
   {
    "duration": 95,
    "start_time": "2024-07-04T11:01:17.909Z"
   },
   {
    "duration": 67,
    "start_time": "2024-07-04T11:01:18.006Z"
   },
   {
    "duration": 62,
    "start_time": "2024-07-04T11:01:18.082Z"
   },
   {
    "duration": 43,
    "start_time": "2024-07-04T11:01:18.145Z"
   },
   {
    "duration": 29,
    "start_time": "2024-07-04T11:01:18.189Z"
   },
   {
    "duration": 31,
    "start_time": "2024-07-04T11:01:18.220Z"
   },
   {
    "duration": 13,
    "start_time": "2024-07-04T11:01:18.253Z"
   },
   {
    "duration": 10,
    "start_time": "2024-07-04T11:01:18.269Z"
   },
   {
    "duration": 20,
    "start_time": "2024-07-04T11:01:18.281Z"
   },
   {
    "duration": 728,
    "start_time": "2024-07-04T11:01:18.303Z"
   },
   {
    "duration": 13,
    "start_time": "2024-07-04T11:01:19.033Z"
   },
   {
    "duration": 15,
    "start_time": "2024-07-04T11:01:19.048Z"
   },
   {
    "duration": 33,
    "start_time": "2024-07-04T11:01:19.065Z"
   },
   {
    "duration": 4,
    "start_time": "2024-07-04T11:05:14.989Z"
   },
   {
    "duration": 7,
    "start_time": "2024-07-04T11:05:53.293Z"
   },
   {
    "duration": 35,
    "start_time": "2024-07-04T11:06:28.652Z"
   },
   {
    "duration": 60,
    "start_time": "2024-07-04T11:07:20.474Z"
   },
   {
    "duration": 34,
    "start_time": "2024-07-04T12:21:13.763Z"
   },
   {
    "duration": 73,
    "start_time": "2024-07-04T12:32:05.140Z"
   },
   {
    "duration": 55,
    "start_time": "2024-07-04T12:32:20.455Z"
   },
   {
    "duration": 62,
    "start_time": "2024-07-04T12:32:35.153Z"
   },
   {
    "duration": 10,
    "start_time": "2024-07-04T12:39:13.002Z"
   },
   {
    "duration": 8,
    "start_time": "2024-07-04T12:39:25.344Z"
   },
   {
    "duration": 1029,
    "start_time": "2024-07-04T12:40:25.971Z"
   },
   {
    "duration": 1266,
    "start_time": "2024-07-04T12:41:13.844Z"
   },
   {
    "duration": 3,
    "start_time": "2024-07-04T12:41:15.112Z"
   },
   {
    "duration": 217,
    "start_time": "2024-07-04T12:41:15.116Z"
   },
   {
    "duration": 12,
    "start_time": "2024-07-04T12:41:15.336Z"
   },
   {
    "duration": 34,
    "start_time": "2024-07-04T12:41:15.349Z"
   },
   {
    "duration": 6,
    "start_time": "2024-07-04T12:41:15.385Z"
   },
   {
    "duration": 8,
    "start_time": "2024-07-04T12:41:15.393Z"
   },
   {
    "duration": 21,
    "start_time": "2024-07-04T12:41:15.402Z"
   },
   {
    "duration": 22,
    "start_time": "2024-07-04T12:41:15.424Z"
   },
   {
    "duration": 133,
    "start_time": "2024-07-04T12:41:15.449Z"
   },
   {
    "duration": 9,
    "start_time": "2024-07-04T12:41:15.584Z"
   },
   {
    "duration": 89,
    "start_time": "2024-07-04T12:41:15.595Z"
   },
   {
    "duration": 96,
    "start_time": "2024-07-04T12:41:15.686Z"
   },
   {
    "duration": 69,
    "start_time": "2024-07-04T12:41:15.784Z"
   },
   {
    "duration": 74,
    "start_time": "2024-07-04T12:41:15.855Z"
   },
   {
    "duration": 28,
    "start_time": "2024-07-04T12:41:15.931Z"
   },
   {
    "duration": 32,
    "start_time": "2024-07-04T12:41:15.961Z"
   },
   {
    "duration": 29,
    "start_time": "2024-07-04T12:41:15.995Z"
   },
   {
    "duration": 6,
    "start_time": "2024-07-04T12:41:16.026Z"
   },
   {
    "duration": 10,
    "start_time": "2024-07-04T12:41:16.034Z"
   },
   {
    "duration": 6,
    "start_time": "2024-07-04T12:41:16.046Z"
   },
   {
    "duration": 744,
    "start_time": "2024-07-04T12:41:16.053Z"
   },
   {
    "duration": 13,
    "start_time": "2024-07-04T12:41:16.799Z"
   },
   {
    "duration": 4,
    "start_time": "2024-07-04T12:41:16.814Z"
   },
   {
    "duration": 21,
    "start_time": "2024-07-04T12:41:16.820Z"
   },
   {
    "duration": 6,
    "start_time": "2024-07-04T12:41:16.843Z"
   },
   {
    "duration": 35,
    "start_time": "2024-07-04T12:41:16.881Z"
   },
   {
    "duration": 32,
    "start_time": "2024-07-04T12:41:16.919Z"
   },
   {
    "duration": 71,
    "start_time": "2024-07-04T12:41:16.953Z"
   },
   {
    "duration": 7,
    "start_time": "2024-07-04T12:41:17.026Z"
   },
   {
    "duration": 1067,
    "start_time": "2024-07-04T12:41:17.034Z"
   },
   {
    "duration": 1232,
    "start_time": "2024-07-04T12:42:20.195Z"
   },
   {
    "duration": 3,
    "start_time": "2024-07-04T12:42:21.429Z"
   },
   {
    "duration": 224,
    "start_time": "2024-07-04T12:42:21.433Z"
   },
   {
    "duration": 12,
    "start_time": "2024-07-04T12:42:21.659Z"
   },
   {
    "duration": 51,
    "start_time": "2024-07-04T12:42:21.672Z"
   },
   {
    "duration": 7,
    "start_time": "2024-07-04T12:42:21.725Z"
   },
   {
    "duration": 15,
    "start_time": "2024-07-04T12:42:21.734Z"
   },
   {
    "duration": 33,
    "start_time": "2024-07-04T12:42:21.751Z"
   },
   {
    "duration": 53,
    "start_time": "2024-07-04T12:42:21.786Z"
   },
   {
    "duration": 161,
    "start_time": "2024-07-04T12:42:21.843Z"
   },
   {
    "duration": 9,
    "start_time": "2024-07-04T12:42:22.006Z"
   },
   {
    "duration": 114,
    "start_time": "2024-07-04T12:42:22.016Z"
   },
   {
    "duration": 91,
    "start_time": "2024-07-04T12:42:22.131Z"
   },
   {
    "duration": 75,
    "start_time": "2024-07-04T12:42:22.224Z"
   },
   {
    "duration": 61,
    "start_time": "2024-07-04T12:42:22.301Z"
   },
   {
    "duration": 38,
    "start_time": "2024-07-04T12:42:22.364Z"
   },
   {
    "duration": 18,
    "start_time": "2024-07-04T12:42:22.404Z"
   },
   {
    "duration": 21,
    "start_time": "2024-07-04T12:42:22.423Z"
   },
   {
    "duration": 5,
    "start_time": "2024-07-04T12:42:22.446Z"
   },
   {
    "duration": 31,
    "start_time": "2024-07-04T12:42:22.452Z"
   },
   {
    "duration": 8,
    "start_time": "2024-07-04T12:42:22.484Z"
   },
   {
    "duration": 766,
    "start_time": "2024-07-04T12:42:22.494Z"
   },
   {
    "duration": 20,
    "start_time": "2024-07-04T12:42:23.262Z"
   },
   {
    "duration": 4,
    "start_time": "2024-07-04T12:42:23.284Z"
   },
   {
    "duration": 44,
    "start_time": "2024-07-04T12:42:23.290Z"
   },
   {
    "duration": 6,
    "start_time": "2024-07-04T12:42:23.336Z"
   },
   {
    "duration": 44,
    "start_time": "2024-07-04T12:42:23.344Z"
   },
   {
    "duration": 33,
    "start_time": "2024-07-04T12:42:23.391Z"
   },
   {
    "duration": 72,
    "start_time": "2024-07-04T12:42:23.425Z"
   },
   {
    "duration": 7,
    "start_time": "2024-07-04T12:42:23.499Z"
   },
   {
    "duration": 10,
    "start_time": "2024-07-04T12:42:23.508Z"
   },
   {
    "duration": 48,
    "start_time": "2024-07-05T10:28:23.956Z"
   },
   {
    "duration": 1311,
    "start_time": "2024-07-05T10:28:30.485Z"
   },
   {
    "duration": 3,
    "start_time": "2024-07-05T10:28:31.797Z"
   },
   {
    "duration": 837,
    "start_time": "2024-07-05T10:28:31.801Z"
   },
   {
    "duration": 11,
    "start_time": "2024-07-05T10:28:32.640Z"
   },
   {
    "duration": 19,
    "start_time": "2024-07-05T10:28:32.652Z"
   },
   {
    "duration": 5,
    "start_time": "2024-07-05T10:28:32.673Z"
   },
   {
    "duration": 7,
    "start_time": "2024-07-05T10:28:32.680Z"
   },
   {
    "duration": 30,
    "start_time": "2024-07-05T10:28:32.688Z"
   },
   {
    "duration": 7,
    "start_time": "2024-07-05T10:28:32.720Z"
   },
   {
    "duration": 96,
    "start_time": "2024-07-05T10:28:32.729Z"
   },
   {
    "duration": 8,
    "start_time": "2024-07-05T10:28:32.826Z"
   },
   {
    "duration": 82,
    "start_time": "2024-07-05T10:28:32.836Z"
   },
   {
    "duration": 79,
    "start_time": "2024-07-05T10:28:32.919Z"
   },
   {
    "duration": 75,
    "start_time": "2024-07-05T10:28:32.999Z"
   },
   {
    "duration": 72,
    "start_time": "2024-07-05T10:28:33.075Z"
   },
   {
    "duration": 27,
    "start_time": "2024-07-05T10:28:33.148Z"
   },
   {
    "duration": 43,
    "start_time": "2024-07-05T10:28:33.176Z"
   },
   {
    "duration": 19,
    "start_time": "2024-07-05T10:28:33.220Z"
   },
   {
    "duration": 4,
    "start_time": "2024-07-05T10:28:33.240Z"
   },
   {
    "duration": 9,
    "start_time": "2024-07-05T10:28:33.246Z"
   },
   {
    "duration": 10,
    "start_time": "2024-07-05T10:28:33.256Z"
   },
   {
    "duration": 573,
    "start_time": "2024-07-05T10:28:33.268Z"
   },
   {
    "duration": 11,
    "start_time": "2024-07-05T10:28:33.843Z"
   },
   {
    "duration": 4,
    "start_time": "2024-07-05T10:28:33.856Z"
   },
   {
    "duration": 18,
    "start_time": "2024-07-05T10:28:33.861Z"
   },
   {
    "duration": 29,
    "start_time": "2024-07-05T10:28:33.881Z"
   },
   {
    "duration": 31,
    "start_time": "2024-07-05T10:28:33.911Z"
   },
   {
    "duration": 23,
    "start_time": "2024-07-05T10:28:33.946Z"
   },
   {
    "duration": 67,
    "start_time": "2024-07-05T10:28:33.971Z"
   },
   {
    "duration": 7,
    "start_time": "2024-07-05T10:28:34.040Z"
   },
   {
    "duration": 10,
    "start_time": "2024-07-05T10:28:34.048Z"
   },
   {
    "duration": 1103,
    "start_time": "2024-07-05T10:28:34.059Z"
   },
   {
    "duration": 1088,
    "start_time": "2024-07-05T10:29:23.581Z"
   },
   {
    "duration": 3,
    "start_time": "2024-07-05T10:29:24.671Z"
   },
   {
    "duration": 158,
    "start_time": "2024-07-05T10:29:24.676Z"
   },
   {
    "duration": 11,
    "start_time": "2024-07-05T10:29:24.836Z"
   },
   {
    "duration": 26,
    "start_time": "2024-07-05T10:29:24.848Z"
   },
   {
    "duration": 7,
    "start_time": "2024-07-05T10:29:24.875Z"
   },
   {
    "duration": 10,
    "start_time": "2024-07-05T10:29:24.883Z"
   },
   {
    "duration": 24,
    "start_time": "2024-07-05T10:29:24.894Z"
   },
   {
    "duration": 6,
    "start_time": "2024-07-05T10:29:24.920Z"
   },
   {
    "duration": 100,
    "start_time": "2024-07-05T10:29:24.929Z"
   },
   {
    "duration": 8,
    "start_time": "2024-07-05T10:29:25.030Z"
   },
   {
    "duration": 105,
    "start_time": "2024-07-05T10:29:25.039Z"
   },
   {
    "duration": 80,
    "start_time": "2024-07-05T10:29:25.145Z"
   },
   {
    "duration": 58,
    "start_time": "2024-07-05T10:29:25.226Z"
   },
   {
    "duration": 62,
    "start_time": "2024-07-05T10:29:25.285Z"
   },
   {
    "duration": 19,
    "start_time": "2024-07-05T10:29:25.349Z"
   },
   {
    "duration": 41,
    "start_time": "2024-07-05T10:29:25.369Z"
   },
   {
    "duration": 32,
    "start_time": "2024-07-05T10:29:25.412Z"
   },
   {
    "duration": 11,
    "start_time": "2024-07-05T10:29:25.445Z"
   },
   {
    "duration": 28,
    "start_time": "2024-07-05T10:29:25.458Z"
   },
   {
    "duration": 25,
    "start_time": "2024-07-05T10:29:25.488Z"
   },
   {
    "duration": 583,
    "start_time": "2024-07-05T10:29:25.514Z"
   },
   {
    "duration": 14,
    "start_time": "2024-07-05T10:29:26.099Z"
   },
   {
    "duration": 36,
    "start_time": "2024-07-05T10:29:26.114Z"
   },
   {
    "duration": 43,
    "start_time": "2024-07-05T10:29:26.152Z"
   },
   {
    "duration": 6,
    "start_time": "2024-07-05T10:29:26.197Z"
   },
   {
    "duration": 40,
    "start_time": "2024-07-05T10:29:26.204Z"
   },
   {
    "duration": 22,
    "start_time": "2024-07-05T10:29:26.247Z"
   },
   {
    "duration": 70,
    "start_time": "2024-07-05T10:29:26.270Z"
   },
   {
    "duration": 6,
    "start_time": "2024-07-05T10:29:26.341Z"
   },
   {
    "duration": 33,
    "start_time": "2024-07-05T10:29:26.348Z"
   },
   {
    "duration": 108,
    "start_time": "2024-07-05T10:29:26.382Z"
   },
   {
    "duration": 0,
    "start_time": "2024-07-05T10:29:26.491Z"
   },
   {
    "duration": 1049,
    "start_time": "2024-07-05T10:32:21.322Z"
   },
   {
    "duration": 1065,
    "start_time": "2024-07-05T10:39:05.721Z"
   },
   {
    "duration": 2,
    "start_time": "2024-07-05T10:39:06.788Z"
   },
   {
    "duration": 156,
    "start_time": "2024-07-05T10:39:06.791Z"
   },
   {
    "duration": 10,
    "start_time": "2024-07-05T10:39:06.949Z"
   },
   {
    "duration": 24,
    "start_time": "2024-07-05T10:39:06.961Z"
   },
   {
    "duration": 6,
    "start_time": "2024-07-05T10:39:06.987Z"
   },
   {
    "duration": 18,
    "start_time": "2024-07-05T10:39:06.994Z"
   },
   {
    "duration": 19,
    "start_time": "2024-07-05T10:39:07.021Z"
   },
   {
    "duration": 13,
    "start_time": "2024-07-05T10:39:07.042Z"
   },
   {
    "duration": 139,
    "start_time": "2024-07-05T10:39:07.058Z"
   },
   {
    "duration": 8,
    "start_time": "2024-07-05T10:39:07.198Z"
   },
   {
    "duration": 78,
    "start_time": "2024-07-05T10:39:07.209Z"
   },
   {
    "duration": 81,
    "start_time": "2024-07-05T10:39:07.288Z"
   },
   {
    "duration": 71,
    "start_time": "2024-07-05T10:39:07.370Z"
   },
   {
    "duration": 68,
    "start_time": "2024-07-05T10:39:07.442Z"
   },
   {
    "duration": 22,
    "start_time": "2024-07-05T10:39:07.512Z"
   },
   {
    "duration": 12,
    "start_time": "2024-07-05T10:39:07.535Z"
   },
   {
    "duration": 23,
    "start_time": "2024-07-05T10:39:07.548Z"
   },
   {
    "duration": 4,
    "start_time": "2024-07-05T10:39:07.572Z"
   },
   {
    "duration": 35,
    "start_time": "2024-07-05T10:39:07.577Z"
   },
   {
    "duration": 7,
    "start_time": "2024-07-05T10:39:07.614Z"
   },
   {
    "duration": 566,
    "start_time": "2024-07-05T10:39:07.623Z"
   },
   {
    "duration": 19,
    "start_time": "2024-07-05T10:39:08.190Z"
   },
   {
    "duration": 4,
    "start_time": "2024-07-05T10:39:08.210Z"
   },
   {
    "duration": 23,
    "start_time": "2024-07-05T10:39:08.216Z"
   },
   {
    "duration": 6,
    "start_time": "2024-07-05T10:39:08.241Z"
   },
   {
    "duration": 34,
    "start_time": "2024-07-05T10:39:08.249Z"
   },
   {
    "duration": 37,
    "start_time": "2024-07-05T10:39:08.285Z"
   },
   {
    "duration": 55,
    "start_time": "2024-07-05T10:39:08.323Z"
   },
   {
    "duration": 7,
    "start_time": "2024-07-05T10:39:08.379Z"
   },
   {
    "duration": 23,
    "start_time": "2024-07-05T10:39:08.387Z"
   },
   {
    "duration": 3,
    "start_time": "2024-07-05T10:39:08.412Z"
   },
   {
    "duration": 11,
    "start_time": "2024-07-05T10:39:08.416Z"
   },
   {
    "duration": 88,
    "start_time": "2024-07-05T10:40:49.989Z"
   },
   {
    "duration": 10,
    "start_time": "2024-07-05T10:41:24.036Z"
   },
   {
    "duration": 9,
    "start_time": "2024-07-05T10:41:58.795Z"
   },
   {
    "duration": 9,
    "start_time": "2024-07-05T10:42:35.185Z"
   },
   {
    "duration": 9,
    "start_time": "2024-07-05T10:42:46.544Z"
   },
   {
    "duration": 9,
    "start_time": "2024-07-05T10:42:52.512Z"
   },
   {
    "duration": 125,
    "start_time": "2024-07-05T10:59:09.010Z"
   },
   {
    "duration": 124,
    "start_time": "2024-07-05T10:59:31.593Z"
   },
   {
    "duration": 200,
    "start_time": "2024-07-05T10:59:45.745Z"
   },
   {
    "duration": 182,
    "start_time": "2024-07-05T11:00:01.227Z"
   },
   {
    "duration": 119,
    "start_time": "2024-07-05T11:00:15.231Z"
   },
   {
    "duration": 116,
    "start_time": "2024-07-05T11:00:46.974Z"
   },
   {
    "duration": 117,
    "start_time": "2024-07-05T11:00:52.324Z"
   },
   {
    "duration": 122,
    "start_time": "2024-07-05T11:01:40.535Z"
   },
   {
    "duration": 121,
    "start_time": "2024-07-05T11:01:55.893Z"
   },
   {
    "duration": 8,
    "start_time": "2024-07-05T11:29:20.140Z"
   },
   {
    "duration": 16,
    "start_time": "2024-07-05T11:33:51.629Z"
   },
   {
    "duration": 5,
    "start_time": "2024-07-05T11:34:14.688Z"
   },
   {
    "duration": 5,
    "start_time": "2024-07-05T11:34:37.723Z"
   },
   {
    "duration": 4,
    "start_time": "2024-07-05T11:34:42.632Z"
   },
   {
    "duration": 4,
    "start_time": "2024-07-05T11:34:46.884Z"
   },
   {
    "duration": 8,
    "start_time": "2024-07-05T11:38:42.675Z"
   },
   {
    "duration": 8,
    "start_time": "2024-07-05T11:39:02.203Z"
   },
   {
    "duration": 2,
    "start_time": "2024-07-05T11:51:23.645Z"
   },
   {
    "duration": 9,
    "start_time": "2024-07-05T13:19:53.553Z"
   },
   {
    "duration": 34,
    "start_time": "2024-07-05T13:20:11.854Z"
   },
   {
    "duration": 28,
    "start_time": "2024-07-05T14:06:42.374Z"
   },
   {
    "duration": 5,
    "start_time": "2024-07-05T14:07:17.228Z"
   },
   {
    "duration": 6,
    "start_time": "2024-07-05T14:07:32.444Z"
   },
   {
    "duration": 6,
    "start_time": "2024-07-05T14:07:40.867Z"
   },
   {
    "duration": 6,
    "start_time": "2024-07-05T14:07:45.324Z"
   },
   {
    "duration": 5,
    "start_time": "2024-07-05T14:36:16.504Z"
   },
   {
    "duration": 4,
    "start_time": "2024-07-05T14:36:27.220Z"
   },
   {
    "duration": 5,
    "start_time": "2024-07-05T14:36:42.204Z"
   },
   {
    "duration": 6,
    "start_time": "2024-07-05T14:36:54.261Z"
   },
   {
    "duration": 5,
    "start_time": "2024-07-05T14:37:13.650Z"
   },
   {
    "duration": 5,
    "start_time": "2024-07-05T15:16:09.805Z"
   },
   {
    "duration": 5,
    "start_time": "2024-07-05T15:16:23.414Z"
   },
   {
    "duration": 48,
    "start_time": "2024-07-05T15:17:00.400Z"
   },
   {
    "duration": 1112,
    "start_time": "2024-07-05T15:17:37.307Z"
   },
   {
    "duration": 2,
    "start_time": "2024-07-05T15:17:38.421Z"
   },
   {
    "duration": 158,
    "start_time": "2024-07-05T15:17:38.424Z"
   },
   {
    "duration": 11,
    "start_time": "2024-07-05T15:17:38.584Z"
   },
   {
    "duration": 28,
    "start_time": "2024-07-05T15:17:38.596Z"
   },
   {
    "duration": 7,
    "start_time": "2024-07-05T15:17:38.625Z"
   },
   {
    "duration": 7,
    "start_time": "2024-07-05T15:17:38.633Z"
   },
   {
    "duration": 26,
    "start_time": "2024-07-05T15:17:38.641Z"
   },
   {
    "duration": 7,
    "start_time": "2024-07-05T15:17:38.668Z"
   },
   {
    "duration": 128,
    "start_time": "2024-07-05T15:17:38.677Z"
   },
   {
    "duration": 7,
    "start_time": "2024-07-05T15:17:38.807Z"
   },
   {
    "duration": 77,
    "start_time": "2024-07-05T15:17:38.816Z"
   },
   {
    "duration": 83,
    "start_time": "2024-07-05T15:17:38.894Z"
   },
   {
    "duration": 71,
    "start_time": "2024-07-05T15:17:38.979Z"
   },
   {
    "duration": 61,
    "start_time": "2024-07-05T15:17:39.051Z"
   },
   {
    "duration": 20,
    "start_time": "2024-07-05T15:17:39.113Z"
   },
   {
    "duration": 17,
    "start_time": "2024-07-05T15:17:39.135Z"
   },
   {
    "duration": 24,
    "start_time": "2024-07-05T15:17:39.153Z"
   },
   {
    "duration": 5,
    "start_time": "2024-07-05T15:17:39.178Z"
   },
   {
    "duration": 11,
    "start_time": "2024-07-05T15:17:39.185Z"
   },
   {
    "duration": 5,
    "start_time": "2024-07-05T15:17:39.208Z"
   },
   {
    "duration": 599,
    "start_time": "2024-07-05T15:17:39.214Z"
   },
   {
    "duration": 13,
    "start_time": "2024-07-05T15:17:39.814Z"
   },
   {
    "duration": 16,
    "start_time": "2024-07-05T15:17:39.828Z"
   },
   {
    "duration": 24,
    "start_time": "2024-07-05T15:17:39.846Z"
   },
   {
    "duration": 23,
    "start_time": "2024-07-05T15:17:39.872Z"
   },
   {
    "duration": 64,
    "start_time": "2024-07-05T15:17:39.896Z"
   },
   {
    "duration": 23,
    "start_time": "2024-07-05T15:17:39.963Z"
   },
   {
    "duration": 56,
    "start_time": "2024-07-05T15:17:39.987Z"
   },
   {
    "duration": 6,
    "start_time": "2024-07-05T15:17:40.045Z"
   },
   {
    "duration": 25,
    "start_time": "2024-07-05T15:17:40.052Z"
   },
   {
    "duration": 16,
    "start_time": "2024-07-05T15:17:40.079Z"
   },
   {
    "duration": 11,
    "start_time": "2024-07-05T15:17:40.097Z"
   },
   {
    "duration": 135,
    "start_time": "2024-07-05T15:17:40.109Z"
   },
   {
    "duration": 8,
    "start_time": "2024-07-05T15:17:40.245Z"
   },
   {
    "duration": 24,
    "start_time": "2024-07-05T15:17:40.254Z"
   },
   {
    "duration": 45,
    "start_time": "2024-07-05T15:17:40.279Z"
   },
   {
    "duration": 28,
    "start_time": "2024-07-05T15:17:40.326Z"
   },
   {
    "duration": 6,
    "start_time": "2024-07-05T15:17:40.355Z"
   },
   {
    "duration": 12,
    "start_time": "2024-07-05T15:17:40.362Z"
   },
   {
    "duration": 18,
    "start_time": "2024-07-05T15:17:40.376Z"
   },
   {
    "duration": 5,
    "start_time": "2024-07-05T15:17:40.396Z"
   },
   {
    "duration": 145,
    "start_time": "2024-07-05T15:17:40.403Z"
   },
   {
    "duration": 1037,
    "start_time": "2024-07-05T15:20:30.255Z"
   },
   {
    "duration": 2,
    "start_time": "2024-07-05T15:20:31.294Z"
   },
   {
    "duration": 199,
    "start_time": "2024-07-05T15:20:31.298Z"
   },
   {
    "duration": 14,
    "start_time": "2024-07-05T15:20:31.499Z"
   },
   {
    "duration": 117,
    "start_time": "2024-07-05T15:20:31.514Z"
   },
   {
    "duration": 54,
    "start_time": "2024-07-05T15:20:31.633Z"
   },
   {
    "duration": 29,
    "start_time": "2024-07-05T15:20:31.689Z"
   },
   {
    "duration": 26,
    "start_time": "2024-07-05T15:20:31.719Z"
   },
   {
    "duration": 17,
    "start_time": "2024-07-05T15:20:31.747Z"
   },
   {
    "duration": 108,
    "start_time": "2024-07-05T15:20:31.767Z"
   },
   {
    "duration": 8,
    "start_time": "2024-07-05T15:20:31.877Z"
   },
   {
    "duration": 126,
    "start_time": "2024-07-05T15:20:31.887Z"
   },
   {
    "duration": 112,
    "start_time": "2024-07-05T15:20:32.015Z"
   },
   {
    "duration": 62,
    "start_time": "2024-07-05T15:20:32.128Z"
   },
   {
    "duration": 73,
    "start_time": "2024-07-05T15:20:32.192Z"
   },
   {
    "duration": 43,
    "start_time": "2024-07-05T15:20:32.267Z"
   },
   {
    "duration": 12,
    "start_time": "2024-07-05T15:20:32.311Z"
   },
   {
    "duration": 23,
    "start_time": "2024-07-05T15:20:32.324Z"
   },
   {
    "duration": 4,
    "start_time": "2024-07-05T15:20:32.349Z"
   },
   {
    "duration": 23,
    "start_time": "2024-07-05T15:20:32.354Z"
   },
   {
    "duration": 13,
    "start_time": "2024-07-05T15:20:32.378Z"
   },
   {
    "duration": 562,
    "start_time": "2024-07-05T15:20:32.392Z"
   },
   {
    "duration": 13,
    "start_time": "2024-07-05T15:20:32.956Z"
   },
   {
    "duration": 5,
    "start_time": "2024-07-05T15:20:32.971Z"
   },
   {
    "duration": 42,
    "start_time": "2024-07-05T15:20:32.978Z"
   },
   {
    "duration": 8,
    "start_time": "2024-07-05T15:20:33.022Z"
   },
   {
    "duration": 33,
    "start_time": "2024-07-05T15:20:33.032Z"
   },
   {
    "duration": 44,
    "start_time": "2024-07-05T15:20:33.068Z"
   },
   {
    "duration": 52,
    "start_time": "2024-07-05T15:20:33.113Z"
   },
   {
    "duration": 7,
    "start_time": "2024-07-05T15:20:33.166Z"
   },
   {
    "duration": 9,
    "start_time": "2024-07-05T15:20:33.174Z"
   },
   {
    "duration": 25,
    "start_time": "2024-07-05T15:20:33.185Z"
   },
   {
    "duration": 10,
    "start_time": "2024-07-05T15:20:33.212Z"
   },
   {
    "duration": 140,
    "start_time": "2024-07-05T15:20:33.223Z"
   },
   {
    "duration": 7,
    "start_time": "2024-07-05T15:20:33.365Z"
   },
   {
    "duration": 6,
    "start_time": "2024-07-05T15:20:33.374Z"
   },
   {
    "duration": 48,
    "start_time": "2024-07-05T15:20:33.382Z"
   },
   {
    "duration": 29,
    "start_time": "2024-07-05T15:20:33.432Z"
   },
   {
    "duration": 7,
    "start_time": "2024-07-05T15:20:33.462Z"
   },
   {
    "duration": 8,
    "start_time": "2024-07-05T15:20:33.471Z"
   },
   {
    "duration": 30,
    "start_time": "2024-07-05T15:20:33.480Z"
   },
   {
    "duration": 7,
    "start_time": "2024-07-05T15:20:33.512Z"
   },
   {
    "duration": 147,
    "start_time": "2024-07-05T15:20:33.520Z"
   },
   {
    "duration": 6,
    "start_time": "2024-07-05T15:21:05.040Z"
   },
   {
    "duration": 122,
    "start_time": "2024-07-05T15:21:07.056Z"
   },
   {
    "duration": 50,
    "start_time": "2024-07-06T10:29:27.489Z"
   },
   {
    "duration": 1335,
    "start_time": "2024-07-06T10:29:34.653Z"
   },
   {
    "duration": 5,
    "start_time": "2024-07-06T10:29:35.990Z"
   },
   {
    "duration": 322,
    "start_time": "2024-07-06T10:29:35.997Z"
   },
   {
    "duration": 15,
    "start_time": "2024-07-06T10:29:36.321Z"
   },
   {
    "duration": 36,
    "start_time": "2024-07-06T10:29:36.337Z"
   },
   {
    "duration": 7,
    "start_time": "2024-07-06T10:29:36.375Z"
   },
   {
    "duration": 7,
    "start_time": "2024-07-06T10:29:36.384Z"
   },
   {
    "duration": 17,
    "start_time": "2024-07-06T10:29:36.393Z"
   },
   {
    "duration": 8,
    "start_time": "2024-07-06T10:29:36.411Z"
   },
   {
    "duration": 183,
    "start_time": "2024-07-06T10:29:36.423Z"
   },
   {
    "duration": 9,
    "start_time": "2024-07-06T10:29:36.609Z"
   },
   {
    "duration": 127,
    "start_time": "2024-07-06T10:29:36.620Z"
   },
   {
    "duration": 75,
    "start_time": "2024-07-06T10:29:36.749Z"
   },
   {
    "duration": 67,
    "start_time": "2024-07-06T10:29:36.825Z"
   },
   {
    "duration": 68,
    "start_time": "2024-07-06T10:29:36.894Z"
   },
   {
    "duration": 26,
    "start_time": "2024-07-06T10:29:36.963Z"
   },
   {
    "duration": 16,
    "start_time": "2024-07-06T10:29:36.991Z"
   },
   {
    "duration": 23,
    "start_time": "2024-07-06T10:29:37.008Z"
   },
   {
    "duration": 5,
    "start_time": "2024-07-06T10:29:37.032Z"
   },
   {
    "duration": 6,
    "start_time": "2024-07-06T10:29:37.061Z"
   },
   {
    "duration": 7,
    "start_time": "2024-07-06T10:29:37.068Z"
   },
   {
    "duration": 672,
    "start_time": "2024-07-06T10:29:37.077Z"
   },
   {
    "duration": 21,
    "start_time": "2024-07-06T10:29:37.751Z"
   },
   {
    "duration": 9,
    "start_time": "2024-07-06T10:29:37.777Z"
   },
   {
    "duration": 85,
    "start_time": "2024-07-06T10:29:37.788Z"
   },
   {
    "duration": 6,
    "start_time": "2024-07-06T10:29:37.875Z"
   },
   {
    "duration": 31,
    "start_time": "2024-07-06T10:29:37.883Z"
   },
   {
    "duration": 63,
    "start_time": "2024-07-06T10:29:37.919Z"
   },
   {
    "duration": 79,
    "start_time": "2024-07-06T10:29:37.984Z"
   },
   {
    "duration": 8,
    "start_time": "2024-07-06T10:29:38.065Z"
   },
   {
    "duration": 10,
    "start_time": "2024-07-06T10:29:38.075Z"
   },
   {
    "duration": 4,
    "start_time": "2024-07-06T10:29:38.087Z"
   },
   {
    "duration": 12,
    "start_time": "2024-07-06T10:29:38.093Z"
   },
   {
    "duration": 175,
    "start_time": "2024-07-06T10:29:38.107Z"
   },
   {
    "duration": 9,
    "start_time": "2024-07-06T10:29:38.283Z"
   },
   {
    "duration": 3,
    "start_time": "2024-07-06T10:29:38.293Z"
   },
   {
    "duration": 34,
    "start_time": "2024-07-06T10:29:38.297Z"
   },
   {
    "duration": 62,
    "start_time": "2024-07-06T10:29:38.332Z"
   },
   {
    "duration": 7,
    "start_time": "2024-07-06T10:29:38.396Z"
   },
   {
    "duration": 9,
    "start_time": "2024-07-06T10:29:38.405Z"
   },
   {
    "duration": 10,
    "start_time": "2024-07-06T10:29:38.416Z"
   },
   {
    "duration": 33,
    "start_time": "2024-07-06T10:29:38.428Z"
   },
   {
    "duration": 138,
    "start_time": "2024-07-06T10:29:38.463Z"
   },
   {
    "duration": 136,
    "start_time": "2024-07-06T10:29:38.603Z"
   },
   {
    "duration": 127,
    "start_time": "2024-07-06T10:31:06.782Z"
   },
   {
    "duration": 1189,
    "start_time": "2024-07-06T11:30:40.396Z"
   },
   {
    "duration": 2,
    "start_time": "2024-07-06T11:30:41.587Z"
   },
   {
    "duration": 207,
    "start_time": "2024-07-06T11:30:41.591Z"
   },
   {
    "duration": 11,
    "start_time": "2024-07-06T11:30:41.800Z"
   },
   {
    "duration": 22,
    "start_time": "2024-07-06T11:30:41.812Z"
   },
   {
    "duration": 33,
    "start_time": "2024-07-06T11:30:41.836Z"
   },
   {
    "duration": 12,
    "start_time": "2024-07-06T11:30:41.871Z"
   },
   {
    "duration": 19,
    "start_time": "2024-07-06T11:30:41.884Z"
   },
   {
    "duration": 26,
    "start_time": "2024-07-06T11:30:41.905Z"
   },
   {
    "duration": 199,
    "start_time": "2024-07-06T11:30:41.934Z"
   },
   {
    "duration": 9,
    "start_time": "2024-07-06T11:30:42.134Z"
   },
   {
    "duration": 81,
    "start_time": "2024-07-06T11:30:42.145Z"
   },
   {
    "duration": 86,
    "start_time": "2024-07-06T11:30:42.228Z"
   },
   {
    "duration": 72,
    "start_time": "2024-07-06T11:30:42.316Z"
   },
   {
    "duration": 60,
    "start_time": "2024-07-06T11:30:42.390Z"
   },
   {
    "duration": 30,
    "start_time": "2024-07-06T11:30:42.469Z"
   },
   {
    "duration": 14,
    "start_time": "2024-07-06T11:30:42.500Z"
   },
   {
    "duration": 38,
    "start_time": "2024-07-06T11:30:42.516Z"
   },
   {
    "duration": 11,
    "start_time": "2024-07-06T11:30:42.557Z"
   },
   {
    "duration": 10,
    "start_time": "2024-07-06T11:30:42.574Z"
   },
   {
    "duration": 8,
    "start_time": "2024-07-06T11:30:42.586Z"
   },
   {
    "duration": 678,
    "start_time": "2024-07-06T11:30:42.595Z"
   },
   {
    "duration": 12,
    "start_time": "2024-07-06T11:30:43.278Z"
   },
   {
    "duration": 36,
    "start_time": "2024-07-06T11:30:43.292Z"
   },
   {
    "duration": 50,
    "start_time": "2024-07-06T11:30:43.329Z"
   },
   {
    "duration": 6,
    "start_time": "2024-07-06T11:30:43.380Z"
   },
   {
    "duration": 51,
    "start_time": "2024-07-06T11:30:43.388Z"
   },
   {
    "duration": 41,
    "start_time": "2024-07-06T11:30:43.442Z"
   },
   {
    "duration": 68,
    "start_time": "2024-07-06T11:30:43.484Z"
   },
   {
    "duration": 13,
    "start_time": "2024-07-06T11:30:43.554Z"
   },
   {
    "duration": 12,
    "start_time": "2024-07-06T11:30:43.569Z"
   },
   {
    "duration": 14,
    "start_time": "2024-07-06T11:30:43.583Z"
   },
   {
    "duration": 18,
    "start_time": "2024-07-06T11:30:43.599Z"
   },
   {
    "duration": 140,
    "start_time": "2024-07-06T11:30:43.618Z"
   },
   {
    "duration": 20,
    "start_time": "2024-07-06T11:30:43.759Z"
   },
   {
    "duration": 25,
    "start_time": "2024-07-06T11:30:43.781Z"
   },
   {
    "duration": 35,
    "start_time": "2024-07-06T11:30:43.808Z"
   },
   {
    "duration": 38,
    "start_time": "2024-07-06T11:30:43.844Z"
   },
   {
    "duration": 7,
    "start_time": "2024-07-06T11:30:43.884Z"
   },
   {
    "duration": 8,
    "start_time": "2024-07-06T11:30:43.893Z"
   },
   {
    "duration": 6,
    "start_time": "2024-07-06T11:30:43.903Z"
   },
   {
    "duration": 8,
    "start_time": "2024-07-06T11:30:43.911Z"
   },
   {
    "duration": 201,
    "start_time": "2024-07-06T11:30:43.921Z"
   },
   {
    "duration": 160,
    "start_time": "2024-07-06T11:30:44.123Z"
   },
   {
    "duration": 218,
    "start_time": "2024-07-06T11:30:44.288Z"
   },
   {
    "duration": 1034,
    "start_time": "2024-07-06T17:06:57.795Z"
   },
   {
    "duration": 2,
    "start_time": "2024-07-06T17:06:58.831Z"
   },
   {
    "duration": 152,
    "start_time": "2024-07-06T17:06:58.834Z"
   },
   {
    "duration": 10,
    "start_time": "2024-07-06T17:06:58.988Z"
   },
   {
    "duration": 19,
    "start_time": "2024-07-06T17:06:58.999Z"
   },
   {
    "duration": 5,
    "start_time": "2024-07-06T17:06:59.019Z"
   },
   {
    "duration": 6,
    "start_time": "2024-07-06T17:06:59.025Z"
   },
   {
    "duration": 23,
    "start_time": "2024-07-06T17:06:59.032Z"
   },
   {
    "duration": 9,
    "start_time": "2024-07-06T17:06:59.056Z"
   },
   {
    "duration": 120,
    "start_time": "2024-07-06T17:06:59.068Z"
   },
   {
    "duration": 14,
    "start_time": "2024-07-06T17:06:59.189Z"
   },
   {
    "duration": 62,
    "start_time": "2024-07-06T17:06:59.204Z"
   },
   {
    "duration": 111,
    "start_time": "2024-07-06T17:06:59.268Z"
   },
   {
    "duration": 73,
    "start_time": "2024-07-06T17:06:59.381Z"
   },
   {
    "duration": 60,
    "start_time": "2024-07-06T17:06:59.455Z"
   },
   {
    "duration": 20,
    "start_time": "2024-07-06T17:06:59.517Z"
   },
   {
    "duration": 12,
    "start_time": "2024-07-06T17:06:59.538Z"
   },
   {
    "duration": 14,
    "start_time": "2024-07-06T17:06:59.552Z"
   },
   {
    "duration": 4,
    "start_time": "2024-07-06T17:06:59.568Z"
   },
   {
    "duration": 28,
    "start_time": "2024-07-06T17:06:59.574Z"
   },
   {
    "duration": 9,
    "start_time": "2024-07-06T17:06:59.604Z"
   },
   {
    "duration": 519,
    "start_time": "2024-07-06T17:06:59.615Z"
   },
   {
    "duration": 12,
    "start_time": "2024-07-06T17:07:00.135Z"
   },
   {
    "duration": 76,
    "start_time": "2024-07-06T17:07:00.148Z"
   },
   {
    "duration": 65,
    "start_time": "2024-07-06T17:07:00.225Z"
   },
   {
    "duration": 84,
    "start_time": "2024-07-06T17:07:00.292Z"
   },
   {
    "duration": 73,
    "start_time": "2024-07-06T17:07:00.378Z"
   },
   {
    "duration": 75,
    "start_time": "2024-07-06T17:07:00.454Z"
   },
   {
    "duration": 92,
    "start_time": "2024-07-06T17:07:00.531Z"
   },
   {
    "duration": 9,
    "start_time": "2024-07-06T17:07:00.624Z"
   },
   {
    "duration": 42,
    "start_time": "2024-07-06T17:07:00.634Z"
   },
   {
    "duration": 41,
    "start_time": "2024-07-06T17:07:00.677Z"
   },
   {
    "duration": 44,
    "start_time": "2024-07-06T17:07:00.719Z"
   },
   {
    "duration": 337,
    "start_time": "2024-07-06T17:07:00.765Z"
   },
   {
    "duration": 9,
    "start_time": "2024-07-06T17:07:01.104Z"
   },
   {
    "duration": 38,
    "start_time": "2024-07-06T17:07:01.114Z"
   },
   {
    "duration": 68,
    "start_time": "2024-07-06T17:07:01.153Z"
   },
   {
    "duration": 33,
    "start_time": "2024-07-06T17:07:01.222Z"
   },
   {
    "duration": 16,
    "start_time": "2024-07-06T17:07:01.256Z"
   },
   {
    "duration": 48,
    "start_time": "2024-07-06T17:07:01.273Z"
   },
   {
    "duration": 50,
    "start_time": "2024-07-06T17:07:01.322Z"
   },
   {
    "duration": 49,
    "start_time": "2024-07-06T17:07:01.373Z"
   },
   {
    "duration": 182,
    "start_time": "2024-07-06T17:07:01.423Z"
   },
   {
    "duration": 118,
    "start_time": "2024-07-06T17:07:01.607Z"
   },
   {
    "duration": 122,
    "start_time": "2024-07-06T17:07:01.726Z"
   },
   {
    "duration": 1022,
    "start_time": "2024-07-06T17:24:38.176Z"
   },
   {
    "duration": 3,
    "start_time": "2024-07-06T17:24:39.199Z"
   },
   {
    "duration": 154,
    "start_time": "2024-07-06T17:24:39.203Z"
   },
   {
    "duration": 10,
    "start_time": "2024-07-06T17:24:39.359Z"
   },
   {
    "duration": 21,
    "start_time": "2024-07-06T17:24:39.371Z"
   },
   {
    "duration": 12,
    "start_time": "2024-07-06T17:24:39.394Z"
   },
   {
    "duration": 9,
    "start_time": "2024-07-06T17:24:39.407Z"
   },
   {
    "duration": 17,
    "start_time": "2024-07-06T17:24:39.417Z"
   },
   {
    "duration": 6,
    "start_time": "2024-07-06T17:24:39.435Z"
   },
   {
    "duration": 94,
    "start_time": "2024-07-06T17:24:39.443Z"
   },
   {
    "duration": 6,
    "start_time": "2024-07-06T17:24:39.538Z"
   },
   {
    "duration": 67,
    "start_time": "2024-07-06T17:24:39.546Z"
   },
   {
    "duration": 72,
    "start_time": "2024-07-06T17:24:39.615Z"
   },
   {
    "duration": 62,
    "start_time": "2024-07-06T17:24:39.689Z"
   },
   {
    "duration": 56,
    "start_time": "2024-07-06T17:24:39.752Z"
   },
   {
    "duration": 18,
    "start_time": "2024-07-06T17:24:39.809Z"
   },
   {
    "duration": 32,
    "start_time": "2024-07-06T17:24:39.828Z"
   },
   {
    "duration": 17,
    "start_time": "2024-07-06T17:24:39.861Z"
   },
   {
    "duration": 3,
    "start_time": "2024-07-06T17:24:39.879Z"
   },
   {
    "duration": 3,
    "start_time": "2024-07-06T17:24:39.884Z"
   },
   {
    "duration": 9,
    "start_time": "2024-07-06T17:24:39.888Z"
   },
   {
    "duration": 532,
    "start_time": "2024-07-06T17:24:39.899Z"
   },
   {
    "duration": 11,
    "start_time": "2024-07-06T17:24:40.432Z"
   },
   {
    "duration": 3,
    "start_time": "2024-07-06T17:24:40.445Z"
   },
   {
    "duration": 16,
    "start_time": "2024-07-06T17:24:40.450Z"
   },
   {
    "duration": 36,
    "start_time": "2024-07-06T17:24:40.467Z"
   },
   {
    "duration": 28,
    "start_time": "2024-07-06T17:24:40.505Z"
   },
   {
    "duration": 21,
    "start_time": "2024-07-06T17:24:40.536Z"
   },
   {
    "duration": 74,
    "start_time": "2024-07-06T17:24:40.559Z"
   },
   {
    "duration": 8,
    "start_time": "2024-07-06T17:24:40.635Z"
   },
   {
    "duration": 10,
    "start_time": "2024-07-06T17:24:40.644Z"
   },
   {
    "duration": 3,
    "start_time": "2024-07-06T17:24:40.656Z"
   },
   {
    "duration": 14,
    "start_time": "2024-07-06T17:24:40.660Z"
   },
   {
    "duration": 137,
    "start_time": "2024-07-06T17:24:40.675Z"
   },
   {
    "duration": 8,
    "start_time": "2024-07-06T17:24:40.813Z"
   },
   {
    "duration": 2,
    "start_time": "2024-07-06T17:24:40.822Z"
   },
   {
    "duration": 28,
    "start_time": "2024-07-06T17:24:40.826Z"
   },
   {
    "duration": 48,
    "start_time": "2024-07-06T17:24:40.855Z"
   },
   {
    "duration": 6,
    "start_time": "2024-07-06T17:24:40.904Z"
   },
   {
    "duration": 6,
    "start_time": "2024-07-06T17:24:40.911Z"
   },
   {
    "duration": 5,
    "start_time": "2024-07-06T17:24:40.918Z"
   },
   {
    "duration": 7,
    "start_time": "2024-07-06T17:24:40.924Z"
   },
   {
    "duration": 183,
    "start_time": "2024-07-06T17:24:40.932Z"
   },
   {
    "duration": 108,
    "start_time": "2024-07-06T17:24:41.116Z"
   },
   {
    "duration": 123,
    "start_time": "2024-07-06T17:24:41.225Z"
   },
   {
    "duration": 80,
    "start_time": "2024-07-07T09:25:02.821Z"
   },
   {
    "duration": 1406,
    "start_time": "2024-07-07T09:25:08.714Z"
   },
   {
    "duration": 3,
    "start_time": "2024-07-07T09:25:10.122Z"
   },
   {
    "duration": 844,
    "start_time": "2024-07-07T09:25:10.127Z"
   },
   {
    "duration": 11,
    "start_time": "2024-07-07T09:25:10.973Z"
   },
   {
    "duration": 28,
    "start_time": "2024-07-07T09:25:10.985Z"
   },
   {
    "duration": 5,
    "start_time": "2024-07-07T09:25:11.015Z"
   },
   {
    "duration": 6,
    "start_time": "2024-07-07T09:25:11.022Z"
   },
   {
    "duration": 14,
    "start_time": "2024-07-07T09:25:11.030Z"
   },
   {
    "duration": 8,
    "start_time": "2024-07-07T09:25:11.045Z"
   },
   {
    "duration": 132,
    "start_time": "2024-07-07T09:25:11.055Z"
   },
   {
    "duration": 12,
    "start_time": "2024-07-07T09:25:11.198Z"
   },
   {
    "duration": 121,
    "start_time": "2024-07-07T09:25:11.213Z"
   },
   {
    "duration": 83,
    "start_time": "2024-07-07T09:25:11.335Z"
   },
   {
    "duration": 61,
    "start_time": "2024-07-07T09:25:11.420Z"
   },
   {
    "duration": 63,
    "start_time": "2024-07-07T09:25:11.490Z"
   },
   {
    "duration": 20,
    "start_time": "2024-07-07T09:25:11.554Z"
   },
   {
    "duration": 62,
    "start_time": "2024-07-07T09:25:11.589Z"
   },
   {
    "duration": 0,
    "start_time": "2024-07-07T09:25:11.653Z"
   },
   {
    "duration": 0,
    "start_time": "2024-07-07T09:25:11.654Z"
   },
   {
    "duration": 0,
    "start_time": "2024-07-07T09:25:11.655Z"
   },
   {
    "duration": 0,
    "start_time": "2024-07-07T09:25:11.656Z"
   },
   {
    "duration": 0,
    "start_time": "2024-07-07T09:25:11.657Z"
   },
   {
    "duration": 0,
    "start_time": "2024-07-07T09:25:11.657Z"
   },
   {
    "duration": 0,
    "start_time": "2024-07-07T09:25:11.658Z"
   },
   {
    "duration": 0,
    "start_time": "2024-07-07T09:25:11.659Z"
   },
   {
    "duration": 0,
    "start_time": "2024-07-07T09:25:11.660Z"
   },
   {
    "duration": 0,
    "start_time": "2024-07-07T09:25:11.661Z"
   },
   {
    "duration": 0,
    "start_time": "2024-07-07T09:25:11.662Z"
   },
   {
    "duration": 0,
    "start_time": "2024-07-07T09:25:11.663Z"
   },
   {
    "duration": 0,
    "start_time": "2024-07-07T09:25:11.665Z"
   },
   {
    "duration": 0,
    "start_time": "2024-07-07T09:25:11.665Z"
   },
   {
    "duration": 0,
    "start_time": "2024-07-07T09:25:11.666Z"
   },
   {
    "duration": 0,
    "start_time": "2024-07-07T09:25:11.667Z"
   },
   {
    "duration": 0,
    "start_time": "2024-07-07T09:25:11.669Z"
   },
   {
    "duration": 0,
    "start_time": "2024-07-07T09:25:11.669Z"
   },
   {
    "duration": 0,
    "start_time": "2024-07-07T09:25:11.670Z"
   },
   {
    "duration": 0,
    "start_time": "2024-07-07T09:25:11.671Z"
   },
   {
    "duration": 0,
    "start_time": "2024-07-07T09:25:11.672Z"
   },
   {
    "duration": 0,
    "start_time": "2024-07-07T09:25:11.673Z"
   },
   {
    "duration": 0,
    "start_time": "2024-07-07T09:25:11.674Z"
   },
   {
    "duration": 0,
    "start_time": "2024-07-07T09:25:11.675Z"
   },
   {
    "duration": 0,
    "start_time": "2024-07-07T09:25:11.676Z"
   },
   {
    "duration": 0,
    "start_time": "2024-07-07T09:25:11.677Z"
   },
   {
    "duration": 0,
    "start_time": "2024-07-07T09:25:11.677Z"
   },
   {
    "duration": 0,
    "start_time": "2024-07-07T09:25:11.678Z"
   },
   {
    "duration": 117,
    "start_time": "2024-07-07T09:32:01.253Z"
   },
   {
    "duration": 1107,
    "start_time": "2024-07-07T09:32:26.358Z"
   },
   {
    "duration": 3,
    "start_time": "2024-07-07T09:32:27.467Z"
   },
   {
    "duration": 190,
    "start_time": "2024-07-07T09:32:27.472Z"
   },
   {
    "duration": 12,
    "start_time": "2024-07-07T09:32:27.664Z"
   },
   {
    "duration": 37,
    "start_time": "2024-07-07T09:32:27.678Z"
   },
   {
    "duration": 5,
    "start_time": "2024-07-07T09:32:27.717Z"
   },
   {
    "duration": 59,
    "start_time": "2024-07-07T09:32:27.724Z"
   },
   {
    "duration": 20,
    "start_time": "2024-07-07T09:32:27.785Z"
   },
   {
    "duration": 8,
    "start_time": "2024-07-07T09:32:27.807Z"
   },
   {
    "duration": 107,
    "start_time": "2024-07-07T09:32:27.818Z"
   },
   {
    "duration": 9,
    "start_time": "2024-07-07T09:32:27.926Z"
   },
   {
    "duration": 83,
    "start_time": "2024-07-07T09:32:27.936Z"
   },
   {
    "duration": 90,
    "start_time": "2024-07-07T09:32:28.020Z"
   },
   {
    "duration": 88,
    "start_time": "2024-07-07T09:32:28.112Z"
   },
   {
    "duration": 57,
    "start_time": "2024-07-07T09:32:28.202Z"
   },
   {
    "duration": 32,
    "start_time": "2024-07-07T09:32:28.261Z"
   },
   {
    "duration": 136,
    "start_time": "2024-07-07T09:32:28.295Z"
   },
   {
    "duration": 0,
    "start_time": "2024-07-07T09:32:28.434Z"
   },
   {
    "duration": 0,
    "start_time": "2024-07-07T09:32:28.435Z"
   },
   {
    "duration": 0,
    "start_time": "2024-07-07T09:32:28.437Z"
   },
   {
    "duration": 0,
    "start_time": "2024-07-07T09:32:28.438Z"
   },
   {
    "duration": 0,
    "start_time": "2024-07-07T09:32:28.439Z"
   },
   {
    "duration": 0,
    "start_time": "2024-07-07T09:32:28.441Z"
   },
   {
    "duration": 0,
    "start_time": "2024-07-07T09:32:28.442Z"
   },
   {
    "duration": 0,
    "start_time": "2024-07-07T09:32:28.444Z"
   },
   {
    "duration": 0,
    "start_time": "2024-07-07T09:32:28.445Z"
   },
   {
    "duration": 0,
    "start_time": "2024-07-07T09:32:28.446Z"
   },
   {
    "duration": 0,
    "start_time": "2024-07-07T09:32:28.447Z"
   },
   {
    "duration": 0,
    "start_time": "2024-07-07T09:32:28.448Z"
   },
   {
    "duration": 0,
    "start_time": "2024-07-07T09:32:28.449Z"
   },
   {
    "duration": 0,
    "start_time": "2024-07-07T09:32:28.451Z"
   },
   {
    "duration": 0,
    "start_time": "2024-07-07T09:32:28.452Z"
   },
   {
    "duration": 0,
    "start_time": "2024-07-07T09:32:28.454Z"
   },
   {
    "duration": 1,
    "start_time": "2024-07-07T09:32:28.489Z"
   },
   {
    "duration": 0,
    "start_time": "2024-07-07T09:32:28.490Z"
   },
   {
    "duration": 0,
    "start_time": "2024-07-07T09:32:28.491Z"
   },
   {
    "duration": 0,
    "start_time": "2024-07-07T09:32:28.492Z"
   },
   {
    "duration": 0,
    "start_time": "2024-07-07T09:32:28.494Z"
   },
   {
    "duration": 0,
    "start_time": "2024-07-07T09:32:28.499Z"
   },
   {
    "duration": 0,
    "start_time": "2024-07-07T09:32:28.500Z"
   },
   {
    "duration": 0,
    "start_time": "2024-07-07T09:32:28.501Z"
   },
   {
    "duration": 0,
    "start_time": "2024-07-07T09:32:28.503Z"
   },
   {
    "duration": 0,
    "start_time": "2024-07-07T09:32:28.505Z"
   },
   {
    "duration": 0,
    "start_time": "2024-07-07T09:32:28.506Z"
   },
   {
    "duration": 0,
    "start_time": "2024-07-07T09:32:28.506Z"
   },
   {
    "duration": 65,
    "start_time": "2024-07-07T10:19:38.573Z"
   },
   {
    "duration": 1141,
    "start_time": "2024-07-07T10:19:59.277Z"
   },
   {
    "duration": 4,
    "start_time": "2024-07-07T10:20:00.420Z"
   },
   {
    "duration": 285,
    "start_time": "2024-07-07T10:20:00.425Z"
   },
   {
    "duration": 11,
    "start_time": "2024-07-07T10:20:00.712Z"
   },
   {
    "duration": 138,
    "start_time": "2024-07-07T10:20:00.724Z"
   },
   {
    "duration": 26,
    "start_time": "2024-07-07T10:20:00.863Z"
   },
   {
    "duration": 42,
    "start_time": "2024-07-07T10:20:00.891Z"
   },
   {
    "duration": 39,
    "start_time": "2024-07-07T10:20:00.934Z"
   },
   {
    "duration": 100,
    "start_time": "2024-07-07T10:20:00.975Z"
   },
   {
    "duration": 143,
    "start_time": "2024-07-07T10:20:01.077Z"
   },
   {
    "duration": 54,
    "start_time": "2024-07-07T10:20:01.221Z"
   },
   {
    "duration": 93,
    "start_time": "2024-07-07T10:20:01.276Z"
   },
   {
    "duration": 229,
    "start_time": "2024-07-07T10:20:01.370Z"
   },
   {
    "duration": 0,
    "start_time": "2024-07-07T10:20:01.604Z"
   },
   {
    "duration": 1,
    "start_time": "2024-07-07T10:20:01.609Z"
   },
   {
    "duration": 0,
    "start_time": "2024-07-07T10:20:01.611Z"
   },
   {
    "duration": 0,
    "start_time": "2024-07-07T10:20:01.612Z"
   },
   {
    "duration": 0,
    "start_time": "2024-07-07T10:20:01.613Z"
   },
   {
    "duration": 0,
    "start_time": "2024-07-07T10:20:01.614Z"
   },
   {
    "duration": 0,
    "start_time": "2024-07-07T10:20:01.616Z"
   },
   {
    "duration": 0,
    "start_time": "2024-07-07T10:20:01.616Z"
   },
   {
    "duration": 0,
    "start_time": "2024-07-07T10:20:01.617Z"
   },
   {
    "duration": 1,
    "start_time": "2024-07-07T10:20:01.618Z"
   },
   {
    "duration": 0,
    "start_time": "2024-07-07T10:20:01.619Z"
   },
   {
    "duration": 0,
    "start_time": "2024-07-07T10:20:01.620Z"
   },
   {
    "duration": 0,
    "start_time": "2024-07-07T10:20:01.622Z"
   },
   {
    "duration": 0,
    "start_time": "2024-07-07T10:20:01.623Z"
   },
   {
    "duration": 0,
    "start_time": "2024-07-07T10:20:01.623Z"
   },
   {
    "duration": 0,
    "start_time": "2024-07-07T10:20:01.625Z"
   },
   {
    "duration": 0,
    "start_time": "2024-07-07T10:20:01.626Z"
   },
   {
    "duration": 1,
    "start_time": "2024-07-07T10:20:01.626Z"
   },
   {
    "duration": 0,
    "start_time": "2024-07-07T10:20:01.628Z"
   },
   {
    "duration": 0,
    "start_time": "2024-07-07T10:20:01.629Z"
   },
   {
    "duration": 0,
    "start_time": "2024-07-07T10:20:01.630Z"
   },
   {
    "duration": 0,
    "start_time": "2024-07-07T10:20:01.631Z"
   },
   {
    "duration": 0,
    "start_time": "2024-07-07T10:20:01.632Z"
   },
   {
    "duration": 0,
    "start_time": "2024-07-07T10:20:01.632Z"
   },
   {
    "duration": 0,
    "start_time": "2024-07-07T10:20:01.633Z"
   },
   {
    "duration": 0,
    "start_time": "2024-07-07T10:20:01.634Z"
   },
   {
    "duration": 0,
    "start_time": "2024-07-07T10:20:01.635Z"
   },
   {
    "duration": 0,
    "start_time": "2024-07-07T10:20:01.636Z"
   },
   {
    "duration": 0,
    "start_time": "2024-07-07T10:20:01.637Z"
   },
   {
    "duration": 0,
    "start_time": "2024-07-07T10:20:01.638Z"
   },
   {
    "duration": 0,
    "start_time": "2024-07-07T10:20:01.638Z"
   },
   {
    "duration": 0,
    "start_time": "2024-07-07T10:20:01.639Z"
   },
   {
    "duration": 0,
    "start_time": "2024-07-07T10:20:01.689Z"
   },
   {
    "duration": 71,
    "start_time": "2024-07-07T10:21:09.688Z"
   },
   {
    "duration": 64,
    "start_time": "2024-07-07T10:22:23.985Z"
   },
   {
    "duration": 69,
    "start_time": "2024-07-07T10:22:47.582Z"
   },
   {
    "duration": 82,
    "start_time": "2024-07-07T10:22:53.235Z"
   },
   {
    "duration": 34,
    "start_time": "2024-07-07T10:23:17.844Z"
   },
   {
    "duration": 19,
    "start_time": "2024-07-07T10:23:26.517Z"
   },
   {
    "duration": 13,
    "start_time": "2024-07-07T10:25:44.588Z"
   },
   {
    "duration": 20,
    "start_time": "2024-07-07T10:25:47.642Z"
   },
   {
    "duration": 1262,
    "start_time": "2024-07-07T10:28:58.075Z"
   },
   {
    "duration": 2,
    "start_time": "2024-07-07T10:28:59.339Z"
   },
   {
    "duration": 167,
    "start_time": "2024-07-07T10:28:59.343Z"
   },
   {
    "duration": 11,
    "start_time": "2024-07-07T10:28:59.513Z"
   },
   {
    "duration": 36,
    "start_time": "2024-07-07T10:28:59.526Z"
   },
   {
    "duration": 6,
    "start_time": "2024-07-07T10:28:59.563Z"
   },
   {
    "duration": 6,
    "start_time": "2024-07-07T10:28:59.571Z"
   },
   {
    "duration": 21,
    "start_time": "2024-07-07T10:28:59.579Z"
   },
   {
    "duration": 10,
    "start_time": "2024-07-07T10:28:59.602Z"
   },
   {
    "duration": 145,
    "start_time": "2024-07-07T10:28:59.616Z"
   },
   {
    "duration": 8,
    "start_time": "2024-07-07T10:28:59.762Z"
   },
   {
    "duration": 99,
    "start_time": "2024-07-07T10:28:59.772Z"
   },
   {
    "duration": 88,
    "start_time": "2024-07-07T10:28:59.873Z"
   },
   {
    "duration": 91,
    "start_time": "2024-07-07T10:28:59.963Z"
   },
   {
    "duration": 72,
    "start_time": "2024-07-07T10:29:00.055Z"
   },
   {
    "duration": 80,
    "start_time": "2024-07-07T10:29:00.128Z"
   },
   {
    "duration": 32,
    "start_time": "2024-07-07T10:29:00.210Z"
   },
   {
    "duration": 76,
    "start_time": "2024-07-07T10:29:00.244Z"
   },
   {
    "duration": 62,
    "start_time": "2024-07-07T10:29:00.321Z"
   },
   {
    "duration": 26,
    "start_time": "2024-07-07T10:29:00.385Z"
   },
   {
    "duration": 88,
    "start_time": "2024-07-07T10:29:00.412Z"
   },
   {
    "duration": 47,
    "start_time": "2024-07-07T10:29:00.502Z"
   },
   {
    "duration": 620,
    "start_time": "2024-07-07T10:29:00.550Z"
   },
   {
    "duration": 18,
    "start_time": "2024-07-07T10:29:01.171Z"
   },
   {
    "duration": 19,
    "start_time": "2024-07-07T10:29:01.191Z"
   },
   {
    "duration": 63,
    "start_time": "2024-07-07T10:29:01.212Z"
   },
   {
    "duration": 28,
    "start_time": "2024-07-07T10:29:01.277Z"
   },
   {
    "duration": 53,
    "start_time": "2024-07-07T10:29:01.309Z"
   },
   {
    "duration": 27,
    "start_time": "2024-07-07T10:29:01.364Z"
   },
   {
    "duration": 116,
    "start_time": "2024-07-07T10:29:01.393Z"
   },
   {
    "duration": 39,
    "start_time": "2024-07-07T10:29:01.511Z"
   },
   {
    "duration": 58,
    "start_time": "2024-07-07T10:29:01.552Z"
   },
   {
    "duration": 35,
    "start_time": "2024-07-07T10:29:01.612Z"
   },
   {
    "duration": 74,
    "start_time": "2024-07-07T10:29:01.648Z"
   },
   {
    "duration": 201,
    "start_time": "2024-07-07T10:29:01.723Z"
   },
   {
    "duration": 8,
    "start_time": "2024-07-07T10:29:01.925Z"
   },
   {
    "duration": 202,
    "start_time": "2024-07-07T10:29:01.935Z"
   },
   {
    "duration": 35,
    "start_time": "2024-07-07T10:29:02.139Z"
   },
   {
    "duration": 35,
    "start_time": "2024-07-07T10:29:02.175Z"
   },
   {
    "duration": 6,
    "start_time": "2024-07-07T10:29:02.211Z"
   },
   {
    "duration": 66,
    "start_time": "2024-07-07T10:29:02.218Z"
   },
   {
    "duration": 10,
    "start_time": "2024-07-07T10:29:02.286Z"
   },
   {
    "duration": 31,
    "start_time": "2024-07-07T10:29:02.298Z"
   },
   {
    "duration": 147,
    "start_time": "2024-07-07T10:29:02.331Z"
   },
   {
    "duration": 144,
    "start_time": "2024-07-07T10:29:02.480Z"
   },
   {
    "duration": 143,
    "start_time": "2024-07-07T10:29:02.626Z"
   },
   {
    "duration": 614,
    "start_time": "2024-07-07T10:34:09.468Z"
   },
   {
    "duration": 67,
    "start_time": "2024-07-07T10:37:28.386Z"
   },
   {
    "duration": 1130,
    "start_time": "2024-07-07T10:37:35.323Z"
   },
   {
    "duration": 2,
    "start_time": "2024-07-07T10:37:36.456Z"
   },
   {
    "duration": 837,
    "start_time": "2024-07-07T10:37:36.460Z"
   },
   {
    "duration": 13,
    "start_time": "2024-07-07T10:37:37.299Z"
   },
   {
    "duration": 26,
    "start_time": "2024-07-07T10:37:37.314Z"
   },
   {
    "duration": 5,
    "start_time": "2024-07-07T10:37:37.342Z"
   },
   {
    "duration": 34,
    "start_time": "2024-07-07T10:37:37.349Z"
   },
   {
    "duration": 15,
    "start_time": "2024-07-07T10:37:37.384Z"
   },
   {
    "duration": 64,
    "start_time": "2024-07-07T10:37:37.400Z"
   },
   {
    "duration": 117,
    "start_time": "2024-07-07T10:37:37.466Z"
   },
   {
    "duration": 11,
    "start_time": "2024-07-07T10:37:37.584Z"
   },
   {
    "duration": 84,
    "start_time": "2024-07-07T10:37:37.597Z"
   },
   {
    "duration": 72,
    "start_time": "2024-07-07T10:37:37.683Z"
   },
   {
    "duration": 101,
    "start_time": "2024-07-07T10:37:37.758Z"
   },
   {
    "duration": 85,
    "start_time": "2024-07-07T10:37:37.860Z"
   },
   {
    "duration": 72,
    "start_time": "2024-07-07T10:37:37.946Z"
   },
   {
    "duration": 26,
    "start_time": "2024-07-07T10:37:38.020Z"
   },
   {
    "duration": 8,
    "start_time": "2024-07-07T10:37:38.048Z"
   },
   {
    "duration": 38,
    "start_time": "2024-07-07T10:37:38.058Z"
   },
   {
    "duration": 8,
    "start_time": "2024-07-07T10:37:38.098Z"
   },
   {
    "duration": 5,
    "start_time": "2024-07-07T10:37:38.108Z"
   },
   {
    "duration": 5,
    "start_time": "2024-07-07T10:37:38.116Z"
   },
   {
    "duration": 5925,
    "start_time": "2024-07-07T10:37:38.122Z"
   },
   {
    "duration": 0,
    "start_time": "2024-07-07T10:37:44.049Z"
   },
   {
    "duration": 0,
    "start_time": "2024-07-07T10:37:44.050Z"
   },
   {
    "duration": 0,
    "start_time": "2024-07-07T10:37:44.051Z"
   },
   {
    "duration": 0,
    "start_time": "2024-07-07T10:37:44.052Z"
   },
   {
    "duration": 0,
    "start_time": "2024-07-07T10:37:44.053Z"
   },
   {
    "duration": 0,
    "start_time": "2024-07-07T10:37:44.054Z"
   },
   {
    "duration": 0,
    "start_time": "2024-07-07T10:37:44.054Z"
   },
   {
    "duration": 0,
    "start_time": "2024-07-07T10:37:44.055Z"
   },
   {
    "duration": 0,
    "start_time": "2024-07-07T10:37:44.057Z"
   },
   {
    "duration": 0,
    "start_time": "2024-07-07T10:37:44.057Z"
   },
   {
    "duration": 0,
    "start_time": "2024-07-07T10:37:44.058Z"
   },
   {
    "duration": 0,
    "start_time": "2024-07-07T10:37:44.060Z"
   },
   {
    "duration": 0,
    "start_time": "2024-07-07T10:37:44.061Z"
   },
   {
    "duration": 0,
    "start_time": "2024-07-07T10:37:44.089Z"
   },
   {
    "duration": 0,
    "start_time": "2024-07-07T10:37:44.091Z"
   },
   {
    "duration": 0,
    "start_time": "2024-07-07T10:37:44.093Z"
   },
   {
    "duration": 0,
    "start_time": "2024-07-07T10:37:44.094Z"
   },
   {
    "duration": 0,
    "start_time": "2024-07-07T10:37:44.096Z"
   },
   {
    "duration": 0,
    "start_time": "2024-07-07T10:37:44.097Z"
   },
   {
    "duration": 0,
    "start_time": "2024-07-07T10:37:44.098Z"
   },
   {
    "duration": 0,
    "start_time": "2024-07-07T10:37:44.100Z"
   },
   {
    "duration": 0,
    "start_time": "2024-07-07T10:37:44.100Z"
   },
   {
    "duration": 0,
    "start_time": "2024-07-07T10:37:44.102Z"
   },
   {
    "duration": 62,
    "start_time": "2024-07-07T10:43:30.478Z"
   },
   {
    "duration": 1133,
    "start_time": "2024-07-07T10:43:36.909Z"
   },
   {
    "duration": 3,
    "start_time": "2024-07-07T10:43:38.044Z"
   },
   {
    "duration": 824,
    "start_time": "2024-07-07T10:43:38.048Z"
   },
   {
    "duration": 11,
    "start_time": "2024-07-07T10:43:38.874Z"
   },
   {
    "duration": 34,
    "start_time": "2024-07-07T10:43:38.887Z"
   },
   {
    "duration": 6,
    "start_time": "2024-07-07T10:43:38.922Z"
   },
   {
    "duration": 6,
    "start_time": "2024-07-07T10:43:38.929Z"
   },
   {
    "duration": 13,
    "start_time": "2024-07-07T10:43:38.937Z"
   },
   {
    "duration": 6,
    "start_time": "2024-07-07T10:43:38.951Z"
   },
   {
    "duration": 124,
    "start_time": "2024-07-07T10:43:38.960Z"
   },
   {
    "duration": 10,
    "start_time": "2024-07-07T10:43:39.085Z"
   },
   {
    "duration": 83,
    "start_time": "2024-07-07T10:43:39.097Z"
   },
   {
    "duration": 74,
    "start_time": "2024-07-07T10:43:39.190Z"
   },
   {
    "duration": 94,
    "start_time": "2024-07-07T10:43:39.265Z"
   },
   {
    "duration": 74,
    "start_time": "2024-07-07T10:43:39.360Z"
   },
   {
    "duration": 67,
    "start_time": "2024-07-07T10:43:39.435Z"
   },
   {
    "duration": 25,
    "start_time": "2024-07-07T10:43:39.504Z"
   },
   {
    "duration": 13,
    "start_time": "2024-07-07T10:43:39.530Z"
   },
   {
    "duration": 16,
    "start_time": "2024-07-07T10:43:39.544Z"
   },
   {
    "duration": 4,
    "start_time": "2024-07-07T10:43:39.561Z"
   },
   {
    "duration": 24,
    "start_time": "2024-07-07T10:43:39.566Z"
   },
   {
    "duration": 7,
    "start_time": "2024-07-07T10:43:39.592Z"
   },
   {
    "duration": 271,
    "start_time": "2024-07-07T10:50:14.013Z"
   },
   {
    "duration": 136176,
    "start_time": "2024-07-07T10:50:52.717Z"
   },
   {
    "duration": 141,
    "start_time": "2024-07-07T10:53:45.518Z"
   },
   {
    "duration": 133680,
    "start_time": "2024-07-07T10:55:43.896Z"
   },
   {
    "duration": 5,
    "start_time": "2024-07-07T11:01:48.677Z"
   },
   {
    "duration": 131988,
    "start_time": "2024-07-07T11:02:00.222Z"
   },
   {
    "duration": 7,
    "start_time": "2024-07-07T11:04:12.212Z"
   },
   {
    "duration": 131520,
    "start_time": "2024-07-07T11:05:22.115Z"
   },
   {
    "duration": 145,
    "start_time": "2024-07-07T11:07:33.636Z"
   },
   {
    "duration": 181,
    "start_time": "2024-07-07T11:08:23.357Z"
   },
   {
    "duration": 15,
    "start_time": "2024-07-07T11:10:24.618Z"
   },
   {
    "duration": 39,
    "start_time": "2024-07-07T11:10:33.754Z"
   },
   {
    "duration": 280,
    "start_time": "2024-07-07T11:10:46.743Z"
   },
   {
    "duration": 24,
    "start_time": "2024-07-07T11:11:34.611Z"
   },
   {
    "duration": 23,
    "start_time": "2024-07-07T11:11:39.243Z"
   },
   {
    "duration": 30,
    "start_time": "2024-07-07T11:12:01.487Z"
   },
   {
    "duration": 243,
    "start_time": "2024-07-07T11:12:09.932Z"
   },
   {
    "duration": 232,
    "start_time": "2024-07-07T11:12:22.906Z"
   },
   {
    "duration": 288,
    "start_time": "2024-07-07T11:12:31.962Z"
   },
   {
    "duration": 264,
    "start_time": "2024-07-07T11:12:56.990Z"
   },
   {
    "duration": 5701,
    "start_time": "2024-07-07T11:15:01.831Z"
   },
   {
    "duration": 146,
    "start_time": "2024-07-07T11:15:33.957Z"
   },
   {
    "duration": 556,
    "start_time": "2024-07-07T11:22:04.354Z"
   },
   {
    "duration": 317,
    "start_time": "2024-07-07T11:22:26.276Z"
   },
   {
    "duration": 6,
    "start_time": "2024-07-07T11:24:08.014Z"
   },
   {
    "duration": 35,
    "start_time": "2024-07-07T11:24:10.118Z"
   },
   {
    "duration": 2866,
    "start_time": "2024-07-07T11:26:43.648Z"
   },
   {
    "duration": 1058,
    "start_time": "2024-07-07T11:36:39.482Z"
   },
   {
    "duration": 219,
    "start_time": "2024-07-07T11:37:53.800Z"
   },
   {
    "duration": 212,
    "start_time": "2024-07-07T11:38:06.599Z"
   },
   {
    "duration": 1124,
    "start_time": "2024-07-07T11:38:17.715Z"
   },
   {
    "duration": 37,
    "start_time": "2024-07-07T11:38:55.186Z"
   },
   {
    "duration": 1128,
    "start_time": "2024-07-07T11:39:14.040Z"
   },
   {
    "duration": 1088,
    "start_time": "2024-07-07T11:39:47.265Z"
   },
   {
    "duration": 1107,
    "start_time": "2024-07-07T11:40:07.046Z"
   },
   {
    "duration": 9,
    "start_time": "2024-07-07T11:43:36.046Z"
   },
   {
    "duration": 59,
    "start_time": "2024-07-07T11:47:02.683Z"
   },
   {
    "duration": 1147,
    "start_time": "2024-07-07T11:47:20.940Z"
   },
   {
    "duration": 5,
    "start_time": "2024-07-07T11:47:22.089Z"
   },
   {
    "duration": 833,
    "start_time": "2024-07-07T11:47:22.096Z"
   },
   {
    "duration": 11,
    "start_time": "2024-07-07T11:47:22.930Z"
   },
   {
    "duration": 37,
    "start_time": "2024-07-07T11:47:22.943Z"
   },
   {
    "duration": 6,
    "start_time": "2024-07-07T11:47:22.982Z"
   },
   {
    "duration": 18,
    "start_time": "2024-07-07T11:47:22.990Z"
   },
   {
    "duration": 22,
    "start_time": "2024-07-07T11:47:23.010Z"
   },
   {
    "duration": 7,
    "start_time": "2024-07-07T11:47:23.034Z"
   },
   {
    "duration": 120,
    "start_time": "2024-07-07T11:47:23.044Z"
   },
   {
    "duration": 9,
    "start_time": "2024-07-07T11:47:23.166Z"
   },
   {
    "duration": 92,
    "start_time": "2024-07-07T11:47:23.177Z"
   },
   {
    "duration": 92,
    "start_time": "2024-07-07T11:47:23.271Z"
   },
   {
    "duration": 97,
    "start_time": "2024-07-07T11:47:23.364Z"
   },
   {
    "duration": 72,
    "start_time": "2024-07-07T11:47:23.463Z"
   },
   {
    "duration": 68,
    "start_time": "2024-07-07T11:47:23.537Z"
   },
   {
    "duration": 25,
    "start_time": "2024-07-07T11:47:23.607Z"
   },
   {
    "duration": 38,
    "start_time": "2024-07-07T11:47:23.634Z"
   },
   {
    "duration": 36,
    "start_time": "2024-07-07T11:47:23.673Z"
   },
   {
    "duration": 6,
    "start_time": "2024-07-07T11:47:23.711Z"
   },
   {
    "duration": 39,
    "start_time": "2024-07-07T11:47:23.719Z"
   },
   {
    "duration": 10,
    "start_time": "2024-07-07T11:47:23.759Z"
   },
   {
    "duration": 35,
    "start_time": "2024-07-07T11:47:23.771Z"
   },
   {
    "duration": 59,
    "start_time": "2024-07-07T11:53:05.386Z"
   },
   {
    "duration": 5,
    "start_time": "2024-07-07T11:54:42.722Z"
   },
   {
    "duration": 6,
    "start_time": "2024-07-07T11:54:49.437Z"
   },
   {
    "duration": 1227,
    "start_time": "2024-07-07T11:54:53.984Z"
   },
   {
    "duration": 3,
    "start_time": "2024-07-07T11:54:55.213Z"
   },
   {
    "duration": 866,
    "start_time": "2024-07-07T11:54:55.219Z"
   },
   {
    "duration": 13,
    "start_time": "2024-07-07T11:54:56.087Z"
   },
   {
    "duration": 42,
    "start_time": "2024-07-07T11:54:56.101Z"
   },
   {
    "duration": 20,
    "start_time": "2024-07-07T11:54:56.144Z"
   },
   {
    "duration": 9,
    "start_time": "2024-07-07T11:54:56.165Z"
   },
   {
    "duration": 17,
    "start_time": "2024-07-07T11:54:56.175Z"
   },
   {
    "duration": 25,
    "start_time": "2024-07-07T11:54:56.194Z"
   },
   {
    "duration": 127,
    "start_time": "2024-07-07T11:54:56.222Z"
   },
   {
    "duration": 8,
    "start_time": "2024-07-07T11:54:56.350Z"
   },
   {
    "duration": 96,
    "start_time": "2024-07-07T11:54:56.359Z"
   },
   {
    "duration": 92,
    "start_time": "2024-07-07T11:54:56.457Z"
   },
   {
    "duration": 96,
    "start_time": "2024-07-07T11:54:56.551Z"
   },
   {
    "duration": 74,
    "start_time": "2024-07-07T11:54:56.649Z"
   },
   {
    "duration": 53,
    "start_time": "2024-07-07T11:54:56.724Z"
   },
   {
    "duration": 72,
    "start_time": "2024-07-07T11:54:56.778Z"
   },
   {
    "duration": 10,
    "start_time": "2024-07-07T11:54:56.851Z"
   },
   {
    "duration": 16,
    "start_time": "2024-07-07T11:54:56.862Z"
   },
   {
    "duration": 4,
    "start_time": "2024-07-07T11:54:56.879Z"
   },
   {
    "duration": 30,
    "start_time": "2024-07-07T11:54:56.885Z"
   },
   {
    "duration": 43,
    "start_time": "2024-07-07T11:54:56.917Z"
   },
   {
    "duration": 14,
    "start_time": "2024-07-07T11:54:56.962Z"
   },
   {
    "duration": 1106,
    "start_time": "2024-07-07T11:57:15.386Z"
   },
   {
    "duration": 3,
    "start_time": "2024-07-07T11:57:16.493Z"
   },
   {
    "duration": 175,
    "start_time": "2024-07-07T11:57:16.497Z"
   },
   {
    "duration": 16,
    "start_time": "2024-07-07T11:57:16.674Z"
   },
   {
    "duration": 19,
    "start_time": "2024-07-07T11:57:16.691Z"
   },
   {
    "duration": 7,
    "start_time": "2024-07-07T11:57:16.712Z"
   },
   {
    "duration": 90,
    "start_time": "2024-07-07T11:57:16.721Z"
   },
   {
    "duration": 15,
    "start_time": "2024-07-07T11:57:16.813Z"
   },
   {
    "duration": 17,
    "start_time": "2024-07-07T11:57:16.830Z"
   },
   {
    "duration": 101,
    "start_time": "2024-07-07T11:57:16.850Z"
   },
   {
    "duration": 9,
    "start_time": "2024-07-07T11:57:16.952Z"
   },
   {
    "duration": 82,
    "start_time": "2024-07-07T11:57:16.962Z"
   },
   {
    "duration": 74,
    "start_time": "2024-07-07T11:57:17.046Z"
   },
   {
    "duration": 82,
    "start_time": "2024-07-07T11:57:17.122Z"
   },
   {
    "duration": 61,
    "start_time": "2024-07-07T11:57:17.205Z"
   },
   {
    "duration": 68,
    "start_time": "2024-07-07T11:57:17.268Z"
   },
   {
    "duration": 21,
    "start_time": "2024-07-07T11:57:17.337Z"
   },
   {
    "duration": 7,
    "start_time": "2024-07-07T11:57:17.360Z"
   },
   {
    "duration": 16,
    "start_time": "2024-07-07T11:57:17.390Z"
   },
   {
    "duration": 5,
    "start_time": "2024-07-07T11:57:17.407Z"
   },
   {
    "duration": 5,
    "start_time": "2024-07-07T11:57:17.414Z"
   },
   {
    "duration": 5,
    "start_time": "2024-07-07T11:57:17.420Z"
   },
   {
    "duration": 8,
    "start_time": "2024-07-07T11:57:17.427Z"
   },
   {
    "duration": 11,
    "start_time": "2024-07-07T11:57:17.437Z"
   },
   {
    "duration": 41,
    "start_time": "2024-07-07T11:57:17.450Z"
   },
   {
    "duration": 20,
    "start_time": "2024-07-07T11:57:17.493Z"
   },
   {
    "duration": 10,
    "start_time": "2024-07-07T11:57:17.515Z"
   },
   {
    "duration": 51,
    "start_time": "2024-07-07T11:57:17.528Z"
   },
   {
    "duration": 24,
    "start_time": "2024-07-07T11:57:17.580Z"
   },
   {
    "duration": 92,
    "start_time": "2024-07-07T11:57:17.605Z"
   },
   {
    "duration": 6,
    "start_time": "2024-07-07T11:57:17.698Z"
   },
   {
    "duration": 10,
    "start_time": "2024-07-07T11:57:17.706Z"
   },
   {
    "duration": 8,
    "start_time": "2024-07-07T11:57:17.717Z"
   },
   {
    "duration": 11,
    "start_time": "2024-07-07T11:57:17.726Z"
   },
   {
    "duration": 166,
    "start_time": "2024-07-07T11:57:17.738Z"
   },
   {
    "duration": 10,
    "start_time": "2024-07-07T11:57:17.905Z"
   },
   {
    "duration": 9,
    "start_time": "2024-07-07T11:57:17.916Z"
   },
   {
    "duration": 46,
    "start_time": "2024-07-07T11:57:17.926Z"
   },
   {
    "duration": 51,
    "start_time": "2024-07-07T11:57:17.973Z"
   },
   {
    "duration": 7,
    "start_time": "2024-07-07T11:57:18.026Z"
   },
   {
    "duration": 7,
    "start_time": "2024-07-07T11:57:18.035Z"
   },
   {
    "duration": 7,
    "start_time": "2024-07-07T11:57:18.044Z"
   },
   {
    "duration": 10,
    "start_time": "2024-07-07T11:57:18.052Z"
   },
   {
    "duration": 152,
    "start_time": "2024-07-07T11:57:18.063Z"
   },
   {
    "duration": 132,
    "start_time": "2024-07-07T11:57:18.216Z"
   },
   {
    "duration": 143,
    "start_time": "2024-07-07T11:57:18.349Z"
   },
   {
    "duration": 16,
    "start_time": "2024-07-07T11:58:39.831Z"
   },
   {
    "duration": 11,
    "start_time": "2024-07-07T11:59:57.980Z"
   },
   {
    "duration": 40,
    "start_time": "2024-07-07T12:55:51.003Z"
   },
   {
    "duration": 78,
    "start_time": "2024-07-07T14:10:58.686Z"
   },
   {
    "duration": 6,
    "start_time": "2024-07-07T14:18:21.211Z"
   },
   {
    "duration": 1129,
    "start_time": "2024-07-07T14:18:27.854Z"
   },
   {
    "duration": 3,
    "start_time": "2024-07-07T14:18:28.985Z"
   },
   {
    "duration": 169,
    "start_time": "2024-07-07T14:18:28.990Z"
   },
   {
    "duration": 11,
    "start_time": "2024-07-07T14:18:29.161Z"
   },
   {
    "duration": 24,
    "start_time": "2024-07-07T14:18:29.174Z"
   },
   {
    "duration": 27,
    "start_time": "2024-07-07T14:18:29.200Z"
   },
   {
    "duration": 29,
    "start_time": "2024-07-07T14:18:29.228Z"
   },
   {
    "duration": 15,
    "start_time": "2024-07-07T14:18:29.259Z"
   },
   {
    "duration": 8,
    "start_time": "2024-07-07T14:18:29.275Z"
   },
   {
    "duration": 110,
    "start_time": "2024-07-07T14:18:29.286Z"
   },
   {
    "duration": 59,
    "start_time": "2024-07-07T14:18:29.397Z"
   },
   {
    "duration": 74,
    "start_time": "2024-07-07T14:18:29.457Z"
   },
   {
    "duration": 68,
    "start_time": "2024-07-07T14:18:29.532Z"
   },
   {
    "duration": 89,
    "start_time": "2024-07-07T14:18:29.602Z"
   },
   {
    "duration": 63,
    "start_time": "2024-07-07T14:18:29.693Z"
   },
   {
    "duration": 71,
    "start_time": "2024-07-07T14:18:29.757Z"
   },
   {
    "duration": 21,
    "start_time": "2024-07-07T14:18:29.829Z"
   },
   {
    "duration": 18,
    "start_time": "2024-07-07T14:18:29.852Z"
   },
   {
    "duration": 29,
    "start_time": "2024-07-07T14:18:29.871Z"
   },
   {
    "duration": 4,
    "start_time": "2024-07-07T14:18:29.901Z"
   },
   {
    "duration": 71,
    "start_time": "2024-07-07T14:18:29.906Z"
   },
   {
    "duration": 4,
    "start_time": "2024-07-07T14:18:29.978Z"
   },
   {
    "duration": 6,
    "start_time": "2024-07-07T14:18:29.983Z"
   },
   {
    "duration": 1163,
    "start_time": "2024-07-07T14:20:36.664Z"
   },
   {
    "duration": 3,
    "start_time": "2024-07-07T14:20:37.829Z"
   },
   {
    "duration": 198,
    "start_time": "2024-07-07T14:20:37.833Z"
   },
   {
    "duration": 11,
    "start_time": "2024-07-07T14:20:38.033Z"
   },
   {
    "duration": 22,
    "start_time": "2024-07-07T14:20:38.045Z"
   },
   {
    "duration": 7,
    "start_time": "2024-07-07T14:20:38.069Z"
   },
   {
    "duration": 6,
    "start_time": "2024-07-07T14:20:38.089Z"
   },
   {
    "duration": 23,
    "start_time": "2024-07-07T14:20:38.096Z"
   },
   {
    "duration": 12,
    "start_time": "2024-07-07T14:20:38.120Z"
   },
   {
    "duration": 105,
    "start_time": "2024-07-07T14:20:38.135Z"
   },
   {
    "duration": 8,
    "start_time": "2024-07-07T14:20:38.242Z"
   },
   {
    "duration": 86,
    "start_time": "2024-07-07T14:20:38.251Z"
   },
   {
    "duration": 71,
    "start_time": "2024-07-07T14:20:38.338Z"
   },
   {
    "duration": 91,
    "start_time": "2024-07-07T14:20:38.411Z"
   },
   {
    "duration": 86,
    "start_time": "2024-07-07T14:20:38.504Z"
   },
   {
    "duration": 53,
    "start_time": "2024-07-07T14:20:38.592Z"
   },
   {
    "duration": 20,
    "start_time": "2024-07-07T14:20:38.647Z"
   },
   {
    "duration": 24,
    "start_time": "2024-07-07T14:20:38.669Z"
   },
   {
    "duration": 16,
    "start_time": "2024-07-07T14:20:38.694Z"
   },
   {
    "duration": 4,
    "start_time": "2024-07-07T14:20:38.712Z"
   },
   {
    "duration": 5,
    "start_time": "2024-07-07T14:20:38.718Z"
   },
   {
    "duration": 5,
    "start_time": "2024-07-07T14:20:38.724Z"
   },
   {
    "duration": 7,
    "start_time": "2024-07-07T14:20:38.731Z"
   },
   {
    "duration": 1087,
    "start_time": "2024-07-07T14:26:36.542Z"
   },
   {
    "duration": 2,
    "start_time": "2024-07-07T14:26:37.630Z"
   },
   {
    "duration": 802,
    "start_time": "2024-07-07T14:26:37.634Z"
   },
   {
    "duration": 14,
    "start_time": "2024-07-07T14:26:38.438Z"
   },
   {
    "duration": 26,
    "start_time": "2024-07-07T14:26:38.454Z"
   },
   {
    "duration": 12,
    "start_time": "2024-07-07T14:26:38.482Z"
   },
   {
    "duration": 15,
    "start_time": "2024-07-07T14:26:38.496Z"
   },
   {
    "duration": 16,
    "start_time": "2024-07-07T14:26:38.513Z"
   },
   {
    "duration": 15,
    "start_time": "2024-07-07T14:26:38.531Z"
   },
   {
    "duration": 113,
    "start_time": "2024-07-07T14:26:38.549Z"
   },
   {
    "duration": 8,
    "start_time": "2024-07-07T14:26:38.663Z"
   },
   {
    "duration": 81,
    "start_time": "2024-07-07T14:26:38.673Z"
   },
   {
    "duration": 77,
    "start_time": "2024-07-07T14:26:38.755Z"
   },
   {
    "duration": 83,
    "start_time": "2024-07-07T14:26:38.833Z"
   },
   {
    "duration": 59,
    "start_time": "2024-07-07T14:26:38.917Z"
   },
   {
    "duration": 62,
    "start_time": "2024-07-07T14:26:38.977Z"
   },
   {
    "duration": 20,
    "start_time": "2024-07-07T14:26:39.040Z"
   },
   {
    "duration": 67,
    "start_time": "2024-07-07T14:26:39.062Z"
   },
   {
    "duration": 24,
    "start_time": "2024-07-07T14:26:39.131Z"
   },
   {
    "duration": 4,
    "start_time": "2024-07-07T14:26:39.157Z"
   },
   {
    "duration": 8,
    "start_time": "2024-07-07T14:26:39.162Z"
   },
   {
    "duration": 8,
    "start_time": "2024-07-07T14:26:39.171Z"
   },
   {
    "duration": 5,
    "start_time": "2024-07-07T14:26:39.180Z"
   },
   {
    "duration": 1091,
    "start_time": "2024-07-07T14:27:23.548Z"
   },
   {
    "duration": 2,
    "start_time": "2024-07-07T14:27:24.641Z"
   },
   {
    "duration": 170,
    "start_time": "2024-07-07T14:27:24.644Z"
   },
   {
    "duration": 10,
    "start_time": "2024-07-07T14:27:24.816Z"
   },
   {
    "duration": 32,
    "start_time": "2024-07-07T14:27:24.827Z"
   },
   {
    "duration": 8,
    "start_time": "2024-07-07T14:27:24.860Z"
   },
   {
    "duration": 10,
    "start_time": "2024-07-07T14:27:24.869Z"
   },
   {
    "duration": 26,
    "start_time": "2024-07-07T14:27:24.881Z"
   },
   {
    "duration": 8,
    "start_time": "2024-07-07T14:27:24.908Z"
   },
   {
    "duration": 108,
    "start_time": "2024-07-07T14:27:24.918Z"
   },
   {
    "duration": 8,
    "start_time": "2024-07-07T14:27:25.027Z"
   },
   {
    "duration": 94,
    "start_time": "2024-07-07T14:27:25.037Z"
   },
   {
    "duration": 73,
    "start_time": "2024-07-07T14:27:25.132Z"
   },
   {
    "duration": 92,
    "start_time": "2024-07-07T14:27:25.206Z"
   },
   {
    "duration": 77,
    "start_time": "2024-07-07T14:27:25.299Z"
   },
   {
    "duration": 63,
    "start_time": "2024-07-07T14:27:25.377Z"
   },
   {
    "duration": 21,
    "start_time": "2024-07-07T14:27:25.441Z"
   },
   {
    "duration": 52,
    "start_time": "2024-07-07T14:27:25.464Z"
   },
   {
    "duration": 24,
    "start_time": "2024-07-07T14:27:25.518Z"
   },
   {
    "duration": 5,
    "start_time": "2024-07-07T14:27:25.543Z"
   },
   {
    "duration": 6,
    "start_time": "2024-07-07T14:27:25.549Z"
   },
   {
    "duration": 3,
    "start_time": "2024-07-07T14:27:25.556Z"
   },
   {
    "duration": 5,
    "start_time": "2024-07-07T14:27:25.561Z"
   },
   {
    "duration": 2,
    "start_time": "2024-07-07T14:27:25.567Z"
   },
   {
    "duration": 26,
    "start_time": "2024-07-07T14:27:25.571Z"
   },
   {
    "duration": 5,
    "start_time": "2024-07-07T14:27:25.598Z"
   },
   {
    "duration": 79,
    "start_time": "2024-07-07T14:27:25.604Z"
   },
   {
    "duration": 6,
    "start_time": "2024-07-07T14:27:25.686Z"
   },
   {
    "duration": 32,
    "start_time": "2024-07-07T14:27:25.694Z"
   },
   {
    "duration": 12,
    "start_time": "2024-07-07T14:27:25.728Z"
   },
   {
    "duration": 48,
    "start_time": "2024-07-07T14:27:25.741Z"
   },
   {
    "duration": 23,
    "start_time": "2024-07-07T14:27:25.791Z"
   },
   {
    "duration": 53,
    "start_time": "2024-07-07T14:27:25.816Z"
   },
   {
    "duration": 24,
    "start_time": "2024-07-07T14:27:25.871Z"
   },
   {
    "duration": 8,
    "start_time": "2024-07-07T14:27:25.897Z"
   },
   {
    "duration": 68,
    "start_time": "2024-07-07T14:27:25.906Z"
   },
   {
    "duration": 44,
    "start_time": "2024-07-07T14:27:25.975Z"
   },
   {
    "duration": 140,
    "start_time": "2024-07-07T14:27:26.021Z"
   },
   {
    "duration": 7,
    "start_time": "2024-07-07T14:27:26.163Z"
   },
   {
    "duration": 86,
    "start_time": "2024-07-07T14:27:26.172Z"
   },
   {
    "duration": 41,
    "start_time": "2024-07-07T14:27:26.259Z"
   },
   {
    "duration": 28,
    "start_time": "2024-07-07T14:27:26.301Z"
   },
   {
    "duration": 32,
    "start_time": "2024-07-07T14:27:26.330Z"
   },
   {
    "duration": 6,
    "start_time": "2024-07-07T14:27:26.364Z"
   },
   {
    "duration": 7,
    "start_time": "2024-07-07T14:27:26.371Z"
   },
   {
    "duration": 22,
    "start_time": "2024-07-07T14:27:26.380Z"
   },
   {
    "duration": 156,
    "start_time": "2024-07-07T14:27:26.404Z"
   },
   {
    "duration": 131,
    "start_time": "2024-07-07T14:27:26.561Z"
   },
   {
    "duration": 148,
    "start_time": "2024-07-07T14:27:26.693Z"
   },
   {
    "duration": 135,
    "start_time": "2024-07-07T14:30:18.947Z"
   },
   {
    "duration": 86,
    "start_time": "2024-07-07T14:32:29.225Z"
   },
   {
    "duration": 190,
    "start_time": "2024-07-07T14:33:40.799Z"
   },
   {
    "duration": 90,
    "start_time": "2024-07-07T14:34:08.392Z"
   },
   {
    "duration": 80,
    "start_time": "2024-07-07T14:34:46.172Z"
   },
   {
    "duration": 92,
    "start_time": "2024-07-07T14:35:22.225Z"
   },
   {
    "duration": 80,
    "start_time": "2024-07-07T14:35:35.718Z"
   },
   {
    "duration": 86,
    "start_time": "2024-07-07T14:36:19.350Z"
   },
   {
    "duration": 91,
    "start_time": "2024-07-07T14:36:30.404Z"
   },
   {
    "duration": 81,
    "start_time": "2024-07-07T14:36:58.141Z"
   },
   {
    "duration": 81,
    "start_time": "2024-07-07T14:37:09.113Z"
   },
   {
    "duration": 80,
    "start_time": "2024-07-07T14:37:25.820Z"
   },
   {
    "duration": 821,
    "start_time": "2024-07-07T14:38:43.789Z"
   },
   {
    "duration": 78,
    "start_time": "2024-07-07T14:39:03.078Z"
   },
   {
    "duration": 14,
    "start_time": "2024-07-07T14:41:54.480Z"
   },
   {
    "duration": 4,
    "start_time": "2024-07-07T14:42:11.487Z"
   },
   {
    "duration": 4,
    "start_time": "2024-07-07T14:42:38.581Z"
   },
   {
    "duration": 4,
    "start_time": "2024-07-07T14:42:51.347Z"
   },
   {
    "duration": 4,
    "start_time": "2024-07-07T14:43:14.516Z"
   },
   {
    "duration": 4,
    "start_time": "2024-07-07T14:43:28.229Z"
   },
   {
    "duration": 5,
    "start_time": "2024-07-07T14:43:41.309Z"
   },
   {
    "duration": 63,
    "start_time": "2024-07-07T14:44:27.825Z"
   },
   {
    "duration": 13,
    "start_time": "2024-07-07T14:47:39.245Z"
   },
   {
    "duration": 153,
    "start_time": "2024-07-07T14:47:41.118Z"
   },
   {
    "duration": 5,
    "start_time": "2024-07-07T14:54:59.172Z"
   },
   {
    "duration": 4,
    "start_time": "2024-07-07T14:55:05.995Z"
   },
   {
    "duration": 991,
    "start_time": "2024-07-07T17:04:11.339Z"
   },
   {
    "duration": 2,
    "start_time": "2024-07-07T17:04:12.332Z"
   },
   {
    "duration": 251,
    "start_time": "2024-07-07T17:04:12.335Z"
   },
   {
    "duration": 10,
    "start_time": "2024-07-07T17:04:12.588Z"
   },
   {
    "duration": 16,
    "start_time": "2024-07-07T17:04:12.599Z"
   },
   {
    "duration": 5,
    "start_time": "2024-07-07T17:04:12.616Z"
   },
   {
    "duration": 9,
    "start_time": "2024-07-07T17:04:12.623Z"
   },
   {
    "duration": 21,
    "start_time": "2024-07-07T17:04:12.634Z"
   },
   {
    "duration": 7,
    "start_time": "2024-07-07T17:04:12.657Z"
   },
   {
    "duration": 98,
    "start_time": "2024-07-07T17:04:12.666Z"
   },
   {
    "duration": 7,
    "start_time": "2024-07-07T17:04:12.765Z"
   },
   {
    "duration": 69,
    "start_time": "2024-07-07T17:04:12.773Z"
   },
   {
    "duration": 62,
    "start_time": "2024-07-07T17:04:12.843Z"
   },
   {
    "duration": 73,
    "start_time": "2024-07-07T17:04:12.906Z"
   },
   {
    "duration": 71,
    "start_time": "2024-07-07T17:04:12.980Z"
   },
   {
    "duration": 62,
    "start_time": "2024-07-07T17:04:13.053Z"
   },
   {
    "duration": 17,
    "start_time": "2024-07-07T17:04:13.116Z"
   },
   {
    "duration": 7,
    "start_time": "2024-07-07T17:04:13.134Z"
   },
   {
    "duration": 15,
    "start_time": "2024-07-07T17:04:13.142Z"
   },
   {
    "duration": 4,
    "start_time": "2024-07-07T17:04:13.158Z"
   },
   {
    "duration": 5,
    "start_time": "2024-07-07T17:04:13.163Z"
   },
   {
    "duration": 33,
    "start_time": "2024-07-07T17:04:13.169Z"
   },
   {
    "duration": 4,
    "start_time": "2024-07-07T17:04:13.203Z"
   },
   {
    "duration": 2,
    "start_time": "2024-07-07T17:04:13.209Z"
   },
   {
    "duration": 13,
    "start_time": "2024-07-07T17:04:13.212Z"
   },
   {
    "duration": 3,
    "start_time": "2024-07-07T17:04:13.226Z"
   },
   {
    "duration": 17,
    "start_time": "2024-07-07T17:04:13.230Z"
   },
   {
    "duration": 5,
    "start_time": "2024-07-07T17:04:13.249Z"
   },
   {
    "duration": 53,
    "start_time": "2024-07-07T17:04:13.255Z"
   },
   {
    "duration": 10,
    "start_time": "2024-07-07T17:04:13.309Z"
   },
   {
    "duration": 41,
    "start_time": "2024-07-07T17:04:13.321Z"
   },
   {
    "duration": 21,
    "start_time": "2024-07-07T17:04:13.364Z"
   },
   {
    "duration": 120,
    "start_time": "2024-07-07T17:04:13.387Z"
   },
   {
    "duration": 5,
    "start_time": "2024-07-07T17:04:13.509Z"
   },
   {
    "duration": 7,
    "start_time": "2024-07-07T17:04:13.515Z"
   },
   {
    "duration": 2,
    "start_time": "2024-07-07T17:04:13.523Z"
   },
   {
    "duration": 9,
    "start_time": "2024-07-07T17:04:13.526Z"
   },
   {
    "duration": 141,
    "start_time": "2024-07-07T17:04:13.537Z"
   },
   {
    "duration": 7,
    "start_time": "2024-07-07T17:04:13.679Z"
   },
   {
    "duration": 4,
    "start_time": "2024-07-07T17:04:13.687Z"
   },
   {
    "duration": 35,
    "start_time": "2024-07-07T17:04:13.692Z"
   },
   {
    "duration": 26,
    "start_time": "2024-07-07T17:04:13.728Z"
   },
   {
    "duration": 5,
    "start_time": "2024-07-07T17:04:13.755Z"
   },
   {
    "duration": 8,
    "start_time": "2024-07-07T17:04:13.762Z"
   },
   {
    "duration": 6,
    "start_time": "2024-07-07T17:04:13.771Z"
   },
   {
    "duration": 25,
    "start_time": "2024-07-07T17:04:13.778Z"
   },
   {
    "duration": 131,
    "start_time": "2024-07-07T17:04:13.804Z"
   },
   {
    "duration": 123,
    "start_time": "2024-07-07T17:04:13.936Z"
   },
   {
    "duration": 123,
    "start_time": "2024-07-07T17:04:14.061Z"
   },
   {
    "duration": 6,
    "start_time": "2024-07-07T17:04:14.185Z"
   },
   {
    "duration": 134,
    "start_time": "2024-07-07T17:04:14.202Z"
   },
   {
    "duration": 5386,
    "start_time": "2024-07-07T18:53:01.629Z"
   },
   {
    "duration": 24,
    "start_time": "2024-07-07T19:03:35.740Z"
   },
   {
    "duration": 111,
    "start_time": "2024-07-07T19:04:13.851Z"
   },
   {
    "duration": 20,
    "start_time": "2024-07-07T19:04:49.795Z"
   },
   {
    "duration": 12,
    "start_time": "2024-07-07T19:07:16.847Z"
   },
   {
    "duration": 12,
    "start_time": "2024-07-07T19:07:32.604Z"
   },
   {
    "duration": 48,
    "start_time": "2024-07-07T19:22:01.837Z"
   },
   {
    "duration": 1069,
    "start_time": "2024-07-07T19:22:20.402Z"
   },
   {
    "duration": 2,
    "start_time": "2024-07-07T19:22:21.473Z"
   },
   {
    "duration": 817,
    "start_time": "2024-07-07T19:22:21.476Z"
   },
   {
    "duration": 10,
    "start_time": "2024-07-07T19:22:22.295Z"
   },
   {
    "duration": 21,
    "start_time": "2024-07-07T19:22:22.307Z"
   },
   {
    "duration": 8,
    "start_time": "2024-07-07T19:22:22.329Z"
   },
   {
    "duration": 8,
    "start_time": "2024-07-07T19:22:22.338Z"
   },
   {
    "duration": 76,
    "start_time": "2024-07-07T19:22:22.347Z"
   },
   {
    "duration": 7,
    "start_time": "2024-07-07T19:22:22.424Z"
   },
   {
    "duration": 114,
    "start_time": "2024-07-07T19:22:22.433Z"
   },
   {
    "duration": 8,
    "start_time": "2024-07-07T19:22:22.548Z"
   },
   {
    "duration": 76,
    "start_time": "2024-07-07T19:22:22.557Z"
   },
   {
    "duration": 67,
    "start_time": "2024-07-07T19:22:22.634Z"
   },
   {
    "duration": 77,
    "start_time": "2024-07-07T19:22:22.702Z"
   },
   {
    "duration": 69,
    "start_time": "2024-07-07T19:22:22.780Z"
   },
   {
    "duration": 63,
    "start_time": "2024-07-07T19:22:22.850Z"
   },
   {
    "duration": 19,
    "start_time": "2024-07-07T19:22:22.915Z"
   },
   {
    "duration": 15,
    "start_time": "2024-07-07T19:22:22.935Z"
   },
   {
    "duration": 54,
    "start_time": "2024-07-07T19:22:22.952Z"
   },
   {
    "duration": 4,
    "start_time": "2024-07-07T19:22:23.008Z"
   },
   {
    "duration": 11,
    "start_time": "2024-07-07T19:22:23.013Z"
   },
   {
    "duration": 6,
    "start_time": "2024-07-07T19:22:23.025Z"
   },
   {
    "duration": 7,
    "start_time": "2024-07-07T19:22:23.032Z"
   },
   {
    "duration": 1162,
    "start_time": "2024-07-07T19:23:01.890Z"
   },
   {
    "duration": 3,
    "start_time": "2024-07-07T19:23:03.053Z"
   },
   {
    "duration": 152,
    "start_time": "2024-07-07T19:23:03.057Z"
   },
   {
    "duration": 10,
    "start_time": "2024-07-07T19:23:03.211Z"
   },
   {
    "duration": 31,
    "start_time": "2024-07-07T19:23:03.222Z"
   },
   {
    "duration": 23,
    "start_time": "2024-07-07T19:23:03.254Z"
   },
   {
    "duration": 6,
    "start_time": "2024-07-07T19:23:03.278Z"
   },
   {
    "duration": 13,
    "start_time": "2024-07-07T19:23:03.285Z"
   },
   {
    "duration": 6,
    "start_time": "2024-07-07T19:23:03.300Z"
   },
   {
    "duration": 101,
    "start_time": "2024-07-07T19:23:03.308Z"
   },
   {
    "duration": 8,
    "start_time": "2024-07-07T19:23:03.410Z"
   },
   {
    "duration": 79,
    "start_time": "2024-07-07T19:23:03.419Z"
   },
   {
    "duration": 61,
    "start_time": "2024-07-07T19:23:03.500Z"
   },
   {
    "duration": 92,
    "start_time": "2024-07-07T19:23:03.562Z"
   },
   {
    "duration": 74,
    "start_time": "2024-07-07T19:23:03.656Z"
   },
   {
    "duration": 59,
    "start_time": "2024-07-07T19:23:03.731Z"
   },
   {
    "duration": 19,
    "start_time": "2024-07-07T19:23:03.792Z"
   },
   {
    "duration": 7,
    "start_time": "2024-07-07T19:23:03.813Z"
   },
   {
    "duration": 16,
    "start_time": "2024-07-07T19:23:03.821Z"
   },
   {
    "duration": 5,
    "start_time": "2024-07-07T19:23:03.838Z"
   },
   {
    "duration": 6,
    "start_time": "2024-07-07T19:23:03.845Z"
   },
   {
    "duration": 39,
    "start_time": "2024-07-07T19:23:03.853Z"
   },
   {
    "duration": 24,
    "start_time": "2024-07-07T19:23:03.894Z"
   },
   {
    "duration": 5503,
    "start_time": "2024-07-07T19:23:03.920Z"
   },
   {
    "duration": 0,
    "start_time": "2024-07-07T19:23:09.426Z"
   },
   {
    "duration": 0,
    "start_time": "2024-07-07T19:23:09.427Z"
   },
   {
    "duration": 0,
    "start_time": "2024-07-07T19:23:09.429Z"
   },
   {
    "duration": 0,
    "start_time": "2024-07-07T19:23:09.430Z"
   },
   {
    "duration": 0,
    "start_time": "2024-07-07T19:23:09.431Z"
   },
   {
    "duration": 0,
    "start_time": "2024-07-07T19:23:09.433Z"
   },
   {
    "duration": 0,
    "start_time": "2024-07-07T19:23:09.434Z"
   },
   {
    "duration": 0,
    "start_time": "2024-07-07T19:23:09.436Z"
   },
   {
    "duration": 0,
    "start_time": "2024-07-07T19:23:09.437Z"
   },
   {
    "duration": 0,
    "start_time": "2024-07-07T19:23:09.438Z"
   },
   {
    "duration": 0,
    "start_time": "2024-07-07T19:23:09.439Z"
   },
   {
    "duration": 0,
    "start_time": "2024-07-07T19:23:09.441Z"
   },
   {
    "duration": 0,
    "start_time": "2024-07-07T19:23:09.442Z"
   },
   {
    "duration": 0,
    "start_time": "2024-07-07T19:23:09.443Z"
   },
   {
    "duration": 0,
    "start_time": "2024-07-07T19:23:09.445Z"
   },
   {
    "duration": 0,
    "start_time": "2024-07-07T19:23:09.446Z"
   },
   {
    "duration": 0,
    "start_time": "2024-07-07T19:23:09.447Z"
   },
   {
    "duration": 0,
    "start_time": "2024-07-07T19:23:09.449Z"
   },
   {
    "duration": 0,
    "start_time": "2024-07-07T19:23:09.450Z"
   },
   {
    "duration": 0,
    "start_time": "2024-07-07T19:23:09.490Z"
   },
   {
    "duration": 0,
    "start_time": "2024-07-07T19:23:09.491Z"
   },
   {
    "duration": 0,
    "start_time": "2024-07-07T19:23:09.492Z"
   },
   {
    "duration": 0,
    "start_time": "2024-07-07T19:23:09.494Z"
   },
   {
    "duration": 0,
    "start_time": "2024-07-07T19:23:09.495Z"
   },
   {
    "duration": 0,
    "start_time": "2024-07-07T19:23:09.496Z"
   },
   {
    "duration": 0,
    "start_time": "2024-07-07T19:23:09.498Z"
   },
   {
    "duration": 0,
    "start_time": "2024-07-07T19:23:09.499Z"
   },
   {
    "duration": 5225,
    "start_time": "2024-07-07T19:23:37.128Z"
   },
   {
    "duration": 5576,
    "start_time": "2024-07-07T19:24:31.324Z"
   },
   {
    "duration": 5251,
    "start_time": "2024-07-07T19:26:38.683Z"
   },
   {
    "duration": 239,
    "start_time": "2024-07-07T20:43:07.311Z"
   },
   {
    "duration": 8,
    "start_time": "2024-07-07T21:21:20.867Z"
   },
   {
    "duration": 7,
    "start_time": "2024-07-07T21:29:41.102Z"
   },
   {
    "duration": 219,
    "start_time": "2024-07-07T21:41:51.623Z"
   },
   {
    "duration": 199,
    "start_time": "2024-07-07T21:42:59.947Z"
   },
   {
    "duration": 61,
    "start_time": "2024-07-07T21:43:23.528Z"
   },
   {
    "duration": 145,
    "start_time": "2024-07-07T21:43:36.327Z"
   },
   {
    "duration": 142,
    "start_time": "2024-07-07T21:44:20.007Z"
   },
   {
    "duration": 208,
    "start_time": "2024-07-07T21:44:52.235Z"
   },
   {
    "duration": 12,
    "start_time": "2024-07-07T21:51:42.373Z"
   },
   {
    "duration": 15,
    "start_time": "2024-07-07T21:51:57.446Z"
   },
   {
    "duration": 267,
    "start_time": "2024-07-07T21:59:25.633Z"
   },
   {
    "duration": 70,
    "start_time": "2024-07-07T22:04:14.722Z"
   },
   {
    "duration": 23,
    "start_time": "2024-07-07T22:04:47.801Z"
   },
   {
    "duration": 31,
    "start_time": "2024-07-07T22:09:02.363Z"
   },
   {
    "duration": 10,
    "start_time": "2024-07-07T22:09:47.349Z"
   },
   {
    "duration": 8,
    "start_time": "2024-07-07T22:14:18.762Z"
   },
   {
    "duration": 19,
    "start_time": "2024-07-07T22:14:35.375Z"
   },
   {
    "duration": 34,
    "start_time": "2024-07-07T22:14:41.619Z"
   },
   {
    "duration": 23,
    "start_time": "2024-07-07T22:15:23.039Z"
   },
   {
    "duration": 901,
    "start_time": "2024-07-07T22:16:17.468Z"
   },
   {
    "duration": 700,
    "start_time": "2024-07-07T22:17:28.461Z"
   },
   {
    "duration": 18,
    "start_time": "2024-07-07T22:18:25.137Z"
   },
   {
    "duration": 23,
    "start_time": "2024-07-07T22:18:36.038Z"
   },
   {
    "duration": 844,
    "start_time": "2024-07-07T22:18:51.862Z"
   },
   {
    "duration": 830,
    "start_time": "2024-07-07T22:19:20.286Z"
   },
   {
    "duration": 23,
    "start_time": "2024-07-07T22:20:58.759Z"
   },
   {
    "duration": 25,
    "start_time": "2024-07-07T22:21:10.088Z"
   },
   {
    "duration": 24,
    "start_time": "2024-07-07T22:21:17.246Z"
   },
   {
    "duration": 40,
    "start_time": "2024-07-07T22:22:36.380Z"
   },
   {
    "duration": 51,
    "start_time": "2024-07-07T22:22:45.879Z"
   },
   {
    "duration": 40,
    "start_time": "2024-07-07T22:22:53.044Z"
   },
   {
    "duration": 23,
    "start_time": "2024-07-07T22:23:00.777Z"
   },
   {
    "duration": 23,
    "start_time": "2024-07-07T22:24:21.615Z"
   },
   {
    "duration": 276,
    "start_time": "2024-07-07T22:25:42.980Z"
   },
   {
    "duration": 23,
    "start_time": "2024-07-07T22:27:47.610Z"
   },
   {
    "duration": 9,
    "start_time": "2024-07-07T22:29:43.070Z"
   },
   {
    "duration": 9,
    "start_time": "2024-07-07T22:31:54.177Z"
   },
   {
    "duration": 248,
    "start_time": "2024-07-07T22:36:59.367Z"
   },
   {
    "duration": 275,
    "start_time": "2024-07-07T22:37:44.193Z"
   },
   {
    "duration": 376,
    "start_time": "2024-07-07T22:38:00.802Z"
   },
   {
    "duration": 280,
    "start_time": "2024-07-07T22:38:23.630Z"
   },
   {
    "duration": 22,
    "start_time": "2024-07-07T22:40:46.677Z"
   },
   {
    "duration": 281,
    "start_time": "2024-07-07T22:42:31.534Z"
   },
   {
    "duration": 1091,
    "start_time": "2024-07-07T22:43:22.191Z"
   },
   {
    "duration": 2,
    "start_time": "2024-07-07T22:43:23.284Z"
   },
   {
    "duration": 159,
    "start_time": "2024-07-07T22:43:23.287Z"
   },
   {
    "duration": 11,
    "start_time": "2024-07-07T22:43:23.448Z"
   },
   {
    "duration": 30,
    "start_time": "2024-07-07T22:43:23.461Z"
   },
   {
    "duration": 6,
    "start_time": "2024-07-07T22:43:23.493Z"
   },
   {
    "duration": 6,
    "start_time": "2024-07-07T22:43:23.501Z"
   },
   {
    "duration": 19,
    "start_time": "2024-07-07T22:43:23.509Z"
   },
   {
    "duration": 7,
    "start_time": "2024-07-07T22:43:23.529Z"
   },
   {
    "duration": 105,
    "start_time": "2024-07-07T22:43:23.538Z"
   },
   {
    "duration": 19,
    "start_time": "2024-07-07T22:43:23.644Z"
   },
   {
    "duration": 76,
    "start_time": "2024-07-07T22:43:23.664Z"
   },
   {
    "duration": 61,
    "start_time": "2024-07-07T22:43:23.741Z"
   },
   {
    "duration": 85,
    "start_time": "2024-07-07T22:43:23.804Z"
   },
   {
    "duration": 60,
    "start_time": "2024-07-07T22:43:23.891Z"
   },
   {
    "duration": 65,
    "start_time": "2024-07-07T22:43:23.952Z"
   },
   {
    "duration": 20,
    "start_time": "2024-07-07T22:43:24.018Z"
   },
   {
    "duration": 11,
    "start_time": "2024-07-07T22:43:24.039Z"
   },
   {
    "duration": 15,
    "start_time": "2024-07-07T22:43:24.051Z"
   },
   {
    "duration": 4,
    "start_time": "2024-07-07T22:43:24.067Z"
   },
   {
    "duration": 4,
    "start_time": "2024-07-07T22:43:24.089Z"
   },
   {
    "duration": 4,
    "start_time": "2024-07-07T22:43:24.094Z"
   },
   {
    "duration": 5,
    "start_time": "2024-07-07T22:43:24.099Z"
   },
   {
    "duration": 331,
    "start_time": "2024-07-07T22:43:24.105Z"
   },
   {
    "duration": 14,
    "start_time": "2024-07-07T22:43:24.438Z"
   },
   {
    "duration": 5,
    "start_time": "2024-07-07T22:43:24.453Z"
   },
   {
    "duration": 37,
    "start_time": "2024-07-07T22:43:24.459Z"
   },
   {
    "duration": 7,
    "start_time": "2024-07-07T22:43:24.499Z"
   },
   {
    "duration": 37,
    "start_time": "2024-07-07T22:43:24.507Z"
   },
   {
    "duration": 11,
    "start_time": "2024-07-07T22:43:24.546Z"
   },
   {
    "duration": 51,
    "start_time": "2024-07-07T22:43:24.558Z"
   },
   {
    "duration": 23,
    "start_time": "2024-07-07T22:43:24.610Z"
   },
   {
    "duration": 63,
    "start_time": "2024-07-07T22:43:24.634Z"
   },
   {
    "duration": 6,
    "start_time": "2024-07-07T22:43:24.698Z"
   },
   {
    "duration": 9,
    "start_time": "2024-07-07T22:43:24.705Z"
   },
   {
    "duration": 7,
    "start_time": "2024-07-07T22:43:24.716Z"
   },
   {
    "duration": 14,
    "start_time": "2024-07-07T22:43:24.724Z"
   },
   {
    "duration": 152,
    "start_time": "2024-07-07T22:43:24.739Z"
   },
   {
    "duration": 7,
    "start_time": "2024-07-07T22:43:24.893Z"
   },
   {
    "duration": 61,
    "start_time": "2024-07-07T22:43:24.901Z"
   },
   {
    "duration": 86,
    "start_time": "2024-07-07T22:43:24.963Z"
   },
   {
    "duration": 26,
    "start_time": "2024-07-07T22:43:25.051Z"
   },
   {
    "duration": 7,
    "start_time": "2024-07-07T22:43:25.079Z"
   },
   {
    "duration": 8,
    "start_time": "2024-07-07T22:43:25.087Z"
   },
   {
    "duration": 6,
    "start_time": "2024-07-07T22:43:25.096Z"
   },
   {
    "duration": 16,
    "start_time": "2024-07-07T22:43:25.103Z"
   },
   {
    "duration": 122,
    "start_time": "2024-07-07T22:43:25.120Z"
   },
   {
    "duration": 120,
    "start_time": "2024-07-07T22:43:25.244Z"
   },
   {
    "duration": 131,
    "start_time": "2024-07-07T22:43:25.366Z"
   },
   {
    "duration": 5,
    "start_time": "2024-07-07T22:43:25.499Z"
   },
   {
    "duration": 149,
    "start_time": "2024-07-07T22:43:25.505Z"
   },
   {
    "duration": 1309,
    "start_time": "2024-07-08T10:31:03.115Z"
   },
   {
    "duration": 6,
    "start_time": "2024-07-08T10:31:04.425Z"
   },
   {
    "duration": 854,
    "start_time": "2024-07-08T10:31:04.435Z"
   },
   {
    "duration": 13,
    "start_time": "2024-07-08T10:31:05.291Z"
   },
   {
    "duration": 27,
    "start_time": "2024-07-08T10:31:05.305Z"
   },
   {
    "duration": 7,
    "start_time": "2024-07-08T10:31:05.333Z"
   },
   {
    "duration": 32,
    "start_time": "2024-07-08T10:31:05.342Z"
   },
   {
    "duration": 35,
    "start_time": "2024-07-08T10:31:05.376Z"
   },
   {
    "duration": 10,
    "start_time": "2024-07-08T10:31:05.413Z"
   },
   {
    "duration": 139,
    "start_time": "2024-07-08T10:31:05.427Z"
   },
   {
    "duration": 40,
    "start_time": "2024-07-08T10:31:05.568Z"
   },
   {
    "duration": 104,
    "start_time": "2024-07-08T10:31:05.610Z"
   },
   {
    "duration": 76,
    "start_time": "2024-07-08T10:31:05.716Z"
   },
   {
    "duration": 89,
    "start_time": "2024-07-08T10:31:05.795Z"
   },
   {
    "duration": 77,
    "start_time": "2024-07-08T10:31:05.892Z"
   },
   {
    "duration": 76,
    "start_time": "2024-07-08T10:31:05.971Z"
   },
   {
    "duration": 43,
    "start_time": "2024-07-08T10:31:06.049Z"
   },
   {
    "duration": 8,
    "start_time": "2024-07-08T10:31:06.094Z"
   },
   {
    "duration": 30,
    "start_time": "2024-07-08T10:31:06.104Z"
   },
   {
    "duration": 7,
    "start_time": "2024-07-08T10:31:06.136Z"
   },
   {
    "duration": 15,
    "start_time": "2024-07-08T10:31:06.145Z"
   },
   {
    "duration": 30,
    "start_time": "2024-07-08T10:31:06.162Z"
   },
   {
    "duration": 18,
    "start_time": "2024-07-08T10:31:06.194Z"
   },
   {
    "duration": 387,
    "start_time": "2024-07-08T10:31:06.214Z"
   },
   {
    "duration": 16,
    "start_time": "2024-07-08T10:31:06.602Z"
   },
   {
    "duration": 4,
    "start_time": "2024-07-08T10:31:06.620Z"
   },
   {
    "duration": 21,
    "start_time": "2024-07-08T10:31:06.626Z"
   },
   {
    "duration": 7,
    "start_time": "2024-07-08T10:31:06.651Z"
   },
   {
    "duration": 66,
    "start_time": "2024-07-08T10:31:06.660Z"
   },
   {
    "duration": 19,
    "start_time": "2024-07-08T10:31:06.728Z"
   },
   {
    "duration": 87,
    "start_time": "2024-07-08T10:31:06.749Z"
   },
   {
    "duration": 33,
    "start_time": "2024-07-08T10:31:06.839Z"
   },
   {
    "duration": 82,
    "start_time": "2024-07-08T10:31:06.874Z"
   },
   {
    "duration": 8,
    "start_time": "2024-07-08T10:31:06.958Z"
   },
   {
    "duration": 22,
    "start_time": "2024-07-08T10:31:06.968Z"
   },
   {
    "duration": 8,
    "start_time": "2024-07-08T10:31:06.992Z"
   },
   {
    "duration": 19,
    "start_time": "2024-07-08T10:31:07.002Z"
   },
   {
    "duration": 204,
    "start_time": "2024-07-08T10:31:07.023Z"
   },
   {
    "duration": 9,
    "start_time": "2024-07-08T10:31:07.229Z"
   },
   {
    "duration": 17,
    "start_time": "2024-07-08T10:31:07.240Z"
   },
   {
    "duration": 48,
    "start_time": "2024-07-08T10:31:07.259Z"
   },
   {
    "duration": 32,
    "start_time": "2024-07-08T10:31:07.309Z"
   },
   {
    "duration": 7,
    "start_time": "2024-07-08T10:31:07.342Z"
   },
   {
    "duration": 9,
    "start_time": "2024-07-08T10:31:07.351Z"
   },
   {
    "duration": 36,
    "start_time": "2024-07-08T10:31:07.362Z"
   },
   {
    "duration": 10,
    "start_time": "2024-07-08T10:31:07.401Z"
   },
   {
    "duration": 169,
    "start_time": "2024-07-08T10:31:07.413Z"
   },
   {
    "duration": 157,
    "start_time": "2024-07-08T10:31:07.583Z"
   },
   {
    "duration": 163,
    "start_time": "2024-07-08T10:31:07.742Z"
   },
   {
    "duration": 7,
    "start_time": "2024-07-08T10:31:07.908Z"
   },
   {
    "duration": 214,
    "start_time": "2024-07-08T10:31:07.917Z"
   },
   {
    "duration": 49,
    "start_time": "2024-07-11T08:33:40.722Z"
   },
   {
    "duration": 1398,
    "start_time": "2024-07-11T08:33:50.582Z"
   },
   {
    "duration": 3,
    "start_time": "2024-07-11T08:33:51.982Z"
   },
   {
    "duration": 330,
    "start_time": "2024-07-11T08:33:51.987Z"
   },
   {
    "duration": 12,
    "start_time": "2024-07-11T08:33:52.319Z"
   },
   {
    "duration": 32,
    "start_time": "2024-07-11T08:33:52.334Z"
   },
   {
    "duration": 7,
    "start_time": "2024-07-11T08:33:52.368Z"
   },
   {
    "duration": 14,
    "start_time": "2024-07-11T08:33:52.377Z"
   },
   {
    "duration": 35,
    "start_time": "2024-07-11T08:33:52.393Z"
   },
   {
    "duration": 12,
    "start_time": "2024-07-11T08:33:52.429Z"
   },
   {
    "duration": 118,
    "start_time": "2024-07-11T08:33:52.442Z"
   },
   {
    "duration": 9,
    "start_time": "2024-07-11T08:33:52.562Z"
   },
   {
    "duration": 93,
    "start_time": "2024-07-11T08:33:52.572Z"
   },
   {
    "duration": 67,
    "start_time": "2024-07-11T08:33:52.667Z"
   },
   {
    "duration": 84,
    "start_time": "2024-07-11T08:33:52.745Z"
   },
   {
    "duration": 83,
    "start_time": "2024-07-11T08:33:52.832Z"
   },
   {
    "duration": 68,
    "start_time": "2024-07-11T08:33:52.916Z"
   },
   {
    "duration": 27,
    "start_time": "2024-07-11T08:33:52.986Z"
   },
   {
    "duration": 20,
    "start_time": "2024-07-11T08:33:53.014Z"
   },
   {
    "duration": 47,
    "start_time": "2024-07-11T08:33:53.036Z"
   },
   {
    "duration": 13,
    "start_time": "2024-07-11T08:33:53.085Z"
   },
   {
    "duration": 21,
    "start_time": "2024-07-11T08:33:53.099Z"
   },
   {
    "duration": 29,
    "start_time": "2024-07-11T08:33:53.121Z"
   },
   {
    "duration": 12,
    "start_time": "2024-07-11T08:33:53.152Z"
   },
   {
    "duration": 391,
    "start_time": "2024-07-11T08:33:53.166Z"
   },
   {
    "duration": 15,
    "start_time": "2024-07-11T08:33:53.558Z"
   },
   {
    "duration": 39,
    "start_time": "2024-07-11T08:33:53.575Z"
   },
   {
    "duration": 57,
    "start_time": "2024-07-11T08:33:53.615Z"
   },
   {
    "duration": 6,
    "start_time": "2024-07-11T08:33:53.674Z"
   },
   {
    "duration": 60,
    "start_time": "2024-07-11T08:33:53.682Z"
   },
   {
    "duration": 33,
    "start_time": "2024-07-11T08:33:53.743Z"
   },
   {
    "duration": 63,
    "start_time": "2024-07-11T08:33:53.777Z"
   },
   {
    "duration": 30,
    "start_time": "2024-07-11T08:33:53.842Z"
   },
   {
    "duration": 82,
    "start_time": "2024-07-11T08:33:53.873Z"
   },
   {
    "duration": 7,
    "start_time": "2024-07-11T08:33:53.957Z"
   },
   {
    "duration": 48,
    "start_time": "2024-07-11T08:33:53.966Z"
   },
   {
    "duration": 40,
    "start_time": "2024-07-11T08:33:54.015Z"
   },
   {
    "duration": 51,
    "start_time": "2024-07-11T08:33:54.056Z"
   },
   {
    "duration": 199,
    "start_time": "2024-07-11T08:33:54.109Z"
   },
   {
    "duration": 8,
    "start_time": "2024-07-11T08:33:54.309Z"
   },
   {
    "duration": 47,
    "start_time": "2024-07-11T08:33:54.319Z"
   },
   {
    "duration": 64,
    "start_time": "2024-07-11T08:33:54.370Z"
   },
   {
    "duration": 40,
    "start_time": "2024-07-11T08:33:54.435Z"
   },
   {
    "duration": 6,
    "start_time": "2024-07-11T08:33:54.477Z"
   },
   {
    "duration": 53,
    "start_time": "2024-07-11T08:33:54.484Z"
   },
   {
    "duration": 48,
    "start_time": "2024-07-11T08:33:54.538Z"
   },
   {
    "duration": 39,
    "start_time": "2024-07-11T08:33:54.587Z"
   },
   {
    "duration": 171,
    "start_time": "2024-07-11T08:33:54.628Z"
   },
   {
    "duration": 146,
    "start_time": "2024-07-11T08:33:54.800Z"
   },
   {
    "duration": 146,
    "start_time": "2024-07-11T08:33:54.947Z"
   },
   {
    "duration": 6,
    "start_time": "2024-07-11T08:33:55.094Z"
   },
   {
    "duration": 176,
    "start_time": "2024-07-11T08:33:55.102Z"
   },
   {
    "duration": 51,
    "start_time": "2024-07-28T12:30:11.580Z"
   },
   {
    "duration": 1151,
    "start_time": "2024-07-28T12:30:17.897Z"
   },
   {
    "duration": 3,
    "start_time": "2024-07-28T12:30:19.050Z"
   },
   {
    "duration": 787,
    "start_time": "2024-07-28T12:30:19.054Z"
   },
   {
    "duration": 11,
    "start_time": "2024-07-28T12:30:19.843Z"
   },
   {
    "duration": 48,
    "start_time": "2024-07-28T12:30:19.856Z"
   },
   {
    "duration": 6,
    "start_time": "2024-07-28T12:30:19.906Z"
   },
   {
    "duration": 10,
    "start_time": "2024-07-28T12:30:19.914Z"
   },
   {
    "duration": 15,
    "start_time": "2024-07-28T12:30:19.926Z"
   },
   {
    "duration": 8,
    "start_time": "2024-07-28T12:30:19.942Z"
   },
   {
    "duration": 145,
    "start_time": "2024-07-28T12:30:19.953Z"
   },
   {
    "duration": 9,
    "start_time": "2024-07-28T12:30:20.100Z"
   },
   {
    "duration": 100,
    "start_time": "2024-07-28T12:30:20.110Z"
   },
   {
    "duration": 83,
    "start_time": "2024-07-28T12:30:20.212Z"
   },
   {
    "duration": 102,
    "start_time": "2024-07-28T12:30:20.297Z"
   },
   {
    "duration": 68,
    "start_time": "2024-07-28T12:30:20.401Z"
   },
   {
    "duration": 53,
    "start_time": "2024-07-28T12:30:20.471Z"
   },
   {
    "duration": 31,
    "start_time": "2024-07-28T12:30:20.526Z"
   },
   {
    "duration": 27,
    "start_time": "2024-07-28T12:30:20.559Z"
   },
   {
    "duration": 19,
    "start_time": "2024-07-28T12:30:20.588Z"
   },
   {
    "duration": 5,
    "start_time": "2024-07-28T12:30:20.609Z"
   },
   {
    "duration": 25,
    "start_time": "2024-07-28T12:30:20.615Z"
   },
   {
    "duration": 5,
    "start_time": "2024-07-28T12:30:20.641Z"
   },
   {
    "duration": 14,
    "start_time": "2024-07-28T12:30:20.647Z"
   },
   {
    "duration": 359,
    "start_time": "2024-07-28T12:30:20.662Z"
   },
   {
    "duration": 21,
    "start_time": "2024-07-28T12:30:21.023Z"
   },
   {
    "duration": 4,
    "start_time": "2024-07-28T12:30:21.046Z"
   },
   {
    "duration": 20,
    "start_time": "2024-07-28T12:30:21.051Z"
   },
   {
    "duration": 6,
    "start_time": "2024-07-28T12:30:21.075Z"
   },
   {
    "duration": 76,
    "start_time": "2024-07-28T12:30:21.082Z"
   },
   {
    "duration": 13,
    "start_time": "2024-07-28T12:30:21.159Z"
   },
   {
    "duration": 116,
    "start_time": "2024-07-28T12:30:21.174Z"
   },
   {
    "duration": 30,
    "start_time": "2024-07-28T12:30:21.291Z"
   },
   {
    "duration": 58,
    "start_time": "2024-07-28T12:30:21.322Z"
   },
   {
    "duration": 7,
    "start_time": "2024-07-28T12:30:21.382Z"
   },
   {
    "duration": 9,
    "start_time": "2024-07-28T12:30:21.391Z"
   },
   {
    "duration": 23,
    "start_time": "2024-07-28T12:30:21.402Z"
   },
   {
    "duration": 31,
    "start_time": "2024-07-28T12:30:21.427Z"
   },
   {
    "duration": 172,
    "start_time": "2024-07-28T12:30:21.460Z"
   },
   {
    "duration": 9,
    "start_time": "2024-07-28T12:30:21.637Z"
   },
   {
    "duration": 34,
    "start_time": "2024-07-28T12:30:21.648Z"
   },
   {
    "duration": 75,
    "start_time": "2024-07-28T12:30:21.684Z"
   },
   {
    "duration": 31,
    "start_time": "2024-07-28T12:30:21.761Z"
   },
   {
    "duration": 6,
    "start_time": "2024-07-28T12:30:21.794Z"
   },
   {
    "duration": 21,
    "start_time": "2024-07-28T12:30:21.801Z"
   },
   {
    "duration": 16,
    "start_time": "2024-07-28T12:30:21.824Z"
   },
   {
    "duration": 16,
    "start_time": "2024-07-28T12:30:21.842Z"
   },
   {
    "duration": 147,
    "start_time": "2024-07-28T12:30:21.860Z"
   },
   {
    "duration": 147,
    "start_time": "2024-07-28T12:30:22.008Z"
   },
   {
    "duration": 143,
    "start_time": "2024-07-28T12:30:22.157Z"
   },
   {
    "duration": 7,
    "start_time": "2024-07-28T12:30:22.301Z"
   },
   {
    "duration": 198,
    "start_time": "2024-07-28T12:30:22.309Z"
   },
   {
    "duration": 63,
    "start_time": "2024-07-28T12:31:24.255Z"
   }
  ],
  "kernelspec": {
   "display_name": "Python 3 (ipykernel)",
   "language": "python",
   "name": "python3"
  },
  "language_info": {
   "codemirror_mode": {
    "name": "ipython",
    "version": 3
   },
   "file_extension": ".py",
   "mimetype": "text/x-python",
   "name": "python",
   "nbconvert_exporter": "python",
   "pygments_lexer": "ipython3",
   "version": "3.9.5"
  },
  "toc": {
   "base_numbering": 1,
   "nav_menu": {},
   "number_sections": true,
   "sideBar": true,
   "skip_h1_title": true,
   "title_cell": "Table of Contents",
   "title_sidebar": "Contents",
   "toc_cell": false,
   "toc_position": {},
   "toc_section_display": true,
   "toc_window_display": false
  }
 },
 "nbformat": 4,
 "nbformat_minor": 2
}
